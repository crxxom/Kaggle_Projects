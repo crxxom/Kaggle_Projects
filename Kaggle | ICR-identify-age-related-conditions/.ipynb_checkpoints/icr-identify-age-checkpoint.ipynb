{
 "cells": [
  {
   "cell_type": "markdown",
   "id": "bb01cb7d",
   "metadata": {
    "papermill": {
     "duration": 0.006369,
     "end_time": "2023-06-11T06:17:37.642033",
     "exception": false,
     "start_time": "2023-06-11T06:17:37.635664",
     "status": "completed"
    },
    "tags": []
   },
   "source": [
    "notebook based on \n",
    "\n",
    "SAMUEL https://www.kaggle.com/code/muelsamu/simple-tabpfn-approach-for-score-of-15-in-1-min\n",
    "\n",
    "@nomuraryota https://www.kaggle.com/nomuraryota work"
   ]
  },
  {
   "cell_type": "code",
   "execution_count": 1,
   "id": "e9d8dc2e",
   "metadata": {
    "execution": {
     "iopub.execute_input": "2023-06-11T06:17:37.654475Z",
     "iopub.status.busy": "2023-06-11T06:17:37.653738Z",
     "iopub.status.idle": "2023-06-11T06:17:51.949983Z",
     "shell.execute_reply": "2023-06-11T06:17:51.948638Z"
    },
    "papermill": {
     "duration": 14.306657,
     "end_time": "2023-06-11T06:17:51.953065",
     "exception": false,
     "start_time": "2023-06-11T06:17:37.646408",
     "status": "completed"
    },
    "tags": []
   },
   "outputs": [
    {
     "name": "stdout",
     "output_type": "stream",
     "text": [
      "Collecting tabpfn\n",
      "  Downloading tabpfn-0.1.9-py3-none-any.whl (156 kB)\n",
      "\u001b[2K     \u001b[90m━━━━━━━━━━━━━━━━━━━━━━━━━━━━━━━━━━━━━━━\u001b[0m \u001b[32m156.6/156.6 kB\u001b[0m \u001b[31m4.4 MB/s\u001b[0m eta \u001b[36m0:00:00\u001b[0m\n",
      "\u001b[?25hRequirement already satisfied: requests>=2.23.0 in /Users/jadonng/opt/anaconda3/lib/python3.9/site-packages (from tabpfn) (2.28.1)\n",
      "Requirement already satisfied: pyyaml>=5.4.1 in /Users/jadonng/opt/anaconda3/lib/python3.9/site-packages (from tabpfn) (6.0)\n",
      "Requirement already satisfied: torch>=1.9.0 in /Users/jadonng/opt/anaconda3/lib/python3.9/site-packages (from tabpfn) (1.13.1)\n",
      "Requirement already satisfied: numpy>=1.21.2 in /Users/jadonng/opt/anaconda3/lib/python3.9/site-packages (from tabpfn) (1.21.5)\n",
      "Requirement already satisfied: scikit-learn>=0.24.2 in /Users/jadonng/opt/anaconda3/lib/python3.9/site-packages (from tabpfn) (1.0.2)\n",
      "Requirement already satisfied: certifi>=2017.4.17 in /Users/jadonng/opt/anaconda3/lib/python3.9/site-packages (from requests>=2.23.0->tabpfn) (2022.9.24)\n",
      "Requirement already satisfied: urllib3<1.27,>=1.21.1 in /Users/jadonng/opt/anaconda3/lib/python3.9/site-packages (from requests>=2.23.0->tabpfn) (1.26.11)\n",
      "Requirement already satisfied: charset-normalizer<3,>=2 in /Users/jadonng/opt/anaconda3/lib/python3.9/site-packages (from requests>=2.23.0->tabpfn) (2.0.4)\n",
      "Requirement already satisfied: idna<4,>=2.5 in /Users/jadonng/opt/anaconda3/lib/python3.9/site-packages (from requests>=2.23.0->tabpfn) (3.3)\n",
      "Requirement already satisfied: joblib>=0.11 in /Users/jadonng/opt/anaconda3/lib/python3.9/site-packages (from scikit-learn>=0.24.2->tabpfn) (1.1.0)\n",
      "Requirement already satisfied: scipy>=1.1.0 in /Users/jadonng/opt/anaconda3/lib/python3.9/site-packages (from scikit-learn>=0.24.2->tabpfn) (1.9.1)\n",
      "Requirement already satisfied: threadpoolctl>=2.0.0 in /Users/jadonng/opt/anaconda3/lib/python3.9/site-packages (from scikit-learn>=0.24.2->tabpfn) (2.2.0)\n",
      "Requirement already satisfied: typing-extensions in /Users/jadonng/opt/anaconda3/lib/python3.9/site-packages (from torch>=1.9.0->tabpfn) (4.3.0)\n",
      "Installing collected packages: tabpfn\n",
      "Successfully installed tabpfn-0.1.9\n"
     ]
    }
   ],
   "source": [
    "!pip install tabpfn"
   ]
  },
  {
   "cell_type": "code",
   "execution_count": 2,
   "id": "cba99b97",
   "metadata": {
    "execution": {
     "iopub.execute_input": "2023-06-11T06:17:51.965046Z",
     "iopub.status.busy": "2023-06-11T06:17:51.964716Z",
     "iopub.status.idle": "2023-06-11T06:17:54.957723Z",
     "shell.execute_reply": "2023-06-11T06:17:54.956363Z"
    },
    "papermill": {
     "duration": 3.002001,
     "end_time": "2023-06-11T06:17:54.960460",
     "exception": false,
     "start_time": "2023-06-11T06:17:51.958459",
     "status": "completed"
    },
    "tags": []
   },
   "outputs": [],
   "source": [
    "!mkdir -p /opt/conda/lib/python3.10/site-packages/tabpfn/models_diff\n",
    "!cp /kaggle/input/pip-packages-icr/pip-packages/prior_diff_real_checkpoint_n_0_epoch_100.cpkt /opt/conda/lib/python3.10/site-packages/tabpfn/models_diff/"
   ]
  },
  {
   "cell_type": "code",
   "execution_count": 3,
   "id": "411f58c4",
   "metadata": {},
   "outputs": [
    {
     "name": "stdout",
     "output_type": "stream",
     "text": [
      "Collecting catboost\n",
      "  Using cached catboost-1.2.tar.gz (95.9 MB)\n",
      "  Installing build dependencies ... \u001b[?25ldone\n",
      "\u001b[?25h  Getting requirements to build wheel ... \u001b[?25ldone\n",
      "\u001b[?25h  Preparing metadata (pyproject.toml) ... \u001b[?25ldone\n",
      "\u001b[?25hRequirement already satisfied: pandas>=0.24 in /Users/jadonng/opt/anaconda3/lib/python3.9/site-packages (from catboost) (1.4.4)\n",
      "Collecting graphviz\n",
      "  Using cached graphviz-0.20.1-py3-none-any.whl (47 kB)\n",
      "Requirement already satisfied: scipy in /Users/jadonng/opt/anaconda3/lib/python3.9/site-packages (from catboost) (1.9.1)\n",
      "Requirement already satisfied: matplotlib in /Users/jadonng/opt/anaconda3/lib/python3.9/site-packages (from catboost) (3.5.2)\n",
      "Requirement already satisfied: six in /Users/jadonng/opt/anaconda3/lib/python3.9/site-packages (from catboost) (1.16.0)\n",
      "Requirement already satisfied: numpy>=1.16.0 in /Users/jadonng/opt/anaconda3/lib/python3.9/site-packages (from catboost) (1.21.5)\n",
      "Requirement already satisfied: plotly in /Users/jadonng/opt/anaconda3/lib/python3.9/site-packages (from catboost) (5.9.0)\n",
      "Requirement already satisfied: python-dateutil>=2.8.1 in /Users/jadonng/opt/anaconda3/lib/python3.9/site-packages (from pandas>=0.24->catboost) (2.8.2)\n",
      "Requirement already satisfied: pytz>=2020.1 in /Users/jadonng/opt/anaconda3/lib/python3.9/site-packages (from pandas>=0.24->catboost) (2023.3)\n",
      "Requirement already satisfied: fonttools>=4.22.0 in /Users/jadonng/opt/anaconda3/lib/python3.9/site-packages (from matplotlib->catboost) (4.25.0)\n",
      "Requirement already satisfied: packaging>=20.0 in /Users/jadonng/opt/anaconda3/lib/python3.9/site-packages (from matplotlib->catboost) (21.3)\n",
      "Requirement already satisfied: pyparsing>=2.2.1 in /Users/jadonng/opt/anaconda3/lib/python3.9/site-packages (from matplotlib->catboost) (3.0.9)\n",
      "Requirement already satisfied: cycler>=0.10 in /Users/jadonng/opt/anaconda3/lib/python3.9/site-packages (from matplotlib->catboost) (0.11.0)\n",
      "Requirement already satisfied: pillow>=6.2.0 in /Users/jadonng/opt/anaconda3/lib/python3.9/site-packages (from matplotlib->catboost) (9.2.0)\n",
      "Requirement already satisfied: kiwisolver>=1.0.1 in /Users/jadonng/opt/anaconda3/lib/python3.9/site-packages (from matplotlib->catboost) (1.4.2)\n",
      "Requirement already satisfied: tenacity>=6.2.0 in /Users/jadonng/opt/anaconda3/lib/python3.9/site-packages (from plotly->catboost) (8.0.1)\n",
      "Building wheels for collected packages: catboost\n",
      "  Building wheel for catboost (pyproject.toml) ... \u001b[?25lerror\n",
      "  \u001b[1;31merror\u001b[0m: \u001b[1msubprocess-exited-with-error\u001b[0m\n",
      "  \n",
      "  \u001b[31m×\u001b[0m \u001b[32mBuilding wheel for catboost \u001b[0m\u001b[1;32m(\u001b[0m\u001b[32mpyproject.toml\u001b[0m\u001b[1;32m)\u001b[0m did not run successfully.\n",
      "  \u001b[31m│\u001b[0m exit code: \u001b[1;36m1\u001b[0m\n",
      "  \u001b[31m╰─>\u001b[0m \u001b[31m[39 lines of output]\u001b[0m\n",
      "  \u001b[31m   \u001b[0m running bdist_wheel\n",
      "  \u001b[31m   \u001b[0m running build\n",
      "  \u001b[31m   \u001b[0m running build_py\n",
      "  \u001b[31m   \u001b[0m creating build\n",
      "  \u001b[31m   \u001b[0m creating build/lib.macosx-10.9-x86_64-cpython-39\n",
      "  \u001b[31m   \u001b[0m creating build/lib.macosx-10.9-x86_64-cpython-39/catboost\n",
      "  \u001b[31m   \u001b[0m copying catboost/monoforest.py -> build/lib.macosx-10.9-x86_64-cpython-39/catboost\n",
      "  \u001b[31m   \u001b[0m copying catboost/plot_helpers.py -> build/lib.macosx-10.9-x86_64-cpython-39/catboost\n",
      "  \u001b[31m   \u001b[0m copying catboost/metrics.py -> build/lib.macosx-10.9-x86_64-cpython-39/catboost\n",
      "  \u001b[31m   \u001b[0m copying catboost/version.py -> build/lib.macosx-10.9-x86_64-cpython-39/catboost\n",
      "  \u001b[31m   \u001b[0m copying catboost/text_processing.py -> build/lib.macosx-10.9-x86_64-cpython-39/catboost\n",
      "  \u001b[31m   \u001b[0m copying catboost/datasets.py -> build/lib.macosx-10.9-x86_64-cpython-39/catboost\n",
      "  \u001b[31m   \u001b[0m copying catboost/__init__.py -> build/lib.macosx-10.9-x86_64-cpython-39/catboost\n",
      "  \u001b[31m   \u001b[0m copying catboost/core.py -> build/lib.macosx-10.9-x86_64-cpython-39/catboost\n",
      "  \u001b[31m   \u001b[0m copying catboost/utils.py -> build/lib.macosx-10.9-x86_64-cpython-39/catboost\n",
      "  \u001b[31m   \u001b[0m copying catboost/dev_utils.py -> build/lib.macosx-10.9-x86_64-cpython-39/catboost\n",
      "  \u001b[31m   \u001b[0m creating build/lib.macosx-10.9-x86_64-cpython-39/catboost/widget\n",
      "  \u001b[31m   \u001b[0m copying catboost/widget/__init__.py -> build/lib.macosx-10.9-x86_64-cpython-39/catboost/widget\n",
      "  \u001b[31m   \u001b[0m copying catboost/widget/metrics_plotter.py -> build/lib.macosx-10.9-x86_64-cpython-39/catboost/widget\n",
      "  \u001b[31m   \u001b[0m copying catboost/widget/ipythonwidget.py -> build/lib.macosx-10.9-x86_64-cpython-39/catboost/widget\n",
      "  \u001b[31m   \u001b[0m copying catboost/widget/callbacks.py -> build/lib.macosx-10.9-x86_64-cpython-39/catboost/widget\n",
      "  \u001b[31m   \u001b[0m creating build/lib.macosx-10.9-x86_64-cpython-39/catboost/eval\n",
      "  \u001b[31m   \u001b[0m copying catboost/eval/catboost_evaluation.py -> build/lib.macosx-10.9-x86_64-cpython-39/catboost/eval\n",
      "  \u001b[31m   \u001b[0m copying catboost/eval/_fold_model.py -> build/lib.macosx-10.9-x86_64-cpython-39/catboost/eval\n",
      "  \u001b[31m   \u001b[0m copying catboost/eval/_readers.py -> build/lib.macosx-10.9-x86_64-cpython-39/catboost/eval\n",
      "  \u001b[31m   \u001b[0m copying catboost/eval/log_config.py -> build/lib.macosx-10.9-x86_64-cpython-39/catboost/eval\n",
      "  \u001b[31m   \u001b[0m copying catboost/eval/_splitter.py -> build/lib.macosx-10.9-x86_64-cpython-39/catboost/eval\n",
      "  \u001b[31m   \u001b[0m copying catboost/eval/__init__.py -> build/lib.macosx-10.9-x86_64-cpython-39/catboost/eval\n",
      "  \u001b[31m   \u001b[0m copying catboost/eval/execution_case.py -> build/lib.macosx-10.9-x86_64-cpython-39/catboost/eval\n",
      "  \u001b[31m   \u001b[0m copying catboost/eval/_fold_storage.py -> build/lib.macosx-10.9-x86_64-cpython-39/catboost/eval\n",
      "  \u001b[31m   \u001b[0m copying catboost/eval/factor_utils.py -> build/lib.macosx-10.9-x86_64-cpython-39/catboost/eval\n",
      "  \u001b[31m   \u001b[0m copying catboost/eval/utils.py -> build/lib.macosx-10.9-x86_64-cpython-39/catboost/eval\n",
      "  \u001b[31m   \u001b[0m copying catboost/eval/evaluation_result.py -> build/lib.macosx-10.9-x86_64-cpython-39/catboost/eval\n",
      "  \u001b[31m   \u001b[0m copying catboost/eval/_fold_models_handler.py -> build/lib.macosx-10.9-x86_64-cpython-39/catboost/eval\n",
      "  \u001b[31m   \u001b[0m running build_ext\n",
      "  \u001b[31m   \u001b[0m Buildling _catboost with cmake and ninja\n",
      "  \u001b[31m   \u001b[0m target_platform=darwin-x86_64. Building targets _catboost with PIC\n",
      "  \u001b[31m   \u001b[0m Running \"cmake /private/var/folders/fm/rwn89n9x1b94vk3rbr72zvtw0000gn/T/pip-install-lql4zjj9/catboost_b3d48d5335ce46ca856341d5ce1b9ce3/catboost_all_src -B /private/var/folders/fm/rwn89n9x1b94vk3rbr72zvtw0000gn/T/pip-install-lql4zjj9/catboost_b3d48d5335ce46ca856341d5ce1b9ce3/build/temp.macosx-10.9-x86_64-cpython-39 -G Ninja -DCMAKE_BUILD_TYPE=Release -DCMAKE_TOOLCHAIN_FILE=/private/var/folders/fm/rwn89n9x1b94vk3rbr72zvtw0000gn/T/pip-install-lql4zjj9/catboost_b3d48d5335ce46ca856341d5ce1b9ce3/catboost_all_src/build/toolchains/clang.toolchain --log-level=VERBOSE -DCMAKE_POSITION_INDEPENDENT_CODE=On -DCATBOOST_COMPONENTS=python-package -DCMAKE_OSX_DEPLOYMENT_TARGET=11.0 -DHAVE_CUDA=no -DPython3_ROOT_DIR=/Users/jadonng/opt/anaconda3\"\n",
      "  \u001b[31m   \u001b[0m error: [Errno 2] No such file or directory: 'cmake'\n",
      "  \u001b[31m   \u001b[0m \u001b[31m[end of output]\u001b[0m\n",
      "  \n",
      "  \u001b[1;35mnote\u001b[0m: This error originates from a subprocess, and is likely not a problem with pip.\n",
      "\u001b[31m  ERROR: Failed building wheel for catboost\u001b[0m\u001b[31m\n",
      "\u001b[0m\u001b[?25hFailed to build catboost\n",
      "\u001b[31mERROR: Could not build wheels for catboost, which is required to install pyproject.toml-based projects\u001b[0m\u001b[31m\n",
      "\u001b[0mNote: you may need to restart the kernel to use updated packages.\n"
     ]
    }
   ],
   "source": [
    "pip install catboost"
   ]
  },
  {
   "cell_type": "code",
   "execution_count": 2,
   "id": "25137d7d",
   "metadata": {
    "execution": {
     "iopub.execute_input": "2023-06-11T06:17:54.972030Z",
     "iopub.status.busy": "2023-06-11T06:17:54.971722Z",
     "iopub.status.idle": "2023-06-11T06:18:04.173450Z",
     "shell.execute_reply": "2023-06-11T06:18:04.172434Z"
    },
    "papermill": {
     "duration": 9.210255,
     "end_time": "2023-06-11T06:18:04.176014",
     "exception": false,
     "start_time": "2023-06-11T06:17:54.965759",
     "status": "completed"
    },
    "tags": []
   },
   "outputs": [
    {
     "ename": "ModuleNotFoundError",
     "evalue": "No module named 'catboost'",
     "output_type": "error",
     "traceback": [
      "\u001b[0;31m---------------------------------------------------------------------------\u001b[0m",
      "\u001b[0;31mModuleNotFoundError\u001b[0m                       Traceback (most recent call last)",
      "\u001b[0;32m/var/folders/fm/rwn89n9x1b94vk3rbr72zvtw0000gn/T/ipykernel_31518/133110901.py\u001b[0m in \u001b[0;36m<module>\u001b[0;34m\u001b[0m\n\u001b[1;32m      6\u001b[0m \u001b[0;32mfrom\u001b[0m \u001b[0msklearn\u001b[0m\u001b[0;34m.\u001b[0m\u001b[0mneural_network\u001b[0m \u001b[0;32mimport\u001b[0m \u001b[0mMLPClassifier\u001b[0m\u001b[0;34m\u001b[0m\u001b[0;34m\u001b[0m\u001b[0m\n\u001b[1;32m      7\u001b[0m \u001b[0;32mfrom\u001b[0m \u001b[0msklearn\u001b[0m\u001b[0;34m.\u001b[0m\u001b[0mimpute\u001b[0m \u001b[0;32mimport\u001b[0m \u001b[0mSimpleImputer\u001b[0m\u001b[0;34m\u001b[0m\u001b[0;34m\u001b[0m\u001b[0m\n\u001b[0;32m----> 8\u001b[0;31m \u001b[0;32mfrom\u001b[0m \u001b[0mcatboost\u001b[0m \u001b[0;32mimport\u001b[0m \u001b[0mPool\u001b[0m\u001b[0;34m,\u001b[0m \u001b[0mCatBoostClassifier\u001b[0m\u001b[0;34m\u001b[0m\u001b[0;34m\u001b[0m\u001b[0m\n\u001b[0m\u001b[1;32m      9\u001b[0m \u001b[0;32mimport\u001b[0m \u001b[0mxgboost\u001b[0m\u001b[0;34m\u001b[0m\u001b[0;34m\u001b[0m\u001b[0m\n\u001b[1;32m     10\u001b[0m \u001b[0;32mfrom\u001b[0m \u001b[0mtabpfn\u001b[0m \u001b[0;32mimport\u001b[0m \u001b[0mTabPFNClassifier\u001b[0m\u001b[0;34m\u001b[0m\u001b[0;34m\u001b[0m\u001b[0m\n",
      "\u001b[0;31mModuleNotFoundError\u001b[0m: No module named 'catboost'"
     ]
    }
   ],
   "source": [
    "import numpy as np\n",
    "import pandas as pd\n",
    "import json\n",
    "from sklearn.base import BaseEstimator\n",
    "from sklearn.ensemble import RandomForestClassifier\n",
    "from sklearn.neural_network import MLPClassifier\n",
    "from sklearn.impute import SimpleImputer\n",
    "from catboost import Pool, CatBoostClassifier\n",
    "import xgboost\n",
    "from tabpfn import TabPFNClassifier\n",
    "\n",
    "pd.set_option('display.max_columns', None)\n",
    "pd.set_option('display.max_rows', None)\n",
    "\n",
    "import warnings\n",
    "warnings.filterwarnings(\"ignore\")"
   ]
  },
  {
   "cell_type": "code",
   "execution_count": 4,
   "id": "a30444e3",
   "metadata": {
    "execution": {
     "iopub.execute_input": "2023-06-11T06:18:04.207738Z",
     "iopub.status.busy": "2023-06-11T06:18:04.207453Z",
     "iopub.status.idle": "2023-06-11T06:18:04.263768Z",
     "shell.execute_reply": "2023-06-11T06:18:04.262868Z"
    },
    "papermill": {
     "duration": 0.06441,
     "end_time": "2023-06-11T06:18:04.265969",
     "exception": false,
     "start_time": "2023-06-11T06:18:04.201559",
     "status": "completed"
    },
    "tags": []
   },
   "outputs": [],
   "source": [
    "train_df = pd.read_csv('train.csv')\n",
    "greeks_df = pd.read_csv('greeks.csv')\n",
    "test_df = pd.read_csv('test.csv')"
   ]
  },
  {
   "cell_type": "code",
   "execution_count": 5,
   "id": "b89fb6de",
   "metadata": {
    "execution": {
     "iopub.execute_input": "2023-06-11T06:18:04.306417Z",
     "iopub.status.busy": "2023-06-11T06:18:04.305605Z",
     "iopub.status.idle": "2023-06-11T06:18:04.312821Z",
     "shell.execute_reply": "2023-06-11T06:18:04.311926Z"
    },
    "papermill": {
     "duration": 0.0154,
     "end_time": "2023-06-11T06:18:04.314831",
     "exception": false,
     "start_time": "2023-06-11T06:18:04.299431",
     "status": "completed"
    },
    "tags": []
   },
   "outputs": [],
   "source": [
    "first_category = train_df.EJ.unique()[0]\n",
    "train_df.EJ = train_df.EJ.eq(first_category).astype('int')\n",
    "test_df.EJ = test_df.EJ.eq(first_category).astype('int')"
   ]
  },
  {
   "cell_type": "code",
   "execution_count": 6,
   "id": "8e2f6576",
   "metadata": {
    "execution": {
     "iopub.execute_input": "2023-06-11T06:18:04.327359Z",
     "iopub.status.busy": "2023-06-11T06:18:04.326612Z",
     "iopub.status.idle": "2023-06-11T06:18:04.349904Z",
     "shell.execute_reply": "2023-06-11T06:18:04.349069Z"
    },
    "papermill": {
     "duration": 0.031598,
     "end_time": "2023-06-11T06:18:04.351953",
     "exception": false,
     "start_time": "2023-06-11T06:18:04.320355",
     "status": "completed"
    },
    "tags": []
   },
   "outputs": [],
   "source": [
    "from datetime import datetime\n",
    "times = greeks_df.Epsilon.copy()\n",
    "times[greeks_df.Epsilon != 'Unknown'] = greeks_df.Epsilon[greeks_df.Epsilon != 'Unknown'].map(lambda x: datetime.strptime(x,'%m/%d/%Y').toordinal())\n",
    "times[greeks_df.Epsilon == 'Unknown'] = np.nan"
   ]
  },
  {
   "cell_type": "code",
   "execution_count": 7,
   "id": "c8a306fe",
   "metadata": {
    "execution": {
     "iopub.execute_input": "2023-06-11T06:18:04.363736Z",
     "iopub.status.busy": "2023-06-11T06:18:04.362908Z",
     "iopub.status.idle": "2023-06-11T06:18:04.367683Z",
     "shell.execute_reply": "2023-06-11T06:18:04.366811Z"
    },
    "papermill": {
     "duration": 0.013139,
     "end_time": "2023-06-11T06:18:04.370068",
     "exception": false,
     "start_time": "2023-06-11T06:18:04.356929",
     "status": "completed"
    },
    "tags": []
   },
   "outputs": [],
   "source": [
    "target_column = 'Class'\n",
    "predictor_columns = [n for n in train_df.columns if n != target_column and n != 'Id']"
   ]
  },
  {
   "cell_type": "code",
   "execution_count": 8,
   "id": "539c9fd5",
   "metadata": {
    "execution": {
     "iopub.execute_input": "2023-06-11T06:18:04.381683Z",
     "iopub.status.busy": "2023-06-11T06:18:04.381431Z",
     "iopub.status.idle": "2023-06-11T06:18:04.390362Z",
     "shell.execute_reply": "2023-06-11T06:18:04.389343Z"
    },
    "papermill": {
     "duration": 0.017095,
     "end_time": "2023-06-11T06:18:04.392453",
     "exception": false,
     "start_time": "2023-06-11T06:18:04.375358",
     "status": "completed"
    },
    "tags": []
   },
   "outputs": [],
   "source": [
    "class WeightedEnsemble(BaseEstimator):\n",
    "    def __init__(self):\n",
    "        self.classifiers = [xgboost.XGBClassifier(), TabPFNClassifier(N_ensemble_configurations=64, device='cuda:0')]\n",
    "        self.imputer = SimpleImputer(missing_values=np.nan, strategy='median')\n",
    "    \n",
    "    def fit(self, X, y):\n",
    "        unique_classes, y = np.unique(y, return_inverse=True)\n",
    "        self.classes_ = unique_classes\n",
    "        X = self.imputer.fit_transform(X)\n",
    "        for classifier in self.classifiers:\n",
    "            classifier.fit(X, y)\n",
    "    \n",
    "    def predict_proba(self, X):\n",
    "        X = self.imputer.transform(X)\n",
    "        probabilities = np.stack([classifier.predict_proba(X) for classifier in self.classifiers])\n",
    "        averaged_probabilities = np.mean(probabilities, axis=0)\n",
    "        class_0_est_instances = averaged_probabilities[:, 0].sum()\n",
    "        others_est_instances = averaged_probabilities[:, 1:].sum()\n",
    "        # Weighted probabilities based on class imbalance\n",
    "        new_probabilities = averaged_probabilities * np.array([[1/(class_0_est_instances if i==0 else others_est_instances) for i in range(averaged_probabilities.shape[1])]])\n",
    "        return new_probabilities / np.sum(new_probabilities, axis=1, keepdims=1)\n"
   ]
  },
  {
   "cell_type": "code",
   "execution_count": 9,
   "id": "9707f8e0",
   "metadata": {
    "execution": {
     "iopub.execute_input": "2023-06-11T06:18:04.405233Z",
     "iopub.status.busy": "2023-06-11T06:18:04.404473Z",
     "iopub.status.idle": "2023-06-11T06:18:04.414248Z",
     "shell.execute_reply": "2023-06-11T06:18:04.413320Z"
    },
    "papermill": {
     "duration": 0.018614,
     "end_time": "2023-06-11T06:18:04.416473",
     "exception": false,
     "start_time": "2023-06-11T06:18:04.397859",
     "status": "completed"
    },
    "tags": []
   },
   "outputs": [],
   "source": [
    "train_pred_and_time = pd.concat((train_df[predictor_columns], times), axis=1)\n",
    "test_predictors = np.array(test_df[predictor_columns])\n",
    "test_pred_and_time = np.concatenate((test_predictors, np.zeros((len(test_predictors), 1)) + train_pred_and_time.Epsilon.max() + 1), axis=1)"
   ]
  },
  {
   "cell_type": "code",
   "execution_count": 10,
   "id": "5d72031f",
   "metadata": {
    "execution": {
     "iopub.execute_input": "2023-06-11T06:18:04.430152Z",
     "iopub.status.busy": "2023-06-11T06:18:04.429307Z",
     "iopub.status.idle": "2023-06-11T06:18:10.058336Z",
     "shell.execute_reply": "2023-06-11T06:18:10.057513Z"
    },
    "papermill": {
     "duration": 5.638142,
     "end_time": "2023-06-11T06:18:10.060921",
     "exception": false,
     "start_time": "2023-06-11T06:18:04.422779",
     "status": "completed"
    },
    "tags": []
   },
   "outputs": [
    {
     "ename": "NameError",
     "evalue": "name 'xgboost' is not defined",
     "output_type": "error",
     "traceback": [
      "\u001b[0;31m---------------------------------------------------------------------------\u001b[0m",
      "\u001b[0;31mNameError\u001b[0m                                 Traceback (most recent call last)",
      "\u001b[0;32m/var/folders/fm/rwn89n9x1b94vk3rbr72zvtw0000gn/T/ipykernel_31518/3510020577.py\u001b[0m in \u001b[0;36m<module>\u001b[0;34m\u001b[0m\n\u001b[0;32m----> 1\u001b[0;31m \u001b[0mmodel\u001b[0m \u001b[0;34m=\u001b[0m \u001b[0mWeightedEnsemble\u001b[0m\u001b[0;34m(\u001b[0m\u001b[0;34m)\u001b[0m\u001b[0;34m\u001b[0m\u001b[0;34m\u001b[0m\u001b[0m\n\u001b[0m\u001b[1;32m      2\u001b[0m \u001b[0mmodel\u001b[0m\u001b[0;34m.\u001b[0m\u001b[0mfit\u001b[0m\u001b[0;34m(\u001b[0m\u001b[0mnp\u001b[0m\u001b[0;34m.\u001b[0m\u001b[0marray\u001b[0m\u001b[0;34m(\u001b[0m\u001b[0mtrain_pred_and_time\u001b[0m\u001b[0;34m)\u001b[0m\u001b[0;34m,\u001b[0m \u001b[0mnp\u001b[0m\u001b[0;34m.\u001b[0m\u001b[0marray\u001b[0m\u001b[0;34m(\u001b[0m\u001b[0mgreeks_df\u001b[0m\u001b[0;34m[\u001b[0m\u001b[0;34m'Alpha'\u001b[0m\u001b[0;34m]\u001b[0m\u001b[0;34m)\u001b[0m\u001b[0;34m)\u001b[0m\u001b[0;34m\u001b[0m\u001b[0;34m\u001b[0m\u001b[0m\n",
      "\u001b[0;32m/var/folders/fm/rwn89n9x1b94vk3rbr72zvtw0000gn/T/ipykernel_31518/922434074.py\u001b[0m in \u001b[0;36m__init__\u001b[0;34m(self)\u001b[0m\n\u001b[1;32m      1\u001b[0m \u001b[0;32mclass\u001b[0m \u001b[0mWeightedEnsemble\u001b[0m\u001b[0;34m(\u001b[0m\u001b[0mBaseEstimator\u001b[0m\u001b[0;34m)\u001b[0m\u001b[0;34m:\u001b[0m\u001b[0;34m\u001b[0m\u001b[0;34m\u001b[0m\u001b[0m\n\u001b[1;32m      2\u001b[0m     \u001b[0;32mdef\u001b[0m \u001b[0m__init__\u001b[0m\u001b[0;34m(\u001b[0m\u001b[0mself\u001b[0m\u001b[0;34m)\u001b[0m\u001b[0;34m:\u001b[0m\u001b[0;34m\u001b[0m\u001b[0;34m\u001b[0m\u001b[0m\n\u001b[0;32m----> 3\u001b[0;31m         \u001b[0mself\u001b[0m\u001b[0;34m.\u001b[0m\u001b[0mclassifiers\u001b[0m \u001b[0;34m=\u001b[0m \u001b[0;34m[\u001b[0m\u001b[0mxgboost\u001b[0m\u001b[0;34m.\u001b[0m\u001b[0mXGBClassifier\u001b[0m\u001b[0;34m(\u001b[0m\u001b[0;34m)\u001b[0m\u001b[0;34m,\u001b[0m \u001b[0mTabPFNClassifier\u001b[0m\u001b[0;34m(\u001b[0m\u001b[0mN_ensemble_configurations\u001b[0m\u001b[0;34m=\u001b[0m\u001b[0;36m64\u001b[0m\u001b[0;34m,\u001b[0m \u001b[0mdevice\u001b[0m\u001b[0;34m=\u001b[0m\u001b[0;34m'cuda:0'\u001b[0m\u001b[0;34m)\u001b[0m\u001b[0;34m]\u001b[0m\u001b[0;34m\u001b[0m\u001b[0;34m\u001b[0m\u001b[0m\n\u001b[0m\u001b[1;32m      4\u001b[0m         \u001b[0mself\u001b[0m\u001b[0;34m.\u001b[0m\u001b[0mimputer\u001b[0m \u001b[0;34m=\u001b[0m \u001b[0mSimpleImputer\u001b[0m\u001b[0;34m(\u001b[0m\u001b[0mmissing_values\u001b[0m\u001b[0;34m=\u001b[0m\u001b[0mnp\u001b[0m\u001b[0;34m.\u001b[0m\u001b[0mnan\u001b[0m\u001b[0;34m,\u001b[0m \u001b[0mstrategy\u001b[0m\u001b[0;34m=\u001b[0m\u001b[0;34m'median'\u001b[0m\u001b[0;34m)\u001b[0m\u001b[0;34m\u001b[0m\u001b[0;34m\u001b[0m\u001b[0m\n\u001b[1;32m      5\u001b[0m \u001b[0;34m\u001b[0m\u001b[0m\n",
      "\u001b[0;31mNameError\u001b[0m: name 'xgboost' is not defined"
     ]
    }
   ],
   "source": [
    "model = WeightedEnsemble()\n",
    "model.fit(np.array(train_pred_and_time), np.array(greeks_df['Alpha']))"
   ]
  },
  {
   "cell_type": "code",
   "execution_count": 13,
   "id": "aeea7db2",
   "metadata": {
    "execution": {
     "iopub.execute_input": "2023-06-11T06:18:10.075563Z",
     "iopub.status.busy": "2023-06-11T06:18:10.075253Z",
     "iopub.status.idle": "2023-06-11T06:18:15.267079Z",
     "shell.execute_reply": "2023-06-11T06:18:15.265904Z"
    },
    "papermill": {
     "duration": 5.201676,
     "end_time": "2023-06-11T06:18:15.269694",
     "exception": false,
     "start_time": "2023-06-11T06:18:10.068018",
     "status": "completed"
    },
    "tags": []
   },
   "outputs": [],
   "source": [
    "probabilities = model.predict_proba(test_pred_and_time)\n",
    "assert (model.classes_[0] == 'A')\n",
    "probabilities = np.concatenate((probabilities[:,:1], np.sum(probabilities[:,1:], 1, keepdims=True)), axis=1)"
   ]
  },
  {
   "cell_type": "code",
   "execution_count": 14,
   "id": "32d99736",
   "metadata": {
    "execution": {
     "iopub.execute_input": "2023-06-11T06:18:15.285654Z",
     "iopub.status.busy": "2023-06-11T06:18:15.285350Z",
     "iopub.status.idle": "2023-06-11T06:18:15.290064Z",
     "shell.execute_reply": "2023-06-11T06:18:15.289042Z"
    },
    "papermill": {
     "duration": 0.015395,
     "end_time": "2023-06-11T06:18:15.292683",
     "exception": false,
     "start_time": "2023-06-11T06:18:15.277288",
     "status": "completed"
    },
    "tags": []
   },
   "outputs": [],
   "source": [
    "p0 = probabilities[:,:1]\n",
    "p0[p0 > 0.86] = 1\n",
    "p0[p0 < 0.14] = 0"
   ]
  },
  {
   "cell_type": "code",
   "execution_count": 15,
   "id": "bc02ae1a",
   "metadata": {
    "execution": {
     "iopub.execute_input": "2023-06-11T06:18:15.305264Z",
     "iopub.status.busy": "2023-06-11T06:18:15.304971Z",
     "iopub.status.idle": "2023-06-11T06:18:15.316010Z",
     "shell.execute_reply": "2023-06-11T06:18:15.315119Z"
    },
    "papermill": {
     "duration": 0.01992,
     "end_time": "2023-06-11T06:18:15.318385",
     "exception": false,
     "start_time": "2023-06-11T06:18:15.298465",
     "status": "completed"
    },
    "tags": []
   },
   "outputs": [],
   "source": [
    "submission = pd.DataFrame(test_df[\"Id\"], columns=[\"Id\"])\n",
    "submission[\"class_0\"] = p0\n",
    "submission[\"class_1\"] = 1 - p0\n",
    "submission.to_csv('submission.csv', index=False)"
   ]
  },
  {
   "cell_type": "code",
   "execution_count": 16,
   "id": "b4ee664f",
   "metadata": {
    "execution": {
     "iopub.execute_input": "2023-06-11T06:18:15.333099Z",
     "iopub.status.busy": "2023-06-11T06:18:15.332312Z",
     "iopub.status.idle": "2023-06-11T06:18:15.351384Z",
     "shell.execute_reply": "2023-06-11T06:18:15.350205Z"
    },
    "papermill": {
     "duration": 0.028983,
     "end_time": "2023-06-11T06:18:15.354253",
     "exception": false,
     "start_time": "2023-06-11T06:18:15.325270",
     "status": "completed"
    },
    "tags": []
   },
   "outputs": [
    {
     "data": {
      "text/html": [
       "<div>\n",
       "<style scoped>\n",
       "    .dataframe tbody tr th:only-of-type {\n",
       "        vertical-align: middle;\n",
       "    }\n",
       "\n",
       "    .dataframe tbody tr th {\n",
       "        vertical-align: top;\n",
       "    }\n",
       "\n",
       "    .dataframe thead th {\n",
       "        text-align: right;\n",
       "    }\n",
       "</style>\n",
       "<table border=\"1\" class=\"dataframe\">\n",
       "  <thead>\n",
       "    <tr style=\"text-align: right;\">\n",
       "      <th></th>\n",
       "      <th>Id</th>\n",
       "      <th>class_0</th>\n",
       "      <th>class_1</th>\n",
       "    </tr>\n",
       "  </thead>\n",
       "  <tbody>\n",
       "    <tr>\n",
       "      <th>0</th>\n",
       "      <td>00eed32682bb</td>\n",
       "      <td>0.5</td>\n",
       "      <td>0.5</td>\n",
       "    </tr>\n",
       "    <tr>\n",
       "      <th>1</th>\n",
       "      <td>010ebe33f668</td>\n",
       "      <td>0.5</td>\n",
       "      <td>0.5</td>\n",
       "    </tr>\n",
       "    <tr>\n",
       "      <th>2</th>\n",
       "      <td>02fa521e1838</td>\n",
       "      <td>0.5</td>\n",
       "      <td>0.5</td>\n",
       "    </tr>\n",
       "    <tr>\n",
       "      <th>3</th>\n",
       "      <td>040e15f562a2</td>\n",
       "      <td>0.5</td>\n",
       "      <td>0.5</td>\n",
       "    </tr>\n",
       "    <tr>\n",
       "      <th>4</th>\n",
       "      <td>046e85c7cc7f</td>\n",
       "      <td>0.5</td>\n",
       "      <td>0.5</td>\n",
       "    </tr>\n",
       "  </tbody>\n",
       "</table>\n",
       "</div>"
      ],
      "text/plain": [
       "             Id  class_0  class_1\n",
       "0  00eed32682bb      0.5      0.5\n",
       "1  010ebe33f668      0.5      0.5\n",
       "2  02fa521e1838      0.5      0.5\n",
       "3  040e15f562a2      0.5      0.5\n",
       "4  046e85c7cc7f      0.5      0.5"
      ]
     },
     "execution_count": 16,
     "metadata": {},
     "output_type": "execute_result"
    }
   ],
   "source": [
    "submission_df = pd.read_csv('submission.csv')\n",
    "submission_df"
   ]
  }
 ],
 "metadata": {
  "kernelspec": {
   "display_name": "Python 3 (ipykernel)",
   "language": "python",
   "name": "python3"
  },
  "language_info": {
   "codemirror_mode": {
    "name": "ipython",
    "version": 3
   },
   "file_extension": ".py",
   "mimetype": "text/x-python",
   "name": "python",
   "nbconvert_exporter": "python",
   "pygments_lexer": "ipython3",
   "version": "3.9.13"
  },
  "papermill": {
   "default_parameters": {},
   "duration": 55.739809,
   "end_time": "2023-06-11T06:18:18.071009",
   "environment_variables": {},
   "exception": null,
   "input_path": "__notebook__.ipynb",
   "output_path": "__notebook__.ipynb",
   "parameters": {},
   "start_time": "2023-06-11T06:17:22.331200",
   "version": "2.4.0"
  }
 },
 "nbformat": 4,
 "nbformat_minor": 5
}
