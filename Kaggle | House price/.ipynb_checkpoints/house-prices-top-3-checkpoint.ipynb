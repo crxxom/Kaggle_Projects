{
 "cells": [
  {
   "cell_type": "markdown",
   "id": "53b71dfe",
   "metadata": {
    "_cell_guid": "b1076dfc-b9ad-4769-8c92-a6c4dae69d19",
    "_uuid": "8f2839f25d086af736a60e9eeb907d3b93b6e0e5",
    "papermill": {
     "duration": 0.024104,
     "end_time": "2023-06-20T14:35:50.042803",
     "exception": false,
     "start_time": "2023-06-20T14:35:50.018699",
     "status": "completed"
    },
    "tags": []
   },
   "source": [
    "![House Prices](https://t4.ftcdn.net/jpg/01/23/68/71/360_F_123687102_3rPakqjpruQ7hV0yImMYcSYBXGkTCwE5.jpg)"
   ]
  },
  {
   "cell_type": "markdown",
   "id": "3ff9ee80",
   "metadata": {
    "papermill": {
     "duration": 0.023871,
     "end_time": "2023-06-20T14:35:50.090566",
     "exception": false,
     "start_time": "2023-06-20T14:35:50.066695",
     "status": "completed"
    },
    "tags": []
   },
   "source": [
    "# **1. Import datasets and data visualisation tools and libraries**"
   ]
  },
  {
   "cell_type": "code",
   "execution_count": 1,
   "id": "26914ec3",
   "metadata": {
    "execution": {
     "iopub.execute_input": "2023-06-20T14:35:50.140823Z",
     "iopub.status.busy": "2023-06-20T14:35:50.140313Z",
     "iopub.status.idle": "2023-06-20T14:35:50.158526Z",
     "shell.execute_reply": "2023-06-20T14:35:50.157439Z"
    },
    "papermill": {
     "duration": 0.046378,
     "end_time": "2023-06-20T14:35:50.161070",
     "exception": false,
     "start_time": "2023-06-20T14:35:50.114692",
     "status": "completed"
    },
    "tags": []
   },
   "outputs": [
    {
     "name": "stdout",
     "output_type": "stream",
     "text": [
      "/kaggle/input/house-prices-advanced-regression-techniques/sample_submission.csv\n",
      "/kaggle/input/house-prices-advanced-regression-techniques/data_description.txt\n",
      "/kaggle/input/house-prices-advanced-regression-techniques/train.csv\n",
      "/kaggle/input/house-prices-advanced-regression-techniques/test.csv\n"
     ]
    }
   ],
   "source": [
    "import os\n",
    "for dirname, _, filenames in os.walk('/kaggle/input'):\n",
    "    for filename in filenames:\n",
    "        print(os.path.join(dirname, filename))"
   ]
  },
  {
   "cell_type": "markdown",
   "id": "def362d0",
   "metadata": {
    "papermill": {
     "duration": 0.023321,
     "end_time": "2023-06-20T14:35:50.208468",
     "exception": false,
     "start_time": "2023-06-20T14:35:50.185147",
     "status": "completed"
    },
    "tags": []
   },
   "source": [
    "### **1.1. Libraries**"
   ]
  },
  {
   "cell_type": "code",
   "execution_count": 1,
   "id": "ebd490c0",
   "metadata": {
    "execution": {
     "iopub.execute_input": "2023-06-20T14:35:50.258048Z",
     "iopub.status.busy": "2023-06-20T14:35:50.257633Z",
     "iopub.status.idle": "2023-06-20T14:35:53.900078Z",
     "shell.execute_reply": "2023-06-20T14:35:53.898778Z"
    },
    "papermill": {
     "duration": 3.670264,
     "end_time": "2023-06-20T14:35:53.902770",
     "exception": false,
     "start_time": "2023-06-20T14:35:50.232506",
     "status": "completed"
    },
    "tags": []
   },
   "outputs": [
    {
     "ename": "ModuleNotFoundError",
     "evalue": "No module named 'mlxtend'",
     "output_type": "error",
     "traceback": [
      "\u001b[0;31m---------------------------------------------------------------------------\u001b[0m",
      "\u001b[0;31mModuleNotFoundError\u001b[0m                       Traceback (most recent call last)",
      "\u001b[0;32m/var/folders/fm/rwn89n9x1b94vk3rbr72zvtw0000gn/T/ipykernel_67335/4145676622.py\u001b[0m in \u001b[0;36m<module>\u001b[0;34m\u001b[0m\n\u001b[1;32m     10\u001b[0m \u001b[0;32mfrom\u001b[0m \u001b[0msklearn\u001b[0m\u001b[0;34m.\u001b[0m\u001b[0mensemble\u001b[0m \u001b[0;32mimport\u001b[0m \u001b[0mRandomForestRegressor\u001b[0m\u001b[0;34m,\u001b[0m  \u001b[0mGradientBoostingRegressor\u001b[0m\u001b[0;34m\u001b[0m\u001b[0;34m\u001b[0m\u001b[0m\n\u001b[1;32m     11\u001b[0m \u001b[0;32mfrom\u001b[0m \u001b[0msklearn\u001b[0m\u001b[0;34m.\u001b[0m\u001b[0msvm\u001b[0m \u001b[0;32mimport\u001b[0m \u001b[0mSVR\u001b[0m\u001b[0;34m\u001b[0m\u001b[0;34m\u001b[0m\u001b[0m\n\u001b[0;32m---> 12\u001b[0;31m \u001b[0;32mfrom\u001b[0m \u001b[0mmlxtend\u001b[0m\u001b[0;34m.\u001b[0m\u001b[0mregressor\u001b[0m \u001b[0;32mimport\u001b[0m \u001b[0mStackingCVRegressor\u001b[0m\u001b[0;34m\u001b[0m\u001b[0;34m\u001b[0m\u001b[0m\n\u001b[0m\u001b[1;32m     13\u001b[0m \u001b[0;32mfrom\u001b[0m \u001b[0msklearn\u001b[0m\u001b[0;34m.\u001b[0m\u001b[0mkernel_ridge\u001b[0m \u001b[0;32mimport\u001b[0m \u001b[0mKernelRidge\u001b[0m\u001b[0;34m\u001b[0m\u001b[0;34m\u001b[0m\u001b[0m\n\u001b[1;32m     14\u001b[0m \u001b[0;32mfrom\u001b[0m \u001b[0msklearn\u001b[0m\u001b[0;34m.\u001b[0m\u001b[0mpipeline\u001b[0m \u001b[0;32mimport\u001b[0m \u001b[0mmake_pipeline\u001b[0m\u001b[0;34m\u001b[0m\u001b[0;34m\u001b[0m\u001b[0m\n",
      "\u001b[0;31mModuleNotFoundError\u001b[0m: No module named 'mlxtend'"
     ]
    }
   ],
   "source": [
    "import numpy as np\n",
    "import pandas as pd\n",
    "import matplotlib.pyplot as plt\n",
    "import seaborn as sns\n",
    "import warnings\n",
    "warnings.filterwarnings('ignore')\n",
    "\n",
    "from scipy.stats import skew\n",
    "from sklearn.linear_model import ElasticNet, Lasso,  BayesianRidge, LassoLarsIC\n",
    "from sklearn.ensemble import RandomForestRegressor,  GradientBoostingRegressor\n",
    "from sklearn.svm import SVR\n",
    "from mlxtend.regressor import StackingCVRegressor\n",
    "from sklearn.kernel_ridge import KernelRidge\n",
    "from sklearn.pipeline import make_pipeline\n",
    "from sklearn.preprocessing import RobustScaler\n",
    "from sklearn.base import BaseEstimator, TransformerMixin, RegressorMixin, clone\n",
    "from sklearn.model_selection import KFold, cross_val_score, train_test_split\n",
    "from sklearn.metrics import mean_squared_error\n",
    "import xgboost as xgb\n",
    "import lightgbm as lgb"
   ]
  },
  {
   "cell_type": "markdown",
   "id": "1a6a2202",
   "metadata": {
    "papermill": {
     "duration": 0.024366,
     "end_time": "2023-06-20T14:35:53.950978",
     "exception": false,
     "start_time": "2023-06-20T14:35:53.926612",
     "status": "completed"
    },
    "tags": []
   },
   "source": [
    "### **1.2. Training data**"
   ]
  },
  {
   "cell_type": "code",
   "execution_count": 2,
   "id": "d8e1f370",
   "metadata": {
    "execution": {
     "iopub.execute_input": "2023-06-20T14:35:54.000786Z",
     "iopub.status.busy": "2023-06-20T14:35:54.000176Z",
     "iopub.status.idle": "2023-06-20T14:35:54.095587Z",
     "shell.execute_reply": "2023-06-20T14:35:54.094225Z"
    },
    "papermill": {
     "duration": 0.123182,
     "end_time": "2023-06-20T14:35:54.098221",
     "exception": false,
     "start_time": "2023-06-20T14:35:53.975039",
     "status": "completed"
    },
    "tags": []
   },
   "outputs": [
    {
     "data": {
      "text/html": [
       "<div>\n",
       "<style scoped>\n",
       "    .dataframe tbody tr th:only-of-type {\n",
       "        vertical-align: middle;\n",
       "    }\n",
       "\n",
       "    .dataframe tbody tr th {\n",
       "        vertical-align: top;\n",
       "    }\n",
       "\n",
       "    .dataframe thead th {\n",
       "        text-align: right;\n",
       "    }\n",
       "</style>\n",
       "<table border=\"1\" class=\"dataframe\">\n",
       "  <thead>\n",
       "    <tr style=\"text-align: right;\">\n",
       "      <th></th>\n",
       "      <th>Id</th>\n",
       "      <th>MSSubClass</th>\n",
       "      <th>MSZoning</th>\n",
       "      <th>LotFrontage</th>\n",
       "      <th>LotArea</th>\n",
       "      <th>Street</th>\n",
       "      <th>Alley</th>\n",
       "      <th>LotShape</th>\n",
       "      <th>LandContour</th>\n",
       "      <th>Utilities</th>\n",
       "      <th>...</th>\n",
       "      <th>PoolArea</th>\n",
       "      <th>PoolQC</th>\n",
       "      <th>Fence</th>\n",
       "      <th>MiscFeature</th>\n",
       "      <th>MiscVal</th>\n",
       "      <th>MoSold</th>\n",
       "      <th>YrSold</th>\n",
       "      <th>SaleType</th>\n",
       "      <th>SaleCondition</th>\n",
       "      <th>SalePrice</th>\n",
       "    </tr>\n",
       "  </thead>\n",
       "  <tbody>\n",
       "    <tr>\n",
       "      <th>0</th>\n",
       "      <td>1</td>\n",
       "      <td>60</td>\n",
       "      <td>RL</td>\n",
       "      <td>65.0</td>\n",
       "      <td>8450</td>\n",
       "      <td>Pave</td>\n",
       "      <td>NaN</td>\n",
       "      <td>Reg</td>\n",
       "      <td>Lvl</td>\n",
       "      <td>AllPub</td>\n",
       "      <td>...</td>\n",
       "      <td>0</td>\n",
       "      <td>NaN</td>\n",
       "      <td>NaN</td>\n",
       "      <td>NaN</td>\n",
       "      <td>0</td>\n",
       "      <td>2</td>\n",
       "      <td>2008</td>\n",
       "      <td>WD</td>\n",
       "      <td>Normal</td>\n",
       "      <td>208500</td>\n",
       "    </tr>\n",
       "    <tr>\n",
       "      <th>1</th>\n",
       "      <td>2</td>\n",
       "      <td>20</td>\n",
       "      <td>RL</td>\n",
       "      <td>80.0</td>\n",
       "      <td>9600</td>\n",
       "      <td>Pave</td>\n",
       "      <td>NaN</td>\n",
       "      <td>Reg</td>\n",
       "      <td>Lvl</td>\n",
       "      <td>AllPub</td>\n",
       "      <td>...</td>\n",
       "      <td>0</td>\n",
       "      <td>NaN</td>\n",
       "      <td>NaN</td>\n",
       "      <td>NaN</td>\n",
       "      <td>0</td>\n",
       "      <td>5</td>\n",
       "      <td>2007</td>\n",
       "      <td>WD</td>\n",
       "      <td>Normal</td>\n",
       "      <td>181500</td>\n",
       "    </tr>\n",
       "    <tr>\n",
       "      <th>2</th>\n",
       "      <td>3</td>\n",
       "      <td>60</td>\n",
       "      <td>RL</td>\n",
       "      <td>68.0</td>\n",
       "      <td>11250</td>\n",
       "      <td>Pave</td>\n",
       "      <td>NaN</td>\n",
       "      <td>IR1</td>\n",
       "      <td>Lvl</td>\n",
       "      <td>AllPub</td>\n",
       "      <td>...</td>\n",
       "      <td>0</td>\n",
       "      <td>NaN</td>\n",
       "      <td>NaN</td>\n",
       "      <td>NaN</td>\n",
       "      <td>0</td>\n",
       "      <td>9</td>\n",
       "      <td>2008</td>\n",
       "      <td>WD</td>\n",
       "      <td>Normal</td>\n",
       "      <td>223500</td>\n",
       "    </tr>\n",
       "    <tr>\n",
       "      <th>3</th>\n",
       "      <td>4</td>\n",
       "      <td>70</td>\n",
       "      <td>RL</td>\n",
       "      <td>60.0</td>\n",
       "      <td>9550</td>\n",
       "      <td>Pave</td>\n",
       "      <td>NaN</td>\n",
       "      <td>IR1</td>\n",
       "      <td>Lvl</td>\n",
       "      <td>AllPub</td>\n",
       "      <td>...</td>\n",
       "      <td>0</td>\n",
       "      <td>NaN</td>\n",
       "      <td>NaN</td>\n",
       "      <td>NaN</td>\n",
       "      <td>0</td>\n",
       "      <td>2</td>\n",
       "      <td>2006</td>\n",
       "      <td>WD</td>\n",
       "      <td>Abnorml</td>\n",
       "      <td>140000</td>\n",
       "    </tr>\n",
       "    <tr>\n",
       "      <th>4</th>\n",
       "      <td>5</td>\n",
       "      <td>60</td>\n",
       "      <td>RL</td>\n",
       "      <td>84.0</td>\n",
       "      <td>14260</td>\n",
       "      <td>Pave</td>\n",
       "      <td>NaN</td>\n",
       "      <td>IR1</td>\n",
       "      <td>Lvl</td>\n",
       "      <td>AllPub</td>\n",
       "      <td>...</td>\n",
       "      <td>0</td>\n",
       "      <td>NaN</td>\n",
       "      <td>NaN</td>\n",
       "      <td>NaN</td>\n",
       "      <td>0</td>\n",
       "      <td>12</td>\n",
       "      <td>2008</td>\n",
       "      <td>WD</td>\n",
       "      <td>Normal</td>\n",
       "      <td>250000</td>\n",
       "    </tr>\n",
       "  </tbody>\n",
       "</table>\n",
       "<p>5 rows × 81 columns</p>\n",
       "</div>"
      ],
      "text/plain": [
       "   Id  MSSubClass MSZoning  LotFrontage  LotArea Street Alley LotShape  \\\n",
       "0   1          60       RL         65.0     8450   Pave   NaN      Reg   \n",
       "1   2          20       RL         80.0     9600   Pave   NaN      Reg   \n",
       "2   3          60       RL         68.0    11250   Pave   NaN      IR1   \n",
       "3   4          70       RL         60.0     9550   Pave   NaN      IR1   \n",
       "4   5          60       RL         84.0    14260   Pave   NaN      IR1   \n",
       "\n",
       "  LandContour Utilities  ... PoolArea PoolQC Fence MiscFeature MiscVal MoSold  \\\n",
       "0         Lvl    AllPub  ...        0    NaN   NaN         NaN       0      2   \n",
       "1         Lvl    AllPub  ...        0    NaN   NaN         NaN       0      5   \n",
       "2         Lvl    AllPub  ...        0    NaN   NaN         NaN       0      9   \n",
       "3         Lvl    AllPub  ...        0    NaN   NaN         NaN       0      2   \n",
       "4         Lvl    AllPub  ...        0    NaN   NaN         NaN       0     12   \n",
       "\n",
       "  YrSold  SaleType  SaleCondition  SalePrice  \n",
       "0   2008        WD         Normal     208500  \n",
       "1   2007        WD         Normal     181500  \n",
       "2   2008        WD         Normal     223500  \n",
       "3   2006        WD        Abnorml     140000  \n",
       "4   2008        WD         Normal     250000  \n",
       "\n",
       "[5 rows x 81 columns]"
      ]
     },
     "execution_count": 2,
     "metadata": {},
     "output_type": "execute_result"
    }
   ],
   "source": [
    "train_data = pd.read_csv('train.csv')\n",
    "train_data.head()"
   ]
  },
  {
   "cell_type": "markdown",
   "id": "dda82a62",
   "metadata": {
    "papermill": {
     "duration": 0.023843,
     "end_time": "2023-06-20T14:35:54.146287",
     "exception": false,
     "start_time": "2023-06-20T14:35:54.122444",
     "status": "completed"
    },
    "tags": []
   },
   "source": [
    "### **1.3. Testing data**"
   ]
  },
  {
   "cell_type": "code",
   "execution_count": 3,
   "id": "ff4b390a",
   "metadata": {
    "execution": {
     "iopub.execute_input": "2023-06-20T14:35:54.196457Z",
     "iopub.status.busy": "2023-06-20T14:35:54.196064Z",
     "iopub.status.idle": "2023-06-20T14:35:54.262216Z",
     "shell.execute_reply": "2023-06-20T14:35:54.261110Z"
    },
    "papermill": {
     "duration": 0.094089,
     "end_time": "2023-06-20T14:35:54.264717",
     "exception": false,
     "start_time": "2023-06-20T14:35:54.170628",
     "status": "completed"
    },
    "tags": []
   },
   "outputs": [
    {
     "data": {
      "text/html": [
       "<div>\n",
       "<style scoped>\n",
       "    .dataframe tbody tr th:only-of-type {\n",
       "        vertical-align: middle;\n",
       "    }\n",
       "\n",
       "    .dataframe tbody tr th {\n",
       "        vertical-align: top;\n",
       "    }\n",
       "\n",
       "    .dataframe thead th {\n",
       "        text-align: right;\n",
       "    }\n",
       "</style>\n",
       "<table border=\"1\" class=\"dataframe\">\n",
       "  <thead>\n",
       "    <tr style=\"text-align: right;\">\n",
       "      <th></th>\n",
       "      <th>Id</th>\n",
       "      <th>MSSubClass</th>\n",
       "      <th>MSZoning</th>\n",
       "      <th>LotFrontage</th>\n",
       "      <th>LotArea</th>\n",
       "      <th>Street</th>\n",
       "      <th>Alley</th>\n",
       "      <th>LotShape</th>\n",
       "      <th>LandContour</th>\n",
       "      <th>Utilities</th>\n",
       "      <th>...</th>\n",
       "      <th>ScreenPorch</th>\n",
       "      <th>PoolArea</th>\n",
       "      <th>PoolQC</th>\n",
       "      <th>Fence</th>\n",
       "      <th>MiscFeature</th>\n",
       "      <th>MiscVal</th>\n",
       "      <th>MoSold</th>\n",
       "      <th>YrSold</th>\n",
       "      <th>SaleType</th>\n",
       "      <th>SaleCondition</th>\n",
       "    </tr>\n",
       "  </thead>\n",
       "  <tbody>\n",
       "    <tr>\n",
       "      <th>0</th>\n",
       "      <td>1461</td>\n",
       "      <td>20</td>\n",
       "      <td>RH</td>\n",
       "      <td>80.0</td>\n",
       "      <td>11622</td>\n",
       "      <td>Pave</td>\n",
       "      <td>NaN</td>\n",
       "      <td>Reg</td>\n",
       "      <td>Lvl</td>\n",
       "      <td>AllPub</td>\n",
       "      <td>...</td>\n",
       "      <td>120</td>\n",
       "      <td>0</td>\n",
       "      <td>NaN</td>\n",
       "      <td>MnPrv</td>\n",
       "      <td>NaN</td>\n",
       "      <td>0</td>\n",
       "      <td>6</td>\n",
       "      <td>2010</td>\n",
       "      <td>WD</td>\n",
       "      <td>Normal</td>\n",
       "    </tr>\n",
       "    <tr>\n",
       "      <th>1</th>\n",
       "      <td>1462</td>\n",
       "      <td>20</td>\n",
       "      <td>RL</td>\n",
       "      <td>81.0</td>\n",
       "      <td>14267</td>\n",
       "      <td>Pave</td>\n",
       "      <td>NaN</td>\n",
       "      <td>IR1</td>\n",
       "      <td>Lvl</td>\n",
       "      <td>AllPub</td>\n",
       "      <td>...</td>\n",
       "      <td>0</td>\n",
       "      <td>0</td>\n",
       "      <td>NaN</td>\n",
       "      <td>NaN</td>\n",
       "      <td>Gar2</td>\n",
       "      <td>12500</td>\n",
       "      <td>6</td>\n",
       "      <td>2010</td>\n",
       "      <td>WD</td>\n",
       "      <td>Normal</td>\n",
       "    </tr>\n",
       "    <tr>\n",
       "      <th>2</th>\n",
       "      <td>1463</td>\n",
       "      <td>60</td>\n",
       "      <td>RL</td>\n",
       "      <td>74.0</td>\n",
       "      <td>13830</td>\n",
       "      <td>Pave</td>\n",
       "      <td>NaN</td>\n",
       "      <td>IR1</td>\n",
       "      <td>Lvl</td>\n",
       "      <td>AllPub</td>\n",
       "      <td>...</td>\n",
       "      <td>0</td>\n",
       "      <td>0</td>\n",
       "      <td>NaN</td>\n",
       "      <td>MnPrv</td>\n",
       "      <td>NaN</td>\n",
       "      <td>0</td>\n",
       "      <td>3</td>\n",
       "      <td>2010</td>\n",
       "      <td>WD</td>\n",
       "      <td>Normal</td>\n",
       "    </tr>\n",
       "    <tr>\n",
       "      <th>3</th>\n",
       "      <td>1464</td>\n",
       "      <td>60</td>\n",
       "      <td>RL</td>\n",
       "      <td>78.0</td>\n",
       "      <td>9978</td>\n",
       "      <td>Pave</td>\n",
       "      <td>NaN</td>\n",
       "      <td>IR1</td>\n",
       "      <td>Lvl</td>\n",
       "      <td>AllPub</td>\n",
       "      <td>...</td>\n",
       "      <td>0</td>\n",
       "      <td>0</td>\n",
       "      <td>NaN</td>\n",
       "      <td>NaN</td>\n",
       "      <td>NaN</td>\n",
       "      <td>0</td>\n",
       "      <td>6</td>\n",
       "      <td>2010</td>\n",
       "      <td>WD</td>\n",
       "      <td>Normal</td>\n",
       "    </tr>\n",
       "    <tr>\n",
       "      <th>4</th>\n",
       "      <td>1465</td>\n",
       "      <td>120</td>\n",
       "      <td>RL</td>\n",
       "      <td>43.0</td>\n",
       "      <td>5005</td>\n",
       "      <td>Pave</td>\n",
       "      <td>NaN</td>\n",
       "      <td>IR1</td>\n",
       "      <td>HLS</td>\n",
       "      <td>AllPub</td>\n",
       "      <td>...</td>\n",
       "      <td>144</td>\n",
       "      <td>0</td>\n",
       "      <td>NaN</td>\n",
       "      <td>NaN</td>\n",
       "      <td>NaN</td>\n",
       "      <td>0</td>\n",
       "      <td>1</td>\n",
       "      <td>2010</td>\n",
       "      <td>WD</td>\n",
       "      <td>Normal</td>\n",
       "    </tr>\n",
       "  </tbody>\n",
       "</table>\n",
       "<p>5 rows × 80 columns</p>\n",
       "</div>"
      ],
      "text/plain": [
       "     Id  MSSubClass MSZoning  LotFrontage  LotArea Street Alley LotShape  \\\n",
       "0  1461          20       RH         80.0    11622   Pave   NaN      Reg   \n",
       "1  1462          20       RL         81.0    14267   Pave   NaN      IR1   \n",
       "2  1463          60       RL         74.0    13830   Pave   NaN      IR1   \n",
       "3  1464          60       RL         78.0     9978   Pave   NaN      IR1   \n",
       "4  1465         120       RL         43.0     5005   Pave   NaN      IR1   \n",
       "\n",
       "  LandContour Utilities  ... ScreenPorch PoolArea PoolQC  Fence MiscFeature  \\\n",
       "0         Lvl    AllPub  ...         120        0    NaN  MnPrv         NaN   \n",
       "1         Lvl    AllPub  ...           0        0    NaN    NaN        Gar2   \n",
       "2         Lvl    AllPub  ...           0        0    NaN  MnPrv         NaN   \n",
       "3         Lvl    AllPub  ...           0        0    NaN    NaN         NaN   \n",
       "4         HLS    AllPub  ...         144        0    NaN    NaN         NaN   \n",
       "\n",
       "  MiscVal MoSold  YrSold  SaleType  SaleCondition  \n",
       "0       0      6    2010        WD         Normal  \n",
       "1   12500      6    2010        WD         Normal  \n",
       "2       0      3    2010        WD         Normal  \n",
       "3       0      6    2010        WD         Normal  \n",
       "4       0      1    2010        WD         Normal  \n",
       "\n",
       "[5 rows x 80 columns]"
      ]
     },
     "execution_count": 3,
     "metadata": {},
     "output_type": "execute_result"
    }
   ],
   "source": [
    "test_data = pd.read_csv('test.csv')\n",
    "test_data.head()"
   ]
  },
  {
   "cell_type": "markdown",
   "id": "53273ddc",
   "metadata": {
    "papermill": {
     "duration": 0.02411,
     "end_time": "2023-06-20T14:35:54.313346",
     "exception": false,
     "start_time": "2023-06-20T14:35:54.289236",
     "status": "completed"
    },
    "tags": []
   },
   "source": [
    "### **1.4. Join dataframes**\n",
    "Joining dataframes helps with dealing with NaNs."
   ]
  },
  {
   "cell_type": "code",
   "execution_count": 4,
   "id": "62ce0620",
   "metadata": {
    "execution": {
     "iopub.execute_input": "2023-06-20T14:35:54.364398Z",
     "iopub.status.busy": "2023-06-20T14:35:54.363952Z",
     "iopub.status.idle": "2023-06-20T14:35:54.389854Z",
     "shell.execute_reply": "2023-06-20T14:35:54.388602Z"
    },
    "papermill": {
     "duration": 0.054711,
     "end_time": "2023-06-20T14:35:54.392531",
     "exception": false,
     "start_time": "2023-06-20T14:35:54.337820",
     "status": "completed"
    },
    "tags": []
   },
   "outputs": [],
   "source": [
    "test_drop_id = test_data.pop('Id') #drop Id from test_data and assign it to a variable for later.\n",
    "df = train_data.drop(['SalePrice', 'Id'], axis=1) # drop the 'SalePrice', 'Id' columns from train_data.\n",
    "df = pd.concat([df, test_data], axis=0).reset_index(drop=True) #join the two dataframes so we can work with training and testing data at the same time"
   ]
  },
  {
   "cell_type": "code",
   "execution_count": 5,
   "id": "3a936362",
   "metadata": {
    "execution": {
     "iopub.execute_input": "2023-06-20T14:35:54.444690Z",
     "iopub.status.busy": "2023-06-20T14:35:54.444275Z",
     "iopub.status.idle": "2023-06-20T14:35:54.451046Z",
     "shell.execute_reply": "2023-06-20T14:35:54.449875Z"
    },
    "papermill": {
     "duration": 0.036201,
     "end_time": "2023-06-20T14:35:54.453782",
     "exception": false,
     "start_time": "2023-06-20T14:35:54.417581",
     "status": "completed"
    },
    "tags": []
   },
   "outputs": [
    {
     "data": {
      "text/plain": [
       "1460"
      ]
     },
     "execution_count": 5,
     "metadata": {},
     "output_type": "execute_result"
    }
   ],
   "source": [
    "train_max = train_data.shape[0] #This will help us divide the dataframe back into training and testing sets later.\n",
    "train_max"
   ]
  },
  {
   "cell_type": "markdown",
   "id": "dc4f6cdf",
   "metadata": {
    "papermill": {
     "duration": 0.024441,
     "end_time": "2023-06-20T14:35:54.503882",
     "exception": false,
     "start_time": "2023-06-20T14:35:54.479441",
     "status": "completed"
    },
    "tags": []
   },
   "source": [
    "# **2. EDA**"
   ]
  },
  {
   "cell_type": "code",
   "execution_count": 7,
   "id": "fce988ac",
   "metadata": {
    "execution": {
     "iopub.execute_input": "2023-06-20T14:35:54.556122Z",
     "iopub.status.busy": "2023-06-20T14:35:54.555706Z",
     "iopub.status.idle": "2023-06-20T14:35:54.621472Z",
     "shell.execute_reply": "2023-06-20T14:35:54.620381Z"
    },
    "papermill": {
     "duration": 0.095458,
     "end_time": "2023-06-20T14:35:54.624694",
     "exception": false,
     "start_time": "2023-06-20T14:35:54.529236",
     "status": "completed"
    },
    "tags": []
   },
   "outputs": [
    {
     "name": "stdout",
     "output_type": "stream",
     "text": [
      "<class 'pandas.core.frame.DataFrame'>\n",
      "RangeIndex: 2919 entries, 0 to 2918\n",
      "Data columns (total 79 columns):\n",
      " #   Column         Non-Null Count  Dtype  \n",
      "---  ------         --------------  -----  \n",
      " 0   MSSubClass     2919 non-null   int64  \n",
      " 1   MSZoning       2915 non-null   object \n",
      " 2   LotFrontage    2433 non-null   float64\n",
      " 3   LotArea        2919 non-null   int64  \n",
      " 4   Street         2919 non-null   object \n",
      " 5   Alley          198 non-null    object \n",
      " 6   LotShape       2919 non-null   object \n",
      " 7   LandContour    2919 non-null   object \n",
      " 8   Utilities      2917 non-null   object \n",
      " 9   LotConfig      2919 non-null   object \n",
      " 10  LandSlope      2919 non-null   object \n",
      " 11  Neighborhood   2919 non-null   object \n",
      " 12  Condition1     2919 non-null   object \n",
      " 13  Condition2     2919 non-null   object \n",
      " 14  BldgType       2919 non-null   object \n",
      " 15  HouseStyle     2919 non-null   object \n",
      " 16  OverallQual    2919 non-null   int64  \n",
      " 17  OverallCond    2919 non-null   int64  \n",
      " 18  YearBuilt      2919 non-null   int64  \n",
      " 19  YearRemodAdd   2919 non-null   int64  \n",
      " 20  RoofStyle      2919 non-null   object \n",
      " 21  RoofMatl       2919 non-null   object \n",
      " 22  Exterior1st    2918 non-null   object \n",
      " 23  Exterior2nd    2918 non-null   object \n",
      " 24  MasVnrType     2895 non-null   object \n",
      " 25  MasVnrArea     2896 non-null   float64\n",
      " 26  ExterQual      2919 non-null   object \n",
      " 27  ExterCond      2919 non-null   object \n",
      " 28  Foundation     2919 non-null   object \n",
      " 29  BsmtQual       2838 non-null   object \n",
      " 30  BsmtCond       2837 non-null   object \n",
      " 31  BsmtExposure   2837 non-null   object \n",
      " 32  BsmtFinType1   2840 non-null   object \n",
      " 33  BsmtFinSF1     2918 non-null   float64\n",
      " 34  BsmtFinType2   2839 non-null   object \n",
      " 35  BsmtFinSF2     2918 non-null   float64\n",
      " 36  BsmtUnfSF      2918 non-null   float64\n",
      " 37  TotalBsmtSF    2918 non-null   float64\n",
      " 38  Heating        2919 non-null   object \n",
      " 39  HeatingQC      2919 non-null   object \n",
      " 40  CentralAir     2919 non-null   object \n",
      " 41  Electrical     2918 non-null   object \n",
      " 42  1stFlrSF       2919 non-null   int64  \n",
      " 43  2ndFlrSF       2919 non-null   int64  \n",
      " 44  LowQualFinSF   2919 non-null   int64  \n",
      " 45  GrLivArea      2919 non-null   int64  \n",
      " 46  BsmtFullBath   2917 non-null   float64\n",
      " 47  BsmtHalfBath   2917 non-null   float64\n",
      " 48  FullBath       2919 non-null   int64  \n",
      " 49  HalfBath       2919 non-null   int64  \n",
      " 50  BedroomAbvGr   2919 non-null   int64  \n",
      " 51  KitchenAbvGr   2919 non-null   int64  \n",
      " 52  KitchenQual    2918 non-null   object \n",
      " 53  TotRmsAbvGrd   2919 non-null   int64  \n",
      " 54  Functional     2917 non-null   object \n",
      " 55  Fireplaces     2919 non-null   int64  \n",
      " 56  FireplaceQu    1499 non-null   object \n",
      " 57  GarageType     2762 non-null   object \n",
      " 58  GarageYrBlt    2760 non-null   float64\n",
      " 59  GarageFinish   2760 non-null   object \n",
      " 60  GarageCars     2918 non-null   float64\n",
      " 61  GarageArea     2918 non-null   float64\n",
      " 62  GarageQual     2760 non-null   object \n",
      " 63  GarageCond     2760 non-null   object \n",
      " 64  PavedDrive     2919 non-null   object \n",
      " 65  WoodDeckSF     2919 non-null   int64  \n",
      " 66  OpenPorchSF    2919 non-null   int64  \n",
      " 67  EnclosedPorch  2919 non-null   int64  \n",
      " 68  3SsnPorch      2919 non-null   int64  \n",
      " 69  ScreenPorch    2919 non-null   int64  \n",
      " 70  PoolArea       2919 non-null   int64  \n",
      " 71  PoolQC         10 non-null     object \n",
      " 72  Fence          571 non-null    object \n",
      " 73  MiscFeature    105 non-null    object \n",
      " 74  MiscVal        2919 non-null   int64  \n",
      " 75  MoSold         2919 non-null   int64  \n",
      " 76  YrSold         2919 non-null   int64  \n",
      " 77  SaleType       2918 non-null   object \n",
      " 78  SaleCondition  2919 non-null   object \n",
      "dtypes: float64(11), int64(25), object(43)\n",
      "memory usage: 1.8+ MB\n"
     ]
    }
   ],
   "source": [
    "df.info()"
   ]
  },
  {
   "cell_type": "code",
   "execution_count": 8,
   "id": "8c8329f6",
   "metadata": {
    "execution": {
     "iopub.execute_input": "2023-06-20T14:35:54.677471Z",
     "iopub.status.busy": "2023-06-20T14:35:54.677074Z",
     "iopub.status.idle": "2023-06-20T14:35:54.797246Z",
     "shell.execute_reply": "2023-06-20T14:35:54.796073Z"
    },
    "papermill": {
     "duration": 0.149505,
     "end_time": "2023-06-20T14:35:54.799786",
     "exception": false,
     "start_time": "2023-06-20T14:35:54.650281",
     "status": "completed"
    },
    "tags": []
   },
   "outputs": [
    {
     "data": {
      "text/html": [
       "<div>\n",
       "<style scoped>\n",
       "    .dataframe tbody tr th:only-of-type {\n",
       "        vertical-align: middle;\n",
       "    }\n",
       "\n",
       "    .dataframe tbody tr th {\n",
       "        vertical-align: top;\n",
       "    }\n",
       "\n",
       "    .dataframe thead th {\n",
       "        text-align: right;\n",
       "    }\n",
       "</style>\n",
       "<table border=\"1\" class=\"dataframe\">\n",
       "  <thead>\n",
       "    <tr style=\"text-align: right;\">\n",
       "      <th></th>\n",
       "      <th>MSSubClass</th>\n",
       "      <th>LotFrontage</th>\n",
       "      <th>LotArea</th>\n",
       "      <th>OverallQual</th>\n",
       "      <th>OverallCond</th>\n",
       "      <th>YearBuilt</th>\n",
       "      <th>YearRemodAdd</th>\n",
       "      <th>MasVnrArea</th>\n",
       "      <th>BsmtFinSF1</th>\n",
       "      <th>BsmtFinSF2</th>\n",
       "      <th>...</th>\n",
       "      <th>GarageArea</th>\n",
       "      <th>WoodDeckSF</th>\n",
       "      <th>OpenPorchSF</th>\n",
       "      <th>EnclosedPorch</th>\n",
       "      <th>3SsnPorch</th>\n",
       "      <th>ScreenPorch</th>\n",
       "      <th>PoolArea</th>\n",
       "      <th>MiscVal</th>\n",
       "      <th>MoSold</th>\n",
       "      <th>YrSold</th>\n",
       "    </tr>\n",
       "  </thead>\n",
       "  <tbody>\n",
       "    <tr>\n",
       "      <th>count</th>\n",
       "      <td>2919.000000</td>\n",
       "      <td>2433.000000</td>\n",
       "      <td>2919.000000</td>\n",
       "      <td>2919.000000</td>\n",
       "      <td>2919.000000</td>\n",
       "      <td>2919.000000</td>\n",
       "      <td>2919.000000</td>\n",
       "      <td>2896.000000</td>\n",
       "      <td>2918.000000</td>\n",
       "      <td>2918.000000</td>\n",
       "      <td>...</td>\n",
       "      <td>2918.000000</td>\n",
       "      <td>2919.000000</td>\n",
       "      <td>2919.000000</td>\n",
       "      <td>2919.000000</td>\n",
       "      <td>2919.000000</td>\n",
       "      <td>2919.000000</td>\n",
       "      <td>2919.000000</td>\n",
       "      <td>2919.000000</td>\n",
       "      <td>2919.000000</td>\n",
       "      <td>2919.000000</td>\n",
       "    </tr>\n",
       "    <tr>\n",
       "      <th>mean</th>\n",
       "      <td>57.137718</td>\n",
       "      <td>69.305795</td>\n",
       "      <td>10168.114080</td>\n",
       "      <td>6.089072</td>\n",
       "      <td>5.564577</td>\n",
       "      <td>1971.312778</td>\n",
       "      <td>1984.264474</td>\n",
       "      <td>102.201312</td>\n",
       "      <td>441.423235</td>\n",
       "      <td>49.582248</td>\n",
       "      <td>...</td>\n",
       "      <td>472.874572</td>\n",
       "      <td>93.709832</td>\n",
       "      <td>47.486811</td>\n",
       "      <td>23.098321</td>\n",
       "      <td>2.602261</td>\n",
       "      <td>16.062350</td>\n",
       "      <td>2.251799</td>\n",
       "      <td>50.825968</td>\n",
       "      <td>6.213087</td>\n",
       "      <td>2007.792737</td>\n",
       "    </tr>\n",
       "    <tr>\n",
       "      <th>std</th>\n",
       "      <td>42.517628</td>\n",
       "      <td>23.344905</td>\n",
       "      <td>7886.996359</td>\n",
       "      <td>1.409947</td>\n",
       "      <td>1.113131</td>\n",
       "      <td>30.291442</td>\n",
       "      <td>20.894344</td>\n",
       "      <td>179.334253</td>\n",
       "      <td>455.610826</td>\n",
       "      <td>169.205611</td>\n",
       "      <td>...</td>\n",
       "      <td>215.394815</td>\n",
       "      <td>126.526589</td>\n",
       "      <td>67.575493</td>\n",
       "      <td>64.244246</td>\n",
       "      <td>25.188169</td>\n",
       "      <td>56.184365</td>\n",
       "      <td>35.663946</td>\n",
       "      <td>567.402211</td>\n",
       "      <td>2.714762</td>\n",
       "      <td>1.314964</td>\n",
       "    </tr>\n",
       "    <tr>\n",
       "      <th>min</th>\n",
       "      <td>20.000000</td>\n",
       "      <td>21.000000</td>\n",
       "      <td>1300.000000</td>\n",
       "      <td>1.000000</td>\n",
       "      <td>1.000000</td>\n",
       "      <td>1872.000000</td>\n",
       "      <td>1950.000000</td>\n",
       "      <td>0.000000</td>\n",
       "      <td>0.000000</td>\n",
       "      <td>0.000000</td>\n",
       "      <td>...</td>\n",
       "      <td>0.000000</td>\n",
       "      <td>0.000000</td>\n",
       "      <td>0.000000</td>\n",
       "      <td>0.000000</td>\n",
       "      <td>0.000000</td>\n",
       "      <td>0.000000</td>\n",
       "      <td>0.000000</td>\n",
       "      <td>0.000000</td>\n",
       "      <td>1.000000</td>\n",
       "      <td>2006.000000</td>\n",
       "    </tr>\n",
       "    <tr>\n",
       "      <th>25%</th>\n",
       "      <td>20.000000</td>\n",
       "      <td>59.000000</td>\n",
       "      <td>7478.000000</td>\n",
       "      <td>5.000000</td>\n",
       "      <td>5.000000</td>\n",
       "      <td>1953.500000</td>\n",
       "      <td>1965.000000</td>\n",
       "      <td>0.000000</td>\n",
       "      <td>0.000000</td>\n",
       "      <td>0.000000</td>\n",
       "      <td>...</td>\n",
       "      <td>320.000000</td>\n",
       "      <td>0.000000</td>\n",
       "      <td>0.000000</td>\n",
       "      <td>0.000000</td>\n",
       "      <td>0.000000</td>\n",
       "      <td>0.000000</td>\n",
       "      <td>0.000000</td>\n",
       "      <td>0.000000</td>\n",
       "      <td>4.000000</td>\n",
       "      <td>2007.000000</td>\n",
       "    </tr>\n",
       "    <tr>\n",
       "      <th>50%</th>\n",
       "      <td>50.000000</td>\n",
       "      <td>68.000000</td>\n",
       "      <td>9453.000000</td>\n",
       "      <td>6.000000</td>\n",
       "      <td>5.000000</td>\n",
       "      <td>1973.000000</td>\n",
       "      <td>1993.000000</td>\n",
       "      <td>0.000000</td>\n",
       "      <td>368.500000</td>\n",
       "      <td>0.000000</td>\n",
       "      <td>...</td>\n",
       "      <td>480.000000</td>\n",
       "      <td>0.000000</td>\n",
       "      <td>26.000000</td>\n",
       "      <td>0.000000</td>\n",
       "      <td>0.000000</td>\n",
       "      <td>0.000000</td>\n",
       "      <td>0.000000</td>\n",
       "      <td>0.000000</td>\n",
       "      <td>6.000000</td>\n",
       "      <td>2008.000000</td>\n",
       "    </tr>\n",
       "    <tr>\n",
       "      <th>75%</th>\n",
       "      <td>70.000000</td>\n",
       "      <td>80.000000</td>\n",
       "      <td>11570.000000</td>\n",
       "      <td>7.000000</td>\n",
       "      <td>6.000000</td>\n",
       "      <td>2001.000000</td>\n",
       "      <td>2004.000000</td>\n",
       "      <td>164.000000</td>\n",
       "      <td>733.000000</td>\n",
       "      <td>0.000000</td>\n",
       "      <td>...</td>\n",
       "      <td>576.000000</td>\n",
       "      <td>168.000000</td>\n",
       "      <td>70.000000</td>\n",
       "      <td>0.000000</td>\n",
       "      <td>0.000000</td>\n",
       "      <td>0.000000</td>\n",
       "      <td>0.000000</td>\n",
       "      <td>0.000000</td>\n",
       "      <td>8.000000</td>\n",
       "      <td>2009.000000</td>\n",
       "    </tr>\n",
       "    <tr>\n",
       "      <th>max</th>\n",
       "      <td>190.000000</td>\n",
       "      <td>313.000000</td>\n",
       "      <td>215245.000000</td>\n",
       "      <td>10.000000</td>\n",
       "      <td>9.000000</td>\n",
       "      <td>2010.000000</td>\n",
       "      <td>2010.000000</td>\n",
       "      <td>1600.000000</td>\n",
       "      <td>5644.000000</td>\n",
       "      <td>1526.000000</td>\n",
       "      <td>...</td>\n",
       "      <td>1488.000000</td>\n",
       "      <td>1424.000000</td>\n",
       "      <td>742.000000</td>\n",
       "      <td>1012.000000</td>\n",
       "      <td>508.000000</td>\n",
       "      <td>576.000000</td>\n",
       "      <td>800.000000</td>\n",
       "      <td>17000.000000</td>\n",
       "      <td>12.000000</td>\n",
       "      <td>2010.000000</td>\n",
       "    </tr>\n",
       "  </tbody>\n",
       "</table>\n",
       "<p>8 rows × 36 columns</p>\n",
       "</div>"
      ],
      "text/plain": [
       "        MSSubClass  LotFrontage        LotArea  OverallQual  OverallCond  \\\n",
       "count  2919.000000  2433.000000    2919.000000  2919.000000  2919.000000   \n",
       "mean     57.137718    69.305795   10168.114080     6.089072     5.564577   \n",
       "std      42.517628    23.344905    7886.996359     1.409947     1.113131   \n",
       "min      20.000000    21.000000    1300.000000     1.000000     1.000000   \n",
       "25%      20.000000    59.000000    7478.000000     5.000000     5.000000   \n",
       "50%      50.000000    68.000000    9453.000000     6.000000     5.000000   \n",
       "75%      70.000000    80.000000   11570.000000     7.000000     6.000000   \n",
       "max     190.000000   313.000000  215245.000000    10.000000     9.000000   \n",
       "\n",
       "         YearBuilt  YearRemodAdd   MasVnrArea   BsmtFinSF1   BsmtFinSF2  ...  \\\n",
       "count  2919.000000   2919.000000  2896.000000  2918.000000  2918.000000  ...   \n",
       "mean   1971.312778   1984.264474   102.201312   441.423235    49.582248  ...   \n",
       "std      30.291442     20.894344   179.334253   455.610826   169.205611  ...   \n",
       "min    1872.000000   1950.000000     0.000000     0.000000     0.000000  ...   \n",
       "25%    1953.500000   1965.000000     0.000000     0.000000     0.000000  ...   \n",
       "50%    1973.000000   1993.000000     0.000000   368.500000     0.000000  ...   \n",
       "75%    2001.000000   2004.000000   164.000000   733.000000     0.000000  ...   \n",
       "max    2010.000000   2010.000000  1600.000000  5644.000000  1526.000000  ...   \n",
       "\n",
       "        GarageArea   WoodDeckSF  OpenPorchSF  EnclosedPorch    3SsnPorch  \\\n",
       "count  2918.000000  2919.000000  2919.000000    2919.000000  2919.000000   \n",
       "mean    472.874572    93.709832    47.486811      23.098321     2.602261   \n",
       "std     215.394815   126.526589    67.575493      64.244246    25.188169   \n",
       "min       0.000000     0.000000     0.000000       0.000000     0.000000   \n",
       "25%     320.000000     0.000000     0.000000       0.000000     0.000000   \n",
       "50%     480.000000     0.000000    26.000000       0.000000     0.000000   \n",
       "75%     576.000000   168.000000    70.000000       0.000000     0.000000   \n",
       "max    1488.000000  1424.000000   742.000000    1012.000000   508.000000   \n",
       "\n",
       "       ScreenPorch     PoolArea       MiscVal       MoSold       YrSold  \n",
       "count  2919.000000  2919.000000   2919.000000  2919.000000  2919.000000  \n",
       "mean     16.062350     2.251799     50.825968     6.213087  2007.792737  \n",
       "std      56.184365    35.663946    567.402211     2.714762     1.314964  \n",
       "min       0.000000     0.000000      0.000000     1.000000  2006.000000  \n",
       "25%       0.000000     0.000000      0.000000     4.000000  2007.000000  \n",
       "50%       0.000000     0.000000      0.000000     6.000000  2008.000000  \n",
       "75%       0.000000     0.000000      0.000000     8.000000  2009.000000  \n",
       "max     576.000000   800.000000  17000.000000    12.000000  2010.000000  \n",
       "\n",
       "[8 rows x 36 columns]"
      ]
     },
     "execution_count": 8,
     "metadata": {},
     "output_type": "execute_result"
    }
   ],
   "source": [
    "df.describe()"
   ]
  },
  {
   "cell_type": "code",
   "execution_count": 9,
   "id": "1df1d54e",
   "metadata": {
    "execution": {
     "iopub.execute_input": "2023-06-20T14:35:54.853616Z",
     "iopub.status.busy": "2023-06-20T14:35:54.853209Z",
     "iopub.status.idle": "2023-06-20T14:35:54.871619Z",
     "shell.execute_reply": "2023-06-20T14:35:54.870422Z"
    },
    "papermill": {
     "duration": 0.048048,
     "end_time": "2023-06-20T14:35:54.874118",
     "exception": false,
     "start_time": "2023-06-20T14:35:54.826070",
     "status": "completed"
    },
    "tags": []
   },
   "outputs": [
    {
     "data": {
      "text/plain": [
       "SalePrice        1.000000\n",
       "OverallQual      0.790982\n",
       "GrLivArea        0.708624\n",
       "GarageCars       0.640409\n",
       "GarageArea       0.623431\n",
       "TotalBsmtSF      0.613581\n",
       "1stFlrSF         0.605852\n",
       "FullBath         0.560664\n",
       "TotRmsAbvGrd     0.533723\n",
       "YearBuilt        0.522897\n",
       "YearRemodAdd     0.507101\n",
       "GarageYrBlt      0.486362\n",
       "MasVnrArea       0.477493\n",
       "Fireplaces       0.466929\n",
       "BsmtFinSF1       0.386420\n",
       "LotFrontage      0.351799\n",
       "WoodDeckSF       0.324413\n",
       "2ndFlrSF         0.319334\n",
       "OpenPorchSF      0.315856\n",
       "HalfBath         0.284108\n",
       "LotArea          0.263843\n",
       "BsmtFullBath     0.227122\n",
       "BsmtUnfSF        0.214479\n",
       "BedroomAbvGr     0.168213\n",
       "ScreenPorch      0.111447\n",
       "PoolArea         0.092404\n",
       "MoSold           0.046432\n",
       "3SsnPorch        0.044584\n",
       "BsmtFinSF2      -0.011378\n",
       "BsmtHalfBath    -0.016844\n",
       "MiscVal         -0.021190\n",
       "Id              -0.021917\n",
       "LowQualFinSF    -0.025606\n",
       "YrSold          -0.028923\n",
       "OverallCond     -0.077856\n",
       "MSSubClass      -0.084284\n",
       "EnclosedPorch   -0.128578\n",
       "KitchenAbvGr    -0.135907\n",
       "Name: SalePrice, dtype: float64"
      ]
     },
     "execution_count": 9,
     "metadata": {},
     "output_type": "execute_result"
    }
   ],
   "source": [
    "train_data.corr()['SalePrice'].sort_values(ascending=False)"
   ]
  },
  {
   "cell_type": "code",
   "execution_count": 10,
   "id": "5fd3758a",
   "metadata": {
    "execution": {
     "iopub.execute_input": "2023-06-20T14:35:54.927933Z",
     "iopub.status.busy": "2023-06-20T14:35:54.927519Z",
     "iopub.status.idle": "2023-06-20T14:35:54.934234Z",
     "shell.execute_reply": "2023-06-20T14:35:54.933077Z"
    },
    "papermill": {
     "duration": 0.036417,
     "end_time": "2023-06-20T14:35:54.936402",
     "exception": false,
     "start_time": "2023-06-20T14:35:54.899985",
     "status": "completed"
    },
    "tags": []
   },
   "outputs": [
    {
     "data": {
      "text/plain": [
       "(2919, 79)"
      ]
     },
     "execution_count": 10,
     "metadata": {},
     "output_type": "execute_result"
    }
   ],
   "source": [
    "df.shape"
   ]
  },
  {
   "cell_type": "markdown",
   "id": "a2143137",
   "metadata": {
    "papermill": {
     "duration": 0.025438,
     "end_time": "2023-06-20T14:35:54.987993",
     "exception": false,
     "start_time": "2023-06-20T14:35:54.962555",
     "status": "completed"
    },
    "tags": []
   },
   "source": [
    "### **2.1. Outliers**"
   ]
  },
  {
   "cell_type": "code",
   "execution_count": 6,
   "id": "9abe8cba",
   "metadata": {
    "execution": {
     "iopub.execute_input": "2023-06-20T14:35:55.041818Z",
     "iopub.status.busy": "2023-06-20T14:35:55.041425Z",
     "iopub.status.idle": "2023-06-20T14:35:55.266379Z",
     "shell.execute_reply": "2023-06-20T14:35:55.265195Z"
    },
    "papermill": {
     "duration": 0.254427,
     "end_time": "2023-06-20T14:35:55.268835",
     "exception": false,
     "start_time": "2023-06-20T14:35:55.014408",
     "status": "completed"
    },
    "tags": []
   },
   "outputs": [
    {
     "data": {
      "image/png": "[encoded data removed]",
      "text/plain": [
       "<Figure size 640x480 with 1 Axes>"
      ]
     },
     "metadata": {},
     "output_type": "display_data"
    }
   ],
   "source": [
    "sns.scatterplot(x='GrLivArea', y='SalePrice', data=train_data)\n",
    "plt.show()"
   ]
  },
  {
   "cell_type": "code",
   "execution_count": 7,
   "id": "615bdc11",
   "metadata": {
    "execution": {
     "iopub.execute_input": "2023-06-20T14:35:55.324452Z",
     "iopub.status.busy": "2023-06-20T14:35:55.324026Z",
     "iopub.status.idle": "2023-06-20T14:35:55.349264Z",
     "shell.execute_reply": "2023-06-20T14:35:55.348058Z"
    },
    "papermill": {
     "duration": 0.055744,
     "end_time": "2023-06-20T14:35:55.351675",
     "exception": false,
     "start_time": "2023-06-20T14:35:55.295931",
     "status": "completed"
    },
    "tags": []
   },
   "outputs": [
    {
     "data": {
      "text/html": [
       "<div>\n",
       "<style scoped>\n",
       "    .dataframe tbody tr th:only-of-type {\n",
       "        vertical-align: middle;\n",
       "    }\n",
       "\n",
       "    .dataframe tbody tr th {\n",
       "        vertical-align: top;\n",
       "    }\n",
       "\n",
       "    .dataframe thead th {\n",
       "        text-align: right;\n",
       "    }\n",
       "</style>\n",
       "<table border=\"1\" class=\"dataframe\">\n",
       "  <thead>\n",
       "    <tr style=\"text-align: right;\">\n",
       "      <th></th>\n",
       "      <th>MSSubClass</th>\n",
       "      <th>MSZoning</th>\n",
       "      <th>LotFrontage</th>\n",
       "      <th>LotArea</th>\n",
       "      <th>Street</th>\n",
       "      <th>Alley</th>\n",
       "      <th>LotShape</th>\n",
       "      <th>LandContour</th>\n",
       "      <th>Utilities</th>\n",
       "      <th>LotConfig</th>\n",
       "      <th>...</th>\n",
       "      <th>ScreenPorch</th>\n",
       "      <th>PoolArea</th>\n",
       "      <th>PoolQC</th>\n",
       "      <th>Fence</th>\n",
       "      <th>MiscFeature</th>\n",
       "      <th>MiscVal</th>\n",
       "      <th>MoSold</th>\n",
       "      <th>YrSold</th>\n",
       "      <th>SaleType</th>\n",
       "      <th>SaleCondition</th>\n",
       "    </tr>\n",
       "  </thead>\n",
       "  <tbody>\n",
       "    <tr>\n",
       "      <th>1298</th>\n",
       "      <td>60</td>\n",
       "      <td>RL</td>\n",
       "      <td>313.0</td>\n",
       "      <td>63887</td>\n",
       "      <td>Pave</td>\n",
       "      <td>NaN</td>\n",
       "      <td>IR3</td>\n",
       "      <td>Bnk</td>\n",
       "      <td>AllPub</td>\n",
       "      <td>Corner</td>\n",
       "      <td>...</td>\n",
       "      <td>0</td>\n",
       "      <td>480</td>\n",
       "      <td>Gd</td>\n",
       "      <td>NaN</td>\n",
       "      <td>NaN</td>\n",
       "      <td>0</td>\n",
       "      <td>1</td>\n",
       "      <td>2008</td>\n",
       "      <td>New</td>\n",
       "      <td>Partial</td>\n",
       "    </tr>\n",
       "    <tr>\n",
       "      <th>2549</th>\n",
       "      <td>20</td>\n",
       "      <td>RL</td>\n",
       "      <td>128.0</td>\n",
       "      <td>39290</td>\n",
       "      <td>Pave</td>\n",
       "      <td>NaN</td>\n",
       "      <td>IR1</td>\n",
       "      <td>Bnk</td>\n",
       "      <td>AllPub</td>\n",
       "      <td>Inside</td>\n",
       "      <td>...</td>\n",
       "      <td>0</td>\n",
       "      <td>0</td>\n",
       "      <td>NaN</td>\n",
       "      <td>NaN</td>\n",
       "      <td>NaN</td>\n",
       "      <td>17000</td>\n",
       "      <td>10</td>\n",
       "      <td>2007</td>\n",
       "      <td>New</td>\n",
       "      <td>Partial</td>\n",
       "    </tr>\n",
       "  </tbody>\n",
       "</table>\n",
       "<p>2 rows × 79 columns</p>\n",
       "</div>"
      ],
      "text/plain": [
       "      MSSubClass MSZoning  LotFrontage  LotArea Street Alley LotShape  \\\n",
       "1298          60       RL        313.0    63887   Pave   NaN      IR3   \n",
       "2549          20       RL        128.0    39290   Pave   NaN      IR1   \n",
       "\n",
       "     LandContour Utilities LotConfig  ... ScreenPorch PoolArea PoolQC Fence  \\\n",
       "1298         Bnk    AllPub    Corner  ...           0      480     Gd   NaN   \n",
       "2549         Bnk    AllPub    Inside  ...           0        0    NaN   NaN   \n",
       "\n",
       "     MiscFeature MiscVal  MoSold  YrSold  SaleType  SaleCondition  \n",
       "1298         NaN       0       1    2008       New        Partial  \n",
       "2549         NaN   17000      10    2007       New        Partial  \n",
       "\n",
       "[2 rows x 79 columns]"
      ]
     },
     "execution_count": 7,
     "metadata": {},
     "output_type": "execute_result"
    }
   ],
   "source": [
    "df[df['GrLivArea'] > 4700] #One of these outliers is in the testing set. So we wont remove them"
   ]
  },
  {
   "cell_type": "code",
   "execution_count": 8,
   "id": "63ada6c2",
   "metadata": {
    "execution": {
     "iopub.execute_input": "2023-06-20T14:35:55.407716Z",
     "iopub.status.busy": "2023-06-20T14:35:55.406928Z",
     "iopub.status.idle": "2023-06-20T14:35:55.416276Z",
     "shell.execute_reply": "2023-06-20T14:35:55.415088Z"
    },
    "papermill": {
     "duration": 0.040307,
     "end_time": "2023-06-20T14:35:55.418642",
     "exception": false,
     "start_time": "2023-06-20T14:35:55.378335",
     "status": "completed"
    },
    "tags": []
   },
   "outputs": [
    {
     "data": {
      "text/plain": [
       "1298    160000\n",
       "Name: SalePrice, dtype: int64"
      ]
     },
     "execution_count": 8,
     "metadata": {},
     "output_type": "execute_result"
    }
   ],
   "source": [
    "train_data.loc[train_data['GrLivArea'] > 4700]['SalePrice']"
   ]
  },
  {
   "cell_type": "code",
   "execution_count": 9,
   "id": "fc606114",
   "metadata": {
    "execution": {
     "iopub.execute_input": "2023-06-20T14:35:55.477617Z",
     "iopub.status.busy": "2023-06-20T14:35:55.476834Z",
     "iopub.status.idle": "2023-06-20T14:35:55.483176Z",
     "shell.execute_reply": "2023-06-20T14:35:55.482263Z"
    },
    "papermill": {
     "duration": 0.039594,
     "end_time": "2023-06-20T14:35:55.485778",
     "exception": false,
     "start_time": "2023-06-20T14:35:55.446184",
     "status": "completed"
    },
    "tags": []
   },
   "outputs": [],
   "source": [
    "mean_GrLiv = train_data.loc[train_data['SalePrice'] == 160000]['GrLivArea'].mean()"
   ]
  },
  {
   "cell_type": "code",
   "execution_count": 10,
   "id": "73b0f8ce",
   "metadata": {
    "execution": {
     "iopub.execute_input": "2023-06-20T14:35:55.543681Z",
     "iopub.status.busy": "2023-06-20T14:35:55.542849Z",
     "iopub.status.idle": "2023-06-20T14:35:55.550153Z",
     "shell.execute_reply": "2023-06-20T14:35:55.549039Z"
    },
    "papermill": {
     "duration": 0.038667,
     "end_time": "2023-06-20T14:35:55.552702",
     "exception": false,
     "start_time": "2023-06-20T14:35:55.514035",
     "status": "completed"
    },
    "tags": []
   },
   "outputs": [],
   "source": [
    "df['GrLivArea'].loc[df['GrLivArea'] > 4700] = mean_GrLiv"
   ]
  },
  {
   "cell_type": "markdown",
   "id": "2a35105a",
   "metadata": {
    "papermill": {
     "duration": 0.027014,
     "end_time": "2023-06-20T14:35:55.607761",
     "exception": false,
     "start_time": "2023-06-20T14:35:55.580747",
     "status": "completed"
    },
    "tags": []
   },
   "source": [
    "### **2.2. Solving NaN**"
   ]
  },
  {
   "cell_type": "code",
   "execution_count": 11,
   "id": "e1b6e28c",
   "metadata": {
    "execution": {
     "iopub.execute_input": "2023-06-20T14:35:55.663784Z",
     "iopub.status.busy": "2023-06-20T14:35:55.663375Z",
     "iopub.status.idle": "2023-06-20T14:35:55.712518Z",
     "shell.execute_reply": "2023-06-20T14:35:55.711452Z"
    },
    "papermill": {
     "duration": 0.079654,
     "end_time": "2023-06-20T14:35:55.714628",
     "exception": false,
     "start_time": "2023-06-20T14:35:55.634974",
     "status": "completed"
    },
    "tags": []
   },
   "outputs": [
    {
     "data": {
      "text/plain": [
       "MSSubClass          0\n",
       "MSZoning            4\n",
       "LotFrontage       486\n",
       "LotArea             0\n",
       "Street              0\n",
       "Alley            2721\n",
       "LotShape            0\n",
       "LandContour         0\n",
       "Utilities           2\n",
       "LotConfig           0\n",
       "LandSlope           0\n",
       "Neighborhood        0\n",
       "Condition1          0\n",
       "Condition2          0\n",
       "BldgType            0\n",
       "HouseStyle          0\n",
       "OverallQual         0\n",
       "OverallCond         0\n",
       "YearBuilt           0\n",
       "YearRemodAdd        0\n",
       "RoofStyle           0\n",
       "RoofMatl            0\n",
       "Exterior1st         1\n",
       "Exterior2nd         1\n",
       "MasVnrType         24\n",
       "MasVnrArea         23\n",
       "ExterQual           0\n",
       "ExterCond           0\n",
       "Foundation          0\n",
       "BsmtQual           81\n",
       "BsmtCond           82\n",
       "BsmtExposure       82\n",
       "BsmtFinType1       79\n",
       "BsmtFinSF1          1\n",
       "BsmtFinType2       80\n",
       "BsmtFinSF2          1\n",
       "BsmtUnfSF           1\n",
       "TotalBsmtSF         1\n",
       "Heating             0\n",
       "HeatingQC           0\n",
       "CentralAir          0\n",
       "Electrical          1\n",
       "1stFlrSF            0\n",
       "2ndFlrSF            0\n",
       "LowQualFinSF        0\n",
       "GrLivArea           0\n",
       "BsmtFullBath        2\n",
       "BsmtHalfBath        2\n",
       "FullBath            0\n",
       "HalfBath            0\n",
       "BedroomAbvGr        0\n",
       "KitchenAbvGr        0\n",
       "KitchenQual         1\n",
       "TotRmsAbvGrd        0\n",
       "Functional          2\n",
       "Fireplaces          0\n",
       "FireplaceQu      1420\n",
       "GarageType        157\n",
       "GarageYrBlt       159\n",
       "GarageFinish      159\n",
       "GarageCars          1\n",
       "GarageArea          1\n",
       "GarageQual        159\n",
       "GarageCond        159\n",
       "PavedDrive          0\n",
       "WoodDeckSF          0\n",
       "OpenPorchSF         0\n",
       "EnclosedPorch       0\n",
       "3SsnPorch           0\n",
       "ScreenPorch         0\n",
       "PoolArea            0\n",
       "PoolQC           2909\n",
       "Fence            2348\n",
       "MiscFeature      2814\n",
       "MiscVal             0\n",
       "MoSold              0\n",
       "YrSold              0\n",
       "SaleType            1\n",
       "SaleCondition       0\n",
       "dtype: int64"
      ]
     },
     "execution_count": 11,
     "metadata": {},
     "output_type": "execute_result"
    }
   ],
   "source": [
    "pd.set_option('display.max_rows',None)\n",
    "df.isna().sum()"
   ]
  },
  {
   "cell_type": "code",
   "execution_count": 12,
   "id": "8c8eb54f",
   "metadata": {
    "execution": {
     "iopub.execute_input": "2023-06-20T14:35:55.771445Z",
     "iopub.status.busy": "2023-06-20T14:35:55.771025Z",
     "iopub.status.idle": "2023-06-20T14:35:55.797394Z",
     "shell.execute_reply": "2023-06-20T14:35:55.796246Z"
    },
    "papermill": {
     "duration": 0.05762,
     "end_time": "2023-06-20T14:35:55.799641",
     "exception": false,
     "start_time": "2023-06-20T14:35:55.742021",
     "status": "completed"
    },
    "tags": []
   },
   "outputs": [
    {
     "data": {
      "text/html": [
       "<div>\n",
       "<style scoped>\n",
       "    .dataframe tbody tr th:only-of-type {\n",
       "        vertical-align: middle;\n",
       "    }\n",
       "\n",
       "    .dataframe tbody tr th {\n",
       "        vertical-align: top;\n",
       "    }\n",
       "\n",
       "    .dataframe thead th {\n",
       "        text-align: right;\n",
       "    }\n",
       "</style>\n",
       "<table border=\"1\" class=\"dataframe\">\n",
       "  <thead>\n",
       "    <tr style=\"text-align: right;\">\n",
       "      <th></th>\n",
       "      <th>MSSubClass</th>\n",
       "      <th>MSZoning</th>\n",
       "      <th>LotFrontage</th>\n",
       "      <th>LotArea</th>\n",
       "      <th>Street</th>\n",
       "      <th>Alley</th>\n",
       "      <th>LotShape</th>\n",
       "      <th>LandContour</th>\n",
       "      <th>Utilities</th>\n",
       "      <th>LotConfig</th>\n",
       "      <th>...</th>\n",
       "      <th>ScreenPorch</th>\n",
       "      <th>PoolArea</th>\n",
       "      <th>PoolQC</th>\n",
       "      <th>Fence</th>\n",
       "      <th>MiscFeature</th>\n",
       "      <th>MiscVal</th>\n",
       "      <th>MoSold</th>\n",
       "      <th>YrSold</th>\n",
       "      <th>SaleType</th>\n",
       "      <th>SaleCondition</th>\n",
       "    </tr>\n",
       "  </thead>\n",
       "  <tbody>\n",
       "    <tr>\n",
       "      <th>2217</th>\n",
       "      <td>70</td>\n",
       "      <td>C (all)</td>\n",
       "      <td>60.0</td>\n",
       "      <td>5280</td>\n",
       "      <td>Pave</td>\n",
       "      <td>NaN</td>\n",
       "      <td>Reg</td>\n",
       "      <td>Lvl</td>\n",
       "      <td>AllPub</td>\n",
       "      <td>Corner</td>\n",
       "      <td>...</td>\n",
       "      <td>0</td>\n",
       "      <td>0</td>\n",
       "      <td>NaN</td>\n",
       "      <td>NaN</td>\n",
       "      <td>NaN</td>\n",
       "      <td>0</td>\n",
       "      <td>7</td>\n",
       "      <td>2008</td>\n",
       "      <td>WD</td>\n",
       "      <td>Normal</td>\n",
       "    </tr>\n",
       "    <tr>\n",
       "      <th>2218</th>\n",
       "      <td>50</td>\n",
       "      <td>C (all)</td>\n",
       "      <td>52.0</td>\n",
       "      <td>5150</td>\n",
       "      <td>Pave</td>\n",
       "      <td>NaN</td>\n",
       "      <td>Reg</td>\n",
       "      <td>Lvl</td>\n",
       "      <td>AllPub</td>\n",
       "      <td>Corner</td>\n",
       "      <td>...</td>\n",
       "      <td>0</td>\n",
       "      <td>0</td>\n",
       "      <td>NaN</td>\n",
       "      <td>NaN</td>\n",
       "      <td>NaN</td>\n",
       "      <td>0</td>\n",
       "      <td>5</td>\n",
       "      <td>2008</td>\n",
       "      <td>WD</td>\n",
       "      <td>Normal</td>\n",
       "    </tr>\n",
       "  </tbody>\n",
       "</table>\n",
       "<p>2 rows × 79 columns</p>\n",
       "</div>"
      ],
      "text/plain": [
       "      MSSubClass MSZoning  LotFrontage  LotArea Street Alley LotShape  \\\n",
       "2217          70  C (all)         60.0     5280   Pave   NaN      Reg   \n",
       "2218          50  C (all)         52.0     5150   Pave   NaN      Reg   \n",
       "\n",
       "     LandContour Utilities LotConfig  ... ScreenPorch PoolArea PoolQC Fence  \\\n",
       "2217         Lvl    AllPub    Corner  ...           0        0    NaN   NaN   \n",
       "2218         Lvl    AllPub    Corner  ...           0        0    NaN   NaN   \n",
       "\n",
       "     MiscFeature MiscVal  MoSold  YrSold  SaleType  SaleCondition  \n",
       "2217         NaN       0       7    2008        WD         Normal  \n",
       "2218         NaN       0       5    2008        WD         Normal  \n",
       "\n",
       "[2 rows x 79 columns]"
      ]
     },
     "execution_count": 12,
     "metadata": {},
     "output_type": "execute_result"
    }
   ],
   "source": [
    "df[df['BsmtQual'].isna() & ~df['BsmtCond'].isna()]"
   ]
  },
  {
   "cell_type": "code",
   "execution_count": 13,
   "id": "6dedc9ae",
   "metadata": {
    "execution": {
     "iopub.execute_input": "2023-06-20T14:35:55.857513Z",
     "iopub.status.busy": "2023-06-20T14:35:55.857113Z",
     "iopub.status.idle": "2023-06-20T14:35:55.883546Z",
     "shell.execute_reply": "2023-06-20T14:35:55.882346Z"
    },
    "papermill": {
     "duration": 0.058313,
     "end_time": "2023-06-20T14:35:55.886072",
     "exception": false,
     "start_time": "2023-06-20T14:35:55.827759",
     "status": "completed"
    },
    "tags": []
   },
   "outputs": [
    {
     "data": {
      "text/html": [
       "<div>\n",
       "<style scoped>\n",
       "    .dataframe tbody tr th:only-of-type {\n",
       "        vertical-align: middle;\n",
       "    }\n",
       "\n",
       "    .dataframe tbody tr th {\n",
       "        vertical-align: top;\n",
       "    }\n",
       "\n",
       "    .dataframe thead th {\n",
       "        text-align: right;\n",
       "    }\n",
       "</style>\n",
       "<table border=\"1\" class=\"dataframe\">\n",
       "  <thead>\n",
       "    <tr style=\"text-align: right;\">\n",
       "      <th></th>\n",
       "      <th>MSSubClass</th>\n",
       "      <th>MSZoning</th>\n",
       "      <th>LotFrontage</th>\n",
       "      <th>LotArea</th>\n",
       "      <th>Street</th>\n",
       "      <th>Alley</th>\n",
       "      <th>LotShape</th>\n",
       "      <th>LandContour</th>\n",
       "      <th>Utilities</th>\n",
       "      <th>LotConfig</th>\n",
       "      <th>...</th>\n",
       "      <th>ScreenPorch</th>\n",
       "      <th>PoolArea</th>\n",
       "      <th>PoolQC</th>\n",
       "      <th>Fence</th>\n",
       "      <th>MiscFeature</th>\n",
       "      <th>MiscVal</th>\n",
       "      <th>MoSold</th>\n",
       "      <th>YrSold</th>\n",
       "      <th>SaleType</th>\n",
       "      <th>SaleCondition</th>\n",
       "    </tr>\n",
       "  </thead>\n",
       "  <tbody>\n",
       "    <tr>\n",
       "      <th>2040</th>\n",
       "      <td>20</td>\n",
       "      <td>RL</td>\n",
       "      <td>103.0</td>\n",
       "      <td>16280</td>\n",
       "      <td>Pave</td>\n",
       "      <td>NaN</td>\n",
       "      <td>Reg</td>\n",
       "      <td>Lvl</td>\n",
       "      <td>AllPub</td>\n",
       "      <td>Inside</td>\n",
       "      <td>...</td>\n",
       "      <td>0</td>\n",
       "      <td>0</td>\n",
       "      <td>NaN</td>\n",
       "      <td>GdWo</td>\n",
       "      <td>NaN</td>\n",
       "      <td>0</td>\n",
       "      <td>5</td>\n",
       "      <td>2008</td>\n",
       "      <td>WD</td>\n",
       "      <td>Normal</td>\n",
       "    </tr>\n",
       "    <tr>\n",
       "      <th>2185</th>\n",
       "      <td>20</td>\n",
       "      <td>RL</td>\n",
       "      <td>65.0</td>\n",
       "      <td>6500</td>\n",
       "      <td>Pave</td>\n",
       "      <td>NaN</td>\n",
       "      <td>Reg</td>\n",
       "      <td>Lvl</td>\n",
       "      <td>AllPub</td>\n",
       "      <td>Inside</td>\n",
       "      <td>...</td>\n",
       "      <td>0</td>\n",
       "      <td>0</td>\n",
       "      <td>NaN</td>\n",
       "      <td>NaN</td>\n",
       "      <td>NaN</td>\n",
       "      <td>0</td>\n",
       "      <td>5</td>\n",
       "      <td>2008</td>\n",
       "      <td>WD</td>\n",
       "      <td>Normal</td>\n",
       "    </tr>\n",
       "    <tr>\n",
       "      <th>2524</th>\n",
       "      <td>80</td>\n",
       "      <td>RL</td>\n",
       "      <td>72.0</td>\n",
       "      <td>9720</td>\n",
       "      <td>Pave</td>\n",
       "      <td>NaN</td>\n",
       "      <td>Reg</td>\n",
       "      <td>Lvl</td>\n",
       "      <td>AllPub</td>\n",
       "      <td>Inside</td>\n",
       "      <td>...</td>\n",
       "      <td>0</td>\n",
       "      <td>0</td>\n",
       "      <td>NaN</td>\n",
       "      <td>MnPrv</td>\n",
       "      <td>NaN</td>\n",
       "      <td>0</td>\n",
       "      <td>6</td>\n",
       "      <td>2007</td>\n",
       "      <td>WD</td>\n",
       "      <td>Normal</td>\n",
       "    </tr>\n",
       "  </tbody>\n",
       "</table>\n",
       "<p>3 rows × 79 columns</p>\n",
       "</div>"
      ],
      "text/plain": [
       "      MSSubClass MSZoning  LotFrontage  LotArea Street Alley LotShape  \\\n",
       "2040          20       RL        103.0    16280   Pave   NaN      Reg   \n",
       "2185          20       RL         65.0     6500   Pave   NaN      Reg   \n",
       "2524          80       RL         72.0     9720   Pave   NaN      Reg   \n",
       "\n",
       "     LandContour Utilities LotConfig  ... ScreenPorch PoolArea PoolQC  Fence  \\\n",
       "2040         Lvl    AllPub    Inside  ...           0        0    NaN   GdWo   \n",
       "2185         Lvl    AllPub    Inside  ...           0        0    NaN    NaN   \n",
       "2524         Lvl    AllPub    Inside  ...           0        0    NaN  MnPrv   \n",
       "\n",
       "     MiscFeature MiscVal  MoSold  YrSold  SaleType  SaleCondition  \n",
       "2040         NaN       0       5    2008        WD         Normal  \n",
       "2185         NaN       0       5    2008        WD         Normal  \n",
       "2524         NaN       0       6    2007        WD         Normal  \n",
       "\n",
       "[3 rows x 79 columns]"
      ]
     },
     "execution_count": 13,
     "metadata": {},
     "output_type": "execute_result"
    }
   ],
   "source": [
    "df[~df['BsmtQual'].isna() & df['BsmtCond'].isna()]"
   ]
  },
  {
   "cell_type": "code",
   "execution_count": 14,
   "id": "c4cda91c",
   "metadata": {
    "execution": {
     "iopub.execute_input": "2023-06-20T14:35:55.945059Z",
     "iopub.status.busy": "2023-06-20T14:35:55.944622Z",
     "iopub.status.idle": "2023-06-20T14:35:55.972722Z",
     "shell.execute_reply": "2023-06-20T14:35:55.971471Z"
    },
    "papermill": {
     "duration": 0.060236,
     "end_time": "2023-06-20T14:35:55.974897",
     "exception": false,
     "start_time": "2023-06-20T14:35:55.914661",
     "status": "completed"
    },
    "tags": []
   },
   "outputs": [
    {
     "data": {
      "text/html": [
       "<div>\n",
       "<style scoped>\n",
       "    .dataframe tbody tr th:only-of-type {\n",
       "        vertical-align: middle;\n",
       "    }\n",
       "\n",
       "    .dataframe tbody tr th {\n",
       "        vertical-align: top;\n",
       "    }\n",
       "\n",
       "    .dataframe thead th {\n",
       "        text-align: right;\n",
       "    }\n",
       "</style>\n",
       "<table border=\"1\" class=\"dataframe\">\n",
       "  <thead>\n",
       "    <tr style=\"text-align: right;\">\n",
       "      <th></th>\n",
       "      <th>MSSubClass</th>\n",
       "      <th>MSZoning</th>\n",
       "      <th>LotFrontage</th>\n",
       "      <th>LotArea</th>\n",
       "      <th>Street</th>\n",
       "      <th>Alley</th>\n",
       "      <th>LotShape</th>\n",
       "      <th>LandContour</th>\n",
       "      <th>Utilities</th>\n",
       "      <th>LotConfig</th>\n",
       "      <th>...</th>\n",
       "      <th>ScreenPorch</th>\n",
       "      <th>PoolArea</th>\n",
       "      <th>PoolQC</th>\n",
       "      <th>Fence</th>\n",
       "      <th>MiscFeature</th>\n",
       "      <th>MiscVal</th>\n",
       "      <th>MoSold</th>\n",
       "      <th>YrSold</th>\n",
       "      <th>SaleType</th>\n",
       "      <th>SaleCondition</th>\n",
       "    </tr>\n",
       "  </thead>\n",
       "  <tbody>\n",
       "    <tr>\n",
       "      <th>17</th>\n",
       "      <td>90</td>\n",
       "      <td>RL</td>\n",
       "      <td>72.0</td>\n",
       "      <td>10791</td>\n",
       "      <td>Pave</td>\n",
       "      <td>NaN</td>\n",
       "      <td>Reg</td>\n",
       "      <td>Lvl</td>\n",
       "      <td>AllPub</td>\n",
       "      <td>Inside</td>\n",
       "      <td>...</td>\n",
       "      <td>0</td>\n",
       "      <td>0</td>\n",
       "      <td>NaN</td>\n",
       "      <td>NaN</td>\n",
       "      <td>Shed</td>\n",
       "      <td>500</td>\n",
       "      <td>10</td>\n",
       "      <td>2006</td>\n",
       "      <td>WD</td>\n",
       "      <td>Normal</td>\n",
       "    </tr>\n",
       "    <tr>\n",
       "      <th>39</th>\n",
       "      <td>90</td>\n",
       "      <td>RL</td>\n",
       "      <td>65.0</td>\n",
       "      <td>6040</td>\n",
       "      <td>Pave</td>\n",
       "      <td>NaN</td>\n",
       "      <td>Reg</td>\n",
       "      <td>Lvl</td>\n",
       "      <td>AllPub</td>\n",
       "      <td>Inside</td>\n",
       "      <td>...</td>\n",
       "      <td>0</td>\n",
       "      <td>0</td>\n",
       "      <td>NaN</td>\n",
       "      <td>NaN</td>\n",
       "      <td>NaN</td>\n",
       "      <td>0</td>\n",
       "      <td>6</td>\n",
       "      <td>2008</td>\n",
       "      <td>WD</td>\n",
       "      <td>AdjLand</td>\n",
       "    </tr>\n",
       "    <tr>\n",
       "      <th>90</th>\n",
       "      <td>20</td>\n",
       "      <td>RL</td>\n",
       "      <td>60.0</td>\n",
       "      <td>7200</td>\n",
       "      <td>Pave</td>\n",
       "      <td>NaN</td>\n",
       "      <td>Reg</td>\n",
       "      <td>Lvl</td>\n",
       "      <td>AllPub</td>\n",
       "      <td>Inside</td>\n",
       "      <td>...</td>\n",
       "      <td>0</td>\n",
       "      <td>0</td>\n",
       "      <td>NaN</td>\n",
       "      <td>NaN</td>\n",
       "      <td>NaN</td>\n",
       "      <td>0</td>\n",
       "      <td>7</td>\n",
       "      <td>2006</td>\n",
       "      <td>WD</td>\n",
       "      <td>Normal</td>\n",
       "    </tr>\n",
       "    <tr>\n",
       "      <th>102</th>\n",
       "      <td>90</td>\n",
       "      <td>RL</td>\n",
       "      <td>64.0</td>\n",
       "      <td>7018</td>\n",
       "      <td>Pave</td>\n",
       "      <td>NaN</td>\n",
       "      <td>Reg</td>\n",
       "      <td>Bnk</td>\n",
       "      <td>AllPub</td>\n",
       "      <td>Inside</td>\n",
       "      <td>...</td>\n",
       "      <td>0</td>\n",
       "      <td>0</td>\n",
       "      <td>NaN</td>\n",
       "      <td>NaN</td>\n",
       "      <td>NaN</td>\n",
       "      <td>0</td>\n",
       "      <td>6</td>\n",
       "      <td>2009</td>\n",
       "      <td>WD</td>\n",
       "      <td>Alloca</td>\n",
       "    </tr>\n",
       "    <tr>\n",
       "      <th>156</th>\n",
       "      <td>20</td>\n",
       "      <td>RL</td>\n",
       "      <td>60.0</td>\n",
       "      <td>7200</td>\n",
       "      <td>Pave</td>\n",
       "      <td>NaN</td>\n",
       "      <td>Reg</td>\n",
       "      <td>Lvl</td>\n",
       "      <td>AllPub</td>\n",
       "      <td>Inside</td>\n",
       "      <td>...</td>\n",
       "      <td>0</td>\n",
       "      <td>0</td>\n",
       "      <td>NaN</td>\n",
       "      <td>NaN</td>\n",
       "      <td>NaN</td>\n",
       "      <td>0</td>\n",
       "      <td>6</td>\n",
       "      <td>2006</td>\n",
       "      <td>WD</td>\n",
       "      <td>Normal</td>\n",
       "    </tr>\n",
       "  </tbody>\n",
       "</table>\n",
       "<p>5 rows × 79 columns</p>\n",
       "</div>"
      ],
      "text/plain": [
       "     MSSubClass MSZoning  LotFrontage  LotArea Street Alley LotShape  \\\n",
       "17           90       RL         72.0    10791   Pave   NaN      Reg   \n",
       "39           90       RL         65.0     6040   Pave   NaN      Reg   \n",
       "90           20       RL         60.0     7200   Pave   NaN      Reg   \n",
       "102          90       RL         64.0     7018   Pave   NaN      Reg   \n",
       "156          20       RL         60.0     7200   Pave   NaN      Reg   \n",
       "\n",
       "    LandContour Utilities LotConfig  ... ScreenPorch PoolArea PoolQC Fence  \\\n",
       "17          Lvl    AllPub    Inside  ...           0        0    NaN   NaN   \n",
       "39          Lvl    AllPub    Inside  ...           0        0    NaN   NaN   \n",
       "90          Lvl    AllPub    Inside  ...           0        0    NaN   NaN   \n",
       "102         Bnk    AllPub    Inside  ...           0        0    NaN   NaN   \n",
       "156         Lvl    AllPub    Inside  ...           0        0    NaN   NaN   \n",
       "\n",
       "    MiscFeature MiscVal  MoSold  YrSold  SaleType  SaleCondition  \n",
       "17         Shed     500      10    2006        WD         Normal  \n",
       "39          NaN       0       6    2008        WD        AdjLand  \n",
       "90          NaN       0       7    2006        WD         Normal  \n",
       "102         NaN       0       6    2009        WD         Alloca  \n",
       "156         NaN       0       6    2006        WD         Normal  \n",
       "\n",
       "[5 rows x 79 columns]"
      ]
     },
     "execution_count": 14,
     "metadata": {},
     "output_type": "execute_result"
    }
   ],
   "source": [
    "df[df['BsmtQual'].isna() & df['BsmtCond'].isna() & df['BsmtExposure'].isna()].head()"
   ]
  },
  {
   "cell_type": "code",
   "execution_count": 15,
   "id": "59fefeed",
   "metadata": {
    "execution": {
     "iopub.execute_input": "2023-06-20T14:35:56.035102Z",
     "iopub.status.busy": "2023-06-20T14:35:56.033860Z",
     "iopub.status.idle": "2023-06-20T14:35:56.353958Z",
     "shell.execute_reply": "2023-06-20T14:35:56.352757Z"
    },
    "papermill": {
     "duration": 0.353574,
     "end_time": "2023-06-20T14:35:56.356768",
     "exception": false,
     "start_time": "2023-06-20T14:35:56.003194",
     "status": "completed"
    },
    "tags": []
   },
   "outputs": [],
   "source": [
    "# 'BsmtQual', 'BsmtCond', 'BsmtExposure','BsmtFinType1','BsmtFinType2' all pertain to the characteristics of the basement. \n",
    "# If all these features are NaN then we will change them to 'NA' instead.\n",
    "for i in range(len(df)):\n",
    "    if pd.isna(df['BsmtQual'][i]) & pd.isna(df['BsmtCond'][i]) & pd.isna(df['BsmtExposure'][i]) & pd.isna(df['BsmtFinType1'][i]) & pd.isna(df['BsmtFinType2'][i]):\n",
    "        df.loc[i, ['BsmtQual', 'BsmtCond', 'BsmtExposure', 'BsmtFinType1','BsmtFinType2']] = 'NA'\n",
    "        if pd.isna(df['BsmtFinSF1'][i]) & pd.isna(df['BsmtFinSF2'][i]):\n",
    "            df.loc[i, ['BsmtFinSF1', 'BsmtFinSF2']] = 0 #Will set this values to 0 as there is no finished square feet of basement if there is no basement.                         "
   ]
  },
  {
   "cell_type": "code",
   "execution_count": 16,
   "id": "06fb1995",
   "metadata": {
    "execution": {
     "iopub.execute_input": "2023-06-20T14:35:56.415488Z",
     "iopub.status.busy": "2023-06-20T14:35:56.415082Z",
     "iopub.status.idle": "2023-06-20T14:35:56.441038Z",
     "shell.execute_reply": "2023-06-20T14:35:56.439891Z"
    },
    "papermill": {
     "duration": 0.058057,
     "end_time": "2023-06-20T14:35:56.443626",
     "exception": false,
     "start_time": "2023-06-20T14:35:56.385569",
     "status": "completed"
    },
    "tags": []
   },
   "outputs": [
    {
     "data": {
      "text/html": [
       "<div>\n",
       "<style scoped>\n",
       "    .dataframe tbody tr th:only-of-type {\n",
       "        vertical-align: middle;\n",
       "    }\n",
       "\n",
       "    .dataframe tbody tr th {\n",
       "        vertical-align: top;\n",
       "    }\n",
       "\n",
       "    .dataframe thead th {\n",
       "        text-align: right;\n",
       "    }\n",
       "</style>\n",
       "<table border=\"1\" class=\"dataframe\">\n",
       "  <thead>\n",
       "    <tr style=\"text-align: right;\">\n",
       "      <th></th>\n",
       "      <th>MSSubClass</th>\n",
       "      <th>MSZoning</th>\n",
       "      <th>LotFrontage</th>\n",
       "      <th>LotArea</th>\n",
       "      <th>Street</th>\n",
       "      <th>Alley</th>\n",
       "      <th>LotShape</th>\n",
       "      <th>LandContour</th>\n",
       "      <th>Utilities</th>\n",
       "      <th>LotConfig</th>\n",
       "      <th>...</th>\n",
       "      <th>ScreenPorch</th>\n",
       "      <th>PoolArea</th>\n",
       "      <th>PoolQC</th>\n",
       "      <th>Fence</th>\n",
       "      <th>MiscFeature</th>\n",
       "      <th>MiscVal</th>\n",
       "      <th>MoSold</th>\n",
       "      <th>YrSold</th>\n",
       "      <th>SaleType</th>\n",
       "      <th>SaleCondition</th>\n",
       "    </tr>\n",
       "  </thead>\n",
       "  <tbody>\n",
       "    <tr>\n",
       "      <th>1915</th>\n",
       "      <td>30</td>\n",
       "      <td>NaN</td>\n",
       "      <td>109.0</td>\n",
       "      <td>21780</td>\n",
       "      <td>Grvl</td>\n",
       "      <td>NaN</td>\n",
       "      <td>Reg</td>\n",
       "      <td>Lvl</td>\n",
       "      <td>NaN</td>\n",
       "      <td>Inside</td>\n",
       "      <td>...</td>\n",
       "      <td>0</td>\n",
       "      <td>0</td>\n",
       "      <td>NaN</td>\n",
       "      <td>NaN</td>\n",
       "      <td>NaN</td>\n",
       "      <td>0</td>\n",
       "      <td>3</td>\n",
       "      <td>2009</td>\n",
       "      <td>ConLD</td>\n",
       "      <td>Normal</td>\n",
       "    </tr>\n",
       "    <tr>\n",
       "      <th>1945</th>\n",
       "      <td>20</td>\n",
       "      <td>RL</td>\n",
       "      <td>NaN</td>\n",
       "      <td>31220</td>\n",
       "      <td>Pave</td>\n",
       "      <td>NaN</td>\n",
       "      <td>IR1</td>\n",
       "      <td>Bnk</td>\n",
       "      <td>NaN</td>\n",
       "      <td>FR2</td>\n",
       "      <td>...</td>\n",
       "      <td>0</td>\n",
       "      <td>0</td>\n",
       "      <td>NaN</td>\n",
       "      <td>NaN</td>\n",
       "      <td>Shed</td>\n",
       "      <td>750</td>\n",
       "      <td>5</td>\n",
       "      <td>2008</td>\n",
       "      <td>WD</td>\n",
       "      <td>Normal</td>\n",
       "    </tr>\n",
       "  </tbody>\n",
       "</table>\n",
       "<p>2 rows × 79 columns</p>\n",
       "</div>"
      ],
      "text/plain": [
       "      MSSubClass MSZoning  LotFrontage  LotArea Street Alley LotShape  \\\n",
       "1915          30      NaN        109.0    21780   Grvl   NaN      Reg   \n",
       "1945          20       RL          NaN    31220   Pave   NaN      IR1   \n",
       "\n",
       "     LandContour Utilities LotConfig  ... ScreenPorch PoolArea PoolQC Fence  \\\n",
       "1915         Lvl       NaN    Inside  ...           0        0    NaN   NaN   \n",
       "1945         Bnk       NaN       FR2  ...           0        0    NaN   NaN   \n",
       "\n",
       "     MiscFeature MiscVal  MoSold  YrSold  SaleType  SaleCondition  \n",
       "1915         NaN       0       3    2009     ConLD         Normal  \n",
       "1945        Shed     750       5    2008        WD         Normal  \n",
       "\n",
       "[2 rows x 79 columns]"
      ]
     },
     "execution_count": 16,
     "metadata": {},
     "output_type": "execute_result"
    }
   ],
   "source": [
    "df[df['Utilities'].isna()] #Only two entries have NaN. One of them also has NaN for MSZoning."
   ]
  },
  {
   "cell_type": "code",
   "execution_count": 17,
   "id": "4a45bc41",
   "metadata": {
    "execution": {
     "iopub.execute_input": "2023-06-20T14:35:56.503934Z",
     "iopub.status.busy": "2023-06-20T14:35:56.503523Z",
     "iopub.status.idle": "2023-06-20T14:35:56.527079Z",
     "shell.execute_reply": "2023-06-20T14:35:56.525958Z"
    },
    "papermill": {
     "duration": 0.055987,
     "end_time": "2023-06-20T14:35:56.529298",
     "exception": false,
     "start_time": "2023-06-20T14:35:56.473311",
     "status": "completed"
    },
    "tags": []
   },
   "outputs": [
    {
     "data": {
      "text/html": [
       "<div>\n",
       "<style scoped>\n",
       "    .dataframe tbody tr th:only-of-type {\n",
       "        vertical-align: middle;\n",
       "    }\n",
       "\n",
       "    .dataframe tbody tr th {\n",
       "        vertical-align: top;\n",
       "    }\n",
       "\n",
       "    .dataframe thead th {\n",
       "        text-align: right;\n",
       "    }\n",
       "</style>\n",
       "<table border=\"1\" class=\"dataframe\">\n",
       "  <thead>\n",
       "    <tr style=\"text-align: right;\">\n",
       "      <th></th>\n",
       "      <th>MSSubClass</th>\n",
       "      <th>MSZoning</th>\n",
       "      <th>LotFrontage</th>\n",
       "      <th>LotArea</th>\n",
       "      <th>Street</th>\n",
       "      <th>Alley</th>\n",
       "      <th>LotShape</th>\n",
       "      <th>LandContour</th>\n",
       "      <th>Utilities</th>\n",
       "      <th>LotConfig</th>\n",
       "      <th>...</th>\n",
       "      <th>ScreenPorch</th>\n",
       "      <th>PoolArea</th>\n",
       "      <th>PoolQC</th>\n",
       "      <th>Fence</th>\n",
       "      <th>MiscFeature</th>\n",
       "      <th>MiscVal</th>\n",
       "      <th>MoSold</th>\n",
       "      <th>YrSold</th>\n",
       "      <th>SaleType</th>\n",
       "      <th>SaleCondition</th>\n",
       "    </tr>\n",
       "  </thead>\n",
       "  <tbody>\n",
       "    <tr>\n",
       "      <th>2151</th>\n",
       "      <td>30</td>\n",
       "      <td>RL</td>\n",
       "      <td>85.0</td>\n",
       "      <td>19550</td>\n",
       "      <td>Pave</td>\n",
       "      <td>NaN</td>\n",
       "      <td>Reg</td>\n",
       "      <td>Lvl</td>\n",
       "      <td>AllPub</td>\n",
       "      <td>Inside</td>\n",
       "      <td>...</td>\n",
       "      <td>0</td>\n",
       "      <td>0</td>\n",
       "      <td>NaN</td>\n",
       "      <td>NaN</td>\n",
       "      <td>NaN</td>\n",
       "      <td>0</td>\n",
       "      <td>1</td>\n",
       "      <td>2008</td>\n",
       "      <td>WD</td>\n",
       "      <td>Normal</td>\n",
       "    </tr>\n",
       "  </tbody>\n",
       "</table>\n",
       "<p>1 rows × 79 columns</p>\n",
       "</div>"
      ],
      "text/plain": [
       "      MSSubClass MSZoning  LotFrontage  LotArea Street Alley LotShape  \\\n",
       "2151          30       RL         85.0    19550   Pave   NaN      Reg   \n",
       "\n",
       "     LandContour Utilities LotConfig  ... ScreenPorch PoolArea PoolQC Fence  \\\n",
       "2151         Lvl    AllPub    Inside  ...           0        0    NaN   NaN   \n",
       "\n",
       "     MiscFeature MiscVal  MoSold  YrSold  SaleType  SaleCondition  \n",
       "2151         NaN       0       1    2008        WD         Normal  \n",
       "\n",
       "[1 rows x 79 columns]"
      ]
     },
     "execution_count": 17,
     "metadata": {},
     "output_type": "execute_result"
    }
   ],
   "source": [
    "df[df['Exterior1st'].isna()] #Only one entry has NaN for Exterior1st and 2nd."
   ]
  },
  {
   "cell_type": "code",
   "execution_count": 18,
   "id": "1d729e22",
   "metadata": {
    "execution": {
     "iopub.execute_input": "2023-06-20T14:35:56.588981Z",
     "iopub.status.busy": "2023-06-20T14:35:56.588467Z",
     "iopub.status.idle": "2023-06-20T14:35:56.598056Z",
     "shell.execute_reply": "2023-06-20T14:35:56.596800Z"
    },
    "papermill": {
     "duration": 0.042377,
     "end_time": "2023-06-20T14:35:56.600506",
     "exception": false,
     "start_time": "2023-06-20T14:35:56.558129",
     "status": "completed"
    },
    "tags": []
   },
   "outputs": [
    {
     "data": {
      "text/plain": [
       "None       1742\n",
       "BrkFace     879\n",
       "Stone       249\n",
       "BrkCmn       25\n",
       "Name: MasVnrType, dtype: int64"
      ]
     },
     "execution_count": 18,
     "metadata": {},
     "output_type": "execute_result"
    }
   ],
   "source": [
    "df['MasVnrType'].value_counts()"
   ]
  },
  {
   "cell_type": "code",
   "execution_count": 19,
   "id": "ac6f8732",
   "metadata": {
    "execution": {
     "iopub.execute_input": "2023-06-20T14:35:56.660063Z",
     "iopub.status.busy": "2023-06-20T14:35:56.659642Z",
     "iopub.status.idle": "2023-06-20T14:35:56.686087Z",
     "shell.execute_reply": "2023-06-20T14:35:56.684908Z"
    },
    "papermill": {
     "duration": 0.059058,
     "end_time": "2023-06-20T14:35:56.688509",
     "exception": false,
     "start_time": "2023-06-20T14:35:56.629451",
     "status": "completed"
    },
    "tags": []
   },
   "outputs": [
    {
     "data": {
      "text/html": [
       "<div>\n",
       "<style scoped>\n",
       "    .dataframe tbody tr th:only-of-type {\n",
       "        vertical-align: middle;\n",
       "    }\n",
       "\n",
       "    .dataframe tbody tr th {\n",
       "        vertical-align: top;\n",
       "    }\n",
       "\n",
       "    .dataframe thead th {\n",
       "        text-align: right;\n",
       "    }\n",
       "</style>\n",
       "<table border=\"1\" class=\"dataframe\">\n",
       "  <thead>\n",
       "    <tr style=\"text-align: right;\">\n",
       "      <th></th>\n",
       "      <th>MSSubClass</th>\n",
       "      <th>MSZoning</th>\n",
       "      <th>LotFrontage</th>\n",
       "      <th>LotArea</th>\n",
       "      <th>Street</th>\n",
       "      <th>Alley</th>\n",
       "      <th>LotShape</th>\n",
       "      <th>LandContour</th>\n",
       "      <th>Utilities</th>\n",
       "      <th>LotConfig</th>\n",
       "      <th>...</th>\n",
       "      <th>ScreenPorch</th>\n",
       "      <th>PoolArea</th>\n",
       "      <th>PoolQC</th>\n",
       "      <th>Fence</th>\n",
       "      <th>MiscFeature</th>\n",
       "      <th>MiscVal</th>\n",
       "      <th>MoSold</th>\n",
       "      <th>YrSold</th>\n",
       "      <th>SaleType</th>\n",
       "      <th>SaleCondition</th>\n",
       "    </tr>\n",
       "  </thead>\n",
       "  <tbody>\n",
       "    <tr>\n",
       "      <th>234</th>\n",
       "      <td>60</td>\n",
       "      <td>RL</td>\n",
       "      <td>NaN</td>\n",
       "      <td>7851</td>\n",
       "      <td>Pave</td>\n",
       "      <td>NaN</td>\n",
       "      <td>Reg</td>\n",
       "      <td>Lvl</td>\n",
       "      <td>AllPub</td>\n",
       "      <td>Inside</td>\n",
       "      <td>...</td>\n",
       "      <td>0</td>\n",
       "      <td>0</td>\n",
       "      <td>NaN</td>\n",
       "      <td>NaN</td>\n",
       "      <td>NaN</td>\n",
       "      <td>0</td>\n",
       "      <td>5</td>\n",
       "      <td>2010</td>\n",
       "      <td>WD</td>\n",
       "      <td>Normal</td>\n",
       "    </tr>\n",
       "    <tr>\n",
       "      <th>529</th>\n",
       "      <td>20</td>\n",
       "      <td>RL</td>\n",
       "      <td>NaN</td>\n",
       "      <td>32668</td>\n",
       "      <td>Pave</td>\n",
       "      <td>NaN</td>\n",
       "      <td>IR1</td>\n",
       "      <td>Lvl</td>\n",
       "      <td>AllPub</td>\n",
       "      <td>CulDSac</td>\n",
       "      <td>...</td>\n",
       "      <td>0</td>\n",
       "      <td>0</td>\n",
       "      <td>NaN</td>\n",
       "      <td>NaN</td>\n",
       "      <td>NaN</td>\n",
       "      <td>0</td>\n",
       "      <td>3</td>\n",
       "      <td>2007</td>\n",
       "      <td>WD</td>\n",
       "      <td>Alloca</td>\n",
       "    </tr>\n",
       "    <tr>\n",
       "      <th>650</th>\n",
       "      <td>60</td>\n",
       "      <td>FV</td>\n",
       "      <td>65.0</td>\n",
       "      <td>8125</td>\n",
       "      <td>Pave</td>\n",
       "      <td>NaN</td>\n",
       "      <td>Reg</td>\n",
       "      <td>Lvl</td>\n",
       "      <td>AllPub</td>\n",
       "      <td>Inside</td>\n",
       "      <td>...</td>\n",
       "      <td>0</td>\n",
       "      <td>0</td>\n",
       "      <td>NaN</td>\n",
       "      <td>NaN</td>\n",
       "      <td>NaN</td>\n",
       "      <td>0</td>\n",
       "      <td>5</td>\n",
       "      <td>2008</td>\n",
       "      <td>WD</td>\n",
       "      <td>Normal</td>\n",
       "    </tr>\n",
       "    <tr>\n",
       "      <th>936</th>\n",
       "      <td>20</td>\n",
       "      <td>RL</td>\n",
       "      <td>67.0</td>\n",
       "      <td>10083</td>\n",
       "      <td>Pave</td>\n",
       "      <td>NaN</td>\n",
       "      <td>Reg</td>\n",
       "      <td>Lvl</td>\n",
       "      <td>AllPub</td>\n",
       "      <td>Inside</td>\n",
       "      <td>...</td>\n",
       "      <td>0</td>\n",
       "      <td>0</td>\n",
       "      <td>NaN</td>\n",
       "      <td>NaN</td>\n",
       "      <td>NaN</td>\n",
       "      <td>0</td>\n",
       "      <td>8</td>\n",
       "      <td>2009</td>\n",
       "      <td>WD</td>\n",
       "      <td>Normal</td>\n",
       "    </tr>\n",
       "    <tr>\n",
       "      <th>973</th>\n",
       "      <td>20</td>\n",
       "      <td>FV</td>\n",
       "      <td>95.0</td>\n",
       "      <td>11639</td>\n",
       "      <td>Pave</td>\n",
       "      <td>NaN</td>\n",
       "      <td>Reg</td>\n",
       "      <td>Lvl</td>\n",
       "      <td>AllPub</td>\n",
       "      <td>Corner</td>\n",
       "      <td>...</td>\n",
       "      <td>0</td>\n",
       "      <td>0</td>\n",
       "      <td>NaN</td>\n",
       "      <td>NaN</td>\n",
       "      <td>NaN</td>\n",
       "      <td>0</td>\n",
       "      <td>12</td>\n",
       "      <td>2008</td>\n",
       "      <td>New</td>\n",
       "      <td>Partial</td>\n",
       "    </tr>\n",
       "  </tbody>\n",
       "</table>\n",
       "<p>5 rows × 79 columns</p>\n",
       "</div>"
      ],
      "text/plain": [
       "     MSSubClass MSZoning  LotFrontage  LotArea Street Alley LotShape  \\\n",
       "234          60       RL          NaN     7851   Pave   NaN      Reg   \n",
       "529          20       RL          NaN    32668   Pave   NaN      IR1   \n",
       "650          60       FV         65.0     8125   Pave   NaN      Reg   \n",
       "936          20       RL         67.0    10083   Pave   NaN      Reg   \n",
       "973          20       FV         95.0    11639   Pave   NaN      Reg   \n",
       "\n",
       "    LandContour Utilities LotConfig  ... ScreenPorch PoolArea PoolQC Fence  \\\n",
       "234         Lvl    AllPub    Inside  ...           0        0    NaN   NaN   \n",
       "529         Lvl    AllPub   CulDSac  ...           0        0    NaN   NaN   \n",
       "650         Lvl    AllPub    Inside  ...           0        0    NaN   NaN   \n",
       "936         Lvl    AllPub    Inside  ...           0        0    NaN   NaN   \n",
       "973         Lvl    AllPub    Corner  ...           0        0    NaN   NaN   \n",
       "\n",
       "    MiscFeature MiscVal  MoSold  YrSold  SaleType  SaleCondition  \n",
       "234         NaN       0       5    2010        WD         Normal  \n",
       "529         NaN       0       3    2007        WD         Alloca  \n",
       "650         NaN       0       5    2008        WD         Normal  \n",
       "936         NaN       0       8    2009        WD         Normal  \n",
       "973         NaN       0      12    2008       New        Partial  \n",
       "\n",
       "[5 rows x 79 columns]"
      ]
     },
     "execution_count": 19,
     "metadata": {},
     "output_type": "execute_result"
    }
   ],
   "source": [
    "df[df['MasVnrType'].isna()].head()"
   ]
  },
  {
   "cell_type": "code",
   "execution_count": 20,
   "id": "35dc0a33",
   "metadata": {
    "execution": {
     "iopub.execute_input": "2023-06-20T14:35:56.749391Z",
     "iopub.status.busy": "2023-06-20T14:35:56.748945Z",
     "iopub.status.idle": "2023-06-20T14:35:56.756211Z",
     "shell.execute_reply": "2023-06-20T14:35:56.755010Z"
    },
    "papermill": {
     "duration": 0.040744,
     "end_time": "2023-06-20T14:35:56.758570",
     "exception": false,
     "start_time": "2023-06-20T14:35:56.717826",
     "status": "completed"
    },
    "tags": []
   },
   "outputs": [],
   "source": [
    "df.loc[2610, 'MasVnrArea'] = 0 #2610 entry has NaN for MasVnrType but has a value for MasVnrArea which doesn't make sence. We will replace it with 0\n",
    "df['MasVnrType'].fillna('NA', inplace=True)"
   ]
  },
  {
   "cell_type": "code",
   "execution_count": 21,
   "id": "90ee91c8",
   "metadata": {
    "execution": {
     "iopub.execute_input": "2023-06-20T14:35:56.820703Z",
     "iopub.status.busy": "2023-06-20T14:35:56.820290Z",
     "iopub.status.idle": "2023-06-20T14:35:56.826535Z",
     "shell.execute_reply": "2023-06-20T14:35:56.825340Z"
    },
    "papermill": {
     "duration": 0.04027,
     "end_time": "2023-06-20T14:35:56.829059",
     "exception": false,
     "start_time": "2023-06-20T14:35:56.788789",
     "status": "completed"
    },
    "tags": []
   },
   "outputs": [],
   "source": [
    "df['MasVnrArea'].fillna(0, inplace=True) #replace the remaining MasVnrArea NaN's with 0"
   ]
  },
  {
   "cell_type": "code",
   "execution_count": 22,
   "id": "e232e8df",
   "metadata": {
    "execution": {
     "iopub.execute_input": "2023-06-20T14:35:56.890125Z",
     "iopub.status.busy": "2023-06-20T14:35:56.889670Z",
     "iopub.status.idle": "2023-06-20T14:35:56.906770Z",
     "shell.execute_reply": "2023-06-20T14:35:56.905445Z"
    },
    "papermill": {
     "duration": 0.050763,
     "end_time": "2023-06-20T14:35:56.909300",
     "exception": false,
     "start_time": "2023-06-20T14:35:56.858537",
     "status": "completed"
    },
    "tags": []
   },
   "outputs": [],
   "source": [
    "for i, a in enumerate(df['LotFrontage']): #resolve LotFrontage NaN by replacing with Mode based on BldgType\n",
    "    if pd.isna(a):\n",
    "        df['LotFrontage'].fillna(df[df['BldgType'] == df.loc[i, 'BldgType']]['LotFrontage'].mode()[0], inplace=True)"
   ]
  },
  {
   "cell_type": "code",
   "execution_count": 23,
   "id": "e2ddadd6",
   "metadata": {
    "execution": {
     "iopub.execute_input": "2023-06-20T14:35:56.971073Z",
     "iopub.status.busy": "2023-06-20T14:35:56.970656Z",
     "iopub.status.idle": "2023-06-20T14:35:56.996444Z",
     "shell.execute_reply": "2023-06-20T14:35:56.995390Z"
    },
    "papermill": {
     "duration": 0.0593,
     "end_time": "2023-06-20T14:35:56.998723",
     "exception": false,
     "start_time": "2023-06-20T14:35:56.939423",
     "status": "completed"
    },
    "tags": []
   },
   "outputs": [
    {
     "data": {
      "text/html": [
       "<div>\n",
       "<style scoped>\n",
       "    .dataframe tbody tr th:only-of-type {\n",
       "        vertical-align: middle;\n",
       "    }\n",
       "\n",
       "    .dataframe tbody tr th {\n",
       "        vertical-align: top;\n",
       "    }\n",
       "\n",
       "    .dataframe thead th {\n",
       "        text-align: right;\n",
       "    }\n",
       "</style>\n",
       "<table border=\"1\" class=\"dataframe\">\n",
       "  <thead>\n",
       "    <tr style=\"text-align: right;\">\n",
       "      <th></th>\n",
       "      <th>MSSubClass</th>\n",
       "      <th>MSZoning</th>\n",
       "      <th>LotFrontage</th>\n",
       "      <th>LotArea</th>\n",
       "      <th>Street</th>\n",
       "      <th>Alley</th>\n",
       "      <th>LotShape</th>\n",
       "      <th>LandContour</th>\n",
       "      <th>Utilities</th>\n",
       "      <th>LotConfig</th>\n",
       "      <th>...</th>\n",
       "      <th>ScreenPorch</th>\n",
       "      <th>PoolArea</th>\n",
       "      <th>PoolQC</th>\n",
       "      <th>Fence</th>\n",
       "      <th>MiscFeature</th>\n",
       "      <th>MiscVal</th>\n",
       "      <th>MoSold</th>\n",
       "      <th>YrSold</th>\n",
       "      <th>SaleType</th>\n",
       "      <th>SaleCondition</th>\n",
       "    </tr>\n",
       "  </thead>\n",
       "  <tbody>\n",
       "    <tr>\n",
       "      <th>2217</th>\n",
       "      <td>70</td>\n",
       "      <td>C (all)</td>\n",
       "      <td>60.0</td>\n",
       "      <td>5280</td>\n",
       "      <td>Pave</td>\n",
       "      <td>NaN</td>\n",
       "      <td>Reg</td>\n",
       "      <td>Lvl</td>\n",
       "      <td>AllPub</td>\n",
       "      <td>Corner</td>\n",
       "      <td>...</td>\n",
       "      <td>0</td>\n",
       "      <td>0</td>\n",
       "      <td>NaN</td>\n",
       "      <td>NaN</td>\n",
       "      <td>NaN</td>\n",
       "      <td>0</td>\n",
       "      <td>7</td>\n",
       "      <td>2008</td>\n",
       "      <td>WD</td>\n",
       "      <td>Normal</td>\n",
       "    </tr>\n",
       "    <tr>\n",
       "      <th>2218</th>\n",
       "      <td>50</td>\n",
       "      <td>C (all)</td>\n",
       "      <td>52.0</td>\n",
       "      <td>5150</td>\n",
       "      <td>Pave</td>\n",
       "      <td>NaN</td>\n",
       "      <td>Reg</td>\n",
       "      <td>Lvl</td>\n",
       "      <td>AllPub</td>\n",
       "      <td>Corner</td>\n",
       "      <td>...</td>\n",
       "      <td>0</td>\n",
       "      <td>0</td>\n",
       "      <td>NaN</td>\n",
       "      <td>NaN</td>\n",
       "      <td>NaN</td>\n",
       "      <td>0</td>\n",
       "      <td>5</td>\n",
       "      <td>2008</td>\n",
       "      <td>WD</td>\n",
       "      <td>Normal</td>\n",
       "    </tr>\n",
       "  </tbody>\n",
       "</table>\n",
       "<p>2 rows × 79 columns</p>\n",
       "</div>"
      ],
      "text/plain": [
       "      MSSubClass MSZoning  LotFrontage  LotArea Street Alley LotShape  \\\n",
       "2217          70  C (all)         60.0     5280   Pave   NaN      Reg   \n",
       "2218          50  C (all)         52.0     5150   Pave   NaN      Reg   \n",
       "\n",
       "     LandContour Utilities LotConfig  ... ScreenPorch PoolArea PoolQC Fence  \\\n",
       "2217         Lvl    AllPub    Corner  ...           0        0    NaN   NaN   \n",
       "2218         Lvl    AllPub    Corner  ...           0        0    NaN   NaN   \n",
       "\n",
       "     MiscFeature MiscVal  MoSold  YrSold  SaleType  SaleCondition  \n",
       "2217         NaN       0       7    2008        WD         Normal  \n",
       "2218         NaN       0       5    2008        WD         Normal  \n",
       "\n",
       "[2 rows x 79 columns]"
      ]
     },
     "execution_count": 23,
     "metadata": {},
     "output_type": "execute_result"
    }
   ],
   "source": [
    "df[df['BsmtQual'].isna()]"
   ]
  },
  {
   "cell_type": "code",
   "execution_count": 24,
   "id": "78bc0022",
   "metadata": {
    "execution": {
     "iopub.execute_input": "2023-06-20T14:35:57.060898Z",
     "iopub.status.busy": "2023-06-20T14:35:57.060468Z",
     "iopub.status.idle": "2023-06-20T14:35:57.074501Z",
     "shell.execute_reply": "2023-06-20T14:35:57.073706Z"
    },
    "papermill": {
     "duration": 0.047604,
     "end_time": "2023-06-20T14:35:57.076799",
     "exception": false,
     "start_time": "2023-06-20T14:35:57.029195",
     "status": "completed"
    },
    "tags": []
   },
   "outputs": [
    {
     "data": {
      "text/plain": [
       "BsmtExposure  BsmtQual\n",
       "Av            Gd           261\n",
       "              TA            95\n",
       "              Ex            62\n",
       "Gd            Gd           139\n",
       "              Ex            91\n",
       "              TA            44\n",
       "              Fa             2\n",
       "Mn            Gd           112\n",
       "              TA            97\n",
       "              Ex            20\n",
       "              Fa            10\n",
       "NA            NA            79\n",
       "No            TA          1047\n",
       "              Gd           694\n",
       "              Ex            85\n",
       "              Fa            76\n",
       "Name: BsmtQual, dtype: int64"
      ]
     },
     "execution_count": 24,
     "metadata": {},
     "output_type": "execute_result"
    }
   ],
   "source": [
    "df.groupby(['BsmtExposure'])['BsmtQual'].value_counts() #Basements with no exposure have more often typical values for hight. We will change the 2 values of BsmtQual NaN with 'TA'"
   ]
  },
  {
   "cell_type": "code",
   "execution_count": 25,
   "id": "e7f33625",
   "metadata": {
    "execution": {
     "iopub.execute_input": "2023-06-20T14:35:57.138869Z",
     "iopub.status.busy": "2023-06-20T14:35:57.138233Z",
     "iopub.status.idle": "2023-06-20T14:35:57.144111Z",
     "shell.execute_reply": "2023-06-20T14:35:57.143069Z"
    },
    "papermill": {
     "duration": 0.039772,
     "end_time": "2023-06-20T14:35:57.146439",
     "exception": false,
     "start_time": "2023-06-20T14:35:57.106667",
     "status": "completed"
    },
    "tags": []
   },
   "outputs": [],
   "source": [
    "df['BsmtQual'].fillna('TA', inplace=True)"
   ]
  },
  {
   "cell_type": "code",
   "execution_count": 26,
   "id": "cab6645f",
   "metadata": {
    "execution": {
     "iopub.execute_input": "2023-06-20T14:35:57.207633Z",
     "iopub.status.busy": "2023-06-20T14:35:57.207232Z",
     "iopub.status.idle": "2023-06-20T14:35:57.234025Z",
     "shell.execute_reply": "2023-06-20T14:35:57.232769Z"
    },
    "papermill": {
     "duration": 0.060039,
     "end_time": "2023-06-20T14:35:57.236356",
     "exception": false,
     "start_time": "2023-06-20T14:35:57.176317",
     "status": "completed"
    },
    "tags": []
   },
   "outputs": [
    {
     "data": {
      "text/html": [
       "<div>\n",
       "<style scoped>\n",
       "    .dataframe tbody tr th:only-of-type {\n",
       "        vertical-align: middle;\n",
       "    }\n",
       "\n",
       "    .dataframe tbody tr th {\n",
       "        vertical-align: top;\n",
       "    }\n",
       "\n",
       "    .dataframe thead th {\n",
       "        text-align: right;\n",
       "    }\n",
       "</style>\n",
       "<table border=\"1\" class=\"dataframe\">\n",
       "  <thead>\n",
       "    <tr style=\"text-align: right;\">\n",
       "      <th></th>\n",
       "      <th>MSSubClass</th>\n",
       "      <th>MSZoning</th>\n",
       "      <th>LotFrontage</th>\n",
       "      <th>LotArea</th>\n",
       "      <th>Street</th>\n",
       "      <th>Alley</th>\n",
       "      <th>LotShape</th>\n",
       "      <th>LandContour</th>\n",
       "      <th>Utilities</th>\n",
       "      <th>LotConfig</th>\n",
       "      <th>...</th>\n",
       "      <th>ScreenPorch</th>\n",
       "      <th>PoolArea</th>\n",
       "      <th>PoolQC</th>\n",
       "      <th>Fence</th>\n",
       "      <th>MiscFeature</th>\n",
       "      <th>MiscVal</th>\n",
       "      <th>MoSold</th>\n",
       "      <th>YrSold</th>\n",
       "      <th>SaleType</th>\n",
       "      <th>SaleCondition</th>\n",
       "    </tr>\n",
       "  </thead>\n",
       "  <tbody>\n",
       "    <tr>\n",
       "      <th>948</th>\n",
       "      <td>60</td>\n",
       "      <td>RL</td>\n",
       "      <td>65.0</td>\n",
       "      <td>14006</td>\n",
       "      <td>Pave</td>\n",
       "      <td>NaN</td>\n",
       "      <td>IR1</td>\n",
       "      <td>Lvl</td>\n",
       "      <td>AllPub</td>\n",
       "      <td>Inside</td>\n",
       "      <td>...</td>\n",
       "      <td>0</td>\n",
       "      <td>0</td>\n",
       "      <td>NaN</td>\n",
       "      <td>NaN</td>\n",
       "      <td>NaN</td>\n",
       "      <td>0</td>\n",
       "      <td>2</td>\n",
       "      <td>2006</td>\n",
       "      <td>WD</td>\n",
       "      <td>Normal</td>\n",
       "    </tr>\n",
       "    <tr>\n",
       "      <th>1487</th>\n",
       "      <td>20</td>\n",
       "      <td>RL</td>\n",
       "      <td>73.0</td>\n",
       "      <td>8987</td>\n",
       "      <td>Pave</td>\n",
       "      <td>NaN</td>\n",
       "      <td>Reg</td>\n",
       "      <td>Lvl</td>\n",
       "      <td>AllPub</td>\n",
       "      <td>Inside</td>\n",
       "      <td>...</td>\n",
       "      <td>0</td>\n",
       "      <td>0</td>\n",
       "      <td>NaN</td>\n",
       "      <td>NaN</td>\n",
       "      <td>NaN</td>\n",
       "      <td>0</td>\n",
       "      <td>5</td>\n",
       "      <td>2010</td>\n",
       "      <td>WD</td>\n",
       "      <td>Normal</td>\n",
       "    </tr>\n",
       "    <tr>\n",
       "      <th>2348</th>\n",
       "      <td>60</td>\n",
       "      <td>FV</td>\n",
       "      <td>81.0</td>\n",
       "      <td>10411</td>\n",
       "      <td>Pave</td>\n",
       "      <td>NaN</td>\n",
       "      <td>Reg</td>\n",
       "      <td>Lvl</td>\n",
       "      <td>AllPub</td>\n",
       "      <td>Corner</td>\n",
       "      <td>...</td>\n",
       "      <td>0</td>\n",
       "      <td>0</td>\n",
       "      <td>NaN</td>\n",
       "      <td>NaN</td>\n",
       "      <td>NaN</td>\n",
       "      <td>0</td>\n",
       "      <td>7</td>\n",
       "      <td>2007</td>\n",
       "      <td>New</td>\n",
       "      <td>Partial</td>\n",
       "    </tr>\n",
       "  </tbody>\n",
       "</table>\n",
       "<p>3 rows × 79 columns</p>\n",
       "</div>"
      ],
      "text/plain": [
       "      MSSubClass MSZoning  LotFrontage  LotArea Street Alley LotShape  \\\n",
       "948           60       RL         65.0    14006   Pave   NaN      IR1   \n",
       "1487          20       RL         73.0     8987   Pave   NaN      Reg   \n",
       "2348          60       FV         81.0    10411   Pave   NaN      Reg   \n",
       "\n",
       "     LandContour Utilities LotConfig  ... ScreenPorch PoolArea PoolQC Fence  \\\n",
       "948          Lvl    AllPub    Inside  ...           0        0    NaN   NaN   \n",
       "1487         Lvl    AllPub    Inside  ...           0        0    NaN   NaN   \n",
       "2348         Lvl    AllPub    Corner  ...           0        0    NaN   NaN   \n",
       "\n",
       "     MiscFeature MiscVal  MoSold  YrSold  SaleType  SaleCondition  \n",
       "948          NaN       0       2    2006        WD         Normal  \n",
       "1487         NaN       0       5    2010        WD         Normal  \n",
       "2348         NaN       0       7    2007       New        Partial  \n",
       "\n",
       "[3 rows x 79 columns]"
      ]
     },
     "execution_count": 26,
     "metadata": {},
     "output_type": "execute_result"
    }
   ],
   "source": [
    "df[df['BsmtExposure'].isna()]"
   ]
  },
  {
   "cell_type": "code",
   "execution_count": 27,
   "id": "8a7caea6",
   "metadata": {
    "execution": {
     "iopub.execute_input": "2023-06-20T14:35:57.298169Z",
     "iopub.status.busy": "2023-06-20T14:35:57.297756Z",
     "iopub.status.idle": "2023-06-20T14:35:57.303442Z",
     "shell.execute_reply": "2023-06-20T14:35:57.302645Z"
    },
    "papermill": {
     "duration": 0.039141,
     "end_time": "2023-06-20T14:35:57.305548",
     "exception": false,
     "start_time": "2023-06-20T14:35:57.266407",
     "status": "completed"
    },
    "tags": []
   },
   "outputs": [],
   "source": [
    "df['BsmtExposure'].fillna('No', inplace=True) #same estrategy as before. Most basements with good hight will have no exposure."
   ]
  },
  {
   "cell_type": "code",
   "execution_count": 28,
   "id": "9bd32f82",
   "metadata": {
    "execution": {
     "iopub.execute_input": "2023-06-20T14:35:57.367900Z",
     "iopub.status.busy": "2023-06-20T14:35:57.366843Z",
     "iopub.status.idle": "2023-06-20T14:35:57.393943Z",
     "shell.execute_reply": "2023-06-20T14:35:57.392817Z"
    },
    "papermill": {
     "duration": 0.060895,
     "end_time": "2023-06-20T14:35:57.396387",
     "exception": false,
     "start_time": "2023-06-20T14:35:57.335492",
     "status": "completed"
    },
    "tags": []
   },
   "outputs": [
    {
     "data": {
      "text/html": [
       "<div>\n",
       "<style scoped>\n",
       "    .dataframe tbody tr th:only-of-type {\n",
       "        vertical-align: middle;\n",
       "    }\n",
       "\n",
       "    .dataframe tbody tr th {\n",
       "        vertical-align: top;\n",
       "    }\n",
       "\n",
       "    .dataframe thead th {\n",
       "        text-align: right;\n",
       "    }\n",
       "</style>\n",
       "<table border=\"1\" class=\"dataframe\">\n",
       "  <thead>\n",
       "    <tr style=\"text-align: right;\">\n",
       "      <th></th>\n",
       "      <th>MSSubClass</th>\n",
       "      <th>MSZoning</th>\n",
       "      <th>LotFrontage</th>\n",
       "      <th>LotArea</th>\n",
       "      <th>Street</th>\n",
       "      <th>Alley</th>\n",
       "      <th>LotShape</th>\n",
       "      <th>LandContour</th>\n",
       "      <th>Utilities</th>\n",
       "      <th>LotConfig</th>\n",
       "      <th>...</th>\n",
       "      <th>ScreenPorch</th>\n",
       "      <th>PoolArea</th>\n",
       "      <th>PoolQC</th>\n",
       "      <th>Fence</th>\n",
       "      <th>MiscFeature</th>\n",
       "      <th>MiscVal</th>\n",
       "      <th>MoSold</th>\n",
       "      <th>YrSold</th>\n",
       "      <th>SaleType</th>\n",
       "      <th>SaleCondition</th>\n",
       "    </tr>\n",
       "  </thead>\n",
       "  <tbody>\n",
       "    <tr>\n",
       "      <th>2040</th>\n",
       "      <td>20</td>\n",
       "      <td>RL</td>\n",
       "      <td>103.0</td>\n",
       "      <td>16280</td>\n",
       "      <td>Pave</td>\n",
       "      <td>NaN</td>\n",
       "      <td>Reg</td>\n",
       "      <td>Lvl</td>\n",
       "      <td>AllPub</td>\n",
       "      <td>Inside</td>\n",
       "      <td>...</td>\n",
       "      <td>0</td>\n",
       "      <td>0</td>\n",
       "      <td>NaN</td>\n",
       "      <td>GdWo</td>\n",
       "      <td>NaN</td>\n",
       "      <td>0</td>\n",
       "      <td>5</td>\n",
       "      <td>2008</td>\n",
       "      <td>WD</td>\n",
       "      <td>Normal</td>\n",
       "    </tr>\n",
       "    <tr>\n",
       "      <th>2185</th>\n",
       "      <td>20</td>\n",
       "      <td>RL</td>\n",
       "      <td>65.0</td>\n",
       "      <td>6500</td>\n",
       "      <td>Pave</td>\n",
       "      <td>NaN</td>\n",
       "      <td>Reg</td>\n",
       "      <td>Lvl</td>\n",
       "      <td>AllPub</td>\n",
       "      <td>Inside</td>\n",
       "      <td>...</td>\n",
       "      <td>0</td>\n",
       "      <td>0</td>\n",
       "      <td>NaN</td>\n",
       "      <td>NaN</td>\n",
       "      <td>NaN</td>\n",
       "      <td>0</td>\n",
       "      <td>5</td>\n",
       "      <td>2008</td>\n",
       "      <td>WD</td>\n",
       "      <td>Normal</td>\n",
       "    </tr>\n",
       "    <tr>\n",
       "      <th>2524</th>\n",
       "      <td>80</td>\n",
       "      <td>RL</td>\n",
       "      <td>72.0</td>\n",
       "      <td>9720</td>\n",
       "      <td>Pave</td>\n",
       "      <td>NaN</td>\n",
       "      <td>Reg</td>\n",
       "      <td>Lvl</td>\n",
       "      <td>AllPub</td>\n",
       "      <td>Inside</td>\n",
       "      <td>...</td>\n",
       "      <td>0</td>\n",
       "      <td>0</td>\n",
       "      <td>NaN</td>\n",
       "      <td>MnPrv</td>\n",
       "      <td>NaN</td>\n",
       "      <td>0</td>\n",
       "      <td>6</td>\n",
       "      <td>2007</td>\n",
       "      <td>WD</td>\n",
       "      <td>Normal</td>\n",
       "    </tr>\n",
       "  </tbody>\n",
       "</table>\n",
       "<p>3 rows × 79 columns</p>\n",
       "</div>"
      ],
      "text/plain": [
       "      MSSubClass MSZoning  LotFrontage  LotArea Street Alley LotShape  \\\n",
       "2040          20       RL        103.0    16280   Pave   NaN      Reg   \n",
       "2185          20       RL         65.0     6500   Pave   NaN      Reg   \n",
       "2524          80       RL         72.0     9720   Pave   NaN      Reg   \n",
       "\n",
       "     LandContour Utilities LotConfig  ... ScreenPorch PoolArea PoolQC  Fence  \\\n",
       "2040         Lvl    AllPub    Inside  ...           0        0    NaN   GdWo   \n",
       "2185         Lvl    AllPub    Inside  ...           0        0    NaN    NaN   \n",
       "2524         Lvl    AllPub    Inside  ...           0        0    NaN  MnPrv   \n",
       "\n",
       "     MiscFeature MiscVal  MoSold  YrSold  SaleType  SaleCondition  \n",
       "2040         NaN       0       5    2008        WD         Normal  \n",
       "2185         NaN       0       5    2008        WD         Normal  \n",
       "2524         NaN       0       6    2007        WD         Normal  \n",
       "\n",
       "[3 rows x 79 columns]"
      ]
     },
     "execution_count": 28,
     "metadata": {},
     "output_type": "execute_result"
    }
   ],
   "source": [
    "df[df['BsmtCond'].isna()]"
   ]
  },
  {
   "cell_type": "code",
   "execution_count": 29,
   "id": "83de547e",
   "metadata": {
    "execution": {
     "iopub.execute_input": "2023-06-20T14:35:57.459760Z",
     "iopub.status.busy": "2023-06-20T14:35:57.458879Z",
     "iopub.status.idle": "2023-06-20T14:35:57.473900Z",
     "shell.execute_reply": "2023-06-20T14:35:57.472752Z"
    },
    "papermill": {
     "duration": 0.049445,
     "end_time": "2023-06-20T14:35:57.476475",
     "exception": false,
     "start_time": "2023-06-20T14:35:57.427030",
     "status": "completed"
    },
    "tags": []
   },
   "outputs": [
    {
     "data": {
      "text/plain": [
       "BsmtFinType1  BsmtCond\n",
       "ALQ           TA          404\n",
       "              Gd           18\n",
       "              Fa            6\n",
       "BLQ           TA          250\n",
       "              Fa           10\n",
       "              Gd            7\n",
       "              Po            1\n",
       "GLQ           TA          787\n",
       "              Gd           59\n",
       "              Fa            1\n",
       "              Po            1\n",
       "LwQ           TA          124\n",
       "              Fa           22\n",
       "              Gd            8\n",
       "NA            NA           79\n",
       "Rec           TA          272\n",
       "              Fa           12\n",
       "              Gd            4\n",
       "Unf           TA          769\n",
       "              Fa           53\n",
       "              Gd           26\n",
       "              Po            3\n",
       "Name: BsmtCond, dtype: int64"
      ]
     },
     "execution_count": 29,
     "metadata": {},
     "output_type": "execute_result"
    }
   ],
   "source": [
    "df.groupby(['BsmtFinType1'])['BsmtCond'].value_counts() #Vast majority of the BsmtCond for any BsmtFinType1 is TA, so we will just replace BsmtCond NaN with TA."
   ]
  },
  {
   "cell_type": "code",
   "execution_count": 30,
   "id": "3a69fc9c",
   "metadata": {
    "execution": {
     "iopub.execute_input": "2023-06-20T14:35:57.540518Z",
     "iopub.status.busy": "2023-06-20T14:35:57.539374Z",
     "iopub.status.idle": "2023-06-20T14:35:57.545386Z",
     "shell.execute_reply": "2023-06-20T14:35:57.544569Z"
    },
    "papermill": {
     "duration": 0.040165,
     "end_time": "2023-06-20T14:35:57.547412",
     "exception": false,
     "start_time": "2023-06-20T14:35:57.507247",
     "status": "completed"
    },
    "tags": []
   },
   "outputs": [],
   "source": [
    "df['BsmtCond'].fillna('TA', inplace = True)"
   ]
  },
  {
   "cell_type": "code",
   "execution_count": 31,
   "id": "a8ca9999",
   "metadata": {
    "execution": {
     "iopub.execute_input": "2023-06-20T14:35:57.610891Z",
     "iopub.status.busy": "2023-06-20T14:35:57.610475Z",
     "iopub.status.idle": "2023-06-20T14:35:57.635094Z",
     "shell.execute_reply": "2023-06-20T14:35:57.634021Z"
    },
    "papermill": {
     "duration": 0.05928,
     "end_time": "2023-06-20T14:35:57.637304",
     "exception": false,
     "start_time": "2023-06-20T14:35:57.578024",
     "status": "completed"
    },
    "tags": []
   },
   "outputs": [
    {
     "data": {
      "text/html": [
       "<div>\n",
       "<style scoped>\n",
       "    .dataframe tbody tr th:only-of-type {\n",
       "        vertical-align: middle;\n",
       "    }\n",
       "\n",
       "    .dataframe tbody tr th {\n",
       "        vertical-align: top;\n",
       "    }\n",
       "\n",
       "    .dataframe thead th {\n",
       "        text-align: right;\n",
       "    }\n",
       "</style>\n",
       "<table border=\"1\" class=\"dataframe\">\n",
       "  <thead>\n",
       "    <tr style=\"text-align: right;\">\n",
       "      <th></th>\n",
       "      <th>MSSubClass</th>\n",
       "      <th>MSZoning</th>\n",
       "      <th>LotFrontage</th>\n",
       "      <th>LotArea</th>\n",
       "      <th>Street</th>\n",
       "      <th>Alley</th>\n",
       "      <th>LotShape</th>\n",
       "      <th>LandContour</th>\n",
       "      <th>Utilities</th>\n",
       "      <th>LotConfig</th>\n",
       "      <th>...</th>\n",
       "      <th>ScreenPorch</th>\n",
       "      <th>PoolArea</th>\n",
       "      <th>PoolQC</th>\n",
       "      <th>Fence</th>\n",
       "      <th>MiscFeature</th>\n",
       "      <th>MiscVal</th>\n",
       "      <th>MoSold</th>\n",
       "      <th>YrSold</th>\n",
       "      <th>SaleType</th>\n",
       "      <th>SaleCondition</th>\n",
       "    </tr>\n",
       "  </thead>\n",
       "  <tbody>\n",
       "    <tr>\n",
       "      <th>332</th>\n",
       "      <td>20</td>\n",
       "      <td>RL</td>\n",
       "      <td>85.0</td>\n",
       "      <td>10655</td>\n",
       "      <td>Pave</td>\n",
       "      <td>NaN</td>\n",
       "      <td>IR1</td>\n",
       "      <td>Lvl</td>\n",
       "      <td>AllPub</td>\n",
       "      <td>Inside</td>\n",
       "      <td>...</td>\n",
       "      <td>0</td>\n",
       "      <td>0</td>\n",
       "      <td>NaN</td>\n",
       "      <td>NaN</td>\n",
       "      <td>NaN</td>\n",
       "      <td>0</td>\n",
       "      <td>10</td>\n",
       "      <td>2009</td>\n",
       "      <td>WD</td>\n",
       "      <td>Normal</td>\n",
       "    </tr>\n",
       "  </tbody>\n",
       "</table>\n",
       "<p>1 rows × 79 columns</p>\n",
       "</div>"
      ],
      "text/plain": [
       "     MSSubClass MSZoning  LotFrontage  LotArea Street Alley LotShape  \\\n",
       "332          20       RL         85.0    10655   Pave   NaN      IR1   \n",
       "\n",
       "    LandContour Utilities LotConfig  ... ScreenPorch PoolArea PoolQC Fence  \\\n",
       "332         Lvl    AllPub    Inside  ...           0        0    NaN   NaN   \n",
       "\n",
       "    MiscFeature MiscVal  MoSold  YrSold  SaleType  SaleCondition  \n",
       "332         NaN       0      10    2009        WD         Normal  \n",
       "\n",
       "[1 rows x 79 columns]"
      ]
     },
     "execution_count": 31,
     "metadata": {},
     "output_type": "execute_result"
    }
   ],
   "source": [
    "df[df['BsmtFinType2'].isna()]"
   ]
  },
  {
   "cell_type": "code",
   "execution_count": 32,
   "id": "dd8d8a09",
   "metadata": {
    "execution": {
     "iopub.execute_input": "2023-06-20T14:35:57.701132Z",
     "iopub.status.busy": "2023-06-20T14:35:57.700688Z",
     "iopub.status.idle": "2023-06-20T14:35:57.712901Z",
     "shell.execute_reply": "2023-06-20T14:35:57.711805Z"
    },
    "papermill": {
     "duration": 0.046919,
     "end_time": "2023-06-20T14:35:57.715261",
     "exception": false,
     "start_time": "2023-06-20T14:35:57.668342",
     "status": "completed"
    },
    "tags": []
   },
   "outputs": [
    {
     "data": {
      "text/plain": [
       "BsmtFinType1  BsmtFinType2\n",
       "ALQ           Unf             333\n",
       "              Rec              36\n",
       "              BLQ              30\n",
       "              LwQ              27\n",
       "              GLQ               3\n",
       "BLQ           Unf             197\n",
       "              Rec              34\n",
       "              LwQ              23\n",
       "              GLQ              10\n",
       "              ALQ               4\n",
       "              BLQ               1\n",
       "GLQ           Unf             790\n",
       "              Rec              19\n",
       "              LwQ              17\n",
       "              ALQ              15\n",
       "              BLQ               7\n",
       "LwQ           Unf              99\n",
       "              Rec              16\n",
       "              ALQ              14\n",
       "              GLQ              14\n",
       "              BLQ              11\n",
       "NA            NA               79\n",
       "Rec           Unf             223\n",
       "              LwQ              20\n",
       "              ALQ              19\n",
       "              BLQ              19\n",
       "              GLQ               7\n",
       "Unf           Unf             851\n",
       "Name: BsmtFinType2, dtype: int64"
      ]
     },
     "execution_count": 32,
     "metadata": {},
     "output_type": "execute_result"
    }
   ],
   "source": [
    "df.groupby(['BsmtFinType1'])['BsmtFinType2'].value_counts()"
   ]
  },
  {
   "cell_type": "code",
   "execution_count": 33,
   "id": "88ee45c0",
   "metadata": {
    "execution": {
     "iopub.execute_input": "2023-06-20T14:35:57.779413Z",
     "iopub.status.busy": "2023-06-20T14:35:57.778994Z",
     "iopub.status.idle": "2023-06-20T14:35:57.785299Z",
     "shell.execute_reply": "2023-06-20T14:35:57.784262Z"
    },
    "papermill": {
     "duration": 0.041063,
     "end_time": "2023-06-20T14:35:57.787477",
     "exception": false,
     "start_time": "2023-06-20T14:35:57.746414",
     "status": "completed"
    },
    "tags": []
   },
   "outputs": [],
   "source": [
    "df['BsmtFinType2'].fillna('Unf', inplace = True) #93% of basements with GLQ in BsmtFinType1 will have Unf BsmtFinType2. We will replace the NaN with Unf"
   ]
  },
  {
   "cell_type": "code",
   "execution_count": 34,
   "id": "23874f83",
   "metadata": {
    "execution": {
     "iopub.execute_input": "2023-06-20T14:35:57.851521Z",
     "iopub.status.busy": "2023-06-20T14:35:57.851149Z",
     "iopub.status.idle": "2023-06-20T14:35:57.874257Z",
     "shell.execute_reply": "2023-06-20T14:35:57.873249Z"
    },
    "papermill": {
     "duration": 0.057879,
     "end_time": "2023-06-20T14:35:57.876504",
     "exception": false,
     "start_time": "2023-06-20T14:35:57.818625",
     "status": "completed"
    },
    "tags": []
   },
   "outputs": [
    {
     "data": {
      "text/html": [
       "<div>\n",
       "<style scoped>\n",
       "    .dataframe tbody tr th:only-of-type {\n",
       "        vertical-align: middle;\n",
       "    }\n",
       "\n",
       "    .dataframe tbody tr th {\n",
       "        vertical-align: top;\n",
       "    }\n",
       "\n",
       "    .dataframe thead th {\n",
       "        text-align: right;\n",
       "    }\n",
       "</style>\n",
       "<table border=\"1\" class=\"dataframe\">\n",
       "  <thead>\n",
       "    <tr style=\"text-align: right;\">\n",
       "      <th></th>\n",
       "      <th>MSSubClass</th>\n",
       "      <th>MSZoning</th>\n",
       "      <th>LotFrontage</th>\n",
       "      <th>LotArea</th>\n",
       "      <th>Street</th>\n",
       "      <th>Alley</th>\n",
       "      <th>LotShape</th>\n",
       "      <th>LandContour</th>\n",
       "      <th>Utilities</th>\n",
       "      <th>LotConfig</th>\n",
       "      <th>...</th>\n",
       "      <th>ScreenPorch</th>\n",
       "      <th>PoolArea</th>\n",
       "      <th>PoolQC</th>\n",
       "      <th>Fence</th>\n",
       "      <th>MiscFeature</th>\n",
       "      <th>MiscVal</th>\n",
       "      <th>MoSold</th>\n",
       "      <th>YrSold</th>\n",
       "      <th>SaleType</th>\n",
       "      <th>SaleCondition</th>\n",
       "    </tr>\n",
       "  </thead>\n",
       "  <tbody>\n",
       "    <tr>\n",
       "      <th>2120</th>\n",
       "      <td>20</td>\n",
       "      <td>RM</td>\n",
       "      <td>99.0</td>\n",
       "      <td>5940</td>\n",
       "      <td>Pave</td>\n",
       "      <td>NaN</td>\n",
       "      <td>IR1</td>\n",
       "      <td>Lvl</td>\n",
       "      <td>AllPub</td>\n",
       "      <td>FR3</td>\n",
       "      <td>...</td>\n",
       "      <td>0</td>\n",
       "      <td>0</td>\n",
       "      <td>NaN</td>\n",
       "      <td>MnPrv</td>\n",
       "      <td>NaN</td>\n",
       "      <td>0</td>\n",
       "      <td>4</td>\n",
       "      <td>2008</td>\n",
       "      <td>ConLD</td>\n",
       "      <td>Abnorml</td>\n",
       "    </tr>\n",
       "  </tbody>\n",
       "</table>\n",
       "<p>1 rows × 79 columns</p>\n",
       "</div>"
      ],
      "text/plain": [
       "      MSSubClass MSZoning  LotFrontage  LotArea Street Alley LotShape  \\\n",
       "2120          20       RM         99.0     5940   Pave   NaN      IR1   \n",
       "\n",
       "     LandContour Utilities LotConfig  ... ScreenPorch PoolArea PoolQC  Fence  \\\n",
       "2120         Lvl    AllPub       FR3  ...           0        0    NaN  MnPrv   \n",
       "\n",
       "     MiscFeature MiscVal  MoSold  YrSold  SaleType  SaleCondition  \n",
       "2120         NaN       0       4    2008     ConLD        Abnorml  \n",
       "\n",
       "[1 rows x 79 columns]"
      ]
     },
     "execution_count": 34,
     "metadata": {},
     "output_type": "execute_result"
    }
   ],
   "source": [
    "df[df['BsmtUnfSF'].isna() & df['TotalBsmtSF'].isna()]"
   ]
  },
  {
   "cell_type": "code",
   "execution_count": 35,
   "id": "52f89aa5",
   "metadata": {
    "execution": {
     "iopub.execute_input": "2023-06-20T14:35:57.951990Z",
     "iopub.status.busy": "2023-06-20T14:35:57.950789Z",
     "iopub.status.idle": "2023-06-20T14:35:57.956823Z",
     "shell.execute_reply": "2023-06-20T14:35:57.956047Z"
    },
    "papermill": {
     "duration": 0.045393,
     "end_time": "2023-06-20T14:35:57.958930",
     "exception": false,
     "start_time": "2023-06-20T14:35:57.913537",
     "status": "completed"
    },
    "tags": []
   },
   "outputs": [],
   "source": [
    "df['BsmtUnfSF'].fillna(0, inplace = True)\n",
    "df['TotalBsmtSF'].fillna(0, inplace = True)"
   ]
  },
  {
   "cell_type": "code",
   "execution_count": 36,
   "id": "fe118269",
   "metadata": {
    "execution": {
     "iopub.execute_input": "2023-06-20T14:35:58.024288Z",
     "iopub.status.busy": "2023-06-20T14:35:58.023562Z",
     "iopub.status.idle": "2023-06-20T14:35:58.029405Z",
     "shell.execute_reply": "2023-06-20T14:35:58.028414Z"
    },
    "papermill": {
     "duration": 0.041298,
     "end_time": "2023-06-20T14:35:58.031623",
     "exception": false,
     "start_time": "2023-06-20T14:35:57.990325",
     "status": "completed"
    },
    "tags": []
   },
   "outputs": [],
   "source": [
    "df['BsmtFullBath'].fillna(0, inplace = True) #Only two entries are NaN because there is no basement in the first place. They will be changed to 'NA'\n",
    "df['BsmtHalfBath'].fillna(0, inplace = True)"
   ]
  },
  {
   "cell_type": "code",
   "execution_count": 37,
   "id": "10218a63",
   "metadata": {
    "execution": {
     "iopub.execute_input": "2023-06-20T14:35:58.097253Z",
     "iopub.status.busy": "2023-06-20T14:35:58.096602Z",
     "iopub.status.idle": "2023-06-20T14:35:58.469986Z",
     "shell.execute_reply": "2023-06-20T14:35:58.468523Z"
    },
    "papermill": {
     "duration": 0.410705,
     "end_time": "2023-06-20T14:35:58.473874",
     "exception": false,
     "start_time": "2023-06-20T14:35:58.063169",
     "status": "completed"
    },
    "tags": []
   },
   "outputs": [],
   "source": [
    "for i in range(len(df)): #Resolve NaNs when there is no garage\n",
    "    if pd.isna(df['GarageType'][i]) & pd.isna(df['GarageFinish'][i]) & pd.isna(df['GarageQual'][i]) & pd.isna(df['GarageCond'][i]):\n",
    "        df.loc[i, ['GarageType', 'GarageFinish', 'GarageQual', 'GarageCond']] = 'NA'\n",
    "df['GarageYrBlt'].fillna(0, inplace=True)"
   ]
  },
  {
   "cell_type": "code",
   "execution_count": 38,
   "id": "f96f9d5a",
   "metadata": {
    "execution": {
     "iopub.execute_input": "2023-06-20T14:35:58.541971Z",
     "iopub.status.busy": "2023-06-20T14:35:58.541550Z",
     "iopub.status.idle": "2023-06-20T14:35:58.559954Z",
     "shell.execute_reply": "2023-06-20T14:35:58.558829Z"
    },
    "papermill": {
     "duration": 0.05462,
     "end_time": "2023-06-20T14:35:58.562375",
     "exception": false,
     "start_time": "2023-06-20T14:35:58.507755",
     "status": "completed"
    },
    "tags": []
   },
   "outputs": [],
   "source": [
    "fill_na = ['PoolQC', 'Fence', 'MiscFeature', 'Alley', 'FireplaceQu', 'Utilities', 'Exterior1st', 'Exterior2nd', 'Electrical', 'KitchenQual', 'Functional', 'SaleType', 'GarageQual', \n",
    "           'GarageCond', 'GarageFinish'] #All these features NaN values represent absence of the feature. For example: NaN in PoolQC means there is no pool in that house.\n",
    "for feature in fill_na: #We will change all these values to 'NA' instead.\n",
    "    df[feature].fillna('NA', inplace=True)"
   ]
  },
  {
   "cell_type": "code",
   "execution_count": 39,
   "id": "de60e149",
   "metadata": {
    "execution": {
     "iopub.execute_input": "2023-06-20T14:35:58.627569Z",
     "iopub.status.busy": "2023-06-20T14:35:58.627157Z",
     "iopub.status.idle": "2023-06-20T14:35:58.635334Z",
     "shell.execute_reply": "2023-06-20T14:35:58.634119Z"
    },
    "papermill": {
     "duration": 0.043718,
     "end_time": "2023-06-20T14:35:58.637868",
     "exception": false,
     "start_time": "2023-06-20T14:35:58.594150",
     "status": "completed"
    },
    "tags": []
   },
   "outputs": [],
   "source": [
    "fill = ['MSZoning', 'GarageCars', 'GarageArea'] # Features with low number of NaN and no obvious way of replacing will set to 0.\n",
    "for feature in fill:\n",
    "    df[feature].fillna(0, inplace=True)"
   ]
  },
  {
   "cell_type": "markdown",
   "id": "b62699e3",
   "metadata": {
    "papermill": {
     "duration": 0.031054,
     "end_time": "2023-06-20T14:35:58.701087",
     "exception": false,
     "start_time": "2023-06-20T14:35:58.670033",
     "status": "completed"
    },
    "tags": []
   },
   "source": [
    "# **3. Data Engineering**"
   ]
  },
  {
   "cell_type": "markdown",
   "id": "bfde1d3a",
   "metadata": {
    "papermill": {
     "duration": 0.031155,
     "end_time": "2023-06-20T14:35:58.764076",
     "exception": false,
     "start_time": "2023-06-20T14:35:58.732921",
     "status": "completed"
    },
    "tags": []
   },
   "source": [
    "## **3.1. Variable simplification**"
   ]
  },
  {
   "cell_type": "markdown",
   "id": "06d3df11",
   "metadata": {
    "papermill": {
     "duration": 0.031457,
     "end_time": "2023-06-20T14:35:58.827757",
     "exception": false,
     "start_time": "2023-06-20T14:35:58.796300",
     "status": "completed"
    },
    "tags": []
   },
   "source": [
    "Some variables are better represented if we replace their value with numbers instead."
   ]
  },
  {
   "cell_type": "code",
   "execution_count": 40,
   "id": "6ae2ec32",
   "metadata": {
    "execution": {
     "iopub.execute_input": "2023-06-20T14:35:58.893074Z",
     "iopub.status.busy": "2023-06-20T14:35:58.892679Z",
     "iopub.status.idle": "2023-06-20T14:35:58.991142Z",
     "shell.execute_reply": "2023-06-20T14:35:58.989949Z"
    },
    "papermill": {
     "duration": 0.134603,
     "end_time": "2023-06-20T14:35:58.993940",
     "exception": false,
     "start_time": "2023-06-20T14:35:58.859337",
     "status": "completed"
    },
    "tags": []
   },
   "outputs": [],
   "source": [
    "df = df.replace({\"Alley\" : {\"Grvl\" : 1, \"Pave\" : 2},\n",
    "                       \"BsmtCond\" : {\"NA\" : 0, \"Po\" : 1, \"Fa\" : 2, \"TA\" : 3, \"Gd\" : 4, \"Ex\" : 5},\n",
    "                       \"BsmtExposure\" : {\"No\" : 0, \"Mn\" : 1, \"Av\": 2, \"Gd\" : 3},\n",
    "                       \"BsmtFinType1\" : {\"NA\" : 0, \"Unf\" : 1, \"LwQ\": 2, \"Rec\" : 3, \"BLQ\" : 4, \"ALQ\" : 5, \"GLQ\" : 6},\n",
    "                       \"BsmtFinType2\" : {\"NA\" : 0, \"Unf\" : 1, \"LwQ\": 2, \"Rec\" : 3, \"BLQ\" : 4, \"ALQ\" : 5, \"GLQ\" : 6},\n",
    "                       \"BsmtQual\" : {\"NA\" : 0, \"Po\" : 1, \"Fa\" : 2, \"TA\": 3, \"Gd\" : 4, \"Ex\" : 5},\n",
    "                       \"ExterCond\" : {\"Po\" : 1, \"Fa\" : 2, \"TA\": 3, \"Gd\": 4, \"Ex\" : 5},\n",
    "                       \"ExterQual\" : {\"Po\" : 1, \"Fa\" : 2, \"TA\": 3, \"Gd\": 4, \"Ex\" : 5},\n",
    "                       \"FireplaceQu\" : {\"No\" : 0, \"Po\" : 1, \"Fa\" : 2, \"TA\" : 3, \"Gd\" : 4, \"Ex\" : 5},\n",
    "                       \"Functional\" : {\"Sal\" : 1, \"Sev\" : 2, \"Maj2\" : 3, \"Maj1\" : 4, \"Mod\": 5, \"Min2\" : 6, \"Min1\" : 7, \"Typ\" : 8},\n",
    "                       \"GarageCond\" : {\"NA\" : 0, \"Po\" : 1, \"Fa\" : 2, \"TA\" : 3, \"Gd\" : 4, \"Ex\" : 5},\n",
    "                       \"GarageQual\" : {\"NA\" : 0, \"Po\" : 1, \"Fa\" : 2, \"TA\" : 3, \"Gd\" : 4, \"Ex\" : 5},\n",
    "                       \"HeatingQC\" : {\"Po\" : 1, \"Fa\" : 2, \"TA\" : 3, \"Gd\" : 4, \"Ex\" : 5},\n",
    "                       \"KitchenQual\" : {\"Po\" : 1, \"Fa\" : 2, \"TA\" : 3, \"Gd\" : 4, \"Ex\" : 5},\n",
    "                       \"LandSlope\" : {\"Sev\" : 1, \"Mod\" : 2, \"Gtl\" : 3},\n",
    "                       \"LotShape\" : {\"IR3\" : 1, \"IR2\" : 2, \"IR1\" : 3, \"Reg\" : 4},\n",
    "                       \"PavedDrive\" : {\"N\" : 0, \"P\" : 1, \"Y\" : 2},\n",
    "                       \"PoolQC\" : {\"NA\" : 0, \"Fa\" : 1, \"TA\" : 2, \"Gd\" : 3, \"Ex\" : 4},\n",
    "                       \"Street\" : {\"Grvl\" : 1, \"Pave\" : 2},\n",
    "                       \"Utilities\" : {\"ELO\" : 1, \"NoSeWa\" : 2, \"NoSewr\" : 3, \"AllPub\" : 4}}\n",
    "                     )\n",
    "# All these features follow hierarchal ranking of meaning and can therefore be represented by numbers (1 being less favourable than 2 for example and 0 absence of the feature.)"
   ]
  },
  {
   "cell_type": "code",
   "execution_count": 41,
   "id": "c4f3cae8",
   "metadata": {
    "execution": {
     "iopub.execute_input": "2023-06-20T14:35:59.059825Z",
     "iopub.status.busy": "2023-06-20T14:35:59.059459Z",
     "iopub.status.idle": "2023-06-20T14:35:59.077462Z",
     "shell.execute_reply": "2023-06-20T14:35:59.076578Z"
    },
    "papermill": {
     "duration": 0.053862,
     "end_time": "2023-06-20T14:35:59.079833",
     "exception": false,
     "start_time": "2023-06-20T14:35:59.025971",
     "status": "completed"
    },
    "tags": []
   },
   "outputs": [],
   "source": [
    "#These variables are numerical but in reality are categorical in nature. Will change them to str instead\n",
    "df[['MSSubClass', 'MoSold','YrSold', 'OverallCond']] = df[['MSSubClass', 'MoSold', 'YrSold', 'OverallCond']].astype(str)"
   ]
  },
  {
   "cell_type": "code",
   "execution_count": 42,
   "id": "eb09a9a9",
   "metadata": {
    "execution": {
     "iopub.execute_input": "2023-06-20T14:35:59.144663Z",
     "iopub.status.busy": "2023-06-20T14:35:59.144279Z",
     "iopub.status.idle": "2023-06-20T14:35:59.188666Z",
     "shell.execute_reply": "2023-06-20T14:35:59.187496Z"
    },
    "papermill": {
     "duration": 0.080026,
     "end_time": "2023-06-20T14:35:59.191325",
     "exception": false,
     "start_time": "2023-06-20T14:35:59.111299",
     "status": "completed"
    },
    "tags": []
   },
   "outputs": [],
   "source": [
    "#We will simplify existing features by grouping into similar categories. \n",
    "#For example: in OverallQual we can group 10,9,8 and 7 into a group pertaining to \"high quality\"; 6, 5 and 4 to \"average quality\" and 3, 2 and 1 to low quality.\n",
    "\n",
    "df[['SimplOverallQual', 'SimplOverallCond']] = df[['OverallQual', 'OverallCond']].replace({'NA': 0, 1 : 1, 2 : 1, 3 : 1,\n",
    "                                                       4 : 2, 5 : 2, 6 : 2,\n",
    "                                                       7 : 3, 8 : 3, 9 : 3, 10 : 3\n",
    "                                                      })\n",
    "df['SimplPoolQC'] = df.PoolQC.replace({'NA': 0, 1 : 1, 2 : 1,\n",
    "                                             3 : 2, 4 : 2\n",
    "                                            })\n",
    "\n",
    "\n",
    "df[['SimplGarageCond', 'SimplGarageQual', 'SimplFireplaceQu', 'SimplKitchenQual', 'SimplHeatingQC', 'SimplBsmtCond', 'SimplBsmtQual', \n",
    "       'SimplExterCond', 'SimplExterQual']] = df[['GarageCond', 'GarageQual', 'FireplaceQu', 'KitchenQual', \n",
    "                                                  'HeatingQC', 'BsmtCond', 'BsmtQual', 'ExterCond', \n",
    "                                                  'ExterQual']].replace({'NA': 0, 1 : 1, \n",
    "                                                     2 : 1, 3 : 1,\n",
    "                                                     4 : 2, 5 : 2\n",
    "                                                    })\n",
    "df[\"SimplFunctional\"] = df.Functional.replace({'NA': 0, 1 : 1, 2 : 1,\n",
    "                                                     3 : 2, 4 : 2,\n",
    "                                                     5 : 3, 6 : 3, 7 : 3,\n",
    "                                                     8 : 4\n",
    "                                                    })\n",
    "df[['SimplBsmtFinType1', 'SimplBsmtFinType2']] = df[['BsmtFinType1', 'BsmtFinType2']].replace({'NA': 0, 1 : 1,\n",
    "                                                         2 : 1, 3 : 1,\n",
    "                                                         4 : 2, 5 : 2, 6 : 2\n",
    "                                                        })"
   ]
  },
  {
   "cell_type": "code",
   "execution_count": 43,
   "id": "98944a96",
   "metadata": {
    "execution": {
     "iopub.execute_input": "2023-06-20T14:35:59.256073Z",
     "iopub.status.busy": "2023-06-20T14:35:59.255671Z",
     "iopub.status.idle": "2023-06-20T14:35:59.261384Z",
     "shell.execute_reply": "2023-06-20T14:35:59.260554Z"
    },
    "papermill": {
     "duration": 0.040482,
     "end_time": "2023-06-20T14:35:59.263348",
     "exception": false,
     "start_time": "2023-06-20T14:35:59.222866",
     "status": "completed"
    },
    "tags": []
   },
   "outputs": [],
   "source": [
    "# total area of the living quarters\n",
    "df['TotalSF'] = df['TotalBsmtSF'] + df['1stFlrSF'] + df['2ndFlrSF']"
   ]
  },
  {
   "cell_type": "code",
   "execution_count": 44,
   "id": "fd4eb4ca",
   "metadata": {
    "execution": {
     "iopub.execute_input": "2023-06-20T14:35:59.328252Z",
     "iopub.status.busy": "2023-06-20T14:35:59.327838Z",
     "iopub.status.idle": "2023-06-20T14:35:59.344076Z",
     "shell.execute_reply": "2023-06-20T14:35:59.342933Z"
    },
    "papermill": {
     "duration": 0.051552,
     "end_time": "2023-06-20T14:35:59.346380",
     "exception": false,
     "start_time": "2023-06-20T14:35:59.294828",
     "status": "completed"
    },
    "tags": []
   },
   "outputs": [
    {
     "data": {
      "text/plain": [
       "SalePrice       1.000000\n",
       "OverallQual     0.790982\n",
       "GrLivArea       0.708624\n",
       "GarageCars      0.640409\n",
       "GarageArea      0.623431\n",
       "TotalBsmtSF     0.613581\n",
       "1stFlrSF        0.605852\n",
       "FullBath        0.560664\n",
       "TotRmsAbvGrd    0.533723\n",
       "YearBuilt       0.522897\n",
       "Name: SalePrice, dtype: float64"
      ]
     },
     "execution_count": 44,
     "metadata": {},
     "output_type": "execute_result"
    }
   ],
   "source": [
    "train_data.corr()['SalePrice'].sort_values(ascending=False).head(10)"
   ]
  },
  {
   "cell_type": "code",
   "execution_count": 45,
   "id": "4264ce75",
   "metadata": {
    "execution": {
     "iopub.execute_input": "2023-06-20T14:35:59.412034Z",
     "iopub.status.busy": "2023-06-20T14:35:59.411592Z",
     "iopub.status.idle": "2023-06-20T14:35:59.441980Z",
     "shell.execute_reply": "2023-06-20T14:35:59.440819Z"
    },
    "papermill": {
     "duration": 0.066083,
     "end_time": "2023-06-20T14:35:59.444606",
     "exception": false,
     "start_time": "2023-06-20T14:35:59.378523",
     "status": "completed"
    },
    "tags": []
   },
   "outputs": [],
   "source": [
    "# The code below will transform the top 10 'SalePrice' correlating features into polynomials of 2nd and 3rd order and square root.\n",
    "\n",
    "feature_list = train_data.corr()['SalePrice'].sort_values(ascending=False).head(11)[1:].index.tolist()\n",
    "for i, feature in enumerate(feature_list):\n",
    "    df[f'{feature}-s2'] = df[\"OverallQual\"] ** 2\n",
    "    df[f'{feature}-s3'] = df[\"OverallQual\"] ** 3\n",
    "    df[f'{feature}-sqr'] = np.sqrt(df[\"OverallQual\"])"
   ]
  },
  {
   "cell_type": "markdown",
   "id": "23b6c6e5",
   "metadata": {
    "papermill": {
     "duration": 0.033047,
     "end_time": "2023-06-20T14:35:59.510093",
     "exception": false,
     "start_time": "2023-06-20T14:35:59.477046",
     "status": "completed"
    },
    "tags": []
   },
   "source": [
    "## **3.2. Data normalization**"
   ]
  },
  {
   "cell_type": "code",
   "execution_count": 46,
   "id": "bca77acb",
   "metadata": {
    "execution": {
     "iopub.execute_input": "2023-06-20T14:35:59.574724Z",
     "iopub.status.busy": "2023-06-20T14:35:59.574314Z",
     "iopub.status.idle": "2023-06-20T14:35:59.894950Z",
     "shell.execute_reply": "2023-06-20T14:35:59.893779Z"
    },
    "papermill": {
     "duration": 0.356074,
     "end_time": "2023-06-20T14:35:59.897569",
     "exception": false,
     "start_time": "2023-06-20T14:35:59.541495",
     "status": "completed"
    },
    "tags": []
   },
   "outputs": [
    {
     "data": {
      "text/plain": [
       "<AxesSubplot:xlabel='SalePrice', ylabel='Density'>"
      ]
     },
     "execution_count": 46,
     "metadata": {},
     "output_type": "execute_result"
    },
    {
     "data": {
      "image/png": "[encoded data removed]",
      "text/plain": [
       "<Figure size 640x480 with 1 Axes>"
      ]
     },
     "metadata": {},
     "output_type": "display_data"
    }
   ],
   "source": [
    "sns.distplot(train_data['SalePrice'])"
   ]
  },
  {
   "cell_type": "markdown",
   "id": "3ea91774",
   "metadata": {
    "papermill": {
     "duration": 0.032282,
     "end_time": "2023-06-20T14:35:59.962506",
     "exception": false,
     "start_time": "2023-06-20T14:35:59.930224",
     "status": "completed"
    },
    "tags": []
   },
   "source": [
    "This chart shows that the target variable SalePrice deviates from the norm and has skewness (positive). This will probably hinder our model performance. Lets normalise it with the log1p function."
   ]
  },
  {
   "cell_type": "code",
   "execution_count": 47,
   "id": "ae865a70",
   "metadata": {
    "execution": {
     "iopub.execute_input": "2023-06-20T14:36:00.030672Z",
     "iopub.status.busy": "2023-06-20T14:36:00.030225Z",
     "iopub.status.idle": "2023-06-20T14:36:00.037069Z",
     "shell.execute_reply": "2023-06-20T14:36:00.035862Z"
    },
    "papermill": {
     "duration": 0.043732,
     "end_time": "2023-06-20T14:36:00.039456",
     "exception": false,
     "start_time": "2023-06-20T14:35:59.995724",
     "status": "completed"
    },
    "tags": []
   },
   "outputs": [],
   "source": [
    "train_data['SalePrice'] = np.log1p(train_data.SalePrice)\n",
    "y_train = train_data['SalePrice']"
   ]
  },
  {
   "cell_type": "code",
   "execution_count": 48,
   "id": "36becc00",
   "metadata": {
    "execution": {
     "iopub.execute_input": "2023-06-20T14:36:00.106547Z",
     "iopub.status.busy": "2023-06-20T14:36:00.106015Z",
     "iopub.status.idle": "2023-06-20T14:36:00.407875Z",
     "shell.execute_reply": "2023-06-20T14:36:00.406582Z"
    },
    "papermill": {
     "duration": 0.33825,
     "end_time": "2023-06-20T14:36:00.410558",
     "exception": false,
     "start_time": "2023-06-20T14:36:00.072308",
     "status": "completed"
    },
    "tags": []
   },
   "outputs": [
    {
     "data": {
      "text/plain": [
       "<AxesSubplot:xlabel='SalePrice', ylabel='Density'>"
      ]
     },
     "execution_count": 48,
     "metadata": {},
     "output_type": "execute_result"
    },
    {
     "data": {
      "image/png": "[encoded data removed]",
      "text/plain": [
       "<Figure size 640x480 with 1 Axes>"
      ]
     },
     "metadata": {},
     "output_type": "display_data"
    }
   ],
   "source": [
    "sns.distplot(train_data['SalePrice'])"
   ]
  },
  {
   "cell_type": "code",
   "execution_count": 49,
   "id": "64152189",
   "metadata": {
    "execution": {
     "iopub.execute_input": "2023-06-20T14:36:00.485590Z",
     "iopub.status.busy": "2023-06-20T14:36:00.484536Z",
     "iopub.status.idle": "2023-06-20T14:36:00.504477Z",
     "shell.execute_reply": "2023-06-20T14:36:00.503370Z"
    },
    "papermill": {
     "duration": 0.063013,
     "end_time": "2023-06-20T14:36:00.507079",
     "exception": false,
     "start_time": "2023-06-20T14:36:00.444066",
     "status": "completed"
    },
    "tags": []
   },
   "outputs": [],
   "source": [
    "cat_feat = df.select_dtypes(include = [\"object\"]).columns\n",
    "num_feat = df.select_dtypes(exclude = [\"object\"]).columns\n",
    "train_cat = df[cat_feat]\n",
    "train_num = df[num_feat]"
   ]
  },
  {
   "cell_type": "code",
   "execution_count": 50,
   "id": "df10936f",
   "metadata": {
    "execution": {
     "iopub.execute_input": "2023-06-20T14:36:00.574483Z",
     "iopub.status.busy": "2023-06-20T14:36:00.574054Z",
     "iopub.status.idle": "2023-06-20T14:36:00.640223Z",
     "shell.execute_reply": "2023-06-20T14:36:00.639012Z"
    },
    "papermill": {
     "duration": 0.103116,
     "end_time": "2023-06-20T14:36:00.642943",
     "exception": false,
     "start_time": "2023-06-20T14:36:00.539827",
     "status": "completed"
    },
    "tags": []
   },
   "outputs": [],
   "source": [
    "#Other features are also not normal and this can affect the performace of our model.\n",
    "#The code below applies log1p to the features with more than 0.5 skewness (code from https://www.kaggle.com/code/juliencs/a-study-on-regression-applied-to-the-ames-dataset/notebook)\n",
    "\n",
    "from scipy.stats import skew\n",
    "skewness = train_num.apply(lambda x: skew(x))\n",
    "skewness = skewness[abs(skewness) > 0.5]\n",
    "skewed_features = skewness.index\n",
    "train_num[skewed_features] = np.log1p(train_num[skewed_features])"
   ]
  },
  {
   "cell_type": "code",
   "execution_count": 51,
   "id": "fec54b8b",
   "metadata": {
    "execution": {
     "iopub.execute_input": "2023-06-20T14:36:00.710353Z",
     "iopub.status.busy": "2023-06-20T14:36:00.709905Z",
     "iopub.status.idle": "2023-06-20T14:36:00.755899Z",
     "shell.execute_reply": "2023-06-20T14:36:00.754669Z"
    },
    "papermill": {
     "duration": 0.082771,
     "end_time": "2023-06-20T14:36:00.758549",
     "exception": false,
     "start_time": "2023-06-20T14:36:00.675778",
     "status": "completed"
    },
    "tags": []
   },
   "outputs": [],
   "source": [
    "train_cat = pd.get_dummies(train_cat)"
   ]
  },
  {
   "cell_type": "code",
   "execution_count": 52,
   "id": "b1f401eb",
   "metadata": {
    "execution": {
     "iopub.execute_input": "2023-06-20T14:36:00.826676Z",
     "iopub.status.busy": "2023-06-20T14:36:00.826275Z",
     "iopub.status.idle": "2023-06-20T14:36:00.835895Z",
     "shell.execute_reply": "2023-06-20T14:36:00.834980Z"
    },
    "papermill": {
     "duration": 0.046289,
     "end_time": "2023-06-20T14:36:00.838167",
     "exception": false,
     "start_time": "2023-06-20T14:36:00.791878",
     "status": "completed"
    },
    "tags": []
   },
   "outputs": [],
   "source": [
    "X = pd.concat([train_cat, train_num], axis=1)"
   ]
  },
  {
   "cell_type": "code",
   "execution_count": 53,
   "id": "c33cb6de",
   "metadata": {
    "execution": {
     "iopub.execute_input": "2023-06-20T14:36:00.906374Z",
     "iopub.status.busy": "2023-06-20T14:36:00.905970Z",
     "iopub.status.idle": "2023-06-20T14:36:00.921334Z",
     "shell.execute_reply": "2023-06-20T14:36:00.920028Z"
    },
    "papermill": {
     "duration": 0.052961,
     "end_time": "2023-06-20T14:36:00.923942",
     "exception": false,
     "start_time": "2023-06-20T14:36:00.870981",
     "status": "completed"
    },
    "tags": []
   },
   "outputs": [],
   "source": [
    "X_train = X[:train_max].copy() #create train and test datasets for modeling\n",
    "X_test = X[train_max:].copy()"
   ]
  },
  {
   "cell_type": "code",
   "execution_count": 54,
   "id": "e1752de6",
   "metadata": {
    "execution": {
     "iopub.execute_input": "2023-06-20T14:36:00.991473Z",
     "iopub.status.busy": "2023-06-20T14:36:00.990816Z",
     "iopub.status.idle": "2023-06-20T14:36:00.997833Z",
     "shell.execute_reply": "2023-06-20T14:36:00.996791Z"
    },
    "papermill": {
     "duration": 0.043381,
     "end_time": "2023-06-20T14:36:01.000186",
     "exception": false,
     "start_time": "2023-06-20T14:36:00.956805",
     "status": "completed"
    },
    "tags": []
   },
   "outputs": [
    {
     "data": {
      "text/plain": [
       "(1460, 351)"
      ]
     },
     "execution_count": 54,
     "metadata": {},
     "output_type": "execute_result"
    }
   ],
   "source": [
    "X_train.shape"
   ]
  },
  {
   "cell_type": "code",
   "execution_count": 55,
   "id": "e0dfd832",
   "metadata": {
    "execution": {
     "iopub.execute_input": "2023-06-20T14:36:01.068208Z",
     "iopub.status.busy": "2023-06-20T14:36:01.067803Z",
     "iopub.status.idle": "2023-06-20T14:36:01.091367Z",
     "shell.execute_reply": "2023-06-20T14:36:01.090270Z"
    },
    "papermill": {
     "duration": 0.060234,
     "end_time": "2023-06-20T14:36:01.093581",
     "exception": false,
     "start_time": "2023-06-20T14:36:01.033347",
     "status": "completed"
    },
    "tags": []
   },
   "outputs": [
    {
     "data": {
      "text/html": [
       "<div>\n",
       "<style scoped>\n",
       "    .dataframe tbody tr th:only-of-type {\n",
       "        vertical-align: middle;\n",
       "    }\n",
       "\n",
       "    .dataframe tbody tr th {\n",
       "        vertical-align: top;\n",
       "    }\n",
       "\n",
       "    .dataframe thead th {\n",
       "        text-align: right;\n",
       "    }\n",
       "</style>\n",
       "<table border=\"1\" class=\"dataframe\">\n",
       "  <thead>\n",
       "    <tr style=\"text-align: right;\">\n",
       "      <th></th>\n",
       "      <th>MSSubClass_120</th>\n",
       "      <th>MSSubClass_150</th>\n",
       "      <th>MSSubClass_160</th>\n",
       "      <th>MSSubClass_180</th>\n",
       "      <th>MSSubClass_190</th>\n",
       "      <th>MSSubClass_20</th>\n",
       "      <th>MSSubClass_30</th>\n",
       "      <th>MSSubClass_40</th>\n",
       "      <th>MSSubClass_45</th>\n",
       "      <th>MSSubClass_50</th>\n",
       "      <th>...</th>\n",
       "      <th>FullBath-sqr</th>\n",
       "      <th>TotRmsAbvGrd-s2</th>\n",
       "      <th>TotRmsAbvGrd-s3</th>\n",
       "      <th>TotRmsAbvGrd-sqr</th>\n",
       "      <th>YearBuilt-s2</th>\n",
       "      <th>YearBuilt-s3</th>\n",
       "      <th>YearBuilt-sqr</th>\n",
       "      <th>YearRemodAdd-s2</th>\n",
       "      <th>YearRemodAdd-s3</th>\n",
       "      <th>YearRemodAdd-sqr</th>\n",
       "    </tr>\n",
       "  </thead>\n",
       "  <tbody>\n",
       "    <tr>\n",
       "      <th>0</th>\n",
       "      <td>0</td>\n",
       "      <td>0</td>\n",
       "      <td>0</td>\n",
       "      <td>0</td>\n",
       "      <td>0</td>\n",
       "      <td>0</td>\n",
       "      <td>0</td>\n",
       "      <td>0</td>\n",
       "      <td>0</td>\n",
       "      <td>0</td>\n",
       "      <td>...</td>\n",
       "      <td>2.645751</td>\n",
       "      <td>3.912023</td>\n",
       "      <td>5.840642</td>\n",
       "      <td>2.645751</td>\n",
       "      <td>3.912023</td>\n",
       "      <td>5.840642</td>\n",
       "      <td>2.645751</td>\n",
       "      <td>3.912023</td>\n",
       "      <td>5.840642</td>\n",
       "      <td>2.645751</td>\n",
       "    </tr>\n",
       "    <tr>\n",
       "      <th>1</th>\n",
       "      <td>0</td>\n",
       "      <td>0</td>\n",
       "      <td>0</td>\n",
       "      <td>0</td>\n",
       "      <td>0</td>\n",
       "      <td>1</td>\n",
       "      <td>0</td>\n",
       "      <td>0</td>\n",
       "      <td>0</td>\n",
       "      <td>0</td>\n",
       "      <td>...</td>\n",
       "      <td>2.449490</td>\n",
       "      <td>3.610918</td>\n",
       "      <td>5.379897</td>\n",
       "      <td>2.449490</td>\n",
       "      <td>3.610918</td>\n",
       "      <td>5.379897</td>\n",
       "      <td>2.449490</td>\n",
       "      <td>3.610918</td>\n",
       "      <td>5.379897</td>\n",
       "      <td>2.449490</td>\n",
       "    </tr>\n",
       "    <tr>\n",
       "      <th>2</th>\n",
       "      <td>0</td>\n",
       "      <td>0</td>\n",
       "      <td>0</td>\n",
       "      <td>0</td>\n",
       "      <td>0</td>\n",
       "      <td>0</td>\n",
       "      <td>0</td>\n",
       "      <td>0</td>\n",
       "      <td>0</td>\n",
       "      <td>0</td>\n",
       "      <td>...</td>\n",
       "      <td>2.645751</td>\n",
       "      <td>3.912023</td>\n",
       "      <td>5.840642</td>\n",
       "      <td>2.645751</td>\n",
       "      <td>3.912023</td>\n",
       "      <td>5.840642</td>\n",
       "      <td>2.645751</td>\n",
       "      <td>3.912023</td>\n",
       "      <td>5.840642</td>\n",
       "      <td>2.645751</td>\n",
       "    </tr>\n",
       "    <tr>\n",
       "      <th>3</th>\n",
       "      <td>0</td>\n",
       "      <td>0</td>\n",
       "      <td>0</td>\n",
       "      <td>0</td>\n",
       "      <td>0</td>\n",
       "      <td>0</td>\n",
       "      <td>0</td>\n",
       "      <td>0</td>\n",
       "      <td>0</td>\n",
       "      <td>0</td>\n",
       "      <td>...</td>\n",
       "      <td>2.645751</td>\n",
       "      <td>3.912023</td>\n",
       "      <td>5.840642</td>\n",
       "      <td>2.645751</td>\n",
       "      <td>3.912023</td>\n",
       "      <td>5.840642</td>\n",
       "      <td>2.645751</td>\n",
       "      <td>3.912023</td>\n",
       "      <td>5.840642</td>\n",
       "      <td>2.645751</td>\n",
       "    </tr>\n",
       "    <tr>\n",
       "      <th>4</th>\n",
       "      <td>0</td>\n",
       "      <td>0</td>\n",
       "      <td>0</td>\n",
       "      <td>0</td>\n",
       "      <td>0</td>\n",
       "      <td>0</td>\n",
       "      <td>0</td>\n",
       "      <td>0</td>\n",
       "      <td>0</td>\n",
       "      <td>0</td>\n",
       "      <td>...</td>\n",
       "      <td>2.828427</td>\n",
       "      <td>4.174387</td>\n",
       "      <td>6.240276</td>\n",
       "      <td>2.828427</td>\n",
       "      <td>4.174387</td>\n",
       "      <td>6.240276</td>\n",
       "      <td>2.828427</td>\n",
       "      <td>4.174387</td>\n",
       "      <td>6.240276</td>\n",
       "      <td>2.828427</td>\n",
       "    </tr>\n",
       "  </tbody>\n",
       "</table>\n",
       "<p>5 rows × 351 columns</p>\n",
       "</div>"
      ],
      "text/plain": [
       "   MSSubClass_120  MSSubClass_150  MSSubClass_160  MSSubClass_180  \\\n",
       "0               0               0               0               0   \n",
       "1               0               0               0               0   \n",
       "2               0               0               0               0   \n",
       "3               0               0               0               0   \n",
       "4               0               0               0               0   \n",
       "\n",
       "   MSSubClass_190  MSSubClass_20  MSSubClass_30  MSSubClass_40  MSSubClass_45  \\\n",
       "0               0              0              0              0              0   \n",
       "1               0              1              0              0              0   \n",
       "2               0              0              0              0              0   \n",
       "3               0              0              0              0              0   \n",
       "4               0              0              0              0              0   \n",
       "\n",
       "   MSSubClass_50  ...  FullBath-sqr  TotRmsAbvGrd-s2  TotRmsAbvGrd-s3  \\\n",
       "0              0  ...      2.645751         3.912023         5.840642   \n",
       "1              0  ...      2.449490         3.610918         5.379897   \n",
       "2              0  ...      2.645751         3.912023         5.840642   \n",
       "3              0  ...      2.645751         3.912023         5.840642   \n",
       "4              0  ...      2.828427         4.174387         6.240276   \n",
       "\n",
       "   TotRmsAbvGrd-sqr  YearBuilt-s2  YearBuilt-s3  YearBuilt-sqr  \\\n",
       "0          2.645751      3.912023      5.840642       2.645751   \n",
       "1          2.449490      3.610918      5.379897       2.449490   \n",
       "2          2.645751      3.912023      5.840642       2.645751   \n",
       "3          2.645751      3.912023      5.840642       2.645751   \n",
       "4          2.828427      4.174387      6.240276       2.828427   \n",
       "\n",
       "   YearRemodAdd-s2  YearRemodAdd-s3  YearRemodAdd-sqr  \n",
       "0         3.912023         5.840642          2.645751  \n",
       "1         3.610918         5.379897          2.449490  \n",
       "2         3.912023         5.840642          2.645751  \n",
       "3         3.912023         5.840642          2.645751  \n",
       "4         4.174387         6.240276          2.828427  \n",
       "\n",
       "[5 rows x 351 columns]"
      ]
     },
     "execution_count": 55,
     "metadata": {},
     "output_type": "execute_result"
    }
   ],
   "source": [
    "X_train.head()"
   ]
  },
  {
   "cell_type": "code",
   "execution_count": 56,
   "id": "3af6dd17",
   "metadata": {
    "execution": {
     "iopub.execute_input": "2023-06-20T14:36:01.164218Z",
     "iopub.status.busy": "2023-06-20T14:36:01.162962Z",
     "iopub.status.idle": "2023-06-20T14:36:01.169974Z",
     "shell.execute_reply": "2023-06-20T14:36:01.168955Z"
    },
    "papermill": {
     "duration": 0.044584,
     "end_time": "2023-06-20T14:36:01.172172",
     "exception": false,
     "start_time": "2023-06-20T14:36:01.127588",
     "status": "completed"
    },
    "tags": []
   },
   "outputs": [
    {
     "data": {
      "text/plain": [
       "(1459, 351)"
      ]
     },
     "execution_count": 56,
     "metadata": {},
     "output_type": "execute_result"
    }
   ],
   "source": [
    "X_test.shape"
   ]
  },
  {
   "cell_type": "markdown",
   "id": "86907587",
   "metadata": {
    "papermill": {
     "duration": 0.033489,
     "end_time": "2023-06-20T14:36:01.239352",
     "exception": false,
     "start_time": "2023-06-20T14:36:01.205863",
     "status": "completed"
    },
    "tags": []
   },
   "source": [
    "# **4. Modeling**"
   ]
  },
  {
   "cell_type": "code",
   "execution_count": 59,
   "id": "53f1d37c",
   "metadata": {
    "execution": {
     "iopub.execute_input": "2023-06-20T14:36:01.310469Z",
     "iopub.status.busy": "2023-06-20T14:36:01.309407Z",
     "iopub.status.idle": "2023-06-20T14:36:01.316570Z",
     "shell.execute_reply": "2023-06-20T14:36:01.315692Z"
    },
    "papermill": {
     "duration": 0.045296,
     "end_time": "2023-06-20T14:36:01.318890",
     "exception": false,
     "start_time": "2023-06-20T14:36:01.273594",
     "status": "completed"
    },
    "tags": []
   },
   "outputs": [],
   "source": [
    "from sklearn.linear_model import ElasticNet, Lasso,  BayesianRidge, LassoLarsIC\n",
    "from sklearn.ensemble import RandomForestRegressor,  GradientBoostingRegressor\n",
    "from sklearn.svm import SVR\n",
    "# from mlxtend.regressor import StackingCVRegressor\n",
    "from sklearn.kernel_ridge import KernelRidge\n",
    "from sklearn.pipeline import make_pipeline\n",
    "from sklearn.preprocessing import RobustScaler\n",
    "from sklearn.base import BaseEstimator, TransformerMixin, RegressorMixin, clone\n",
    "from sklearn.model_selection import KFold, cross_val_score, train_test_split\n",
    "from sklearn.metrics import mean_squared_error\n",
    "import xgboost as xgb\n",
    "# import lightgbm as lgb"
   ]
  },
  {
   "cell_type": "code",
   "execution_count": 60,
   "id": "169d7c2e",
   "metadata": {
    "execution": {
     "iopub.execute_input": "2023-06-20T14:36:01.388858Z",
     "iopub.status.busy": "2023-06-20T14:36:01.388437Z",
     "iopub.status.idle": "2023-06-20T14:36:01.394357Z",
     "shell.execute_reply": "2023-06-20T14:36:01.393477Z"
    },
    "papermill": {
     "duration": 0.043436,
     "end_time": "2023-06-20T14:36:01.396513",
     "exception": false,
     "start_time": "2023-06-20T14:36:01.353077",
     "status": "completed"
    },
    "tags": []
   },
   "outputs": [],
   "source": [
    "n_folds = 5\n",
    "\n",
    "def rmsle_cv(model):\n",
    "    kf = KFold(n_folds, shuffle=True, random_state=42).get_n_splits(X_train.values)\n",
    "    rmse= np.sqrt(-cross_val_score(model, X_train.values, y_train, scoring=\"neg_mean_squared_error\", cv = kf))\n",
    "    return(rmse)"
   ]
  },
  {
   "cell_type": "code",
   "execution_count": 61,
   "id": "92fdbc75",
   "metadata": {
    "execution": {
     "iopub.execute_input": "2023-06-20T14:36:01.467667Z",
     "iopub.status.busy": "2023-06-20T14:36:01.466965Z",
     "iopub.status.idle": "2023-06-20T14:36:01.478037Z",
     "shell.execute_reply": "2023-06-20T14:36:01.477112Z"
    },
    "papermill": {
     "duration": 0.04971,
     "end_time": "2023-06-20T14:36:01.480607",
     "exception": false,
     "start_time": "2023-06-20T14:36:01.430897",
     "status": "completed"
    },
    "tags": []
   },
   "outputs": [],
   "source": [
    "#We start by trying multiple algorithms and see which one score the best.\n",
    "\n",
    "lasso = make_pipeline(RobustScaler(), Lasso(alpha =0.0005, random_state=1))\n",
    "\n",
    "enet = make_pipeline(RobustScaler(), ElasticNet(alpha=0.0005, l1_ratio=.9, random_state=3))\n",
    "\n",
    "krr = KernelRidge(alpha=0.6, kernel='polynomial', degree=2, coef0=2.5)\n",
    "\n",
    "gbr = GradientBoostingRegressor(n_estimators=3000, learning_rate=0.05,\n",
    "                                   max_depth=4, max_features='sqrt',\n",
    "                                   min_samples_leaf=15, min_samples_split=10, \n",
    "                                   loss='huber', random_state =5)\n",
    "\n",
    "svr = make_pipeline(RobustScaler(), SVR(C= 20, epsilon= 0.008, gamma=0.0003))\n",
    "\n",
    "\n",
    "rf = RandomForestRegressor(n_estimators=1200,\n",
    "                          max_depth=15,\n",
    "                          min_samples_split=5,\n",
    "                          min_samples_leaf=5,\n",
    "                          max_features=None,\n",
    "                          oob_score=True,\n",
    "                          random_state=42)\n",
    "\n",
    "# lgb = lgb.LGBMRegressor(objective='regression',num_leaves=5,\n",
    "#                               learning_rate=0.05, n_estimators=720,\n",
    "#                               max_bin = 55, bagging_fraction = 0.8,\n",
    "#                               bagging_freq = 5, feature_fraction = 0.2319,\n",
    "#                               feature_fraction_seed=9, bagging_seed=9,\n",
    "#                               min_data_in_leaf =6, min_sum_hessian_in_leaf = 11)\n",
    "\n",
    "xgb = xgb.XGBRegressor(colsample_bytree=0.4603, gamma=0.0468, \n",
    "                             learning_rate=0.05, max_depth=3, \n",
    "                             min_child_weight=1.7817, n_estimators=2200,\n",
    "                             reg_alpha=0.4640, reg_lambda=0.8571,\n",
    "                             subsample=0.5213, silent=1,\n",
    "                             random_state =7, nthread = -1)"
   ]
  },
  {
   "cell_type": "code",
   "execution_count": 65,
   "id": "8d46da89",
   "metadata": {
    "execution": {
     "iopub.execute_input": "2023-06-20T14:36:01.556570Z",
     "iopub.status.busy": "2023-06-20T14:36:01.555878Z",
     "iopub.status.idle": "2023-06-20T14:41:31.946174Z",
     "shell.execute_reply": "2023-06-20T14:41:31.943843Z"
    },
    "papermill": {
     "duration": 330.428444,
     "end_time": "2023-06-20T14:41:31.949302",
     "exception": false,
     "start_time": "2023-06-20T14:36:01.520858",
     "status": "completed"
    },
    "tags": []
   },
   "outputs": [
    {
     "name": "stdout",
     "output_type": "stream",
     "text": [
      "\n",
      "Lasso score: 0.1222 (0.0136)\n",
      "\n",
      "ElasticNet score: 0.1221 (0.0136)\n",
      "\n",
      "Kernel Ridge score: 0.1630 (0.0225)\n",
      "\n",
      "Gradient Boosting score: 0.1241 (0.0133)\n",
      "\n",
      "SVR score: 0.1229 (0.0160)\n",
      "\n",
      "Random Forest score: 0.1476 (0.0085)\n",
      "\n",
      "[LightGBM] [Warning] feature_fraction is set=0.2319, colsample_bytree=1.0 will be ignored. Current value: feature_fraction=0.2319\n",
      "[LightGBM] [Warning] min_sum_hessian_in_leaf is set=11, min_child_weight=0.001 will be ignored. Current value: min_sum_hessian_in_leaf=11\n",
      "[LightGBM] [Warning] min_data_in_leaf is set=6, min_child_samples=20 will be ignored. Current value: min_data_in_leaf=6\n",
      "[LightGBM] [Warning] bagging_freq is set=5, subsample_freq=0 will be ignored. Current value: bagging_freq=5\n",
      "[LightGBM] [Warning] bagging_fraction is set=0.8, subsample=1.0 will be ignored. Current value: bagging_fraction=0.8\n",
      "[LightGBM] [Warning] feature_fraction is set=0.2319, colsample_bytree=1.0 will be ignored. Current value: feature_fraction=0.2319\n",
      "[LightGBM] [Warning] min_sum_hessian_in_leaf is set=11, min_child_weight=0.001 will be ignored. Current value: min_sum_hessian_in_leaf=11\n",
      "[LightGBM] [Warning] min_data_in_leaf is set=6, min_child_samples=20 will be ignored. Current value: min_data_in_leaf=6\n",
      "[LightGBM] [Warning] bagging_freq is set=5, subsample_freq=0 will be ignored. Current value: bagging_freq=5\n",
      "[LightGBM] [Warning] bagging_fraction is set=0.8, subsample=1.0 will be ignored. Current value: bagging_fraction=0.8\n",
      "[LightGBM] [Warning] feature_fraction is set=0.2319, colsample_bytree=1.0 will be ignored. Current value: feature_fraction=0.2319\n",
      "[LightGBM] [Warning] min_sum_hessian_in_leaf is set=11, min_child_weight=0.001 will be ignored. Current value: min_sum_hessian_in_leaf=11\n",
      "[LightGBM] [Warning] min_data_in_leaf is set=6, min_child_samples=20 will be ignored. Current value: min_data_in_leaf=6\n",
      "[LightGBM] [Warning] bagging_freq is set=5, subsample_freq=0 will be ignored. Current value: bagging_freq=5\n",
      "[LightGBM] [Warning] bagging_fraction is set=0.8, subsample=1.0 will be ignored. Current value: bagging_fraction=0.8\n",
      "[LightGBM] [Warning] feature_fraction is set=0.2319, colsample_bytree=1.0 will be ignored. Current value: feature_fraction=0.2319\n",
      "[LightGBM] [Warning] min_sum_hessian_in_leaf is set=11, min_child_weight=0.001 will be ignored. Current value: min_sum_hessian_in_leaf=11\n",
      "[LightGBM] [Warning] min_data_in_leaf is set=6, min_child_samples=20 will be ignored. Current value: min_data_in_leaf=6\n",
      "[LightGBM] [Warning] bagging_freq is set=5, subsample_freq=0 will be ignored. Current value: bagging_freq=5\n",
      "[LightGBM] [Warning] bagging_fraction is set=0.8, subsample=1.0 will be ignored. Current value: bagging_fraction=0.8\n",
      "[LightGBM] [Warning] feature_fraction is set=0.2319, colsample_bytree=1.0 will be ignored. Current value: feature_fraction=0.2319\n",
      "[LightGBM] [Warning] min_sum_hessian_in_leaf is set=11, min_child_weight=0.001 will be ignored. Current value: min_sum_hessian_in_leaf=11\n",
      "[LightGBM] [Warning] min_data_in_leaf is set=6, min_child_samples=20 will be ignored. Current value: min_data_in_leaf=6\n",
      "[LightGBM] [Warning] bagging_freq is set=5, subsample_freq=0 will be ignored. Current value: bagging_freq=5\n",
      "[LightGBM] [Warning] bagging_fraction is set=0.8, subsample=1.0 will be ignored. Current value: bagging_fraction=0.8\n",
      "LGBM score: 0.1240 (0.0097)\n",
      "\n",
      "[14:39:47] WARNING: ../src/learner.cc:767: \n",
      "Parameters: { \"silent\" } are not used.\n",
      "\n",
      "[14:40:08] WARNING: ../src/learner.cc:767: \n",
      "Parameters: { \"silent\" } are not used.\n",
      "\n",
      "[14:40:29] WARNING: ../src/learner.cc:767: \n",
      "Parameters: { \"silent\" } are not used.\n",
      "\n",
      "[14:40:50] WARNING: ../src/learner.cc:767: \n",
      "Parameters: { \"silent\" } are not used.\n",
      "\n",
      "[14:41:11] WARNING: ../src/learner.cc:767: \n",
      "Parameters: { \"silent\" } are not used.\n",
      "\n",
      "XGB score: 0.1228 (0.0091)\n",
      "\n"
     ]
    }
   ],
   "source": [
    "score = rmsle_cv(lasso)\n",
    "print(\"\\nLasso score: {:.4f} ({:.4f})\\n\".format(score.mean(), score.std()))\n",
    "\n",
    "score = rmsle_cv(enet)\n",
    "print(\"ElasticNet score: {:.4f} ({:.4f})\\n\".format(score.mean(), score.std()))\n",
    "\n",
    "score = rmsle_cv(krr)\n",
    "print(\"Kernel Ridge score: {:.4f} ({:.4f})\\n\".format(score.mean(), score.std()))\n",
    "\n",
    "score = rmsle_cv(gbr)\n",
    "print(\"Gradient Boosting score: {:.4f} ({:.4f})\\n\".format(score.mean(), score.std()))\n",
    "\n",
    "score = rmsle_cv(svr)\n",
    "print(\"SVR score: {:.4f} ({:.4f})\\n\".format(score.mean(), score.std()))\n",
    "\n",
    "score = rmsle_cv(rf)\n",
    "print(\"Random Forest score: {:.4f} ({:.4f})\\n\".format(score.mean(), score.std()))\n",
    "\n",
    "score = rmsle_cv(lgb)\n",
    "print(\"LGBM score: {:.4f} ({:.4f})\\n\".format(score.mean(), score.std()))\n",
    "\n",
    "score = rmsle_cv(xgb)\n",
    "print(\"XGB score: {:.4f} ({:.4f})\\n\".format(score.mean(), score.std()))"
   ]
  },
  {
   "cell_type": "code",
   "execution_count": 66,
   "id": "757250fe",
   "metadata": {
    "execution": {
     "iopub.execute_input": "2023-06-20T14:41:32.033519Z",
     "iopub.status.busy": "2023-06-20T14:41:32.033013Z",
     "iopub.status.idle": "2023-06-20T14:41:32.039144Z",
     "shell.execute_reply": "2023-06-20T14:41:32.038050Z"
    },
    "papermill": {
     "duration": 0.052202,
     "end_time": "2023-06-20T14:41:32.041607",
     "exception": false,
     "start_time": "2023-06-20T14:41:31.989405",
     "status": "completed"
    },
    "tags": []
   },
   "outputs": [],
   "source": [
    "# To try and mitigate the influence from the high number of outliers in this dataset we will stack the best performing models together. \n",
    "# This method has some limitations as some of the least performing methods could potentialy help our model perform better. \n",
    "# There may be better performing combinations of models.\n",
    "\n",
    "stack = StackingCVRegressor(regressors=(gbr, enet, svr, lasso),\n",
    "                                meta_regressor=lasso,\n",
    "                                use_features_in_secondary=True)"
   ]
  },
  {
   "cell_type": "code",
   "execution_count": 67,
   "id": "82e20aaf",
   "metadata": {
    "execution": {
     "iopub.execute_input": "2023-06-20T14:41:32.116038Z",
     "iopub.status.busy": "2023-06-20T14:41:32.115207Z",
     "iopub.status.idle": "2023-06-20T14:41:32.119975Z",
     "shell.execute_reply": "2023-06-20T14:41:32.118919Z"
    },
    "papermill": {
     "duration": 0.044792,
     "end_time": "2023-06-20T14:41:32.122223",
     "exception": false,
     "start_time": "2023-06-20T14:41:32.077431",
     "status": "completed"
    },
    "tags": []
   },
   "outputs": [],
   "source": [
    "# score = rmsle_cv(stack)\n",
    "# print(\"Stack score: {:.4f} ({:.4f})\\n\".format(score.mean(), score.std()))"
   ]
  },
  {
   "cell_type": "code",
   "execution_count": 68,
   "id": "7382b0e2",
   "metadata": {
    "execution": {
     "iopub.execute_input": "2023-06-20T14:41:32.202673Z",
     "iopub.status.busy": "2023-06-20T14:41:32.202243Z",
     "iopub.status.idle": "2023-06-20T14:42:03.824480Z",
     "shell.execute_reply": "2023-06-20T14:42:03.823305Z"
    },
    "papermill": {
     "duration": 31.66251,
     "end_time": "2023-06-20T14:42:03.827614",
     "exception": false,
     "start_time": "2023-06-20T14:41:32.165104",
     "status": "completed"
    },
    "tags": []
   },
   "outputs": [
    {
     "name": "stdout",
     "output_type": "stream",
     "text": [
      "[LightGBM] [Warning] feature_fraction is set=0.2319, colsample_bytree=1.0 will be ignored. Current value: feature_fraction=0.2319\n",
      "[LightGBM] [Warning] min_sum_hessian_in_leaf is set=11, min_child_weight=0.001 will be ignored. Current value: min_sum_hessian_in_leaf=11\n",
      "[LightGBM] [Warning] min_data_in_leaf is set=6, min_child_samples=20 will be ignored. Current value: min_data_in_leaf=6\n",
      "[LightGBM] [Warning] bagging_freq is set=5, subsample_freq=0 will be ignored. Current value: bagging_freq=5\n",
      "[LightGBM] [Warning] bagging_fraction is set=0.8, subsample=1.0 will be ignored. Current value: bagging_fraction=0.8\n",
      "[14:41:34] WARNING: ../src/learner.cc:767: \n",
      "Parameters: { \"silent\" } are not used.\n",
      "\n"
     ]
    }
   ],
   "source": [
    "lgb = lgb.fit(X_train, y_train)\n",
    "xgb = xgb.fit(X_train, y_train)"
   ]
  },
  {
   "cell_type": "code",
   "execution_count": 69,
   "id": "bd4af9f9",
   "metadata": {
    "execution": {
     "iopub.execute_input": "2023-06-20T14:42:03.906294Z",
     "iopub.status.busy": "2023-06-20T14:42:03.905329Z",
     "iopub.status.idle": "2023-06-20T14:43:50.954675Z",
     "shell.execute_reply": "2023-06-20T14:43:50.953665Z"
    },
    "papermill": {
     "duration": 107.089276,
     "end_time": "2023-06-20T14:43:50.957323",
     "exception": false,
     "start_time": "2023-06-20T14:42:03.868047",
     "status": "completed"
    },
    "tags": []
   },
   "outputs": [],
   "source": [
    "#The final model will blend lgb, xgb and the stacked models. The weights are in keeping with the performances observed during CV.\n",
    "stack = stack.fit(X_train, y_train)\n",
    "predictions = np.expm1((stack.predict(X_test) * 0.5) + (lgb.predict(X_test) * 0.25) + (xgb.predict(X_test) * 0.25))"
   ]
  },
  {
   "cell_type": "code",
   "execution_count": 70,
   "id": "d29cb378",
   "metadata": {
    "execution": {
     "iopub.execute_input": "2023-06-20T14:43:51.030800Z",
     "iopub.status.busy": "2023-06-20T14:43:51.030087Z",
     "iopub.status.idle": "2023-06-20T14:43:51.035149Z",
     "shell.execute_reply": "2023-06-20T14:43:51.034294Z"
    },
    "papermill": {
     "duration": 0.043797,
     "end_time": "2023-06-20T14:43:51.037262",
     "exception": false,
     "start_time": "2023-06-20T14:43:50.993465",
     "status": "completed"
    },
    "tags": []
   },
   "outputs": [],
   "source": [
    "output = pd.DataFrame({'Id': test_drop_id, 'SalePrice': predictions})"
   ]
  },
  {
   "cell_type": "code",
   "execution_count": 71,
   "id": "c43ff4e1",
   "metadata": {
    "execution": {
     "iopub.execute_input": "2023-06-20T14:43:51.110949Z",
     "iopub.status.busy": "2023-06-20T14:43:51.110221Z",
     "iopub.status.idle": "2023-06-20T14:43:51.127961Z",
     "shell.execute_reply": "2023-06-20T14:43:51.127082Z"
    },
    "papermill": {
     "duration": 0.056735,
     "end_time": "2023-06-20T14:43:51.130168",
     "exception": false,
     "start_time": "2023-06-20T14:43:51.073433",
     "status": "completed"
    },
    "tags": []
   },
   "outputs": [
    {
     "name": "stdout",
     "output_type": "stream",
     "text": [
      "Your submission was successfully saved!\n"
     ]
    }
   ],
   "source": [
    "output.to_csv('submission.csv', index=False)\n",
    "print(\"Your submission was successfully saved!\")"
   ]
  }
 ],
 "metadata": {
  "kernelspec": {
   "display_name": "Python 3 (ipykernel)",
   "language": "python",
   "name": "python3"
  },
  "language_info": {
   "codemirror_mode": {
    "name": "ipython",
    "version": 3
   },
   "file_extension": ".py",
   "mimetype": "text/x-python",
   "name": "python",
   "nbconvert_exporter": "python",
   "pygments_lexer": "ipython3",
   "version": "3.9.13"
  },
  "papermill": {
   "default_parameters": {},
   "duration": 495.943872,
   "end_time": "2023-06-20T14:43:52.390922",
   "environment_variables": {},
   "exception": null,
   "input_path": "__notebook__.ipynb",
   "output_path": "__notebook__.ipynb",
   "parameters": {},
   "start_time": "2023-06-20T14:35:36.447050",
   "version": "2.4.0"
  }
 },
 "nbformat": 4,
 "nbformat_minor": 5
}
