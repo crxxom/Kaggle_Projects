{
 "cells": [
  {
   "cell_type": "code",
   "execution_count": 1,
   "id": "ec3a9509-9fb0-4aa2-866b-837ad48ad02c",
   "metadata": {},
   "outputs": [],
   "source": [
    "import pandas as pd \n",
    "import numpy as np\n",
    "import matplotlib.pyplot as plt\n",
    "\n",
    "prompts = pd.read_csv('prompts_train.csv')\n",
    "summaries = pd.read_csv('summaries_train.csv')"
   ]
  },
  {
   "cell_type": "code",
   "execution_count": 2,
   "id": "ed8eb9ba-6c71-4c19-8ca2-823f2d82fa34",
   "metadata": {},
   "outputs": [],
   "source": [
    "from transformers import AutoTokenizer, AutoModel\n",
    "import torch\n",
    "\n",
    "# Load tokenizer and model\n",
    "model_name = \"bert-base-uncased\"\n",
    "tokenizer = AutoTokenizer.from_pretrained(model_name)\n",
    "# model = AutoModel.from_pretrained(model_name)"
   ]
  },
  {
   "cell_type": "code",
   "execution_count": null,
   "id": "f0b2dd01-8923-4a17-a476-9d73038b8036",
   "metadata": {},
   "outputs": [],
   "source": [
    "model = AutoModel.from_pretrained(model_name)"
   ]
  },
  {
   "cell_type": "code",
   "execution_count": 54,
   "id": "71df4482-9b8a-4a33-bb9f-8ceec6f781b5",
   "metadata": {},
   "outputs": [],
   "source": [
    "fe1_df = pd.read_csv('fe_1.csv')\n",
    "columns = ['text_count','average_token_length','wf_relativity', 'punct_count','wf_prompt','misspelled_words']"
   ]
  },
  {
   "cell_type": "code",
   "execution_count": 64,
   "id": "75aa0713-dcb0-4bf2-8b72-af6a935d0113",
   "metadata": {},
   "outputs": [],
   "source": [
    "X1 = fe1_df[columns]\n",
    "y1 = fe1_df[['content','wording']]\n"
   ]
  },
  {
   "cell_type": "markdown",
   "id": "1877fadd-4075-4686-a187-7b74440a4982",
   "metadata": {
    "tags": []
   },
   "source": [
    "# Simple Models (No embeddings)"
   ]
  },
  {
   "cell_type": "code",
   "execution_count": 3,
   "id": "c53f47e6-ffc7-442d-9fbd-725998b4a554",
   "metadata": {},
   "outputs": [],
   "source": [
    "df = pd.read_csv('NOGAWANOGAWA_train.csv')"
   ]
  },
  {
   "cell_type": "code",
   "execution_count": 72,
   "id": "7757cb07-c6b3-40c2-95c9-d81c970f35dd",
   "metadata": {},
   "outputs": [],
   "source": [
    "X = df[['summary_length','splling_err_num', 'prompt_length', 'length_ratio', 'word_overlap_count', 'bigram_overlap_count', 'bigram_overlap_ratio','trigram_overlap_count', 'trigram_overlap_ratio', 'quotes_count']]\n",
    "y = df[['content','wording']]\n",
    "\n",
    "from sklearn.model_selection import train_test_split\n",
    "X_train, X_test, y_train, y_test = train_test_split(X1,y1,test_size=0.2,random_state=42)\n",
    "\n",
    "from sklearn import preprocessing\n",
    "X_train_norm = preprocessing.StandardScaler().fit(X_train).transform(X_train.astype(float))\n",
    "X_test_norm = preprocessing.StandardScaler().fit(X_test).transform(X_test.astype(float))"
   ]
  },
  {
   "cell_type": "code",
   "execution_count": 73,
   "id": "f4e75809-d9ad-42ae-8dd0-78b12becb5da",
   "metadata": {},
   "outputs": [
    {
     "data": {
      "text/plain": [
       "0.5691542502998646"
      ]
     },
     "execution_count": 73,
     "metadata": {},
     "output_type": "execute_result"
    }
   ],
   "source": [
    "from sklearn.linear_model import Ridge\n",
    "\n",
    "RigeModel=Ridge(alpha=1)\n",
    "\n",
    "RigeModel.fit(X_train_norm, y_train)\n",
    "\n",
    "yhat = RigeModel.predict(X_test_norm)\n",
    "\n",
    "MCRMSE(yhat)"
   ]
  },
  {
   "cell_type": "code",
   "execution_count": 67,
   "id": "45da4000-ea5f-4a81-9a6b-cd410328b758",
   "metadata": {},
   "outputs": [],
   "source": [
    "from sklearn.metrics import mean_squared_error\n",
    "\n",
    "def MCRMSE(yhat):\n",
    "    mse1 = mean_squared_error(y_test.values[:,0],yhat[:,0])\n",
    "    mse2 = mean_squared_error(y_test.values[:,1],yhat[:,1])\n",
    "    return (mse1 + mse2)/2"
   ]
  },
  {
   "cell_type": "code",
   "execution_count": 75,
   "id": "0804b4ca-9477-48e1-ad89-f5556be5df96",
   "metadata": {},
   "outputs": [
    {
     "name": "stdout",
     "output_type": "stream",
     "text": [
      "[20:21:05] WARNING: /Users/runner/work/xgboost/xgboost/python-package/build/temp.macosx-10.9-x86_64-cpython-38/xgboost/src/objective/regression_obj.cu:213: reg:linear is now deprecated in favor of reg:squarederror.\n",
      "[0]\tvalidation_0-rmse:1.16027\tvalidation_1-rmse:1.17788\n",
      "[100]\tvalidation_0-rmse:0.75540\tvalidation_1-rmse:0.79021\n",
      "[200]\tvalidation_0-rmse:0.66793\tvalidation_1-rmse:0.70908\n",
      "[300]\tvalidation_0-rmse:0.64500\tvalidation_1-rmse:0.68869\n",
      "[400]\tvalidation_0-rmse:0.63573\tvalidation_1-rmse:0.68256\n",
      "[500]\tvalidation_0-rmse:0.63042\tvalidation_1-rmse:0.68067\n",
      "[600]\tvalidation_0-rmse:0.62594\tvalidation_1-rmse:0.67968\n",
      "[700]\tvalidation_0-rmse:0.62185\tvalidation_1-rmse:0.67917\n",
      "[800]\tvalidation_0-rmse:0.61825\tvalidation_1-rmse:0.67914\n",
      "[836]\tvalidation_0-rmse:0.61713\tvalidation_1-rmse:0.67913\n"
     ]
    },
    {
     "data": {
      "text/plain": [
       "XGBRegressor(base_score=0.5, booster='gbtree', callbacks=None,\n",
       "             colsample_bylevel=None, colsample_bynode=None,\n",
       "             colsample_bytree=None, early_stopping_rounds=50,\n",
       "             enable_categorical=False, eval_metric=None, feature_types=None,\n",
       "             gamma=None, gpu_id=None, grow_policy=None, importance_type=None,\n",
       "             interaction_constraints=None, learning_rate=0.01, max_bin=None,\n",
       "             max_cat_threshold=None, max_cat_to_onehot=None,\n",
       "             max_delta_step=None, max_depth=3, max_leaves=None,\n",
       "             min_child_weight=None, missing=nan, monotone_constraints=None,\n",
       "             n_estimators=1000, n_jobs=None, num_parallel_tree=None,\n",
       "             objective='reg:linear', predictor=None, ...)"
      ]
     },
     "execution_count": 75,
     "metadata": {},
     "output_type": "execute_result"
    }
   ],
   "source": [
    "import xgboost as xgb\n",
    "from sklearn.metrics import mean_squared_error\n",
    "\n",
    "#Build the model\n",
    "reg = xgb.XGBRegressor(base_score=0.5, booster='gbtree',    \n",
    "                       n_estimators=1000,\n",
    "                       early_stopping_rounds=50,\n",
    "                       objective='reg:linear',\n",
    "                       max_depth=3,\n",
    "                       learning_rate=0.01)\n",
    "reg.fit(X_train_norm, y_train,\n",
    "        eval_set=[(X_train_norm, y_train), (X_test_norm, y_test)],\n",
    "        verbose=100)"
   ]
  },
  {
   "cell_type": "code",
   "execution_count": 77,
   "id": "96650765-ee66-4d54-9b8b-0ccfc113c642",
   "metadata": {},
   "outputs": [
    {
     "data": {
      "text/plain": [
       "0.4610963923743292"
      ]
     },
     "execution_count": 77,
     "metadata": {},
     "output_type": "execute_result"
    }
   ],
   "source": [
    "MCRMSE(reg.predict(X_test_norm))"
   ]
  },
  {
   "cell_type": "code",
   "execution_count": null,
   "id": "d390bdec-357e-46a9-ae85-0a2454e245f0",
   "metadata": {},
   "outputs": [],
   "source": []
  }
 ],
 "metadata": {
  "kernelspec": {
   "display_name": "Python 3 (ipykernel)",
   "language": "python",
   "name": "python3"
  },
  "language_info": {
   "codemirror_mode": {
    "name": "ipython",
    "version": 3
   },
   "file_extension": ".py",
   "mimetype": "text/x-python",
   "name": "python",
   "nbconvert_exporter": "python",
   "pygments_lexer": "ipython3",
   "version": "3.9.13"
  }
 },
 "nbformat": 4,
 "nbformat_minor": 5
}
