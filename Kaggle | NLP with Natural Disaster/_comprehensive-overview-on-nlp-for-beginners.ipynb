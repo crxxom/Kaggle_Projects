{
 "cells": [
  {
   "cell_type": "markdown",
   "id": "84c62343",
   "metadata": {
    "papermill": {
     "duration": 0.067717,
     "end_time": "2023-08-11T09:53:42.050936",
     "exception": false,
     "start_time": "2023-08-11T09:53:41.983219",
     "status": "completed"
    },
    "tags": []
   },
   "source": [
    "# <div style=\"text-align:center; font-size:40px;\"><span style=\"color:#3A506B\">❗ Important ❗</div>\n",
    "\n",
    "Hey there, after reviewing and finishing this notebook, I realised that the content in this notebook may be too long. That's why I have created a NLP tutorial series to split the content in this notebook into several parts. The content in this notebook and in the series is almost identical, feel free to choose to use this notebook or to learn with the series if it suits your learning need. (Tips: You can download this notebook as a note for future referencing and learn with the tutorial series)\n",
    "    \n",
    "**✅ Comprehensive Overview on NLP for Beginners 🥳 (collection of all series)** <br>\n",
    " https://www.kaggle.com/code/crxxom/comprehensive-overview-on-nlp-for-beginners\n",
    " \n",
    "    \n",
    "**🔴 NLP Beginner Series Part 1: NLP Preprocessing** <br>\n",
    "https://www.kaggle.com/code/crxxom/nlp-beginner-series-part-1-nlp-preprocessing\n",
    "\n",
    "**🟡 NLP Beginner Series Part 2.1: Word Embeddings** <br>\n",
    "https://www.kaggle.com/code/crxxom/nlp-beginner-series-part-2-1-word-embeddings\n",
    "\n",
    "**🟢 NLP Beginner Series Part 2.2: Embedding Models** <br>\n",
    "https://www.kaggle.com/code/crxxom/nlp-beginner-series-part-2-2-embedding-models\n",
    "\n",
    "**🟣 NLP Beginner Series Part 3: Case Study** <br>\n",
    " https://www.kaggle.com/code/crxxom/nlp-beginner-series-part-3-case-study\n",
    " "
   ]
  },
  {
   "cell_type": "markdown",
   "id": "c00216f7",
   "metadata": {
    "papermill": {
     "duration": 0.058719,
     "end_time": "2023-08-11T09:53:42.169696",
     "exception": false,
     "start_time": "2023-08-11T09:53:42.110977",
     "status": "completed"
    },
    "tags": []
   },
   "source": [
    "# <div style=\"text-align:center; font-size:40px;\"><span style=\"color:#3A506B\">🔥  Overview of the Notebook  🔥</div>\n"
   ]
  },
  {
   "cell_type": "markdown",
   "id": "9f2519b2",
   "metadata": {
    "papermill": {
     "duration": 0.056723,
     "end_time": "2023-08-11T09:53:42.286045",
     "exception": false,
     "start_time": "2023-08-11T09:53:42.229322",
     "status": "completed"
    },
    "tags": []
   },
   "source": [
    "## >> Important concepts and techniques you need to know to get you started with NLP explained in a **➡ beginner friendly way ⬅**\n",
    "\n",
    "## >> **ONLY** pre-requisite you need: Python, Pandas and Numpy\n",
    "\n",
    "## >> 🕑 Take your Time! (~ 2-3 hours)\n",
    "\n",
    "The estimated time to complete this notebook can be between 2-3 hours if you are a beginner. It can take even longer if read the additional resources and do other research while surfing through the notebook. There is no need to rush the process! In fact, it is recommended to split the workload to a few days for a more comfortable and effective learning. But I can guarantee you your time will be well spent if your an absolute beginner!\n",
    "\n",
    "## >> Is this notebook for me 🤔\n",
    "\n",
    "This notebook **covers the absolute fundamentals of NLP to let you have an overview with what exactly is NLP and how it work.** \n",
    "\n",
    "### 🌟 Skim through the notebook\n",
    "\n",
    "Quickly scroll through the whole notebook to see if the style suit your learning needs!\n",
    "\n",
    "### 🌟 This notebook is beginner friendly\n",
    "This notebook is very much a **beginner friendly notebook**, the only pre-requisite you will need is Python and some common data science frameworks such as Pandas and Numpy. All the concepts covered in this notebook will be clearly explained but may not be deeply explained, you will be encouraged to do additional research on your own if you would like to understand more about a particular topic. The goal of this notebook is to give you an overview to NLP and introduce you with key vocabularies and concepts you will need to know in NLP.\n",
    "\n",
    "\n",
    "### 🌟 Seperate sections to suit your needs\n",
    "**Each section of the notebook is seperated**, ie. you do NOT need to run the code on section 1 to be able to run the code in section 2, libraries and framework will be introduced and imported in each individual section, dataset are not interrelatble across sections. If you are only interested in any particular section, **you can skip through the sections to run the code in that particular section only**. In fact, I try to make each codeblock as seperated as possible so that you do not need to run codeblock A to be able to run B.\n",
    "\n",
    "\n",
    "### 🌟 Images to help you learn\n",
    "This notebook contains **a lot of images** to demonstrate the concepts and principles as I find it to be the best way to understand complicated concepts. These images are mostly images from google and screenshots from youtube tutorials, if any parties find it inappropriate to use their images/screenshots, please let me know I will delete is as soon as possible.\n",
    "\n",
    "### 🌟 I am a beginner also\n",
    "This notebook is **written from the perspective of a beginner** to the world of machine learning. With that being said, there may be some concepts that isn't covered clearly/deeply, but on the other hand, I feel like it will be easier to catch up if you are a beginner as well, as I will not be throwing some complicated jargons and overload you too much since I am a beginner as well. Additionally I have also included a lot of resources if you want to have a deeper insight for each topics.\n",
    "\n",
    "\n",
    "### 🌟 Notebook designed in a way to not overwhelm you\n",
    "**Take your time!** Small and lengthy words are hard and dull to read, that's why this notebook trys to **minimize the amount of text and use bold text, images and emojis** so that you can navigate the notebook faster. The notebook also attempts to **minimize the amount of code** as much as possible, to save you from being too overwhelmed. \n",
    "\n",
    "**Try to run the codeblocks youself**, running and changing codes in the codeblocks can give you a more immersive learning experience. \n",
    "\n",
    "If you appreciate my work or would like to express your views/make suggestions on some of my code and content, feel free to comment and correct me, I will make sure to keep updating and make improvements to this notebook! I hope you will find this notebook useful and an enjoyable journey.\n",
    "\n",
    "### ⭕ Note\n",
    "\n",
    "I have imported several huge models to the notebook as input, so it may take a while to load the notebook when you first open it. If you find it necessary or you have download the model locally, you may load the model directly from your computer.\n",
    "\n",
    "## 🔎 Concepts and techniques you can take away with you from this notebook\n",
    "\n",
    "#### 🟢 [Overview of NLP Pipeline](#nlp-pipeline)\n",
    "\n",
    "#### 🟢 [Tokenization and spaCy pipeline](#tokenization)\n",
    "\n",
    "#### 🟢 [Stop Word](#stop-word)\n",
    "\n",
    "#### 🟢 [Stemming and Lemmatization](#stemming-and-lemmatization)\n",
    "\n",
    "#### 🟢 [Out of Vocabulary (OOV)](#out-of-vocabulary)\n",
    "\n",
    "#### 🟢 [POS (Part of Speech) tagging](#part-of-speech-tagging)\n",
    "\n",
    "#### 🟢 [Name Entity Recognition (NER)](#named-entity-recognition)\n",
    "\n",
    "#### 🟢 [Bag of Words (BOW)](#bag-of-words)\n",
    "\n",
    "#### 🟢 [Bag of n-grams](#bag-of-n-grams)\n",
    "\n",
    "#### 🟢 [Term Frequency - Inverse Document Frequency (TF-IDF)](#tf-idf)\n",
    "\n",
    "#### 🟢 [Word Embeddings](#word-embeddings)\n",
    "\n",
    "#### 🟢 [Cosine Similarity](#cosine-similarity)\n",
    "\n",
    "#### 🟢 [Arithmetic of Word Embeddings](#arithmetic-of-word-embeddings)\n",
    "\n",
    "#### 🟢 [Continuous Bag of Words Model](#cbow)\n",
    "\n",
    "#### 🟢 [SkipGram Model](#skipgram)\n",
    " \n",
    "#### 🟢 [Word2Vec](#word2vec)\n",
    "\n",
    "#### 🟢 [fastText](#fasttext)\n",
    "\n",
    "#### 🟢 [GloVe](#glove)\n",
    "\n",
    "#### 🟢 [Hugging Face](#huggingface)\n",
    "\n",
    "#### 🟢 [Bidirectional Encoder Representations from Transformers (BERT)](#bert)\n",
    "\n",
    "#### 🟢 [Case Study: NLP with Disaster Tweet](#case-study)"
   ]
  },
  {
   "cell_type": "markdown",
   "id": "77785b37",
   "metadata": {
    "papermill": {
     "duration": 0.057833,
     "end_time": "2023-08-11T09:53:42.400638",
     "exception": false,
     "start_time": "2023-08-11T09:53:42.342805",
     "status": "completed"
    },
    "tags": []
   },
   "source": [
    "<div style=\"width:100%;text-align: center;\"> <img align=middle src=\"https://i.imgur.com/YmCSFRs.png\" style=\"height:500px;\"> </div>"
   ]
  },
  {
   "cell_type": "markdown",
   "id": "1f565a35",
   "metadata": {
    "_cell_guid": "b1076dfc-b9ad-4769-8c92-a6c4dae69d19",
    "_uuid": "8f2839f25d086af736a60e9eeb907d3b93b6e0e5",
    "execution": {
     "iopub.execute_input": "2023-08-07T07:39:21.604021Z",
     "iopub.status.busy": "2023-08-07T07:39:21.603523Z",
     "iopub.status.idle": "2023-08-07T07:39:21.612542Z",
     "shell.execute_reply": "2023-08-07T07:39:21.610742Z",
     "shell.execute_reply.started": "2023-08-07T07:39:21.603985Z"
    },
    "papermill": {
     "duration": 0.054594,
     "end_time": "2023-08-11T09:53:42.512118",
     "exception": false,
     "start_time": "2023-08-11T09:53:42.457524",
     "status": "completed"
    },
    "tags": []
   },
   "source": [
    "<div style=\"width:100%;text-align: center;\"> <img align=middle src=\"https://i.imgur.com/buymiQ8.png\" style=\"height:500px;\"> </div>"
   ]
  },
  {
   "cell_type": "markdown",
   "id": "32aaf204",
   "metadata": {
    "papermill": {
     "duration": 0.05487,
     "end_time": "2023-08-11T09:53:42.625897",
     "exception": false,
     "start_time": "2023-08-11T09:53:42.571027",
     "status": "completed"
    },
    "tags": []
   },
   "source": [
    "# <a id=\"nlp-pipeline\"></a><div style=\"text-align:center; font-size:40px;\"><span style=\"color:#3A506B\">Overview of NLP Pipeline</span></div>\n"
   ]
  },
  {
   "cell_type": "markdown",
   "id": "9c54c5c6",
   "metadata": {
    "papermill": {
     "duration": 0.056869,
     "end_time": "2023-08-11T09:53:42.738812",
     "exception": false,
     "start_time": "2023-08-11T09:53:42.681943",
     "status": "completed"
    },
    "tags": []
   },
   "source": [
    "<div style=\"width:100%;text-align: center;\"> <img align=middle src=\"https://i.imgur.com/Jm6yryM.png\" style=\"height:250px;\"> </div>"
   ]
  },
  {
   "cell_type": "markdown",
   "id": "b7cd2b34",
   "metadata": {
    "papermill": {
     "duration": 0.054705,
     "end_time": "2023-08-11T09:53:42.849149",
     "exception": false,
     "start_time": "2023-08-11T09:53:42.794444",
     "status": "completed"
    },
    "tags": []
   },
   "source": [
    "### 1️⃣ Data Collection\n",
    "* Collection of raw data to train the model\n",
    "* Typical NLP data examples are text data such as reviews from amazon, tweets on twitter or news articles from google news\n",
    " \n",
    "### 2️⃣ Text Cleaning\n",
    "* Common text cleaning tasks are removing special characters, removing HTML tags, removing extra lines and space etc.\n",
    "* Often involve the use of **regular expression** (it's basically a technique to input a sequence to extract a pattern in a sentence, it is not a machine learning thing but more like a python thing)\n",
    "\n",
    "### 3️⃣ Preprocessing\n",
    "* The point of preprocessing is to transform our dataset in a way that allow our model to better grab the key information and value of our input data\n",
    "* A lot of techniques and concepts will be covered in this section including,\n",
    "* **Tokenization**\n",
    "* **Stop word**\n",
    "* **Stemming and Lemmatization**\n",
    "* **POS tagging**\n",
    "* **Name Entity Recognition (NER)**\n",
    "\n",
    "\n",
    "### 4️⃣ Feature Engineering\n",
    "* In NLP, feature engineering process mostly involve **vectorizing** words (converting strings into meaningful numbers), techniques and concept covered in this section including,\n",
    "* **Bag of Word (BOW)**\n",
    "* **Bag of n-grams**\n",
    "* **Term Frequency - Inverse Document Frequency (TF-IDF)**\n",
    "* **Word embedding**\n",
    "* **Cosine Similarity**\n",
    "* **CBOW and SkipGram**\n",
    "* **Word2Vec**\n",
    "* **GloVe**\n",
    "* **fastText**\n",
    "* **Bidirectional Encoder Representations from Transformers (BERT)**\n",
    "\n",
    "### 5️⃣ Modelling\n",
    "* Examples of models commonly used for NLP tasks are Naive Bayes and deep learning algorithms like LSTM\n",
    "\n",
    "### 6️⃣-8️⃣ Evaluation, Deployment and Monitoring and model updating"
   ]
  },
  {
   "cell_type": "markdown",
   "id": "e71d355a",
   "metadata": {
    "papermill": {
     "duration": 0.053989,
     "end_time": "2023-08-11T09:53:42.957532",
     "exception": false,
     "start_time": "2023-08-11T09:53:42.903543",
     "status": "completed"
    },
    "tags": []
   },
   "source": [
    "# <a id=\"tokenization\"></a><div style=\"text-align:center; font-size:40px;\"><span style=\"color:#3A506B\">🌟 Tokenization with spaCy 🌟</span></div>\n"
   ]
  },
  {
   "cell_type": "markdown",
   "id": "209bd099",
   "metadata": {
    "papermill": {
     "duration": 0.058317,
     "end_time": "2023-08-11T09:53:43.074365",
     "exception": false,
     "start_time": "2023-08-11T09:53:43.016048",
     "status": "completed"
    },
    "tags": []
   },
   "source": [
    "<div style=\"width:100%;text-align: center;\"> <img align=middle src=\"https://i.imgur.com/ia7NSZy.png\" style=\"height:300px;\"> </div>"
   ]
  },
  {
   "cell_type": "markdown",
   "id": "52c9d5f4",
   "metadata": {
    "papermill": {
     "duration": 0.054799,
     "end_time": "2023-08-11T09:53:43.184792",
     "exception": false,
     "start_time": "2023-08-11T09:53:43.129993",
     "status": "completed"
    },
    "tags": []
   },
   "source": [
    "❗ *Tokenization is used in natural language processing to **split paragraphs and sentences into smaller units** that can be more easily assigned meaning. The first step of the NLP process is gathering the data (a sentence) and breaking it into understandable parts (words).*\n",
    "\n",
    "In NLP, you will most commonly come across with the term 'token'. A lot of time a token is the same as a word, especially in english language, but for different languages, it may be different due to the difference in grammar and structure.\n",
    "\n",
    "In this section, we will be exploring the power of tokenization with **spaCy**, a very popular NLP framework. We will be looking at what is tokenization and some useful methods and attributes built in spaCy libaray."
   ]
  },
  {
   "cell_type": "code",
   "execution_count": 1,
   "id": "a9417e98",
   "metadata": {
    "_kg_hide-output": true,
    "execution": {
     "iopub.execute_input": "2023-08-11T09:53:43.297745Z",
     "iopub.status.busy": "2023-08-11T09:53:43.296988Z",
     "iopub.status.idle": "2023-08-11T09:53:43.302208Z",
     "shell.execute_reply": "2023-08-11T09:53:43.301286Z"
    },
    "papermill": {
     "duration": 0.06535,
     "end_time": "2023-08-11T09:53:43.305703",
     "exception": false,
     "start_time": "2023-08-11T09:53:43.240353",
     "status": "completed"
    },
    "tags": []
   },
   "outputs": [],
   "source": [
    "# if you never download spacy before:\n",
    "# pip install spacy"
   ]
  },
  {
   "cell_type": "code",
   "execution_count": 2,
   "id": "c8c6ce35",
   "metadata": {
    "_kg_hide-input": true,
    "execution": {
     "iopub.execute_input": "2023-08-11T09:53:43.419339Z",
     "iopub.status.busy": "2023-08-11T09:53:43.418200Z",
     "iopub.status.idle": "2023-08-11T09:53:43.429595Z",
     "shell.execute_reply": "2023-08-11T09:53:43.428563Z"
    },
    "papermill": {
     "duration": 0.071598,
     "end_time": "2023-08-11T09:53:43.432178",
     "exception": false,
     "start_time": "2023-08-11T09:53:43.360580",
     "status": "completed"
    },
    "tags": []
   },
   "outputs": [],
   "source": [
    "# filter out the warnings\n",
    "import warnings\n",
    "warnings.filterwarnings('ignore')"
   ]
  },
  {
   "cell_type": "markdown",
   "id": "287174e6",
   "metadata": {
    "papermill": {
     "duration": 0.054822,
     "end_time": "2023-08-11T09:53:43.542293",
     "exception": false,
     "start_time": "2023-08-11T09:53:43.487471",
     "status": "completed"
    },
    "tags": []
   },
   "source": [
    "Before we start talking about tokenization, I would like to briefy introduce you with the pipelines that spacy offer. spaCy offer users with trained pipelines that you can use by using the line `spacy.load(\"en_core_web_sm\")` where en stands for english, and sm stands for small. \n",
    "\n",
    "There are different pipelines that spacy offer other than \"en_core_web_sm\" (12 MB), such as \"en_core_web_lg\" (560MB), \"zh_core_web_md\", (zh -> chinese, md -> medium, 74MB) and more. You can see **all the available pipeline on https://spacy.io/usage/models** and click into each 'pipeline' for more information. \n",
    "\n",
    "<div style=\"width:100%;text-align: center;\"> <img align=middle src=\"https://i.imgur.com/eAqN9F9.png\" style=\"height:400px;\"> </div>\n",
    "\n",
    "<br>\n",
    "\n",
    "**You need to download the pipeline before using it by typing `python -m spacy download en_core_web_sm` in your terminal**, which is what we will be using in this section.\n",
    "\n",
    "\n",
    "For more information: \n",
    "\n",
    "spaCy pipeline: https://spacy.io/usage/processing-pipelines\n"
   ]
  },
  {
   "cell_type": "markdown",
   "id": "1b2dde9c",
   "metadata": {
    "papermill": {
     "duration": 0.054857,
     "end_time": "2023-08-11T09:53:43.652319",
     "exception": false,
     "start_time": "2023-08-11T09:53:43.597462",
     "status": "completed"
    },
    "tags": []
   },
   "source": [
    "<div style=\"width:100%;text-align: center;\"> <img align=middle src=\"https://i.imgur.com/sEZ1yu7.png\" style=\"height:200px;\"> </div>"
   ]
  },
  {
   "cell_type": "markdown",
   "id": "d6679c86",
   "metadata": {
    "papermill": {
     "duration": 0.054224,
     "end_time": "2023-08-11T09:53:43.762010",
     "exception": false,
     "start_time": "2023-08-11T09:53:43.707786",
     "status": "completed"
    },
    "tags": []
   },
   "source": [
    "### 🧑‍💻 Let's code \n"
   ]
  },
  {
   "cell_type": "code",
   "execution_count": 3,
   "id": "9d642fe1",
   "metadata": {
    "execution": {
     "iopub.execute_input": "2023-08-11T09:53:43.874699Z",
     "iopub.status.busy": "2023-08-11T09:53:43.873775Z",
     "iopub.status.idle": "2023-08-11T09:54:01.232071Z",
     "shell.execute_reply": "2023-08-11T09:54:01.230385Z"
    },
    "papermill": {
     "duration": 17.418794,
     "end_time": "2023-08-11T09:54:01.235453",
     "exception": false,
     "start_time": "2023-08-11T09:53:43.816659",
     "status": "completed"
    },
    "tags": []
   },
   "outputs": [
    {
     "name": "stdout",
     "output_type": "stream",
     "text": [
      "Components in en_core_web_sm pipeline:  ['tok2vec', 'tagger', 'parser', 'attribute_ruler', 'lemmatizer', 'ner']\n",
      "Components in blank pipeline:  []\n"
     ]
    }
   ],
   "source": [
    "import spacy\n",
    "\n",
    "nlp_sm = spacy.load(\"en_core_web_sm\")\n",
    "\n",
    "nlp_blank = spacy.blank(\"en\")\n",
    "\n",
    "print(\"Components in en_core_web_sm pipeline: \", nlp_sm.pipe_names)\n",
    "print(\"Components in blank pipeline: \", nlp_blank.pipe_names)"
   ]
  },
  {
   "cell_type": "markdown",
   "id": "70b421c0",
   "metadata": {
    "papermill": {
     "duration": 0.057251,
     "end_time": "2023-08-11T09:54:01.349582",
     "exception": false,
     "start_time": "2023-08-11T09:54:01.292331",
     "status": "completed"
    },
    "tags": []
   },
   "source": [
    "You can add elements manually to your nlp pipeline in your own need."
   ]
  },
  {
   "cell_type": "code",
   "execution_count": 4,
   "id": "e6efdd34",
   "metadata": {
    "execution": {
     "iopub.execute_input": "2023-08-11T09:54:01.470051Z",
     "iopub.status.busy": "2023-08-11T09:54:01.468614Z",
     "iopub.status.idle": "2023-08-11T09:54:01.490910Z",
     "shell.execute_reply": "2023-08-11T09:54:01.489725Z"
    },
    "papermill": {
     "duration": 0.086215,
     "end_time": "2023-08-11T09:54:01.493682",
     "exception": false,
     "start_time": "2023-08-11T09:54:01.407467",
     "status": "completed"
    },
    "tags": []
   },
   "outputs": [
    {
     "name": "stdout",
     "output_type": "stream",
     "text": [
      "Components in sm pipeline:  ['tok2vec', 'tagger', 'parser', 'attribute_ruler', 'lemmatizer', 'ner', 'sentencizer']\n"
     ]
    }
   ],
   "source": [
    "nlp_sm.add_pipe('sentencizer')\n",
    "print(\"Components in sm pipeline: \", nlp_sm.pipe_names)"
   ]
  },
  {
   "cell_type": "markdown",
   "id": "e6ab5c0f",
   "metadata": {
    "papermill": {
     "duration": 0.057618,
     "end_time": "2023-08-11T09:54:01.608657",
     "exception": false,
     "start_time": "2023-08-11T09:54:01.551039",
     "status": "completed"
    },
    "tags": []
   },
   "source": [
    "Each spaCy pipeline contains a tokenizer, even for spacy.blank() pipeline. "
   ]
  },
  {
   "cell_type": "code",
   "execution_count": 5,
   "id": "929cd803",
   "metadata": {
    "execution": {
     "iopub.execute_input": "2023-08-11T09:54:01.728774Z",
     "iopub.status.busy": "2023-08-11T09:54:01.727965Z",
     "iopub.status.idle": "2023-08-11T09:54:01.767211Z",
     "shell.execute_reply": "2023-08-11T09:54:01.765375Z"
    },
    "papermill": {
     "duration": 0.104526,
     "end_time": "2023-08-11T09:54:01.770426",
     "exception": false,
     "start_time": "2023-08-11T09:54:01.665900",
     "status": "completed"
    },
    "tags": []
   },
   "outputs": [
    {
     "name": "stdout",
     "output_type": "stream",
     "text": [
      "Type of doc1[0] for nlp_sm:  <class 'spacy.tokens.token.Token'>\n",
      "Type of doc2[0] for nlp_blank:  <class 'spacy.tokens.token.Token'>\n"
     ]
    }
   ],
   "source": [
    "doc1 = nlp_sm(\"Natural Language Processing\")\n",
    "token1_0 = doc1[0]\n",
    "print(\"Type of doc1[0] for nlp_sm: \", type(token1_0))\n",
    "doc2 = nlp_blank(\"Natural Language Processing\")\n",
    "token2_0 = doc2[0]\n",
    "print(\"Type of doc2[0] for nlp_blank: \", type(token2_0))"
   ]
  },
  {
   "cell_type": "markdown",
   "id": "d0ea82c9",
   "metadata": {
    "papermill": {
     "duration": 0.059309,
     "end_time": "2023-08-11T09:54:01.889887",
     "exception": false,
     "start_time": "2023-08-11T09:54:01.830578",
     "status": "completed"
    },
    "tags": []
   },
   "source": [
    "Tokenization is often the very first step of preprocessing, it is important to break down a sentence to individual 'token' so that each token has like its own meaning. In fact, in some cases, you may want to assign token manually especially when it comes to slang."
   ]
  },
  {
   "cell_type": "code",
   "execution_count": 6,
   "id": "7c498164",
   "metadata": {
    "execution": {
     "iopub.execute_input": "2023-08-11T09:54:02.007012Z",
     "iopub.status.busy": "2023-08-11T09:54:02.005998Z",
     "iopub.status.idle": "2023-08-11T09:54:03.258020Z",
     "shell.execute_reply": "2023-08-11T09:54:03.256255Z"
    },
    "papermill": {
     "duration": 1.31318,
     "end_time": "2023-08-11T09:54:03.261081",
     "exception": false,
     "start_time": "2023-08-11T09:54:01.947901",
     "status": "completed"
    },
    "tags": []
   },
   "outputs": [
    {
     "name": "stdout",
     "output_type": "stream",
     "text": [
      "yessir\n"
     ]
    }
   ],
   "source": [
    "# Before manually assigning token\n",
    "\n",
    "nlp = spacy.load(\"en_core_web_sm\")\n",
    "\n",
    "doc = nlp(\"yessir\")\n",
    "\n",
    "for token in doc:\n",
    "    print(token)"
   ]
  },
  {
   "cell_type": "code",
   "execution_count": 7,
   "id": "1a562334",
   "metadata": {
    "execution": {
     "iopub.execute_input": "2023-08-11T09:54:03.379804Z",
     "iopub.status.busy": "2023-08-11T09:54:03.378630Z",
     "iopub.status.idle": "2023-08-11T09:54:04.646729Z",
     "shell.execute_reply": "2023-08-11T09:54:04.645391Z"
    },
    "papermill": {
     "duration": 1.329974,
     "end_time": "2023-08-11T09:54:04.649947",
     "exception": false,
     "start_time": "2023-08-11T09:54:03.319973",
     "status": "completed"
    },
    "tags": []
   },
   "outputs": [
    {
     "name": "stdout",
     "output_type": "stream",
     "text": [
      "yes\n",
      "sir\n"
     ]
    }
   ],
   "source": [
    "# After manually assigning token\n",
    "\n",
    "from spacy.symbols import ORTH\n",
    "\n",
    "nlp = spacy.load(\"en_core_web_sm\")\n",
    "\n",
    "nlp.tokenizer.add_special_case(\"yessir\", [\n",
    "    {ORTH: \"yes\"},\n",
    "    {ORTH: \"sir\"},\n",
    "])\n",
    "\n",
    "doc = nlp(\"yessir\")\n",
    "\n",
    "for token in doc:\n",
    "    print(token)"
   ]
  },
  {
   "cell_type": "markdown",
   "id": "ad9baf92",
   "metadata": {
    "papermill": {
     "duration": 0.056976,
     "end_time": "2023-08-11T09:54:04.764599",
     "exception": false,
     "start_time": "2023-08-11T09:54:04.707623",
     "status": "completed"
    },
    "tags": []
   },
   "source": [
    "Tokenization is essential on its own, but spaCy offers a lot of **built-in attributes and methods** you can use to achieve cool things. Here are some few examples.\n",
    "\n",
    "For more information: https://spacy.io/api/token"
   ]
  },
  {
   "cell_type": "code",
   "execution_count": 8,
   "id": "5b83157f",
   "metadata": {
    "execution": {
     "iopub.execute_input": "2023-08-11T09:54:04.883750Z",
     "iopub.status.busy": "2023-08-11T09:54:04.882706Z",
     "iopub.status.idle": "2023-08-11T09:54:06.077251Z",
     "shell.execute_reply": "2023-08-11T09:54:06.076372Z"
    },
    "papermill": {
     "duration": 1.256334,
     "end_time": "2023-08-11T09:54:06.080152",
     "exception": false,
     "start_time": "2023-08-11T09:54:04.823818",
     "status": "completed"
    },
    "tags": []
   },
   "outputs": [
    {
     "name": "stdout",
     "output_type": "stream",
     "text": [
      "The [alpha?: True] [currency?: False] [punctuation? False] [email? False]\n",
      "total [alpha?: True] [currency?: False] [punctuation? False] [email? False]\n",
      "is [alpha?: True] [currency?: False] [punctuation? False] [email? False]\n",
      "$ [alpha?: False] [currency?: True] [punctuation? False] [email? False]\n",
      "50 [alpha?: False] [currency?: False] [punctuation? False] [email? False]\n",
      ", [alpha?: False] [currency?: False] [punctuation? True] [email? False]\n",
      "pay [alpha?: True] [currency?: False] [punctuation? False] [email? False]\n",
      "me [alpha?: True] [currency?: False] [punctuation? False] [email? False]\n",
      "through [alpha?: True] [currency?: False] [punctuation? False] [email? False]\n",
      "email [alpha?: True] [currency?: False] [punctuation? False] [email? False]\n",
      "at [alpha?: True] [currency?: False] [punctuation? False] [email? False]\n",
      "abc@gmail.com [alpha?: False] [currency?: False] [punctuation? False] [email? True]\n"
     ]
    }
   ],
   "source": [
    "nlp = spacy.load(\"en_core_web_sm\")\n",
    "\n",
    "doc = nlp(\"The total is $50, pay me through email at abc@gmail.com\")\n",
    "\n",
    "for token in doc:\n",
    "    print(f\"{token} [alpha?: {token.is_alpha}] [currency?: {token.is_currency}] [punctuation? {token.is_punct}] [email? {token.like_email}]\")"
   ]
  },
  {
   "cell_type": "markdown",
   "id": "c82e174f",
   "metadata": {
    "papermill": {
     "duration": 0.057571,
     "end_time": "2023-08-11T09:54:06.199456",
     "exception": false,
     "start_time": "2023-08-11T09:54:06.141885",
     "status": "completed"
    },
    "tags": []
   },
   "source": [
    "# <a id=\"stop-word\"></a><div style=\"text-align:center; font-size:40px;\"><span style=\"color:#3A506B\">Stop Word</span></div>\n"
   ]
  },
  {
   "cell_type": "markdown",
   "id": "8d382895",
   "metadata": {
    "papermill": {
     "duration": 0.160767,
     "end_time": "2023-08-11T09:54:06.419462",
     "exception": false,
     "start_time": "2023-08-11T09:54:06.258695",
     "status": "completed"
    },
    "tags": []
   },
   "source": [
    "<div style=\"width:100%;text-align: center;\"> <img src=\"https://i.imgur.com/owv8iQX.jpg\" style=\"height:300px;\"> </div>"
   ]
  },
  {
   "cell_type": "markdown",
   "id": "0be69849",
   "metadata": {
    "papermill": {
     "duration": 0.059024,
     "end_time": "2023-08-11T09:54:06.541456",
     "exception": false,
     "start_time": "2023-08-11T09:54:06.482432",
     "status": "completed"
    },
    "tags": []
   },
   "source": [
    "❗ *Stop words are a set of commonly used words in a language. Examples of stop words in English are “a,” “the,” “is,” “are,” etc. Stop words are commonly used in Text Mining and Natural Language Processing (NLP) to eliminate words that are so widely used that they carry very little useful information.*\n",
    "\n",
    "There are several reasons why we want to remove stop words, with the most important one being to  **reduce the number of irrelevant words** in text analysis process so that words that contribute more to the context of the text will be given a relatively heavier weight. Other reasons would be to reduce the size of input to **enhance training efficiency**.\n",
    "\n",
    "Of course, we do not always want to remove these stop words for various reasons such as loss of information etc.\n",
    "\n",
    "\n",
    "For more information: <br>\n",
    "Why shouldn't we remove stop word:  <br>\n",
    "https://opensourceconnections.com/blog/2023/01/24/10-reasons-why-you-shouldnt-remove-stop-words/#:~:text=Removing%20stop%20words%20may%20now,retrieved%20in%20the%20first%20step."
   ]
  },
  {
   "cell_type": "markdown",
   "id": "40c1a819",
   "metadata": {
    "papermill": {
     "duration": 0.073964,
     "end_time": "2023-08-11T09:54:06.688909",
     "exception": false,
     "start_time": "2023-08-11T09:54:06.614945",
     "status": "completed"
    },
    "tags": []
   },
   "source": [
    "### 🧑‍💻 Let's code \n"
   ]
  },
  {
   "cell_type": "code",
   "execution_count": 9,
   "id": "32c396dd",
   "metadata": {
    "execution": {
     "iopub.execute_input": "2023-08-11T09:54:06.831758Z",
     "iopub.status.busy": "2023-08-11T09:54:06.831368Z",
     "iopub.status.idle": "2023-08-11T09:54:06.837729Z",
     "shell.execute_reply": "2023-08-11T09:54:06.836859Z"
    },
    "papermill": {
     "duration": 0.081837,
     "end_time": "2023-08-11T09:54:06.841929",
     "exception": false,
     "start_time": "2023-08-11T09:54:06.760092",
     "status": "completed"
    },
    "tags": []
   },
   "outputs": [
    {
     "name": "stdout",
     "output_type": "stream",
     "text": [
      "Number of stop words in spacy: 326\n",
      "Some example of stop words: ['put', 'next', 'hundred', 'this', 'unless']\n"
     ]
    }
   ],
   "source": [
    "import spacy\n",
    "\n",
    "from spacy.lang.en.stop_words import STOP_WORDS\n",
    "\n",
    "print(\"Number of stop words in spacy:\", len(STOP_WORDS))\n",
    "\n",
    "print(\"Some example of stop words:\", list(STOP_WORDS)[0:5])"
   ]
  },
  {
   "cell_type": "code",
   "execution_count": 10,
   "id": "8247986a",
   "metadata": {
    "execution": {
     "iopub.execute_input": "2023-08-11T09:54:06.973680Z",
     "iopub.status.busy": "2023-08-11T09:54:06.973227Z",
     "iopub.status.idle": "2023-08-11T09:54:08.298130Z",
     "shell.execute_reply": "2023-08-11T09:54:08.296560Z"
    },
    "papermill": {
     "duration": 1.390537,
     "end_time": "2023-08-11T09:54:08.301352",
     "exception": false,
     "start_time": "2023-08-11T09:54:06.910815",
     "status": "completed"
    },
    "tags": []
   },
   "outputs": [
    {
     "name": "stdout",
     "output_type": "stream",
     "text": [
      "Original:  Apple and Google lead initiative for an industry specification to address unwanted tracking\n",
      "After filtering:  Apple Google lead initiative industry specification address unwanted tracking\n"
     ]
    }
   ],
   "source": [
    "import spacy\n",
    "\n",
    "nlp = spacy.load(\"en_core_web_sm\")\n",
    "\n",
    "doc = nlp(\"Apple and Google lead initiative for an industry specification to address unwanted tracking\")\n",
    "\n",
    "filtered_stop_words = []\n",
    "\n",
    "for token in doc:\n",
    "    if not token.is_stop: # we use token attribute .is_stop\n",
    "        filtered_stop_words.append(token.text)\n",
    "print(\"Original: \", doc)\n",
    "print(\"After filtering: \", \" \".join(filtered_stop_words))"
   ]
  },
  {
   "cell_type": "markdown",
   "id": "08621a16",
   "metadata": {
    "papermill": {
     "duration": 0.056723,
     "end_time": "2023-08-11T09:54:08.413725",
     "exception": false,
     "start_time": "2023-08-11T09:54:08.357002",
     "status": "completed"
    },
    "tags": []
   },
   "source": [
    "# <a id=\"stemming-and-lemmatization\"></a><div style=\"text-align:center; font-size:40px;\"><span style=\"color:#3A506B\">🌟 Stemming and Lemmatization 🌟</span></div>\n"
   ]
  },
  {
   "cell_type": "markdown",
   "id": "3d036223",
   "metadata": {
    "papermill": {
     "duration": 0.057075,
     "end_time": "2023-08-11T09:54:08.526830",
     "exception": false,
     "start_time": "2023-08-11T09:54:08.469755",
     "status": "completed"
    },
    "tags": []
   },
   "source": [
    "<div style=\"width:100%;text-align: center;\"> <img align=middle src=\"https://i.imgur.com/WbJvTWD.png\" style=\"height:300px;\"> </div>"
   ]
  },
  {
   "cell_type": "markdown",
   "id": "0d020f88",
   "metadata": {
    "papermill": {
     "duration": 0.059358,
     "end_time": "2023-08-11T09:54:08.642369",
     "exception": false,
     "start_time": "2023-08-11T09:54:08.583011",
     "status": "completed"
    },
    "tags": []
   },
   "source": [
    "❗ *Stemming is a process that stems or removes last few characters from a word, often leading to incorrect meanings and spelling. Lemmatization considers the context and converts the word to its meaningful base form, which is called Lemma.*\n",
    "\n",
    "Stemming and Lemmatization are very important and fundamental concept in NLP. They both aim to achieve the same goal - **convert words to their 'base form/root meaning'**. In fact, we usually only use either one of stemming and lemmatization, but not both in our NLP task. \n",
    "\n",
    "The difference between Stemming and Lemmatization lies in their working principle. \n",
    "\n",
    "In stemming, it attempts to achieve the goal by setting a set of rules to alter the words to change them to their base form. Let's see a raw example."
   ]
  },
  {
   "cell_type": "code",
   "execution_count": 11,
   "id": "9b9cca0f",
   "metadata": {
    "execution": {
     "iopub.execute_input": "2023-08-11T09:54:08.756543Z",
     "iopub.status.busy": "2023-08-11T09:54:08.756120Z",
     "iopub.status.idle": "2023-08-11T09:54:08.764770Z",
     "shell.execute_reply": "2023-08-11T09:54:08.763195Z"
    },
    "papermill": {
     "duration": 0.068674,
     "end_time": "2023-08-11T09:54:08.767498",
     "exception": false,
     "start_time": "2023-08-11T09:54:08.698824",
     "status": "completed"
    },
    "tags": []
   },
   "outputs": [
    {
     "name": "stdout",
     "output_type": "stream",
     "text": [
      "playing -> play\n",
      "happy -> happy\n",
      "studies -> stud\n",
      "plays -> play\n",
      "play -> play\n"
     ]
    }
   ],
   "source": [
    "input_words = ['playing', 'happy', 'studies', 'plays', 'play']\n",
    "\n",
    "def imaginary_stemming_function(token):\n",
    "    if token[-3:] == 'ies' or token[-3:] == 'ing':\n",
    "        token = token[:-3]\n",
    "    if token[-1] == 's':\n",
    "        token = token[:-1]\n",
    "    return token\n",
    "\n",
    "for token in input_words:\n",
    "    print(token, '->', imaginary_stemming_function(token))"
   ]
  },
  {
   "cell_type": "markdown",
   "id": "ca35c2b5",
   "metadata": {
    "papermill": {
     "duration": 0.066815,
     "end_time": "2023-08-11T09:54:08.906974",
     "exception": false,
     "start_time": "2023-08-11T09:54:08.840159",
     "status": "completed"
    },
    "tags": []
   },
   "source": [
    "I hope this show a bit of how stemming work. As you can see, stemming **does not have linguistic knowledge**, so although it may be faster compare to lemmatization, there are several problems associated with stemming such as stemming cannot covert 'gave' into 'give'. \n",
    "\n",
    "In fact, spaCy does not support stemming, so for illustration purpose, we will be using another popular NLP framework - **NLTK** to illustrate the concept of stemming."
   ]
  },
  {
   "cell_type": "markdown",
   "id": "77ae8642",
   "metadata": {
    "papermill": {
     "duration": 0.057626,
     "end_time": "2023-08-11T09:54:09.022542",
     "exception": false,
     "start_time": "2023-08-11T09:54:08.964916",
     "status": "completed"
    },
    "tags": []
   },
   "source": [
    "### 🧑‍💻 Let's code \n"
   ]
  },
  {
   "cell_type": "code",
   "execution_count": 12,
   "id": "0e784bcb",
   "metadata": {
    "execution": {
     "iopub.execute_input": "2023-08-11T09:54:09.138010Z",
     "iopub.status.busy": "2023-08-11T09:54:09.137614Z",
     "iopub.status.idle": "2023-08-11T09:54:09.143259Z",
     "shell.execute_reply": "2023-08-11T09:54:09.141821Z"
    },
    "papermill": {
     "duration": 0.066581,
     "end_time": "2023-08-11T09:54:09.145955",
     "exception": false,
     "start_time": "2023-08-11T09:54:09.079374",
     "status": "completed"
    },
    "tags": []
   },
   "outputs": [],
   "source": [
    "# If you never install nltk before\n",
    "# pip install nltk"
   ]
  },
  {
   "cell_type": "code",
   "execution_count": 13,
   "id": "3d9db9cb",
   "metadata": {
    "execution": {
     "iopub.execute_input": "2023-08-11T09:54:09.260575Z",
     "iopub.status.busy": "2023-08-11T09:54:09.260068Z",
     "iopub.status.idle": "2023-08-11T09:54:11.002810Z",
     "shell.execute_reply": "2023-08-11T09:54:11.001491Z"
    },
    "papermill": {
     "duration": 1.804257,
     "end_time": "2023-08-11T09:54:11.006483",
     "exception": false,
     "start_time": "2023-08-11T09:54:09.202226",
     "status": "completed"
    },
    "tags": []
   },
   "outputs": [
    {
     "name": "stdout",
     "output_type": "stream",
     "text": [
      "give -> give\n",
      "gave -> gave\n",
      "giving -> give\n",
      "swim -> swim\n",
      "swims -> swim\n",
      "swimming -> swim\n"
     ]
    }
   ],
   "source": [
    "from nltk.stem import PorterStemmer\n",
    "\n",
    "stemmer = PorterStemmer()\n",
    "\n",
    "raw_words = ['give', 'gave', 'giving', 'swim', 'swims', 'swimming']\n",
    "\n",
    "for word in raw_words:\n",
    "    print(word, \"->\", stemmer.stem(word))"
   ]
  },
  {
   "cell_type": "markdown",
   "id": "6924dbd0",
   "metadata": {
    "papermill": {
     "duration": 0.064026,
     "end_time": "2023-08-11T09:54:11.139458",
     "exception": false,
     "start_time": "2023-08-11T09:54:11.075432",
     "status": "completed"
    },
    "tags": []
   },
   "source": [
    "**Lemmatization** on the other hand **have linguistic knowledge**, it basically works like a dictionary where each word is somehow linked by some algorithm/model to the base word. Let's illustrate the idea of lemmatization with spaCy."
   ]
  },
  {
   "cell_type": "code",
   "execution_count": 14,
   "id": "4ccf2542",
   "metadata": {
    "execution": {
     "iopub.execute_input": "2023-08-11T09:54:11.263012Z",
     "iopub.status.busy": "2023-08-11T09:54:11.262248Z",
     "iopub.status.idle": "2023-08-11T09:54:12.538767Z",
     "shell.execute_reply": "2023-08-11T09:54:12.536611Z"
    },
    "papermill": {
     "duration": 1.342925,
     "end_time": "2023-08-11T09:54:12.541818",
     "exception": false,
     "start_time": "2023-08-11T09:54:11.198893",
     "status": "completed"
    },
    "tags": []
   },
   "outputs": [
    {
     "name": "stdout",
     "output_type": "stream",
     "text": [
      "give -> give / 11640825575873464194\n",
      "gave -> give / 11640825575873464194\n",
      "giving -> give / 11640825575873464194\n",
      "swim -> swim / 13054409096476681252\n",
      "swims -> swim / 13054409096476681252\n",
      "swimming -> swimming / 12526975369366237900\n"
     ]
    }
   ],
   "source": [
    "import spacy \n",
    "\n",
    "nlp = spacy.load(\"en_core_web_sm\")\n",
    "\n",
    "doc = nlp(\"give gave giving swim swims swimming\")\n",
    "\n",
    "for token in doc:\n",
    "    print(token, \"->\", token.lemma_, \"/\", token.lemma)"
   ]
  },
  {
   "cell_type": "markdown",
   "id": "479c70fe",
   "metadata": {
    "papermill": {
     "duration": 0.056612,
     "end_time": "2023-08-11T09:54:12.659499",
     "exception": false,
     "start_time": "2023-08-11T09:54:12.602887",
     "status": "completed"
    },
    "tags": []
   },
   "source": [
    "You can also add the .lemma_ yourself for special characters such as slang."
   ]
  },
  {
   "cell_type": "code",
   "execution_count": 15,
   "id": "fae59f10",
   "metadata": {
    "execution": {
     "iopub.execute_input": "2023-08-11T09:54:12.776628Z",
     "iopub.status.busy": "2023-08-11T09:54:12.776187Z",
     "iopub.status.idle": "2023-08-11T09:54:12.792996Z",
     "shell.execute_reply": "2023-08-11T09:54:12.791673Z"
    },
    "papermill": {
     "duration": 0.078555,
     "end_time": "2023-08-11T09:54:12.795695",
     "exception": false,
     "start_time": "2023-08-11T09:54:12.717140",
     "status": "completed"
    },
    "tags": []
   },
   "outputs": [
    {
     "name": "stdout",
     "output_type": "stream",
     "text": [
      "nah -> nah\n",
      "no -> no\n",
      "nope -> nope\n"
     ]
    }
   ],
   "source": [
    "# Before adding attribute_ruler\n",
    "\n",
    "doc = nlp(\"nah no nope\")\n",
    "\n",
    "for token in doc:\n",
    "    print(token, \"->\", token.lemma_)"
   ]
  },
  {
   "cell_type": "code",
   "execution_count": 16,
   "id": "d1d7c789",
   "metadata": {
    "execution": {
     "iopub.execute_input": "2023-08-11T09:54:12.920615Z",
     "iopub.status.busy": "2023-08-11T09:54:12.920185Z",
     "iopub.status.idle": "2023-08-11T09:54:12.936175Z",
     "shell.execute_reply": "2023-08-11T09:54:12.934639Z"
    },
    "papermill": {
     "duration": 0.084028,
     "end_time": "2023-08-11T09:54:12.939209",
     "exception": false,
     "start_time": "2023-08-11T09:54:12.855181",
     "status": "completed"
    },
    "tags": []
   },
   "outputs": [
    {
     "name": "stdout",
     "output_type": "stream",
     "text": [
      "nah -> no\n",
      "no -> no\n",
      "nope -> no\n"
     ]
    }
   ],
   "source": [
    "# After adding attribute_ruler\n",
    "\n",
    "ar = nlp.get_pipe(\"attribute_ruler\")\n",
    "\n",
    "ar.add([[{\"TEXT\": \"nah\"}],[{\"TEXT\": \"nope\",}]], {\"LEMMA\": \"no\"})\n",
    "\n",
    "doc = nlp(\"nah no nope\")\n",
    "\n",
    "for token in doc:\n",
    "    print(token, \"->\", token.lemma_)"
   ]
  },
  {
   "cell_type": "markdown",
   "id": "af1ff8ad",
   "metadata": {
    "papermill": {
     "duration": 0.069002,
     "end_time": "2023-08-11T09:54:13.067021",
     "exception": false,
     "start_time": "2023-08-11T09:54:12.998019",
     "status": "completed"
    },
    "tags": []
   },
   "source": [
    "So, the ultimate question, **stemming or lemmatization**. It really depends on how you take your tradeoffs, but in most of the cases, lemmatization is recommended for obvious reasons."
   ]
  },
  {
   "cell_type": "markdown",
   "id": "a4c2b08d",
   "metadata": {
    "papermill": {
     "duration": 0.061712,
     "end_time": "2023-08-11T09:54:13.190070",
     "exception": false,
     "start_time": "2023-08-11T09:54:13.128358",
     "status": "completed"
    },
    "tags": []
   },
   "source": [
    "<div style=\"width:100%;text-align: center;\"> <img align=middle src=\"https://i.imgur.com/v0pQ56g.png\" style=\"height:400px;\"> </div>"
   ]
  },
  {
   "cell_type": "markdown",
   "id": "2369dea2",
   "metadata": {
    "papermill": {
     "duration": 0.058512,
     "end_time": "2023-08-11T09:54:13.310656",
     "exception": false,
     "start_time": "2023-08-11T09:54:13.252144",
     "status": "completed"
    },
    "tags": []
   },
   "source": [
    "# <a id=\"out-of-vocabulary\"></a><div style=\"text-align:center; font-size:40px;\"><span style=\"color:#3A506B\">Out of Vocabulary (OOV)</span></div>\n"
   ]
  },
  {
   "cell_type": "markdown",
   "id": "4cfd5f55",
   "metadata": {
    "papermill": {
     "duration": 0.060062,
     "end_time": "2023-08-11T09:54:13.428875",
     "exception": false,
     "start_time": "2023-08-11T09:54:13.368813",
     "status": "completed"
    },
    "tags": []
   },
   "source": [
    "The concept of OOV is actually being illustrated in the above examples. OOV is basically what it suggests, words that are out of our domain/model, they can be slangs like 'lol', 'nah' etc. Or if you are training your own model, it can be all the words that didn't appear in your training process. This is an issue that you will face later on when discussing on topics such as Bag of Words and Word Embedding. "
   ]
  },
  {
   "cell_type": "code",
   "execution_count": 17,
   "id": "df2ea382",
   "metadata": {
    "execution": {
     "iopub.execute_input": "2023-08-11T09:54:13.545089Z",
     "iopub.status.busy": "2023-08-11T09:54:13.544682Z",
     "iopub.status.idle": "2023-08-11T09:54:18.942898Z",
     "shell.execute_reply": "2023-08-11T09:54:18.941088Z"
    },
    "papermill": {
     "duration": 5.460259,
     "end_time": "2023-08-11T09:54:18.945718",
     "exception": false,
     "start_time": "2023-08-11T09:54:13.485459",
     "status": "completed"
    },
    "tags": []
   },
   "outputs": [
    {
     "name": "stdout",
     "output_type": "stream",
     "text": [
      "nah is OOV False\n",
      "no is OOV False\n",
      "nope is OOV False\n",
      "lol is OOV False\n",
      "lmao is OOV False\n",
      "yesir is OOV True\n",
      "swim is OOV False\n",
      "swimming is OOV False\n",
      "yes is OOV False\n"
     ]
    }
   ],
   "source": [
    "import spacy\n",
    "\n",
    "# Noted that we are using lg model, because sm model itself does not contain a lot of vocab,\n",
    "# so most of the words when using sm model will be OOV\n",
    "nlp = spacy.load('en_core_web_lg')\n",
    "\n",
    "doc = nlp('nah no nope lol lmao yesir swim swimming yes')\n",
    "\n",
    "for token in doc:\n",
    "    print(token, 'is OOV', token.is_oov)"
   ]
  },
  {
   "cell_type": "markdown",
   "id": "a8f106ba",
   "metadata": {
    "papermill": {
     "duration": 0.056268,
     "end_time": "2023-08-11T09:54:19.058192",
     "exception": false,
     "start_time": "2023-08-11T09:54:19.001924",
     "status": "completed"
    },
    "tags": []
   },
   "source": [
    "Result may be surprising, the large model even contain words like 'lol' and 'lmao' but 'yesir' demonstrate the idea of OOV."
   ]
  },
  {
   "cell_type": "markdown",
   "id": "f674d72f",
   "metadata": {
    "papermill": {
     "duration": 0.056346,
     "end_time": "2023-08-11T09:54:19.173931",
     "exception": false,
     "start_time": "2023-08-11T09:54:19.117585",
     "status": "completed"
    },
    "tags": []
   },
   "source": [
    "# <a id=\"part-of-speech-tagging\"></a><div style=\"text-align:center; font-size:40px;\"><span style=\"color:#3A506B\">Part of Speech (PoS) Tagging</span></div>\n"
   ]
  },
  {
   "cell_type": "markdown",
   "id": "5ba0e207",
   "metadata": {
    "papermill": {
     "duration": 0.057263,
     "end_time": "2023-08-11T09:54:19.287429",
     "exception": false,
     "start_time": "2023-08-11T09:54:19.230166",
     "status": "completed"
    },
    "tags": []
   },
   "source": [
    "<div style=\"width:100%;text-align: center;\"> <img align=middle src=\"https://i.imgur.com/A4jz5TR.png\" style=\"height:300px;\"> </div>"
   ]
  },
  {
   "cell_type": "markdown",
   "id": "062d677b",
   "metadata": {
    "papermill": {
     "duration": 0.056149,
     "end_time": "2023-08-11T09:54:19.400794",
     "exception": false,
     "start_time": "2023-08-11T09:54:19.344645",
     "status": "completed"
    },
    "tags": []
   },
   "source": [
    "Part of Speech is probably something you learnt back in elementary school, it is very important part of a language. You might wonder, why do we bother to do part of speech tagging? Here is an example:\n",
    "\n",
    "Together, they **plant** (verb) a **plant** (noun).\n",
    "\n",
    "Now you may start to appreciate the importance of part of speech tagging in NLP. A lot of times, especially in English Language, the same word will have very different meaning depending on the PoS, by doing PoS tagging, we aim to allow our model to have a **better understanding of the grammar and to be able to distinguish words that have multiple meaning**. "
   ]
  },
  {
   "cell_type": "markdown",
   "id": "04a3fc9a",
   "metadata": {
    "papermill": {
     "duration": 0.056785,
     "end_time": "2023-08-11T09:54:19.514173",
     "exception": false,
     "start_time": "2023-08-11T09:54:19.457388",
     "status": "completed"
    },
    "tags": []
   },
   "source": [
    "### 🧑‍💻 Let's code \n",
    "\n",
    "\n",
    "Let's see PoS tagging in action with spaCy and NLTK."
   ]
  },
  {
   "cell_type": "code",
   "execution_count": 18,
   "id": "905484fd",
   "metadata": {
    "execution": {
     "iopub.execute_input": "2023-08-11T09:54:19.629409Z",
     "iopub.status.busy": "2023-08-11T09:54:19.628980Z",
     "iopub.status.idle": "2023-08-11T09:54:20.915251Z",
     "shell.execute_reply": "2023-08-11T09:54:20.913955Z"
    },
    "papermill": {
     "duration": 1.347666,
     "end_time": "2023-08-11T09:54:20.918412",
     "exception": false,
     "start_time": "2023-08-11T09:54:19.570746",
     "status": "completed"
    },
    "tags": []
   },
   "outputs": [
    {
     "name": "stdout",
     "output_type": "stream",
     "text": [
      "Visualizing: VERB (verb) -> VBG (verb, gerund or present participle)\n",
      "Part: PROPN (proper noun) -> NNP (noun, proper singular)\n",
      "-: PUNCT (punctuation) -> HYPH (punctuation mark, hyphen)\n",
      "of: ADP (adposition) -> IN (conjunction, subordinating or preposition)\n",
      "-: PUNCT (punctuation) -> HYPH (punctuation mark, hyphen)\n",
      "Speech: PROPN (proper noun) -> NNP (noun, proper singular)\n",
      "Tags: PROPN (proper noun) -> NNP (noun, proper singular)\n",
      "with: ADP (adposition) -> IN (conjunction, subordinating or preposition)\n",
      "NLTK: PROPN (proper noun) -> NNP (noun, proper singular)\n",
      "and: CCONJ (coordinating conjunction) -> CC (conjunction, coordinating)\n",
      "Spacy: PROPN (proper noun) -> NNP (noun, proper singular)\n"
     ]
    }
   ],
   "source": [
    "import spacy\n",
    "\n",
    "nlp = spacy.load('en_core_web_sm')\n",
    "\n",
    "doc = nlp(\"Visualizing Part-of-Speech Tags with NLTK and Spacy\")\n",
    "\n",
    "for token in doc:\n",
    "    print(f\"{token}: {token.pos_} ({spacy.explain(token.pos_)}) -> {token.tag_} ({spacy.explain(token.tag_)})\")"
   ]
  },
  {
   "cell_type": "code",
   "execution_count": 19,
   "id": "e393fa3f",
   "metadata": {
    "execution": {
     "iopub.execute_input": "2023-08-11T09:54:21.046498Z",
     "iopub.status.busy": "2023-08-11T09:54:21.045597Z",
     "iopub.status.idle": "2023-08-11T09:54:22.273264Z",
     "shell.execute_reply": "2023-08-11T09:54:22.271894Z"
    },
    "papermill": {
     "duration": 1.298764,
     "end_time": "2023-08-11T09:54:22.276910",
     "exception": false,
     "start_time": "2023-08-11T09:54:20.978146",
     "status": "completed"
    },
    "tags": []
   },
   "outputs": [
    {
     "data": {
      "text/html": [
       "<span class=\"tex2jax_ignore\"><svg xmlns=\"http://www.w3.org/2000/svg\" xmlns:xlink=\"http://www.w3.org/1999/xlink\" xml:lang=\"en\" id=\"1daf72dfed004e7bb53843a6ea2b1a65-0\" class=\"displacy\" width=\"950\" height=\"287.0\" direction=\"ltr\" style=\"max-width: none; height: 287.0px; color: #000000; background: #ffffff; font-family: Arial; direction: ltr\">\n",
       "<text class=\"displacy-token\" fill=\"currentColor\" text-anchor=\"middle\" y=\"197.0\">\n",
       "    <tspan class=\"displacy-word\" fill=\"currentColor\" x=\"50\">Visualizing</tspan>\n",
       "    <tspan class=\"displacy-tag\" dy=\"2em\" fill=\"currentColor\" x=\"50\">VERB</tspan>\n",
       "</text>\n",
       "\n",
       "<text class=\"displacy-token\" fill=\"currentColor\" text-anchor=\"middle\" y=\"197.0\">\n",
       "    <tspan class=\"displacy-word\" fill=\"currentColor\" x=\"150\">Part-</tspan>\n",
       "    <tspan class=\"displacy-tag\" dy=\"2em\" fill=\"currentColor\" x=\"150\">PROPN</tspan>\n",
       "</text>\n",
       "\n",
       "<text class=\"displacy-token\" fill=\"currentColor\" text-anchor=\"middle\" y=\"197.0\">\n",
       "    <tspan class=\"displacy-word\" fill=\"currentColor\" x=\"250\">of-</tspan>\n",
       "    <tspan class=\"displacy-tag\" dy=\"2em\" fill=\"currentColor\" x=\"250\">ADP</tspan>\n",
       "</text>\n",
       "\n",
       "<text class=\"displacy-token\" fill=\"currentColor\" text-anchor=\"middle\" y=\"197.0\">\n",
       "    <tspan class=\"displacy-word\" fill=\"currentColor\" x=\"350\">Speech</tspan>\n",
       "    <tspan class=\"displacy-tag\" dy=\"2em\" fill=\"currentColor\" x=\"350\">PROPN</tspan>\n",
       "</text>\n",
       "\n",
       "<text class=\"displacy-token\" fill=\"currentColor\" text-anchor=\"middle\" y=\"197.0\">\n",
       "    <tspan class=\"displacy-word\" fill=\"currentColor\" x=\"450\">Tags</tspan>\n",
       "    <tspan class=\"displacy-tag\" dy=\"2em\" fill=\"currentColor\" x=\"450\">PROPN</tspan>\n",
       "</text>\n",
       "\n",
       "<text class=\"displacy-token\" fill=\"currentColor\" text-anchor=\"middle\" y=\"197.0\">\n",
       "    <tspan class=\"displacy-word\" fill=\"currentColor\" x=\"550\">with</tspan>\n",
       "    <tspan class=\"displacy-tag\" dy=\"2em\" fill=\"currentColor\" x=\"550\">ADP</tspan>\n",
       "</text>\n",
       "\n",
       "<text class=\"displacy-token\" fill=\"currentColor\" text-anchor=\"middle\" y=\"197.0\">\n",
       "    <tspan class=\"displacy-word\" fill=\"currentColor\" x=\"650\">NLTK</tspan>\n",
       "    <tspan class=\"displacy-tag\" dy=\"2em\" fill=\"currentColor\" x=\"650\">PROPN</tspan>\n",
       "</text>\n",
       "\n",
       "<text class=\"displacy-token\" fill=\"currentColor\" text-anchor=\"middle\" y=\"197.0\">\n",
       "    <tspan class=\"displacy-word\" fill=\"currentColor\" x=\"750\">and</tspan>\n",
       "    <tspan class=\"displacy-tag\" dy=\"2em\" fill=\"currentColor\" x=\"750\">CCONJ</tspan>\n",
       "</text>\n",
       "\n",
       "<text class=\"displacy-token\" fill=\"currentColor\" text-anchor=\"middle\" y=\"197.0\">\n",
       "    <tspan class=\"displacy-word\" fill=\"currentColor\" x=\"850\">Spacy</tspan>\n",
       "    <tspan class=\"displacy-tag\" dy=\"2em\" fill=\"currentColor\" x=\"850\">PROPN</tspan>\n",
       "</text>\n",
       "\n",
       "<g class=\"displacy-arrow\">\n",
       "    <path class=\"displacy-arc\" id=\"arrow-1daf72dfed004e7bb53843a6ea2b1a65-0-0\" stroke-width=\"2px\" d=\"M70,152.0 C70,102.0 140.0,102.0 140.0,152.0\" fill=\"none\" stroke=\"currentColor\"/>\n",
       "    <text dy=\"1.25em\" style=\"font-size: 0.8em; letter-spacing: 1px\">\n",
       "        <textPath xlink:href=\"#arrow-1daf72dfed004e7bb53843a6ea2b1a65-0-0\" class=\"displacy-label\" startOffset=\"50%\" side=\"left\" fill=\"currentColor\" text-anchor=\"middle\">npadvmod</textPath>\n",
       "    </text>\n",
       "    <path class=\"displacy-arrowhead\" d=\"M140.0,154.0 L148.0,142.0 132.0,142.0\" fill=\"currentColor\"/>\n",
       "</g>\n",
       "\n",
       "<g class=\"displacy-arrow\">\n",
       "    <path class=\"displacy-arc\" id=\"arrow-1daf72dfed004e7bb53843a6ea2b1a65-0-1\" stroke-width=\"2px\" d=\"M170,152.0 C170,102.0 240.0,102.0 240.0,152.0\" fill=\"none\" stroke=\"currentColor\"/>\n",
       "    <text dy=\"1.25em\" style=\"font-size: 0.8em; letter-spacing: 1px\">\n",
       "        <textPath xlink:href=\"#arrow-1daf72dfed004e7bb53843a6ea2b1a65-0-1\" class=\"displacy-label\" startOffset=\"50%\" side=\"left\" fill=\"currentColor\" text-anchor=\"middle\">prep</textPath>\n",
       "    </text>\n",
       "    <path class=\"displacy-arrowhead\" d=\"M240.0,154.0 L248.0,142.0 232.0,142.0\" fill=\"currentColor\"/>\n",
       "</g>\n",
       "\n",
       "<g class=\"displacy-arrow\">\n",
       "    <path class=\"displacy-arc\" id=\"arrow-1daf72dfed004e7bb53843a6ea2b1a65-0-2\" stroke-width=\"2px\" d=\"M370,152.0 C370,102.0 440.0,102.0 440.0,152.0\" fill=\"none\" stroke=\"currentColor\"/>\n",
       "    <text dy=\"1.25em\" style=\"font-size: 0.8em; letter-spacing: 1px\">\n",
       "        <textPath xlink:href=\"#arrow-1daf72dfed004e7bb53843a6ea2b1a65-0-2\" class=\"displacy-label\" startOffset=\"50%\" side=\"left\" fill=\"currentColor\" text-anchor=\"middle\">compound</textPath>\n",
       "    </text>\n",
       "    <path class=\"displacy-arrowhead\" d=\"M370,154.0 L362,142.0 378,142.0\" fill=\"currentColor\"/>\n",
       "</g>\n",
       "\n",
       "<g class=\"displacy-arrow\">\n",
       "    <path class=\"displacy-arc\" id=\"arrow-1daf72dfed004e7bb53843a6ea2b1a65-0-3\" stroke-width=\"2px\" d=\"M270,152.0 C270,52.0 445.0,52.0 445.0,152.0\" fill=\"none\" stroke=\"currentColor\"/>\n",
       "    <text dy=\"1.25em\" style=\"font-size: 0.8em; letter-spacing: 1px\">\n",
       "        <textPath xlink:href=\"#arrow-1daf72dfed004e7bb53843a6ea2b1a65-0-3\" class=\"displacy-label\" startOffset=\"50%\" side=\"left\" fill=\"currentColor\" text-anchor=\"middle\">pobj</textPath>\n",
       "    </text>\n",
       "    <path class=\"displacy-arrowhead\" d=\"M445.0,154.0 L453.0,142.0 437.0,142.0\" fill=\"currentColor\"/>\n",
       "</g>\n",
       "\n",
       "<g class=\"displacy-arrow\">\n",
       "    <path class=\"displacy-arc\" id=\"arrow-1daf72dfed004e7bb53843a6ea2b1a65-0-4\" stroke-width=\"2px\" d=\"M170,152.0 C170,2.0 550.0,2.0 550.0,152.0\" fill=\"none\" stroke=\"currentColor\"/>\n",
       "    <text dy=\"1.25em\" style=\"font-size: 0.8em; letter-spacing: 1px\">\n",
       "        <textPath xlink:href=\"#arrow-1daf72dfed004e7bb53843a6ea2b1a65-0-4\" class=\"displacy-label\" startOffset=\"50%\" side=\"left\" fill=\"currentColor\" text-anchor=\"middle\">prep</textPath>\n",
       "    </text>\n",
       "    <path class=\"displacy-arrowhead\" d=\"M550.0,154.0 L558.0,142.0 542.0,142.0\" fill=\"currentColor\"/>\n",
       "</g>\n",
       "\n",
       "<g class=\"displacy-arrow\">\n",
       "    <path class=\"displacy-arc\" id=\"arrow-1daf72dfed004e7bb53843a6ea2b1a65-0-5\" stroke-width=\"2px\" d=\"M570,152.0 C570,102.0 640.0,102.0 640.0,152.0\" fill=\"none\" stroke=\"currentColor\"/>\n",
       "    <text dy=\"1.25em\" style=\"font-size: 0.8em; letter-spacing: 1px\">\n",
       "        <textPath xlink:href=\"#arrow-1daf72dfed004e7bb53843a6ea2b1a65-0-5\" class=\"displacy-label\" startOffset=\"50%\" side=\"left\" fill=\"currentColor\" text-anchor=\"middle\">pobj</textPath>\n",
       "    </text>\n",
       "    <path class=\"displacy-arrowhead\" d=\"M640.0,154.0 L648.0,142.0 632.0,142.0\" fill=\"currentColor\"/>\n",
       "</g>\n",
       "\n",
       "<g class=\"displacy-arrow\">\n",
       "    <path class=\"displacy-arc\" id=\"arrow-1daf72dfed004e7bb53843a6ea2b1a65-0-6\" stroke-width=\"2px\" d=\"M670,152.0 C670,102.0 740.0,102.0 740.0,152.0\" fill=\"none\" stroke=\"currentColor\"/>\n",
       "    <text dy=\"1.25em\" style=\"font-size: 0.8em; letter-spacing: 1px\">\n",
       "        <textPath xlink:href=\"#arrow-1daf72dfed004e7bb53843a6ea2b1a65-0-6\" class=\"displacy-label\" startOffset=\"50%\" side=\"left\" fill=\"currentColor\" text-anchor=\"middle\">cc</textPath>\n",
       "    </text>\n",
       "    <path class=\"displacy-arrowhead\" d=\"M740.0,154.0 L748.0,142.0 732.0,142.0\" fill=\"currentColor\"/>\n",
       "</g>\n",
       "\n",
       "<g class=\"displacy-arrow\">\n",
       "    <path class=\"displacy-arc\" id=\"arrow-1daf72dfed004e7bb53843a6ea2b1a65-0-7\" stroke-width=\"2px\" d=\"M670,152.0 C670,52.0 845.0,52.0 845.0,152.0\" fill=\"none\" stroke=\"currentColor\"/>\n",
       "    <text dy=\"1.25em\" style=\"font-size: 0.8em; letter-spacing: 1px\">\n",
       "        <textPath xlink:href=\"#arrow-1daf72dfed004e7bb53843a6ea2b1a65-0-7\" class=\"displacy-label\" startOffset=\"50%\" side=\"left\" fill=\"currentColor\" text-anchor=\"middle\">conj</textPath>\n",
       "    </text>\n",
       "    <path class=\"displacy-arrowhead\" d=\"M845.0,154.0 L853.0,142.0 837.0,142.0\" fill=\"currentColor\"/>\n",
       "</g>\n",
       "</svg></span>"
      ],
      "text/plain": [
       "<IPython.core.display.HTML object>"
      ]
     },
     "metadata": {},
     "output_type": "display_data"
    }
   ],
   "source": [
    "# Visualization with displacy\n",
    "import spacy\n",
    "from spacy import displacy\n",
    "nlp = spacy.load(\"en_core_web_sm\")\n",
    "doc = nlp(\"Visualizing Part-of-Speech Tags with NLTK and Spacy\")\n",
    "displacy.render(doc, style = \"dep\", options={'distance': 100})"
   ]
  },
  {
   "cell_type": "code",
   "execution_count": 20,
   "id": "0db33c0b",
   "metadata": {
    "execution": {
     "iopub.execute_input": "2023-08-11T09:54:22.403289Z",
     "iopub.status.busy": "2023-08-11T09:54:22.402137Z",
     "iopub.status.idle": "2023-08-11T09:54:23.070625Z",
     "shell.execute_reply": "2023-08-11T09:54:23.069352Z"
    },
    "papermill": {
     "duration": 0.735748,
     "end_time": "2023-08-11T09:54:23.073826",
     "exception": false,
     "start_time": "2023-08-11T09:54:22.338078",
     "status": "completed"
    },
    "tags": []
   },
   "outputs": [
    {
     "data": {
      "text/plain": [
       "[('Visualizing', 'VBG'),\n",
       " ('Part-of-Speech', 'NNP'),\n",
       " ('Tags', 'NNP'),\n",
       " ('with', 'IN'),\n",
       " ('NLTK', 'NNP'),\n",
       " ('and', 'CC'),\n",
       " ('Spacy', 'NNP')]"
      ]
     },
     "execution_count": 20,
     "metadata": {},
     "output_type": "execute_result"
    }
   ],
   "source": [
    "# PoS Tagging with NLTK\n",
    "import nltk\n",
    "from nltk.tokenize import word_tokenize\n",
    " \n",
    "text = word_tokenize(\"Visualizing Part-of-Speech Tags with NLTK and Spacy\")\n",
    "nltk.pos_tag(text)"
   ]
  },
  {
   "cell_type": "code",
   "execution_count": 21,
   "id": "3e6dbc0f",
   "metadata": {
    "execution": {
     "iopub.execute_input": "2023-08-11T09:54:23.198259Z",
     "iopub.status.busy": "2023-08-11T09:54:23.197805Z",
     "iopub.status.idle": "2023-08-11T09:54:23.207244Z",
     "shell.execute_reply": "2023-08-11T09:54:23.205830Z"
    },
    "papermill": {
     "duration": 0.075561,
     "end_time": "2023-08-11T09:54:23.210152",
     "exception": false,
     "start_time": "2023-08-11T09:54:23.134591",
     "status": "completed"
    },
    "tags": []
   },
   "outputs": [
    {
     "data": {
      "text/plain": [
       "[('Apple', 'NN'), ('Orange', 'NN')]"
      ]
     },
     "execution_count": 21,
     "metadata": {},
     "output_type": "execute_result"
    }
   ],
   "source": [
    "# Manually assign tagging with NLTK\n",
    "# Tuseful when you want to assign a default or fallback tag to all tokens in a text, \n",
    "# regardless of their actual part-of-speech.\n",
    "\n",
    "from nltk.tag import DefaultTagger\n",
    " \n",
    "tagging = DefaultTagger('NN')\n",
    "\n",
    "tagging.tag(['Apple', 'Orange'])"
   ]
  },
  {
   "cell_type": "code",
   "execution_count": 22,
   "id": "3a20144b",
   "metadata": {
    "execution": {
     "iopub.execute_input": "2023-08-11T09:54:23.335049Z",
     "iopub.status.busy": "2023-08-11T09:54:23.334595Z",
     "iopub.status.idle": "2023-08-11T09:54:23.346181Z",
     "shell.execute_reply": "2023-08-11T09:54:23.344726Z"
    },
    "papermill": {
     "duration": 0.076408,
     "end_time": "2023-08-11T09:54:23.348797",
     "exception": false,
     "start_time": "2023-08-11T09:54:23.272389",
     "status": "completed"
    },
    "tags": []
   },
   "outputs": [
    {
     "data": {
      "text/plain": [
       "['Visualizing', 'Part-of-Speech', 'Tags', 'with', 'NLTK', 'and', 'Spacy']"
      ]
     },
     "execution_count": 22,
     "metadata": {},
     "output_type": "execute_result"
    }
   ],
   "source": [
    "# untagging with NLTK\n",
    "# useful when you want to remove the PoS tags from the tagged tokens \n",
    "# and work with only the plain word-tokens.\n",
    "from nltk.tag import untag\n",
    "text = word_tokenize(\"Visualizing Part-of-Speech Tags with NLTK and Spacy\")\n",
    "tagged_token = nltk.pos_tag(text)\n",
    "untag(tagged_token)"
   ]
  },
  {
   "cell_type": "markdown",
   "id": "8d96c6e5",
   "metadata": {
    "papermill": {
     "duration": 0.063991,
     "end_time": "2023-08-11T09:54:23.473768",
     "exception": false,
     "start_time": "2023-08-11T09:54:23.409777",
     "status": "completed"
    },
    "tags": []
   },
   "source": [
    "# <a id=\"named-entity-recognition\"></a><div style=\"text-align:center; font-size:40px;\"><span style=\"color:#3A506B\">🌟 Named Entity Recognition (NER) 🌟 </span></div>\n"
   ]
  },
  {
   "cell_type": "markdown",
   "id": "a0ca9bcf",
   "metadata": {
    "papermill": {
     "duration": 0.057222,
     "end_time": "2023-08-11T09:54:23.590016",
     "exception": false,
     "start_time": "2023-08-11T09:54:23.532794",
     "status": "completed"
    },
    "tags": []
   },
   "source": [
    "<div style=\"width:100%;text-align: center;\"> <img align=middle src=\"https://i.imgur.com/edHXTu9.png\" style=\"height:300px;\"> </div>"
   ]
  },
  {
   "cell_type": "markdown",
   "id": "32e1c007",
   "metadata": {
    "papermill": {
     "duration": 0.057374,
     "end_time": "2023-08-11T09:54:23.705373",
     "exception": false,
     "start_time": "2023-08-11T09:54:23.647999",
     "status": "completed"
    },
    "tags": []
   },
   "source": [
    "❗ *Named Entity Recognition (NER) is a task of Natural Language Processing (NLP) that involves **identifying and classifying named entities in a text** into predefined categories such as person names, organizations, locations, and others.*\n",
    "\n",
    "NER is particularly useful if you would like to locate specific information from a corpus (text), particularly to **find out 'where', 'what', 'who', 'when'** from a paragraph. \n",
    "\n",
    "NER is being used for wide range of purposes, from recommendation system to search engines and customer support services, it is very useful if you want a quick summary of over a large amount of text. \n",
    "\n",
    "There are 4 method of NER, including \n",
    "1. **dictionary-based** (a large dictionary containing vocabularies eg. {'Apple', 'Tesla'...} to match each token from the text)\n",
    "2. **rule-based** (detect named entities by patterns using techniques such as regular expression)\n",
    "3. **machine learning** (train ML models with text that are being labelled)\n",
    "4. **deep learning based** (train model to detect the entities by understanding the semantic and syntactic relationship between various words)"
   ]
  },
  {
   "cell_type": "markdown",
   "id": "829e1127",
   "metadata": {
    "papermill": {
     "duration": 0.057855,
     "end_time": "2023-08-11T09:54:23.821437",
     "exception": false,
     "start_time": "2023-08-11T09:54:23.763582",
     "status": "completed"
    },
    "tags": []
   },
   "source": [
    "### 🧑‍💻 Let's code \n",
    "\n",
    "Let's see NER in action with spaCy."
   ]
  },
  {
   "cell_type": "code",
   "execution_count": 23,
   "id": "459d1e02",
   "metadata": {
    "execution": {
     "iopub.execute_input": "2023-08-11T09:54:23.940434Z",
     "iopub.status.busy": "2023-08-11T09:54:23.939976Z",
     "iopub.status.idle": "2023-08-11T09:54:26.895014Z",
     "shell.execute_reply": "2023-08-11T09:54:26.893332Z"
    },
    "papermill": {
     "duration": 3.018821,
     "end_time": "2023-08-11T09:54:26.897995",
     "exception": false,
     "start_time": "2023-08-11T09:54:23.879174",
     "status": "completed"
    },
    "tags": []
   },
   "outputs": [
    {
     "name": "stdout",
     "output_type": "stream",
     "text": [
      "Liverpool | GPE | Countries, cities, states\n",
      "Alexis Mac Allister | PERSON | People, including fictional\n",
      "£35m | MONEY | Monetary values, including unit\n"
     ]
    }
   ],
   "source": [
    "import spacy\n",
    "\n",
    "nlp = spacy.load(\"en_core_web_lg\")\n",
    "doc = nlp(\"Liverpool confirm the signing of Alexis Mac Allister on cut-price £35m deal\")\n",
    "for ent in doc.ents:\n",
    "    print(ent.text, \"|\", ent.label_, \"|\", spacy.explain(ent.label_))"
   ]
  },
  {
   "cell_type": "markdown",
   "id": "f27b526b",
   "metadata": {
    "papermill": {
     "duration": 0.057185,
     "end_time": "2023-08-11T09:54:27.015325",
     "exception": false,
     "start_time": "2023-08-11T09:54:26.958140",
     "status": "completed"
    },
    "tags": []
   },
   "source": [
    "Below is the extracted article, let us see the power of NER with spacy visualization tool displacy."
   ]
  },
  {
   "cell_type": "code",
   "execution_count": 24,
   "id": "e38c5faa",
   "metadata": {
    "execution": {
     "iopub.execute_input": "2023-08-11T09:54:27.132978Z",
     "iopub.status.busy": "2023-08-11T09:54:27.132516Z",
     "iopub.status.idle": "2023-08-11T09:54:27.211459Z",
     "shell.execute_reply": "2023-08-11T09:54:27.210040Z"
    },
    "papermill": {
     "duration": 0.141479,
     "end_time": "2023-08-11T09:54:27.214456",
     "exception": false,
     "start_time": "2023-08-11T09:54:27.072977",
     "status": "completed"
    },
    "tags": []
   },
   "outputs": [
    {
     "data": {
      "text/html": [
       "<span class=\"tex2jax_ignore\"><div class=\"entities\" style=\"line-height: 2.5; direction: ltr\"></br>\n",
       "<mark class=\"entity\" style=\"background: #feca74; padding: 0.45em 0.6em; margin: 0 0.25em; line-height: 1; border-radius: 0.35em;\">\n",
       "    Liverpool\n",
       "    <span style=\"font-size: 0.8em; font-weight: bold; line-height: 1; border-radius: 0.35em; vertical-align: middle; margin-left: 0.5rem\">GPE</span>\n",
       "</mark>\n",
       " have ticked the \n",
       "<mark class=\"entity\" style=\"background: #e4e7d2; padding: 0.45em 0.6em; margin: 0 0.25em; line-height: 1; border-radius: 0.35em;\">\n",
       "    first\n",
       "    <span style=\"font-size: 0.8em; font-weight: bold; line-height: 1; border-radius: 0.35em; vertical-align: middle; margin-left: 0.5rem\">ORDINAL</span>\n",
       "</mark>\n",
       " box on their \n",
       "<mark class=\"entity\" style=\"background: #bfe1d9; padding: 0.45em 0.6em; margin: 0 0.25em; line-height: 1; border-radius: 0.35em;\">\n",
       "    summer\n",
       "    <span style=\"font-size: 0.8em; font-weight: bold; line-height: 1; border-radius: 0.35em; vertical-align: middle; margin-left: 0.5rem\">DATE</span>\n",
       "</mark>\n",
       " rebuilding programme by completing the signing of \n",
       "<mark class=\"entity\" style=\"background: #aa9cfc; padding: 0.45em 0.6em; margin: 0 0.25em; line-height: 1; border-radius: 0.35em;\">\n",
       "    Alexis Mac Allister\n",
       "    <span style=\"font-size: 0.8em; font-weight: bold; line-height: 1; border-radius: 0.35em; vertical-align: middle; margin-left: 0.5rem\">PERSON</span>\n",
       "</mark>\n",
       ".</br></br>\n",
       "<mark class=\"entity\" style=\"background: #ffeb80; padding: 0.45em 0.6em; margin: 0 0.25em; line-height: 1; border-radius: 0.35em;\">\n",
       "    The Argentine World Cup\n",
       "    <span style=\"font-size: 0.8em; font-weight: bold; line-height: 1; border-radius: 0.35em; vertical-align: middle; margin-left: 0.5rem\">EVENT</span>\n",
       "</mark>\n",
       " winner, who passed a medical in \n",
       "<mark class=\"entity\" style=\"background: #feca74; padding: 0.45em 0.6em; margin: 0 0.25em; line-height: 1; border-radius: 0.35em;\">\n",
       "    Merseyside\n",
       "    <span style=\"font-size: 0.8em; font-weight: bold; line-height: 1; border-radius: 0.35em; vertical-align: middle; margin-left: 0.5rem\">GPE</span>\n",
       "</mark>\n",
       " on \n",
       "<mark class=\"entity\" style=\"background: #bfe1d9; padding: 0.45em 0.6em; margin: 0 0.25em; line-height: 1; border-radius: 0.35em;\">\n",
       "    Tuesday\n",
       "    <span style=\"font-size: 0.8em; font-weight: bold; line-height: 1; border-radius: 0.35em; vertical-align: middle; margin-left: 0.5rem\">DATE</span>\n",
       "</mark>\n",
       ", has agreed terms on a deal that will run to \n",
       "<mark class=\"entity\" style=\"background: #bfe1d9; padding: 0.45em 0.6em; margin: 0 0.25em; line-height: 1; border-radius: 0.35em;\">\n",
       "    June 2028\n",
       "    <span style=\"font-size: 0.8em; font-weight: bold; line-height: 1; border-radius: 0.35em; vertical-align: middle; margin-left: 0.5rem\">DATE</span>\n",
       "</mark>\n",
       " and an idea of the importance that will be placed on his arrival is the fact he will be given \n",
       "<mark class=\"entity\" style=\"background: #feca74; padding: 0.45em 0.6em; margin: 0 0.25em; line-height: 1; border-radius: 0.35em;\">\n",
       "    Liverpool\n",
       "    <span style=\"font-size: 0.8em; font-weight: bold; line-height: 1; border-radius: 0.35em; vertical-align: middle; margin-left: 0.5rem\">GPE</span>\n",
       "</mark>\n",
       "'s vacant No \n",
       "<mark class=\"entity\" style=\"background: #e4e7d2; padding: 0.45em 0.6em; margin: 0 0.25em; line-height: 1; border-radius: 0.35em;\">\n",
       "    10\n",
       "    <span style=\"font-size: 0.8em; font-weight: bold; line-height: 1; border-radius: 0.35em; vertical-align: middle; margin-left: 0.5rem\">CARDINAL</span>\n",
       "</mark>\n",
       " shirt.</br></br>It is a significant number in \n",
       "<mark class=\"entity\" style=\"background: #feca74; padding: 0.45em 0.6em; margin: 0 0.25em; line-height: 1; border-radius: 0.35em;\">\n",
       "    Liverpool\n",
       "    <span style=\"font-size: 0.8em; font-weight: bold; line-height: 1; border-radius: 0.35em; vertical-align: middle; margin-left: 0.5rem\">GPE</span>\n",
       "</mark>\n",
       "'s history, as it was worn by \n",
       "<mark class=\"entity\" style=\"background: #aa9cfc; padding: 0.45em 0.6em; margin: 0 0.25em; line-height: 1; border-radius: 0.35em;\">\n",
       "    John Barnes\n",
       "    <span style=\"font-size: 0.8em; font-weight: bold; line-height: 1; border-radius: 0.35em; vertical-align: middle; margin-left: 0.5rem\">PERSON</span>\n",
       "</mark>\n",
       " and, more recently, \n",
       "<mark class=\"entity\" style=\"background: #aa9cfc; padding: 0.45em 0.6em; margin: 0 0.25em; line-height: 1; border-radius: 0.35em;\">\n",
       "    Sadio Mane\n",
       "    <span style=\"font-size: 0.8em; font-weight: bold; line-height: 1; border-radius: 0.35em; vertical-align: middle; margin-left: 0.5rem\">PERSON</span>\n",
       "</mark>\n",
       " but it is also significant for \n",
       "<mark class=\"entity\" style=\"background: #7aecec; padding: 0.45em 0.6em; margin: 0 0.25em; line-height: 1; border-radius: 0.35em;\">\n",
       "    Mac Allister\n",
       "    <span style=\"font-size: 0.8em; font-weight: bold; line-height: 1; border-radius: 0.35em; vertical-align: middle; margin-left: 0.5rem\">ORG</span>\n",
       "</mark>\n",
       " to, given the symbolism of the number in \n",
       "<mark class=\"entity\" style=\"background: #feca74; padding: 0.45em 0.6em; margin: 0 0.25em; line-height: 1; border-radius: 0.35em;\">\n",
       "    Argentina\n",
       "    <span style=\"font-size: 0.8em; font-weight: bold; line-height: 1; border-radius: 0.35em; vertical-align: middle; margin-left: 0.5rem\">GPE</span>\n",
       "</mark>\n",
       " with \n",
       "<mark class=\"entity\" style=\"background: #aa9cfc; padding: 0.45em 0.6em; margin: 0 0.25em; line-height: 1; border-radius: 0.35em;\">\n",
       "    Diego Maradona\n",
       "    <span style=\"font-size: 0.8em; font-weight: bold; line-height: 1; border-radius: 0.35em; vertical-align: middle; margin-left: 0.5rem\">PERSON</span>\n",
       "</mark>\n",
       " and \n",
       "<mark class=\"entity\" style=\"background: #aa9cfc; padding: 0.45em 0.6em; margin: 0 0.25em; line-height: 1; border-radius: 0.35em;\">\n",
       "    Lionel Messi\n",
       "    <span style=\"font-size: 0.8em; font-weight: bold; line-height: 1; border-radius: 0.35em; vertical-align: middle; margin-left: 0.5rem\">PERSON</span>\n",
       "</mark>\n",
       ".</br></br>\n",
       "<mark class=\"entity\" style=\"background: #feca74; padding: 0.45em 0.6em; margin: 0 0.25em; line-height: 1; border-radius: 0.35em;\">\n",
       "    Liverpool\n",
       "    <span style=\"font-size: 0.8em; font-weight: bold; line-height: 1; border-radius: 0.35em; vertical-align: middle; margin-left: 0.5rem\">GPE</span>\n",
       "</mark>\n",
       " have been tracking \n",
       "<mark class=\"entity\" style=\"background: #7aecec; padding: 0.45em 0.6em; margin: 0 0.25em; line-height: 1; border-radius: 0.35em;\">\n",
       "    Mac Allister\n",
       "    <span style=\"font-size: 0.8em; font-weight: bold; line-height: 1; border-radius: 0.35em; vertical-align: middle; margin-left: 0.5rem\">ORG</span>\n",
       "</mark>\n",
       " since before \n",
       "<mark class=\"entity\" style=\"background: #bfe1d9; padding: 0.45em 0.6em; margin: 0 0.25em; line-height: 1; border-radius: 0.35em;\">\n",
       "    last winter's\n",
       "    <span style=\"font-size: 0.8em; font-weight: bold; line-height: 1; border-radius: 0.35em; vertical-align: middle; margin-left: 0.5rem\">DATE</span>\n",
       "</mark>\n",
       " \n",
       "<mark class=\"entity\" style=\"background: #ffeb80; padding: 0.45em 0.6em; margin: 0 0.25em; line-height: 1; border-radius: 0.35em;\">\n",
       "    World Cup\n",
       "    <span style=\"font-size: 0.8em; font-weight: bold; line-height: 1; border-radius: 0.35em; vertical-align: middle; margin-left: 0.5rem\">EVENT</span>\n",
       "</mark>\n",
       ". The club have offered no guidance on how much they have paid for the \n",
       "<mark class=\"entity\" style=\"background: #bfe1d9; padding: 0.45em 0.6em; margin: 0 0.25em; line-height: 1; border-radius: 0.35em;\">\n",
       "    24-year-old\n",
       "    <span style=\"font-size: 0.8em; font-weight: bold; line-height: 1; border-radius: 0.35em; vertical-align: middle; margin-left: 0.5rem\">DATE</span>\n",
       "</mark>\n",
       " nor are \n",
       "<mark class=\"entity\" style=\"background: #aa9cfc; padding: 0.45em 0.6em; margin: 0 0.25em; line-height: 1; border-radius: 0.35em;\">\n",
       "    Brighton\n",
       "    <span style=\"font-size: 0.8em; font-weight: bold; line-height: 1; border-radius: 0.35em; vertical-align: middle; margin-left: 0.5rem\">PERSON</span>\n",
       "</mark>\n",
       " but \n",
       "<mark class=\"entity\" style=\"background: #7aecec; padding: 0.45em 0.6em; margin: 0 0.25em; line-height: 1; border-radius: 0.35em;\">\n",
       "    Mail Sport\n",
       "    <span style=\"font-size: 0.8em; font-weight: bold; line-height: 1; border-radius: 0.35em; vertical-align: middle; margin-left: 0.5rem\">ORG</span>\n",
       "</mark>\n",
       " understands the fee is in the region of £\n",
       "<mark class=\"entity\" style=\"background: #e4e7d2; padding: 0.45em 0.6em; margin: 0 0.25em; line-height: 1; border-radius: 0.35em;\">\n",
       "    35million\n",
       "    <span style=\"font-size: 0.8em; font-weight: bold; line-height: 1; border-radius: 0.35em; vertical-align: middle; margin-left: 0.5rem\">MONEY</span>\n",
       "</mark>\n",
       ".</br></br>It had initially been expected that it would take \n",
       "<mark class=\"entity\" style=\"background: #e4e7d2; padding: 0.45em 0.6em; margin: 0 0.25em; line-height: 1; border-radius: 0.35em;\">\n",
       "    more than £60million\n",
       "    <span style=\"font-size: 0.8em; font-weight: bold; line-height: 1; border-radius: 0.35em; vertical-align: middle; margin-left: 0.5rem\">MONEY</span>\n",
       "</mark>\n",
       " for \n",
       "<mark class=\"entity\" style=\"background: #feca74; padding: 0.45em 0.6em; margin: 0 0.25em; line-height: 1; border-radius: 0.35em;\">\n",
       "    Liverpool\n",
       "    <span style=\"font-size: 0.8em; font-weight: bold; line-height: 1; border-radius: 0.35em; vertical-align: middle; margin-left: 0.5rem\">GPE</span>\n",
       "</mark>\n",
       " to secure \n",
       "<mark class=\"entity\" style=\"background: #7aecec; padding: 0.45em 0.6em; margin: 0 0.25em; line-height: 1; border-radius: 0.35em;\">\n",
       "    Mac Allister's\n",
       "    <span style=\"font-size: 0.8em; font-weight: bold; line-height: 1; border-radius: 0.35em; vertical-align: middle; margin-left: 0.5rem\">ORG</span>\n",
       "</mark>\n",
       " release, so this investment – on face value – makes huge economic sense: it is up to the player to see if the figure become a bargain.</br></div></span>"
      ],
      "text/plain": [
       "<IPython.core.display.HTML object>"
      ]
     },
     "metadata": {},
     "output_type": "display_data"
    }
   ],
   "source": [
    "from spacy import displacy\n",
    "\n",
    "doc = nlp(\"\"\"\n",
    "Liverpool have ticked the first box on their summer rebuilding programme by completing the signing of Alexis Mac Allister.\n",
    "\n",
    "The Argentine World Cup winner, who passed a medical in Merseyside on Tuesday, has agreed terms on a deal that will run to June 2028 and an idea of the importance that will be placed on his arrival is the fact he will be given Liverpool's vacant No 10 shirt.\n",
    "\n",
    "It is a significant number in Liverpool's history, as it was worn by John Barnes and, more recently, Sadio Mane but it is also significant for Mac Allister to, given the symbolism of the number in Argentina with Diego Maradona and Lionel Messi.\n",
    "\n",
    "Liverpool have been tracking Mac Allister since before last winter's World Cup. The club have offered no guidance on how much they have paid for the 24-year-old nor are Brighton but Mail Sport understands the fee is in the region of £35million.\n",
    "\n",
    "It had initially been expected that it would take more than £60million for Liverpool to secure Mac Allister's release, so this investment – on face value – makes huge economic sense: it is up to the player to see if the figure become a bargain.\n",
    "\"\"\")\n",
    "\n",
    "\n",
    "displacy.render(doc, style='ent')"
   ]
  },
  {
   "cell_type": "markdown",
   "id": "86ee7896",
   "metadata": {
    "papermill": {
     "duration": 0.063284,
     "end_time": "2023-08-11T09:54:27.339606",
     "exception": false,
     "start_time": "2023-08-11T09:54:27.276322",
     "status": "completed"
    },
    "tags": []
   },
   "source": [
    "As you can see, NER allow you to have a quick understanding of large amount of text by labelling named entities. In fact, named entities usually carry most of the information from a text as compared to stop words like 'is', 'the', 'and'. But of course, the use of NER is not limited to just a quick summary as mentioned above."
   ]
  },
  {
   "cell_type": "markdown",
   "id": "b0f2133d",
   "metadata": {
    "papermill": {
     "duration": 0.060228,
     "end_time": "2023-08-11T09:54:27.461381",
     "exception": false,
     "start_time": "2023-08-11T09:54:27.401153",
     "status": "completed"
    },
    "tags": []
   },
   "source": [
    "# <a id=\"summary-1\"></a><div style=\"text-align:center; font-size:40px;\"><span style=\"color:#3A506B\">📝 Short Summary (Part 1: Preprocessing) 📝</span></div>"
   ]
  },
  {
   "cell_type": "markdown",
   "id": "8367a242",
   "metadata": {
    "papermill": {
     "duration": 0.060085,
     "end_time": "2023-08-11T09:54:27.584033",
     "exception": false,
     "start_time": "2023-08-11T09:54:27.523948",
     "status": "completed"
    },
    "tags": []
   },
   "source": [
    "Let's review what we have learnt so far. \n",
    "\n",
    "### 1. Tokenization\n",
    "\n",
    "Process of converting sentences into 'tokens' to assign meanings\n",
    "\n",
    "### 2. spaCy pipeline\n",
    "\n",
    "Introduced spaCy trained pipeline and architecture\n",
    "\n",
    "### 3. Stop word\n",
    "\n",
    "Set of commonly used words, sometimes we would like to remove them to reduce noise\n",
    "\n",
    "\n",
    "### 4. Stemming and Lemmatization\n",
    "\n",
    "Process of breaking down tokens into their root/base form\n",
    "\n",
    "### 5. Out of Vocabulary (OOV)\n",
    "\n",
    "Vocabularies that is not covered/trained by the NLP model\n",
    "\n",
    "### 6. Part of Speech (PoS) Tagging\n",
    "\n",
    "Assigning part of speech to tokens to allow model to classify words of multiple meaning\n",
    "\n",
    "### 7. Named Entity Recognition (NER)\n",
    "\n",
    "Technique to identify named entity in a corpus (text)"
   ]
  },
  {
   "cell_type": "markdown",
   "id": "b7d7b6dd",
   "metadata": {
    "papermill": {
     "duration": 0.059167,
     "end_time": "2023-08-11T09:54:27.701450",
     "exception": false,
     "start_time": "2023-08-11T09:54:27.642283",
     "status": "completed"
    },
    "tags": []
   },
   "source": [
    "# <a id=\"practice-1\"></a><div style=\"text-align:center; font-size:40px;\"><span style=\"color:#3A506B\">✍ Do Some Practice and Take a Break ✍</span></div>\n",
    "\n",
    "Before we move to the next section (feature engineering), it is important that you feel comfortable with the concepts we have mentioned so far. Preprocessing is a prior step to feature engineering, these concepts will be brough up in later sections when necessary. \n",
    "\n",
    "The best way to achieve this is through some practice, try to preprocess the competition dataset with the techniques that you have just learnt! \n",
    "\n",
    "Once you are ready, let's move on to the next section - Feature Engineering"
   ]
  },
  {
   "cell_type": "markdown",
   "id": "68d41c0b",
   "metadata": {
    "papermill": {
     "duration": 0.058115,
     "end_time": "2023-08-11T09:54:27.818173",
     "exception": false,
     "start_time": "2023-08-11T09:54:27.760058",
     "status": "completed"
    },
    "tags": []
   },
   "source": [
    "# <a id=\"bag-of-words\"></a><div style=\"text-align:center; font-size:40px;\"><span style=\"color:#3A506B\">Bag of Words (BOW)</span></div>\n"
   ]
  },
  {
   "cell_type": "markdown",
   "id": "bf0dd776",
   "metadata": {
    "papermill": {
     "duration": 0.059231,
     "end_time": "2023-08-11T09:54:27.935413",
     "exception": false,
     "start_time": "2023-08-11T09:54:27.876182",
     "status": "completed"
    },
    "tags": []
   },
   "source": [
    "<div style=\"width:100%;text-align: center;\"> <img align=middle src=\"https://i.imgur.com/iiIOKHx.png\" style=\"height:200px;\"> </div>"
   ]
  },
  {
   "cell_type": "markdown",
   "id": "565c929f",
   "metadata": {
    "papermill": {
     "duration": 0.059851,
     "end_time": "2023-08-11T09:54:28.053876",
     "exception": false,
     "start_time": "2023-08-11T09:54:27.994025",
     "status": "completed"
    },
    "tags": []
   },
   "source": [
    "❗ *The bag-of-words model is a simplifying representation used in natural language processing and information retrieval. In this model, **a text is represented as the bag of its words**, disregarding grammar and even word order but keeping multiplicity. The bag-of-words model has also been used for computer vision.*\n",
    "\n",
    "### Computer doesn't understandand string/words,\n",
    "that's why we need certain algorithm and method to convert words into numbers that computer understand. One of these techniques is Bag of Word (BOW). \n",
    "\n",
    "The idea behind Bag of Word is fairly simple. Basically we would like to **get all unique tokens in all the data you feed in as a column**. For each of the sentence, we assign a counter for each word/column, just like what the above image illustrate. "
   ]
  },
  {
   "cell_type": "markdown",
   "id": "f7f41774",
   "metadata": {
    "papermill": {
     "duration": 0.058427,
     "end_time": "2023-08-11T09:54:28.170144",
     "exception": false,
     "start_time": "2023-08-11T09:54:28.111717",
     "status": "completed"
    },
    "tags": []
   },
   "source": [
    "### 🧑‍💻 Let's code \n",
    "\n",
    "There are certain limitations associated with BOW, but first let us see BOW in action with sklearn, a popular machine learning framework in Python."
   ]
  },
  {
   "cell_type": "code",
   "execution_count": 25,
   "id": "8844e78a",
   "metadata": {
    "execution": {
     "iopub.execute_input": "2023-08-11T09:54:28.290424Z",
     "iopub.status.busy": "2023-08-11T09:54:28.289963Z",
     "iopub.status.idle": "2023-08-11T09:54:28.316542Z",
     "shell.execute_reply": "2023-08-11T09:54:28.315290Z"
    },
    "papermill": {
     "duration": 0.090834,
     "end_time": "2023-08-11T09:54:28.319022",
     "exception": false,
     "start_time": "2023-08-11T09:54:28.228188",
     "status": "completed"
    },
    "tags": []
   },
   "outputs": [
    {
     "data": {
      "text/html": [
       "<div>\n",
       "<style scoped>\n",
       "    .dataframe tbody tr th:only-of-type {\n",
       "        vertical-align: middle;\n",
       "    }\n",
       "\n",
       "    .dataframe tbody tr th {\n",
       "        vertical-align: top;\n",
       "    }\n",
       "\n",
       "    .dataframe thead th {\n",
       "        text-align: right;\n",
       "    }\n",
       "</style>\n",
       "<table border=\"1\" class=\"dataframe\">\n",
       "  <thead>\n",
       "    <tr style=\"text-align: right;\">\n",
       "      <th></th>\n",
       "      <th>Text</th>\n",
       "    </tr>\n",
       "  </thead>\n",
       "  <tbody>\n",
       "    <tr>\n",
       "      <th>0</th>\n",
       "      <td>Hey there, how's the weather today.</td>\n",
       "    </tr>\n",
       "    <tr>\n",
       "      <th>1</th>\n",
       "      <td>Liverpool announced the signing of Szoboszlai</td>\n",
       "    </tr>\n",
       "    <tr>\n",
       "      <th>2</th>\n",
       "      <td>An apple a day keeps the doctor away.</td>\n",
       "    </tr>\n",
       "    <tr>\n",
       "      <th>3</th>\n",
       "      <td>Natural Language Processing is fun!</td>\n",
       "    </tr>\n",
       "  </tbody>\n",
       "</table>\n",
       "</div>"
      ],
      "text/plain": [
       "                                            Text\n",
       "0            Hey there, how's the weather today.\n",
       "1  Liverpool announced the signing of Szoboszlai\n",
       "2          An apple a day keeps the doctor away.\n",
       "3            Natural Language Processing is fun!"
      ]
     },
     "execution_count": 25,
     "metadata": {},
     "output_type": "execute_result"
    }
   ],
   "source": [
    "# Prepare a very small dataset, you can change the text to test the difference!\n",
    "import pandas as pd\n",
    "\n",
    "corpus = [\"Hey there, how's the weather today.\",\n",
    "          \"Liverpool announced the signing of Szoboszlai\",\n",
    "          \"An apple a day keeps the doctor away.\",\n",
    "          \"Natural Language Processing is fun!\"]\n",
    "\n",
    "text_df = pd.DataFrame({\"Text\": corpus})\n",
    "\n",
    "text_df"
   ]
  },
  {
   "cell_type": "code",
   "execution_count": 26,
   "id": "7f7e0c7b",
   "metadata": {
    "execution": {
     "iopub.execute_input": "2023-08-11T09:54:28.439261Z",
     "iopub.status.busy": "2023-08-11T09:54:28.438769Z",
     "iopub.status.idle": "2023-08-11T09:54:29.660042Z",
     "shell.execute_reply": "2023-08-11T09:54:29.658785Z"
    },
    "papermill": {
     "duration": 1.285695,
     "end_time": "2023-08-11T09:54:29.663046",
     "exception": false,
     "start_time": "2023-08-11T09:54:28.377351",
     "status": "completed"
    },
    "tags": []
   },
   "outputs": [],
   "source": [
    "# Text preprocessing, we will be \n",
    "# 1. removing stop words\n",
    "# 2. removing punctuations\n",
    "# 3. changing word to lower case\n",
    "# 4. lemmatization\n",
    "\n",
    "import spacy\n",
    "\n",
    "nlp = spacy.load(\"en_core_web_sm\")\n",
    "\n",
    "def preprocessing(text):\n",
    "    doc = nlp(text.lower()) # lowercase\n",
    "    preprocessed_text = []\n",
    "    for token in doc:\n",
    "        if token.is_stop or token.is_punct: # if the token is stop word/punctuation we do not add it to the list\n",
    "            continue\n",
    "        preprocessed_text.append(token.lemma_)\n",
    "    \n",
    "    return \" \".join(preprocessed_text)"
   ]
  },
  {
   "cell_type": "code",
   "execution_count": 27,
   "id": "61039d58",
   "metadata": {
    "execution": {
     "iopub.execute_input": "2023-08-11T09:54:29.781019Z",
     "iopub.status.busy": "2023-08-11T09:54:29.780576Z",
     "iopub.status.idle": "2023-08-11T09:54:29.834764Z",
     "shell.execute_reply": "2023-08-11T09:54:29.833218Z"
    },
    "papermill": {
     "duration": 0.116781,
     "end_time": "2023-08-11T09:54:29.837552",
     "exception": false,
     "start_time": "2023-08-11T09:54:29.720771",
     "status": "completed"
    },
    "tags": []
   },
   "outputs": [
    {
     "data": {
      "text/html": [
       "<div>\n",
       "<style scoped>\n",
       "    .dataframe tbody tr th:only-of-type {\n",
       "        vertical-align: middle;\n",
       "    }\n",
       "\n",
       "    .dataframe tbody tr th {\n",
       "        vertical-align: top;\n",
       "    }\n",
       "\n",
       "    .dataframe thead th {\n",
       "        text-align: right;\n",
       "    }\n",
       "</style>\n",
       "<table border=\"1\" class=\"dataframe\">\n",
       "  <thead>\n",
       "    <tr style=\"text-align: right;\">\n",
       "      <th></th>\n",
       "      <th>Text</th>\n",
       "    </tr>\n",
       "  </thead>\n",
       "  <tbody>\n",
       "    <tr>\n",
       "      <th>0</th>\n",
       "      <td>hey weather today</td>\n",
       "    </tr>\n",
       "    <tr>\n",
       "      <th>1</th>\n",
       "      <td>liverpool announce signing szoboszlai</td>\n",
       "    </tr>\n",
       "    <tr>\n",
       "      <th>2</th>\n",
       "      <td>apple day keep doctor away</td>\n",
       "    </tr>\n",
       "    <tr>\n",
       "      <th>3</th>\n",
       "      <td>natural language processing fun</td>\n",
       "    </tr>\n",
       "  </tbody>\n",
       "</table>\n",
       "</div>"
      ],
      "text/plain": [
       "                                    Text\n",
       "0                      hey weather today\n",
       "1  liverpool announce signing szoboszlai\n",
       "2             apple day keep doctor away\n",
       "3        natural language processing fun"
      ]
     },
     "execution_count": 27,
     "metadata": {},
     "output_type": "execute_result"
    }
   ],
   "source": [
    "# Transform our dataset through applying our preprocessing function to the text_df\n",
    "\n",
    "text_df[\"Text\"] = text_df[\"Text\"].apply(preprocessing)\n",
    "text_df"
   ]
  },
  {
   "cell_type": "code",
   "execution_count": 28,
   "id": "59298d30",
   "metadata": {
    "execution": {
     "iopub.execute_input": "2023-08-11T09:54:29.964448Z",
     "iopub.status.busy": "2023-08-11T09:54:29.963134Z",
     "iopub.status.idle": "2023-08-11T09:54:29.981547Z",
     "shell.execute_reply": "2023-08-11T09:54:29.980126Z"
    },
    "papermill": {
     "duration": 0.084555,
     "end_time": "2023-08-11T09:54:29.984184",
     "exception": false,
     "start_time": "2023-08-11T09:54:29.899629",
     "status": "completed"
    },
    "tags": []
   },
   "outputs": [
    {
     "data": {
      "text/plain": [
       "{'hey': 6,\n",
       " 'weather': 15,\n",
       " 'today': 14,\n",
       " 'liverpool': 9,\n",
       " 'announce': 0,\n",
       " 'signing': 12,\n",
       " 'szoboszlai': 13,\n",
       " 'apple': 1,\n",
       " 'day': 3,\n",
       " 'keep': 7,\n",
       " 'doctor': 4,\n",
       " 'away': 2,\n",
       " 'natural': 10,\n",
       " 'language': 8,\n",
       " 'processing': 11,\n",
       " 'fun': 5}"
      ]
     },
     "execution_count": 28,
     "metadata": {},
     "output_type": "execute_result"
    }
   ],
   "source": [
    "# Now let's do our BOW \n",
    "\n",
    "from sklearn.feature_extraction.text import CountVectorizer\n",
    "\n",
    "cv = CountVectorizer()\n",
    "cv.fit(text_df['Text'])\n",
    "cv.vocabulary_ # Each unique token will be assigned as a dictionary with some kind of index"
   ]
  },
  {
   "cell_type": "code",
   "execution_count": 29,
   "id": "63f81e3e",
   "metadata": {
    "execution": {
     "iopub.execute_input": "2023-08-11T09:54:30.107882Z",
     "iopub.status.busy": "2023-08-11T09:54:30.107383Z",
     "iopub.status.idle": "2023-08-11T09:54:30.114867Z",
     "shell.execute_reply": "2023-08-11T09:54:30.113544Z"
    },
    "papermill": {
     "duration": 0.072993,
     "end_time": "2023-08-11T09:54:30.117847",
     "exception": false,
     "start_time": "2023-08-11T09:54:30.044854",
     "status": "completed"
    },
    "tags": []
   },
   "outputs": [
    {
     "data": {
      "text/plain": [
       "array(['announce', 'apple', 'away', 'day', 'doctor', 'fun', 'hey', 'keep',\n",
       "       'language', 'liverpool', 'natural', 'processing', 'signing',\n",
       "       'szoboszlai', 'today', 'weather'], dtype=object)"
      ]
     },
     "execution_count": 29,
     "metadata": {},
     "output_type": "execute_result"
    }
   ],
   "source": [
    "cv.get_feature_names_out() # we can also convert the vocabs to an array of the right order"
   ]
  },
  {
   "cell_type": "code",
   "execution_count": 30,
   "id": "2c7e3181",
   "metadata": {
    "execution": {
     "iopub.execute_input": "2023-08-11T09:54:30.241440Z",
     "iopub.status.busy": "2023-08-11T09:54:30.240913Z",
     "iopub.status.idle": "2023-08-11T09:54:30.252239Z",
     "shell.execute_reply": "2023-08-11T09:54:30.250596Z"
    },
    "papermill": {
     "duration": 0.076062,
     "end_time": "2023-08-11T09:54:30.255130",
     "exception": false,
     "start_time": "2023-08-11T09:54:30.179068",
     "status": "completed"
    },
    "tags": []
   },
   "outputs": [
    {
     "data": {
      "text/plain": [
       "array([[0, 0, 0, 0, 0, 0, 1, 0, 0, 0, 0, 0, 0, 0, 1, 1]])"
      ]
     },
     "execution_count": 30,
     "metadata": {},
     "output_type": "execute_result"
    }
   ],
   "source": [
    "# To get the vector of a particular corpus, we use the .transform function and turn the result to an array\n",
    "\n",
    "cv.transform(['hey weather today']).toarray()\n",
    "\n",
    "# You can see from the results, there are three position that shows '1'\n",
    "# which is array[6],array[13],array[14] -> matching the position of the word in cv.vocabulary_"
   ]
  },
  {
   "cell_type": "code",
   "execution_count": 31,
   "id": "a3da8a86",
   "metadata": {
    "execution": {
     "iopub.execute_input": "2023-08-11T09:54:30.379524Z",
     "iopub.status.busy": "2023-08-11T09:54:30.378963Z",
     "iopub.status.idle": "2023-08-11T09:54:30.402846Z",
     "shell.execute_reply": "2023-08-11T09:54:30.401566Z"
    },
    "papermill": {
     "duration": 0.090349,
     "end_time": "2023-08-11T09:54:30.405917",
     "exception": false,
     "start_time": "2023-08-11T09:54:30.315568",
     "status": "completed"
    },
    "tags": []
   },
   "outputs": [
    {
     "data": {
      "text/html": [
       "<div>\n",
       "<style scoped>\n",
       "    .dataframe tbody tr th:only-of-type {\n",
       "        vertical-align: middle;\n",
       "    }\n",
       "\n",
       "    .dataframe tbody tr th {\n",
       "        vertical-align: top;\n",
       "    }\n",
       "\n",
       "    .dataframe thead th {\n",
       "        text-align: right;\n",
       "    }\n",
       "</style>\n",
       "<table border=\"1\" class=\"dataframe\">\n",
       "  <thead>\n",
       "    <tr style=\"text-align: right;\">\n",
       "      <th></th>\n",
       "      <th>announce</th>\n",
       "      <th>apple</th>\n",
       "      <th>away</th>\n",
       "      <th>day</th>\n",
       "      <th>doctor</th>\n",
       "      <th>fun</th>\n",
       "      <th>hey</th>\n",
       "      <th>keep</th>\n",
       "      <th>language</th>\n",
       "      <th>liverpool</th>\n",
       "      <th>natural</th>\n",
       "      <th>processing</th>\n",
       "      <th>signing</th>\n",
       "      <th>szoboszlai</th>\n",
       "      <th>today</th>\n",
       "      <th>weather</th>\n",
       "    </tr>\n",
       "    <tr>\n",
       "      <th>Text</th>\n",
       "      <th></th>\n",
       "      <th></th>\n",
       "      <th></th>\n",
       "      <th></th>\n",
       "      <th></th>\n",
       "      <th></th>\n",
       "      <th></th>\n",
       "      <th></th>\n",
       "      <th></th>\n",
       "      <th></th>\n",
       "      <th></th>\n",
       "      <th></th>\n",
       "      <th></th>\n",
       "      <th></th>\n",
       "      <th></th>\n",
       "      <th></th>\n",
       "    </tr>\n",
       "  </thead>\n",
       "  <tbody>\n",
       "    <tr>\n",
       "      <th>hey weather today</th>\n",
       "      <td>0</td>\n",
       "      <td>0</td>\n",
       "      <td>0</td>\n",
       "      <td>0</td>\n",
       "      <td>0</td>\n",
       "      <td>0</td>\n",
       "      <td>1</td>\n",
       "      <td>0</td>\n",
       "      <td>0</td>\n",
       "      <td>0</td>\n",
       "      <td>0</td>\n",
       "      <td>0</td>\n",
       "      <td>0</td>\n",
       "      <td>0</td>\n",
       "      <td>1</td>\n",
       "      <td>1</td>\n",
       "    </tr>\n",
       "    <tr>\n",
       "      <th>liverpool announce signing szoboszlai</th>\n",
       "      <td>1</td>\n",
       "      <td>0</td>\n",
       "      <td>0</td>\n",
       "      <td>0</td>\n",
       "      <td>0</td>\n",
       "      <td>0</td>\n",
       "      <td>0</td>\n",
       "      <td>0</td>\n",
       "      <td>0</td>\n",
       "      <td>1</td>\n",
       "      <td>0</td>\n",
       "      <td>0</td>\n",
       "      <td>1</td>\n",
       "      <td>1</td>\n",
       "      <td>0</td>\n",
       "      <td>0</td>\n",
       "    </tr>\n",
       "    <tr>\n",
       "      <th>apple day keep doctor away</th>\n",
       "      <td>0</td>\n",
       "      <td>1</td>\n",
       "      <td>1</td>\n",
       "      <td>1</td>\n",
       "      <td>1</td>\n",
       "      <td>0</td>\n",
       "      <td>0</td>\n",
       "      <td>1</td>\n",
       "      <td>0</td>\n",
       "      <td>0</td>\n",
       "      <td>0</td>\n",
       "      <td>0</td>\n",
       "      <td>0</td>\n",
       "      <td>0</td>\n",
       "      <td>0</td>\n",
       "      <td>0</td>\n",
       "    </tr>\n",
       "    <tr>\n",
       "      <th>natural language processing fun</th>\n",
       "      <td>0</td>\n",
       "      <td>0</td>\n",
       "      <td>0</td>\n",
       "      <td>0</td>\n",
       "      <td>0</td>\n",
       "      <td>1</td>\n",
       "      <td>0</td>\n",
       "      <td>0</td>\n",
       "      <td>1</td>\n",
       "      <td>0</td>\n",
       "      <td>1</td>\n",
       "      <td>1</td>\n",
       "      <td>0</td>\n",
       "      <td>0</td>\n",
       "      <td>0</td>\n",
       "      <td>0</td>\n",
       "    </tr>\n",
       "  </tbody>\n",
       "</table>\n",
       "</div>"
      ],
      "text/plain": [
       "                                       announce  apple  away  day  doctor  \\\n",
       "Text                                                                        \n",
       "hey weather today                             0      0     0    0       0   \n",
       "liverpool announce signing szoboszlai         1      0     0    0       0   \n",
       "apple day keep doctor away                    0      1     1    1       1   \n",
       "natural language processing fun               0      0     0    0       0   \n",
       "\n",
       "                                       fun  hey  keep  language  liverpool  \\\n",
       "Text                                                                         \n",
       "hey weather today                        0    1     0         0          0   \n",
       "liverpool announce signing szoboszlai    0    0     0         0          1   \n",
       "apple day keep doctor away               0    0     1         0          0   \n",
       "natural language processing fun          1    0     0         1          0   \n",
       "\n",
       "                                       natural  processing  signing  \\\n",
       "Text                                                                  \n",
       "hey weather today                            0           0        0   \n",
       "liverpool announce signing szoboszlai        0           0        1   \n",
       "apple day keep doctor away                   0           0        0   \n",
       "natural language processing fun              1           1        0   \n",
       "\n",
       "                                       szoboszlai  today  weather  \n",
       "Text                                                               \n",
       "hey weather today                               0      1        1  \n",
       "liverpool announce signing szoboszlai           1      0        0  \n",
       "apple day keep doctor away                      0      0        0  \n",
       "natural language processing fun                 0      0        0  "
      ]
     },
     "execution_count": 31,
     "metadata": {},
     "output_type": "execute_result"
    }
   ],
   "source": [
    "# Let's visualize the result of countvectorizer\n",
    "\n",
    "cv = CountVectorizer()\n",
    "X = cv.fit_transform(text_df['Text'])\n",
    "\n",
    "feature_names = cv.get_feature_names_out() # get all the unique tokens \n",
    "\n",
    "df = pd.DataFrame(X.toarray(), columns=feature_names, index=text_df['Text']) # create a pandas dataframe\n",
    "\n",
    "df"
   ]
  },
  {
   "cell_type": "markdown",
   "id": "2ab04f22",
   "metadata": {
    "papermill": {
     "duration": 0.063617,
     "end_time": "2023-08-11T09:54:30.533086",
     "exception": false,
     "start_time": "2023-08-11T09:54:30.469469",
     "status": "completed"
    },
    "tags": []
   },
   "source": [
    "Now I hope you grasp the general idea of how BOW work. Indeed is it pretty simply process and you can use this result dataframe to train your machine learning models for your NLP task. But in reality, there are several huge flaws in using BOW to vectorize the corpus. For instance, it faces the problem of\n",
    "\n",
    "### 1. **Sparsity** increase as the number of unique token (size of input) increases\n",
    "\n",
    "<div style=\"width:100%;text-align: center;\"> <img align=middle src=\"https://i.imgur.com/EdPwBdK.png\" style=\"height:200px;\"> </div>\n",
    "<br>\n",
    "\n",
    "If you notice, in the example demonstrate above, there are a lot of zeros as the value of each corpus, **the percentage of useful information of each row will decrease as the size of input increase**. Why? Image rather than 4 corpus, we have a million sentences, just image how many zeros will there be in each row!\n",
    "\n",
    "### 2. **Dimension** increase as the number of unique token (size of input) increases\n",
    "\n",
    "Apart from the problem of sparsity, dimensionality is also a primary concern of BOW. Just like the example mentioned, if we have a million sentences, there will be millions of features/columns in the dataset which make our training process very inefficient.\n",
    "\n",
    "### 3. BOW cannot handle **Out of Vocabulary (OOV)** problem\n",
    "\n",
    "Imagine we use our example dataframe to train our model and now we want to classifer the sentence \"Machine Learning is awesome\". Our model simply cannot give us an accurate prediction because none of these tokens are in our feature!"
   ]
  },
  {
   "cell_type": "markdown",
   "id": "829e004e",
   "metadata": {
    "papermill": {
     "duration": 0.061809,
     "end_time": "2023-08-11T09:54:30.663593",
     "exception": false,
     "start_time": "2023-08-11T09:54:30.601784",
     "status": "completed"
    },
    "tags": []
   },
   "source": [
    "# <a id=\"bag-of-n-grams\"></a><div style=\"text-align:center; font-size:40px;\"><span style=\"color:#3A506B\">Bag of n-grams</span></div>\n"
   ]
  },
  {
   "cell_type": "markdown",
   "id": "9a1042b0",
   "metadata": {
    "papermill": {
     "duration": 0.063383,
     "end_time": "2023-08-11T09:54:30.791485",
     "exception": false,
     "start_time": "2023-08-11T09:54:30.728102",
     "status": "completed"
    },
    "tags": []
   },
   "source": [
    "<div style=\"width:100%;text-align: center;\"> <img align=middle src=\"https://i.imgur.com/QLE08hJ.png\" style=\"height:300px;\"> </div>\n",
    "\n"
   ]
  },
  {
   "cell_type": "markdown",
   "id": "c65f2b71",
   "metadata": {
    "papermill": {
     "duration": 0.060523,
     "end_time": "2023-08-11T09:54:30.911929",
     "exception": false,
     "start_time": "2023-08-11T09:54:30.851406",
     "status": "completed"
    },
    "tags": []
   },
   "source": [
    "Just at looking at the imagine above, you may already have a good guess of what bag of n-grams do if you had go through the BOW section. Indeed, bag of n-grams simple increase the number of features/columns by altering between how to split the tokens."
   ]
  },
  {
   "cell_type": "markdown",
   "id": "7f1f4ba6",
   "metadata": {
    "papermill": {
     "duration": 0.062841,
     "end_time": "2023-08-11T09:54:31.036659",
     "exception": false,
     "start_time": "2023-08-11T09:54:30.973818",
     "status": "completed"
    },
    "tags": []
   },
   "source": [
    "### 🧑‍💻 Let's code \n",
    "\n",
    "Let's see bag of n-grams in action with sklearn."
   ]
  },
  {
   "cell_type": "code",
   "execution_count": 32,
   "id": "69eb10de",
   "metadata": {
    "execution": {
     "iopub.execute_input": "2023-08-11T09:54:31.161505Z",
     "iopub.status.busy": "2023-08-11T09:54:31.160724Z",
     "iopub.status.idle": "2023-08-11T09:54:32.430022Z",
     "shell.execute_reply": "2023-08-11T09:54:32.428859Z"
    },
    "papermill": {
     "duration": 1.334747,
     "end_time": "2023-08-11T09:54:32.432970",
     "exception": false,
     "start_time": "2023-08-11T09:54:31.098223",
     "status": "completed"
    },
    "tags": []
   },
   "outputs": [
    {
     "data": {
      "text/html": [
       "<div>\n",
       "<style scoped>\n",
       "    .dataframe tbody tr th:only-of-type {\n",
       "        vertical-align: middle;\n",
       "    }\n",
       "\n",
       "    .dataframe tbody tr th {\n",
       "        vertical-align: top;\n",
       "    }\n",
       "\n",
       "    .dataframe thead th {\n",
       "        text-align: right;\n",
       "    }\n",
       "</style>\n",
       "<table border=\"1\" class=\"dataframe\">\n",
       "  <thead>\n",
       "    <tr style=\"text-align: right;\">\n",
       "      <th></th>\n",
       "      <th>Text</th>\n",
       "    </tr>\n",
       "  </thead>\n",
       "  <tbody>\n",
       "    <tr>\n",
       "      <th>0</th>\n",
       "      <td>hey weather today</td>\n",
       "    </tr>\n",
       "    <tr>\n",
       "      <th>1</th>\n",
       "      <td>liverpool announce signing szoboszlai</td>\n",
       "    </tr>\n",
       "    <tr>\n",
       "      <th>2</th>\n",
       "      <td>apple day keep doctor away</td>\n",
       "    </tr>\n",
       "    <tr>\n",
       "      <th>3</th>\n",
       "      <td>natural language processing fun</td>\n",
       "    </tr>\n",
       "  </tbody>\n",
       "</table>\n",
       "</div>"
      ],
      "text/plain": [
       "                                    Text\n",
       "0                      hey weather today\n",
       "1  liverpool announce signing szoboszlai\n",
       "2             apple day keep doctor away\n",
       "3        natural language processing fun"
      ]
     },
     "execution_count": 32,
     "metadata": {},
     "output_type": "execute_result"
    }
   ],
   "source": [
    "# We will be all the dataset from the previous section, so these are just copy and paste\n",
    "\n",
    "# Dataset from BOW section\n",
    "import pandas as pd\n",
    "\n",
    "corpus = [\"Hey there, how's the weather today.\",\n",
    "          \"Liverpool announced the signing of Szoboszlai\",\n",
    "          \"An apple a day keeps the doctor away.\",\n",
    "          \"Natural Language Processing is fun!\"]\n",
    "\n",
    "text_df = pd.DataFrame({\"Text\": corpus})\n",
    "\n",
    "# Preprocess function from BOW section\n",
    "\n",
    "import spacy\n",
    "\n",
    "nlp = spacy.load(\"en_core_web_sm\")\n",
    "\n",
    "def preprocessing(text):\n",
    "    doc = nlp(text.lower()) # lowercase\n",
    "    preprocessed_text = []\n",
    "    for token in doc:\n",
    "        if token.is_stop or token.is_punct: # if the token is stop word/punctuation we do not add it to the list\n",
    "            continue\n",
    "        preprocessed_text.append(token.lemma_)\n",
    "    \n",
    "    return \" \".join(preprocessed_text)\n",
    "\n",
    "text_df[\"Text\"] = text_df[\"Text\"].apply(preprocessing)\n",
    "text_df"
   ]
  },
  {
   "cell_type": "code",
   "execution_count": 33,
   "id": "75ccf320",
   "metadata": {
    "execution": {
     "iopub.execute_input": "2023-08-11T09:54:32.562793Z",
     "iopub.status.busy": "2023-08-11T09:54:32.562357Z",
     "iopub.status.idle": "2023-08-11T09:54:32.582812Z",
     "shell.execute_reply": "2023-08-11T09:54:32.581861Z"
    },
    "papermill": {
     "duration": 0.089809,
     "end_time": "2023-08-11T09:54:32.585373",
     "exception": false,
     "start_time": "2023-08-11T09:54:32.495564",
     "status": "completed"
    },
    "tags": []
   },
   "outputs": [
    {
     "data": {
      "text/html": [
       "<h3>Bag of n-grams</h3><div id=\"Bag of n-grams\" style=\"height:200px; overflow:auto;\"><table border=\"1\" class=\"dataframe\">\n",
       "  <thead>\n",
       "    <tr style=\"text-align: right;\">\n",
       "      <th></th>\n",
       "      <th>announce</th>\n",
       "      <th>announce signing</th>\n",
       "      <th>apple</th>\n",
       "      <th>apple day</th>\n",
       "      <th>away</th>\n",
       "      <th>day</th>\n",
       "      <th>day keep</th>\n",
       "      <th>doctor</th>\n",
       "      <th>doctor away</th>\n",
       "      <th>fun</th>\n",
       "      <th>hey</th>\n",
       "      <th>hey weather</th>\n",
       "      <th>keep</th>\n",
       "      <th>keep doctor</th>\n",
       "      <th>language</th>\n",
       "      <th>language processing</th>\n",
       "      <th>liverpool</th>\n",
       "      <th>liverpool announce</th>\n",
       "      <th>natural</th>\n",
       "      <th>natural language</th>\n",
       "      <th>processing</th>\n",
       "      <th>processing fun</th>\n",
       "      <th>signing</th>\n",
       "      <th>signing szoboszlai</th>\n",
       "      <th>szoboszlai</th>\n",
       "      <th>today</th>\n",
       "      <th>weather</th>\n",
       "      <th>weather today</th>\n",
       "    </tr>\n",
       "    <tr>\n",
       "      <th>Text</th>\n",
       "      <th></th>\n",
       "      <th></th>\n",
       "      <th></th>\n",
       "      <th></th>\n",
       "      <th></th>\n",
       "      <th></th>\n",
       "      <th></th>\n",
       "      <th></th>\n",
       "      <th></th>\n",
       "      <th></th>\n",
       "      <th></th>\n",
       "      <th></th>\n",
       "      <th></th>\n",
       "      <th></th>\n",
       "      <th></th>\n",
       "      <th></th>\n",
       "      <th></th>\n",
       "      <th></th>\n",
       "      <th></th>\n",
       "      <th></th>\n",
       "      <th></th>\n",
       "      <th></th>\n",
       "      <th></th>\n",
       "      <th></th>\n",
       "      <th></th>\n",
       "      <th></th>\n",
       "      <th></th>\n",
       "      <th></th>\n",
       "    </tr>\n",
       "  </thead>\n",
       "  <tbody>\n",
       "    <tr>\n",
       "      <th>hey weather today</th>\n",
       "      <td>0</td>\n",
       "      <td>0</td>\n",
       "      <td>0</td>\n",
       "      <td>0</td>\n",
       "      <td>0</td>\n",
       "      <td>0</td>\n",
       "      <td>0</td>\n",
       "      <td>0</td>\n",
       "      <td>0</td>\n",
       "      <td>0</td>\n",
       "      <td>1</td>\n",
       "      <td>1</td>\n",
       "      <td>0</td>\n",
       "      <td>0</td>\n",
       "      <td>0</td>\n",
       "      <td>0</td>\n",
       "      <td>0</td>\n",
       "      <td>0</td>\n",
       "      <td>0</td>\n",
       "      <td>0</td>\n",
       "      <td>0</td>\n",
       "      <td>0</td>\n",
       "      <td>0</td>\n",
       "      <td>0</td>\n",
       "      <td>0</td>\n",
       "      <td>1</td>\n",
       "      <td>1</td>\n",
       "      <td>1</td>\n",
       "    </tr>\n",
       "    <tr>\n",
       "      <th>liverpool announce signing szoboszlai</th>\n",
       "      <td>1</td>\n",
       "      <td>1</td>\n",
       "      <td>0</td>\n",
       "      <td>0</td>\n",
       "      <td>0</td>\n",
       "      <td>0</td>\n",
       "      <td>0</td>\n",
       "      <td>0</td>\n",
       "      <td>0</td>\n",
       "      <td>0</td>\n",
       "      <td>0</td>\n",
       "      <td>0</td>\n",
       "      <td>0</td>\n",
       "      <td>0</td>\n",
       "      <td>0</td>\n",
       "      <td>0</td>\n",
       "      <td>1</td>\n",
       "      <td>1</td>\n",
       "      <td>0</td>\n",
       "      <td>0</td>\n",
       "      <td>0</td>\n",
       "      <td>0</td>\n",
       "      <td>1</td>\n",
       "      <td>1</td>\n",
       "      <td>1</td>\n",
       "      <td>0</td>\n",
       "      <td>0</td>\n",
       "      <td>0</td>\n",
       "    </tr>\n",
       "    <tr>\n",
       "      <th>apple day keep doctor away</th>\n",
       "      <td>0</td>\n",
       "      <td>0</td>\n",
       "      <td>1</td>\n",
       "      <td>1</td>\n",
       "      <td>1</td>\n",
       "      <td>1</td>\n",
       "      <td>1</td>\n",
       "      <td>1</td>\n",
       "      <td>1</td>\n",
       "      <td>0</td>\n",
       "      <td>0</td>\n",
       "      <td>0</td>\n",
       "      <td>1</td>\n",
       "      <td>1</td>\n",
       "      <td>0</td>\n",
       "      <td>0</td>\n",
       "      <td>0</td>\n",
       "      <td>0</td>\n",
       "      <td>0</td>\n",
       "      <td>0</td>\n",
       "      <td>0</td>\n",
       "      <td>0</td>\n",
       "      <td>0</td>\n",
       "      <td>0</td>\n",
       "      <td>0</td>\n",
       "      <td>0</td>\n",
       "      <td>0</td>\n",
       "      <td>0</td>\n",
       "    </tr>\n",
       "    <tr>\n",
       "      <th>natural language processing fun</th>\n",
       "      <td>0</td>\n",
       "      <td>0</td>\n",
       "      <td>0</td>\n",
       "      <td>0</td>\n",
       "      <td>0</td>\n",
       "      <td>0</td>\n",
       "      <td>0</td>\n",
       "      <td>0</td>\n",
       "      <td>0</td>\n",
       "      <td>1</td>\n",
       "      <td>0</td>\n",
       "      <td>0</td>\n",
       "      <td>0</td>\n",
       "      <td>0</td>\n",
       "      <td>1</td>\n",
       "      <td>1</td>\n",
       "      <td>0</td>\n",
       "      <td>0</td>\n",
       "      <td>1</td>\n",
       "      <td>1</td>\n",
       "      <td>1</td>\n",
       "      <td>1</td>\n",
       "      <td>0</td>\n",
       "      <td>0</td>\n",
       "      <td>0</td>\n",
       "      <td>0</td>\n",
       "      <td>0</td>\n",
       "      <td>0</td>\n",
       "    </tr>\n",
       "  </tbody>\n",
       "</table></div>"
      ],
      "text/plain": [
       "<IPython.core.display.HTML object>"
      ]
     },
     "metadata": {},
     "output_type": "display_data"
    }
   ],
   "source": [
    "from sklearn.feature_extraction.text import CountVectorizer\n",
    "import pandas as pd\n",
    "\n",
    "cv = CountVectorizer(ngram_range=(1,2)) \n",
    "# to declare bag of n_grams, we simply change the parameter\n",
    "# in this example we will be using bag of one word and bag of two word\n",
    "# noted that the parameter is in form of range, so (1,3) will be bag of 1,2,3 words\n",
    "\n",
    "\n",
    "# Same code from previous section\n",
    "X = cv.fit_transform(text_df['Text'])\n",
    "\n",
    "feature_names = cv.get_feature_names_out() # get all the unique tokens \n",
    "\n",
    "df = pd.DataFrame(X.toarray(), columns=feature_names, index=text_df['Text']) # create a pandas dataframe\n",
    "\n",
    "\n",
    "# ----------------------------------------------------------\n",
    "# just a function that better display large pandas dataframe\n",
    "from IPython.display import display, HTML\n",
    "\n",
    "def create_scrollable_table(df, table_id, title):\n",
    "    html = f'<h3>{title}</h3>'\n",
    "    html += f'<div id=\"{table_id}\" style=\"height:200px; overflow:auto;\">'\n",
    "    html += df.to_html()\n",
    "    html += '</div>'\n",
    "    return html\n",
    "# ----------------------------------------------------------\n",
    "\n",
    "html_df = create_scrollable_table(df, \n",
    "                            'Bag of n-grams', \n",
    "                            'Bag of n-grams')\n",
    "display(HTML(html_df))"
   ]
  },
  {
   "cell_type": "markdown",
   "id": "2a3b7765",
   "metadata": {
    "papermill": {
     "duration": 0.061895,
     "end_time": "2023-08-11T09:54:32.714426",
     "exception": false,
     "start_time": "2023-08-11T09:54:32.652531",
     "status": "completed"
    },
    "tags": []
   },
   "source": [
    "The difference between Bag of n-grams and Bag of Words is that Bag of n-grams contains more information than BOW because **bag of n-grams capture more context around each word than BOW**. For example, instead of just capturing 'hey', 'weather' and 'today', bag of n-gram captures 'hey', 'hey weather', 'weather', 'today', 'weather today'.\n",
    "\n",
    "But also at the same time, the flaws of sparsity and dimensionality as mentioned in the BOW section is also being demonstrated here. While bag of n-grams also cannot deal with Out of Vocabulary (OOV) same as bag of words."
   ]
  },
  {
   "cell_type": "markdown",
   "id": "cc3dd789",
   "metadata": {
    "papermill": {
     "duration": 0.059705,
     "end_time": "2023-08-11T09:54:32.834935",
     "exception": false,
     "start_time": "2023-08-11T09:54:32.775230",
     "status": "completed"
    },
    "tags": []
   },
   "source": [
    "# <a id=\"tf-idf\"></a><div style=\"text-align:center; font-size:40px;\"><span style=\"color:#3A506B\">🌟 Term Frequency - Inverse Document Frequency (TF-IDF)🌟 </span></div>"
   ]
  },
  {
   "cell_type": "markdown",
   "id": "4db3d328",
   "metadata": {
    "papermill": {
     "duration": 0.059628,
     "end_time": "2023-08-11T09:54:32.954515",
     "exception": false,
     "start_time": "2023-08-11T09:54:32.894887",
     "status": "completed"
    },
    "tags": []
   },
   "source": [
    "<div style=\"width:100%;text-align: center;\"> <img align=middle src=\"https://i.imgur.com/4WcIN8I.png\" style=\"height:300px;\"> </div>\n"
   ]
  },
  {
   "cell_type": "markdown",
   "id": "2a514b96",
   "metadata": {
    "papermill": {
     "duration": 0.059783,
     "end_time": "2023-08-11T09:54:33.078364",
     "exception": false,
     "start_time": "2023-08-11T09:54:33.018581",
     "status": "completed"
    },
    "tags": []
   },
   "source": [
    "When you are navigating through the sections of [Bag of Words](#bag-of-words) and [Bag of n-grams](#bag-of-n-grams), have you notice the fact that they both assign a weight of 1 to each appearance of word in the sentence? This might not make a big difference for our tiny dataset from our examples, but for larger dataset, it may be a problem because imagine words like 'is' will have a value of 100 and important words like 'Tesla' that contains the most information will have a value of 10. When we feed this dataset to our model to train, this will in turn **give words like 'is' a relatively high weighting and reduce the accuracy of the model** as you can imagine words like 'is' will have a very high value also for other sentences.\n",
    "\n",
    "You may suggest that we could simply remove these [stop words](#stop-word) in our preprocessing part, but sometimes we do not want to do it and in fact, in this section I will show you a better technique to tackle this problem -- TF-IDF."
   ]
  },
  {
   "cell_type": "markdown",
   "id": "2a10d515",
   "metadata": {
    "papermill": {
     "duration": 0.060098,
     "end_time": "2023-08-11T09:54:33.198251",
     "exception": false,
     "start_time": "2023-08-11T09:54:33.138153",
     "status": "completed"
    },
    "tags": []
   },
   "source": [
    "❗ *In information retrieval, tf–idf, short for term frequency–inverse document frequency, is a numerical statistic that is intended to **reflect how important a word is to a document in a collection or corpus**. It is often **used as a weighting factor** in searches of information retrieval, text mining, and user modeling.*\n",
    "\n",
    "When talking about TF-IDF, we have to introduce some math and statistical concept to better illustrate the concept. But don't get scared, the maths in TF-IDF is relatively easy so stay with me.\n",
    "\n",
    "Let's break TF-IDF into two parts, term frequency (TF) and inverse document frequency (IDF).\n",
    "\n",
    "## Term Frequency (TF)\n",
    "\n",
    "<div style=\"width:100%;text-align: center;\"> <img align=middle src=\"https://i.imgur.com/RhnP5xc.png\" style=\"height:120px;\"> </div>\n",
    "\n",
    "This look a little overwhelming, to put the mathematical equation in words,\n",
    "\n",
    "`Term Frequency(TF) = number of times the word appeared / total no of words in a document`\n",
    "\n",
    "### ✍ Example: \n",
    "\n",
    "The best way to learn is always through examples, so let's see an example with this sentence\n",
    "\n",
    ">> **\"Natural Language Processing is fun Machine Learning is fun\"**\n",
    "\n",
    "❓ Question: Find the term frequency of the word *'is'*\n",
    "\n",
    "✅ Total number of word in the document: 9 <br>\n",
    "✅ number of times *is* appeared in the text: 2 <br>\n",
    "🟰 TF(is): 2/9 \n",
    "\n",
    "Similarly, TF(Machine) is what, yes your right, 1/9.\n",
    "\n",
    "🌟 If you think deeper, the range of possible value of TF is 0 to 1, when TF is closer to 1, it means that the word appear more frequently in the text.\n",
    "\n",
    "Now let's move on to Inverse Document Frequency (IDF)\n",
    "\n",
    "## Inverse Document Frequency (IDF)\n",
    "\n",
    "\n",
    "<div style=\"width:100%;text-align: center;\"> <img align=middle src=\"https://i.imgur.com/AvZkDVx.png\" style=\"height:150px;\"> </div>\n",
    "\n",
    "<br>\n",
    "\n",
    "To put it in words,\n",
    "\n",
    "`Inverse Document Frequency(IDF) = log(Total number of documents (rows) / Number of documents (rows) containing the word)`\n",
    "\n",
    "### ✍ Example: \n",
    "\n",
    "Let's see IDF in action with an example, imagine we have 2 documents (rows) \n",
    "\n",
    ">> **1. \"Natural Language Processing is fun Machine Learning is fun\"** <br>\n",
    ">> **2. \"This is the best thing I ever had\"**\n",
    "\n",
    "❓ Question: Find the inverse document frequency of the word *'is'*\n",
    "\n",
    "✅ Total number of documents: 2 <br>\n",
    "✅ Number of documents containing the word *is*: 2 <br>\n",
    "🟰 IDF(is): log(2/2) = 0\n",
    "\n",
    "Similarly, IDF(Machine) will be log(2/1) which is around 0.7 (note: we usually like to use the natural logrithm log base of e in machine learning and statistics)\n",
    "\n",
    "🌟 If you think deeper, the range of value of IDF is 0 to infinity, but really, if you notice from the example above, what we are doing is to give a smaller weighting to words that appear more frequently across all the documents. Now you see why this is the perfect replacement to simply removing all the stop words, we are achieving similar outcome in a more statistical and robust approach!\n",
    "\n",
    "\n",
    "<div style=\"width:100%;text-align: center;\"> <img align=middle src=\"https://i.imgur.com/SBwxNWb.png\" style=\"height:300px;\"> </div>\n",
    "\n",
    "## TF-IDF\n",
    "\n",
    "\n",
    "<div style=\"width:100%;text-align: center;\"> <img align=middle src=\"https://i.imgur.com/7RDG6tk.png\" style=\"height:200px;\"> </div>\n",
    "\n",
    "<br>\n",
    "\n",
    "Now that you understand the concept of TF and IDF, TF-IDF is relatively simple idea. It is basically \n",
    "\n",
    "`Term frequency (TF) x Inverse document frequency (IDF)`\n",
    "\n",
    "Let's try to understand this intuitively. \n",
    "\n",
    "🌟 TF-IDF = TF x IDF\n",
    "> As TF increase, TF-IDF increase ➡ **If a word appear in a document more frequently, we give the word a higher weight and consider the word as 'more informative and important'** \n",
    "<br>\n",
    "<br>\n",
    "> As IDF decrease, TF-IDF decrease ➡ **If a word appear ACROSS documents more frequently, we give the word a lower weight and consider the word as a sort of 'stop word' and less informative to each individual document**"
   ]
  },
  {
   "cell_type": "markdown",
   "id": "4bd12d06",
   "metadata": {
    "papermill": {
     "duration": 0.059408,
     "end_time": "2023-08-11T09:54:33.318932",
     "exception": false,
     "start_time": "2023-08-11T09:54:33.259524",
     "status": "completed"
    },
    "tags": []
   },
   "source": [
    "Now let's see TF-IDF in action with sklearn. I will be using the same corpus as the corpus we used in Bag of Words section to allow us to see the difference and effect in using TF-IDF."
   ]
  },
  {
   "cell_type": "markdown",
   "id": "93101279",
   "metadata": {
    "papermill": {
     "duration": 0.059954,
     "end_time": "2023-08-11T09:54:33.440517",
     "exception": false,
     "start_time": "2023-08-11T09:54:33.380563",
     "status": "completed"
    },
    "tags": []
   },
   "source": [
    "### 🧑‍💻 Let's code "
   ]
  },
  {
   "cell_type": "code",
   "execution_count": 34,
   "id": "9c865d7c",
   "metadata": {
    "execution": {
     "iopub.execute_input": "2023-08-11T09:54:33.563610Z",
     "iopub.status.busy": "2023-08-11T09:54:33.562809Z",
     "iopub.status.idle": "2023-08-11T09:54:34.819162Z",
     "shell.execute_reply": "2023-08-11T09:54:34.818329Z"
    },
    "papermill": {
     "duration": 1.320595,
     "end_time": "2023-08-11T09:54:34.821487",
     "exception": false,
     "start_time": "2023-08-11T09:54:33.500892",
     "status": "completed"
    },
    "tags": []
   },
   "outputs": [
    {
     "data": {
      "text/html": [
       "<h3>TF-IDF</h3><div id=\"TF-IDF\" style=\"height:200px; overflow:auto;\"><table border=\"1\" class=\"dataframe\">\n",
       "  <thead>\n",
       "    <tr style=\"text-align: right;\">\n",
       "      <th></th>\n",
       "      <th>an</th>\n",
       "      <th>announce</th>\n",
       "      <th>apple</th>\n",
       "      <th>away</th>\n",
       "      <th>be</th>\n",
       "      <th>day</th>\n",
       "      <th>doctor</th>\n",
       "      <th>fun</th>\n",
       "      <th>hey</th>\n",
       "      <th>how</th>\n",
       "      <th>keep</th>\n",
       "      <th>language</th>\n",
       "      <th>liverpool</th>\n",
       "      <th>natural</th>\n",
       "      <th>of</th>\n",
       "      <th>processing</th>\n",
       "      <th>signing</th>\n",
       "      <th>szoboszlai</th>\n",
       "      <th>the</th>\n",
       "      <th>there</th>\n",
       "      <th>today</th>\n",
       "      <th>weather</th>\n",
       "    </tr>\n",
       "    <tr>\n",
       "      <th>Text</th>\n",
       "      <th></th>\n",
       "      <th></th>\n",
       "      <th></th>\n",
       "      <th></th>\n",
       "      <th></th>\n",
       "      <th></th>\n",
       "      <th></th>\n",
       "      <th></th>\n",
       "      <th></th>\n",
       "      <th></th>\n",
       "      <th></th>\n",
       "      <th></th>\n",
       "      <th></th>\n",
       "      <th></th>\n",
       "      <th></th>\n",
       "      <th></th>\n",
       "      <th></th>\n",
       "      <th></th>\n",
       "      <th></th>\n",
       "      <th></th>\n",
       "      <th></th>\n",
       "      <th></th>\n",
       "    </tr>\n",
       "  </thead>\n",
       "  <tbody>\n",
       "    <tr>\n",
       "      <th>hey there how be the weather today</th>\n",
       "      <td>0.000000</td>\n",
       "      <td>0.000000</td>\n",
       "      <td>0.000000</td>\n",
       "      <td>0.000000</td>\n",
       "      <td>0.321093</td>\n",
       "      <td>0.000000</td>\n",
       "      <td>0.000000</td>\n",
       "      <td>0.000000</td>\n",
       "      <td>0.407265</td>\n",
       "      <td>0.407265</td>\n",
       "      <td>0.000000</td>\n",
       "      <td>0.000000</td>\n",
       "      <td>0.000000</td>\n",
       "      <td>0.000000</td>\n",
       "      <td>0.000000</td>\n",
       "      <td>0.000000</td>\n",
       "      <td>0.000000</td>\n",
       "      <td>0.000000</td>\n",
       "      <td>0.259952</td>\n",
       "      <td>0.407265</td>\n",
       "      <td>0.407265</td>\n",
       "      <td>0.407265</td>\n",
       "    </tr>\n",
       "    <tr>\n",
       "      <th>liverpool announce the signing of szoboszlai</th>\n",
       "      <td>0.000000</td>\n",
       "      <td>0.430037</td>\n",
       "      <td>0.000000</td>\n",
       "      <td>0.000000</td>\n",
       "      <td>0.000000</td>\n",
       "      <td>0.000000</td>\n",
       "      <td>0.000000</td>\n",
       "      <td>0.000000</td>\n",
       "      <td>0.000000</td>\n",
       "      <td>0.000000</td>\n",
       "      <td>0.000000</td>\n",
       "      <td>0.000000</td>\n",
       "      <td>0.430037</td>\n",
       "      <td>0.000000</td>\n",
       "      <td>0.430037</td>\n",
       "      <td>0.000000</td>\n",
       "      <td>0.430037</td>\n",
       "      <td>0.430037</td>\n",
       "      <td>0.274487</td>\n",
       "      <td>0.000000</td>\n",
       "      <td>0.000000</td>\n",
       "      <td>0.000000</td>\n",
       "    </tr>\n",
       "    <tr>\n",
       "      <th>an apple a day keep the doctor away</th>\n",
       "      <td>0.395056</td>\n",
       "      <td>0.000000</td>\n",
       "      <td>0.395056</td>\n",
       "      <td>0.395056</td>\n",
       "      <td>0.000000</td>\n",
       "      <td>0.395056</td>\n",
       "      <td>0.395056</td>\n",
       "      <td>0.000000</td>\n",
       "      <td>0.000000</td>\n",
       "      <td>0.000000</td>\n",
       "      <td>0.395056</td>\n",
       "      <td>0.000000</td>\n",
       "      <td>0.000000</td>\n",
       "      <td>0.000000</td>\n",
       "      <td>0.000000</td>\n",
       "      <td>0.000000</td>\n",
       "      <td>0.000000</td>\n",
       "      <td>0.000000</td>\n",
       "      <td>0.252159</td>\n",
       "      <td>0.000000</td>\n",
       "      <td>0.000000</td>\n",
       "      <td>0.000000</td>\n",
       "    </tr>\n",
       "    <tr>\n",
       "      <th>natural language processing be fun</th>\n",
       "      <td>0.000000</td>\n",
       "      <td>0.000000</td>\n",
       "      <td>0.000000</td>\n",
       "      <td>0.000000</td>\n",
       "      <td>0.366739</td>\n",
       "      <td>0.000000</td>\n",
       "      <td>0.000000</td>\n",
       "      <td>0.465162</td>\n",
       "      <td>0.000000</td>\n",
       "      <td>0.000000</td>\n",
       "      <td>0.000000</td>\n",
       "      <td>0.465162</td>\n",
       "      <td>0.000000</td>\n",
       "      <td>0.465162</td>\n",
       "      <td>0.000000</td>\n",
       "      <td>0.465162</td>\n",
       "      <td>0.000000</td>\n",
       "      <td>0.000000</td>\n",
       "      <td>0.000000</td>\n",
       "      <td>0.000000</td>\n",
       "      <td>0.000000</td>\n",
       "      <td>0.000000</td>\n",
       "    </tr>\n",
       "  </tbody>\n",
       "</table></div>"
      ],
      "text/plain": [
       "<IPython.core.display.HTML object>"
      ]
     },
     "metadata": {},
     "output_type": "display_data"
    }
   ],
   "source": [
    "# import the same dataset from the Bag of Word section\n",
    "import pandas as pd\n",
    "\n",
    "corpus = [\"Hey there, how is the weather today.\",\n",
    "          \"Liverpool announced the signing of Szoboszlai\",\n",
    "          \"An apple a day keeps the doctor away.\",\n",
    "          \"Natural Language Processing is fun!\"]\n",
    "\n",
    "text_df = pd.DataFrame({\"Text\": corpus})\n",
    "# ----------------------------------------------------\n",
    "# preprocess function copy and paste from Bag of Word section, but we DO NOT remove stop word\n",
    "import spacy\n",
    "\n",
    "nlp = spacy.load(\"en_core_web_sm\")\n",
    "\n",
    "def preprocessing(text):\n",
    "    doc = nlp(text.lower()) # lowercase\n",
    "    preprocessed_text = []\n",
    "    for token in doc:\n",
    "        if token.is_punct: # if the token is stop word/punctuation we do not add it to the list\n",
    "            continue\n",
    "        preprocessed_text.append(token.lemma_)\n",
    "    \n",
    "    return \" \".join(preprocessed_text)\n",
    "\n",
    "text_df[\"Text\"] = text_df[\"Text\"].apply(preprocessing)\n",
    "# ----------------------------------------------------\n",
    "\n",
    "# TF-IDF vectorizer\n",
    "\n",
    "from sklearn.feature_extraction.text import TfidfVectorizer\n",
    "\n",
    "tfidf_vectorizer = TfidfVectorizer()\n",
    "\n",
    "X = tfidf_vectorizer.fit_transform(text_df[\"Text\"])\n",
    "\n",
    "feature_names = tfidf_vectorizer.get_feature_names_out() # get all the unique tokens \n",
    "\n",
    "tfidf_df = pd.DataFrame(X.toarray(), columns=feature_names, index=text_df[\"Text\"]) # create a pandas dataframe\n",
    "\n",
    "# ----------------------------------------------------------\n",
    "# just a function that better display large pandas dataframe\n",
    "from IPython.display import display, HTML\n",
    "\n",
    "def create_scrollable_table(df, table_id, title):\n",
    "    html = f'<h3>{title}</h3>'\n",
    "    html += f'<div id=\"{table_id}\" style=\"height:200px; overflow:auto;\">'\n",
    "    html += df.to_html()\n",
    "    html += '</div>'\n",
    "    return html\n",
    "# ----------------------------------------------------------\n",
    "\n",
    "html_df = create_scrollable_table(tfidf_df, \n",
    "                            'TF-IDF', \n",
    "                            'TF-IDF')\n",
    "display(HTML(html_df))"
   ]
  },
  {
   "cell_type": "code",
   "execution_count": 35,
   "id": "03428954",
   "metadata": {
    "_kg_hide-input": true,
    "execution": {
     "iopub.execute_input": "2023-08-11T09:54:34.951345Z",
     "iopub.status.busy": "2023-08-11T09:54:34.950836Z",
     "iopub.status.idle": "2023-08-11T09:54:36.248558Z",
     "shell.execute_reply": "2023-08-11T09:54:36.247011Z"
    },
    "papermill": {
     "duration": 1.365672,
     "end_time": "2023-08-11T09:54:36.251192",
     "exception": false,
     "start_time": "2023-08-11T09:54:34.885520",
     "status": "completed"
    },
    "tags": []
   },
   "outputs": [
    {
     "data": {
      "text/html": [
       "<h3>Bag-of-Words</h3><div id=\"Bag-of-Words\" style=\"height:200px; overflow:auto;\"><table border=\"1\" class=\"dataframe\">\n",
       "  <thead>\n",
       "    <tr style=\"text-align: right;\">\n",
       "      <th></th>\n",
       "      <th>announce</th>\n",
       "      <th>apple</th>\n",
       "      <th>away</th>\n",
       "      <th>day</th>\n",
       "      <th>doctor</th>\n",
       "      <th>fun</th>\n",
       "      <th>hey</th>\n",
       "      <th>keep</th>\n",
       "      <th>language</th>\n",
       "      <th>liverpool</th>\n",
       "      <th>natural</th>\n",
       "      <th>processing</th>\n",
       "      <th>signing</th>\n",
       "      <th>szoboszlai</th>\n",
       "      <th>today</th>\n",
       "      <th>weather</th>\n",
       "    </tr>\n",
       "    <tr>\n",
       "      <th>Text</th>\n",
       "      <th></th>\n",
       "      <th></th>\n",
       "      <th></th>\n",
       "      <th></th>\n",
       "      <th></th>\n",
       "      <th></th>\n",
       "      <th></th>\n",
       "      <th></th>\n",
       "      <th></th>\n",
       "      <th></th>\n",
       "      <th></th>\n",
       "      <th></th>\n",
       "      <th></th>\n",
       "      <th></th>\n",
       "      <th></th>\n",
       "      <th></th>\n",
       "    </tr>\n",
       "  </thead>\n",
       "  <tbody>\n",
       "    <tr>\n",
       "      <th>hey weather today</th>\n",
       "      <td>0</td>\n",
       "      <td>0</td>\n",
       "      <td>0</td>\n",
       "      <td>0</td>\n",
       "      <td>0</td>\n",
       "      <td>0</td>\n",
       "      <td>1</td>\n",
       "      <td>0</td>\n",
       "      <td>0</td>\n",
       "      <td>0</td>\n",
       "      <td>0</td>\n",
       "      <td>0</td>\n",
       "      <td>0</td>\n",
       "      <td>0</td>\n",
       "      <td>1</td>\n",
       "      <td>1</td>\n",
       "    </tr>\n",
       "    <tr>\n",
       "      <th>liverpool announce signing szoboszlai</th>\n",
       "      <td>1</td>\n",
       "      <td>0</td>\n",
       "      <td>0</td>\n",
       "      <td>0</td>\n",
       "      <td>0</td>\n",
       "      <td>0</td>\n",
       "      <td>0</td>\n",
       "      <td>0</td>\n",
       "      <td>0</td>\n",
       "      <td>1</td>\n",
       "      <td>0</td>\n",
       "      <td>0</td>\n",
       "      <td>1</td>\n",
       "      <td>1</td>\n",
       "      <td>0</td>\n",
       "      <td>0</td>\n",
       "    </tr>\n",
       "    <tr>\n",
       "      <th>apple day keep doctor away</th>\n",
       "      <td>0</td>\n",
       "      <td>1</td>\n",
       "      <td>1</td>\n",
       "      <td>1</td>\n",
       "      <td>1</td>\n",
       "      <td>0</td>\n",
       "      <td>0</td>\n",
       "      <td>1</td>\n",
       "      <td>0</td>\n",
       "      <td>0</td>\n",
       "      <td>0</td>\n",
       "      <td>0</td>\n",
       "      <td>0</td>\n",
       "      <td>0</td>\n",
       "      <td>0</td>\n",
       "      <td>0</td>\n",
       "    </tr>\n",
       "    <tr>\n",
       "      <th>natural language processing fun</th>\n",
       "      <td>0</td>\n",
       "      <td>0</td>\n",
       "      <td>0</td>\n",
       "      <td>0</td>\n",
       "      <td>0</td>\n",
       "      <td>1</td>\n",
       "      <td>0</td>\n",
       "      <td>0</td>\n",
       "      <td>1</td>\n",
       "      <td>0</td>\n",
       "      <td>1</td>\n",
       "      <td>1</td>\n",
       "      <td>0</td>\n",
       "      <td>0</td>\n",
       "      <td>0</td>\n",
       "      <td>0</td>\n",
       "    </tr>\n",
       "  </tbody>\n",
       "</table></div>"
      ],
      "text/plain": [
       "<IPython.core.display.HTML object>"
      ]
     },
     "metadata": {},
     "output_type": "display_data"
    }
   ],
   "source": [
    "# Copy of what we did in Bag of Word Section\n",
    "\n",
    "import pandas as pd\n",
    "\n",
    "corpus = [\"Hey there, how is the weather today.\",\n",
    "          \"Liverpool announced the signing of Szoboszlai\",\n",
    "          \"An apple a day keeps the doctor away.\",\n",
    "          \"Natural Language Processing is fun!\"]\n",
    "\n",
    "text_df = pd.DataFrame({\"Text\": corpus})\n",
    "# ----------------------------------------------------\n",
    "# preprocess function copy and paste from Bag of Word section\n",
    "import spacy\n",
    "\n",
    "nlp = spacy.load(\"en_core_web_sm\")\n",
    "\n",
    "def preprocessing(text):\n",
    "    doc = nlp(text.lower()) # lowercase\n",
    "    preprocessed_text = []\n",
    "    for token in doc:\n",
    "        if token.is_punct or token.is_stop: # if the token is stop word/punctuation we do not add it to the list\n",
    "            continue\n",
    "        preprocessed_text.append(token.lemma_)\n",
    "    \n",
    "    return \" \".join(preprocessed_text)\n",
    "\n",
    "text_df[\"Text\"] = text_df[\"Text\"].apply(preprocessing)\n",
    "# ----------------------------------------------------\n",
    "from sklearn.feature_extraction.text import CountVectorizer\n",
    "\n",
    "cv = CountVectorizer()\n",
    "X = cv.fit_transform(text_df['Text'])\n",
    "\n",
    "feature_names = cv.get_feature_names_out() # get all the unique tokens \n",
    "\n",
    "df = pd.DataFrame(X.toarray(), columns=feature_names, index=text_df['Text']) # create a pandas dataframe\n",
    "\n",
    "\n",
    "# ----------------------------------------------------------\n",
    "# just a function that better display large pandas dataframe\n",
    "from IPython.display import display, HTML\n",
    "\n",
    "def create_scrollable_table(df, table_id, title):\n",
    "    html = f'<h3>{title}</h3>'\n",
    "    html += f'<div id=\"{table_id}\" style=\"height:200px; overflow:auto;\">'\n",
    "    html += df.to_html()\n",
    "    html += '</div>'\n",
    "    return html\n",
    "# ----------------------------------------------------------\n",
    "\n",
    "html_df = create_scrollable_table(df, \n",
    "                            'Bag-of-Words', \n",
    "                            'Bag-of-Words')\n",
    "display(HTML(html_df))"
   ]
  },
  {
   "cell_type": "markdown",
   "id": "6b0a74fd",
   "metadata": {
    "papermill": {
     "duration": 0.061151,
     "end_time": "2023-08-11T09:54:36.373045",
     "exception": false,
     "start_time": "2023-08-11T09:54:36.311894",
     "status": "completed"
    },
    "tags": []
   },
   "source": [
    "Now you see the purpose and power of TF-IDF, it's purpose is more clear when you work on larger dataset. But you can see that the weighting on words like 'the' is relatively lower compare to other words for the result in TF-IDF. While for bag of words, it has the same weight for all the words. (Noted that if the word appear twice in a row for bag of word, the weight will be 2, it appears that all weight is 1 right now since all word only appeared once in each df)"
   ]
  },
  {
   "cell_type": "markdown",
   "id": "4337cd97",
   "metadata": {
    "papermill": {
     "duration": 0.060292,
     "end_time": "2023-08-11T09:54:36.494592",
     "exception": false,
     "start_time": "2023-08-11T09:54:36.434300",
     "status": "completed"
    },
    "tags": []
   },
   "source": [
    "# <a id=\"word-embeddings\"></a><div style=\"text-align:center; font-size:40px;\"><span style=\"color:#3A506B\">🌟 Word Embeddings 🌟</span></div>"
   ]
  },
  {
   "cell_type": "markdown",
   "id": "996407ea",
   "metadata": {
    "papermill": {
     "duration": 0.060065,
     "end_time": "2023-08-11T09:54:36.615160",
     "exception": false,
     "start_time": "2023-08-11T09:54:36.555095",
     "status": "completed"
    },
    "tags": []
   },
   "source": [
    "<div style=\"width:100%;text-align: center;\"> <img align=middle src=\"https://i.imgur.com/FFdoj7s.png\" style=\"height:400px;\"> </div>"
   ]
  },
  {
   "cell_type": "markdown",
   "id": "1f94028f",
   "metadata": {
    "papermill": {
     "duration": 0.060072,
     "end_time": "2023-08-11T09:54:36.735818",
     "exception": false,
     "start_time": "2023-08-11T09:54:36.675746",
     "status": "completed"
    },
    "tags": []
   },
   "source": [
    "❗ *Word embedding or word vector is an approach with which we represent documents and words. It is defined as a **numeric vector input that allows words with similar meanings to have the same representation**. It can approximate meaning and represent a word in a lower dimensional space.*\n",
    "\n",
    "Probably THE MOST IMPORTANT section throughout the notebook and in feature engineering process in NLP. Word embedding is a very important concept in NLP which is basically a way to 'vectorize' words into word vectors (if you don't know what's a vector, imagine it as a one dimensional array).\n",
    "\n",
    "But the concept of word embedding is not simply to assign a random vector to a word, but assign the vector to each word in a way so that words of similar meaning will have a similar vector and have a closer distance in the vector space.\n",
    "\n",
    "In fact, techniques we have mentioned just now like [TF-IDF](#TF-IDF) is in fact a form of word embedding, but this section and the following sections will focus on more advance and complex word embedding strategies and methods particularly involving deep learning. \n",
    "<br>\n",
    "\n",
    "<div style=\"width:100%;text-align: center;\"> <img align=middle src=\"https://i.imgur.com/jsSEAHK.png\" style=\"height:300px;\"> </div>\n",
    "\n",
    "<br>\n",
    "\n",
    "But before we dive into the concepts and theory of word embeddings its related concepts and techniques like cosine similarity, I want to take another approach and show you how a word vector look like using spaCy."
   ]
  },
  {
   "cell_type": "markdown",
   "id": "ee59ab25",
   "metadata": {
    "papermill": {
     "duration": 0.060125,
     "end_time": "2023-08-11T09:54:36.858959",
     "exception": false,
     "start_time": "2023-08-11T09:54:36.798834",
     "status": "completed"
    },
    "tags": []
   },
   "source": [
    "### 🧑‍💻 Let's code "
   ]
  },
  {
   "cell_type": "code",
   "execution_count": 36,
   "id": "0c2dfea7",
   "metadata": {
    "execution": {
     "iopub.execute_input": "2023-08-11T09:54:36.984056Z",
     "iopub.status.busy": "2023-08-11T09:54:36.982424Z",
     "iopub.status.idle": "2023-08-11T09:54:40.348308Z",
     "shell.execute_reply": "2023-08-11T09:54:40.346570Z"
    },
    "papermill": {
     "duration": 3.4325,
     "end_time": "2023-08-11T09:54:40.351861",
     "exception": false,
     "start_time": "2023-08-11T09:54:36.919361",
     "status": "completed"
    },
    "tags": []
   },
   "outputs": [
    {
     "name": "stdout",
     "output_type": "stream",
     "text": [
      "Does the word Natural have a vector in spacy? True\n",
      "Does the word Language have a vector in spacy? True\n",
      "Does the word Processing have a vector in spacy? True\n",
      "Does the word is have a vector in spacy? True\n",
      "Does the word fun have a vector in spacy? True\n",
      "Does the word asdasdasd have a vector in spacy? False\n"
     ]
    }
   ],
   "source": [
    "import spacy\n",
    "\n",
    "nlp = spacy.load(\"en_core_web_lg\")\n",
    "\n",
    "doc = nlp(\"Natural Language Processing is fun asdasdasd\")\n",
    "\n",
    "for token in doc:\n",
    "    print(f\"Does the word {token} have a vector in spacy? {token.has_vector}\")"
   ]
  },
  {
   "cell_type": "code",
   "execution_count": 37,
   "id": "77ecbd42",
   "metadata": {
    "execution": {
     "iopub.execute_input": "2023-08-11T09:54:40.479088Z",
     "iopub.status.busy": "2023-08-11T09:54:40.478696Z",
     "iopub.status.idle": "2023-08-11T09:54:40.490377Z",
     "shell.execute_reply": "2023-08-11T09:54:40.488941Z"
    },
    "papermill": {
     "duration": 0.07797,
     "end_time": "2023-08-11T09:54:40.493556",
     "exception": false,
     "start_time": "2023-08-11T09:54:40.415586",
     "status": "completed"
    },
    "tags": []
   },
   "outputs": [
    {
     "data": {
      "text/plain": [
       "array([-1.6209e+00, -4.2642e+00,  2.4627e+00, -8.7363e-01,  7.3510e-01,\n",
       "       -1.2308e+00,  1.0982e+00, -3.9754e-01, -1.7352e+00,  1.0502e+00,\n",
       "        1.4811e+00,  2.1259e+00, -3.6473e+00, -1.3301e+00,  1.6452e+00,\n",
       "        1.6438e+00,  2.3485e+00,  1.6963e+00, -2.4390e+00, -4.2472e+00,\n",
       "       -2.7240e+00,  3.0848e+00, -2.1869e+00,  4.6633e+00,  2.4792e+00,\n",
       "       -1.3560e+00,  2.1133e+00, -3.9983e+00, -8.5734e-01, -4.3072e-01,\n",
       "       -6.2560e-01, -2.8925e+00, -2.0539e-01,  2.5628e+00, -5.8583e+00,\n",
       "       -5.8432e+00,  1.2105e+00,  1.2293e+00, -4.8879e+00,  2.1147e-01,\n",
       "        1.3969e+00, -1.9619e+00, -1.4299e+00,  8.8560e-01, -2.2521e+00,\n",
       "        5.8442e+00,  4.8863e+00,  5.6117e-01,  3.0167e+00, -5.3299e+00,\n",
       "        1.2969e+00,  1.2631e-01, -1.2806e+00,  3.0387e+00, -2.1331e-01,\n",
       "       -7.0597e-01, -3.4147e+00,  5.3751e-01, -2.2919e+00, -1.0904e+00,\n",
       "       -1.0717e+00, -3.8249e+00,  1.4455e+00,  2.0177e+00,  2.0078e+00,\n",
       "       -1.0829e+00, -3.1302e+00, -3.1663e-01,  5.8296e+00, -4.2118e+00,\n",
       "       -1.9953e+00, -3.5881e-02, -2.9315e+00, -1.6552e+00, -1.3832e+00,\n",
       "       -1.9949e+00, -4.6480e+00,  9.7992e-01,  5.9605e-03,  6.0209e+00,\n",
       "       -2.7420e-01,  3.3124e+00, -3.6728e+00, -1.9955e+00, -3.7864e+00,\n",
       "        1.9517e+00, -4.0983e+00, -7.5781e-02, -1.2098e+00,  8.2342e-01,\n",
       "        2.4037e+00,  3.2379e-01,  2.1618e+00,  5.1678e-01, -1.1527e+00,\n",
       "       -1.0616e+00, -1.9576e+00,  2.6197e+00,  2.5630e+00,  1.7385e-01,\n",
       "        8.8340e-01, -2.3144e+00,  5.4746e-01,  3.4025e+00, -2.1647e+00,\n",
       "        2.1994e+00, -1.1526e-01, -3.0178e+00,  1.3999e+00, -1.8079e+00,\n",
       "        2.8649e+00, -2.8151e-01, -4.1587e+00, -3.1073e+00, -1.5021e+00,\n",
       "        1.1237e+00,  1.1528e+00,  6.9207e-01, -8.3222e+00, -2.3675e+00,\n",
       "        1.3900e+00, -1.1711e+00,  2.3686e+00, -5.4060e+00, -2.4328e+00,\n",
       "       -4.1308e+00, -2.8748e+00, -3.0093e+00,  4.5271e+00, -1.7126e+00,\n",
       "       -2.3935e+00,  2.8302e+00,  3.3230e+00,  2.0673e+00, -3.7364e+00,\n",
       "       -5.3977e-01, -1.3410e+00,  1.8624e-02, -2.6109e+00,  2.0205e+00,\n",
       "        3.0294e+00, -1.0207e+00, -4.1563e+00,  2.6466e+00,  9.9714e-01,\n",
       "       -2.8366e-01, -3.5185e-01,  3.3260e+00,  9.7550e-01,  1.3008e+00,\n",
       "        3.1295e+00,  1.3201e+00, -1.3294e+00, -5.0171e+00, -1.6367e+00,\n",
       "        1.2302e+00,  2.0592e+00, -4.0621e+00,  7.0472e-01, -2.1723e-01,\n",
       "        1.2581e+00, -8.1675e-01,  4.6146e+00,  2.9505e+00,  1.9339e+00,\n",
       "       -2.1187e+00, -8.9446e-01, -5.6175e-01,  5.1397e+00,  2.8060e-01,\n",
       "       -3.4728e+00, -2.8275e+00,  3.0944e+00,  3.5677e-01, -1.1877e+00,\n",
       "       -2.3724e+00,  2.5417e+00,  8.0606e-01, -8.3459e-01,  8.1858e-01,\n",
       "       -1.0555e+00, -8.2218e-01,  1.1344e+00, -3.0724e+00, -3.8271e-01,\n",
       "       -1.5318e+00,  2.9766e-01,  1.4450e+00, -6.2743e-01,  2.7314e+00,\n",
       "        8.5800e-01, -3.5714e+00,  3.4116e-01, -2.1262e+00,  7.2500e-01,\n",
       "        2.8645e+00, -3.5599e+00,  1.5925e+00,  1.9793e-04, -1.6348e+00,\n",
       "        1.0988e+00, -3.0017e+00, -1.2319e+00,  6.0720e-01,  5.6213e+00,\n",
       "       -4.3551e+00, -6.3383e+00,  1.5395e+00,  2.1339e+00, -4.2565e+00,\n",
       "        2.0756e+00,  1.3922e+00, -2.2268e-04,  1.0594e+00, -4.9425e+00,\n",
       "        1.0606e+00,  3.8130e+00, -3.1420e+00, -1.2584e+00,  1.8955e-01,\n",
       "        2.2325e+00,  1.9351e+00, -5.4118e+00, -1.7292e+00,  1.0900e-02,\n",
       "       -3.0009e-01,  7.9210e-01,  2.9058e+00,  1.9106e+00,  1.5769e+00,\n",
       "        1.7735e+00,  3.4219e+00,  5.0043e-02,  2.6129e+00,  2.2253e+00,\n",
       "       -1.1729e+00,  1.5727e-01,  2.6524e+00,  1.3345e+00, -1.8003e+00,\n",
       "       -8.1750e-01,  1.0562e+00,  5.6902e+00,  2.2176e+00, -2.5116e+00,\n",
       "        5.4022e+00, -9.4124e-01,  3.1226e+00, -9.3300e-01, -9.9275e-01,\n",
       "        9.8880e-01,  5.5531e-01, -4.9224e-01, -3.3339e+00, -1.1779e+00,\n",
       "       -4.8862e+00, -3.8684e-01,  2.7388e+00, -9.0740e-01, -2.2699e+00,\n",
       "       -1.0681e+00, -3.9095e+00,  2.6228e+00,  2.2522e+00, -5.5166e-01,\n",
       "       -2.3282e+00, -1.9741e+00,  7.4659e-01, -3.7854e+00, -2.0206e+00,\n",
       "       -9.9948e-02,  5.6917e+00,  5.0359e+00, -1.0585e+00,  8.1430e-01,\n",
       "       -9.2595e-01, -2.9764e-01, -2.0574e+00, -1.4594e+00, -1.8023e-01,\n",
       "        1.1155e+00, -5.7191e-01,  9.0030e-01, -6.6178e+00, -2.7962e+00,\n",
       "       -5.3210e+00,  5.7338e-01, -4.1418e-01,  1.4151e+00,  2.7762e+00,\n",
       "       -6.6438e-01, -8.0946e-01,  1.2626e+00, -3.7339e-02, -2.0134e+00,\n",
       "       -1.5832e+00,  1.8674e+00, -7.2049e+00, -4.1533e+00, -8.7940e-01],\n",
       "      dtype=float32)"
      ]
     },
     "execution_count": 37,
     "metadata": {},
     "output_type": "execute_result"
    }
   ],
   "source": [
    "# Vector of the word \"Natural\"\n",
    "doc[0].vector"
   ]
  },
  {
   "cell_type": "code",
   "execution_count": 38,
   "id": "7e158fbe",
   "metadata": {
    "execution": {
     "iopub.execute_input": "2023-08-11T09:54:40.623562Z",
     "iopub.status.busy": "2023-08-11T09:54:40.623145Z",
     "iopub.status.idle": "2023-08-11T09:54:40.630890Z",
     "shell.execute_reply": "2023-08-11T09:54:40.629511Z"
    },
    "papermill": {
     "duration": 0.075891,
     "end_time": "2023-08-11T09:54:40.633563",
     "exception": false,
     "start_time": "2023-08-11T09:54:40.557672",
     "status": "completed"
    },
    "tags": []
   },
   "outputs": [
    {
     "data": {
      "text/plain": [
       "(300,)"
      ]
     },
     "execution_count": 38,
     "metadata": {},
     "output_type": "execute_result"
    }
   ],
   "source": [
    "doc[0].vector.shape"
   ]
  },
  {
   "cell_type": "markdown",
   "id": "e9ba23ac",
   "metadata": {
    "papermill": {
     "duration": 0.06646,
     "end_time": "2023-08-11T09:54:40.765395",
     "exception": false,
     "start_time": "2023-08-11T09:54:40.698935",
     "status": "completed"
    },
    "tags": []
   },
   "source": [
    "In fact, it is very common for word vector to have a length of 300.\n",
    "\n",
    "Now you might be confused, where does the vectors come from? For now, all you need to know is that the spaCy pipeline provide you with the word vectors of the tokens, which is, they have build models and algorithms to train and got the word vectors and allow users like us to use these vectors."
   ]
  },
  {
   "cell_type": "code",
   "execution_count": 39,
   "id": "1380a7b0",
   "metadata": {
    "execution": {
     "iopub.execute_input": "2023-08-11T09:54:40.899429Z",
     "iopub.status.busy": "2023-08-11T09:54:40.898910Z",
     "iopub.status.idle": "2023-08-11T09:54:40.917508Z",
     "shell.execute_reply": "2023-08-11T09:54:40.915649Z"
    },
    "papermill": {
     "duration": 0.088448,
     "end_time": "2023-08-11T09:54:40.920654",
     "exception": false,
     "start_time": "2023-08-11T09:54:40.832206",
     "status": "completed"
    },
    "tags": []
   },
   "outputs": [
    {
     "name": "stdout",
     "output_type": "stream",
     "text": [
      "Similarity between good and good: 1.0\n",
      "Similarity between good and happy: 0.5769590735435486\n",
      "Similarity between good and sad: 0.30881333351135254\n",
      "Similarity between good and bad: 0.7391888499259949\n"
     ]
    }
   ],
   "source": [
    "doc = nlp(\"good happy sad bad\")\n",
    "\n",
    "good = doc[0]\n",
    "\n",
    "for token in doc:\n",
    "    print(f\"Similarity between good and {token}: {token.similarity(good)}\")"
   ]
  },
  {
   "cell_type": "markdown",
   "id": "0387acf5",
   "metadata": {
    "papermill": {
     "duration": 0.078736,
     "end_time": "2023-08-11T09:54:41.068247",
     "exception": false,
     "start_time": "2023-08-11T09:54:40.989511",
     "status": "completed"
    },
    "tags": []
   },
   "source": [
    "🌟 It is important to note that when we say that two word embeddings are similar, we mean that **the two vectors representing the embeddings are close to each other in some sense, such as geometric distance or cosine similarity**. We are **not only refering to how similar is their meaning**, but depending on the training method, it can be the likelihood of two words to appear in the same context."
   ]
  },
  {
   "cell_type": "markdown",
   "id": "e2fafb97",
   "metadata": {
    "papermill": {
     "duration": 0.064896,
     "end_time": "2023-08-11T09:54:41.198912",
     "exception": false,
     "start_time": "2023-08-11T09:54:41.134016",
     "status": "completed"
    },
    "tags": []
   },
   "source": [
    "# <a id=\"cosine-similarity\"></a><div style=\"text-align:center; font-size:40px;\"><span style=\"color:#3A506B\">🌟 Cosine Similarity 🌟</span></div>"
   ]
  },
  {
   "cell_type": "markdown",
   "id": "346fa6be",
   "metadata": {
    "papermill": {
     "duration": 0.067748,
     "end_time": "2023-08-11T09:54:41.332529",
     "exception": false,
     "start_time": "2023-08-11T09:54:41.264781",
     "status": "completed"
    },
    "tags": []
   },
   "source": [
    "<div style=\"width:100%;text-align: center;\"> <img align=middle src=\"https://i.imgur.com/GhmO2iq.jpg\" style=\"\"> </div>"
   ]
  },
  {
   "cell_type": "markdown",
   "id": "7949565b",
   "metadata": {
    "papermill": {
     "duration": 0.064025,
     "end_time": "2023-08-11T09:54:41.461513",
     "exception": false,
     "start_time": "2023-08-11T09:54:41.397488",
     "status": "completed"
    },
    "tags": []
   },
   "source": [
    "We have mentioned a lot about cosine similarity in our previous section. But what exactly is cosine similarity? \n",
    "\n",
    "❗ *Cosine similarity **measures the similarity between two vectors of an inner product space**. It is **measured by the cosine of the angle between two vectors and determines whether two vectors are pointing in roughly the same direction**. It is often used to measure document similarity in text analysis.*\n",
    "\n",
    "### The content of this section is heavily inspired by this video by \n",
    "\n",
    "### StatQuest: https://www.youtube.com/watch?v=e9U0QAFbfLI \n",
    "\n",
    "### It is highly recommended that you watch this 10 minutes video for awesome animations and a more detailed explanations. Below will be an extraction of content from the video.\n",
    "\n",
    "One of the main feature of cosine similarity is that it is a metric that can be used regardless of how large and high dimension the dataset is, that is, we can still compute the angle between two words no matter how many words and dimensionality there are, unlike other metrics such as the Euclidean distance approach (calculate distance btween two points) which may not work well when the dataset and dimension is huge. \n",
    "\n",
    "Before we dive into the maths, let's see a very simple example to let us have an intuitive understanding of how cosine similarity work with the following example from the StatQuest video."
   ]
  },
  {
   "cell_type": "markdown",
   "id": "39f5fbda",
   "metadata": {
    "papermill": {
     "duration": 0.063977,
     "end_time": "2023-08-11T09:54:41.589851",
     "exception": false,
     "start_time": "2023-08-11T09:54:41.525874",
     "status": "completed"
    },
    "tags": []
   },
   "source": [
    "### ✍ Example (Image and example taken from the StatQuest video)\n",
    "\n",
    "In particular, let us explore how do we find the cosine similarity between the phrase \"Hello\" and \"Hello World\". \n",
    "\n",
    "**1. The first step we would do is to create a countvectorizer similar to the idea of [bag of words](#bag-of-words).**\n",
    "\n",
    "<div style=\"width:100%;text-align: center;\"> <img align=middle src=\"https://i.imgur.com/OhZfQkx.png\" style=\"height: 150px;\"> </div>\n",
    "\n",
    "<br>\n",
    "\n",
    "**2. Now we plot it on a 2D graph, with the value of axis being each unique token**\n",
    "\n",
    "<div style=\"width:100%;text-align: center;\"> <img align=middle src=\"https://i.imgur.com/ijzhyc2.png\" style=\"height: 300px;\"> </div>\n",
    "\n",
    "**3. Calculate the cosine similarity, in this case, it is simply the cosine of the angle between the lines of the two point to the origin**\n",
    "\n",
    "<div style=\"width:100%;text-align: center;\"> <img align=middle src=\"https://i.imgur.com/FWGI09l.png\" style=\"height: 300px;\"> </div>\n",
    "\n",
    "I hope you grasp the general idea behind cosine similarity with these awesome animations. In fact, this following example illustrate the aforementioned point that 'it is a metric that can be used regardless of how large and high dimension the dataset is' which tackle the flaws of metrics such as Eucliden distance approach.\n",
    "\n",
    "Let's see this example which demonstrate the cosine similarity of the phrase \"Hello Hello Hello\" and \"Hello World\".\n",
    "\n",
    "<div style=\"width:100%;text-align: center;\"> <img align=middle src=\"https://i.imgur.com/5DoUown.png\" style=\"height: 300px;\"> </div>\n",
    "\n",
    "<br>\n",
    "\n",
    "This demonstrates that cosine similarity *is determined entirely by the angle between the lines and not by the lengths of the line*.\n",
    "\n",
    "<div style=\"width:100%;text-align: center;\"> <img align=middle src=\"https://i.imgur.com/5DoUown.png\" style=\"height: 300px;\"> </div>"
   ]
  },
  {
   "cell_type": "markdown",
   "id": "e61871f5",
   "metadata": {
    "papermill": {
     "duration": 0.06321,
     "end_time": "2023-08-11T09:54:41.716728",
     "exception": false,
     "start_time": "2023-08-11T09:54:41.653518",
     "status": "completed"
    },
    "tags": []
   },
   "source": [
    "### ❗ The greater the value of cosine similarity, the more similar two vectors are to each other\n",
    "\n",
    "(in general, value of cosine similarity can be between -1 and 1, but for word embedding, it is always positive for some reason: https://vaibhavgarg1982.medium.com/why-are-cosine-similarities-of-text-embeddings-almost-always-positive-6bd31eaee4d5#:~:text=Going%20by%20the%20definition%20of,the%20smallest%20score%20was%200.4522.)\n",
    "\n",
    "The above examples clearly explained the basic concept of cosine similarity. But it will not work when there are more than 2 unique tokens, ie. when there is a higher dimension. To deal with this problem, we need to utilize the mathematical equation of cosine similarity.\n",
    "\n",
    "<div style=\"width:100%;text-align: center;\"> <img align=middle src=\"https://i.imgur.com/IxqVJiK.png\" style=\"height: 200px;\"> </div>\n"
   ]
  },
  {
   "cell_type": "markdown",
   "id": "2e9444c9",
   "metadata": {
    "papermill": {
     "duration": 0.065767,
     "end_time": "2023-08-11T09:54:41.846433",
     "exception": false,
     "start_time": "2023-08-11T09:54:41.780666",
     "status": "completed"
    },
    "tags": []
   },
   "source": [
    "> cosine similarity = dot product of AxB / magnitude of A x magniture of B\n",
    "\n",
    "Let's see the formula in action with an example with these two phrases\n",
    "\n",
    "> **1. natural language processing is fun** <br>\n",
    "> **2. machine learning is fun**"
   ]
  },
  {
   "cell_type": "code",
   "execution_count": 40,
   "id": "91211d6a",
   "metadata": {
    "_kg_hide-input": true,
    "execution": {
     "iopub.execute_input": "2023-08-11T09:54:41.979092Z",
     "iopub.status.busy": "2023-08-11T09:54:41.978671Z",
     "iopub.status.idle": "2023-08-11T09:54:41.997542Z",
     "shell.execute_reply": "2023-08-11T09:54:41.996103Z"
    },
    "papermill": {
     "duration": 0.086639,
     "end_time": "2023-08-11T09:54:42.000209",
     "exception": false,
     "start_time": "2023-08-11T09:54:41.913570",
     "status": "completed"
    },
    "tags": []
   },
   "outputs": [
    {
     "data": {
      "text/html": [
       "<div>\n",
       "<style scoped>\n",
       "    .dataframe tbody tr th:only-of-type {\n",
       "        vertical-align: middle;\n",
       "    }\n",
       "\n",
       "    .dataframe tbody tr th {\n",
       "        vertical-align: top;\n",
       "    }\n",
       "\n",
       "    .dataframe thead th {\n",
       "        text-align: right;\n",
       "    }\n",
       "</style>\n",
       "<table border=\"1\" class=\"dataframe\">\n",
       "  <thead>\n",
       "    <tr style=\"text-align: right;\">\n",
       "      <th></th>\n",
       "      <th>fun</th>\n",
       "      <th>is</th>\n",
       "      <th>language</th>\n",
       "      <th>learning</th>\n",
       "      <th>machine</th>\n",
       "      <th>natural</th>\n",
       "      <th>processing</th>\n",
       "    </tr>\n",
       "    <tr>\n",
       "      <th>Text</th>\n",
       "      <th></th>\n",
       "      <th></th>\n",
       "      <th></th>\n",
       "      <th></th>\n",
       "      <th></th>\n",
       "      <th></th>\n",
       "      <th></th>\n",
       "    </tr>\n",
       "  </thead>\n",
       "  <tbody>\n",
       "    <tr>\n",
       "      <th>natural language processing is fun</th>\n",
       "      <td>1</td>\n",
       "      <td>1</td>\n",
       "      <td>1</td>\n",
       "      <td>0</td>\n",
       "      <td>0</td>\n",
       "      <td>1</td>\n",
       "      <td>1</td>\n",
       "    </tr>\n",
       "    <tr>\n",
       "      <th>machine learning is fun</th>\n",
       "      <td>1</td>\n",
       "      <td>1</td>\n",
       "      <td>0</td>\n",
       "      <td>1</td>\n",
       "      <td>1</td>\n",
       "      <td>0</td>\n",
       "      <td>0</td>\n",
       "    </tr>\n",
       "  </tbody>\n",
       "</table>\n",
       "</div>"
      ],
      "text/plain": [
       "                                    fun  is  language  learning  machine  \\\n",
       "Text                                                                       \n",
       "natural language processing is fun    1   1         1         0        0   \n",
       "machine learning is fun               1   1         0         1        1   \n",
       "\n",
       "                                    natural  processing  \n",
       "Text                                                     \n",
       "natural language processing is fun        1           1  \n",
       "machine learning is fun                   0           0  "
      ]
     },
     "execution_count": 40,
     "metadata": {},
     "output_type": "execute_result"
    }
   ],
   "source": [
    "# Implement count vectorizer (for implementation details, view Bag of Word section)\n",
    "\n",
    "import pandas as pd\n",
    "\n",
    "corpus = [\"natural language processing is fun\",\n",
    "          \"machine learning is fun\"]\n",
    "\n",
    "text_df = pd.DataFrame({\"Text\": corpus})\n",
    "\n",
    "from sklearn.feature_extraction.text import CountVectorizer\n",
    "\n",
    "cv = CountVectorizer()\n",
    "X = cv.fit_transform(text_df['Text'])\n",
    "\n",
    "feature_names = cv.get_feature_names_out() # get all the unique tokens \n",
    "\n",
    "df = pd.DataFrame(X.toarray(), columns=feature_names, index=text_df['Text']) # create a pandas dataframe\n",
    "\n",
    "df"
   ]
  },
  {
   "cell_type": "markdown",
   "id": "ee5b4220",
   "metadata": {
    "papermill": {
     "duration": 0.06371,
     "end_time": "2023-08-11T09:54:42.131654",
     "exception": false,
     "start_time": "2023-08-11T09:54:42.067944",
     "status": "completed"
    },
    "tags": []
   },
   "source": [
    "Now let's see how the maths work, let's first focus on the **numerator**\n",
    "\n",
    "<div style=\"width:100%;text-align: center;\"> <img align=middle src=\"https://i.imgur.com/I6XXRjc.png\" style=\"height: 100px;\"> </div>\n",
    "\n",
    "If you know your linear algebra, you will know that this is simply the dot product of vector A and vector B, ie. the dot product of \\[1,1,1,0,0,1,1\\] and \\[1,1,0,1,1,0,0\\], which if we expand it, it will become\n",
    "\n",
    "> (1x1) + (1x1) + (1x0) + (0x1) + (0x1) + (1x0) + (1x0)\n",
    "\n",
    "Now you seeing where it goes right? The first (1x1) corresponds to the word 'fun' where this one in (*1*x1) is the corresponding value of vector A and the one in (1x*1*) corresponding value of vector B for the word 'fun'. We then do summation all the unique token to get the final result.\n",
    "\n",
    "Now let us look at the **denominator**\n",
    "\n",
    "<div style=\"width:100%;text-align: center;\"> <img align=middle src=\"https://i.imgur.com/EGPoj5Z.png\" style=\"height: 100px;\"> </div>\n",
    "\n",
    "\n",
    "Now that you have an idea of what the notations refers to, this should be very easy, in this example, this will simply be\n",
    "\n",
    "> $\\sqrt{(1^2 + 1^2 + 1^2 + 0^2 + 0^2 + 1^2 + 1^2)}$ x $\\sqrt{(1^2 + 1^2 + 0^2 + 1^2 + 1^2 + 0^2 + 0^2)}$\n",
    "\n",
    "Where the first part of the square root is the summation of each value in vector A and similar for vector B\n",
    "\n",
    "\n",
    "So the overall equation will be \n",
    "\n",
    "$\\frac{(1*1) + (1*1) + (1*0) + (0*1) + (0*1) + (1*0) + (1*0)}{\\sqrt{(1^2 + 1^2 + 1^2 + 0^2 + 0^2 + 1^2 + 1^2)}  *  \\sqrt{(1^2 + 1^2 + 0^2 + 1^2 + 1^2 + 0^2 + 0^2)}}$\n",
    "\n",
    "And if you do the maths the answer will be roughly equal to 0.4472\n",
    "\n",
    "In fact we can easily verify it using sklearn"
   ]
  },
  {
   "cell_type": "markdown",
   "id": "10eb2b04",
   "metadata": {
    "papermill": {
     "duration": 0.06305,
     "end_time": "2023-08-11T09:54:42.257941",
     "exception": false,
     "start_time": "2023-08-11T09:54:42.194891",
     "status": "completed"
    },
    "tags": []
   },
   "source": [
    "### 🧑‍💻 Let's code \n",
    "\n",
    "Using cosine_similarity in Python is a relatively simple task, you simply need to import it from the sklearn library"
   ]
  },
  {
   "cell_type": "code",
   "execution_count": 41,
   "id": "6edf4720",
   "metadata": {
    "execution": {
     "iopub.execute_input": "2023-08-11T09:54:42.389079Z",
     "iopub.status.busy": "2023-08-11T09:54:42.388313Z",
     "iopub.status.idle": "2023-08-11T09:54:42.398943Z",
     "shell.execute_reply": "2023-08-11T09:54:42.398061Z"
    },
    "papermill": {
     "duration": 0.079344,
     "end_time": "2023-08-11T09:54:42.401195",
     "exception": false,
     "start_time": "2023-08-11T09:54:42.321851",
     "status": "completed"
    },
    "tags": []
   },
   "outputs": [
    {
     "data": {
      "text/plain": [
       "array([[0.4472136]])"
      ]
     },
     "execution_count": 41,
     "metadata": {},
     "output_type": "execute_result"
    }
   ],
   "source": [
    "from sklearn.metrics.pairwise import cosine_similarity\n",
    "import numpy as np\n",
    "\n",
    "A = np.array([1,1,1,0,0,1,1]) # natural language processing is fun\n",
    "B = np.array([1,1,0,1,1,0,0]) # machine learning is fun\n",
    "\n",
    "cosine_similarity([A], [B])"
   ]
  },
  {
   "cell_type": "markdown",
   "id": "c0b8f2db",
   "metadata": {
    "papermill": {
     "duration": 0.061587,
     "end_time": "2023-08-11T09:54:42.526363",
     "exception": false,
     "start_time": "2023-08-11T09:54:42.464776",
     "status": "completed"
    },
    "tags": []
   },
   "source": [
    "# <a id=\"arithmetic-of-word-embeddings\"></a><div style=\"text-align:center; font-size:40px;\"><span style=\"color:#3A506B\">Arithmetic of Word Embeddings</span></div>"
   ]
  },
  {
   "cell_type": "markdown",
   "id": "fa5e4663",
   "metadata": {
    "papermill": {
     "duration": 0.062337,
     "end_time": "2023-08-11T09:54:42.651025",
     "exception": false,
     "start_time": "2023-08-11T09:54:42.588688",
     "status": "completed"
    },
    "tags": []
   },
   "source": [
    "<div style=\"width:100%;text-align: center;\"> <img align=middle src=\"https://i.imgur.com/6Z1kIR8.png\" style=\"height: 350px;\"> </div>\n"
   ]
  },
  {
   "cell_type": "markdown",
   "id": "daa0171d",
   "metadata": {
    "papermill": {
     "duration": 0.064317,
     "end_time": "2023-08-11T09:54:42.778290",
     "exception": false,
     "start_time": "2023-08-11T09:54:42.713973",
     "status": "completed"
    },
    "tags": []
   },
   "source": [
    "Before we move on with more fancy concepts and algorithms, I want to show you some awesome thing word vectors can do, which is the arithmetic of word embeddings.\n",
    "\n",
    "As we mentioned, word embeddings are just some vectors, so naturally we can do some kind of mathematical operations with them. The beauty of word embeddings lies exactly here, let's take an example from the image above.\n",
    "\n",
    "### ✍ Example: King 🤴 - Man 👱‍♂️ + Woman 👩 = Queen 👸\n",
    "\n",
    "> Vector of King: \\[0,0,1\\] <br>\n",
    "> Vector of Man: \\[0,0,0\\] <br>\n",
    "> Vector of Woman: \\[1,0,0\\] <br>\n",
    "> Vector of Queen: \\[1,0,1\\] <br>\n",
    "\n",
    "Now when we do the maths, we can indeed verify that King - Man + Woman = Queen. How amazing! How does this happen? (look at the emoji to have a more intuitive understanding!)\n",
    "\n",
    "### Did this question ever hit you while you are surfing the previous sections -\n",
    "### >> What do each value of a word vector mean? How do we determine how the vector should be like to achieve this amazing outcome?\n",
    "\n",
    "The above picture explain a bit. For each word vector, each column have a meaning, which is Feminity, Youth, Royalty. And according to these **semantics** (relating to meaning in language or logic), we attempt to assign value based on these meanings for each word. \n",
    "\n",
    "In reality, like the vector we saw in spaCy library, we actually do not know what each column means, not that the information is not disclosed, but that we actually have no clue what each column represents. All we know is that each column has its own **meaning** , it is this **meaning** that allow the magic we saw in word vectors like similarity and clusterings of similar words. How does this happen, you may ask. Well this is highly due to the method and algorithms we use in training these word embeddings which is what will be introduced in the following section.\n"
   ]
  },
  {
   "cell_type": "markdown",
   "id": "dfceb1b6",
   "metadata": {
    "papermill": {
     "duration": 0.063649,
     "end_time": "2023-08-11T09:54:42.906775",
     "exception": false,
     "start_time": "2023-08-11T09:54:42.843126",
     "status": "completed"
    },
    "tags": []
   },
   "source": [
    "# <a id=\"cbow\"></a><div style=\"text-align:center; font-size:40px;\"><span style=\"color:#3A506B\">Continuous Bag of Words Model(CBOW)</span></div>"
   ]
  },
  {
   "cell_type": "markdown",
   "id": "abe2a6cc",
   "metadata": {
    "papermill": {
     "duration": 0.064999,
     "end_time": "2023-08-11T09:54:43.034712",
     "exception": false,
     "start_time": "2023-08-11T09:54:42.969713",
     "status": "completed"
    },
    "tags": []
   },
   "source": [
    "<div style=\"width:100%;text-align: center;\"> <img align=middle src=\"https://i.imgur.com/J3eyyY3.png\" style=\"height: 450px;\"> </div>"
   ]
  },
  {
   "cell_type": "markdown",
   "id": "d57df9ee",
   "metadata": {
    "papermill": {
     "duration": 0.063683,
     "end_time": "2023-08-11T09:54:43.161096",
     "exception": false,
     "start_time": "2023-08-11T09:54:43.097413",
     "status": "completed"
    },
    "tags": []
   },
   "source": [
    "### 🛑 Hold up - this section may not be beginner friendly\n",
    "This part and the next section will involve the concept of neural network, which can be tough for beginners. I will try to explain the concepts in the most beginner friendly way possible in the perspective of a beginner, which is, I will not be explaining the maths and calculus involved in backpropagation and the details inside the neural network. In fact, I do recommend you to have a basic understanding of how neural network work (though not necessary) before moving on. Or, if you are not interested in the concept behind how the magic happens, you can comfortably continue from [Word2Vec](#word2vec) if you do not really care about the theory.\n",
    "\n",
    "Here are some resources you can use to have a good understanding of neural network\n",
    "\n",
    "### 📑 Resources:\n",
    "\n",
    "Concept behind neural network with StatQuest:\n",
    "\n",
    "> https://www.youtube.com/watch?v=CqOfi41LfDw\n",
    "\n",
    "\n",
    "Understanding neural network in Medium:\n",
    "\n",
    "> https://towardsdatascience.com/understanding-neural-networks-19020b758230\n",
    "> https://towardsdatascience.com/first-neural-network-for-beginners-explained-with-code-4cfd37e06eaf\n"
   ]
  },
  {
   "cell_type": "markdown",
   "id": "c0d03381",
   "metadata": {
    "papermill": {
     "duration": 0.062089,
     "end_time": "2023-08-11T09:54:43.286641",
     "exception": false,
     "start_time": "2023-08-11T09:54:43.224552",
     "status": "completed"
    },
    "tags": []
   },
   "source": [
    "❗ *CBOW (Continuous Bag of Words) model **predicts a target word based on the context of the surrounding words in a sentence or text**. It is trained using a **feedforward neural network** where the **input is a set of context words, and the output is the target word**.*\n",
    "\n",
    "\n",
    "### 🚨 Important\n",
    "\n",
    "Before we move on to how the neural network work, it is a very important concept that you understand that the word embeddings are a **SIDE PRODUCT** of our neural network. In general, the underlying principle of CBOW is that we \n",
    "\n",
    "#### **create a fake problem** ➡ **solve it using neural network** ➡ **get the word vectors as side products**\n",
    "\n",
    "In CBOW, the 'fake problem' is that we try to use neural network to predict a word. In particular, we try to predict the target word from a set of context words. Let's take an example based on the image shown.\n",
    "\n",
    "### ✍ Example\n",
    "\n",
    "> **I like to eat apple**\n",
    "\n",
    ">> **Input**: I, like, eat, apple <br>\n",
    ">> **Target output**: to\n",
    "\n",
    "So basically in our neural network, there will be four inputs which are 'I', 'like', 'eat', 'apple' (in terms of vector) and then they will be passed through the hidden layer and predict the word 'to' (in terms of vector). The neural network will not predict the right outcome base off the first try, so the neural network will take some kind of metrics (loss) to calculate the error and use a technique call backpropagation to keep repeating the process to adjust the weight and bias to keep getting a closer step to the right output. In the end, the weight and bias is the 'side product' which is the word embedding we want to obtain. \n",
    "\n",
    "Confusing right? Don't worry, here is an example taken from this video from the channel codebasics: https://www.youtube.com/watch?v=hQwFeIupNP0 \n",
    "\n",
    "In the example, we try to predict the word 'king' from the phrase 'king ordered his minister'\n",
    "\n",
    "<div style=\"width:100%;text-align: center;\"> <img align=middle src=\"https://i.imgur.com/LnIQP0r.png\" style=\"height: 300px;\"> </div>\n",
    "\n",
    "<br>\n",
    "\n",
    "Now we pass the input to the neural network,\n",
    "\n",
    "<br>\n",
    "\n",
    "<div style=\"width:100%;text-align: center;\"> <img align=middle src=\"https://i.imgur.com/yucngTz.png\" style=\"height: 400px;\"> </div>\n",
    "\n",
    "<br>\n",
    "\n",
    "The concept is that we will keep training the model again and again by adjusting the weights (image below) and bias connecting different layers and in the end, the weights obtained will be our side product, the word embeddings of the word 'king'\n",
    "\n",
    "<br>\n",
    "\n",
    "<div style=\"width:100%;text-align: center;\"> <img align=middle src=\"https://i.imgur.com/NmJkzsm.png\" style=\"height: 400px;\"> </div>\n",
    "\n",
    "<br>\n",
    "\n",
    "I hope I have explained the concept clearly, if you still don't understand clearly, check out the video I attached above, codebasics definitely did a better job in explaining the idea than I did. Or if you are really interested and want to clear your concepts entirely, check out the resources I attached below for a deeper and clearer understanding.\n",
    "\n",
    "\n",
    "### 🌟 Small wrap up\n",
    "\n",
    "If you are confused and overwhelmed by my explaining above, don't worry, the whole idea behind CBOW is actually very simple. It is just some **fancy model and algorithm that give us the word embeddings as side product** which is what we care about. \n",
    "\n",
    "One thing to note that I did not include any coding part in this section since like I mentioned in the beginning, this is a beginner friendly notebook that aims to give you an overview on the topic and I do not want to future complicate this by introducing more complex frameworks and stuff like that. If you are interested in the coding behind CBOW, here are some resources that you may find it to be useful.\n",
    "\n",
    "### 📑 Resources:\n",
    "\n",
    "🌟 Deeper understanding of the neural network behind CBOW \n",
    "\n",
    "https://www.youtube.com/watch?v=viZrOnJclY0\n",
    "\n",
    "CBOW with PyTorch: \n",
    "\n",
    "https://srijithr.gitlab.io/post/word2vec/\n",
    "\n",
    "https://www.youtube.com/watch?v=Rqh4SRcZuDA\n",
    "\n",
    "Word Embeddings using keras embedding layer:\n",
    "\n",
    "https://www.youtube.com/watch?v=Fuw0wv3X-0o"
   ]
  },
  {
   "cell_type": "markdown",
   "id": "5da835a8",
   "metadata": {
    "papermill": {
     "duration": 0.066394,
     "end_time": "2023-08-11T09:54:43.414695",
     "exception": false,
     "start_time": "2023-08-11T09:54:43.348301",
     "status": "completed"
    },
    "tags": []
   },
   "source": [
    "# <a id=\"skipgram\"></a><div style=\"text-align:center; font-size:40px;\"><span style=\"color:#3A506B\">SkipGram Model</span></div>"
   ]
  },
  {
   "cell_type": "markdown",
   "id": "f013002a",
   "metadata": {
    "papermill": {
     "duration": 0.061402,
     "end_time": "2023-08-11T09:54:43.539196",
     "exception": false,
     "start_time": "2023-08-11T09:54:43.477794",
     "status": "completed"
    },
    "tags": []
   },
   "source": [
    "<div style=\"width:100%;text-align: center;\"> <img align=middle src=\"https://i.imgur.com/IcQ3LkP.png\" style=\"height: 300px;\"> </div>"
   ]
  },
  {
   "cell_type": "markdown",
   "id": "a6ac91c9",
   "metadata": {
    "papermill": {
     "duration": 0.061917,
     "end_time": "2023-08-11T09:54:43.663071",
     "exception": false,
     "start_time": "2023-08-11T09:54:43.601154",
     "status": "completed"
    },
    "tags": []
   },
   "source": [
    "❗ *The skip-gram model is a method for learning word embeddings, which are continuous, dense, and low-dimensional representations of words in a vocabulary. It is trained using large amounts of unstructured text data and can capture the context and semantic similarity between words.*\n",
    "\n",
    "If you understand the concept of CBOW, the idea of SkipGram is very similar, it basically just reverse the order of input and target output. Instead of using surrounding context to predict a target word, **SkipGram uses a word to predict the surrounding context.**\n",
    "\n",
    "In the same way, the word embeddings are the side product from the task of predicting surrounding context through neural network just like CBOW. "
   ]
  },
  {
   "cell_type": "markdown",
   "id": "b2c2ac79",
   "metadata": {
    "papermill": {
     "duration": 0.061143,
     "end_time": "2023-08-11T09:54:43.786971",
     "exception": false,
     "start_time": "2023-08-11T09:54:43.725828",
     "status": "completed"
    },
    "tags": []
   },
   "source": [
    "# <a id=\"word2vec\"></a><div style=\"text-align:center; font-size:40px;\"><span style=\"color:#3A506B\">Word2Vec</span></div>"
   ]
  },
  {
   "cell_type": "markdown",
   "id": "7d118ecd",
   "metadata": {
    "papermill": {
     "duration": 0.062913,
     "end_time": "2023-08-11T09:54:43.911658",
     "exception": false,
     "start_time": "2023-08-11T09:54:43.848745",
     "status": "completed"
    },
    "tags": []
   },
   "source": [
    "❗ *Word2vec is a technique for natural language processing (NLP) published in 2013. The word2vec algorithm uses a neural network model to learn word associations from a large corpus of text. Once trained, such a **model can detect synonymous words or suggest additional words for a partial sentence**. Word2vec is not a singular algorithm, rather, it is **a family of model architectures and optimizations** that can be used to learn word embeddings from large datasets.*\n",
    "\n",
    "In fact, the algorithm behind Word2Vec is exactly [CBOW](#cbow) and [SkipGram](#skipgram). If you still do not understand the magic behind these algorithm, don't worry! It does not affect what we are going to do next, which is to try out some popular word2vec model, particularly we will be using **Gensim** - a free open-source Python library for representing documents as semantic vectors. \n",
    "\n",
    "\n",
    "Before we move on, make you sure you a good understanding of [word embeddings](#word-embeddings) as it is an important concept you should know before moving on.\n",
    "\n",
    "### 🚨 Important\n",
    "\n",
    "In this section, we will be using the standard 'word2vec-google-news-300' model which is almost 2GB worth of memory. I have uploaded the model as an input in this kaggle notebook to save you from needing to download 2GB of data on your computer. \n",
    "\n",
    "But I have also included a guideline below to help you to download the gensim word2vec-google-news-300 model on your local computer if you would like to do so.\n",
    "\n",
    "Learn more about gensim model: https://radimrehurek.com/gensim/auto_examples/tutorials/run_word2vec.html#sphx-glr-auto-examples-tutorials-run-word2vec-py\n",
    "\n",
    "All available models you can download with gensim: \n",
    "https://github.com/RaRe-Technologies/gensim-data"
   ]
  },
  {
   "cell_type": "markdown",
   "id": "1f592582",
   "metadata": {
    "papermill": {
     "duration": 0.062942,
     "end_time": "2023-08-11T09:54:44.036549",
     "exception": false,
     "start_time": "2023-08-11T09:54:43.973607",
     "status": "completed"
    },
    "tags": []
   },
   "source": [
    "### 🔎 Downloading gensim word2vec-google-news-300 model locally \n",
    "\n",
    "#### (optional, alternatively you can scroll down to continue the tutorial using the predownloaded model)"
   ]
  },
  {
   "cell_type": "code",
   "execution_count": 42,
   "id": "ef180371",
   "metadata": {
    "execution": {
     "iopub.execute_input": "2023-08-11T09:54:44.164118Z",
     "iopub.status.busy": "2023-08-11T09:54:44.162906Z",
     "iopub.status.idle": "2023-08-11T09:54:44.167824Z",
     "shell.execute_reply": "2023-08-11T09:54:44.166834Z"
    },
    "papermill": {
     "duration": 0.07173,
     "end_time": "2023-08-11T09:54:44.170222",
     "exception": false,
     "start_time": "2023-08-11T09:54:44.098492",
     "status": "completed"
    },
    "tags": []
   },
   "outputs": [],
   "source": [
    "# !pip install gensim \n",
    "# if you never download gensim before"
   ]
  },
  {
   "cell_type": "markdown",
   "id": "5d002839",
   "metadata": {
    "papermill": {
     "duration": 0.063918,
     "end_time": "2023-08-11T09:54:44.297661",
     "exception": false,
     "start_time": "2023-08-11T09:54:44.233743",
     "status": "completed"
    },
    "tags": []
   },
   "source": [
    "I have commented the following part out to save the saving time, uncomment them if you want to download it yourself."
   ]
  },
  {
   "cell_type": "code",
   "execution_count": 43,
   "id": "b93e7002",
   "metadata": {
    "execution": {
     "iopub.execute_input": "2023-08-11T09:54:44.424213Z",
     "iopub.status.busy": "2023-08-11T09:54:44.423308Z",
     "iopub.status.idle": "2023-08-11T09:54:44.427993Z",
     "shell.execute_reply": "2023-08-11T09:54:44.427071Z"
    },
    "papermill": {
     "duration": 0.070683,
     "end_time": "2023-08-11T09:54:44.430241",
     "exception": false,
     "start_time": "2023-08-11T09:54:44.359558",
     "status": "completed"
    },
    "tags": []
   },
   "outputs": [],
   "source": [
    "# import gensim.downloader as api\n",
    "# word2vec_model = api.load('word2vec-google-news-300') \n",
    "\n",
    "\n",
    "# # the model will be downloaded if you never download it before\n",
    "# # approximately 2GB of data \n",
    "# # it WILL take up memory in your computer if you download it for the first time"
   ]
  },
  {
   "cell_type": "markdown",
   "id": "f77ddac4",
   "metadata": {
    "papermill": {
     "duration": 0.061425,
     "end_time": "2023-08-11T09:54:44.553602",
     "exception": false,
     "start_time": "2023-08-11T09:54:44.492177",
     "status": "completed"
    },
    "tags": []
   },
   "source": [
    "#### Once you have ran api.load('word2vec-google-news-300') once, it will download the model on your local computer. Unless you delete it or change it's name, the next time you want to use the model, you can simply do the following\n",
    "\n",
    "Note: To find the directory (folder) in your local computer, gensim typical store it in the following locations.\n",
    "\n",
    "> Windows: C:\\Users\\YourUsername\\gensim-data <br>\n",
    "> Linux: /home/YourUsername/gensim-data <br>\n",
    "> macOS: /Users/YourUsername/gensim-data <br>\n",
    " "
   ]
  },
  {
   "cell_type": "code",
   "execution_count": 44,
   "id": "255fe3a9",
   "metadata": {
    "execution": {
     "iopub.execute_input": "2023-08-11T09:54:44.754873Z",
     "iopub.status.busy": "2023-08-11T09:54:44.754372Z",
     "iopub.status.idle": "2023-08-11T09:54:44.759564Z",
     "shell.execute_reply": "2023-08-11T09:54:44.758245Z"
    },
    "papermill": {
     "duration": 0.147366,
     "end_time": "2023-08-11T09:54:44.762487",
     "exception": false,
     "start_time": "2023-08-11T09:54:44.615121",
     "status": "completed"
    },
    "tags": []
   },
   "outputs": [],
   "source": [
    "# from gensim.downloader import load\n",
    "\n",
    "# word2vec_model = load(\"word2vec-google-news-300\")"
   ]
  },
  {
   "cell_type": "markdown",
   "id": "597b31da",
   "metadata": {
    "papermill": {
     "duration": 0.066899,
     "end_time": "2023-08-11T09:54:44.893531",
     "exception": false,
     "start_time": "2023-08-11T09:54:44.826632",
     "status": "completed"
    },
    "tags": []
   },
   "source": [
    "### 🥳 Using the pre-downloaded model in the notebook\n",
    "\n",
    "(if you download the code instead of copy and edit, you should follow the above intructions to download the model locally)"
   ]
  },
  {
   "cell_type": "code",
   "execution_count": 45,
   "id": "aa313291",
   "metadata": {
    "execution": {
     "iopub.execute_input": "2023-08-11T09:54:45.025147Z",
     "iopub.status.busy": "2023-08-11T09:54:45.024727Z",
     "iopub.status.idle": "2023-08-11T09:56:07.983722Z",
     "shell.execute_reply": "2023-08-11T09:56:07.982110Z"
    },
    "papermill": {
     "duration": 83.029071,
     "end_time": "2023-08-11T09:56:07.987294",
     "exception": false,
     "start_time": "2023-08-11T09:54:44.958223",
     "status": "completed"
    },
    "tags": []
   },
   "outputs": [],
   "source": [
    "from gensim.models import KeyedVectors\n",
    "\n",
    "word2vec_model = KeyedVectors.load_word2vec_format('/kaggle/input/word2vec-google-news-300/word2vec-google-news-300/word2vec-google-news-300/GoogleNews-vectors-negative300.bin', binary=True)"
   ]
  },
  {
   "cell_type": "markdown",
   "id": "71d24f9c",
   "metadata": {
    "papermill": {
     "duration": 0.065288,
     "end_time": "2023-08-11T09:56:08.124813",
     "exception": false,
     "start_time": "2023-08-11T09:56:08.059525",
     "status": "completed"
    },
    "tags": []
   },
   "source": [
    "### 🧑‍💻 Let's code "
   ]
  },
  {
   "cell_type": "code",
   "execution_count": 46,
   "id": "c827f3e2",
   "metadata": {
    "execution": {
     "iopub.execute_input": "2023-08-11T09:56:08.259187Z",
     "iopub.status.busy": "2023-08-11T09:56:08.258757Z",
     "iopub.status.idle": "2023-08-11T09:56:08.265932Z",
     "shell.execute_reply": "2023-08-11T09:56:08.264343Z"
    },
    "papermill": {
     "duration": 0.079211,
     "end_time": "2023-08-11T09:56:08.270428",
     "exception": false,
     "start_time": "2023-08-11T09:56:08.191217",
     "status": "completed"
    },
    "tags": []
   },
   "outputs": [
    {
     "name": "stdout",
     "output_type": "stream",
     "text": [
      "word #0/3000000 is </s>\n",
      "word #1/3000000 is in\n",
      "word #2/3000000 is for\n",
      "word #3/3000000 is that\n",
      "word #4/3000000 is is\n",
      "word #5/3000000 is on\n",
      "word #6/3000000 is ##\n",
      "word #7/3000000 is The\n",
      "word #8/3000000 is with\n",
      "word #9/3000000 is said\n"
     ]
    }
   ],
   "source": [
    "# retrieve vocabularies from the model\n",
    "# assumed you already imported the model from either one of the above methods\n",
    "\n",
    "for index, word in enumerate(word2vec_model.index_to_key):\n",
    "    if index == 10:\n",
    "        break\n",
    "    print(f\"word #{index}/{len(word2vec_model.index_to_key)} is {word}\")"
   ]
  },
  {
   "cell_type": "code",
   "execution_count": 47,
   "id": "f1d5f98c",
   "metadata": {
    "execution": {
     "iopub.execute_input": "2023-08-11T09:56:08.406736Z",
     "iopub.status.busy": "2023-08-11T09:56:08.406250Z",
     "iopub.status.idle": "2023-08-11T09:56:08.468345Z",
     "shell.execute_reply": "2023-08-11T09:56:08.467051Z"
    },
    "papermill": {
     "duration": 0.133297,
     "end_time": "2023-08-11T09:56:08.471205",
     "exception": false,
     "start_time": "2023-08-11T09:56:08.337908",
     "status": "completed"
    },
    "tags": []
   },
   "outputs": [
    {
     "data": {
      "text/plain": [
       "300"
      ]
     },
     "execution_count": 47,
     "metadata": {},
     "output_type": "execute_result"
    }
   ],
   "source": [
    "# obtaining vector from the model\n",
    "\n",
    "vec_king = word2vec_model['king']\n",
    "len(vec_king) # you can see that the model also uses a vector with length of 300 (aka they used 300 nodes in the hidden layer) "
   ]
  },
  {
   "cell_type": "code",
   "execution_count": 48,
   "id": "48652a4f",
   "metadata": {
    "execution": {
     "iopub.execute_input": "2023-08-11T09:56:08.612140Z",
     "iopub.status.busy": "2023-08-11T09:56:08.611578Z",
     "iopub.status.idle": "2023-08-11T09:56:08.623626Z",
     "shell.execute_reply": "2023-08-11T09:56:08.622133Z"
    },
    "papermill": {
     "duration": 0.085807,
     "end_time": "2023-08-11T09:56:08.626981",
     "exception": false,
     "start_time": "2023-08-11T09:56:08.541174",
     "status": "completed"
    },
    "tags": []
   },
   "outputs": [
    {
     "data": {
      "text/plain": [
       "array([[0.39163393]], dtype=float32)"
      ]
     },
     "execution_count": 48,
     "metadata": {},
     "output_type": "execute_result"
    }
   ],
   "source": [
    "# Let's try some of the arithmetic of word embedding (view the section: Arithmetic of Word Embeddings for more info)\n",
    "\n",
    "vec_king = word2vec_model['king']\n",
    "vec_man = word2vec_model['man']\n",
    "vec_woman = word2vec_model['woman']\n",
    "vec_queen = word2vec_model['queen']\n",
    "\n",
    "arithmetic_queen = vec_king - vec_man + vec_woman\n",
    "\n",
    "# we will be using cosine_similarity as metrics\n",
    "from sklearn.metrics.pairwise import cosine_similarity\n",
    "\n",
    "cosine_similarity([arithmetic_queen], [vec_woman])"
   ]
  },
  {
   "cell_type": "code",
   "execution_count": 49,
   "id": "9365ec7d",
   "metadata": {
    "execution": {
     "iopub.execute_input": "2023-08-11T09:56:08.763916Z",
     "iopub.status.busy": "2023-08-11T09:56:08.763469Z",
     "iopub.status.idle": "2023-08-11T09:56:11.117122Z",
     "shell.execute_reply": "2023-08-11T09:56:11.116119Z"
    },
    "papermill": {
     "duration": 2.429723,
     "end_time": "2023-08-11T09:56:11.125799",
     "exception": false,
     "start_time": "2023-08-11T09:56:08.696076",
     "status": "completed"
    },
    "tags": []
   },
   "outputs": [
    {
     "data": {
      "text/plain": [
       "[('queen', 0.7118193507194519),\n",
       " ('monarch', 0.6189674139022827),\n",
       " ('princess', 0.5902431011199951),\n",
       " ('crown_prince', 0.5499460697174072),\n",
       " ('prince', 0.5377321839332581),\n",
       " ('kings', 0.5236844420433044),\n",
       " ('Queen_Consort', 0.5235945582389832),\n",
       " ('queens', 0.5181134343147278),\n",
       " ('sultan', 0.5098593831062317),\n",
       " ('monarchy', 0.5087411999702454)]"
      ]
     },
     "execution_count": 49,
     "metadata": {},
     "output_type": "execute_result"
    }
   ],
   "source": [
    "# wv build in approach for king + woman - man\n",
    "# where positive means + king + woman\n",
    "# negative means - man\n",
    "\n",
    "word2vec_model.most_similar(positive=['king', 'woman'], negative=['man'])"
   ]
  },
  {
   "cell_type": "markdown",
   "id": "fd890fe1",
   "metadata": {
    "papermill": {
     "duration": 0.081377,
     "end_time": "2023-08-11T09:56:11.286796",
     "exception": false,
     "start_time": "2023-08-11T09:56:11.205419",
     "status": "completed"
    },
    "tags": []
   },
   "source": [
    "The result of the two approach show a pretty wide difference, I am guessing it is because we use cosine similarity as metrics in our manual approach while wv.most_similar uses different metrics, I am not entirely sure also, if anyone know the reason behind, please let me know."
   ]
  },
  {
   "cell_type": "code",
   "execution_count": 50,
   "id": "42a14cb0",
   "metadata": {
    "execution": {
     "iopub.execute_input": "2023-08-11T09:56:11.448255Z",
     "iopub.status.busy": "2023-08-11T09:56:11.447128Z",
     "iopub.status.idle": "2023-08-11T09:56:11.801842Z",
     "shell.execute_reply": "2023-08-11T09:56:11.800309Z"
    },
    "papermill": {
     "duration": 0.441889,
     "end_time": "2023-08-11T09:56:11.810637",
     "exception": false,
     "start_time": "2023-08-11T09:56:11.368748",
     "status": "completed"
    },
    "tags": []
   },
   "outputs": [
    {
     "data": {
      "text/plain": [
       "[('kings', 0.7138045430183411),\n",
       " ('queen', 0.6510956883430481),\n",
       " ('monarch', 0.6413194537162781),\n",
       " ('crown_prince', 0.6204220056533813),\n",
       " ('prince', 0.6159993410110474),\n",
       " ('sultan', 0.5864824056625366),\n",
       " ('ruler', 0.5797567367553711),\n",
       " ('princes', 0.5646552443504333),\n",
       " ('Prince_Paras', 0.5432944297790527),\n",
       " ('throne', 0.5422105193138123)]"
      ]
     },
     "execution_count": 50,
     "metadata": {},
     "output_type": "execute_result"
    }
   ],
   "source": [
    "# Note that postive and negative are optional parameters\n",
    "word2vec_model.most_similar(['king'])"
   ]
  },
  {
   "cell_type": "code",
   "execution_count": 51,
   "id": "b67b4934",
   "metadata": {
    "execution": {
     "iopub.execute_input": "2023-08-11T09:56:11.970978Z",
     "iopub.status.busy": "2023-08-11T09:56:11.969703Z",
     "iopub.status.idle": "2023-08-11T09:56:11.980656Z",
     "shell.execute_reply": "2023-08-11T09:56:11.979053Z"
    },
    "papermill": {
     "duration": 0.087004,
     "end_time": "2023-08-11T09:56:11.983837",
     "exception": false,
     "start_time": "2023-08-11T09:56:11.896833",
     "status": "completed"
    },
    "tags": []
   },
   "outputs": [
    {
     "name": "stdout",
     "output_type": "stream",
     "text": [
      "king <> queen: they are 0.6510956883430481 similar\n",
      "man <> woman: they are 0.7664012312889099 similar\n",
      "king <> man: they are 0.22942672669887543 similar\n",
      "woman <> queen: they are 0.31618136167526245 similar\n",
      "king <> woman: they are 0.1284797340631485 similar\n",
      "queen <> man: they are 0.16658201813697815 similar\n"
     ]
    }
   ],
   "source": [
    "pairs = [\n",
    "    ('king', 'queen'), # both have some kind of authority\n",
    "    ('man', 'woman'),  # both are genders  \n",
    "    ('king', 'man'),   # both are in some way 'male'\n",
    "    ('woman', 'queen'), # both are in some way 'female'\n",
    "    ('king', 'woman'), # doesn't seem like they have a lot in common\n",
    "    ('queen', 'man'), # doesn't seem like they have a lot in common\n",
    "]\n",
    "for w1, w2 in pairs:\n",
    "    print(f\"{w1} <> {w2}: they are {word2vec_model.similarity(w1, w2)} similar\") \n",
    "\n",
    "# use wv.similarity(word1, word2) to get the similarity of two word\n",
    "# the higher the number the more similar they are\n",
    "\n",
    "# Look at the result below, recall that when we do wv.most_similar(['king'])\n",
    "# we get this result ('queen', 0.6510956883430481) which same as what we observe below!"
   ]
  },
  {
   "cell_type": "code",
   "execution_count": 52,
   "id": "d84b5cb1",
   "metadata": {
    "execution": {
     "iopub.execute_input": "2023-08-11T09:56:12.165823Z",
     "iopub.status.busy": "2023-08-11T09:56:12.164800Z",
     "iopub.status.idle": "2023-08-11T09:56:12.174461Z",
     "shell.execute_reply": "2023-08-11T09:56:12.172365Z"
    },
    "papermill": {
     "duration": 0.100408,
     "end_time": "2023-08-11T09:56:12.179007",
     "exception": false,
     "start_time": "2023-08-11T09:56:12.078599",
     "status": "completed"
    },
    "tags": []
   },
   "outputs": [
    {
     "name": "stdout",
     "output_type": "stream",
     "text": [
      "car\n"
     ]
    }
   ],
   "source": [
    "# wv.doesnt_match to see which item in the list does not match with the rest of the items\n",
    "\n",
    "# in this example, other than 'car' the rest is some form of food\n",
    "print(word2vec_model.doesnt_match(['apple', 'banana', 'orange', 'car', 'cheese', 'juice']))"
   ]
  },
  {
   "cell_type": "code",
   "execution_count": 53,
   "id": "8346a994",
   "metadata": {
    "execution": {
     "iopub.execute_input": "2023-08-11T09:56:12.360182Z",
     "iopub.status.busy": "2023-08-11T09:56:12.359727Z",
     "iopub.status.idle": "2023-08-11T09:56:12.368425Z",
     "shell.execute_reply": "2023-08-11T09:56:12.366701Z"
    },
    "papermill": {
     "duration": 0.097495,
     "end_time": "2023-08-11T09:56:12.372783",
     "exception": false,
     "start_time": "2023-08-11T09:56:12.275288",
     "status": "completed"
    },
    "tags": []
   },
   "outputs": [
    {
     "name": "stdout",
     "output_type": "stream",
     "text": [
      "The word 'asdasd' does not appear in this model\n"
     ]
    }
   ],
   "source": [
    "# Sometimes the word you pass in doesn't have a vector\n",
    "# for more info, review the section: Out of Vocabulary (OOV)\n",
    "\n",
    "try:\n",
    "    vec_cameroon = word2vec_model['asdasd']\n",
    "except KeyError:\n",
    "    print(\"The word 'asdasd' does not appear in this model\")"
   ]
  },
  {
   "cell_type": "markdown",
   "id": "23d47b46",
   "metadata": {
    "papermill": {
     "duration": 0.078794,
     "end_time": "2023-08-11T09:56:12.538202",
     "exception": false,
     "start_time": "2023-08-11T09:56:12.459408",
     "status": "completed"
    },
    "tags": []
   },
   "source": [
    "# <a id=\"fasttext\"></a><div style=\"text-align:center; font-size:40px;\"><span style=\"color:#3A506B\">fastText</span></div>"
   ]
  },
  {
   "cell_type": "markdown",
   "id": "8d8c1f41",
   "metadata": {
    "papermill": {
     "duration": 0.077759,
     "end_time": "2023-08-11T09:56:12.706801",
     "exception": false,
     "start_time": "2023-08-11T09:56:12.629042",
     "status": "completed"
    },
    "tags": []
   },
   "source": [
    "❗ *fastText is a **library for learning of word embeddings and text classification** created by Facebook's AI Research lab. The model allows one to create an unsupervised learning or supervised learning algorithm for obtaining vector representations for words. Facebook makes available pretrained models for 294 languages.*\n",
    "\n",
    "Basically, fastText is similar to Word2Vec as in they both are open source models that you can use for word embeddings and use them for NLP related tasks.\n",
    "\n",
    "fastText offers a lot of models in a lot of different languages you can install locally on your computer. In this notebook, we will be using the fastText English model, please note that the model is even larger than the gensim word2vec-google-news-300 model, it take up 7.24GB of space in your local computer. Below are two methods you can use to use the model in your kaggle notebook, which is to download the model locally, or import it from kaggle directly. Alternatively, you can just read through the code without installing the model if you feel like it."
   ]
  },
  {
   "cell_type": "markdown",
   "id": "18637bc8",
   "metadata": {
    "papermill": {
     "duration": 0.075066,
     "end_time": "2023-08-11T09:56:12.858040",
     "exception": false,
     "start_time": "2023-08-11T09:56:12.782974",
     "status": "completed"
    },
    "tags": []
   },
   "source": [
    "### 1️⃣ Downloading fasttext-english-300 locally to your computer\n",
    "\n",
    "1. Visit this link https://fasttext.cc/docs/en/crawl-vectors.html\n",
    "\n",
    "2. Scroll down until you see the model list and choose your desire language to download (download the bin file)\n",
    "\n",
    "<div style=\"width:100%;text-align: center;\"> <img align=middle src=\"https://i.imgur.com/RnDawj1.png\" style=\"height: 300px;\"> </div>\n",
    "\n",
    "\n",
    "3. Put the downloaded model in a directory and unzip the file, in the end you should get a bin file similar to this\n",
    "\n",
    "<div style=\"width:100%;text-align: center;\"> <img align=middle src=\"https://i.imgur.com/iDzt8Yx.png\" style=\"height: 100px;\"> </div>"
   ]
  },
  {
   "cell_type": "markdown",
   "id": "c8588469",
   "metadata": {
    "papermill": {
     "duration": 0.081682,
     "end_time": "2023-08-11T09:56:13.017672",
     "exception": false,
     "start_time": "2023-08-11T09:56:12.935990",
     "status": "completed"
    },
    "tags": []
   },
   "source": [
    "### 2️⃣ Import it from Kaggle\n",
    "\n",
    "1. Visit this site https://www.kaggle.com/datasets/bzhbzh35/fasttext-english-300, which is the same model as the one you download it locally from the official website (speaking this as in 9/8/2023)\n",
    "\n",
    "2. On the left side of your Kaggle notebook workspace, you should see a place where it says +Add Data\n",
    "\n",
    "<div style=\"width:100%;text-align: center;\"> <img align=middle src=\"https://i.imgur.com/xEoW87W.png\" style=\"height: 100px;\"> </div>\n",
    "\n",
    "3. Since you just visited the site above, the first result should be the 'FastText English 300' dataset, add it into your workspace and you are good to go\n"
   ]
  },
  {
   "cell_type": "markdown",
   "id": "f2070a54",
   "metadata": {
    "papermill": {
     "duration": 0.072001,
     "end_time": "2023-08-11T09:56:13.170994",
     "exception": false,
     "start_time": "2023-08-11T09:56:13.098993",
     "status": "completed"
    },
    "tags": []
   },
   "source": [
    "### 🧑‍💻 Let's code \n",
    "\n",
    "Now let's move on to the coding part"
   ]
  },
  {
   "cell_type": "code",
   "execution_count": 54,
   "id": "e4f35aa9",
   "metadata": {
    "execution": {
     "iopub.execute_input": "2023-08-11T09:56:13.303886Z",
     "iopub.status.busy": "2023-08-11T09:56:13.303347Z",
     "iopub.status.idle": "2023-08-11T09:56:13.308916Z",
     "shell.execute_reply": "2023-08-11T09:56:13.307755Z"
    },
    "papermill": {
     "duration": 0.074748,
     "end_time": "2023-08-11T09:56:13.311318",
     "exception": false,
     "start_time": "2023-08-11T09:56:13.236570",
     "status": "completed"
    },
    "tags": []
   },
   "outputs": [],
   "source": [
    "## if you have not install fasttext\n",
    "\n",
    "# pip install fasttext "
   ]
  },
  {
   "cell_type": "code",
   "execution_count": 55,
   "id": "a634351a",
   "metadata": {
    "execution": {
     "iopub.execute_input": "2023-08-11T09:56:13.446680Z",
     "iopub.status.busy": "2023-08-11T09:56:13.445733Z",
     "iopub.status.idle": "2023-08-11T09:57:32.422442Z",
     "shell.execute_reply": "2023-08-11T09:57:32.419817Z"
    },
    "papermill": {
     "duration": 79.127309,
     "end_time": "2023-08-11T09:57:32.504755",
     "exception": false,
     "start_time": "2023-08-11T09:56:13.377446",
     "status": "completed"
    },
    "tags": []
   },
   "outputs": [
    {
     "name": "stderr",
     "output_type": "stream",
     "text": [
      "Warning : `load_model` does not return WordVectorModel or SupervisedModel any more, but a `FastText` object which is very similar.\n"
     ]
    }
   ],
   "source": [
    "import fasttext\n",
    "\n",
    "#if you install it locally, the PATH should be the PATH of your local computer that lead to the model\n",
    "PATH = '/kaggle/input/fasttext-english-300/cc.en.300.bin' \n",
    "ft_model = fasttext.load_model(PATH)"
   ]
  },
  {
   "cell_type": "code",
   "execution_count": 56,
   "id": "f8e0e6a3",
   "metadata": {
    "execution": {
     "iopub.execute_input": "2023-08-11T09:57:32.647941Z",
     "iopub.status.busy": "2023-08-11T09:57:32.647458Z",
     "iopub.status.idle": "2023-08-11T09:57:32.662741Z",
     "shell.execute_reply": "2023-08-11T09:57:32.661250Z"
    },
    "papermill": {
     "duration": 0.093767,
     "end_time": "2023-08-11T09:57:32.666011",
     "exception": false,
     "start_time": "2023-08-11T09:57:32.572244",
     "status": "completed"
    },
    "tags": []
   },
   "outputs": [
    {
     "data": {
      "text/plain": [
       "300"
      ]
     },
     "execution_count": 56,
     "metadata": {},
     "output_type": "execute_result"
    }
   ],
   "source": [
    "# to get word vector in fasttext\n",
    "len(ft_model.get_word_vector('king')) # again we see the vector has length of 300"
   ]
  },
  {
   "cell_type": "markdown",
   "id": "a4420bbb",
   "metadata": {
    "papermill": {
     "duration": 0.066921,
     "end_time": "2023-08-11T09:57:32.800443",
     "exception": false,
     "start_time": "2023-08-11T09:57:32.733522",
     "status": "completed"
    },
    "tags": []
   },
   "source": [
    "I thought it would be interesting to compare the word vector of the same word for different model, let's see what we got, what do you expect the result to be?"
   ]
  },
  {
   "cell_type": "code",
   "execution_count": 57,
   "id": "8ed70dda",
   "metadata": {
    "execution": {
     "iopub.execute_input": "2023-08-11T09:57:32.938122Z",
     "iopub.status.busy": "2023-08-11T09:57:32.937332Z",
     "iopub.status.idle": "2023-08-11T09:58:44.837832Z",
     "shell.execute_reply": "2023-08-11T09:58:44.836479Z"
    },
    "papermill": {
     "duration": 71.972829,
     "end_time": "2023-08-11T09:58:44.841328",
     "exception": false,
     "start_time": "2023-08-11T09:57:32.868499",
     "status": "completed"
    },
    "tags": []
   },
   "outputs": [],
   "source": [
    "#import the word2vec model (see section: Word2Vec for more info)\n",
    "from gensim.models import KeyedVectors\n",
    "\n",
    "word2vec_model = KeyedVectors.load_word2vec_format('/kaggle/input/word2vec-google-news-300/word2vec-google-news-300/word2vec-google-news-300/GoogleNews-vectors-negative300.bin', binary=True)"
   ]
  },
  {
   "cell_type": "code",
   "execution_count": 58,
   "id": "537d3deb",
   "metadata": {
    "execution": {
     "iopub.execute_input": "2023-08-11T09:58:44.979396Z",
     "iopub.status.busy": "2023-08-11T09:58:44.978627Z",
     "iopub.status.idle": "2023-08-11T09:58:44.989799Z",
     "shell.execute_reply": "2023-08-11T09:58:44.988660Z"
    },
    "papermill": {
     "duration": 0.084123,
     "end_time": "2023-08-11T09:58:44.993953",
     "exception": false,
     "start_time": "2023-08-11T09:58:44.909830",
     "status": "completed"
    },
    "tags": []
   },
   "outputs": [
    {
     "name": "stdout",
     "output_type": "stream",
     "text": [
      "Cosine similarity of 'king': [[0.10911117]]\n",
      "[ 0.15234084  0.07361899  0.06085209  0.11467185 -0.18558131]\n"
     ]
    }
   ],
   "source": [
    "from sklearn.metrics.pairwise import cosine_similarity\n",
    "\n",
    "print(\"Cosine similarity of 'king':\", cosine_similarity([word2vec_model['king']], [ft_model.get_word_vector('king')]))\n",
    "\n",
    "print((word2vec_model['king'] - ft_model.get_word_vector('king'))[:5]) # get the difference in vector for the first 5 values"
   ]
  },
  {
   "cell_type": "markdown",
   "id": "25b92286",
   "metadata": {
    "papermill": {
     "duration": 0.066512,
     "end_time": "2023-08-11T09:58:45.131814",
     "exception": false,
     "start_time": "2023-08-11T09:58:45.065302",
     "status": "completed"
    },
    "tags": []
   },
   "source": [
    "Wow! Does the results surprise you? Indeed, the word embeddings from different model is very different from each other! What about their relative performance? "
   ]
  },
  {
   "cell_type": "code",
   "execution_count": 59,
   "id": "39f7588e",
   "metadata": {
    "execution": {
     "iopub.execute_input": "2023-08-11T09:58:45.270307Z",
     "iopub.status.busy": "2023-08-11T09:58:45.269829Z",
     "iopub.status.idle": "2023-08-11T09:59:05.141211Z",
     "shell.execute_reply": "2023-08-11T09:59:05.139558Z"
    },
    "papermill": {
     "duration": 19.94422,
     "end_time": "2023-08-11T09:59:05.144347",
     "exception": false,
     "start_time": "2023-08-11T09:58:45.200127",
     "status": "completed"
    },
    "tags": []
   },
   "outputs": [
    {
     "data": {
      "text/plain": [
       "[(0.7550359964370728, 'kings'),\n",
       " (0.7068519592285156, 'queen'),\n",
       " (0.7060439586639404, 'king-'),\n",
       " (0.6811205148696899, 'king.'),\n",
       " (0.660710871219635, 'king.The'),\n",
       " (0.6591265797615051, 'King'),\n",
       " (0.6495252251625061, 'prince'),\n",
       " (0.6278106570243835, '-king'),\n",
       " (0.6183920502662659, 'monarch'),\n",
       " (0.6070184707641602, 'queen-mother')]"
      ]
     },
     "execution_count": 59,
     "metadata": {},
     "output_type": "execute_result"
    }
   ],
   "source": [
    "ft_model.get_nearest_neighbors('king')"
   ]
  },
  {
   "cell_type": "markdown",
   "id": "baa2ade9",
   "metadata": {
    "papermill": {
     "duration": 0.066886,
     "end_time": "2023-08-11T09:59:05.281229",
     "exception": false,
     "start_time": "2023-08-11T09:59:05.214343",
     "status": "completed"
    },
    "tags": []
   },
   "source": [
    "When we compare it with the result we got from word2vec gensim model (see more [word2vec](#word2vec)), the first few results does look quite similar, even thought their vector is completely different!\n",
    "\n",
    "<div style=\"width:100%;text-align: center;\"> <img align=middle src=\"https://i.imgur.com/fkKBBiR.png\" style=\"height: 300px;\"> </div>"
   ]
  },
  {
   "cell_type": "code",
   "execution_count": 60,
   "id": "d215b99b",
   "metadata": {
    "execution": {
     "iopub.execute_input": "2023-08-11T09:59:05.421146Z",
     "iopub.status.busy": "2023-08-11T09:59:05.420367Z",
     "iopub.status.idle": "2023-08-11T09:59:06.420719Z",
     "shell.execute_reply": "2023-08-11T09:59:06.419514Z"
    },
    "papermill": {
     "duration": 1.075087,
     "end_time": "2023-08-11T09:59:06.423935",
     "exception": false,
     "start_time": "2023-08-11T09:59:05.348848",
     "status": "completed"
    },
    "tags": []
   },
   "outputs": [
    {
     "data": {
      "text/plain": [
       "[(0.7303731441497803, 'paris'),\n",
       " (0.6408537030220032, 'france.'),\n",
       " (0.6393311023712158, 'avignon'),\n",
       " (0.6316676139831543, 'paris.'),\n",
       " (0.5895596742630005, 'montpellier'),\n",
       " (0.5884554386138916, 'rennes'),\n",
       " (0.5850598812103271, 'grenoble'),\n",
       " (0.5832924246788025, 'london'),\n",
       " (0.5806092619895935, 'strasbourg'),\n",
       " (0.574320375919342, 'Paris.')]"
      ]
     },
     "execution_count": 60,
     "metadata": {},
     "output_type": "execute_result"
    }
   ],
   "source": [
    "# .get_analogies function\n",
    "# takes in a word triplet like (\"berlin\", \"germany\", \"france\") and provide analogies\n",
    "# berlin is capital of germany -> so we would expect 'paris' as the answer as paris the capital of france\n",
    "\n",
    "ft_model.get_analogies(\"berlin\", \"germany\", \"france\")\n",
    "\n",
    "# it's really similar idea to berlin - germany + france = paris"
   ]
  },
  {
   "cell_type": "markdown",
   "id": "797e3977",
   "metadata": {
    "papermill": {
     "duration": 0.063364,
     "end_time": "2023-08-11T09:59:06.554739",
     "exception": false,
     "start_time": "2023-08-11T09:59:06.491375",
     "status": "completed"
    },
    "tags": []
   },
   "source": [
    "But what is really the power of fastText is that you can easily train fastText model with your own data, ie. train the dataset on text you feed in so that it can give you a more accurate result on specific domain. In fact, fastText support the training of model for both supervised and unsupervised data. Let's take a look at this example below in which I will be using my own dataset for illustration (https://www.kaggle.com/datasets/crxxom/all-animes-in-mal)"
   ]
  },
  {
   "cell_type": "code",
   "execution_count": 61,
   "id": "e2cef7ad",
   "metadata": {
    "execution": {
     "iopub.execute_input": "2023-08-11T09:59:06.687377Z",
     "iopub.status.busy": "2023-08-11T09:59:06.686924Z",
     "iopub.status.idle": "2023-08-11T09:59:07.682785Z",
     "shell.execute_reply": "2023-08-11T09:59:07.681621Z"
    },
    "papermill": {
     "duration": 1.064108,
     "end_time": "2023-08-11T09:59:07.685484",
     "exception": false,
     "start_time": "2023-08-11T09:59:06.621376",
     "status": "completed"
    },
    "tags": []
   },
   "outputs": [
    {
     "data": {
      "text/plain": [
       "[(0.8400574326515198, 'Rukia'),\n",
       " (0.8143624663352966, 'Grimmjow'),\n",
       " (0.8109726905822754, 'Orihime'),\n",
       " (0.8091928958892822, 'Byakuya'),\n",
       " (0.8018451929092407, 'Hitsugaya'),\n",
       " (0.7798237800598145, 'Urahara'),\n",
       " (0.7751381397247314, 'Ulquiorra'),\n",
       " (0.7719549536705017, 'Hichigo'),\n",
       " (0.7659327387809753, 'Yoruichi'),\n",
       " (0.7621345520019531, 'Yachiru'),\n",
       " (0.7613643407821655, 'Aizen'),\n",
       " (0.7587844729423523, 'Ukitake'),\n",
       " (0.7529191374778748, 'Kisuke'),\n",
       " (0.7371439933776855, 'Shinigami'),\n",
       " (0.7355948090553284, 'shinigami'),\n",
       " (0.734315812587738, 'Renji'),\n",
       " (0.7335431575775146, 'Kenpachi'),\n",
       " (0.7334814667701721, 'Uryu'),\n",
       " (0.7322297692298889, 'Toushiro'),\n",
       " (0.731972873210907, 'Hinamori')]"
      ]
     },
     "execution_count": 61,
     "metadata": {},
     "output_type": "execute_result"
    }
   ],
   "source": [
    "# Before unsupervised training\n",
    "\n",
    "ft_model.get_nearest_neighbors('Ichigo', k=20) #parameter for you to show how many neighbors to be displayed"
   ]
  },
  {
   "cell_type": "code",
   "execution_count": 62,
   "id": "5d6fb8a9",
   "metadata": {
    "execution": {
     "iopub.execute_input": "2023-08-11T09:59:07.816079Z",
     "iopub.status.busy": "2023-08-11T09:59:07.815676Z",
     "iopub.status.idle": "2023-08-11T10:00:23.209142Z",
     "shell.execute_reply": "2023-08-11T10:00:23.207763Z"
    },
    "papermill": {
     "duration": 75.463479,
     "end_time": "2023-08-11T10:00:23.212885",
     "exception": false,
     "start_time": "2023-08-11T09:59:07.749406",
     "status": "completed"
    },
    "tags": []
   },
   "outputs": [
    {
     "name": "stderr",
     "output_type": "stream",
     "text": [
      "Read 1M words\n",
      "Number of words:  19714\n",
      "Number of labels: 0\n",
      "Progress: 100.0% words/sec/thread:   33151 lr:  0.000000 avg.loss:  2.261810 ETA:   0h 0m 0s\n"
     ]
    }
   ],
   "source": [
    "import pandas as pd\n",
    "\n",
    "anime_df = pd.read_csv('/kaggle/input/all-animes-in-mal/mal_anime.csv')\n",
    "\n",
    "anime_df.to_csv('anime_synopsis.txt', columns=['synopsis'], index=False, header=False)\n",
    "\n",
    "model_trained = fasttext.train_unsupervised(\"/kaggle/working/anime_synopsis.txt\")"
   ]
  },
  {
   "cell_type": "markdown",
   "id": "42efda45",
   "metadata": {
    "papermill": {
     "duration": 0.095176,
     "end_time": "2023-08-11T10:00:23.398822",
     "exception": false,
     "start_time": "2023-08-11T10:00:23.303646",
     "status": "completed"
    },
    "tags": []
   },
   "source": [
    "Noted that there are a lot of parameters that you can change for a better training performance, for more information, visit the official documentation at: https://fasttext.cc/docs/en/unsupervised-tutorial.html"
   ]
  },
  {
   "cell_type": "code",
   "execution_count": 63,
   "id": "7073b917",
   "metadata": {
    "execution": {
     "iopub.execute_input": "2023-08-11T10:00:23.586284Z",
     "iopub.status.busy": "2023-08-11T10:00:23.585891Z",
     "iopub.status.idle": "2023-08-11T10:00:23.772113Z",
     "shell.execute_reply": "2023-08-11T10:00:23.770487Z"
    },
    "papermill": {
     "duration": 0.283914,
     "end_time": "2023-08-11T10:00:23.776883",
     "exception": false,
     "start_time": "2023-08-11T10:00:23.492969",
     "status": "completed"
    },
    "tags": []
   },
   "outputs": [
    {
     "data": {
      "text/plain": [
       "[(0.9471642374992371, '\"Ichigo'),\n",
       " (0.9417364597320557, 'Ichigo,'),\n",
       " (0.8806815147399902, 'Ichi'),\n",
       " (0.8750174641609192, \"Ichigo's\"),\n",
       " (0.874559223651886, 'Ichiya'),\n",
       " (0.8648937940597534, 'Ichijou'),\n",
       " (0.8627730011940002, 'Saiki'),\n",
       " (0.8529594540596008, 'Mikado'),\n",
       " (0.8459890484809875, 'Yuru'),\n",
       " (0.8425478339195251, 'Guru'),\n",
       " (0.8363747000694275, 'Hikari'),\n",
       " (0.8322579860687256, 'Ichika'),\n",
       " (0.8313604593276978, 'Karakuri'),\n",
       " (0.82932448387146, 'Saru'),\n",
       " (0.8291274905204773, 'Ichiban'),\n",
       " (0.8267428874969482, 'Bocchi'),\n",
       " (0.8263258934020996, 'Mahoro'),\n",
       " (0.8258139491081238, 'Oreki'),\n",
       " (0.8235267400741577, 'Kuroi'),\n",
       " (0.8223082423210144, 'Daiki')]"
      ]
     },
     "execution_count": 63,
     "metadata": {},
     "output_type": "execute_result"
    }
   ],
   "source": [
    "# After unsupervised training\n",
    "\n",
    "model_trained.get_nearest_neighbors('Ichigo', k=20) "
   ]
  },
  {
   "cell_type": "markdown",
   "id": "021bc693",
   "metadata": {
    "papermill": {
     "duration": 0.097044,
     "end_time": "2023-08-11T10:00:23.974039",
     "exception": false,
     "start_time": "2023-08-11T10:00:23.876995",
     "status": "completed"
    },
    "tags": []
   },
   "source": [
    "Compare the results before and after the supervised training, we can see that the results is very different after you train the model compare to before you train the model. That is, **fastText give you a huge flexibility to train your own custom data to give your model more accurate result based on the data you provide with it**. To be completely fair, the result before training seems to give a more accurate outcome, but that is due to my dataset passing is extremely small compare to the 7GB of data and the dataset I am feeding to the model is the synopsis which may give a different result."
   ]
  },
  {
   "cell_type": "markdown",
   "id": "ec169732",
   "metadata": {
    "papermill": {
     "duration": 0.108315,
     "end_time": "2023-08-11T10:00:24.179117",
     "exception": false,
     "start_time": "2023-08-11T10:00:24.070802",
     "status": "completed"
    },
    "tags": []
   },
   "source": [
    "# <a id=\"glove\"></a><div style=\"text-align:center; font-size:40px;\"><span style=\"color:#3A506B\">GloVe</span></div>"
   ]
  },
  {
   "cell_type": "markdown",
   "id": "82a18b82",
   "metadata": {
    "papermill": {
     "duration": 0.093649,
     "end_time": "2023-08-11T10:00:24.372525",
     "exception": false,
     "start_time": "2023-08-11T10:00:24.278876",
     "status": "completed"
    },
    "tags": []
   },
   "source": [
    "❗ *GloVe (Global Vectors for Word Representation) is an **unsupervised learning algorithm for obtaining vector representations for words**. Training is performed on **aggregated global word-word co-occurrence statistics from a corpus**, and the resulting representations showcase interesting linear substructures of the word vector space.*\n",
    "\n",
    "Similar to word2vec and fasttext, it is some kind of algorithm that provide us with word embeddings. But it is important to note the GloVe does not use [CBOW](#cbow) nor [SkipGram](#skipgram) to train, instead it uses another training methology call **global matrix factorization** which analyze the global co-occurrence statistics of words in a corpus to learn the word embeddings. Let's see a very simple example as demonstration.\n",
    "\n",
    "\n",
    "### ✍ Example\n",
    "\n",
    "In this example, we will be examining how GloVe work using these three sentences\n",
    "> **1. I like deep learning** <br>\n",
    "> **2. I like NLP** <br>\n",
    "> **3. I enjoy flying** <br>\n",
    "\n",
    "And we contruct the count matrix/co-occurance matrix \n",
    "\n",
    "<div style=\"width:100%;text-align: center;\"> <img align=middle src=\"https://i.imgur.com/MMKYOLp.png\" style=\"height: 300px;\"> </div>\n",
    "\n",
    "<br>\n",
    "\n",
    "Before we move on to illustrate how each value is being assigned, we should first understand the concept of **context window**, which is a specified range of tokens surrounding a target token within a text or sequence. In fact, you probably have come across with this concept in the [bag of n-grams](#bag-of-n-grams) and [CBOW](#cbow) sections. \n",
    "\n"
   ]
  },
  {
   "cell_type": "markdown",
   "id": "867dc4f0",
   "metadata": {
    "papermill": {
     "duration": 0.09529,
     "end_time": "2023-08-11T10:00:24.564397",
     "exception": false,
     "start_time": "2023-08-11T10:00:24.469107",
     "status": "completed"
    },
    "tags": []
   },
   "source": [
    "In the above example, we are using a context window of 1, take 'like' in the first sentence as an example\n",
    "\n",
    "> **I** *like* **deep** learning\n",
    "\n",
    "When we use a context window of 1, we look for one token in front of our current word and one token after the current word, in this case, it will be **I** and **deep**. In this case, we will +1 to the corresponding entries in our co-occurance matrix, for the pair ('I', 'like') the corresponding entries will be X\\[1,2\\] and X\\[2,1\\]. But why is the number in the image 2 instead of 1? This is due to the fact that we also add 1 to this pair in our second sentence\n",
    "\n",
    "> **I** *like* **NLP**\n",
    "\n",
    "That explains how the co-occurance matrix is being contructed.\n",
    "\n",
    "Note: Usually we use a higher context window such as 5 or more, if a context window is 5, we will be adding words from 5 words before the current word and 5 words after the current word.\n",
    "\n",
    "This also give you some intuitive understanding of how GloVe cluster words together using the appropriate vectors. **The more two word appear together within a context window, the more they will get grouped together in a vector space.**\n",
    "\n",
    "There are a lot more behind the algorithm of GloVe in which I plan to make a seperate notebook to explain GloVe in details in the future."
   ]
  },
  {
   "cell_type": "markdown",
   "id": "4038090a",
   "metadata": {
    "papermill": {
     "duration": 0.089986,
     "end_time": "2023-08-11T10:00:24.746902",
     "exception": false,
     "start_time": "2023-08-11T10:00:24.656916",
     "status": "completed"
    },
    "tags": []
   },
   "source": [
    "### 🧑‍💻 Let's code \n",
    "\n",
    "I have installed glove6b100dtxt model from kaggle for you to use it directly in this notebook. If you wish to download locally or download another version of the model, visit: https://github.com/stanfordnlp/GloVe/tree/master for more details."
   ]
  },
  {
   "cell_type": "code",
   "execution_count": 64,
   "id": "47954bb1",
   "metadata": {
    "execution": {
     "iopub.execute_input": "2023-08-11T10:00:24.935404Z",
     "iopub.status.busy": "2023-08-11T10:00:24.934916Z",
     "iopub.status.idle": "2023-08-11T10:00:39.878508Z",
     "shell.execute_reply": "2023-08-11T10:00:39.877028Z"
    },
    "papermill": {
     "duration": 15.039695,
     "end_time": "2023-08-11T10:00:39.881643",
     "exception": false,
     "start_time": "2023-08-11T10:00:24.841948",
     "status": "completed"
    },
    "tags": []
   },
   "outputs": [],
   "source": [
    "# Write the content into a dictionary for later use\n",
    "import numpy as np\n",
    "\n",
    "# Basically what we are doing is to create a dictionary object with the \n",
    "# key being the word, value being the respective vector\n",
    "embeddings_dict = {}\n",
    "PATH = '/kaggle/input/glove6b100dtxt/glove.6B.100d.txt'\n",
    "with open(PATH, 'r', encoding='utf-8') as f:\n",
    "    for line in f:\n",
    "        values = line.split()\n",
    "        word = values[0]\n",
    "        vector = np.asarray(values[1:], \"float32\")\n",
    "        embeddings_dict[word] = vector\n",
    "f.close()"
   ]
  },
  {
   "cell_type": "code",
   "execution_count": 65,
   "id": "789584ce",
   "metadata": {
    "execution": {
     "iopub.execute_input": "2023-08-11T10:00:40.067102Z",
     "iopub.status.busy": "2023-08-11T10:00:40.066578Z",
     "iopub.status.idle": "2023-08-11T10:00:40.075706Z",
     "shell.execute_reply": "2023-08-11T10:00:40.073731Z"
    },
    "papermill": {
     "duration": 0.107872,
     "end_time": "2023-08-11T10:00:40.078325",
     "exception": false,
     "start_time": "2023-08-11T10:00:39.970453",
     "status": "completed"
    },
    "tags": []
   },
   "outputs": [
    {
     "data": {
      "text/plain": [
       "100"
      ]
     },
     "execution_count": 65,
     "metadata": {},
     "output_type": "execute_result"
    }
   ],
   "source": [
    "len(embeddings_dict['king']) # we see that the glove6b100d model uses 100 as the size of vector instead of the common 300"
   ]
  },
  {
   "cell_type": "markdown",
   "id": "f77bb957",
   "metadata": {
    "papermill": {
     "duration": 0.091841,
     "end_time": "2023-08-11T10:00:40.258574",
     "exception": false,
     "start_time": "2023-08-11T10:00:40.166733",
     "status": "completed"
    },
    "tags": []
   },
   "source": [
    "Below is a function I found from: https://medium.com/analytics-vidhya/basics-of-using-pre-trained-glove-vectors-in-python-d38905f356db"
   ]
  },
  {
   "cell_type": "code",
   "execution_count": 66,
   "id": "ecd5c0fb",
   "metadata": {
    "execution": {
     "iopub.execute_input": "2023-08-11T10:00:40.437377Z",
     "iopub.status.busy": "2023-08-11T10:00:40.436128Z",
     "iopub.status.idle": "2023-08-11T10:00:40.443661Z",
     "shell.execute_reply": "2023-08-11T10:00:40.442390Z"
    },
    "papermill": {
     "duration": 0.100604,
     "end_time": "2023-08-11T10:00:40.446318",
     "exception": false,
     "start_time": "2023-08-11T10:00:40.345714",
     "status": "completed"
    },
    "tags": []
   },
   "outputs": [],
   "source": [
    "# We use the euclidean distance metrics from this example\n",
    "\n",
    "from scipy import spatial\n",
    "\n",
    "def find_closest_embeddings_ed(embedding, cutoff=25):\n",
    "    return sorted(embeddings_dict.keys(), \n",
    "                  key=lambda word: spatial.distance.euclidean(embeddings_dict[word], embedding))"
   ]
  },
  {
   "cell_type": "code",
   "execution_count": 67,
   "id": "7195436c",
   "metadata": {
    "execution": {
     "iopub.execute_input": "2023-08-11T10:00:40.626937Z",
     "iopub.status.busy": "2023-08-11T10:00:40.626357Z",
     "iopub.status.idle": "2023-08-11T10:00:45.175622Z",
     "shell.execute_reply": "2023-08-11T10:00:45.174246Z"
    },
    "papermill": {
     "duration": 4.642637,
     "end_time": "2023-08-11T10:00:45.178725",
     "exception": false,
     "start_time": "2023-08-11T10:00:40.536088",
     "status": "completed"
    },
    "tags": []
   },
   "outputs": [
    {
     "data": {
      "text/plain": [
       "['king', 'queen', 'monarch', 'throne', 'elizabeth']"
      ]
     },
     "execution_count": 67,
     "metadata": {},
     "output_type": "execute_result"
    }
   ],
   "source": [
    "vec_king = embeddings_dict[\"king\"]\n",
    "vec_man = embeddings_dict[\"man\"]\n",
    "vec_woman = embeddings_dict[\"woman\"]\n",
    "\n",
    "find_closest_embeddings_ed(vec_king - vec_man + vec_woman)[:5]"
   ]
  },
  {
   "cell_type": "markdown",
   "id": "51781496",
   "metadata": {
    "papermill": {
     "duration": 0.093585,
     "end_time": "2023-08-11T10:00:45.363168",
     "exception": false,
     "start_time": "2023-08-11T10:00:45.269583",
     "status": "completed"
    },
    "tags": []
   },
   "source": [
    "Below is a function I modified using cosine similarity instead of euclidean distance"
   ]
  },
  {
   "cell_type": "code",
   "execution_count": 68,
   "id": "1ff88835",
   "metadata": {
    "execution": {
     "iopub.execute_input": "2023-08-11T10:00:45.545829Z",
     "iopub.status.busy": "2023-08-11T10:00:45.544532Z",
     "iopub.status.idle": "2023-08-11T10:00:45.552410Z",
     "shell.execute_reply": "2023-08-11T10:00:45.550765Z"
    },
    "papermill": {
     "duration": 0.099132,
     "end_time": "2023-08-11T10:00:45.554963",
     "exception": false,
     "start_time": "2023-08-11T10:00:45.455831",
     "status": "completed"
    },
    "tags": []
   },
   "outputs": [],
   "source": [
    "from sklearn.metrics.pairwise import cosine_similarity\n",
    "\n",
    "def find_closest_embeddings_cs(embedding, cutoff=25):\n",
    "    return sorted(embeddings_dict.keys(), \n",
    "                  key=lambda word: -cosine_similarity([embeddings_dict[word]], [embedding])) \n",
    "\n",
    "# Noted that we take negative cosine_similarity since the larger the value, the closer the clustering should be"
   ]
  },
  {
   "cell_type": "code",
   "execution_count": 69,
   "id": "60daef14",
   "metadata": {
    "execution": {
     "iopub.execute_input": "2023-08-11T10:00:45.731586Z",
     "iopub.status.busy": "2023-08-11T10:00:45.731176Z",
     "iopub.status.idle": "2023-08-11T10:02:57.925728Z",
     "shell.execute_reply": "2023-08-11T10:02:57.924608Z"
    },
    "papermill": {
     "duration": 132.378254,
     "end_time": "2023-08-11T10:02:58.020781",
     "exception": false,
     "start_time": "2023-08-11T10:00:45.642527",
     "status": "completed"
    },
    "tags": []
   },
   "outputs": [
    {
     "data": {
      "text/plain": [
       "['king', 'queen', 'monarch', 'throne', 'daughter']"
      ]
     },
     "execution_count": 69,
     "metadata": {},
     "output_type": "execute_result"
    }
   ],
   "source": [
    "# When I ran the two function respectively, the cosine_similarity function takes a \n",
    "# significantly longer time to generate the results\n",
    "\n",
    "vec_king = embeddings_dict[\"king\"]\n",
    "vec_man = embeddings_dict[\"man\"]\n",
    "vec_woman = embeddings_dict[\"woman\"]\n",
    "\n",
    "find_closest_embeddings_cs(vec_king - vec_man + vec_woman)[:5]"
   ]
  },
  {
   "cell_type": "markdown",
   "id": "2d4b16a7",
   "metadata": {
    "papermill": {
     "duration": 0.090439,
     "end_time": "2023-08-11T10:02:58.202518",
     "exception": false,
     "start_time": "2023-08-11T10:02:58.112079",
     "status": "completed"
    },
    "tags": []
   },
   "source": [
    "We see that using two different metrics give us almost identical result.\n",
    "\n",
    "Let's try to visualize the word vectors using TSNE.\n",
    "\n",
    "**What is TSNE?**\n",
    "\n",
    "❗ *t-distributed stochastic neighbor embedding (t-SNE) is a statistical method for visualizing high-dimensional data by giving each datapoint a location in a two or three-dimensional map.*\n",
    "\n",
    "Basically it is a **dimensionality reduction** method using some statistical approach, similar to other dimensionality reduction methods like **PCA**.\n",
    "\n",
    "In short, what we are trying to achieve through TSNE is to reduce the 100 dimensions (vector size) down to 2 dimension so that we can plot it in a graph."
   ]
  },
  {
   "cell_type": "code",
   "execution_count": 70,
   "id": "7899008f",
   "metadata": {
    "execution": {
     "iopub.execute_input": "2023-08-11T10:02:58.384809Z",
     "iopub.status.busy": "2023-08-11T10:02:58.384253Z",
     "iopub.status.idle": "2023-08-11T10:02:59.094759Z",
     "shell.execute_reply": "2023-08-11T10:02:59.092832Z"
    },
    "papermill": {
     "duration": 0.806197,
     "end_time": "2023-08-11T10:02:59.097740",
     "exception": false,
     "start_time": "2023-08-11T10:02:58.291543",
     "status": "completed"
    },
    "tags": []
   },
   "outputs": [
    {
     "data": {
      "text/plain": [
       "array([[ 34.577488, -57.061913],\n",
       "       [-64.94721 , -20.19627 ],\n",
       "       [-27.93493 ,  78.95526 ],\n",
       "       [ 71.543076,  42.095688]], dtype=float32)"
      ]
     },
     "execution_count": 70,
     "metadata": {},
     "output_type": "execute_result"
    }
   ],
   "source": [
    "from sklearn.manifold import TSNE\n",
    "import pandas as pd\n",
    "tsne = TSNE(n_components=2, random_state=42, perplexity=3) # reduce it to 2 dimension\n",
    "\n",
    "words = [\"king\", \"woman\", \"man\", \"queen\"]\n",
    "vectors = []\n",
    "for word in words:\n",
    "    vectors.append(embeddings_dict[word])\n",
    "\n",
    "Y = tsne.fit_transform(np.array(vectors)) \n",
    "#tsne takes in a matrix as input, with the each row representing a vector\n",
    "\n",
    "Y\n",
    "\n",
    "# As we can see from the result below, we have successfully reduce the dimension to 2\n",
    "# Note that there will be loss of information/variance when we attempts to reduce the dimension"
   ]
  },
  {
   "cell_type": "code",
   "execution_count": 71,
   "id": "6de28a22",
   "metadata": {
    "execution": {
     "iopub.execute_input": "2023-08-11T10:02:59.290152Z",
     "iopub.status.busy": "2023-08-11T10:02:59.289368Z",
     "iopub.status.idle": "2023-08-11T10:02:59.766756Z",
     "shell.execute_reply": "2023-08-11T10:02:59.765303Z"
    },
    "papermill": {
     "duration": 0.578085,
     "end_time": "2023-08-11T10:02:59.769861",
     "exception": false,
     "start_time": "2023-08-11T10:02:59.191776",
     "status": "completed"
    },
    "tags": []
   },
   "outputs": [
    {
     "data": {
      "image/png": "[encoded data removed]",
      "text/plain": [
       "<Figure size 640x480 with 1 Axes>"
      ]
     },
     "metadata": {},
     "output_type": "display_data"
    }
   ],
   "source": [
    "import matplotlib.pyplot as plt\n",
    "\n",
    "plt.scatter(Y[:, 0], Y[:, 1]) # x-coordinates and y-coordinates as input\n",
    "\n",
    "for label, x, y in zip(words, Y[:, 0], Y[:, 1]):\n",
    "    plt.annotate(label, xy=(x, y), xytext=(0, 0), textcoords='offset points') # add annotates\n",
    "\n",
    "plt.title('Visualization of word embeddings using GloVe model')\n",
    "plt.show()"
   ]
  },
  {
   "cell_type": "markdown",
   "id": "e8eec999",
   "metadata": {
    "papermill": {
     "duration": 0.0924,
     "end_time": "2023-08-11T10:02:59.955561",
     "exception": false,
     "start_time": "2023-08-11T10:02:59.863161",
     "status": "completed"
    },
    "tags": []
   },
   "source": [
    "# <a id=\"huggingface\"></a><div style=\"text-align:center; font-size:40px;\"><span style=\"color:#3A506B\">🤗 Hugging Face 🤗</span></div>"
   ]
  },
  {
   "cell_type": "markdown",
   "id": "dd345182",
   "metadata": {
    "papermill": {
     "duration": 0.093379,
     "end_time": "2023-08-11T10:03:00.149817",
     "exception": false,
     "start_time": "2023-08-11T10:03:00.056438",
     "status": "completed"
    },
    "tags": []
   },
   "source": [
    "<div style=\"width:100%;text-align: center;\"> <img align=middle src=\"https://i.imgur.com/CoXGZHh.png\" style=\"height: 300px;\"> </div>"
   ]
  },
  {
   "cell_type": "markdown",
   "id": "031f17f2",
   "metadata": {
    "papermill": {
     "duration": 0.101222,
     "end_time": "2023-08-11T10:03:00.361638",
     "exception": false,
     "start_time": "2023-08-11T10:03:00.260416",
     "status": "completed"
    },
    "tags": []
   },
   "source": [
    "Before we move on to the next part, I would like to introduce you with one of the best open souce community and platform for AI - Hugging Face.\n",
    "\n",
    "❗ *Hugging Face, Inc. is an American company that develops tools for building applications using machine learning. It is most notable for its transformers library built for natural language processing applications and its platform that allows users to share machine learning models and datasets.*\n",
    "\n",
    "Hugging Face offers you with an enormous amount of open source AI models and dataset that you can definately find useful in your NLP journey. In this short section, I will briefly introduce you how can you utilize these awesome resources for your projects. \n",
    "\n",
    "\n",
    "**Official Hugging Face website: https://huggingface.co/**"
   ]
  },
  {
   "cell_type": "markdown",
   "id": "f9fdf09e",
   "metadata": {
    "papermill": {
     "duration": 0.103622,
     "end_time": "2023-08-11T10:03:00.560176",
     "exception": false,
     "start_time": "2023-08-11T10:03:00.456554",
     "status": "completed"
    },
    "tags": []
   },
   "source": [
    "### 1️⃣ Importing Hugging Face datasets to train your model\n",
    "\n",
    "Importing Hugging Face datasets is an extremely easy task, first you find the dataset you want. Go to the Hugging Face website -> Click on 'Datasets' on the navigation bar and look for the dataset you want to import.\n",
    "\n",
    "You can utilize the filtering functions on the left side of the screen to find dataset related to the machine learning task you are working on.\n",
    "\n",
    "In this example, we will be using this dataset: https://huggingface.co/datasets/gamino/wiki_medical_terms\n",
    "\n",
    "\n",
    "On the right side of the screen, you should see a button which says **Use in dataset library**\n",
    "\n",
    "<div style=\"width:100%;text-align: center;\"> <img align=middle src=\"https://i.imgur.com/Msskk3C.png\" style=\"height: 400px;\"> </div>\n",
    "\n",
    "<br>\n",
    "\n",
    "Click on it and copy the code to access the dataset"
   ]
  },
  {
   "cell_type": "code",
   "execution_count": 72,
   "id": "9a64be52",
   "metadata": {
    "execution": {
     "iopub.execute_input": "2023-08-11T10:03:00.761693Z",
     "iopub.status.busy": "2023-08-11T10:03:00.760427Z",
     "iopub.status.idle": "2023-08-11T10:03:00.766578Z",
     "shell.execute_reply": "2023-08-11T10:03:00.765655Z"
    },
    "papermill": {
     "duration": 0.107225,
     "end_time": "2023-08-11T10:03:00.769228",
     "exception": false,
     "start_time": "2023-08-11T10:03:00.662003",
     "status": "completed"
    },
    "tags": []
   },
   "outputs": [],
   "source": [
    "# run this command if datasets is not installed in your computer\n",
    "# pip install datasets"
   ]
  },
  {
   "cell_type": "code",
   "execution_count": 73,
   "id": "3504ccc3",
   "metadata": {
    "execution": {
     "iopub.execute_input": "2023-08-11T10:03:00.960630Z",
     "iopub.status.busy": "2023-08-11T10:03:00.959954Z",
     "iopub.status.idle": "2023-08-11T10:03:05.698579Z",
     "shell.execute_reply": "2023-08-11T10:03:05.697162Z"
    },
    "papermill": {
     "duration": 4.840757,
     "end_time": "2023-08-11T10:03:05.705875",
     "exception": false,
     "start_time": "2023-08-11T10:03:00.865118",
     "status": "completed"
    },
    "tags": []
   },
   "outputs": [
    {
     "name": "stdout",
     "output_type": "stream",
     "text": [
      "Downloading and preparing dataset parquet/gamino--wiki_medical_terms to /root/.cache/huggingface/datasets/parquet/gamino--wiki_medical_terms-eeae721dce15cf95/0.0.0/0b6d5799bb726b24ad7fc7be720c170d8e497f575d02d47537de9a5bac074901...\n"
     ]
    },
    {
     "data": {
      "application/vnd.jupyter.widget-view+json": {
       "model_id": "5c08c5e7d7694e87b2bcbd1c9ad27276",
       "version_major": 2,
       "version_minor": 0
      },
      "text/plain": [
       "Downloading data files:   0%|          | 0/1 [00:00<?, ?it/s]"
      ]
     },
     "metadata": {},
     "output_type": "display_data"
    },
    {
     "data": {
      "application/vnd.jupyter.widget-view+json": {
       "model_id": "5b372e5b9a0f4cf5a42cd8d517969d10",
       "version_major": 2,
       "version_minor": 0
      },
      "text/plain": [
       "Downloading data:   0%|          | 0.00/33.1M [00:00<?, ?B/s]"
      ]
     },
     "metadata": {},
     "output_type": "display_data"
    },
    {
     "data": {
      "application/vnd.jupyter.widget-view+json": {
       "model_id": "35e6723708214e9fbba7969169e35266",
       "version_major": 2,
       "version_minor": 0
      },
      "text/plain": [
       "Extracting data files:   0%|          | 0/1 [00:00<?, ?it/s]"
      ]
     },
     "metadata": {},
     "output_type": "display_data"
    },
    {
     "name": "stdout",
     "output_type": "stream",
     "text": [
      "Dataset parquet downloaded and prepared to /root/.cache/huggingface/datasets/parquet/gamino--wiki_medical_terms-eeae721dce15cf95/0.0.0/0b6d5799bb726b24ad7fc7be720c170d8e497f575d02d47537de9a5bac074901. Subsequent calls will reuse this data.\n"
     ]
    },
    {
     "data": {
      "application/vnd.jupyter.widget-view+json": {
       "model_id": "f5e4362460f9493d9653a3b330603511",
       "version_major": 2,
       "version_minor": 0
      },
      "text/plain": [
       "  0%|          | 0/1 [00:00<?, ?it/s]"
      ]
     },
     "metadata": {},
     "output_type": "display_data"
    },
    {
     "data": {
      "text/plain": [
       "DatasetDict({\n",
       "    train: Dataset({\n",
       "        features: ['page_title', 'page_text', '__index_level_0__'],\n",
       "        num_rows: 6861\n",
       "    })\n",
       "})"
      ]
     },
     "execution_count": 73,
     "metadata": {},
     "output_type": "execute_result"
    }
   ],
   "source": [
    "from datasets import load_dataset\n",
    "\n",
    "dataset = load_dataset(\"gamino/wiki_medical_terms\")\n",
    "\n",
    "dataset"
   ]
  },
  {
   "cell_type": "code",
   "execution_count": 74,
   "id": "4ca0d3bb",
   "metadata": {
    "execution": {
     "iopub.execute_input": "2023-08-11T10:03:05.897371Z",
     "iopub.status.busy": "2023-08-11T10:03:05.896387Z",
     "iopub.status.idle": "2023-08-11T10:03:05.905054Z",
     "shell.execute_reply": "2023-08-11T10:03:05.903793Z"
    },
    "papermill": {
     "duration": 0.106126,
     "end_time": "2023-08-11T10:03:05.907758",
     "exception": false,
     "start_time": "2023-08-11T10:03:05.801632",
     "status": "completed"
    },
    "tags": []
   },
   "outputs": [
    {
     "data": {
      "text/plain": [
       "Dataset({\n",
       "    features: ['page_title', 'page_text', '__index_level_0__'],\n",
       "    num_rows: 6861\n",
       "})"
      ]
     },
     "execution_count": 74,
     "metadata": {},
     "output_type": "execute_result"
    }
   ],
   "source": [
    "# It is very easy to navigate through the dataset, it's just like how you navigate through a \n",
    "# python dictionary\n",
    "\n",
    "dataset['train']"
   ]
  },
  {
   "cell_type": "code",
   "execution_count": 75,
   "id": "49eae0d2",
   "metadata": {
    "execution": {
     "iopub.execute_input": "2023-08-11T10:03:06.098214Z",
     "iopub.status.busy": "2023-08-11T10:03:06.097814Z",
     "iopub.status.idle": "2023-08-11T10:03:06.813970Z",
     "shell.execute_reply": "2023-08-11T10:03:06.812375Z"
    },
    "papermill": {
     "duration": 0.816405,
     "end_time": "2023-08-11T10:03:06.817639",
     "exception": false,
     "start_time": "2023-08-11T10:03:06.001234",
     "status": "completed"
    },
    "tags": []
   },
   "outputs": [
    {
     "data": {
      "text/html": [
       "<div>\n",
       "<style scoped>\n",
       "    .dataframe tbody tr th:only-of-type {\n",
       "        vertical-align: middle;\n",
       "    }\n",
       "\n",
       "    .dataframe tbody tr th {\n",
       "        vertical-align: top;\n",
       "    }\n",
       "\n",
       "    .dataframe thead th {\n",
       "        text-align: right;\n",
       "    }\n",
       "</style>\n",
       "<table border=\"1\" class=\"dataframe\">\n",
       "  <thead>\n",
       "    <tr style=\"text-align: right;\">\n",
       "      <th></th>\n",
       "      <th>page_title</th>\n",
       "      <th>page_text</th>\n",
       "      <th>__index_level_0__</th>\n",
       "    </tr>\n",
       "  </thead>\n",
       "  <tbody>\n",
       "    <tr>\n",
       "      <th>0</th>\n",
       "      <td>Paracetamol poisoning</td>\n",
       "      <td>Paracetamol poisoning, also known as acetamino...</td>\n",
       "      <td>0</td>\n",
       "    </tr>\n",
       "    <tr>\n",
       "      <th>1</th>\n",
       "      <td>Acromegaly</td>\n",
       "      <td>Acromegaly is a disorder that results from exc...</td>\n",
       "      <td>1</td>\n",
       "    </tr>\n",
       "    <tr>\n",
       "      <th>2</th>\n",
       "      <td>Actinic keratosis</td>\n",
       "      <td>Actinic keratosis (AK), sometimes called solar...</td>\n",
       "      <td>2</td>\n",
       "    </tr>\n",
       "    <tr>\n",
       "      <th>3</th>\n",
       "      <td>Congenital adrenal hyperplasia</td>\n",
       "      <td>Congenital adrenal hyperplasia (CAH) is a grou...</td>\n",
       "      <td>3</td>\n",
       "    </tr>\n",
       "    <tr>\n",
       "      <th>4</th>\n",
       "      <td>Adrenocortical carcinoma</td>\n",
       "      <td>Adrenocortical carcinoma  (ACC) is an aggressi...</td>\n",
       "      <td>4</td>\n",
       "    </tr>\n",
       "  </tbody>\n",
       "</table>\n",
       "</div>"
      ],
      "text/plain": [
       "                       page_title  \\\n",
       "0           Paracetamol poisoning   \n",
       "1                      Acromegaly   \n",
       "2               Actinic keratosis   \n",
       "3  Congenital adrenal hyperplasia   \n",
       "4        Adrenocortical carcinoma   \n",
       "\n",
       "                                           page_text  __index_level_0__  \n",
       "0  Paracetamol poisoning, also known as acetamino...                  0  \n",
       "1  Acromegaly is a disorder that results from exc...                  1  \n",
       "2  Actinic keratosis (AK), sometimes called solar...                  2  \n",
       "3  Congenital adrenal hyperplasia (CAH) is a grou...                  3  \n",
       "4  Adrenocortical carcinoma  (ACC) is an aggressi...                  4  "
      ]
     },
     "execution_count": 75,
     "metadata": {},
     "output_type": "execute_result"
    }
   ],
   "source": [
    "# You can directly use pd.DataFrame to convert the dataset to your familiar pandas dataframe format\n",
    "\n",
    "import pandas as pd\n",
    "\n",
    "pd.DataFrame(dataset['train']).head()"
   ]
  },
  {
   "cell_type": "markdown",
   "id": "60388581",
   "metadata": {
    "papermill": {
     "duration": 0.096535,
     "end_time": "2023-08-11T10:03:07.172857",
     "exception": false,
     "start_time": "2023-08-11T10:03:07.076322",
     "status": "completed"
    },
    "tags": []
   },
   "source": [
    "### 2️⃣ Using Hugging Face models in your project\n",
    "\n",
    "\n",
    "Importing Hugging Face models is also a very easy task, first find the model you want to use from the 'Models' tab on the navigation bar on Hugging Face.\n",
    "\n",
    "Similar to how you do with dataset, you can copy the code by clicking the **Use in Transformers** button. We will be using the pipeline method for illustration in this notebook. \n",
    "\n",
    "\n",
    "<div style=\"width:100%;text-align: center;\"> <img align=middle src=\"https://i.imgur.com/GKRYTGM.png\" style=\"height: 400px;\"> </div>\n",
    "\n",
    "<br>\n",
    "\n",
    "Also, one thing to point is that a lot of models in Hugging Face also have a workspace in the right hand side for you to test the model, so you can mess around with it to see if this is the model you want to use!\n",
    "\n",
    "In this example, we will be using the popular sentiment-analysis model: https://huggingface.co/finiteautomata/bertweet-base-sentiment-analysis"
   ]
  },
  {
   "cell_type": "code",
   "execution_count": 76,
   "id": "d97a1e3c",
   "metadata": {
    "execution": {
     "iopub.execute_input": "2023-08-11T10:03:07.367119Z",
     "iopub.status.busy": "2023-08-11T10:03:07.366441Z",
     "iopub.status.idle": "2023-08-11T10:03:07.370881Z",
     "shell.execute_reply": "2023-08-11T10:03:07.369700Z"
    },
    "papermill": {
     "duration": 0.102595,
     "end_time": "2023-08-11T10:03:07.373594",
     "exception": false,
     "start_time": "2023-08-11T10:03:07.270999",
     "status": "completed"
    },
    "tags": []
   },
   "outputs": [],
   "source": [
    "# install transformers if you never use it before\n",
    "# Noted that you may need to install either PyTorch or Tensorflow to use the transformer \n",
    "# if you never download either one before\n",
    "\n",
    "# pip install transformers"
   ]
  },
  {
   "cell_type": "code",
   "execution_count": 77,
   "id": "56e01f4b",
   "metadata": {
    "execution": {
     "iopub.execute_input": "2023-08-11T10:03:07.565604Z",
     "iopub.status.busy": "2023-08-11T10:03:07.564950Z",
     "iopub.status.idle": "2023-08-11T10:03:19.581109Z",
     "shell.execute_reply": "2023-08-11T10:03:19.579547Z"
    },
    "papermill": {
     "duration": 12.117381,
     "end_time": "2023-08-11T10:03:19.584825",
     "exception": false,
     "start_time": "2023-08-11T10:03:07.467444",
     "status": "completed"
    },
    "tags": []
   },
   "outputs": [
    {
     "data": {
      "application/vnd.jupyter.widget-view+json": {
       "model_id": "1823b057b6c94929883d09acb6ba1010",
       "version_major": 2,
       "version_minor": 0
      },
      "text/plain": [
       "Downloading (…)lve/main/config.json:   0%|          | 0.00/949 [00:00<?, ?B/s]"
      ]
     },
     "metadata": {},
     "output_type": "display_data"
    },
    {
     "data": {
      "application/vnd.jupyter.widget-view+json": {
       "model_id": "bb1193cc00094bb3ab36b85f95ae9176",
       "version_major": 2,
       "version_minor": 0
      },
      "text/plain": [
       "Downloading pytorch_model.bin:   0%|          | 0.00/540M [00:00<?, ?B/s]"
      ]
     },
     "metadata": {},
     "output_type": "display_data"
    },
    {
     "data": {
      "application/vnd.jupyter.widget-view+json": {
       "model_id": "6f915c730f8a45d9906248a2d886f0ae",
       "version_major": 2,
       "version_minor": 0
      },
      "text/plain": [
       "Downloading (…)okenizer_config.json:   0%|          | 0.00/338 [00:00<?, ?B/s]"
      ]
     },
     "metadata": {},
     "output_type": "display_data"
    },
    {
     "data": {
      "application/vnd.jupyter.widget-view+json": {
       "model_id": "194db86a655747609cf504b643bf8d10",
       "version_major": 2,
       "version_minor": 0
      },
      "text/plain": [
       "Downloading (…)solve/main/vocab.txt:   0%|          | 0.00/843k [00:00<?, ?B/s]"
      ]
     },
     "metadata": {},
     "output_type": "display_data"
    },
    {
     "data": {
      "application/vnd.jupyter.widget-view+json": {
       "model_id": "3d5c5fa6ad704c25a4252332a6e6caec",
       "version_major": 2,
       "version_minor": 0
      },
      "text/plain": [
       "Downloading (…)solve/main/bpe.codes:   0%|          | 0.00/1.08M [00:00<?, ?B/s]"
      ]
     },
     "metadata": {},
     "output_type": "display_data"
    },
    {
     "data": {
      "application/vnd.jupyter.widget-view+json": {
       "model_id": "3d5bbb5e72874d8cb7fde579a822c813",
       "version_major": 2,
       "version_minor": 0
      },
      "text/plain": [
       "Downloading (…)in/added_tokens.json:   0%|          | 0.00/22.0 [00:00<?, ?B/s]"
      ]
     },
     "metadata": {},
     "output_type": "display_data"
    },
    {
     "data": {
      "application/vnd.jupyter.widget-view+json": {
       "model_id": "ab0b175132a34a8faf8c5a19a957e48f",
       "version_major": 2,
       "version_minor": 0
      },
      "text/plain": [
       "Downloading (…)cial_tokens_map.json:   0%|          | 0.00/167 [00:00<?, ?B/s]"
      ]
     },
     "metadata": {},
     "output_type": "display_data"
    },
    {
     "name": "stderr",
     "output_type": "stream",
     "text": [
      "Xformers is not installed correctly. If you want to use memory_efficient_attention to accelerate training use the following command to install Xformers\n",
      "pip install xformers.\n"
     ]
    }
   ],
   "source": [
    "from transformers import pipeline\n",
    "\n",
    "pipe = pipeline(\"text-classification\", model=\"finiteautomata/bertweet-base-sentiment-analysis\")"
   ]
  },
  {
   "cell_type": "code",
   "execution_count": 78,
   "id": "5b2fba16",
   "metadata": {
    "execution": {
     "iopub.execute_input": "2023-08-11T10:03:19.788105Z",
     "iopub.status.busy": "2023-08-11T10:03:19.787049Z",
     "iopub.status.idle": "2023-08-11T10:03:19.975159Z",
     "shell.execute_reply": "2023-08-11T10:03:19.974192Z"
    },
    "papermill": {
     "duration": 0.29115,
     "end_time": "2023-08-11T10:03:19.977734",
     "exception": false,
     "start_time": "2023-08-11T10:03:19.686584",
     "status": "completed"
    },
    "tags": []
   },
   "outputs": [
    {
     "data": {
      "text/plain": [
       "[{'label': 'POS', 'score': 0.9869877099990845}]"
      ]
     },
     "execution_count": 78,
     "metadata": {},
     "output_type": "execute_result"
    }
   ],
   "source": [
    "# As you can see the model gives us a pretty accurate result\n",
    "\n",
    "pipe(\"Learning natural language processing is fun\")"
   ]
  },
  {
   "cell_type": "markdown",
   "id": "1e9ac4d1",
   "metadata": {
    "papermill": {
     "duration": 0.094214,
     "end_time": "2023-08-11T10:03:20.173201",
     "exception": false,
     "start_time": "2023-08-11T10:03:20.078987",
     "status": "completed"
    },
    "tags": []
   },
   "source": [
    "As you can see, HuggingFace really offer you with a lot of cool things you can do and can really optimize your machine learning journey a lot. All thanks to such a wonderful open source community 🔥"
   ]
  },
  {
   "cell_type": "markdown",
   "id": "0c7547ab",
   "metadata": {
    "papermill": {
     "duration": 0.092381,
     "end_time": "2023-08-11T10:03:20.359073",
     "exception": false,
     "start_time": "2023-08-11T10:03:20.266692",
     "status": "completed"
    },
    "tags": []
   },
   "source": [
    "# <a id=\"bert\"></a><div style=\"text-align:center; font-size:40px;\"><span style=\"color:#3A506B\">🌟 Bidirectional Encoder Representations from Transformers (BERT) 🌟</span></div>\n",
    "\n",
    "\n",
    "<div style=\"width:100%;text-align: center;\"> <img align=middle src=\"https://i.imgur.com/wEEfptI.png\" style=\"height: 500px;\"> </div>"
   ]
  },
  {
   "cell_type": "markdown",
   "id": "5f6396e7",
   "metadata": {
    "papermill": {
     "duration": 0.092074,
     "end_time": "2023-08-11T10:03:20.547021",
     "exception": false,
     "start_time": "2023-08-11T10:03:20.454947",
     "status": "completed"
    },
    "tags": []
   },
   "source": [
    "❗ *BERT, which stands for Bidirectional Encoder Representations from Transformers, is **based on Transformers**, a deep learning model in which every output element is connected to every input element, and the weightings between them are dynamically calculated based upon their connection.*\n",
    "\n",
    "BERT is an extremely powerful model in the sense that **it can 'understand' contextual meaning** and assign each word with a unique **contextualized embedding** based on the context of the sentence.\n",
    "\n",
    "What do we mean by that?\n",
    "\n",
    "Throughout this notebook, we have introduced multiple word embedding techniques and models such as Word2Vec and GloVe. But have you ever come across a situation where **the same word have different meaning in different sentences**? If you ran the algorithm with those models, it will return the same embedding for the same word, regardless of their **contextual meaning**.\n",
    "\n",
    "For example,\n",
    "\n",
    "> **'set is an important concept in mathematics'** <br>\n",
    "> **'peter just bought a set of lego'** <br>\n",
    "> **'This is a set of equipments'**\n",
    "\n",
    "In the above example, we human know that the 'set' from the first sentence is very different from the 'set' in the second and third sentences. BERT is a model which can give us a different embedding for the same word based on the context, which is really powerful thing in NLP.\n",
    "\n",
    "Apart from BERT being able to generate contextualized embedding for words in different context, **BERT can also assign embedding to a sentence instead of just assigning embeddings to tokens**, which is something really handy when dealing with tasks such as search engine etc.\n",
    "\n",
    "The working principle behind BERT is pretty complicated, which involve the architecture of transformers and concepts of encoders. These concepts will not be explained in this notebook since I personally found it to be not very beginner friendly, and in fact, I myself do not have a deep understanding to the topic as well as in for now. With that being said, if anyone can share some good resources in helping us to understanding more about transformers and BERT model, it will be great if you can share with us through commenting on this notebook!\n",
    "\n",
    "I will put some resources here if you are interested in how BERT work: \n",
    "\n",
    "### 📑 Resources:\n",
    "\n",
    "StatQuest: https://www.youtube.com/watch?v=zxQyTK8quyY <br>\n",
    "Umar Jamil: https://www.youtube.com/watch?v=bCz4OMemCcA <br>\n",
    "Jay Alammar: http://jalammar.github.io/illustrated-bert/ <br>\n",
    "Google Youtube: https://www.youtube.com/watch?v=t45S_MwAcOw <br>\n",
    "Google BERT github: https://github.com/google-research/bert <br>\n",
    "Attention is All You Need (Paper on Transformer): https://proceedings.neurips.cc/paper_files/paper/2017/file/3f5ee243547dee91fbd053c1c4a845aa-Paper.pdf\n"
   ]
  },
  {
   "cell_type": "markdown",
   "id": "213a93ec",
   "metadata": {
    "papermill": {
     "duration": 0.093112,
     "end_time": "2023-08-11T10:03:20.731910",
     "exception": false,
     "start_time": "2023-08-11T10:03:20.638798",
     "status": "completed"
    },
    "tags": []
   },
   "source": [
    "### 🧑‍💻 Let's code \n",
    "\n",
    "In this section, we will be touching the tips of BERT using tensorflow model.\n",
    "\n",
    "\n",
    "Full list of BERT models from tensorflow:  https://tfhub.dev/google/collections/bert/1\n"
   ]
  },
  {
   "cell_type": "code",
   "execution_count": 79,
   "id": "b1a75823",
   "metadata": {
    "execution": {
     "iopub.execute_input": "2023-08-11T10:03:20.925039Z",
     "iopub.status.busy": "2023-08-11T10:03:20.924626Z",
     "iopub.status.idle": "2023-08-11T10:03:20.929368Z",
     "shell.execute_reply": "2023-08-11T10:03:20.928308Z"
    },
    "papermill": {
     "duration": 0.105696,
     "end_time": "2023-08-11T10:03:20.931745",
     "exception": false,
     "start_time": "2023-08-11T10:03:20.826049",
     "status": "completed"
    },
    "tags": []
   },
   "outputs": [],
   "source": [
    "# pip install tensorflow_hub\n",
    "# pip install tensorflow_text"
   ]
  },
  {
   "cell_type": "code",
   "execution_count": 80,
   "id": "fc5073ae",
   "metadata": {
    "execution": {
     "iopub.execute_input": "2023-08-11T10:03:21.124918Z",
     "iopub.status.busy": "2023-08-11T10:03:21.123221Z",
     "iopub.status.idle": "2023-08-11T10:03:22.084156Z",
     "shell.execute_reply": "2023-08-11T10:03:22.082574Z"
    },
    "papermill": {
     "duration": 1.057725,
     "end_time": "2023-08-11T10:03:22.087100",
     "exception": false,
     "start_time": "2023-08-11T10:03:21.029375",
     "status": "completed"
    },
    "tags": []
   },
   "outputs": [],
   "source": [
    "import tensorflow_hub as hub\n",
    "import tensorflow_text as text"
   ]
  },
  {
   "cell_type": "code",
   "execution_count": 81,
   "id": "e31a1672",
   "metadata": {
    "execution": {
     "iopub.execute_input": "2023-08-11T10:03:22.285373Z",
     "iopub.status.busy": "2023-08-11T10:03:22.284593Z",
     "iopub.status.idle": "2023-08-11T10:03:22.289225Z",
     "shell.execute_reply": "2023-08-11T10:03:22.288371Z"
    },
    "papermill": {
     "duration": 0.104638,
     "end_time": "2023-08-11T10:03:22.292095",
     "exception": false,
     "start_time": "2023-08-11T10:03:22.187457",
     "status": "completed"
    },
    "tags": []
   },
   "outputs": [],
   "source": [
    "# did you know the word 'set' has the most meaning? \n",
    "text_input = ['set is an important concept in mathematics',\n",
    "              'peter just bought a set of lego',\n",
    "              'This is a set of equipments',]"
   ]
  },
  {
   "cell_type": "code",
   "execution_count": 82,
   "id": "4b27c4eb",
   "metadata": {
    "execution": {
     "iopub.execute_input": "2023-08-11T10:03:22.490212Z",
     "iopub.status.busy": "2023-08-11T10:03:22.489567Z",
     "iopub.status.idle": "2023-08-11T10:03:25.976821Z",
     "shell.execute_reply": "2023-08-11T10:03:25.975884Z"
    },
    "papermill": {
     "duration": 3.588591,
     "end_time": "2023-08-11T10:03:25.979969",
     "exception": false,
     "start_time": "2023-08-11T10:03:22.391378",
     "status": "completed"
    },
    "tags": []
   },
   "outputs": [],
   "source": [
    "# Download the preprocessor and run it with tensorflow_hub\n",
    "preprocessor = hub.KerasLayer(\n",
    "    \"https://tfhub.dev/tensorflow/bert_en_uncased_preprocess/3\")\n",
    "encoder_inputs = preprocessor(text_input) # pass the text input into the preprocessor"
   ]
  },
  {
   "cell_type": "code",
   "execution_count": 83,
   "id": "360f64f1",
   "metadata": {
    "execution": {
     "iopub.execute_input": "2023-08-11T10:03:26.179110Z",
     "iopub.status.busy": "2023-08-11T10:03:26.178486Z",
     "iopub.status.idle": "2023-08-11T10:03:26.185062Z",
     "shell.execute_reply": "2023-08-11T10:03:26.184139Z"
    },
    "papermill": {
     "duration": 0.108314,
     "end_time": "2023-08-11T10:03:26.188053",
     "exception": false,
     "start_time": "2023-08-11T10:03:26.079739",
     "status": "completed"
    },
    "tags": []
   },
   "outputs": [
    {
     "data": {
      "text/plain": [
       "dict_keys(['input_word_ids', 'input_mask', 'input_type_ids'])"
      ]
     },
     "execution_count": 83,
     "metadata": {},
     "output_type": "execute_result"
    }
   ],
   "source": [
    "encoder_inputs.keys()"
   ]
  },
  {
   "cell_type": "code",
   "execution_count": 84,
   "id": "31331dae",
   "metadata": {
    "execution": {
     "iopub.execute_input": "2023-08-11T10:03:26.379406Z",
     "iopub.status.busy": "2023-08-11T10:03:26.378982Z",
     "iopub.status.idle": "2023-08-11T10:03:26.389649Z",
     "shell.execute_reply": "2023-08-11T10:03:26.388003Z"
    },
    "papermill": {
     "duration": 0.10735,
     "end_time": "2023-08-11T10:03:26.392460",
     "exception": false,
     "start_time": "2023-08-11T10:03:26.285110",
     "status": "completed"
    },
    "tags": []
   },
   "outputs": [
    {
     "data": {
      "text/plain": [
       "<tf.Tensor: shape=(3, 128), dtype=int32, numpy=\n",
       "array([[  101,  2275,  2003,  2019,  2590,  4145,  1999,  5597,   102,\n",
       "            0,     0,     0,     0,     0,     0,     0,     0,     0,\n",
       "            0,     0,     0,     0,     0,     0,     0,     0,     0,\n",
       "            0,     0,     0,     0,     0,     0,     0,     0,     0,\n",
       "            0,     0,     0,     0,     0,     0,     0,     0,     0,\n",
       "            0,     0,     0,     0,     0,     0,     0,     0,     0,\n",
       "            0,     0,     0,     0,     0,     0,     0,     0,     0,\n",
       "            0,     0,     0,     0,     0,     0,     0,     0,     0,\n",
       "            0,     0,     0,     0,     0,     0,     0,     0,     0,\n",
       "            0,     0,     0,     0,     0,     0,     0,     0,     0,\n",
       "            0,     0,     0,     0,     0,     0,     0,     0,     0,\n",
       "            0,     0,     0,     0,     0,     0,     0,     0,     0,\n",
       "            0,     0,     0,     0,     0,     0,     0,     0,     0,\n",
       "            0,     0,     0,     0,     0,     0,     0,     0,     0,\n",
       "            0,     0],\n",
       "       [  101,  2848,  2074,  4149,  1037,  2275,  1997, 23853,   102,\n",
       "            0,     0,     0,     0,     0,     0,     0,     0,     0,\n",
       "            0,     0,     0,     0,     0,     0,     0,     0,     0,\n",
       "            0,     0,     0,     0,     0,     0,     0,     0,     0,\n",
       "            0,     0,     0,     0,     0,     0,     0,     0,     0,\n",
       "            0,     0,     0,     0,     0,     0,     0,     0,     0,\n",
       "            0,     0,     0,     0,     0,     0,     0,     0,     0,\n",
       "            0,     0,     0,     0,     0,     0,     0,     0,     0,\n",
       "            0,     0,     0,     0,     0,     0,     0,     0,     0,\n",
       "            0,     0,     0,     0,     0,     0,     0,     0,     0,\n",
       "            0,     0,     0,     0,     0,     0,     0,     0,     0,\n",
       "            0,     0,     0,     0,     0,     0,     0,     0,     0,\n",
       "            0,     0,     0,     0,     0,     0,     0,     0,     0,\n",
       "            0,     0,     0,     0,     0,     0,     0,     0,     0,\n",
       "            0,     0],\n",
       "       [  101,  2023,  2003,  1037,  2275,  1997,  3941,  2015,   102,\n",
       "            0,     0,     0,     0,     0,     0,     0,     0,     0,\n",
       "            0,     0,     0,     0,     0,     0,     0,     0,     0,\n",
       "            0,     0,     0,     0,     0,     0,     0,     0,     0,\n",
       "            0,     0,     0,     0,     0,     0,     0,     0,     0,\n",
       "            0,     0,     0,     0,     0,     0,     0,     0,     0,\n",
       "            0,     0,     0,     0,     0,     0,     0,     0,     0,\n",
       "            0,     0,     0,     0,     0,     0,     0,     0,     0,\n",
       "            0,     0,     0,     0,     0,     0,     0,     0,     0,\n",
       "            0,     0,     0,     0,     0,     0,     0,     0,     0,\n",
       "            0,     0,     0,     0,     0,     0,     0,     0,     0,\n",
       "            0,     0,     0,     0,     0,     0,     0,     0,     0,\n",
       "            0,     0,     0,     0,     0,     0,     0,     0,     0,\n",
       "            0,     0,     0,     0,     0,     0,     0,     0,     0,\n",
       "            0,     0]], dtype=int32)>"
      ]
     },
     "execution_count": 84,
     "metadata": {},
     "output_type": "execute_result"
    }
   ],
   "source": [
    "encoder_inputs['input_word_ids']"
   ]
  },
  {
   "cell_type": "markdown",
   "id": "ca1be1c2",
   "metadata": {
    "papermill": {
     "duration": 0.095374,
     "end_time": "2023-08-11T10:03:26.585930",
     "exception": false,
     "start_time": "2023-08-11T10:03:26.490556",
     "status": "completed"
    },
    "tags": []
   },
   "source": [
    "encoder_inputs\\['input_word_ids'\\] return us with tensor of shape (3, 128), what does that mean\n",
    "\n",
    "> 3 refers to the '3' sentences we have in text input\n",
    "\n",
    "> 128 is the array to represent the sentence when we use this particular model \n",
    "(that is, if the number of tokens from a sentence is longer than 128 (126 in fact due to masking), it will not work properly)\n",
    ">> - Notice how each sentence is 'masked' between '101' and '102' <br>\n",
    ">> - Also notice that the word 'set' has the same word_id up till this stage"
   ]
  },
  {
   "cell_type": "code",
   "execution_count": 85,
   "id": "204bf3af",
   "metadata": {
    "execution": {
     "iopub.execute_input": "2023-08-11T10:03:26.782054Z",
     "iopub.status.busy": "2023-08-11T10:03:26.781063Z",
     "iopub.status.idle": "2023-08-11T10:03:48.910054Z",
     "shell.execute_reply": "2023-08-11T10:03:48.908359Z"
    },
    "papermill": {
     "duration": 22.232833,
     "end_time": "2023-08-11T10:03:48.915647",
     "exception": false,
     "start_time": "2023-08-11T10:03:26.682814",
     "status": "completed"
    },
    "tags": []
   },
   "outputs": [],
   "source": [
    "# Download the encoder and run it with tensorflow_hub\n",
    "encoder = hub.KerasLayer(\n",
    "    \"https://tfhub.dev/tensorflow/bert_en_uncased_L-12_H-768_A-12/4\",\n",
    "    trainable=True)\n",
    "outputs = encoder(encoder_inputs) # pass the encoder inputs to the encoder"
   ]
  },
  {
   "cell_type": "code",
   "execution_count": 86,
   "id": "31ace54b",
   "metadata": {
    "execution": {
     "iopub.execute_input": "2023-08-11T10:03:49.111602Z",
     "iopub.status.busy": "2023-08-11T10:03:49.109859Z",
     "iopub.status.idle": "2023-08-11T10:03:49.119978Z",
     "shell.execute_reply": "2023-08-11T10:03:49.117674Z"
    },
    "papermill": {
     "duration": 0.108407,
     "end_time": "2023-08-11T10:03:49.122668",
     "exception": false,
     "start_time": "2023-08-11T10:03:49.014261",
     "status": "completed"
    },
    "tags": []
   },
   "outputs": [
    {
     "data": {
      "text/plain": [
       "dict_keys(['sequence_output', 'default', 'pooled_output', 'encoder_outputs'])"
      ]
     },
     "execution_count": 86,
     "metadata": {},
     "output_type": "execute_result"
    }
   ],
   "source": [
    "outputs.keys()"
   ]
  },
  {
   "cell_type": "code",
   "execution_count": 87,
   "id": "4b26f108",
   "metadata": {
    "execution": {
     "iopub.execute_input": "2023-08-11T10:03:49.313010Z",
     "iopub.status.busy": "2023-08-11T10:03:49.312492Z",
     "iopub.status.idle": "2023-08-11T10:03:49.323131Z",
     "shell.execute_reply": "2023-08-11T10:03:49.321591Z"
    },
    "papermill": {
     "duration": 0.108492,
     "end_time": "2023-08-11T10:03:49.325933",
     "exception": false,
     "start_time": "2023-08-11T10:03:49.217441",
     "status": "completed"
    },
    "tags": []
   },
   "outputs": [
    {
     "data": {
      "text/plain": [
       "<tf.Tensor: shape=(3, 768), dtype=float32, numpy=\n",
       "array([[-0.90213025, -0.1839883 ,  0.05963766, ..., -0.52620184,\n",
       "        -0.5591834 ,  0.7996441 ],\n",
       "       [-0.5723748 , -0.17856422,  0.5816923 , ...,  0.3699914 ,\n",
       "        -0.4697342 ,  0.7774623 ],\n",
       "       [-0.6655073 , -0.10500483,  0.5457234 , ...,  0.1547777 ,\n",
       "        -0.46922094,  0.6209438 ]], dtype=float32)>"
      ]
     },
     "execution_count": 87,
     "metadata": {},
     "output_type": "execute_result"
    }
   ],
   "source": [
    "# the pooled_output is the embeddings for the whole sentence\n",
    "# ie. outputs['pooled_output'][0] is the embeddings for the whole sentence 'set is an important concept in mathematics'\n",
    "\n",
    "outputs['pooled_output']"
   ]
  },
  {
   "cell_type": "markdown",
   "id": "986ebff9",
   "metadata": {
    "papermill": {
     "duration": 0.091704,
     "end_time": "2023-08-11T10:03:49.513765",
     "exception": false,
     "start_time": "2023-08-11T10:03:49.422061",
     "status": "completed"
    },
    "tags": []
   },
   "source": [
    "We can see that the BERT model can give us embedding for the whole sentence instead of just embedding for each individual word like other models we have reviewed so far. This can be some really power tool in handling various task such as a search engine."
   ]
  },
  {
   "cell_type": "code",
   "execution_count": 88,
   "id": "b7c4d050",
   "metadata": {
    "execution": {
     "iopub.execute_input": "2023-08-11T10:03:49.700812Z",
     "iopub.status.busy": "2023-08-11T10:03:49.700409Z",
     "iopub.status.idle": "2023-08-11T10:03:49.710687Z",
     "shell.execute_reply": "2023-08-11T10:03:49.709360Z"
    },
    "papermill": {
     "duration": 0.107014,
     "end_time": "2023-08-11T10:03:49.713001",
     "exception": false,
     "start_time": "2023-08-11T10:03:49.605987",
     "status": "completed"
    },
    "tags": []
   },
   "outputs": [
    {
     "data": {
      "text/plain": [
       "<tf.Tensor: shape=(3, 128, 768), dtype=float32, numpy=\n",
       "array([[[-0.14285313, -0.11733553, -0.17332198, ..., -0.09829884,\n",
       "         -0.18116593,  1.0783879 ],\n",
       "        [ 0.9034552 , -0.5166439 , -0.15524365, ..., -0.05567019,\n",
       "         -0.24226782,  0.86646074],\n",
       "        [ 0.04437955, -0.20812376, -0.5376128 , ..., -0.26888025,\n",
       "         -0.6224301 ,  1.453457  ],\n",
       "        ...,\n",
       "        [ 0.37507972, -0.4484274 ,  0.22302862, ..., -0.24965082,\n",
       "         -0.496638  ,  0.8025898 ],\n",
       "        [ 0.2624795 , -0.37693194,  0.21491574, ..., -0.13308641,\n",
       "         -0.53454334,  0.76095825],\n",
       "        [ 0.2908988 , -0.44833168,  0.27756217, ..., -0.1181654 ,\n",
       "         -0.52446455,  0.76960516]],\n",
       "\n",
       "       [[ 0.20126812,  0.07174565,  0.12728544, ...,  0.08380842,\n",
       "          0.24565987,  0.14007589],\n",
       "        [ 0.11467482, -0.45480606, -0.41428778, ...,  0.05574201,\n",
       "          0.7797263 ,  0.29912966],\n",
       "        [ 1.0150938 , -0.5844072 ,  0.05093553, ..., -0.28102306,\n",
       "          0.5954908 ,  0.6756658 ],\n",
       "        ...,\n",
       "        [ 0.2564836 ,  0.12519084,  0.38766912, ...,  0.28551054,\n",
       "          0.14887297,  0.03164309],\n",
       "        [ 0.29787713,  0.0512907 ,  0.31744623, ...,  0.19334312,\n",
       "          0.1574007 ,  0.01752814],\n",
       "        [ 0.19397275,  0.1588967 ,  0.43941036, ...,  0.28604525,\n",
       "          0.15567425,  0.09913845]],\n",
       "\n",
       "       [[ 0.07438356,  0.03150877,  0.17894787, ..., -0.17117873,\n",
       "          0.06779572,  0.42062455],\n",
       "        [-0.02848553, -0.22934829,  0.36020374, ..., -0.38863054,\n",
       "          0.3986551 ,  0.6367251 ],\n",
       "        [-0.16189273, -0.15472692,  0.5149293 , ..., -0.11080358,\n",
       "         -0.32402757,  1.0402099 ],\n",
       "        ...,\n",
       "        [ 0.40245363,  0.0769546 ,  0.23419045, ...,  0.03383346,\n",
       "         -0.04678195,  0.20887929],\n",
       "        [ 0.34469935,  0.00163754,  0.2366004 , ...,  0.11659422,\n",
       "         -0.07762715,  0.08840862],\n",
       "        [ 0.2938908 ,  0.02014213,  0.2684132 , ...,  0.11732156,\n",
       "         -0.0824085 ,  0.13629669]]], dtype=float32)>"
      ]
     },
     "execution_count": 88,
     "metadata": {},
     "output_type": "execute_result"
    }
   ],
   "source": [
    "# sequence_output gives us the embedding of each individual words\n",
    "\n",
    "outputs['sequence_output']"
   ]
  },
  {
   "cell_type": "markdown",
   "id": "976bb870",
   "metadata": {
    "papermill": {
     "duration": 0.092024,
     "end_time": "2023-08-11T10:03:49.898221",
     "exception": false,
     "start_time": "2023-08-11T10:03:49.806197",
     "status": "completed"
    },
    "tags": []
   },
   "source": [
    "As we can see, the sequence_output gives us a tensor of shape(5, 128, 768), where \n",
    "\n",
    "> 3 is referring to our 3 sentences\n",
    "\n",
    "> 128 refers the **array of each sentence**\n",
    ">> If you recall from encoder_inputs\\['input_word_ids'\\], we see that the preprocessor gives us an array of 128 length for each sentence in which it will automatically add zeros to fill up the empty space aka padding.\n",
    "\n",
    "> 768 refers to the **contextualized embedding of each individual token**\n",
    "\n",
    "### Question: How do we get the embedding for the word 'set' from the first sentence ('set is an important concept in mathematics')?"
   ]
  },
  {
   "cell_type": "code",
   "execution_count": 89,
   "id": "c109d6a3",
   "metadata": {
    "execution": {
     "iopub.execute_input": "2023-08-11T10:03:50.087673Z",
     "iopub.status.busy": "2023-08-11T10:03:50.087112Z",
     "iopub.status.idle": "2023-08-11T10:03:50.117691Z",
     "shell.execute_reply": "2023-08-11T10:03:50.116646Z"
    },
    "papermill": {
     "duration": 0.129716,
     "end_time": "2023-08-11T10:03:50.120711",
     "exception": false,
     "start_time": "2023-08-11T10:03:49.990995",
     "status": "completed"
    },
    "tags": []
   },
   "outputs": [
    {
     "data": {
      "text/plain": [
       "<tf.Tensor: shape=(768,), dtype=float32, numpy=\n",
       "array([ 9.03455198e-01, -5.16643882e-01, -1.55243650e-01, -4.33008134e-01,\n",
       "        4.66845453e-01, -4.72577959e-01,  3.83235008e-01,  1.46557894e-02,\n",
       "        1.24110281e-02, -8.46754014e-02, -1.49692789e-01,  4.84073348e-02,\n",
       "       -7.68614173e-01, -3.29155922e-01,  3.99931669e-01,  6.63932189e-02,\n",
       "        1.95751578e-01,  1.94413081e-01, -8.57435107e-01,  5.86364418e-04,\n",
       "       -1.65836602e-01,  2.07650382e-02, -2.50799894e-01,  2.32301548e-01,\n",
       "       -1.44238070e-01, -2.02241972e-01, -7.53185093e-01, -5.12478054e-01,\n",
       "        6.06184900e-01,  9.03528452e-01,  2.75007248e-01,  3.81905735e-01,\n",
       "        1.23683531e-02, -6.47507966e-01, -5.77198029e-01, -5.05982876e-01,\n",
       "        5.52057445e-01, -1.67431578e-01, -4.78342772e-01, -2.73136526e-01,\n",
       "        3.54996741e-01,  3.23977917e-01,  4.45235968e-01,  9.86210257e-02,\n",
       "       -2.30289921e-01, -7.21584439e-01, -8.53035808e-01, -1.12025476e+00,\n",
       "        1.14361107e+00, -4.71417934e-01, -2.55077094e-01, -3.75083536e-02,\n",
       "       -3.04600745e-01,  5.58241725e-01, -3.29217315e-01,  9.21591818e-01,\n",
       "       -2.91181028e-01,  1.52031332e-01,  5.44045329e-01,  1.02342144e-01,\n",
       "       -2.70030975e-01,  2.88370013e-01,  1.31835926e+00, -3.04067850e-01,\n",
       "        2.44275331e-01,  1.11458576e+00,  1.76448330e-01, -4.73779589e-01,\n",
       "       -4.10575747e-01,  1.09354988e-01, -8.13188314e-01, -5.28674006e-01,\n",
       "       -1.03518343e+00,  5.57726383e-01, -2.26438835e-01,  2.09963515e-01,\n",
       "       -4.40571487e-01, -2.06565648e-01,  5.65782845e-01, -5.59840053e-02,\n",
       "        2.38340139e-01,  1.16581094e+00, -7.86087662e-02,  2.53842801e-01,\n",
       "        4.43394750e-01, -2.21380845e-01, -5.59088588e-01,  1.54158592e-01,\n",
       "       -3.53043079e-01,  8.94446373e-01,  4.14393395e-01, -3.16102266e-01,\n",
       "        1.27598554e-01, -3.27946365e-01,  1.31549716e-01, -2.97617733e-01,\n",
       "       -3.39543909e-01,  7.28266090e-02,  7.51557946e-01, -2.85487473e-01,\n",
       "       -4.75579858e-01, -4.92516905e-01, -3.21808934e-01, -1.06691694e+00,\n",
       "       -6.68602884e-01, -2.69134283e-01, -1.33725539e-01,  1.44689590e-01,\n",
       "        7.36856580e-01, -1.31074607e+00, -2.96155304e-01,  7.29790807e-01,\n",
       "        1.20619141e-01,  1.24613121e-01, -3.25104535e-01,  5.23487508e-01,\n",
       "       -1.49374202e-01,  1.76794946e-01,  9.10027847e-02, -6.63482726e-01,\n",
       "       -3.74791026e-01,  6.00848734e-01,  5.11395782e-02,  5.79627395e-01,\n",
       "       -1.44782394e-01, -9.34447348e-02,  2.54679471e-01,  6.93979084e-01,\n",
       "       -5.71637511e-01, -2.24726886e-01,  5.49983904e-02,  3.73135000e-01,\n",
       "       -1.33561179e-01, -4.03988540e-01,  1.80512607e-01,  4.12968546e-01,\n",
       "       -3.92633796e-01,  8.11380707e-03, -3.07026207e-01,  2.02868909e-01,\n",
       "       -1.92551315e-01,  1.63405612e-01, -1.52793872e+00,  5.34294069e-01,\n",
       "        1.41566157e-01,  5.55343390e-01,  4.88310874e-01, -8.34706783e-01,\n",
       "        5.62718287e-02,  7.33506322e-01,  7.59266615e-01,  4.17991161e-01,\n",
       "       -2.96922892e-01, -7.62501508e-02,  1.53848976e-01,  4.94789958e-01,\n",
       "        2.66643465e-01,  6.52083635e-01, -6.96110800e-02, -4.06742573e-01,\n",
       "        4.14455771e-01,  4.61375713e-03,  1.01247035e-01,  4.19988275e-01,\n",
       "       -4.48838383e-01, -1.69542342e-01, -1.59065984e-02, -6.88280091e-02,\n",
       "        4.25480247e-01,  6.04322433e-01,  6.70827329e-02, -6.85055196e-01,\n",
       "        1.80359975e-01,  9.79991704e-02,  9.81434286e-02, -9.12167653e-02,\n",
       "        1.64138585e-01,  1.79458484e-01,  2.90872902e-01, -6.04521893e-02,\n",
       "       -6.04076505e-01,  8.95594954e-01,  7.90270329e-01, -2.53473878e-01,\n",
       "       -4.31121320e-01,  3.23781043e-01,  1.11988044e+00, -8.28779340e-01,\n",
       "       -8.59901458e-02,  4.08319414e-01,  2.41561636e-01, -3.02980900e-01,\n",
       "        1.08860612e-01, -1.63467810e-01,  1.38183236e+00,  2.43745163e-01,\n",
       "       -9.28734392e-02, -9.30445731e-01, -6.78526051e-03, -1.97829530e-02,\n",
       "       -5.47165155e-01, -8.32141340e-01,  9.20040980e-02, -9.48693156e-02,\n",
       "       -6.05874598e-01,  1.74832594e+00, -6.30703747e-01, -7.38329768e-01,\n",
       "       -7.01801777e-01,  2.22805753e-01, -1.46133572e-01,  4.38423932e-01,\n",
       "        5.47351718e-01, -8.42958242e-02, -2.84464836e-01, -3.72555368e-02,\n",
       "       -2.18295231e-01,  1.49256647e-01,  3.65076989e-01, -3.03948313e-01,\n",
       "        1.25606811e+00, -2.46369839e-02, -9.25356448e-01, -2.68941373e-01,\n",
       "       -9.76876497e-01,  1.21361887e+00,  1.92930132e-01,  5.19522727e-01,\n",
       "        6.65463984e-01, -6.54399633e-01, -3.15091282e-01, -5.62689841e-01,\n",
       "        3.08837444e-01,  1.24837637e+00,  5.18824995e-01,  9.52079356e-01,\n",
       "        2.40818352e-01, -2.49552846e-01, -6.05365157e-01,  3.75696391e-01,\n",
       "        1.91972271e-01, -2.36023054e-01, -8.59996617e-01,  5.32289505e-01,\n",
       "       -4.32696342e-01, -2.10559770e-01, -2.55960226e-03, -5.63967347e-01,\n",
       "       -2.00918794e-01, -5.84332235e-02, -6.26046002e-01, -4.32797760e-01,\n",
       "       -2.89219290e-01, -2.24036887e-01, -6.83725357e-01,  1.90292671e-03,\n",
       "       -1.24625787e-01,  3.93953979e-01,  3.03282917e-01,  2.44087100e-01,\n",
       "       -1.17784214e+00, -5.36966562e-01,  2.94208586e-01, -1.92134231e-01,\n",
       "       -1.19864874e-01, -7.97323644e-01, -1.07299685e+00,  9.77717400e-01,\n",
       "        1.63400972e+00,  5.15722573e-01, -5.42111516e-01, -1.34532928e+00,\n",
       "       -3.61803055e-01, -1.71783769e+00, -1.30997217e+00, -7.70476162e-01,\n",
       "        5.24942398e-01,  1.40815526e-01,  2.67163724e-01,  1.87295377e-01,\n",
       "       -3.83178949e-01,  9.75858510e-01, -1.60646617e-01, -1.37578487e-01,\n",
       "       -3.01597863e-01, -8.18170249e-01,  3.75775754e-01, -4.59112018e-01,\n",
       "       -8.25373530e-02,  2.50044197e-01,  7.46783689e-02,  2.19692826e-01,\n",
       "       -6.14761233e-01, -1.64797023e-01,  7.14708209e-01,  7.05980837e-01,\n",
       "        2.36728847e-01, -2.23919109e-01, -3.94025117e-01, -6.15794480e-01,\n",
       "       -3.64081830e-01, -1.08623259e-01, -3.41984123e-01,  7.14518726e-02,\n",
       "       -3.25191289e-01,  6.69017076e-01, -1.25297129e-01, -2.41814032e-01,\n",
       "       -3.67520833e+00, -1.62890434e-01, -8.78856555e-02,  8.28098714e-01,\n",
       "       -1.47825256e-01, -2.91071981e-01,  4.58368003e-01, -9.29518417e-02,\n",
       "       -7.22144246e-01,  6.51864782e-02, -5.61847806e-01, -5.07617950e-01,\n",
       "       -2.39298925e-01,  8.11070263e-01,  7.56611526e-01,  8.10907066e-01,\n",
       "       -6.57065570e-01,  6.40616000e-01,  3.65189970e-01,  1.13361549e+00,\n",
       "       -8.93705428e-01, -3.76329422e-01, -4.84114677e-01, -7.27548122e-01,\n",
       "       -4.50020283e-02,  7.21894026e-01, -2.44894922e-01,  3.75647783e-01,\n",
       "       -5.26145101e-01,  4.93868321e-01,  4.82779086e-01, -1.67035520e-01,\n",
       "        4.72232908e-01, -2.66878277e-01, -1.63201839e-01, -2.51553059e-01,\n",
       "        1.16003580e-01, -6.97310269e-02, -1.33597761e-01, -9.71713886e-02,\n",
       "       -4.81024861e-01,  1.14756572e+00,  8.44759345e-01,  5.84820092e-01,\n",
       "        6.17022991e-01, -9.04133469e-02,  3.14926893e-01, -1.29586363e+00,\n",
       "        2.25677803e-01, -2.79903322e-01,  1.58096015e-01, -2.84022242e-01,\n",
       "       -1.11673355e-01,  2.59196341e-01,  3.92313480e-01,  7.37123489e-02,\n",
       "       -3.04192245e-01,  1.21172577e-01,  1.32805958e-01,  9.24644589e-01,\n",
       "       -2.72331029e-01, -8.31818044e-01,  4.77815121e-01,  2.86843240e-01,\n",
       "        4.45513010e-01,  6.39099360e-01, -1.11782467e+00,  4.53639701e-02,\n",
       "        5.19442677e-01, -2.23571926e-01, -2.02843666e-01, -8.22919309e-01,\n",
       "        2.70135671e-01, -1.42206228e+00, -1.22847688e+00, -5.52872002e-01,\n",
       "        4.09673601e-02,  2.97672674e-02, -1.83039345e-02,  6.89926982e-01,\n",
       "       -4.04759824e-01, -1.27272010e+00,  7.36218452e-01,  1.45685732e-01,\n",
       "        8.08719993e-01,  9.49217975e-02, -2.05674529e-01, -2.36754939e-01,\n",
       "       -2.88645118e-01,  3.55651230e-01, -6.52595103e-01,  2.49581307e-01,\n",
       "        8.33890021e-01, -6.11920953e-02, -2.56747723e-01, -1.41467422e-01,\n",
       "       -1.21591926e-01, -6.75487459e-01, -1.43265843e-01,  5.57521582e-02,\n",
       "       -6.01427704e-02, -1.95047073e-02,  3.83106738e-01, -2.56209504e-02,\n",
       "        1.17855996e-01, -7.09195808e-02, -6.35521889e-01,  8.10100377e-01,\n",
       "        4.43109065e-01, -1.91171542e-01,  2.94303864e-01, -2.41097584e-01,\n",
       "        7.40465056e-03, -4.31482643e-01,  4.92304444e-01,  7.53265023e-01,\n",
       "       -5.84120750e-01,  3.81272376e-01, -1.12050578e-01,  5.82436919e-01,\n",
       "       -8.22423995e-02,  2.02933922e-02, -7.40016758e-01, -1.49910045e+00,\n",
       "       -1.90484986e-01, -4.20330346e-01,  4.24049020e-01,  2.54757375e-01,\n",
       "       -1.07600355e+00, -6.37150645e-01, -3.14767152e-01,  2.18555197e-01,\n",
       "        4.74630654e-01, -3.92009437e-01,  7.03098699e-02,  4.09093142e-01,\n",
       "       -1.05942297e+00,  9.15481925e-01,  3.03317845e-01, -2.70391107e-01,\n",
       "        7.05438137e-01,  3.66112530e-01,  5.20869970e-01,  2.38350689e-01,\n",
       "        2.50933766e-01, -3.94180715e-01, -4.17547911e-01, -3.26937765e-01,\n",
       "       -4.35966313e-01,  1.10647067e-01, -2.02815324e-01,  2.17803389e-01,\n",
       "        6.20665073e-01, -5.53966522e-01,  6.77306831e-01, -6.88703775e-01,\n",
       "        3.88848513e-01, -2.10329100e-01,  3.89493704e-01, -7.24265575e-02,\n",
       "       -4.98857349e-02,  1.24812156e-01, -2.56477386e-01, -2.62572557e-01,\n",
       "       -7.89392889e-02,  8.63745570e-01,  1.13594703e-01, -2.67773360e-01,\n",
       "       -2.79583126e-01, -1.89446688e-01,  2.20649436e-01, -4.13753182e-01,\n",
       "        7.91023731e-01, -4.05327171e-01, -4.90386784e-01, -2.33240947e-01,\n",
       "        6.42958701e-01,  4.20457199e-02,  5.35827160e-01,  4.06304091e-01,\n",
       "        4.64847326e-01,  5.77655554e-01,  4.26840127e-01, -6.85449779e-01,\n",
       "        2.34060943e-01,  8.02362442e-01, -1.38325170e-01,  1.08341590e-01,\n",
       "       -8.12588453e-01,  5.86556017e-01, -5.20977229e-02, -2.12423533e-01,\n",
       "       -3.49239111e-01, -1.11048095e-01, -5.58958769e-01,  9.11440924e-02,\n",
       "        3.64887297e-01,  1.56227544e-01,  3.83344501e-01,  3.97122204e-01,\n",
       "       -1.96513474e-01,  3.35685611e-01, -3.56480479e-01,  2.05715179e-01,\n",
       "        3.71651143e-01, -7.93287098e-01,  6.96292460e-01,  3.31303954e-01,\n",
       "        2.31626779e-01,  5.74242413e-01, -1.40960014e+00, -4.36695367e-01,\n",
       "       -1.03235471e+00, -4.97167885e-01,  5.16283810e-01,  2.00747028e-01,\n",
       "        1.45429745e-01, -6.72153383e-03,  8.63002390e-02, -9.53483820e-01,\n",
       "        3.10178608e-01, -2.79665053e-01, -2.45077983e-02,  3.39413285e-01,\n",
       "       -9.44735646e-01, -4.07372236e-01, -3.24587166e-01, -1.28284407e+00,\n",
       "       -1.13517630e+00, -4.99058813e-02, -2.20644027e-01,  4.00069743e-01,\n",
       "       -1.15407288e-01,  6.71685576e-01,  2.44664639e-01, -4.78688717e-01,\n",
       "        4.43704158e-01, -8.12652707e-03,  3.40450555e-01, -5.36672890e-01,\n",
       "       -1.30293205e-01, -4.90330338e-01,  3.86595219e-01, -3.04377884e-01,\n",
       "        3.26518893e-01,  3.25776666e-01,  5.40090859e-01, -1.88066423e-01,\n",
       "        9.21555310e-02,  1.20913811e-01, -1.31001800e-01, -2.81458557e-01,\n",
       "        9.59271565e-03,  2.04865977e-01, -5.01472175e-01, -2.14826316e-02,\n",
       "        1.53604627e-01, -3.40355426e-01,  7.80010819e-02,  8.63747358e-01,\n",
       "        1.18417166e-01, -4.63818163e-02, -3.13871652e-01,  8.66543949e-02,\n",
       "        3.88022661e-02,  7.81479001e-01, -3.17864507e-01, -2.98650414e-02,\n",
       "       -4.04030569e-02, -1.00145690e-01, -1.10071373e+00, -7.93571711e-01,\n",
       "        2.53615826e-01, -8.90360549e-02,  5.04251838e-01,  4.32495534e-01,\n",
       "        3.28935057e-01,  2.16745168e-01, -5.28377593e-01,  2.68884420e-01,\n",
       "        9.58032489e-01,  7.51709759e-01,  2.73771062e-02, -2.76253313e-01,\n",
       "       -7.07202792e-01,  1.30810007e-01, -2.75488913e-01,  6.11377001e-01,\n",
       "        2.82207519e-01,  3.33924532e-01, -1.61100239e-01,  5.05747721e-02,\n",
       "        4.24453974e-01, -1.30780554e+00, -2.69790024e-01,  1.95132107e-01,\n",
       "        4.42166209e-01,  2.09073663e-01,  7.18362853e-02,  3.41738045e-01,\n",
       "       -7.39694536e-01, -3.47006977e-01,  1.16933603e-02,  2.51456589e-01,\n",
       "       -8.59944642e-01, -3.68718281e-02, -3.76011059e-03, -7.13698745e-01,\n",
       "        2.37888068e-01, -1.79479524e-01,  1.21707618e+00,  1.15224391e-01,\n",
       "       -2.14412674e-01, -1.25847697e-01, -4.19714808e-01, -2.47461051e-01,\n",
       "        9.41881895e-01, -8.93824399e-01,  7.73748100e-01,  7.23107338e-01,\n",
       "       -4.86637503e-01, -4.68219131e-01,  3.23379278e-01, -1.28847267e-02,\n",
       "        2.88504362e-01,  3.73584569e-01,  1.05409458e-01, -8.20296258e-02,\n",
       "        3.92008513e-01,  5.38115680e-01,  6.66269958e-01,  3.70364606e-01,\n",
       "        8.92259330e-02,  7.69739449e-01, -4.97282386e-01, -3.07147563e-01,\n",
       "       -3.67301762e-01, -9.12030935e-02,  2.60922372e-01, -1.11594707e-01,\n",
       "        4.56364930e-01,  6.37103915e-01,  6.62054777e-01,  7.09757209e-01,\n",
       "       -3.59258235e-01, -2.12336004e-01, -3.45349610e-01,  4.31254625e-01,\n",
       "       -1.03515230e-01,  7.19182849e-01,  2.89594024e-01, -1.42751262e-01,\n",
       "        2.15666369e-01, -1.22935414e-01, -1.63736060e-01, -2.93409556e-01,\n",
       "        5.16549349e-01,  2.61596978e-01,  3.28944772e-01, -1.63248801e+00,\n",
       "        2.90577799e-01,  7.09851086e-02, -2.48250365e-01, -3.00113596e-02,\n",
       "        8.04675668e-02,  5.99605978e-01,  1.00773729e-01,  3.57239455e-01,\n",
       "       -7.28414953e-02,  2.95906216e-01, -3.09329480e-01, -3.68062764e-01,\n",
       "        1.33990943e-02, -1.08566314e-01,  6.76223934e-01,  8.45014095e-01,\n",
       "       -2.18725622e-01, -5.60695469e-01,  3.39600176e-01,  1.62533894e-02,\n",
       "        6.70284629e-01,  1.56043559e-01,  5.25873423e-01, -2.82926381e-01,\n",
       "        2.18711972e-01,  2.30602741e-01,  2.84503490e-01,  3.33915293e-01,\n",
       "        4.52781320e-01,  7.57419646e-01,  4.54871148e-01, -1.62043333e-01,\n",
       "        9.39363062e-01,  4.04764079e-02,  2.24535555e-01,  1.63487494e-01,\n",
       "       -4.87792969e-01,  2.71764606e-01,  5.61527133e-01, -4.57925469e-01,\n",
       "        3.79878879e-01,  5.53919114e-02,  3.14194828e-01, -9.63153243e-01,\n",
       "        1.75649479e-01, -1.63297579e-02, -6.63630545e-01,  1.63105447e-02,\n",
       "       -1.21606290e+00, -3.07937384e-01,  6.17222011e-01,  5.65585375e-01,\n",
       "       -2.15584233e-01, -1.26627281e-01,  6.47894144e-01,  2.04678416e-01,\n",
       "        7.76569724e-01,  1.84135959e-01, -2.21433640e-01,  3.90088558e-02,\n",
       "       -1.30398050e-01,  1.53006256e-01,  1.54477596e-01,  1.01061988e+00,\n",
       "       -3.24082263e-02, -6.56903833e-02, -9.05650258e-02, -4.82214004e-01,\n",
       "       -8.11943948e-01, -2.64653593e-01, -1.18381500e-01,  1.55850530e-01,\n",
       "        3.76321971e-01, -7.39578664e-01, -1.68272614e-01, -2.23036513e-01,\n",
       "        4.54909131e-02, -3.44449341e-01,  2.26404503e-01, -7.34876245e-02,\n",
       "       -4.64557022e-01,  1.66956961e-01, -3.25740039e-01,  5.88453710e-01,\n",
       "       -3.96948123e+00,  7.87801743e-01, -4.03336287e-01, -1.48774132e-01,\n",
       "       -3.70932132e-01,  6.38068020e-02,  4.67195392e-01, -5.13586998e-01,\n",
       "        4.88711447e-01, -7.29182363e-01, -5.76585114e-01,  2.36383662e-01,\n",
       "        3.33210349e-01, -5.56701906e-02, -2.42267817e-01,  8.66460741e-01],\n",
       "      dtype=float32)>"
      ]
     },
     "execution_count": 89,
     "metadata": {},
     "output_type": "execute_result"
    }
   ],
   "source": [
    "first_sentence = outputs['sequence_output'][0]\n",
    "first_word_in_sentence = first_sentence[1] # recall that first_sentence[0] is the 101 mask\n",
    "first_word_in_sentence # we successfully get the embedding for the word 'set' from the first sentence"
   ]
  },
  {
   "cell_type": "code",
   "execution_count": 90,
   "id": "38e914da",
   "metadata": {
    "execution": {
     "iopub.execute_input": "2023-08-11T10:03:50.320033Z",
     "iopub.status.busy": "2023-08-11T10:03:50.319600Z",
     "iopub.status.idle": "2023-08-11T10:03:50.334133Z",
     "shell.execute_reply": "2023-08-11T10:03:50.332237Z"
    },
    "papermill": {
     "duration": 0.11734,
     "end_time": "2023-08-11T10:03:50.338627",
     "exception": false,
     "start_time": "2023-08-11T10:03:50.221287",
     "status": "completed"
    },
    "tags": []
   },
   "outputs": [
    {
     "name": "stdout",
     "output_type": "stream",
     "text": [
      "Cosine similarity of set from 1st & 2nd sentence [[0.27870244]]\n",
      "Cosine similarity of set from 2nd & 3rd sentence [[0.5741703]]\n"
     ]
    }
   ],
   "source": [
    "set_from_first_sentence = outputs['sequence_output'][0][1] # 'set is an important concept in mathematics'\n",
    "set_from_second_sentence = outputs['sequence_output'][1][5] # 'peter just bought a set of lego'\n",
    "set_from_third_sentence = outputs['sequence_output'][2][4] # 'This is a set of equipments'\n",
    "\n",
    "from sklearn.metrics.pairwise import cosine_similarity\n",
    "\n",
    "print(\"Cosine similarity of set from 1st & 2nd sentence\",cosine_similarity([set_from_first_sentence], [set_from_second_sentence]))\n",
    "print(\"Cosine similarity of set from 2nd & 3rd sentence\",cosine_similarity([set_from_second_sentence], [set_from_third_sentence]))"
   ]
  },
  {
   "cell_type": "markdown",
   "id": "29da3bfc",
   "metadata": {
    "papermill": {
     "duration": 0.098015,
     "end_time": "2023-08-11T10:03:50.535722",
     "exception": false,
     "start_time": "2023-08-11T10:03:50.437707",
     "status": "completed"
    },
    "tags": []
   },
   "source": [
    "Fascinating isn't it. Even though we have the same word (set) for all the three sentence, **BERT has the ability to understanding contextual meaning and assign different embeddings to the same word in different context**! In this case, we know that the 'set' from 'a set of lego' does indeed have a more similar meaning to the 'set' in 'a set of equipments' than to 'set is an important concept in mathematics'."
   ]
  },
  {
   "cell_type": "markdown",
   "id": "b60e9eca",
   "metadata": {
    "papermill": {
     "duration": 0.098135,
     "end_time": "2023-08-11T10:03:50.732127",
     "exception": false,
     "start_time": "2023-08-11T10:03:50.633992",
     "status": "completed"
    },
    "tags": []
   },
   "source": [
    "# <a id=\"summary-2\"></a><div style=\"text-align:center; font-size:40px;\"><span style=\"color:#3A506B\">📝 Short Summary (Part 2: Feature Engineering) 📝</span></div>"
   ]
  },
  {
   "cell_type": "markdown",
   "id": "efebbb3e",
   "metadata": {
    "papermill": {
     "duration": 0.096019,
     "end_time": "2023-08-11T10:03:50.922510",
     "exception": false,
     "start_time": "2023-08-11T10:03:50.826491",
     "status": "completed"
    },
    "tags": []
   },
   "source": [
    "Let's review what we have learnt in part 2: Feature Engineering. \n",
    "\n",
    "### 1. [Bag of Words](#bag-of-words)\n",
    "\n",
    "A way of word embedding, in which we create a count vectorizer to count the word appearance\n",
    "\n",
    "### 2. [Bag of n-grams](#bag-of-n-grams)\n",
    "\n",
    "A way of word embedding similar to bag of words, but instead of just use a single word as column, we use a range of consecutive words as features\n",
    "\n",
    "### 3. [TF-IDF](#tf-idf)\n",
    "\n",
    "A way of word embedding in which we use some sort of formulas to assign weight to each word in each corpus, effectively replacing the need to remove stop words\n",
    "\n",
    "### 4. [Word Embeddings](#word-embeddings)\n",
    "\n",
    "A way to represent text in which we attempt to numerize/vectorize words in a meaningful way in which words that are more similar will be closer together in vector space\n",
    "\n",
    "### 5. [Cosine Similarity](#cosine-similarity)\n",
    "\n",
    "A popular metrics to quantify similarity between two vectors\n",
    "\n",
    "### 6. [CBOW](#cbow)\n",
    "\n",
    "A deep learning algorithm to generate word embeddings\n",
    "\n",
    "### 7. [SkipGram](#skipgram)\n",
    "\n",
    "A deep learning algorithm similar to CBOW to generate word embeddings\n",
    "\n",
    "### 8. [Word2Vec](#word2vec)\n",
    "\n",
    "Model that involve a family of algorithms including both CBOW and SkipGram to generate word embeddings\n",
    "\n",
    "### 9. [fastText](#fasttext)\n",
    "\n",
    "Model similar to Word2Vec that generate word embeddings\n",
    "\n",
    "### 10. [GloVe](#glove)\n",
    "\n",
    "Another model similar to fastText and Word2Vec but using a different training methology of global matrix factorization to generate word embeddings\n",
    "\n",
    "### 11. [Hugging Face](#huggingface)\n",
    "\n",
    "Open source AI community that offers a lot of awesome resources, including datasets and models for you to use\n",
    "\n",
    "### 12. [BERT](#bert)\n",
    "\n",
    "Powerful NLP model to generate contextualized embeddings for both words and sentences "
   ]
  },
  {
   "cell_type": "markdown",
   "id": "2766f53b",
   "metadata": {
    "papermill": {
     "duration": 0.09383,
     "end_time": "2023-08-11T10:03:51.113112",
     "exception": false,
     "start_time": "2023-08-11T10:03:51.019282",
     "status": "completed"
    },
    "tags": []
   },
   "source": [
    "# <a id=\"here-is-a-task-for-you\"></a><div style=\"text-align:center; font-size:40px;\"><span style=\"color:#3A506B\">✍ Here is a Task for You ✍</span></div>"
   ]
  },
  {
   "cell_type": "markdown",
   "id": "49c1c6b1",
   "metadata": {
    "papermill": {
     "duration": 0.093438,
     "end_time": "2023-08-11T10:03:51.304753",
     "exception": false,
     "start_time": "2023-08-11T10:03:51.211315",
     "status": "completed"
    },
    "tags": []
   },
   "source": [
    "Before we move on to the last part which is a case study, I would like you to use the techniques you have learnt so far and create a seperate notebook to try out the competition: https://www.kaggle.com/competitions/nlp-getting-started\n",
    "\n",
    "I know that I haven't touch anything about building machine learning model yet in this notebook, but this is a challenge for you. To do research and try come up with your own version of NLP model. \n",
    "\n",
    "Here is a lightweighted guideline to give you some directions:\n",
    "\n",
    "import the data ➡ understand and clean the data ➡ preprocess the data ➡ vectorize the data ➡ train your model ➡ make predictions ➡ review your model and make improvements\n",
    "\n",
    "In fact, this is exactly what we have learnt in our first section [overview of NLP pipeline](#nlp-pipeline)\n",
    "\n",
    "After you have completed your version, you can scroll down to see my version to complete the task, which is in no way the perfect model or a high performance model. But I will try to include as much concepts we have learnt so far in the process as a way of learning. If you want to see what the pros are doing, there are plenty of high performance notebooks out there that you can take notes on."
   ]
  },
  {
   "cell_type": "markdown",
   "id": "25cd0491",
   "metadata": {
    "papermill": {
     "duration": 0.09581,
     "end_time": "2023-08-11T10:03:51.503340",
     "exception": false,
     "start_time": "2023-08-11T10:03:51.407530",
     "status": "completed"
    },
    "tags": []
   },
   "source": [
    "# <a id=\"case-study\"></a><div style=\"text-align:center; font-size:40px;\"><span style=\"color:#3A506B\">🚨 Case Study: NLP with Disaster Tweet 🚨</span></div>\n",
    "\n",
    "\n",
    "### To reduce the overloading of notebook both in terms of memory usage and content length, this part is moved to\n",
    "\n",
    "**🟣 NLP Beginner Series Part 3: Case Study** <br>\n",
    " https://www.kaggle.com/code/crxxom/nlp-beginner-series-part-3-case-study\n"
   ]
  },
  {
   "cell_type": "markdown",
   "id": "f5eecde3",
   "metadata": {
    "papermill": {
     "duration": 0.095471,
     "end_time": "2023-08-11T10:03:51.697379",
     "exception": false,
     "start_time": "2023-08-11T10:03:51.601908",
     "status": "completed"
    },
    "tags": []
   },
   "source": [
    "<a id=\"hey-there\"></a><div style=\"text-align:center; font-size:40px;\"><span style=\"color:#3A506B\">👋 Hey there 👋</span></div>"
   ]
  },
  {
   "cell_type": "markdown",
   "id": "cefdf141",
   "metadata": {
    "papermill": {
     "duration": 0.09244,
     "end_time": "2023-08-11T10:03:51.890258",
     "exception": false,
     "start_time": "2023-08-11T10:03:51.797818",
     "status": "completed"
    },
    "tags": []
   },
   "source": [
    "### 🌟 About the Author\n",
    "\n",
    "Hey there, I am an undergraduate majoring in quantitative finance at the Univeristy of Hong Kong. I am a highly motivated person with a huge passion in mathematics and computer science related topics. \n",
    "\n",
    "When I said I am a beginner in the start of the notebook, I am not lying! In fact, I am a self learner in the field of machine learning and natural language processing, and as the moment I am writing this, I have only started my machine learning journey for a couple of months. \n",
    "\n",
    "Although I do not have a lot of experience and knowlegde in the field, I am more than happy to connect and learn/work together in some projects and stuff like that.\n",
    "\n",
    "Do you know Kaggle got discord server? https://discord.gg/kaggle (crxxom) <br>\n",
    "My Linkedin: https://www.linkedin.com/in/jadon-ng-848a48263/\n",
    "\n",
    "### 🌟 Upvote the notebook!\n",
    "\n",
    "If you find the notebook useful, it will be great if you can show some support by upvoting the notebook, it means a lot to me! \n",
    "\n",
    "Also, if you want to make suggestions/corrections to the content of this notebook, don't hesitate to comment your thoughts, I will reply you as soon as possible.\n",
    "\n",
    "One more thing, if you want to share some of your resources/notebooks, comment down your links in the comment section and let us learn! \n",
    "\n",
    "\n",
    "### 🌟 Will there be updates?\n",
    "\n",
    "As in for now, I will only be updating the notebook if there are some incorrect information or if I discover some useful resources to share. "
   ]
  }
 ],
 "metadata": {
  "kernelspec": {
   "display_name": "Python 3",
   "language": "python",
   "name": "python3"
  },
  "language_info": {
   "codemirror_mode": {
    "name": "ipython",
    "version": 3
   },
   "file_extension": ".py",
   "mimetype": "text/x-python",
   "name": "python",
   "nbconvert_exporter": "python",
   "pygments_lexer": "ipython3",
   "version": "3.10.12"
  },
  "papermill": {
   "default_parameters": {},
   "duration": 625.019774,
   "end_time": "2023-08-11T10:03:55.218219",
   "environment_variables": {},
   "exception": null,
   "input_path": "__notebook__.ipynb",
   "output_path": "__notebook__.ipynb",
   "parameters": {},
   "start_time": "2023-08-11T09:53:30.198445",
   "version": "2.4.0"
  },
  "widgets": {
   "application/vnd.jupyter.widget-state+json": {
    "state": {
     "06b28bea8aac426ab931083232cd54d1": {
      "model_module": "@jupyter-widgets/base",
      "model_module_version": "1.2.0",
      "model_name": "LayoutModel",
      "state": {
       "_model_module": "@jupyter-widgets/base",
       "_model_module_version": "1.2.0",
       "_model_name": "LayoutModel",
       "_view_count": null,
       "_view_module": "@jupyter-widgets/base",
       "_view_module_version": "1.2.0",
       "_view_name": "LayoutView",
       "align_content": null,
       "align_items": null,
       "align_self": null,
       "border": null,
       "bottom": null,
       "display": null,
       "flex": null,
       "flex_flow": null,
       "grid_area": null,
       "grid_auto_columns": null,
       "grid_auto_flow": null,
       "grid_auto_rows": null,
       "grid_column": null,
       "grid_gap": null,
       "grid_row": null,
       "grid_template_areas": null,
       "grid_template_columns": null,
       "grid_template_rows": null,
       "height": null,
       "justify_content": null,
       "justify_items": null,
       "left": null,
       "margin": null,
       "max_height": null,
       "max_width": null,
       "min_height": null,
       "min_width": null,
       "object_fit": null,
       "object_position": null,
       "order": null,
       "overflow": null,
       "overflow_x": null,
       "overflow_y": null,
       "padding": null,
       "right": null,
       "top": null,
       "visibility": null,
       "width": null
      }
     },
     "07babfaf400349cda2ce59bb31ec6011": {
      "model_module": "@jupyter-widgets/controls",
      "model_module_version": "1.5.0",
      "model_name": "DescriptionStyleModel",
      "state": {
       "_model_module": "@jupyter-widgets/controls",
       "_model_module_version": "1.5.0",
       "_model_name": "DescriptionStyleModel",
       "_view_count": null,
       "_view_module": "@jupyter-widgets/base",
       "_view_module_version": "1.2.0",
       "_view_name": "StyleView",
       "description_width": ""
      }
     },
     "0800535ad29a42668571f2176c5f5683": {
      "model_module": "@jupyter-widgets/base",
      "model_module_version": "1.2.0",
      "model_name": "LayoutModel",
      "state": {
       "_model_module": "@jupyter-widgets/base",
       "_model_module_version": "1.2.0",
       "_model_name": "LayoutModel",
       "_view_count": null,
       "_view_module": "@jupyter-widgets/base",
       "_view_module_version": "1.2.0",
       "_view_name": "LayoutView",
       "align_content": null,
       "align_items": null,
       "align_self": null,
       "border": null,
       "bottom": null,
       "display": null,
       "flex": null,
       "flex_flow": null,
       "grid_area": null,
       "grid_auto_columns": null,
       "grid_auto_flow": null,
       "grid_auto_rows": null,
       "grid_column": null,
       "grid_gap": null,
       "grid_row": null,
       "grid_template_areas": null,
       "grid_template_columns": null,
       "grid_template_rows": null,
       "height": null,
       "justify_content": null,
       "justify_items": null,
       "left": null,
       "margin": null,
       "max_height": null,
       "max_width": null,
       "min_height": null,
       "min_width": null,
       "object_fit": null,
       "object_position": null,
       "order": null,
       "overflow": null,
       "overflow_x": null,
       "overflow_y": null,
       "padding": null,
       "right": null,
       "top": null,
       "visibility": null,
       "width": null
      }
     },
     "08e064b6a6854ed88b74397fe8d10fd2": {
      "model_module": "@jupyter-widgets/base",
      "model_module_version": "1.2.0",
      "model_name": "LayoutModel",
      "state": {
       "_model_module": "@jupyter-widgets/base",
       "_model_module_version": "1.2.0",
       "_model_name": "LayoutModel",
       "_view_count": null,
       "_view_module": "@jupyter-widgets/base",
       "_view_module_version": "1.2.0",
       "_view_name": "LayoutView",
       "align_content": null,
       "align_items": null,
       "align_self": null,
       "border": null,
       "bottom": null,
       "display": null,
       "flex": null,
       "flex_flow": null,
       "grid_area": null,
       "grid_auto_columns": null,
       "grid_auto_flow": null,
       "grid_auto_rows": null,
       "grid_column": null,
       "grid_gap": null,
       "grid_row": null,
       "grid_template_areas": null,
       "grid_template_columns": null,
       "grid_template_rows": null,
       "height": null,
       "justify_content": null,
       "justify_items": null,
       "left": null,
       "margin": null,
       "max_height": null,
       "max_width": null,
       "min_height": null,
       "min_width": null,
       "object_fit": null,
       "object_position": null,
       "order": null,
       "overflow": null,
       "overflow_x": null,
       "overflow_y": null,
       "padding": null,
       "right": null,
       "top": null,
       "visibility": null,
       "width": null
      }
     },
     "0d8151ee8ff745f2aa23aa6365346a7f": {
      "model_module": "@jupyter-widgets/controls",
      "model_module_version": "1.5.0",
      "model_name": "DescriptionStyleModel",
      "state": {
       "_model_module": "@jupyter-widgets/controls",
       "_model_module_version": "1.5.0",
       "_model_name": "DescriptionStyleModel",
       "_view_count": null,
       "_view_module": "@jupyter-widgets/base",
       "_view_module_version": "1.2.0",
       "_view_name": "StyleView",
       "description_width": ""
      }
     },
     "0e78eda18bc942b1923611f1365ca316": {
      "model_module": "@jupyter-widgets/controls",
      "model_module_version": "1.5.0",
      "model_name": "HTMLModel",
      "state": {
       "_dom_classes": [],
       "_model_module": "@jupyter-widgets/controls",
       "_model_module_version": "1.5.0",
       "_model_name": "HTMLModel",
       "_view_count": null,
       "_view_module": "@jupyter-widgets/controls",
       "_view_module_version": "1.5.0",
       "_view_name": "HTMLView",
       "description": "",
       "description_tooltip": null,
       "layout": "IPY_MODEL_4eb5aa09df0e48aba4a682449f8622f3",
       "placeholder": "​",
       "style": "IPY_MODEL_9e274138fac84ff4a7406d7147b3bf32",
       "value": " 540M/540M [00:01&lt;00:00, 324MB/s]"
      }
     },
     "0f574aab7936483ca10491bbb8066689": {
      "model_module": "@jupyter-widgets/base",
      "model_module_version": "1.2.0",
      "model_name": "LayoutModel",
      "state": {
       "_model_module": "@jupyter-widgets/base",
       "_model_module_version": "1.2.0",
       "_model_name": "LayoutModel",
       "_view_count": null,
       "_view_module": "@jupyter-widgets/base",
       "_view_module_version": "1.2.0",
       "_view_name": "LayoutView",
       "align_content": null,
       "align_items": null,
       "align_self": null,
       "border": null,
       "bottom": null,
       "display": null,
       "flex": null,
       "flex_flow": null,
       "grid_area": null,
       "grid_auto_columns": null,
       "grid_auto_flow": null,
       "grid_auto_rows": null,
       "grid_column": null,
       "grid_gap": null,
       "grid_row": null,
       "grid_template_areas": null,
       "grid_template_columns": null,
       "grid_template_rows": null,
       "height": null,
       "justify_content": null,
       "justify_items": null,
       "left": null,
       "margin": null,
       "max_height": null,
       "max_width": null,
       "min_height": null,
       "min_width": null,
       "object_fit": null,
       "object_position": null,
       "order": null,
       "overflow": null,
       "overflow_x": null,
       "overflow_y": null,
       "padding": null,
       "right": null,
       "top": null,
       "visibility": null,
       "width": null
      }
     },
     "143ee05d8200499b8da48994da6db202": {
      "model_module": "@jupyter-widgets/base",
      "model_module_version": "1.2.0",
      "model_name": "LayoutModel",
      "state": {
       "_model_module": "@jupyter-widgets/base",
       "_model_module_version": "1.2.0",
       "_model_name": "LayoutModel",
       "_view_count": null,
       "_view_module": "@jupyter-widgets/base",
       "_view_module_version": "1.2.0",
       "_view_name": "LayoutView",
       "align_content": null,
       "align_items": null,
       "align_self": null,
       "border": null,
       "bottom": null,
       "display": null,
       "flex": null,
       "flex_flow": null,
       "grid_area": null,
       "grid_auto_columns": null,
       "grid_auto_flow": null,
       "grid_auto_rows": null,
       "grid_column": null,
       "grid_gap": null,
       "grid_row": null,
       "grid_template_areas": null,
       "grid_template_columns": null,
       "grid_template_rows": null,
       "height": null,
       "justify_content": null,
       "justify_items": null,
       "left": null,
       "margin": null,
       "max_height": null,
       "max_width": null,
       "min_height": null,
       "min_width": null,
       "object_fit": null,
       "object_position": null,
       "order": null,
       "overflow": null,
       "overflow_x": null,
       "overflow_y": null,
       "padding": null,
       "right": null,
       "top": null,
       "visibility": null,
       "width": null
      }
     },
     "176520447e324c02bba82db9c696c204": {
      "model_module": "@jupyter-widgets/controls",
      "model_module_version": "1.5.0",
      "model_name": "DescriptionStyleModel",
      "state": {
       "_model_module": "@jupyter-widgets/controls",
       "_model_module_version": "1.5.0",
       "_model_name": "DescriptionStyleModel",
       "_view_count": null,
       "_view_module": "@jupyter-widgets/base",
       "_view_module_version": "1.2.0",
       "_view_name": "StyleView",
       "description_width": ""
      }
     },
     "1823b057b6c94929883d09acb6ba1010": {
      "model_module": "@jupyter-widgets/controls",
      "model_module_version": "1.5.0",
      "model_name": "HBoxModel",
      "state": {
       "_dom_classes": [],
       "_model_module": "@jupyter-widgets/controls",
       "_model_module_version": "1.5.0",
       "_model_name": "HBoxModel",
       "_view_count": null,
       "_view_module": "@jupyter-widgets/controls",
       "_view_module_version": "1.5.0",
       "_view_name": "HBoxView",
       "box_style": "",
       "children": [
        "IPY_MODEL_c31197fc2b834586b84b7a95b1b8124d",
        "IPY_MODEL_f91a7584612f4aaebdf0d9e6100d8824",
        "IPY_MODEL_7ed4445822704103bae35d35ed8d688b"
       ],
       "layout": "IPY_MODEL_98c7b5d1ac7745f78ed7e2bddc15b1c7"
      }
     },
     "193e4ecbbc32416e99782db9da11d602": {
      "model_module": "@jupyter-widgets/controls",
      "model_module_version": "1.5.0",
      "model_name": "DescriptionStyleModel",
      "state": {
       "_model_module": "@jupyter-widgets/controls",
       "_model_module_version": "1.5.0",
       "_model_name": "DescriptionStyleModel",
       "_view_count": null,
       "_view_module": "@jupyter-widgets/base",
       "_view_module_version": "1.2.0",
       "_view_name": "StyleView",
       "description_width": ""
      }
     },
     "194db86a655747609cf504b643bf8d10": {
      "model_module": "@jupyter-widgets/controls",
      "model_module_version": "1.5.0",
      "model_name": "HBoxModel",
      "state": {
       "_dom_classes": [],
       "_model_module": "@jupyter-widgets/controls",
       "_model_module_version": "1.5.0",
       "_model_name": "HBoxModel",
       "_view_count": null,
       "_view_module": "@jupyter-widgets/controls",
       "_view_module_version": "1.5.0",
       "_view_name": "HBoxView",
       "box_style": "",
       "children": [
        "IPY_MODEL_8fc2a63d8c0a48a29322fdc392cc55d1",
        "IPY_MODEL_80f911dd1203425498b1780e6a2b6f6b",
        "IPY_MODEL_9c44df4a57aa47eeabb99d81d072dc63"
       ],
       "layout": "IPY_MODEL_e0a27b7a3fd3426782edbb558aeb37e1"
      }
     },
     "1bf1112e4e02442c99b4d0f6f8af31e3": {
      "model_module": "@jupyter-widgets/base",
      "model_module_version": "1.2.0",
      "model_name": "LayoutModel",
      "state": {
       "_model_module": "@jupyter-widgets/base",
       "_model_module_version": "1.2.0",
       "_model_name": "LayoutModel",
       "_view_count": null,
       "_view_module": "@jupyter-widgets/base",
       "_view_module_version": "1.2.0",
       "_view_name": "LayoutView",
       "align_content": null,
       "align_items": null,
       "align_self": null,
       "border": null,
       "bottom": null,
       "display": null,
       "flex": null,
       "flex_flow": null,
       "grid_area": null,
       "grid_auto_columns": null,
       "grid_auto_flow": null,
       "grid_auto_rows": null,
       "grid_column": null,
       "grid_gap": null,
       "grid_row": null,
       "grid_template_areas": null,
       "grid_template_columns": null,
       "grid_template_rows": null,
       "height": null,
       "justify_content": null,
       "justify_items": null,
       "left": null,
       "margin": null,
       "max_height": null,
       "max_width": null,
       "min_height": null,
       "min_width": null,
       "object_fit": null,
       "object_position": null,
       "order": null,
       "overflow": null,
       "overflow_x": null,
       "overflow_y": null,
       "padding": null,
       "right": null,
       "top": null,
       "visibility": null,
       "width": null
      }
     },
     "1d0a59c0bdce4afc9d17d03f2b27ca00": {
      "model_module": "@jupyter-widgets/controls",
      "model_module_version": "1.5.0",
      "model_name": "ProgressStyleModel",
      "state": {
       "_model_module": "@jupyter-widgets/controls",
       "_model_module_version": "1.5.0",
       "_model_name": "ProgressStyleModel",
       "_view_count": null,
       "_view_module": "@jupyter-widgets/base",
       "_view_module_version": "1.2.0",
       "_view_name": "StyleView",
       "bar_color": null,
       "description_width": ""
      }
     },
     "22c877aea4d047f2b8c31eb111f41063": {
      "model_module": "@jupyter-widgets/base",
      "model_module_version": "1.2.0",
      "model_name": "LayoutModel",
      "state": {
       "_model_module": "@jupyter-widgets/base",
       "_model_module_version": "1.2.0",
       "_model_name": "LayoutModel",
       "_view_count": null,
       "_view_module": "@jupyter-widgets/base",
       "_view_module_version": "1.2.0",
       "_view_name": "LayoutView",
       "align_content": null,
       "align_items": null,
       "align_self": null,
       "border": null,
       "bottom": null,
       "display": null,
       "flex": null,
       "flex_flow": null,
       "grid_area": null,
       "grid_auto_columns": null,
       "grid_auto_flow": null,
       "grid_auto_rows": null,
       "grid_column": null,
       "grid_gap": null,
       "grid_row": null,
       "grid_template_areas": null,
       "grid_template_columns": null,
       "grid_template_rows": null,
       "height": null,
       "justify_content": null,
       "justify_items": null,
       "left": null,
       "margin": null,
       "max_height": null,
       "max_width": null,
       "min_height": null,
       "min_width": null,
       "object_fit": null,
       "object_position": null,
       "order": null,
       "overflow": null,
       "overflow_x": null,
       "overflow_y": null,
       "padding": null,
       "right": null,
       "top": null,
       "visibility": null,
       "width": null
      }
     },
     "22ffa849ba0f4fef87df176b30432d2a": {
      "model_module": "@jupyter-widgets/controls",
      "model_module_version": "1.5.0",
      "model_name": "DescriptionStyleModel",
      "state": {
       "_model_module": "@jupyter-widgets/controls",
       "_model_module_version": "1.5.0",
       "_model_name": "DescriptionStyleModel",
       "_view_count": null,
       "_view_module": "@jupyter-widgets/base",
       "_view_module_version": "1.2.0",
       "_view_name": "StyleView",
       "description_width": ""
      }
     },
     "244cc927455149c7b61654eb67922020": {
      "model_module": "@jupyter-widgets/controls",
      "model_module_version": "1.5.0",
      "model_name": "DescriptionStyleModel",
      "state": {
       "_model_module": "@jupyter-widgets/controls",
       "_model_module_version": "1.5.0",
       "_model_name": "DescriptionStyleModel",
       "_view_count": null,
       "_view_module": "@jupyter-widgets/base",
       "_view_module_version": "1.2.0",
       "_view_name": "StyleView",
       "description_width": ""
      }
     },
     "252cf88fa03a49a8bde1b65cf8ecd2f3": {
      "model_module": "@jupyter-widgets/controls",
      "model_module_version": "1.5.0",
      "model_name": "HTMLModel",
      "state": {
       "_dom_classes": [],
       "_model_module": "@jupyter-widgets/controls",
       "_model_module_version": "1.5.0",
       "_model_name": "HTMLModel",
       "_view_count": null,
       "_view_module": "@jupyter-widgets/controls",
       "_view_module_version": "1.5.0",
       "_view_name": "HTMLView",
       "description": "",
       "description_tooltip": null,
       "layout": "IPY_MODEL_40b58b177b30470c801638c9c88dd3dd",
       "placeholder": "​",
       "style": "IPY_MODEL_b8b2ed9248f740ce9f13d49f2fcb2296",
       "value": " 167/167 [00:00&lt;00:00, 9.37kB/s]"
      }
     },
     "2683c20db4a94225ae629d2052a0d7c1": {
      "model_module": "@jupyter-widgets/controls",
      "model_module_version": "1.5.0",
      "model_name": "FloatProgressModel",
      "state": {
       "_dom_classes": [],
       "_model_module": "@jupyter-widgets/controls",
       "_model_module_version": "1.5.0",
       "_model_name": "FloatProgressModel",
       "_view_count": null,
       "_view_module": "@jupyter-widgets/controls",
       "_view_module_version": "1.5.0",
       "_view_name": "ProgressView",
       "bar_style": "success",
       "description": "",
       "description_tooltip": null,
       "layout": "IPY_MODEL_8ba0aab38bbe403aa9a3e66562603ef4",
       "max": 1078931.0,
       "min": 0.0,
       "orientation": "horizontal",
       "style": "IPY_MODEL_1d0a59c0bdce4afc9d17d03f2b27ca00",
       "value": 1078931.0
      }
     },
     "27bca9bc450b424d971f56f21f6760d3": {
      "model_module": "@jupyter-widgets/controls",
      "model_module_version": "1.5.0",
      "model_name": "FloatProgressModel",
      "state": {
       "_dom_classes": [],
       "_model_module": "@jupyter-widgets/controls",
       "_model_module_version": "1.5.0",
       "_model_name": "FloatProgressModel",
       "_view_count": null,
       "_view_module": "@jupyter-widgets/controls",
       "_view_module_version": "1.5.0",
       "_view_name": "ProgressView",
       "bar_style": "success",
       "description": "",
       "description_tooltip": null,
       "layout": "IPY_MODEL_f613aacf3fc54fc6834c1532b44b55c0",
       "max": 539679413.0,
       "min": 0.0,
       "orientation": "horizontal",
       "style": "IPY_MODEL_ae51e3b20dfd4f18be718649958d8bbc",
       "value": 539679413.0
      }
     },
     "290d67ebfe844f9b8bb56c87b593694a": {
      "model_module": "@jupyter-widgets/controls",
      "model_module_version": "1.5.0",
      "model_name": "FloatProgressModel",
      "state": {
       "_dom_classes": [],
       "_model_module": "@jupyter-widgets/controls",
       "_model_module_version": "1.5.0",
       "_model_name": "FloatProgressModel",
       "_view_count": null,
       "_view_module": "@jupyter-widgets/controls",
       "_view_module_version": "1.5.0",
       "_view_name": "ProgressView",
       "bar_style": "success",
       "description": "",
       "description_tooltip": null,
       "layout": "IPY_MODEL_b9370c214da54b20af626266328e87a3",
       "max": 33092032.0,
       "min": 0.0,
       "orientation": "horizontal",
       "style": "IPY_MODEL_add8205bd3e544a79c9a6902a20c04de",
       "value": 33092032.0
      }
     },
     "2981002a158141008689d6f67cc2096d": {
      "model_module": "@jupyter-widgets/controls",
      "model_module_version": "1.5.0",
      "model_name": "HTMLModel",
      "state": {
       "_dom_classes": [],
       "_model_module": "@jupyter-widgets/controls",
       "_model_module_version": "1.5.0",
       "_model_name": "HTMLModel",
       "_view_count": null,
       "_view_module": "@jupyter-widgets/controls",
       "_view_module_version": "1.5.0",
       "_view_name": "HTMLView",
       "description": "",
       "description_tooltip": null,
       "layout": "IPY_MODEL_0800535ad29a42668571f2176c5f5683",
       "placeholder": "​",
       "style": "IPY_MODEL_0d8151ee8ff745f2aa23aa6365346a7f",
       "value": " 338/338 [00:00&lt;00:00, 22.1kB/s]"
      }
     },
     "29dcf907854c4a4b8c9e0d0acf38f797": {
      "model_module": "@jupyter-widgets/base",
      "model_module_version": "1.2.0",
      "model_name": "LayoutModel",
      "state": {
       "_model_module": "@jupyter-widgets/base",
       "_model_module_version": "1.2.0",
       "_model_name": "LayoutModel",
       "_view_count": null,
       "_view_module": "@jupyter-widgets/base",
       "_view_module_version": "1.2.0",
       "_view_name": "LayoutView",
       "align_content": null,
       "align_items": null,
       "align_self": null,
       "border": null,
       "bottom": null,
       "display": null,
       "flex": null,
       "flex_flow": null,
       "grid_area": null,
       "grid_auto_columns": null,
       "grid_auto_flow": null,
       "grid_auto_rows": null,
       "grid_column": null,
       "grid_gap": null,
       "grid_row": null,
       "grid_template_areas": null,
       "grid_template_columns": null,
       "grid_template_rows": null,
       "height": null,
       "justify_content": null,
       "justify_items": null,
       "left": null,
       "margin": null,
       "max_height": null,
       "max_width": null,
       "min_height": null,
       "min_width": null,
       "object_fit": null,
       "object_position": null,
       "order": null,
       "overflow": null,
       "overflow_x": null,
       "overflow_y": null,
       "padding": null,
       "right": null,
       "top": null,
       "visibility": null,
       "width": null
      }
     },
     "2fc85c1b825b495d9e5e15131e5a2c00": {
      "model_module": "@jupyter-widgets/controls",
      "model_module_version": "1.5.0",
      "model_name": "HTMLModel",
      "state": {
       "_dom_classes": [],
       "_model_module": "@jupyter-widgets/controls",
       "_model_module_version": "1.5.0",
       "_model_name": "HTMLModel",
       "_view_count": null,
       "_view_module": "@jupyter-widgets/controls",
       "_view_module_version": "1.5.0",
       "_view_name": "HTMLView",
       "description": "",
       "description_tooltip": null,
       "layout": "IPY_MODEL_be998abd6ba2490eb426b60bcb305664",
       "placeholder": "​",
       "style": "IPY_MODEL_22ffa849ba0f4fef87df176b30432d2a",
       "value": "Downloading (…)in/added_tokens.json: 100%"
      }
     },
     "33ba874d40314441a44d7b7c4d12dbd7": {
      "model_module": "@jupyter-widgets/base",
      "model_module_version": "1.2.0",
      "model_name": "LayoutModel",
      "state": {
       "_model_module": "@jupyter-widgets/base",
       "_model_module_version": "1.2.0",
       "_model_name": "LayoutModel",
       "_view_count": null,
       "_view_module": "@jupyter-widgets/base",
       "_view_module_version": "1.2.0",
       "_view_name": "LayoutView",
       "align_content": null,
       "align_items": null,
       "align_self": null,
       "border": null,
       "bottom": null,
       "display": null,
       "flex": null,
       "flex_flow": null,
       "grid_area": null,
       "grid_auto_columns": null,
       "grid_auto_flow": null,
       "grid_auto_rows": null,
       "grid_column": null,
       "grid_gap": null,
       "grid_row": null,
       "grid_template_areas": null,
       "grid_template_columns": null,
       "grid_template_rows": null,
       "height": null,
       "justify_content": null,
       "justify_items": null,
       "left": null,
       "margin": null,
       "max_height": null,
       "max_width": null,
       "min_height": null,
       "min_width": null,
       "object_fit": null,
       "object_position": null,
       "order": null,
       "overflow": null,
       "overflow_x": null,
       "overflow_y": null,
       "padding": null,
       "right": null,
       "top": null,
       "visibility": null,
       "width": null
      }
     },
     "35e6723708214e9fbba7969169e35266": {
      "model_module": "@jupyter-widgets/controls",
      "model_module_version": "1.5.0",
      "model_name": "HBoxModel",
      "state": {
       "_dom_classes": [],
       "_model_module": "@jupyter-widgets/controls",
       "_model_module_version": "1.5.0",
       "_model_name": "HBoxModel",
       "_view_count": null,
       "_view_module": "@jupyter-widgets/controls",
       "_view_module_version": "1.5.0",
       "_view_name": "HBoxView",
       "box_style": "",
       "children": [
        "IPY_MODEL_c38c7a76c7604285846636bb76b85971",
        "IPY_MODEL_fd42f2cf6eb24585a63b5a0691e55c2e",
        "IPY_MODEL_69181f2c5a054bfc9d950a2fcac38ecb"
       ],
       "layout": "IPY_MODEL_a97f4805990643daa5daf4bd2f8e322a"
      }
     },
     "364bb311e48d4cb5a5c36620c21ae6f7": {
      "model_module": "@jupyter-widgets/controls",
      "model_module_version": "1.5.0",
      "model_name": "ProgressStyleModel",
      "state": {
       "_model_module": "@jupyter-widgets/controls",
       "_model_module_version": "1.5.0",
       "_model_name": "ProgressStyleModel",
       "_view_count": null,
       "_view_module": "@jupyter-widgets/base",
       "_view_module_version": "1.2.0",
       "_view_name": "StyleView",
       "bar_color": null,
       "description_width": ""
      }
     },
     "36f84b3527a241d68e4940a93d73dd29": {
      "model_module": "@jupyter-widgets/base",
      "model_module_version": "1.2.0",
      "model_name": "LayoutModel",
      "state": {
       "_model_module": "@jupyter-widgets/base",
       "_model_module_version": "1.2.0",
       "_model_name": "LayoutModel",
       "_view_count": null,
       "_view_module": "@jupyter-widgets/base",
       "_view_module_version": "1.2.0",
       "_view_name": "LayoutView",
       "align_content": null,
       "align_items": null,
       "align_self": null,
       "border": null,
       "bottom": null,
       "display": null,
       "flex": null,
       "flex_flow": null,
       "grid_area": null,
       "grid_auto_columns": null,
       "grid_auto_flow": null,
       "grid_auto_rows": null,
       "grid_column": null,
       "grid_gap": null,
       "grid_row": null,
       "grid_template_areas": null,
       "grid_template_columns": null,
       "grid_template_rows": null,
       "height": null,
       "justify_content": null,
       "justify_items": null,
       "left": null,
       "margin": null,
       "max_height": null,
       "max_width": null,
       "min_height": null,
       "min_width": null,
       "object_fit": null,
       "object_position": null,
       "order": null,
       "overflow": null,
       "overflow_x": null,
       "overflow_y": null,
       "padding": null,
       "right": null,
       "top": null,
       "visibility": null,
       "width": null
      }
     },
     "37a96f8ebbf847dca2fee60a11266060": {
      "model_module": "@jupyter-widgets/controls",
      "model_module_version": "1.5.0",
      "model_name": "DescriptionStyleModel",
      "state": {
       "_model_module": "@jupyter-widgets/controls",
       "_model_module_version": "1.5.0",
       "_model_name": "DescriptionStyleModel",
       "_view_count": null,
       "_view_module": "@jupyter-widgets/base",
       "_view_module_version": "1.2.0",
       "_view_name": "StyleView",
       "description_width": ""
      }
     },
     "3a34e6c817864595a2c4f53971004c7f": {
      "model_module": "@jupyter-widgets/base",
      "model_module_version": "1.2.0",
      "model_name": "LayoutModel",
      "state": {
       "_model_module": "@jupyter-widgets/base",
       "_model_module_version": "1.2.0",
       "_model_name": "LayoutModel",
       "_view_count": null,
       "_view_module": "@jupyter-widgets/base",
       "_view_module_version": "1.2.0",
       "_view_name": "LayoutView",
       "align_content": null,
       "align_items": null,
       "align_self": null,
       "border": null,
       "bottom": null,
       "display": null,
       "flex": null,
       "flex_flow": null,
       "grid_area": null,
       "grid_auto_columns": null,
       "grid_auto_flow": null,
       "grid_auto_rows": null,
       "grid_column": null,
       "grid_gap": null,
       "grid_row": null,
       "grid_template_areas": null,
       "grid_template_columns": null,
       "grid_template_rows": null,
       "height": null,
       "justify_content": null,
       "justify_items": null,
       "left": null,
       "margin": null,
       "max_height": null,
       "max_width": null,
       "min_height": null,
       "min_width": null,
       "object_fit": null,
       "object_position": null,
       "order": null,
       "overflow": null,
       "overflow_x": null,
       "overflow_y": null,
       "padding": null,
       "right": null,
       "top": null,
       "visibility": null,
       "width": null
      }
     },
     "3a3bd927ae5c41f8b56ae8be0510f573": {
      "model_module": "@jupyter-widgets/base",
      "model_module_version": "1.2.0",
      "model_name": "LayoutModel",
      "state": {
       "_model_module": "@jupyter-widgets/base",
       "_model_module_version": "1.2.0",
       "_model_name": "LayoutModel",
       "_view_count": null,
       "_view_module": "@jupyter-widgets/base",
       "_view_module_version": "1.2.0",
       "_view_name": "LayoutView",
       "align_content": null,
       "align_items": null,
       "align_self": null,
       "border": null,
       "bottom": null,
       "display": null,
       "flex": null,
       "flex_flow": null,
       "grid_area": null,
       "grid_auto_columns": null,
       "grid_auto_flow": null,
       "grid_auto_rows": null,
       "grid_column": null,
       "grid_gap": null,
       "grid_row": null,
       "grid_template_areas": null,
       "grid_template_columns": null,
       "grid_template_rows": null,
       "height": null,
       "justify_content": null,
       "justify_items": null,
       "left": null,
       "margin": null,
       "max_height": null,
       "max_width": null,
       "min_height": null,
       "min_width": null,
       "object_fit": null,
       "object_position": null,
       "order": null,
       "overflow": null,
       "overflow_x": null,
       "overflow_y": null,
       "padding": null,
       "right": null,
       "top": null,
       "visibility": null,
       "width": null
      }
     },
     "3c26d5eda13a4fe79ba32a6f1a51fe13": {
      "model_module": "@jupyter-widgets/base",
      "model_module_version": "1.2.0",
      "model_name": "LayoutModel",
      "state": {
       "_model_module": "@jupyter-widgets/base",
       "_model_module_version": "1.2.0",
       "_model_name": "LayoutModel",
       "_view_count": null,
       "_view_module": "@jupyter-widgets/base",
       "_view_module_version": "1.2.0",
       "_view_name": "LayoutView",
       "align_content": null,
       "align_items": null,
       "align_self": null,
       "border": null,
       "bottom": null,
       "display": null,
       "flex": null,
       "flex_flow": null,
       "grid_area": null,
       "grid_auto_columns": null,
       "grid_auto_flow": null,
       "grid_auto_rows": null,
       "grid_column": null,
       "grid_gap": null,
       "grid_row": null,
       "grid_template_areas": null,
       "grid_template_columns": null,
       "grid_template_rows": null,
       "height": null,
       "justify_content": null,
       "justify_items": null,
       "left": null,
       "margin": null,
       "max_height": null,
       "max_width": null,
       "min_height": null,
       "min_width": null,
       "object_fit": null,
       "object_position": null,
       "order": null,
       "overflow": null,
       "overflow_x": null,
       "overflow_y": null,
       "padding": null,
       "right": null,
       "top": null,
       "visibility": null,
       "width": null
      }
     },
     "3d5bbb5e72874d8cb7fde579a822c813": {
      "model_module": "@jupyter-widgets/controls",
      "model_module_version": "1.5.0",
      "model_name": "HBoxModel",
      "state": {
       "_dom_classes": [],
       "_model_module": "@jupyter-widgets/controls",
       "_model_module_version": "1.5.0",
       "_model_name": "HBoxModel",
       "_view_count": null,
       "_view_module": "@jupyter-widgets/controls",
       "_view_module_version": "1.5.0",
       "_view_name": "HBoxView",
       "box_style": "",
       "children": [
        "IPY_MODEL_2fc85c1b825b495d9e5e15131e5a2c00",
        "IPY_MODEL_d1438d0d20ec491db87febacd7c0e92f",
        "IPY_MODEL_a2f846933ba84045b01a11eae2cbdb0e"
       ],
       "layout": "IPY_MODEL_f4295a8b7d6b4ff195d457bb99396ca2"
      }
     },
     "3d5c5fa6ad704c25a4252332a6e6caec": {
      "model_module": "@jupyter-widgets/controls",
      "model_module_version": "1.5.0",
      "model_name": "HBoxModel",
      "state": {
       "_dom_classes": [],
       "_model_module": "@jupyter-widgets/controls",
       "_model_module_version": "1.5.0",
       "_model_name": "HBoxModel",
       "_view_count": null,
       "_view_module": "@jupyter-widgets/controls",
       "_view_module_version": "1.5.0",
       "_view_name": "HBoxView",
       "box_style": "",
       "children": [
        "IPY_MODEL_fdad60568c7e4cd2a0c2270ceff4324b",
        "IPY_MODEL_2683c20db4a94225ae629d2052a0d7c1",
        "IPY_MODEL_e8369610e35142618f100e150b99fc7e"
       ],
       "layout": "IPY_MODEL_e4a5fa2b5c94460fb9359d454406b7e5"
      }
     },
     "40b58b177b30470c801638c9c88dd3dd": {
      "model_module": "@jupyter-widgets/base",
      "model_module_version": "1.2.0",
      "model_name": "LayoutModel",
      "state": {
       "_model_module": "@jupyter-widgets/base",
       "_model_module_version": "1.2.0",
       "_model_name": "LayoutModel",
       "_view_count": null,
       "_view_module": "@jupyter-widgets/base",
       "_view_module_version": "1.2.0",
       "_view_name": "LayoutView",
       "align_content": null,
       "align_items": null,
       "align_self": null,
       "border": null,
       "bottom": null,
       "display": null,
       "flex": null,
       "flex_flow": null,
       "grid_area": null,
       "grid_auto_columns": null,
       "grid_auto_flow": null,
       "grid_auto_rows": null,
       "grid_column": null,
       "grid_gap": null,
       "grid_row": null,
       "grid_template_areas": null,
       "grid_template_columns": null,
       "grid_template_rows": null,
       "height": null,
       "justify_content": null,
       "justify_items": null,
       "left": null,
       "margin": null,
       "max_height": null,
       "max_width": null,
       "min_height": null,
       "min_width": null,
       "object_fit": null,
       "object_position": null,
       "order": null,
       "overflow": null,
       "overflow_x": null,
       "overflow_y": null,
       "padding": null,
       "right": null,
       "top": null,
       "visibility": null,
       "width": null
      }
     },
     "4545829511d24e94ba7147f75c23f1b5": {
      "model_module": "@jupyter-widgets/controls",
      "model_module_version": "1.5.0",
      "model_name": "HTMLModel",
      "state": {
       "_dom_classes": [],
       "_model_module": "@jupyter-widgets/controls",
       "_model_module_version": "1.5.0",
       "_model_name": "HTMLModel",
       "_view_count": null,
       "_view_module": "@jupyter-widgets/controls",
       "_view_module_version": "1.5.0",
       "_view_name": "HTMLView",
       "description": "",
       "description_tooltip": null,
       "layout": "IPY_MODEL_cfdf50b07e76405d94698bf32ba85fa7",
       "placeholder": "​",
       "style": "IPY_MODEL_244cc927455149c7b61654eb67922020",
       "value": "Downloading pytorch_model.bin: 100%"
      }
     },
     "4da88be81de849169b79144517db8535": {
      "model_module": "@jupyter-widgets/controls",
      "model_module_version": "1.5.0",
      "model_name": "DescriptionStyleModel",
      "state": {
       "_model_module": "@jupyter-widgets/controls",
       "_model_module_version": "1.5.0",
       "_model_name": "DescriptionStyleModel",
       "_view_count": null,
       "_view_module": "@jupyter-widgets/base",
       "_view_module_version": "1.2.0",
       "_view_name": "StyleView",
       "description_width": ""
      }
     },
     "4eb5aa09df0e48aba4a682449f8622f3": {
      "model_module": "@jupyter-widgets/base",
      "model_module_version": "1.2.0",
      "model_name": "LayoutModel",
      "state": {
       "_model_module": "@jupyter-widgets/base",
       "_model_module_version": "1.2.0",
       "_model_name": "LayoutModel",
       "_view_count": null,
       "_view_module": "@jupyter-widgets/base",
       "_view_module_version": "1.2.0",
       "_view_name": "LayoutView",
       "align_content": null,
       "align_items": null,
       "align_self": null,
       "border": null,
       "bottom": null,
       "display": null,
       "flex": null,
       "flex_flow": null,
       "grid_area": null,
       "grid_auto_columns": null,
       "grid_auto_flow": null,
       "grid_auto_rows": null,
       "grid_column": null,
       "grid_gap": null,
       "grid_row": null,
       "grid_template_areas": null,
       "grid_template_columns": null,
       "grid_template_rows": null,
       "height": null,
       "justify_content": null,
       "justify_items": null,
       "left": null,
       "margin": null,
       "max_height": null,
       "max_width": null,
       "min_height": null,
       "min_width": null,
       "object_fit": null,
       "object_position": null,
       "order": null,
       "overflow": null,
       "overflow_x": null,
       "overflow_y": null,
       "padding": null,
       "right": null,
       "top": null,
       "visibility": null,
       "width": null
      }
     },
     "56bf42499533413692796cdd17cb2822": {
      "model_module": "@jupyter-widgets/controls",
      "model_module_version": "1.5.0",
      "model_name": "DescriptionStyleModel",
      "state": {
       "_model_module": "@jupyter-widgets/controls",
       "_model_module_version": "1.5.0",
       "_model_name": "DescriptionStyleModel",
       "_view_count": null,
       "_view_module": "@jupyter-widgets/base",
       "_view_module_version": "1.2.0",
       "_view_name": "StyleView",
       "description_width": ""
      }
     },
     "590225f6ea904bc499855a22dc00533e": {
      "model_module": "@jupyter-widgets/controls",
      "model_module_version": "1.5.0",
      "model_name": "HTMLModel",
      "state": {
       "_dom_classes": [],
       "_model_module": "@jupyter-widgets/controls",
       "_model_module_version": "1.5.0",
       "_model_name": "HTMLModel",
       "_view_count": null,
       "_view_module": "@jupyter-widgets/controls",
       "_view_module_version": "1.5.0",
       "_view_name": "HTMLView",
       "description": "",
       "description_tooltip": null,
       "layout": "IPY_MODEL_0f574aab7936483ca10491bbb8066689",
       "placeholder": "​",
       "style": "IPY_MODEL_6ef34267d61545959ce4d44b03980198",
       "value": "Downloading (…)okenizer_config.json: 100%"
      }
     },
     "5b372e5b9a0f4cf5a42cd8d517969d10": {
      "model_module": "@jupyter-widgets/controls",
      "model_module_version": "1.5.0",
      "model_name": "HBoxModel",
      "state": {
       "_dom_classes": [],
       "_model_module": "@jupyter-widgets/controls",
       "_model_module_version": "1.5.0",
       "_model_name": "HBoxModel",
       "_view_count": null,
       "_view_module": "@jupyter-widgets/controls",
       "_view_module_version": "1.5.0",
       "_view_name": "HBoxView",
       "box_style": "",
       "children": [
        "IPY_MODEL_c279da0403824c1a825535d486bd68f8",
        "IPY_MODEL_290d67ebfe844f9b8bb56c87b593694a",
        "IPY_MODEL_ee84e3a738dd42debc161e39ffdbf8b7"
       ],
       "layout": "IPY_MODEL_29dcf907854c4a4b8c9e0d0acf38f797"
      }
     },
     "5c08c5e7d7694e87b2bcbd1c9ad27276": {
      "model_module": "@jupyter-widgets/controls",
      "model_module_version": "1.5.0",
      "model_name": "HBoxModel",
      "state": {
       "_dom_classes": [],
       "_model_module": "@jupyter-widgets/controls",
       "_model_module_version": "1.5.0",
       "_model_name": "HBoxModel",
       "_view_count": null,
       "_view_module": "@jupyter-widgets/controls",
       "_view_module_version": "1.5.0",
       "_view_name": "HBoxView",
       "box_style": "",
       "children": [
        "IPY_MODEL_90896c55b6e646789ad1225115fae9d7",
        "IPY_MODEL_ceb634723e5e43488deda18dc5b46d39",
        "IPY_MODEL_b11e35ec4c6546c595b49d59eec145ed"
       ],
       "layout": "IPY_MODEL_b897f8f1af7b4e579f6465f723a65626"
      }
     },
     "5e1309eb48194a5d8e1e7d41084abc8c": {
      "model_module": "@jupyter-widgets/base",
      "model_module_version": "1.2.0",
      "model_name": "LayoutModel",
      "state": {
       "_model_module": "@jupyter-widgets/base",
       "_model_module_version": "1.2.0",
       "_model_name": "LayoutModel",
       "_view_count": null,
       "_view_module": "@jupyter-widgets/base",
       "_view_module_version": "1.2.0",
       "_view_name": "LayoutView",
       "align_content": null,
       "align_items": null,
       "align_self": null,
       "border": null,
       "bottom": null,
       "display": null,
       "flex": null,
       "flex_flow": null,
       "grid_area": null,
       "grid_auto_columns": null,
       "grid_auto_flow": null,
       "grid_auto_rows": null,
       "grid_column": null,
       "grid_gap": null,
       "grid_row": null,
       "grid_template_areas": null,
       "grid_template_columns": null,
       "grid_template_rows": null,
       "height": null,
       "justify_content": null,
       "justify_items": null,
       "left": null,
       "margin": null,
       "max_height": null,
       "max_width": null,
       "min_height": null,
       "min_width": null,
       "object_fit": null,
       "object_position": null,
       "order": null,
       "overflow": null,
       "overflow_x": null,
       "overflow_y": null,
       "padding": null,
       "right": null,
       "top": null,
       "visibility": null,
       "width": null
      }
     },
     "5f02e0f68e7345a69912828ac712bbad": {
      "model_module": "@jupyter-widgets/controls",
      "model_module_version": "1.5.0",
      "model_name": "ProgressStyleModel",
      "state": {
       "_model_module": "@jupyter-widgets/controls",
       "_model_module_version": "1.5.0",
       "_model_name": "ProgressStyleModel",
       "_view_count": null,
       "_view_module": "@jupyter-widgets/base",
       "_view_module_version": "1.2.0",
       "_view_name": "StyleView",
       "bar_color": null,
       "description_width": ""
      }
     },
     "60058bcc672f4eeaa1c6c32896ffd5d3": {
      "model_module": "@jupyter-widgets/base",
      "model_module_version": "1.2.0",
      "model_name": "LayoutModel",
      "state": {
       "_model_module": "@jupyter-widgets/base",
       "_model_module_version": "1.2.0",
       "_model_name": "LayoutModel",
       "_view_count": null,
       "_view_module": "@jupyter-widgets/base",
       "_view_module_version": "1.2.0",
       "_view_name": "LayoutView",
       "align_content": null,
       "align_items": null,
       "align_self": null,
       "border": null,
       "bottom": null,
       "display": null,
       "flex": null,
       "flex_flow": null,
       "grid_area": null,
       "grid_auto_columns": null,
       "grid_auto_flow": null,
       "grid_auto_rows": null,
       "grid_column": null,
       "grid_gap": null,
       "grid_row": null,
       "grid_template_areas": null,
       "grid_template_columns": null,
       "grid_template_rows": null,
       "height": null,
       "justify_content": null,
       "justify_items": null,
       "left": null,
       "margin": null,
       "max_height": null,
       "max_width": null,
       "min_height": null,
       "min_width": null,
       "object_fit": null,
       "object_position": null,
       "order": null,
       "overflow": null,
       "overflow_x": null,
       "overflow_y": null,
       "padding": null,
       "right": null,
       "top": null,
       "visibility": null,
       "width": null
      }
     },
     "605d90250a6f4ff1939e1e1ce0104348": {
      "model_module": "@jupyter-widgets/controls",
      "model_module_version": "1.5.0",
      "model_name": "FloatProgressModel",
      "state": {
       "_dom_classes": [],
       "_model_module": "@jupyter-widgets/controls",
       "_model_module_version": "1.5.0",
       "_model_name": "FloatProgressModel",
       "_view_count": null,
       "_view_module": "@jupyter-widgets/controls",
       "_view_module_version": "1.5.0",
       "_view_name": "ProgressView",
       "bar_style": "success",
       "description": "",
       "description_tooltip": null,
       "layout": "IPY_MODEL_fa4bd1f25b1e4bafb53faaebba0c3457",
       "max": 167.0,
       "min": 0.0,
       "orientation": "horizontal",
       "style": "IPY_MODEL_364bb311e48d4cb5a5c36620c21ae6f7",
       "value": 167.0
      }
     },
     "61f51c16bc934b89b39d4caf75ffce95": {
      "model_module": "@jupyter-widgets/controls",
      "model_module_version": "1.5.0",
      "model_name": "ProgressStyleModel",
      "state": {
       "_model_module": "@jupyter-widgets/controls",
       "_model_module_version": "1.5.0",
       "_model_name": "ProgressStyleModel",
       "_view_count": null,
       "_view_module": "@jupyter-widgets/base",
       "_view_module_version": "1.2.0",
       "_view_name": "StyleView",
       "bar_color": null,
       "description_width": ""
      }
     },
     "64880306798446af85832048d75740f1": {
      "model_module": "@jupyter-widgets/base",
      "model_module_version": "1.2.0",
      "model_name": "LayoutModel",
      "state": {
       "_model_module": "@jupyter-widgets/base",
       "_model_module_version": "1.2.0",
       "_model_name": "LayoutModel",
       "_view_count": null,
       "_view_module": "@jupyter-widgets/base",
       "_view_module_version": "1.2.0",
       "_view_name": "LayoutView",
       "align_content": null,
       "align_items": null,
       "align_self": null,
       "border": null,
       "bottom": null,
       "display": null,
       "flex": null,
       "flex_flow": null,
       "grid_area": null,
       "grid_auto_columns": null,
       "grid_auto_flow": null,
       "grid_auto_rows": null,
       "grid_column": null,
       "grid_gap": null,
       "grid_row": null,
       "grid_template_areas": null,
       "grid_template_columns": null,
       "grid_template_rows": null,
       "height": null,
       "justify_content": null,
       "justify_items": null,
       "left": null,
       "margin": null,
       "max_height": null,
       "max_width": null,
       "min_height": null,
       "min_width": null,
       "object_fit": null,
       "object_position": null,
       "order": null,
       "overflow": null,
       "overflow_x": null,
       "overflow_y": null,
       "padding": null,
       "right": null,
       "top": null,
       "visibility": null,
       "width": null
      }
     },
     "69181f2c5a054bfc9d950a2fcac38ecb": {
      "model_module": "@jupyter-widgets/controls",
      "model_module_version": "1.5.0",
      "model_name": "HTMLModel",
      "state": {
       "_dom_classes": [],
       "_model_module": "@jupyter-widgets/controls",
       "_model_module_version": "1.5.0",
       "_model_name": "HTMLModel",
       "_view_count": null,
       "_view_module": "@jupyter-widgets/controls",
       "_view_module_version": "1.5.0",
       "_view_name": "HTMLView",
       "description": "",
       "description_tooltip": null,
       "layout": "IPY_MODEL_3a34e6c817864595a2c4f53971004c7f",
       "placeholder": "​",
       "style": "IPY_MODEL_07babfaf400349cda2ce59bb31ec6011",
       "value": " 1/1 [00:00&lt;00:00, 51.95it/s]"
      }
     },
     "6ef34267d61545959ce4d44b03980198": {
      "model_module": "@jupyter-widgets/controls",
      "model_module_version": "1.5.0",
      "model_name": "DescriptionStyleModel",
      "state": {
       "_model_module": "@jupyter-widgets/controls",
       "_model_module_version": "1.5.0",
       "_model_name": "DescriptionStyleModel",
       "_view_count": null,
       "_view_module": "@jupyter-widgets/base",
       "_view_module_version": "1.2.0",
       "_view_name": "StyleView",
       "description_width": ""
      }
     },
     "6f915c730f8a45d9906248a2d886f0ae": {
      "model_module": "@jupyter-widgets/controls",
      "model_module_version": "1.5.0",
      "model_name": "HBoxModel",
      "state": {
       "_dom_classes": [],
       "_model_module": "@jupyter-widgets/controls",
       "_model_module_version": "1.5.0",
       "_model_name": "HBoxModel",
       "_view_count": null,
       "_view_module": "@jupyter-widgets/controls",
       "_view_module_version": "1.5.0",
       "_view_name": "HBoxView",
       "box_style": "",
       "children": [
        "IPY_MODEL_590225f6ea904bc499855a22dc00533e",
        "IPY_MODEL_c4961dac2f1c4f239ab54ec5ddcde74e",
        "IPY_MODEL_2981002a158141008689d6f67cc2096d"
       ],
       "layout": "IPY_MODEL_08e064b6a6854ed88b74397fe8d10fd2"
      }
     },
     "76255e7fbadf4c30b506173707a8ba63": {
      "model_module": "@jupyter-widgets/controls",
      "model_module_version": "1.5.0",
      "model_name": "DescriptionStyleModel",
      "state": {
       "_model_module": "@jupyter-widgets/controls",
       "_model_module_version": "1.5.0",
       "_model_name": "DescriptionStyleModel",
       "_view_count": null,
       "_view_module": "@jupyter-widgets/base",
       "_view_module_version": "1.2.0",
       "_view_name": "StyleView",
       "description_width": ""
      }
     },
     "79cdd8592701497a9970520bc1240273": {
      "model_module": "@jupyter-widgets/controls",
      "model_module_version": "1.5.0",
      "model_name": "ProgressStyleModel",
      "state": {
       "_model_module": "@jupyter-widgets/controls",
       "_model_module_version": "1.5.0",
       "_model_name": "ProgressStyleModel",
       "_view_count": null,
       "_view_module": "@jupyter-widgets/base",
       "_view_module_version": "1.2.0",
       "_view_name": "StyleView",
       "bar_color": null,
       "description_width": ""
      }
     },
     "7b3e4102430d4145b357d51bd2c015d8": {
      "model_module": "@jupyter-widgets/base",
      "model_module_version": "1.2.0",
      "model_name": "LayoutModel",
      "state": {
       "_model_module": "@jupyter-widgets/base",
       "_model_module_version": "1.2.0",
       "_model_name": "LayoutModel",
       "_view_count": null,
       "_view_module": "@jupyter-widgets/base",
       "_view_module_version": "1.2.0",
       "_view_name": "LayoutView",
       "align_content": null,
       "align_items": null,
       "align_self": null,
       "border": null,
       "bottom": null,
       "display": null,
       "flex": null,
       "flex_flow": null,
       "grid_area": null,
       "grid_auto_columns": null,
       "grid_auto_flow": null,
       "grid_auto_rows": null,
       "grid_column": null,
       "grid_gap": null,
       "grid_row": null,
       "grid_template_areas": null,
       "grid_template_columns": null,
       "grid_template_rows": null,
       "height": null,
       "justify_content": null,
       "justify_items": null,
       "left": null,
       "margin": null,
       "max_height": null,
       "max_width": null,
       "min_height": null,
       "min_width": null,
       "object_fit": null,
       "object_position": null,
       "order": null,
       "overflow": null,
       "overflow_x": null,
       "overflow_y": null,
       "padding": null,
       "right": null,
       "top": null,
       "visibility": null,
       "width": null
      }
     },
     "7ed4445822704103bae35d35ed8d688b": {
      "model_module": "@jupyter-widgets/controls",
      "model_module_version": "1.5.0",
      "model_name": "HTMLModel",
      "state": {
       "_dom_classes": [],
       "_model_module": "@jupyter-widgets/controls",
       "_model_module_version": "1.5.0",
       "_model_name": "HTMLModel",
       "_view_count": null,
       "_view_module": "@jupyter-widgets/controls",
       "_view_module_version": "1.5.0",
       "_view_name": "HTMLView",
       "description": "",
       "description_tooltip": null,
       "layout": "IPY_MODEL_60058bcc672f4eeaa1c6c32896ffd5d3",
       "placeholder": "​",
       "style": "IPY_MODEL_f727d6e8202d42e18010957ffe44510c",
       "value": " 949/949 [00:00&lt;00:00, 58.6kB/s]"
      }
     },
     "80f911dd1203425498b1780e6a2b6f6b": {
      "model_module": "@jupyter-widgets/controls",
      "model_module_version": "1.5.0",
      "model_name": "FloatProgressModel",
      "state": {
       "_dom_classes": [],
       "_model_module": "@jupyter-widgets/controls",
       "_model_module_version": "1.5.0",
       "_model_name": "FloatProgressModel",
       "_view_count": null,
       "_view_module": "@jupyter-widgets/controls",
       "_view_module_version": "1.5.0",
       "_view_name": "ProgressView",
       "bar_style": "success",
       "description": "",
       "description_tooltip": null,
       "layout": "IPY_MODEL_933131a64b2d4ef39cdb7186e9b0373f",
       "max": 843438.0,
       "min": 0.0,
       "orientation": "horizontal",
       "style": "IPY_MODEL_ffdf8c1d3a904add9249b24e4cc7c0e9",
       "value": 843438.0
      }
     },
     "862d11dc2c6a4662a62ecc3e48930966": {
      "model_module": "@jupyter-widgets/base",
      "model_module_version": "1.2.0",
      "model_name": "LayoutModel",
      "state": {
       "_model_module": "@jupyter-widgets/base",
       "_model_module_version": "1.2.0",
       "_model_name": "LayoutModel",
       "_view_count": null,
       "_view_module": "@jupyter-widgets/base",
       "_view_module_version": "1.2.0",
       "_view_name": "LayoutView",
       "align_content": null,
       "align_items": null,
       "align_self": null,
       "border": null,
       "bottom": null,
       "display": null,
       "flex": null,
       "flex_flow": null,
       "grid_area": null,
       "grid_auto_columns": null,
       "grid_auto_flow": null,
       "grid_auto_rows": null,
       "grid_column": null,
       "grid_gap": null,
       "grid_row": null,
       "grid_template_areas": null,
       "grid_template_columns": null,
       "grid_template_rows": null,
       "height": null,
       "justify_content": null,
       "justify_items": null,
       "left": null,
       "margin": null,
       "max_height": null,
       "max_width": null,
       "min_height": null,
       "min_width": null,
       "object_fit": null,
       "object_position": null,
       "order": null,
       "overflow": null,
       "overflow_x": null,
       "overflow_y": null,
       "padding": null,
       "right": null,
       "top": null,
       "visibility": null,
       "width": null
      }
     },
     "89a75f49dc774fc1bb2ebe364e82123b": {
      "model_module": "@jupyter-widgets/base",
      "model_module_version": "1.2.0",
      "model_name": "LayoutModel",
      "state": {
       "_model_module": "@jupyter-widgets/base",
       "_model_module_version": "1.2.0",
       "_model_name": "LayoutModel",
       "_view_count": null,
       "_view_module": "@jupyter-widgets/base",
       "_view_module_version": "1.2.0",
       "_view_name": "LayoutView",
       "align_content": null,
       "align_items": null,
       "align_self": null,
       "border": null,
       "bottom": null,
       "display": null,
       "flex": null,
       "flex_flow": null,
       "grid_area": null,
       "grid_auto_columns": null,
       "grid_auto_flow": null,
       "grid_auto_rows": null,
       "grid_column": null,
       "grid_gap": null,
       "grid_row": null,
       "grid_template_areas": null,
       "grid_template_columns": null,
       "grid_template_rows": null,
       "height": null,
       "justify_content": null,
       "justify_items": null,
       "left": null,
       "margin": null,
       "max_height": null,
       "max_width": null,
       "min_height": null,
       "min_width": null,
       "object_fit": null,
       "object_position": null,
       "order": null,
       "overflow": null,
       "overflow_x": null,
       "overflow_y": null,
       "padding": null,
       "right": null,
       "top": null,
       "visibility": null,
       "width": null
      }
     },
     "8ba0aab38bbe403aa9a3e66562603ef4": {
      "model_module": "@jupyter-widgets/base",
      "model_module_version": "1.2.0",
      "model_name": "LayoutModel",
      "state": {
       "_model_module": "@jupyter-widgets/base",
       "_model_module_version": "1.2.0",
       "_model_name": "LayoutModel",
       "_view_count": null,
       "_view_module": "@jupyter-widgets/base",
       "_view_module_version": "1.2.0",
       "_view_name": "LayoutView",
       "align_content": null,
       "align_items": null,
       "align_self": null,
       "border": null,
       "bottom": null,
       "display": null,
       "flex": null,
       "flex_flow": null,
       "grid_area": null,
       "grid_auto_columns": null,
       "grid_auto_flow": null,
       "grid_auto_rows": null,
       "grid_column": null,
       "grid_gap": null,
       "grid_row": null,
       "grid_template_areas": null,
       "grid_template_columns": null,
       "grid_template_rows": null,
       "height": null,
       "justify_content": null,
       "justify_items": null,
       "left": null,
       "margin": null,
       "max_height": null,
       "max_width": null,
       "min_height": null,
       "min_width": null,
       "object_fit": null,
       "object_position": null,
       "order": null,
       "overflow": null,
       "overflow_x": null,
       "overflow_y": null,
       "padding": null,
       "right": null,
       "top": null,
       "visibility": null,
       "width": null
      }
     },
     "8f608848136e4a3bb9e68c3e7aae93ca": {
      "model_module": "@jupyter-widgets/controls",
      "model_module_version": "1.5.0",
      "model_name": "ProgressStyleModel",
      "state": {
       "_model_module": "@jupyter-widgets/controls",
       "_model_module_version": "1.5.0",
       "_model_name": "ProgressStyleModel",
       "_view_count": null,
       "_view_module": "@jupyter-widgets/base",
       "_view_module_version": "1.2.0",
       "_view_name": "StyleView",
       "bar_color": null,
       "description_width": ""
      }
     },
     "8fc2a63d8c0a48a29322fdc392cc55d1": {
      "model_module": "@jupyter-widgets/controls",
      "model_module_version": "1.5.0",
      "model_name": "HTMLModel",
      "state": {
       "_dom_classes": [],
       "_model_module": "@jupyter-widgets/controls",
       "_model_module_version": "1.5.0",
       "_model_name": "HTMLModel",
       "_view_count": null,
       "_view_module": "@jupyter-widgets/controls",
       "_view_module_version": "1.5.0",
       "_view_name": "HTMLView",
       "description": "",
       "description_tooltip": null,
       "layout": "IPY_MODEL_e52fa02a67504856aa6f1fa4049ad402",
       "placeholder": "​",
       "style": "IPY_MODEL_ee1581168bff43018f0a08c2902161ae",
       "value": "Downloading (…)solve/main/vocab.txt: 100%"
      }
     },
     "90896c55b6e646789ad1225115fae9d7": {
      "model_module": "@jupyter-widgets/controls",
      "model_module_version": "1.5.0",
      "model_name": "HTMLModel",
      "state": {
       "_dom_classes": [],
       "_model_module": "@jupyter-widgets/controls",
       "_model_module_version": "1.5.0",
       "_model_name": "HTMLModel",
       "_view_count": null,
       "_view_module": "@jupyter-widgets/controls",
       "_view_module_version": "1.5.0",
       "_view_name": "HTMLView",
       "description": "",
       "description_tooltip": null,
       "layout": "IPY_MODEL_1bf1112e4e02442c99b4d0f6f8af31e3",
       "placeholder": "​",
       "style": "IPY_MODEL_e3527be64b8c46559b59b46947ae9727",
       "value": "Downloading data files: 100%"
      }
     },
     "933131a64b2d4ef39cdb7186e9b0373f": {
      "model_module": "@jupyter-widgets/base",
      "model_module_version": "1.2.0",
      "model_name": "LayoutModel",
      "state": {
       "_model_module": "@jupyter-widgets/base",
       "_model_module_version": "1.2.0",
       "_model_name": "LayoutModel",
       "_view_count": null,
       "_view_module": "@jupyter-widgets/base",
       "_view_module_version": "1.2.0",
       "_view_name": "LayoutView",
       "align_content": null,
       "align_items": null,
       "align_self": null,
       "border": null,
       "bottom": null,
       "display": null,
       "flex": null,
       "flex_flow": null,
       "grid_area": null,
       "grid_auto_columns": null,
       "grid_auto_flow": null,
       "grid_auto_rows": null,
       "grid_column": null,
       "grid_gap": null,
       "grid_row": null,
       "grid_template_areas": null,
       "grid_template_columns": null,
       "grid_template_rows": null,
       "height": null,
       "justify_content": null,
       "justify_items": null,
       "left": null,
       "margin": null,
       "max_height": null,
       "max_width": null,
       "min_height": null,
       "min_width": null,
       "object_fit": null,
       "object_position": null,
       "order": null,
       "overflow": null,
       "overflow_x": null,
       "overflow_y": null,
       "padding": null,
       "right": null,
       "top": null,
       "visibility": null,
       "width": null
      }
     },
     "98c7b5d1ac7745f78ed7e2bddc15b1c7": {
      "model_module": "@jupyter-widgets/base",
      "model_module_version": "1.2.0",
      "model_name": "LayoutModel",
      "state": {
       "_model_module": "@jupyter-widgets/base",
       "_model_module_version": "1.2.0",
       "_model_name": "LayoutModel",
       "_view_count": null,
       "_view_module": "@jupyter-widgets/base",
       "_view_module_version": "1.2.0",
       "_view_name": "LayoutView",
       "align_content": null,
       "align_items": null,
       "align_self": null,
       "border": null,
       "bottom": null,
       "display": null,
       "flex": null,
       "flex_flow": null,
       "grid_area": null,
       "grid_auto_columns": null,
       "grid_auto_flow": null,
       "grid_auto_rows": null,
       "grid_column": null,
       "grid_gap": null,
       "grid_row": null,
       "grid_template_areas": null,
       "grid_template_columns": null,
       "grid_template_rows": null,
       "height": null,
       "justify_content": null,
       "justify_items": null,
       "left": null,
       "margin": null,
       "max_height": null,
       "max_width": null,
       "min_height": null,
       "min_width": null,
       "object_fit": null,
       "object_position": null,
       "order": null,
       "overflow": null,
       "overflow_x": null,
       "overflow_y": null,
       "padding": null,
       "right": null,
       "top": null,
       "visibility": null,
       "width": null
      }
     },
     "9bf48ef174c54be6a1494542d6f1cd07": {
      "model_module": "@jupyter-widgets/controls",
      "model_module_version": "1.5.0",
      "model_name": "DescriptionStyleModel",
      "state": {
       "_model_module": "@jupyter-widgets/controls",
       "_model_module_version": "1.5.0",
       "_model_name": "DescriptionStyleModel",
       "_view_count": null,
       "_view_module": "@jupyter-widgets/base",
       "_view_module_version": "1.2.0",
       "_view_name": "StyleView",
       "description_width": ""
      }
     },
     "9bf55fd8bb534256add415c706fe885d": {
      "model_module": "@jupyter-widgets/controls",
      "model_module_version": "1.5.0",
      "model_name": "DescriptionStyleModel",
      "state": {
       "_model_module": "@jupyter-widgets/controls",
       "_model_module_version": "1.5.0",
       "_model_name": "DescriptionStyleModel",
       "_view_count": null,
       "_view_module": "@jupyter-widgets/base",
       "_view_module_version": "1.2.0",
       "_view_name": "StyleView",
       "description_width": ""
      }
     },
     "9c44df4a57aa47eeabb99d81d072dc63": {
      "model_module": "@jupyter-widgets/controls",
      "model_module_version": "1.5.0",
      "model_name": "HTMLModel",
      "state": {
       "_dom_classes": [],
       "_model_module": "@jupyter-widgets/controls",
       "_model_module_version": "1.5.0",
       "_model_name": "HTMLModel",
       "_view_count": null,
       "_view_module": "@jupyter-widgets/controls",
       "_view_module_version": "1.5.0",
       "_view_name": "HTMLView",
       "description": "",
       "description_tooltip": null,
       "layout": "IPY_MODEL_e312495efa214c45bb8ca702e8141dca",
       "placeholder": "​",
       "style": "IPY_MODEL_76255e7fbadf4c30b506173707a8ba63",
       "value": " 843k/843k [00:00&lt;00:00, 6.11MB/s]"
      }
     },
     "9e274138fac84ff4a7406d7147b3bf32": {
      "model_module": "@jupyter-widgets/controls",
      "model_module_version": "1.5.0",
      "model_name": "DescriptionStyleModel",
      "state": {
       "_model_module": "@jupyter-widgets/controls",
       "_model_module_version": "1.5.0",
       "_model_name": "DescriptionStyleModel",
       "_view_count": null,
       "_view_module": "@jupyter-widgets/base",
       "_view_module_version": "1.2.0",
       "_view_name": "StyleView",
       "description_width": ""
      }
     },
     "a2f846933ba84045b01a11eae2cbdb0e": {
      "model_module": "@jupyter-widgets/controls",
      "model_module_version": "1.5.0",
      "model_name": "HTMLModel",
      "state": {
       "_dom_classes": [],
       "_model_module": "@jupyter-widgets/controls",
       "_model_module_version": "1.5.0",
       "_model_name": "HTMLModel",
       "_view_count": null,
       "_view_module": "@jupyter-widgets/controls",
       "_view_module_version": "1.5.0",
       "_view_name": "HTMLView",
       "description": "",
       "description_tooltip": null,
       "layout": "IPY_MODEL_862d11dc2c6a4662a62ecc3e48930966",
       "placeholder": "​",
       "style": "IPY_MODEL_9bf55fd8bb534256add415c706fe885d",
       "value": " 22.0/22.0 [00:00&lt;00:00, 1.32kB/s]"
      }
     },
     "a8a33812cc774897a0e206c34f9bd8d3": {
      "model_module": "@jupyter-widgets/base",
      "model_module_version": "1.2.0",
      "model_name": "LayoutModel",
      "state": {
       "_model_module": "@jupyter-widgets/base",
       "_model_module_version": "1.2.0",
       "_model_name": "LayoutModel",
       "_view_count": null,
       "_view_module": "@jupyter-widgets/base",
       "_view_module_version": "1.2.0",
       "_view_name": "LayoutView",
       "align_content": null,
       "align_items": null,
       "align_self": null,
       "border": null,
       "bottom": null,
       "display": null,
       "flex": null,
       "flex_flow": null,
       "grid_area": null,
       "grid_auto_columns": null,
       "grid_auto_flow": null,
       "grid_auto_rows": null,
       "grid_column": null,
       "grid_gap": null,
       "grid_row": null,
       "grid_template_areas": null,
       "grid_template_columns": null,
       "grid_template_rows": null,
       "height": null,
       "justify_content": null,
       "justify_items": null,
       "left": null,
       "margin": null,
       "max_height": null,
       "max_width": null,
       "min_height": null,
       "min_width": null,
       "object_fit": null,
       "object_position": null,
       "order": null,
       "overflow": null,
       "overflow_x": null,
       "overflow_y": null,
       "padding": null,
       "right": null,
       "top": null,
       "visibility": null,
       "width": null
      }
     },
     "a97f4805990643daa5daf4bd2f8e322a": {
      "model_module": "@jupyter-widgets/base",
      "model_module_version": "1.2.0",
      "model_name": "LayoutModel",
      "state": {
       "_model_module": "@jupyter-widgets/base",
       "_model_module_version": "1.2.0",
       "_model_name": "LayoutModel",
       "_view_count": null,
       "_view_module": "@jupyter-widgets/base",
       "_view_module_version": "1.2.0",
       "_view_name": "LayoutView",
       "align_content": null,
       "align_items": null,
       "align_self": null,
       "border": null,
       "bottom": null,
       "display": null,
       "flex": null,
       "flex_flow": null,
       "grid_area": null,
       "grid_auto_columns": null,
       "grid_auto_flow": null,
       "grid_auto_rows": null,
       "grid_column": null,
       "grid_gap": null,
       "grid_row": null,
       "grid_template_areas": null,
       "grid_template_columns": null,
       "grid_template_rows": null,
       "height": null,
       "justify_content": null,
       "justify_items": null,
       "left": null,
       "margin": null,
       "max_height": null,
       "max_width": null,
       "min_height": null,
       "min_width": null,
       "object_fit": null,
       "object_position": null,
       "order": null,
       "overflow": null,
       "overflow_x": null,
       "overflow_y": null,
       "padding": null,
       "right": null,
       "top": null,
       "visibility": null,
       "width": null
      }
     },
     "ab0b175132a34a8faf8c5a19a957e48f": {
      "model_module": "@jupyter-widgets/controls",
      "model_module_version": "1.5.0",
      "model_name": "HBoxModel",
      "state": {
       "_dom_classes": [],
       "_model_module": "@jupyter-widgets/controls",
       "_model_module_version": "1.5.0",
       "_model_name": "HBoxModel",
       "_view_count": null,
       "_view_module": "@jupyter-widgets/controls",
       "_view_module_version": "1.5.0",
       "_view_name": "HBoxView",
       "box_style": "",
       "children": [
        "IPY_MODEL_b6ae50b46c284eb3a1f8a65bd200a2bf",
        "IPY_MODEL_605d90250a6f4ff1939e1e1ce0104348",
        "IPY_MODEL_252cf88fa03a49a8bde1b65cf8ecd2f3"
       ],
       "layout": "IPY_MODEL_a8a33812cc774897a0e206c34f9bd8d3"
      }
     },
     "adc5f082aadf4d5c8b0b44cbab6297b0": {
      "model_module": "@jupyter-widgets/controls",
      "model_module_version": "1.5.0",
      "model_name": "ProgressStyleModel",
      "state": {
       "_model_module": "@jupyter-widgets/controls",
       "_model_module_version": "1.5.0",
       "_model_name": "ProgressStyleModel",
       "_view_count": null,
       "_view_module": "@jupyter-widgets/base",
       "_view_module_version": "1.2.0",
       "_view_name": "StyleView",
       "bar_color": null,
       "description_width": ""
      }
     },
     "add8205bd3e544a79c9a6902a20c04de": {
      "model_module": "@jupyter-widgets/controls",
      "model_module_version": "1.5.0",
      "model_name": "ProgressStyleModel",
      "state": {
       "_model_module": "@jupyter-widgets/controls",
       "_model_module_version": "1.5.0",
       "_model_name": "ProgressStyleModel",
       "_view_count": null,
       "_view_module": "@jupyter-widgets/base",
       "_view_module_version": "1.2.0",
       "_view_name": "StyleView",
       "bar_color": null,
       "description_width": ""
      }
     },
     "ae51e3b20dfd4f18be718649958d8bbc": {
      "model_module": "@jupyter-widgets/controls",
      "model_module_version": "1.5.0",
      "model_name": "ProgressStyleModel",
      "state": {
       "_model_module": "@jupyter-widgets/controls",
       "_model_module_version": "1.5.0",
       "_model_name": "ProgressStyleModel",
       "_view_count": null,
       "_view_module": "@jupyter-widgets/base",
       "_view_module_version": "1.2.0",
       "_view_name": "StyleView",
       "bar_color": null,
       "description_width": ""
      }
     },
     "b11e35ec4c6546c595b49d59eec145ed": {
      "model_module": "@jupyter-widgets/controls",
      "model_module_version": "1.5.0",
      "model_name": "HTMLModel",
      "state": {
       "_dom_classes": [],
       "_model_module": "@jupyter-widgets/controls",
       "_model_module_version": "1.5.0",
       "_model_name": "HTMLModel",
       "_view_count": null,
       "_view_module": "@jupyter-widgets/controls",
       "_view_module_version": "1.5.0",
       "_view_name": "HTMLView",
       "description": "",
       "description_tooltip": null,
       "layout": "IPY_MODEL_3a3bd927ae5c41f8b56ae8be0510f573",
       "placeholder": "​",
       "style": "IPY_MODEL_193e4ecbbc32416e99782db9da11d602",
       "value": " 1/1 [00:02&lt;00:00,  2.06s/it]"
      }
     },
     "b6ae50b46c284eb3a1f8a65bd200a2bf": {
      "model_module": "@jupyter-widgets/controls",
      "model_module_version": "1.5.0",
      "model_name": "HTMLModel",
      "state": {
       "_dom_classes": [],
       "_model_module": "@jupyter-widgets/controls",
       "_model_module_version": "1.5.0",
       "_model_name": "HTMLModel",
       "_view_count": null,
       "_view_module": "@jupyter-widgets/controls",
       "_view_module_version": "1.5.0",
       "_view_name": "HTMLView",
       "description": "",
       "description_tooltip": null,
       "layout": "IPY_MODEL_22c877aea4d047f2b8c31eb111f41063",
       "placeholder": "​",
       "style": "IPY_MODEL_9bf48ef174c54be6a1494542d6f1cd07",
       "value": "Downloading (…)cial_tokens_map.json: 100%"
      }
     },
     "b897f8f1af7b4e579f6465f723a65626": {
      "model_module": "@jupyter-widgets/base",
      "model_module_version": "1.2.0",
      "model_name": "LayoutModel",
      "state": {
       "_model_module": "@jupyter-widgets/base",
       "_model_module_version": "1.2.0",
       "_model_name": "LayoutModel",
       "_view_count": null,
       "_view_module": "@jupyter-widgets/base",
       "_view_module_version": "1.2.0",
       "_view_name": "LayoutView",
       "align_content": null,
       "align_items": null,
       "align_self": null,
       "border": null,
       "bottom": null,
       "display": null,
       "flex": null,
       "flex_flow": null,
       "grid_area": null,
       "grid_auto_columns": null,
       "grid_auto_flow": null,
       "grid_auto_rows": null,
       "grid_column": null,
       "grid_gap": null,
       "grid_row": null,
       "grid_template_areas": null,
       "grid_template_columns": null,
       "grid_template_rows": null,
       "height": null,
       "justify_content": null,
       "justify_items": null,
       "left": null,
       "margin": null,
       "max_height": null,
       "max_width": null,
       "min_height": null,
       "min_width": null,
       "object_fit": null,
       "object_position": null,
       "order": null,
       "overflow": null,
       "overflow_x": null,
       "overflow_y": null,
       "padding": null,
       "right": null,
       "top": null,
       "visibility": null,
       "width": null
      }
     },
     "b8b2ed9248f740ce9f13d49f2fcb2296": {
      "model_module": "@jupyter-widgets/controls",
      "model_module_version": "1.5.0",
      "model_name": "DescriptionStyleModel",
      "state": {
       "_model_module": "@jupyter-widgets/controls",
       "_model_module_version": "1.5.0",
       "_model_name": "DescriptionStyleModel",
       "_view_count": null,
       "_view_module": "@jupyter-widgets/base",
       "_view_module_version": "1.2.0",
       "_view_name": "StyleView",
       "description_width": ""
      }
     },
     "b9370c214da54b20af626266328e87a3": {
      "model_module": "@jupyter-widgets/base",
      "model_module_version": "1.2.0",
      "model_name": "LayoutModel",
      "state": {
       "_model_module": "@jupyter-widgets/base",
       "_model_module_version": "1.2.0",
       "_model_name": "LayoutModel",
       "_view_count": null,
       "_view_module": "@jupyter-widgets/base",
       "_view_module_version": "1.2.0",
       "_view_name": "LayoutView",
       "align_content": null,
       "align_items": null,
       "align_self": null,
       "border": null,
       "bottom": null,
       "display": null,
       "flex": null,
       "flex_flow": null,
       "grid_area": null,
       "grid_auto_columns": null,
       "grid_auto_flow": null,
       "grid_auto_rows": null,
       "grid_column": null,
       "grid_gap": null,
       "grid_row": null,
       "grid_template_areas": null,
       "grid_template_columns": null,
       "grid_template_rows": null,
       "height": null,
       "justify_content": null,
       "justify_items": null,
       "left": null,
       "margin": null,
       "max_height": null,
       "max_width": null,
       "min_height": null,
       "min_width": null,
       "object_fit": null,
       "object_position": null,
       "order": null,
       "overflow": null,
       "overflow_x": null,
       "overflow_y": null,
       "padding": null,
       "right": null,
       "top": null,
       "visibility": null,
       "width": null
      }
     },
     "ba4af16b26b042a4ac4d5da9f22ecc53": {
      "model_module": "@jupyter-widgets/controls",
      "model_module_version": "1.5.0",
      "model_name": "DescriptionStyleModel",
      "state": {
       "_model_module": "@jupyter-widgets/controls",
       "_model_module_version": "1.5.0",
       "_model_name": "DescriptionStyleModel",
       "_view_count": null,
       "_view_module": "@jupyter-widgets/base",
       "_view_module_version": "1.2.0",
       "_view_name": "StyleView",
       "description_width": ""
      }
     },
     "bb1193cc00094bb3ab36b85f95ae9176": {
      "model_module": "@jupyter-widgets/controls",
      "model_module_version": "1.5.0",
      "model_name": "HBoxModel",
      "state": {
       "_dom_classes": [],
       "_model_module": "@jupyter-widgets/controls",
       "_model_module_version": "1.5.0",
       "_model_name": "HBoxModel",
       "_view_count": null,
       "_view_module": "@jupyter-widgets/controls",
       "_view_module_version": "1.5.0",
       "_view_name": "HBoxView",
       "box_style": "",
       "children": [
        "IPY_MODEL_4545829511d24e94ba7147f75c23f1b5",
        "IPY_MODEL_27bca9bc450b424d971f56f21f6760d3",
        "IPY_MODEL_0e78eda18bc942b1923611f1365ca316"
       ],
       "layout": "IPY_MODEL_33ba874d40314441a44d7b7c4d12dbd7"
      }
     },
     "be998abd6ba2490eb426b60bcb305664": {
      "model_module": "@jupyter-widgets/base",
      "model_module_version": "1.2.0",
      "model_name": "LayoutModel",
      "state": {
       "_model_module": "@jupyter-widgets/base",
       "_model_module_version": "1.2.0",
       "_model_name": "LayoutModel",
       "_view_count": null,
       "_view_module": "@jupyter-widgets/base",
       "_view_module_version": "1.2.0",
       "_view_name": "LayoutView",
       "align_content": null,
       "align_items": null,
       "align_self": null,
       "border": null,
       "bottom": null,
       "display": null,
       "flex": null,
       "flex_flow": null,
       "grid_area": null,
       "grid_auto_columns": null,
       "grid_auto_flow": null,
       "grid_auto_rows": null,
       "grid_column": null,
       "grid_gap": null,
       "grid_row": null,
       "grid_template_areas": null,
       "grid_template_columns": null,
       "grid_template_rows": null,
       "height": null,
       "justify_content": null,
       "justify_items": null,
       "left": null,
       "margin": null,
       "max_height": null,
       "max_width": null,
       "min_height": null,
       "min_width": null,
       "object_fit": null,
       "object_position": null,
       "order": null,
       "overflow": null,
       "overflow_x": null,
       "overflow_y": null,
       "padding": null,
       "right": null,
       "top": null,
       "visibility": null,
       "width": null
      }
     },
     "c279da0403824c1a825535d486bd68f8": {
      "model_module": "@jupyter-widgets/controls",
      "model_module_version": "1.5.0",
      "model_name": "HTMLModel",
      "state": {
       "_dom_classes": [],
       "_model_module": "@jupyter-widgets/controls",
       "_model_module_version": "1.5.0",
       "_model_name": "HTMLModel",
       "_view_count": null,
       "_view_module": "@jupyter-widgets/controls",
       "_view_module_version": "1.5.0",
       "_view_name": "HTMLView",
       "description": "",
       "description_tooltip": null,
       "layout": "IPY_MODEL_5e1309eb48194a5d8e1e7d41084abc8c",
       "placeholder": "​",
       "style": "IPY_MODEL_4da88be81de849169b79144517db8535",
       "value": "Downloading data: 100%"
      }
     },
     "c31197fc2b834586b84b7a95b1b8124d": {
      "model_module": "@jupyter-widgets/controls",
      "model_module_version": "1.5.0",
      "model_name": "HTMLModel",
      "state": {
       "_dom_classes": [],
       "_model_module": "@jupyter-widgets/controls",
       "_model_module_version": "1.5.0",
       "_model_name": "HTMLModel",
       "_view_count": null,
       "_view_module": "@jupyter-widgets/controls",
       "_view_module_version": "1.5.0",
       "_view_name": "HTMLView",
       "description": "",
       "description_tooltip": null,
       "layout": "IPY_MODEL_e91ad8278f97491eb99993e2f80f1a8e",
       "placeholder": "​",
       "style": "IPY_MODEL_37a96f8ebbf847dca2fee60a11266060",
       "value": "Downloading (…)lve/main/config.json: 100%"
      }
     },
     "c38c7a76c7604285846636bb76b85971": {
      "model_module": "@jupyter-widgets/controls",
      "model_module_version": "1.5.0",
      "model_name": "HTMLModel",
      "state": {
       "_dom_classes": [],
       "_model_module": "@jupyter-widgets/controls",
       "_model_module_version": "1.5.0",
       "_model_name": "HTMLModel",
       "_view_count": null,
       "_view_module": "@jupyter-widgets/controls",
       "_view_module_version": "1.5.0",
       "_view_name": "HTMLView",
       "description": "",
       "description_tooltip": null,
       "layout": "IPY_MODEL_f83f0556ba204e25b743aa4edcdeda90",
       "placeholder": "​",
       "style": "IPY_MODEL_efa8fb6148154cc9ad03d24a48523e8b",
       "value": "Extracting data files: 100%"
      }
     },
     "c4961dac2f1c4f239ab54ec5ddcde74e": {
      "model_module": "@jupyter-widgets/controls",
      "model_module_version": "1.5.0",
      "model_name": "FloatProgressModel",
      "state": {
       "_dom_classes": [],
       "_model_module": "@jupyter-widgets/controls",
       "_model_module_version": "1.5.0",
       "_model_name": "FloatProgressModel",
       "_view_count": null,
       "_view_module": "@jupyter-widgets/controls",
       "_view_module_version": "1.5.0",
       "_view_name": "ProgressView",
       "bar_style": "success",
       "description": "",
       "description_tooltip": null,
       "layout": "IPY_MODEL_d3b5a27e9443416d8340c29199466d99",
       "max": 338.0,
       "min": 0.0,
       "orientation": "horizontal",
       "style": "IPY_MODEL_5f02e0f68e7345a69912828ac712bbad",
       "value": 338.0
      }
     },
     "c57049d9f88b447cb82e9564d894ae30": {
      "model_module": "@jupyter-widgets/controls",
      "model_module_version": "1.5.0",
      "model_name": "FloatProgressModel",
      "state": {
       "_dom_classes": [],
       "_model_module": "@jupyter-widgets/controls",
       "_model_module_version": "1.5.0",
       "_model_name": "FloatProgressModel",
       "_view_count": null,
       "_view_module": "@jupyter-widgets/controls",
       "_view_module_version": "1.5.0",
       "_view_name": "ProgressView",
       "bar_style": "success",
       "description": "",
       "description_tooltip": null,
       "layout": "IPY_MODEL_7b3e4102430d4145b357d51bd2c015d8",
       "max": 1.0,
       "min": 0.0,
       "orientation": "horizontal",
       "style": "IPY_MODEL_8f608848136e4a3bb9e68c3e7aae93ca",
       "value": 1.0
      }
     },
     "c734fdc4fad54de8a486a1a58e137281": {
      "model_module": "@jupyter-widgets/base",
      "model_module_version": "1.2.0",
      "model_name": "LayoutModel",
      "state": {
       "_model_module": "@jupyter-widgets/base",
       "_model_module_version": "1.2.0",
       "_model_name": "LayoutModel",
       "_view_count": null,
       "_view_module": "@jupyter-widgets/base",
       "_view_module_version": "1.2.0",
       "_view_name": "LayoutView",
       "align_content": null,
       "align_items": null,
       "align_self": null,
       "border": null,
       "bottom": null,
       "display": null,
       "flex": null,
       "flex_flow": null,
       "grid_area": null,
       "grid_auto_columns": null,
       "grid_auto_flow": null,
       "grid_auto_rows": null,
       "grid_column": null,
       "grid_gap": null,
       "grid_row": null,
       "grid_template_areas": null,
       "grid_template_columns": null,
       "grid_template_rows": null,
       "height": null,
       "justify_content": null,
       "justify_items": null,
       "left": null,
       "margin": null,
       "max_height": null,
       "max_width": null,
       "min_height": null,
       "min_width": null,
       "object_fit": null,
       "object_position": null,
       "order": null,
       "overflow": null,
       "overflow_x": null,
       "overflow_y": null,
       "padding": null,
       "right": null,
       "top": null,
       "visibility": null,
       "width": null
      }
     },
     "cd51f69a63954247b1f0cc138e615e79": {
      "model_module": "@jupyter-widgets/controls",
      "model_module_version": "1.5.0",
      "model_name": "DescriptionStyleModel",
      "state": {
       "_model_module": "@jupyter-widgets/controls",
       "_model_module_version": "1.5.0",
       "_model_name": "DescriptionStyleModel",
       "_view_count": null,
       "_view_module": "@jupyter-widgets/base",
       "_view_module_version": "1.2.0",
       "_view_name": "StyleView",
       "description_width": ""
      }
     },
     "ceb634723e5e43488deda18dc5b46d39": {
      "model_module": "@jupyter-widgets/controls",
      "model_module_version": "1.5.0",
      "model_name": "FloatProgressModel",
      "state": {
       "_dom_classes": [],
       "_model_module": "@jupyter-widgets/controls",
       "_model_module_version": "1.5.0",
       "_model_name": "FloatProgressModel",
       "_view_count": null,
       "_view_module": "@jupyter-widgets/controls",
       "_view_module_version": "1.5.0",
       "_view_name": "ProgressView",
       "bar_style": "success",
       "description": "",
       "description_tooltip": null,
       "layout": "IPY_MODEL_e10e31bc02eb4de2b8841358a44eceeb",
       "max": 1.0,
       "min": 0.0,
       "orientation": "horizontal",
       "style": "IPY_MODEL_61f51c16bc934b89b39d4caf75ffce95",
       "value": 1.0
      }
     },
     "cfdf50b07e76405d94698bf32ba85fa7": {
      "model_module": "@jupyter-widgets/base",
      "model_module_version": "1.2.0",
      "model_name": "LayoutModel",
      "state": {
       "_model_module": "@jupyter-widgets/base",
       "_model_module_version": "1.2.0",
       "_model_name": "LayoutModel",
       "_view_count": null,
       "_view_module": "@jupyter-widgets/base",
       "_view_module_version": "1.2.0",
       "_view_name": "LayoutView",
       "align_content": null,
       "align_items": null,
       "align_self": null,
       "border": null,
       "bottom": null,
       "display": null,
       "flex": null,
       "flex_flow": null,
       "grid_area": null,
       "grid_auto_columns": null,
       "grid_auto_flow": null,
       "grid_auto_rows": null,
       "grid_column": null,
       "grid_gap": null,
       "grid_row": null,
       "grid_template_areas": null,
       "grid_template_columns": null,
       "grid_template_rows": null,
       "height": null,
       "justify_content": null,
       "justify_items": null,
       "left": null,
       "margin": null,
       "max_height": null,
       "max_width": null,
       "min_height": null,
       "min_width": null,
       "object_fit": null,
       "object_position": null,
       "order": null,
       "overflow": null,
       "overflow_x": null,
       "overflow_y": null,
       "padding": null,
       "right": null,
       "top": null,
       "visibility": null,
       "width": null
      }
     },
     "d1438d0d20ec491db87febacd7c0e92f": {
      "model_module": "@jupyter-widgets/controls",
      "model_module_version": "1.5.0",
      "model_name": "FloatProgressModel",
      "state": {
       "_dom_classes": [],
       "_model_module": "@jupyter-widgets/controls",
       "_model_module_version": "1.5.0",
       "_model_name": "FloatProgressModel",
       "_view_count": null,
       "_view_module": "@jupyter-widgets/controls",
       "_view_module_version": "1.5.0",
       "_view_name": "ProgressView",
       "bar_style": "success",
       "description": "",
       "description_tooltip": null,
       "layout": "IPY_MODEL_06b28bea8aac426ab931083232cd54d1",
       "max": 22.0,
       "min": 0.0,
       "orientation": "horizontal",
       "style": "IPY_MODEL_f282f7f5151b4599a56c4d656a193b24",
       "value": 22.0
      }
     },
     "d37288bb68334e458c24cb5a8ce0cc9e": {
      "model_module": "@jupyter-widgets/base",
      "model_module_version": "1.2.0",
      "model_name": "LayoutModel",
      "state": {
       "_model_module": "@jupyter-widgets/base",
       "_model_module_version": "1.2.0",
       "_model_name": "LayoutModel",
       "_view_count": null,
       "_view_module": "@jupyter-widgets/base",
       "_view_module_version": "1.2.0",
       "_view_name": "LayoutView",
       "align_content": null,
       "align_items": null,
       "align_self": null,
       "border": null,
       "bottom": null,
       "display": null,
       "flex": null,
       "flex_flow": null,
       "grid_area": null,
       "grid_auto_columns": null,
       "grid_auto_flow": null,
       "grid_auto_rows": null,
       "grid_column": null,
       "grid_gap": null,
       "grid_row": null,
       "grid_template_areas": null,
       "grid_template_columns": null,
       "grid_template_rows": null,
       "height": null,
       "justify_content": null,
       "justify_items": null,
       "left": null,
       "margin": null,
       "max_height": null,
       "max_width": null,
       "min_height": null,
       "min_width": null,
       "object_fit": null,
       "object_position": null,
       "order": null,
       "overflow": null,
       "overflow_x": null,
       "overflow_y": null,
       "padding": null,
       "right": null,
       "top": null,
       "visibility": null,
       "width": null
      }
     },
     "d3b5a27e9443416d8340c29199466d99": {
      "model_module": "@jupyter-widgets/base",
      "model_module_version": "1.2.0",
      "model_name": "LayoutModel",
      "state": {
       "_model_module": "@jupyter-widgets/base",
       "_model_module_version": "1.2.0",
       "_model_name": "LayoutModel",
       "_view_count": null,
       "_view_module": "@jupyter-widgets/base",
       "_view_module_version": "1.2.0",
       "_view_name": "LayoutView",
       "align_content": null,
       "align_items": null,
       "align_self": null,
       "border": null,
       "bottom": null,
       "display": null,
       "flex": null,
       "flex_flow": null,
       "grid_area": null,
       "grid_auto_columns": null,
       "grid_auto_flow": null,
       "grid_auto_rows": null,
       "grid_column": null,
       "grid_gap": null,
       "grid_row": null,
       "grid_template_areas": null,
       "grid_template_columns": null,
       "grid_template_rows": null,
       "height": null,
       "justify_content": null,
       "justify_items": null,
       "left": null,
       "margin": null,
       "max_height": null,
       "max_width": null,
       "min_height": null,
       "min_width": null,
       "object_fit": null,
       "object_position": null,
       "order": null,
       "overflow": null,
       "overflow_x": null,
       "overflow_y": null,
       "padding": null,
       "right": null,
       "top": null,
       "visibility": null,
       "width": null
      }
     },
     "dd77499b36aa4ac08b841954d7a85510": {
      "model_module": "@jupyter-widgets/controls",
      "model_module_version": "1.5.0",
      "model_name": "HTMLModel",
      "state": {
       "_dom_classes": [],
       "_model_module": "@jupyter-widgets/controls",
       "_model_module_version": "1.5.0",
       "_model_name": "HTMLModel",
       "_view_count": null,
       "_view_module": "@jupyter-widgets/controls",
       "_view_module_version": "1.5.0",
       "_view_name": "HTMLView",
       "description": "",
       "description_tooltip": null,
       "layout": "IPY_MODEL_e5778a1d5f6a404a8034cf78c9090adc",
       "placeholder": "​",
       "style": "IPY_MODEL_ba4af16b26b042a4ac4d5da9f22ecc53",
       "value": " 1/1 [00:00&lt;00:00, 60.94it/s]"
      }
     },
     "e0a27b7a3fd3426782edbb558aeb37e1": {
      "model_module": "@jupyter-widgets/base",
      "model_module_version": "1.2.0",
      "model_name": "LayoutModel",
      "state": {
       "_model_module": "@jupyter-widgets/base",
       "_model_module_version": "1.2.0",
       "_model_name": "LayoutModel",
       "_view_count": null,
       "_view_module": "@jupyter-widgets/base",
       "_view_module_version": "1.2.0",
       "_view_name": "LayoutView",
       "align_content": null,
       "align_items": null,
       "align_self": null,
       "border": null,
       "bottom": null,
       "display": null,
       "flex": null,
       "flex_flow": null,
       "grid_area": null,
       "grid_auto_columns": null,
       "grid_auto_flow": null,
       "grid_auto_rows": null,
       "grid_column": null,
       "grid_gap": null,
       "grid_row": null,
       "grid_template_areas": null,
       "grid_template_columns": null,
       "grid_template_rows": null,
       "height": null,
       "justify_content": null,
       "justify_items": null,
       "left": null,
       "margin": null,
       "max_height": null,
       "max_width": null,
       "min_height": null,
       "min_width": null,
       "object_fit": null,
       "object_position": null,
       "order": null,
       "overflow": null,
       "overflow_x": null,
       "overflow_y": null,
       "padding": null,
       "right": null,
       "top": null,
       "visibility": null,
       "width": null
      }
     },
     "e10e31bc02eb4de2b8841358a44eceeb": {
      "model_module": "@jupyter-widgets/base",
      "model_module_version": "1.2.0",
      "model_name": "LayoutModel",
      "state": {
       "_model_module": "@jupyter-widgets/base",
       "_model_module_version": "1.2.0",
       "_model_name": "LayoutModel",
       "_view_count": null,
       "_view_module": "@jupyter-widgets/base",
       "_view_module_version": "1.2.0",
       "_view_name": "LayoutView",
       "align_content": null,
       "align_items": null,
       "align_self": null,
       "border": null,
       "bottom": null,
       "display": null,
       "flex": null,
       "flex_flow": null,
       "grid_area": null,
       "grid_auto_columns": null,
       "grid_auto_flow": null,
       "grid_auto_rows": null,
       "grid_column": null,
       "grid_gap": null,
       "grid_row": null,
       "grid_template_areas": null,
       "grid_template_columns": null,
       "grid_template_rows": null,
       "height": null,
       "justify_content": null,
       "justify_items": null,
       "left": null,
       "margin": null,
       "max_height": null,
       "max_width": null,
       "min_height": null,
       "min_width": null,
       "object_fit": null,
       "object_position": null,
       "order": null,
       "overflow": null,
       "overflow_x": null,
       "overflow_y": null,
       "padding": null,
       "right": null,
       "top": null,
       "visibility": null,
       "width": null
      }
     },
     "e26b720191664c7282d3a44789c68747": {
      "model_module": "@jupyter-widgets/controls",
      "model_module_version": "1.5.0",
      "model_name": "DescriptionStyleModel",
      "state": {
       "_model_module": "@jupyter-widgets/controls",
       "_model_module_version": "1.5.0",
       "_model_name": "DescriptionStyleModel",
       "_view_count": null,
       "_view_module": "@jupyter-widgets/base",
       "_view_module_version": "1.2.0",
       "_view_name": "StyleView",
       "description_width": ""
      }
     },
     "e312495efa214c45bb8ca702e8141dca": {
      "model_module": "@jupyter-widgets/base",
      "model_module_version": "1.2.0",
      "model_name": "LayoutModel",
      "state": {
       "_model_module": "@jupyter-widgets/base",
       "_model_module_version": "1.2.0",
       "_model_name": "LayoutModel",
       "_view_count": null,
       "_view_module": "@jupyter-widgets/base",
       "_view_module_version": "1.2.0",
       "_view_name": "LayoutView",
       "align_content": null,
       "align_items": null,
       "align_self": null,
       "border": null,
       "bottom": null,
       "display": null,
       "flex": null,
       "flex_flow": null,
       "grid_area": null,
       "grid_auto_columns": null,
       "grid_auto_flow": null,
       "grid_auto_rows": null,
       "grid_column": null,
       "grid_gap": null,
       "grid_row": null,
       "grid_template_areas": null,
       "grid_template_columns": null,
       "grid_template_rows": null,
       "height": null,
       "justify_content": null,
       "justify_items": null,
       "left": null,
       "margin": null,
       "max_height": null,
       "max_width": null,
       "min_height": null,
       "min_width": null,
       "object_fit": null,
       "object_position": null,
       "order": null,
       "overflow": null,
       "overflow_x": null,
       "overflow_y": null,
       "padding": null,
       "right": null,
       "top": null,
       "visibility": null,
       "width": null
      }
     },
     "e3527be64b8c46559b59b46947ae9727": {
      "model_module": "@jupyter-widgets/controls",
      "model_module_version": "1.5.0",
      "model_name": "DescriptionStyleModel",
      "state": {
       "_model_module": "@jupyter-widgets/controls",
       "_model_module_version": "1.5.0",
       "_model_name": "DescriptionStyleModel",
       "_view_count": null,
       "_view_module": "@jupyter-widgets/base",
       "_view_module_version": "1.2.0",
       "_view_name": "StyleView",
       "description_width": ""
      }
     },
     "e4a5fa2b5c94460fb9359d454406b7e5": {
      "model_module": "@jupyter-widgets/base",
      "model_module_version": "1.2.0",
      "model_name": "LayoutModel",
      "state": {
       "_model_module": "@jupyter-widgets/base",
       "_model_module_version": "1.2.0",
       "_model_name": "LayoutModel",
       "_view_count": null,
       "_view_module": "@jupyter-widgets/base",
       "_view_module_version": "1.2.0",
       "_view_name": "LayoutView",
       "align_content": null,
       "align_items": null,
       "align_self": null,
       "border": null,
       "bottom": null,
       "display": null,
       "flex": null,
       "flex_flow": null,
       "grid_area": null,
       "grid_auto_columns": null,
       "grid_auto_flow": null,
       "grid_auto_rows": null,
       "grid_column": null,
       "grid_gap": null,
       "grid_row": null,
       "grid_template_areas": null,
       "grid_template_columns": null,
       "grid_template_rows": null,
       "height": null,
       "justify_content": null,
       "justify_items": null,
       "left": null,
       "margin": null,
       "max_height": null,
       "max_width": null,
       "min_height": null,
       "min_width": null,
       "object_fit": null,
       "object_position": null,
       "order": null,
       "overflow": null,
       "overflow_x": null,
       "overflow_y": null,
       "padding": null,
       "right": null,
       "top": null,
       "visibility": null,
       "width": null
      }
     },
     "e52fa02a67504856aa6f1fa4049ad402": {
      "model_module": "@jupyter-widgets/base",
      "model_module_version": "1.2.0",
      "model_name": "LayoutModel",
      "state": {
       "_model_module": "@jupyter-widgets/base",
       "_model_module_version": "1.2.0",
       "_model_name": "LayoutModel",
       "_view_count": null,
       "_view_module": "@jupyter-widgets/base",
       "_view_module_version": "1.2.0",
       "_view_name": "LayoutView",
       "align_content": null,
       "align_items": null,
       "align_self": null,
       "border": null,
       "bottom": null,
       "display": null,
       "flex": null,
       "flex_flow": null,
       "grid_area": null,
       "grid_auto_columns": null,
       "grid_auto_flow": null,
       "grid_auto_rows": null,
       "grid_column": null,
       "grid_gap": null,
       "grid_row": null,
       "grid_template_areas": null,
       "grid_template_columns": null,
       "grid_template_rows": null,
       "height": null,
       "justify_content": null,
       "justify_items": null,
       "left": null,
       "margin": null,
       "max_height": null,
       "max_width": null,
       "min_height": null,
       "min_width": null,
       "object_fit": null,
       "object_position": null,
       "order": null,
       "overflow": null,
       "overflow_x": null,
       "overflow_y": null,
       "padding": null,
       "right": null,
       "top": null,
       "visibility": null,
       "width": null
      }
     },
     "e5778a1d5f6a404a8034cf78c9090adc": {
      "model_module": "@jupyter-widgets/base",
      "model_module_version": "1.2.0",
      "model_name": "LayoutModel",
      "state": {
       "_model_module": "@jupyter-widgets/base",
       "_model_module_version": "1.2.0",
       "_model_name": "LayoutModel",
       "_view_count": null,
       "_view_module": "@jupyter-widgets/base",
       "_view_module_version": "1.2.0",
       "_view_name": "LayoutView",
       "align_content": null,
       "align_items": null,
       "align_self": null,
       "border": null,
       "bottom": null,
       "display": null,
       "flex": null,
       "flex_flow": null,
       "grid_area": null,
       "grid_auto_columns": null,
       "grid_auto_flow": null,
       "grid_auto_rows": null,
       "grid_column": null,
       "grid_gap": null,
       "grid_row": null,
       "grid_template_areas": null,
       "grid_template_columns": null,
       "grid_template_rows": null,
       "height": null,
       "justify_content": null,
       "justify_items": null,
       "left": null,
       "margin": null,
       "max_height": null,
       "max_width": null,
       "min_height": null,
       "min_width": null,
       "object_fit": null,
       "object_position": null,
       "order": null,
       "overflow": null,
       "overflow_x": null,
       "overflow_y": null,
       "padding": null,
       "right": null,
       "top": null,
       "visibility": null,
       "width": null
      }
     },
     "e8369610e35142618f100e150b99fc7e": {
      "model_module": "@jupyter-widgets/controls",
      "model_module_version": "1.5.0",
      "model_name": "HTMLModel",
      "state": {
       "_dom_classes": [],
       "_model_module": "@jupyter-widgets/controls",
       "_model_module_version": "1.5.0",
       "_model_name": "HTMLModel",
       "_view_count": null,
       "_view_module": "@jupyter-widgets/controls",
       "_view_module_version": "1.5.0",
       "_view_name": "HTMLView",
       "description": "",
       "description_tooltip": null,
       "layout": "IPY_MODEL_3c26d5eda13a4fe79ba32a6f1a51fe13",
       "placeholder": "​",
       "style": "IPY_MODEL_56bf42499533413692796cdd17cb2822",
       "value": " 1.08M/1.08M [00:00&lt;00:00, 4.12MB/s]"
      }
     },
     "e91ad8278f97491eb99993e2f80f1a8e": {
      "model_module": "@jupyter-widgets/base",
      "model_module_version": "1.2.0",
      "model_name": "LayoutModel",
      "state": {
       "_model_module": "@jupyter-widgets/base",
       "_model_module_version": "1.2.0",
       "_model_name": "LayoutModel",
       "_view_count": null,
       "_view_module": "@jupyter-widgets/base",
       "_view_module_version": "1.2.0",
       "_view_name": "LayoutView",
       "align_content": null,
       "align_items": null,
       "align_self": null,
       "border": null,
       "bottom": null,
       "display": null,
       "flex": null,
       "flex_flow": null,
       "grid_area": null,
       "grid_auto_columns": null,
       "grid_auto_flow": null,
       "grid_auto_rows": null,
       "grid_column": null,
       "grid_gap": null,
       "grid_row": null,
       "grid_template_areas": null,
       "grid_template_columns": null,
       "grid_template_rows": null,
       "height": null,
       "justify_content": null,
       "justify_items": null,
       "left": null,
       "margin": null,
       "max_height": null,
       "max_width": null,
       "min_height": null,
       "min_width": null,
       "object_fit": null,
       "object_position": null,
       "order": null,
       "overflow": null,
       "overflow_x": null,
       "overflow_y": null,
       "padding": null,
       "right": null,
       "top": null,
       "visibility": null,
       "width": null
      }
     },
     "ee1581168bff43018f0a08c2902161ae": {
      "model_module": "@jupyter-widgets/controls",
      "model_module_version": "1.5.0",
      "model_name": "DescriptionStyleModel",
      "state": {
       "_model_module": "@jupyter-widgets/controls",
       "_model_module_version": "1.5.0",
       "_model_name": "DescriptionStyleModel",
       "_view_count": null,
       "_view_module": "@jupyter-widgets/base",
       "_view_module_version": "1.2.0",
       "_view_name": "StyleView",
       "description_width": ""
      }
     },
     "ee84e3a738dd42debc161e39ffdbf8b7": {
      "model_module": "@jupyter-widgets/controls",
      "model_module_version": "1.5.0",
      "model_name": "HTMLModel",
      "state": {
       "_dom_classes": [],
       "_model_module": "@jupyter-widgets/controls",
       "_model_module_version": "1.5.0",
       "_model_name": "HTMLModel",
       "_view_count": null,
       "_view_module": "@jupyter-widgets/controls",
       "_view_module_version": "1.5.0",
       "_view_name": "HTMLView",
       "description": "",
       "description_tooltip": null,
       "layout": "IPY_MODEL_64880306798446af85832048d75740f1",
       "placeholder": "​",
       "style": "IPY_MODEL_e26b720191664c7282d3a44789c68747",
       "value": " 33.1M/33.1M [00:01&lt;00:00, 46.1MB/s]"
      }
     },
     "efa8fb6148154cc9ad03d24a48523e8b": {
      "model_module": "@jupyter-widgets/controls",
      "model_module_version": "1.5.0",
      "model_name": "DescriptionStyleModel",
      "state": {
       "_model_module": "@jupyter-widgets/controls",
       "_model_module_version": "1.5.0",
       "_model_name": "DescriptionStyleModel",
       "_view_count": null,
       "_view_module": "@jupyter-widgets/base",
       "_view_module_version": "1.2.0",
       "_view_name": "StyleView",
       "description_width": ""
      }
     },
     "f282f7f5151b4599a56c4d656a193b24": {
      "model_module": "@jupyter-widgets/controls",
      "model_module_version": "1.5.0",
      "model_name": "ProgressStyleModel",
      "state": {
       "_model_module": "@jupyter-widgets/controls",
       "_model_module_version": "1.5.0",
       "_model_name": "ProgressStyleModel",
       "_view_count": null,
       "_view_module": "@jupyter-widgets/base",
       "_view_module_version": "1.2.0",
       "_view_name": "StyleView",
       "bar_color": null,
       "description_width": ""
      }
     },
     "f2dbbae3566d4d6d8e487b034c1151ff": {
      "model_module": "@jupyter-widgets/controls",
      "model_module_version": "1.5.0",
      "model_name": "HTMLModel",
      "state": {
       "_dom_classes": [],
       "_model_module": "@jupyter-widgets/controls",
       "_model_module_version": "1.5.0",
       "_model_name": "HTMLModel",
       "_view_count": null,
       "_view_module": "@jupyter-widgets/controls",
       "_view_module_version": "1.5.0",
       "_view_name": "HTMLView",
       "description": "",
       "description_tooltip": null,
       "layout": "IPY_MODEL_36f84b3527a241d68e4940a93d73dd29",
       "placeholder": "​",
       "style": "IPY_MODEL_176520447e324c02bba82db9c696c204",
       "value": "100%"
      }
     },
     "f4295a8b7d6b4ff195d457bb99396ca2": {
      "model_module": "@jupyter-widgets/base",
      "model_module_version": "1.2.0",
      "model_name": "LayoutModel",
      "state": {
       "_model_module": "@jupyter-widgets/base",
       "_model_module_version": "1.2.0",
       "_model_name": "LayoutModel",
       "_view_count": null,
       "_view_module": "@jupyter-widgets/base",
       "_view_module_version": "1.2.0",
       "_view_name": "LayoutView",
       "align_content": null,
       "align_items": null,
       "align_self": null,
       "border": null,
       "bottom": null,
       "display": null,
       "flex": null,
       "flex_flow": null,
       "grid_area": null,
       "grid_auto_columns": null,
       "grid_auto_flow": null,
       "grid_auto_rows": null,
       "grid_column": null,
       "grid_gap": null,
       "grid_row": null,
       "grid_template_areas": null,
       "grid_template_columns": null,
       "grid_template_rows": null,
       "height": null,
       "justify_content": null,
       "justify_items": null,
       "left": null,
       "margin": null,
       "max_height": null,
       "max_width": null,
       "min_height": null,
       "min_width": null,
       "object_fit": null,
       "object_position": null,
       "order": null,
       "overflow": null,
       "overflow_x": null,
       "overflow_y": null,
       "padding": null,
       "right": null,
       "top": null,
       "visibility": null,
       "width": null
      }
     },
     "f5e4362460f9493d9653a3b330603511": {
      "model_module": "@jupyter-widgets/controls",
      "model_module_version": "1.5.0",
      "model_name": "HBoxModel",
      "state": {
       "_dom_classes": [],
       "_model_module": "@jupyter-widgets/controls",
       "_model_module_version": "1.5.0",
       "_model_name": "HBoxModel",
       "_view_count": null,
       "_view_module": "@jupyter-widgets/controls",
       "_view_module_version": "1.5.0",
       "_view_name": "HBoxView",
       "box_style": "",
       "children": [
        "IPY_MODEL_f2dbbae3566d4d6d8e487b034c1151ff",
        "IPY_MODEL_c57049d9f88b447cb82e9564d894ae30",
        "IPY_MODEL_dd77499b36aa4ac08b841954d7a85510"
       ],
       "layout": "IPY_MODEL_143ee05d8200499b8da48994da6db202"
      }
     },
     "f613aacf3fc54fc6834c1532b44b55c0": {
      "model_module": "@jupyter-widgets/base",
      "model_module_version": "1.2.0",
      "model_name": "LayoutModel",
      "state": {
       "_model_module": "@jupyter-widgets/base",
       "_model_module_version": "1.2.0",
       "_model_name": "LayoutModel",
       "_view_count": null,
       "_view_module": "@jupyter-widgets/base",
       "_view_module_version": "1.2.0",
       "_view_name": "LayoutView",
       "align_content": null,
       "align_items": null,
       "align_self": null,
       "border": null,
       "bottom": null,
       "display": null,
       "flex": null,
       "flex_flow": null,
       "grid_area": null,
       "grid_auto_columns": null,
       "grid_auto_flow": null,
       "grid_auto_rows": null,
       "grid_column": null,
       "grid_gap": null,
       "grid_row": null,
       "grid_template_areas": null,
       "grid_template_columns": null,
       "grid_template_rows": null,
       "height": null,
       "justify_content": null,
       "justify_items": null,
       "left": null,
       "margin": null,
       "max_height": null,
       "max_width": null,
       "min_height": null,
       "min_width": null,
       "object_fit": null,
       "object_position": null,
       "order": null,
       "overflow": null,
       "overflow_x": null,
       "overflow_y": null,
       "padding": null,
       "right": null,
       "top": null,
       "visibility": null,
       "width": null
      }
     },
     "f727d6e8202d42e18010957ffe44510c": {
      "model_module": "@jupyter-widgets/controls",
      "model_module_version": "1.5.0",
      "model_name": "DescriptionStyleModel",
      "state": {
       "_model_module": "@jupyter-widgets/controls",
       "_model_module_version": "1.5.0",
       "_model_name": "DescriptionStyleModel",
       "_view_count": null,
       "_view_module": "@jupyter-widgets/base",
       "_view_module_version": "1.2.0",
       "_view_name": "StyleView",
       "description_width": ""
      }
     },
     "f83f0556ba204e25b743aa4edcdeda90": {
      "model_module": "@jupyter-widgets/base",
      "model_module_version": "1.2.0",
      "model_name": "LayoutModel",
      "state": {
       "_model_module": "@jupyter-widgets/base",
       "_model_module_version": "1.2.0",
       "_model_name": "LayoutModel",
       "_view_count": null,
       "_view_module": "@jupyter-widgets/base",
       "_view_module_version": "1.2.0",
       "_view_name": "LayoutView",
       "align_content": null,
       "align_items": null,
       "align_self": null,
       "border": null,
       "bottom": null,
       "display": null,
       "flex": null,
       "flex_flow": null,
       "grid_area": null,
       "grid_auto_columns": null,
       "grid_auto_flow": null,
       "grid_auto_rows": null,
       "grid_column": null,
       "grid_gap": null,
       "grid_row": null,
       "grid_template_areas": null,
       "grid_template_columns": null,
       "grid_template_rows": null,
       "height": null,
       "justify_content": null,
       "justify_items": null,
       "left": null,
       "margin": null,
       "max_height": null,
       "max_width": null,
       "min_height": null,
       "min_width": null,
       "object_fit": null,
       "object_position": null,
       "order": null,
       "overflow": null,
       "overflow_x": null,
       "overflow_y": null,
       "padding": null,
       "right": null,
       "top": null,
       "visibility": null,
       "width": null
      }
     },
     "f91a7584612f4aaebdf0d9e6100d8824": {
      "model_module": "@jupyter-widgets/controls",
      "model_module_version": "1.5.0",
      "model_name": "FloatProgressModel",
      "state": {
       "_dom_classes": [],
       "_model_module": "@jupyter-widgets/controls",
       "_model_module_version": "1.5.0",
       "_model_name": "FloatProgressModel",
       "_view_count": null,
       "_view_module": "@jupyter-widgets/controls",
       "_view_module_version": "1.5.0",
       "_view_name": "ProgressView",
       "bar_style": "success",
       "description": "",
       "description_tooltip": null,
       "layout": "IPY_MODEL_d37288bb68334e458c24cb5a8ce0cc9e",
       "max": 949.0,
       "min": 0.0,
       "orientation": "horizontal",
       "style": "IPY_MODEL_79cdd8592701497a9970520bc1240273",
       "value": 949.0
      }
     },
     "fa4bd1f25b1e4bafb53faaebba0c3457": {
      "model_module": "@jupyter-widgets/base",
      "model_module_version": "1.2.0",
      "model_name": "LayoutModel",
      "state": {
       "_model_module": "@jupyter-widgets/base",
       "_model_module_version": "1.2.0",
       "_model_name": "LayoutModel",
       "_view_count": null,
       "_view_module": "@jupyter-widgets/base",
       "_view_module_version": "1.2.0",
       "_view_name": "LayoutView",
       "align_content": null,
       "align_items": null,
       "align_self": null,
       "border": null,
       "bottom": null,
       "display": null,
       "flex": null,
       "flex_flow": null,
       "grid_area": null,
       "grid_auto_columns": null,
       "grid_auto_flow": null,
       "grid_auto_rows": null,
       "grid_column": null,
       "grid_gap": null,
       "grid_row": null,
       "grid_template_areas": null,
       "grid_template_columns": null,
       "grid_template_rows": null,
       "height": null,
       "justify_content": null,
       "justify_items": null,
       "left": null,
       "margin": null,
       "max_height": null,
       "max_width": null,
       "min_height": null,
       "min_width": null,
       "object_fit": null,
       "object_position": null,
       "order": null,
       "overflow": null,
       "overflow_x": null,
       "overflow_y": null,
       "padding": null,
       "right": null,
       "top": null,
       "visibility": null,
       "width": null
      }
     },
     "fd42f2cf6eb24585a63b5a0691e55c2e": {
      "model_module": "@jupyter-widgets/controls",
      "model_module_version": "1.5.0",
      "model_name": "FloatProgressModel",
      "state": {
       "_dom_classes": [],
       "_model_module": "@jupyter-widgets/controls",
       "_model_module_version": "1.5.0",
       "_model_name": "FloatProgressModel",
       "_view_count": null,
       "_view_module": "@jupyter-widgets/controls",
       "_view_module_version": "1.5.0",
       "_view_name": "ProgressView",
       "bar_style": "success",
       "description": "",
       "description_tooltip": null,
       "layout": "IPY_MODEL_c734fdc4fad54de8a486a1a58e137281",
       "max": 1.0,
       "min": 0.0,
       "orientation": "horizontal",
       "style": "IPY_MODEL_adc5f082aadf4d5c8b0b44cbab6297b0",
       "value": 1.0
      }
     },
     "fdad60568c7e4cd2a0c2270ceff4324b": {
      "model_module": "@jupyter-widgets/controls",
      "model_module_version": "1.5.0",
      "model_name": "HTMLModel",
      "state": {
       "_dom_classes": [],
       "_model_module": "@jupyter-widgets/controls",
       "_model_module_version": "1.5.0",
       "_model_name": "HTMLModel",
       "_view_count": null,
       "_view_module": "@jupyter-widgets/controls",
       "_view_module_version": "1.5.0",
       "_view_name": "HTMLView",
       "description": "",
       "description_tooltip": null,
       "layout": "IPY_MODEL_89a75f49dc774fc1bb2ebe364e82123b",
       "placeholder": "​",
       "style": "IPY_MODEL_cd51f69a63954247b1f0cc138e615e79",
       "value": "Downloading (…)solve/main/bpe.codes: 100%"
      }
     },
     "ffdf8c1d3a904add9249b24e4cc7c0e9": {
      "model_module": "@jupyter-widgets/controls",
      "model_module_version": "1.5.0",
      "model_name": "ProgressStyleModel",
      "state": {
       "_model_module": "@jupyter-widgets/controls",
       "_model_module_version": "1.5.0",
       "_model_name": "ProgressStyleModel",
       "_view_count": null,
       "_view_module": "@jupyter-widgets/base",
       "_view_module_version": "1.2.0",
       "_view_name": "StyleView",
       "bar_color": null,
       "description_width": ""
      }
     }
    },
    "version_major": 2,
    "version_minor": 0
   }
  }
 },
 "nbformat": 4,
 "nbformat_minor": 5
}
