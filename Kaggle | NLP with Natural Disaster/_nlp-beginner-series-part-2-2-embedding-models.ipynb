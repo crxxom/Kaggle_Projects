{
 "cells": [
  {
   "cell_type": "markdown",
   "id": "a3a8da40",
   "metadata": {
    "papermill": {
     "duration": 0.018909,
     "end_time": "2023-08-10T13:59:52.595892",
     "exception": false,
     "start_time": "2023-08-10T13:59:52.576983",
     "status": "completed"
    },
    "tags": []
   },
   "source": [
    "# <div style=\"text-align:center; font-size:40px;\"><span style=\"color:#3A506B\">❗ Important ❗ </span></div>\n",
    "\n",
    "Hey there, whether you come from the ✅ Comprehensive Overview on NLP for Beginners 🥳  notebook or you click on this notebook directly, I just want to let you know that this notebook is part 2.2 to the NLP beginner series. Here are the links to the whole series:\n",
    "    \n",
    "**✅ Comprehensive Overview on NLP for Beginners 🥳 (collection of all series)** <br>\n",
    " https://www.kaggle.com/code/crxxom/comprehensive-overview-on-nlp-for-beginners\n",
    " \n",
    "    \n",
    "**🔴 NLP Beginner Series Part 1: NLP Preprocessing** <br>\n",
    "https://www.kaggle.com/code/crxxom/nlp-beginner-series-part-1-nlp-preprocessing\n",
    "\n",
    "**🟡 NLP Beginner Series Part 2.1: Word Embeddings** <br>\n",
    "https://www.kaggle.com/code/crxxom/nlp-beginner-series-part-2-1-word-embeddings\n",
    "\n",
    "**🟢 NLP Beginner Series Part 2.2: Embedding Models** <br>\n",
    "https://www.kaggle.com/code/crxxom/nlp-beginner-series-part-2-2-embedding-models\n",
    "\n",
    "**🟣 NLP Beginner Series Part 3: Case Study** <br>\n",
    " https://www.kaggle.com/code/crxxom/nlp-beginner-series-part-3-case-study"
   ]
  },
  {
   "cell_type": "markdown",
   "id": "a217f4b8",
   "metadata": {
    "papermill": {
     "duration": 0.016388,
     "end_time": "2023-08-10T13:59:52.630423",
     "exception": false,
     "start_time": "2023-08-10T13:59:52.614035",
     "status": "completed"
    },
    "tags": []
   },
   "source": [
    "# <div style=\"text-align:center; font-size:40px;\"><span style=\"color:#3A506B\">🔥  Overview of the Notebook  🔥</div>\n"
   ]
  },
  {
   "cell_type": "markdown",
   "id": "47ea7ab8",
   "metadata": {
    "papermill": {
     "duration": 0.018279,
     "end_time": "2023-08-10T13:59:52.667143",
     "exception": false,
     "start_time": "2023-08-10T13:59:52.648864",
     "status": "completed"
    },
    "tags": []
   },
   "source": [
    "## >> Important concepts and techniques you need to know to get you started with NLP explained in a **➡ beginner friendly way ⬅**\n",
    "\n",
    "## >> **ONLY** pre-requisite you need: Python, Pandas and Numpy\n",
    "\n",
    "## >> 🕑 Take your Time! (~ 1-2 hours)\n",
    "\n",
    "## >> Is this notebook for me 🤔\n",
    "\n",
    "This notebook **covers the absolute fundamentals of NLP to let you have an overview with what exactly is NLP and how it work.** \n",
    "\n",
    "### 🌟 Skim through the notebook\n",
    "\n",
    "Quickly scroll through the whole notebook to see if the style suit your learning needs!\n",
    "\n",
    "### 🌟 This notebook is beginner friendly\n",
    "This notebook is very much a **beginner friendly notebook**, the only pre-requisite you will need is Python and some common data science frameworks such as Pandas and Numpy. All the concepts covered in this notebook will be clearly explained but may not be deeply explained, you will be encouraged to do additional research on your own if you would like to understand more about a particular topic. The goal of this notebook is to give you an overview to NLP and introduce you with key vocabularies and concepts you will need to know in NLP.\n",
    "\n",
    "\n",
    "### 🌟 Seperate sections to suit your needs\n",
    "**Each section of the notebook is seperated**, ie. you do NOT need to run the code on section 1 to be able to run the code in section 2, libraries and framework will be introduced and imported in each individual section, dataset are not interrelatble across sections. If you are only interested in any particular section, **you can skip through the sections to run the code in that particular section only**. In fact, I try to make each codeblock as seperated as possible so that you do not need to run codeblock A to be able to run B.\n",
    "\n",
    "\n",
    "### 🌟 Images to help you learn\n",
    "This notebook contains **a lot of images** to demonstrate the concepts and principles as I find it to be the best way to understand complicated concepts. These images are mostly images from google and screenshots from youtube tutorials, if any parties find it inappropriate to use their images/screenshots, please let me know I will delete is as soon as possible.\n",
    "\n",
    "### 🌟 I am a beginner also\n",
    "This notebook is **written from the perspective of a beginner** to the world of machine learning. With that being said, there may be some concepts that isn't covered clearly/deeply, but on the other hand, I feel like it will be easier to catch up if you are a beginner as well, as I will not be throwing some complicated jargons and overload you too much since I am a beginner as well. Additionally I have also included a lot of resources if you want to have a deeper insight for each topics.\n",
    "\n",
    "\n",
    "### 🌟 Notebook designed in a way to not overwhelm you\n",
    "**Take your time!** Small and lengthy words are hard and dull to read, that's why this notebook trys to **minimize the amount of text and use bold text, images and emojis** so that you can navigate the notebook faster. The notebook also attempts to **minimize the amount of code** as much as possible, to save you from being too overwhelmed. \n",
    "\n",
    "**Try to run the codeblocks youself**, running and changing codes in the codeblocks can give you a more immersive learning experience. \n",
    "\n",
    "If you appreciate my work or would like to express your views/make suggestions on some of my code and content, feel free to comment and correct me, I will make sure to keep updating and make improvements to this notebook! I hope you will find this notebook useful and an enjoyable journey.\n",
    "\n",
    "### ⭕ Note\n",
    "\n",
    "I have imported several huge models to the notebook as input, so it may take a while to load the notebook when you first open it. If you find it necessary or you have download the model locally, you may load the model directly from your computer.\n",
    "\n",
    "\n",
    "## 🔎 Concepts and techniques you can take away with you from this notebook\n",
    "\n",
    "#### 🟢 [Continuous Bag of Words Model](#cbow)\n",
    "\n",
    "#### 🟢 [SkipGram Model](#skipgram)\n",
    " \n",
    "#### 🟢 [Word2Vec](#word2vec)\n",
    "\n",
    "#### 🟢 [fastText](#fasttext)\n",
    "\n",
    "#### 🟢 [GloVe](#glove)\n",
    "\n",
    "#### 🟢 [Hugging Face](#huggingface)\n",
    "\n",
    "#### 🟢 [Bidirectional Encoder Representations from Transformers (BERT)](#bert)"
   ]
  },
  {
   "cell_type": "markdown",
   "id": "f13a7629",
   "metadata": {
    "papermill": {
     "duration": 0.016778,
     "end_time": "2023-08-10T13:59:52.700957",
     "exception": false,
     "start_time": "2023-08-10T13:59:52.684179",
     "status": "completed"
    },
    "tags": []
   },
   "source": [
    "# <a id=\"cbow\"></a><div style=\"text-align:center; font-size:40px;\"><span style=\"color:#3A506B\">Continuous Bag of Words Model(CBOW)</span></div>"
   ]
  },
  {
   "cell_type": "markdown",
   "id": "04fa0dfd",
   "metadata": {
    "papermill": {
     "duration": 0.015777,
     "end_time": "2023-08-10T13:59:52.733566",
     "exception": false,
     "start_time": "2023-08-10T13:59:52.717789",
     "status": "completed"
    },
    "tags": []
   },
   "source": [
    "<div style=\"width:100%;text-align: center;\"> <img align=middle src=\"https://i.imgur.com/J3eyyY3.png\" style=\"height: 450px;\"> </div>"
   ]
  },
  {
   "cell_type": "markdown",
   "id": "5df1d73a",
   "metadata": {
    "papermill": {
     "duration": 0.015593,
     "end_time": "2023-08-10T13:59:52.765174",
     "exception": false,
     "start_time": "2023-08-10T13:59:52.749581",
     "status": "completed"
    },
    "tags": []
   },
   "source": [
    "### 🛑 Hold up - this section may not be beginner friendly\n",
    "This part and the next section will involve the concept of neural network, which can be tough for beginners. I will try to explain the concepts in the most beginner friendly way possible in the perspective of a beginner, which is, I will not be explaining the maths and calculus involved in backpropagation and the details inside the neural network. In fact, I do recommend you to have a basic understanding of how neural network work (though not necessary) before moving on. Or, if you are not interested in the concept behind how the magic happens, you can comfortably continue from [Word2Vec](#word2vec) if you do not really care about the theory.\n",
    "\n",
    "Here are some resources you can use to have a good understanding of neural network\n",
    "\n",
    "### 📑 Resources:\n",
    "\n",
    "Concept behind neural network with StatQuest:\n",
    "\n",
    "> https://www.youtube.com/watch?v=CqOfi41LfDw\n",
    "\n",
    "\n",
    "Understanding neural network in Medium:\n",
    "\n",
    "> https://towardsdatascience.com/understanding-neural-networks-19020b758230\n",
    "> https://towardsdatascience.com/first-neural-network-for-beginners-explained-with-code-4cfd37e06eaf\n"
   ]
  },
  {
   "cell_type": "markdown",
   "id": "74090957",
   "metadata": {
    "papermill": {
     "duration": 0.015938,
     "end_time": "2023-08-10T13:59:52.797426",
     "exception": false,
     "start_time": "2023-08-10T13:59:52.781488",
     "status": "completed"
    },
    "tags": []
   },
   "source": [
    "❗ *CBOW (Continuous Bag of Words) model **predicts a target word based on the context of the surrounding words in a sentence or text**. It is trained using a **feedforward neural network** where the **input is a set of context words, and the output is the target word**.*\n",
    "\n",
    "\n",
    "### 🚨 Important\n",
    "\n",
    "Before we move on to how the neural network work, it is a very important concept that you understand that the word embeddings are a **SIDE PRODUCT** of our neural network. In general, the underlying principle of CBOW is that we \n",
    "\n",
    "#### **create a fake problem** ➡ **solve it using neural network** ➡ **get the word vectors as side products**\n",
    "\n",
    "In CBOW, the 'fake problem' is that we try to use neural network to predict a word. In particular, we try to predict the target word from a set of context words. Let's take an example based on the image shown.\n",
    "\n",
    "### ✍ Example\n",
    "\n",
    "> **I like to eat apple**\n",
    "\n",
    ">> **Input**: I, like, eat, apple <br>\n",
    ">> **Target output**: to\n",
    "\n",
    "So basically in our neural network, there will be four inputs which are 'I', 'like', 'eat', 'apple' (in terms of vector) and then they will be passed through the hidden layer and predict the word 'to' (in terms of vector). The neural network will not predict the right outcome base off the first try, so the neural network will take some kind of metrics (loss) to calculate the error and use a technique call backpropagation to keep repeating the process to adjust the weight and bias to keep getting a closer step to the right output. In the end, the weight and bias is the 'side product' which is the word embedding we want to obtain. \n",
    "\n",
    "Confusing right? Don't worry, here is an example taken from this video from the channel codebasics: https://www.youtube.com/watch?v=hQwFeIupNP0 \n",
    "\n",
    "In the example, we try to predict the word 'king' from the phrase 'king ordered his minister'\n",
    "\n",
    "<div style=\"width:100%;text-align: center;\"> <img align=middle src=\"https://i.imgur.com/LnIQP0r.png\" style=\"height: 300px;\"> </div>\n",
    "\n",
    "<br>\n",
    "\n",
    "Now we pass the input to the neural network,\n",
    "\n",
    "<br>\n",
    "\n",
    "<div style=\"width:100%;text-align: center;\"> <img align=middle src=\"https://i.imgur.com/yucngTz.png\" style=\"height: 400px;\"> </div>\n",
    "\n",
    "<br>\n",
    "\n",
    "The concept is that we will keep training the model again and again by adjusting the weights (image below) and bias connecting different layers and in the end, the weights obtained will be our side product, the word embeddings of the word 'king'\n",
    "\n",
    "<br>\n",
    "\n",
    "<div style=\"width:100%;text-align: center;\"> <img align=middle src=\"https://i.imgur.com/NmJkzsm.png\" style=\"height: 400px;\"> </div>\n",
    "\n",
    "<br>\n",
    "\n",
    "I hope I have explained the concept clearly, if you still don't understand clearly, check out the video I attached above, codebasics definitely did a better job in explaining the idea than I did. Or if you are really interested and want to clear your concepts entirely, check out the resources I attached below for a deeper and clearer understanding.\n",
    "\n",
    "\n",
    "### 🌟 Small wrap up\n",
    "\n",
    "If you are confused and overwhelmed by my explaining above, don't worry, the whole idea behind CBOW is actually very simple. It is just some **fancy model and algorithm that give us the word embeddings as side product** which is what we care about. \n",
    "\n",
    "One thing to note that I did not include any coding part in this section since like I mentioned in the beginning, this is a beginner friendly notebook that aims to give you an overview on the topic and I do not want to future complicate this by introducing more complex frameworks and stuff like that. If you are interested in the coding behind CBOW, here are some resources that you may find it to be useful.\n",
    "\n",
    "### 📑 Resources:\n",
    "\n",
    "🌟 Deeper understanding of the neural network behind CBOW \n",
    "\n",
    "https://www.youtube.com/watch?v=viZrOnJclY0\n",
    "\n",
    "CBOW with PyTorch: \n",
    "\n",
    "https://srijithr.gitlab.io/post/word2vec/\n",
    "\n",
    "https://www.youtube.com/watch?v=Rqh4SRcZuDA\n",
    "\n",
    "Word Embeddings using keras embedding layer:\n",
    "\n",
    "https://www.youtube.com/watch?v=Fuw0wv3X-0o"
   ]
  },
  {
   "cell_type": "markdown",
   "id": "b59f8952",
   "metadata": {
    "papermill": {
     "duration": 0.015974,
     "end_time": "2023-08-10T13:59:52.829707",
     "exception": false,
     "start_time": "2023-08-10T13:59:52.813733",
     "status": "completed"
    },
    "tags": []
   },
   "source": [
    "# <a id=\"skipgram\"></a><div style=\"text-align:center; font-size:40px;\"><span style=\"color:#3A506B\">SkipGram Model</span></div>"
   ]
  },
  {
   "cell_type": "markdown",
   "id": "ea5dbff1",
   "metadata": {
    "papermill": {
     "duration": 0.017177,
     "end_time": "2023-08-10T13:59:52.863008",
     "exception": false,
     "start_time": "2023-08-10T13:59:52.845831",
     "status": "completed"
    },
    "tags": []
   },
   "source": [
    "<div style=\"width:100%;text-align: center;\"> <img align=middle src=\"https://i.imgur.com/IcQ3LkP.png\" style=\"height: 300px;\"> </div>"
   ]
  },
  {
   "cell_type": "markdown",
   "id": "8c83d48d",
   "metadata": {
    "papermill": {
     "duration": 0.017192,
     "end_time": "2023-08-10T13:59:52.897740",
     "exception": false,
     "start_time": "2023-08-10T13:59:52.880548",
     "status": "completed"
    },
    "tags": []
   },
   "source": [
    "❗ *The skip-gram model is a method for learning word embeddings, which are continuous, dense, and low-dimensional representations of words in a vocabulary. It is trained using large amounts of unstructured text data and can capture the context and semantic similarity between words.*\n",
    "\n",
    "If you understand the concept of CBOW, the idea of SkipGram is very similar, it basically just reverse the order of input and target output. Instead of using surrounding context to predict a target word, **SkipGram uses a word to predict the surrounding context.**\n",
    "\n",
    "In the same way, the word embeddings are the side product from the task of predicting surrounding context through neural network just like CBOW. "
   ]
  },
  {
   "cell_type": "markdown",
   "id": "e91cad3f",
   "metadata": {
    "papermill": {
     "duration": 0.017467,
     "end_time": "2023-08-10T13:59:52.932540",
     "exception": false,
     "start_time": "2023-08-10T13:59:52.915073",
     "status": "completed"
    },
    "tags": []
   },
   "source": [
    "# <a id=\"word2vec\"></a><div style=\"text-align:center; font-size:40px;\"><span style=\"color:#3A506B\">Word2Vec</span></div>"
   ]
  },
  {
   "cell_type": "markdown",
   "id": "f82bdd90",
   "metadata": {
    "papermill": {
     "duration": 0.016579,
     "end_time": "2023-08-10T13:59:52.966336",
     "exception": false,
     "start_time": "2023-08-10T13:59:52.949757",
     "status": "completed"
    },
    "tags": []
   },
   "source": [
    "❗ *Word2vec is a technique for natural language processing (NLP) published in 2013. The word2vec algorithm uses a neural network model to learn word associations from a large corpus of text. Once trained, such a **model can detect synonymous words or suggest additional words for a partial sentence**. Word2vec is not a singular algorithm, rather, it is **a family of model architectures and optimizations** that can be used to learn word embeddings from large datasets.*\n",
    "\n",
    "In fact, the algorithm behind Word2Vec is exactly [CBOW](#cbow) and [SkipGram](#skipgram). If you still do not understand the magic behind these algorithm, don't worry! It does not affect what we are going to do next, which is to try out some popular word2vec model, particularly we will be using **Gensim** - a free open-source Python library for representing documents as semantic vectors. \n",
    "\n",
    "\n",
    "Before we move on, make you sure you a good understanding of word embeddings as it is an important concept you should know before moving on.\n",
    "\n",
    "### 🚨 Important\n",
    "\n",
    "In this section, we will be using the standard 'word2vec-google-news-300' model which is almost 2GB worth of memory. I have uploaded the model as an input in this kaggle notebook to save you from needing to download 2GB of data on your computer. \n",
    "\n",
    "But I have also included a guideline below to help you to download the gensim word2vec-google-news-300 model on your local computer if you would like to do so.\n",
    "\n",
    "Learn more about gensim model: https://radimrehurek.com/gensim/auto_examples/tutorials/run_word2vec.html#sphx-glr-auto-examples-tutorials-run-word2vec-py\n",
    "\n",
    "All available models you can download with gensim: \n",
    "https://github.com/RaRe-Technologies/gensim-data"
   ]
  },
  {
   "cell_type": "markdown",
   "id": "a2e44d75",
   "metadata": {
    "papermill": {
     "duration": 0.016537,
     "end_time": "2023-08-10T13:59:52.999730",
     "exception": false,
     "start_time": "2023-08-10T13:59:52.983193",
     "status": "completed"
    },
    "tags": []
   },
   "source": [
    "### 🔎 Downloading gensim word2vec-google-news-300 model locally \n",
    "\n",
    "#### (optional, alternatively you can scroll down to continue the tutorial using the predownloaded model)"
   ]
  },
  {
   "cell_type": "code",
   "execution_count": 1,
   "id": "d6e58e19",
   "metadata": {
    "_kg_hide-input": true,
    "execution": {
     "iopub.execute_input": "2023-08-10T13:59:53.035285Z",
     "iopub.status.busy": "2023-08-10T13:59:53.034915Z",
     "iopub.status.idle": "2023-08-10T13:59:53.044860Z",
     "shell.execute_reply": "2023-08-10T13:59:53.043661Z"
    },
    "papermill": {
     "duration": 0.030706,
     "end_time": "2023-08-10T13:59:53.047359",
     "exception": false,
     "start_time": "2023-08-10T13:59:53.016653",
     "status": "completed"
    },
    "tags": []
   },
   "outputs": [],
   "source": [
    "# filter out the warnings\n",
    "import warnings\n",
    "warnings.filterwarnings('ignore')"
   ]
  },
  {
   "cell_type": "code",
   "execution_count": 2,
   "id": "5f92dca3",
   "metadata": {
    "execution": {
     "iopub.execute_input": "2023-08-10T13:59:53.083849Z",
     "iopub.status.busy": "2023-08-10T13:59:53.083400Z",
     "iopub.status.idle": "2023-08-10T13:59:53.088495Z",
     "shell.execute_reply": "2023-08-10T13:59:53.087161Z"
    },
    "papermill": {
     "duration": 0.025532,
     "end_time": "2023-08-10T13:59:53.090572",
     "exception": false,
     "start_time": "2023-08-10T13:59:53.065040",
     "status": "completed"
    },
    "tags": []
   },
   "outputs": [],
   "source": [
    "# !pip install gensim \n",
    "# if you never download gensim before"
   ]
  },
  {
   "cell_type": "markdown",
   "id": "c82eddd1",
   "metadata": {
    "papermill": {
     "duration": 0.018566,
     "end_time": "2023-08-10T13:59:53.126551",
     "exception": false,
     "start_time": "2023-08-10T13:59:53.107985",
     "status": "completed"
    },
    "tags": []
   },
   "source": [
    "I have commented the following part out to save the saving time, uncomment them if you want to download it yourself."
   ]
  },
  {
   "cell_type": "code",
   "execution_count": 3,
   "id": "5599b496",
   "metadata": {
    "execution": {
     "iopub.execute_input": "2023-08-10T13:59:53.163909Z",
     "iopub.status.busy": "2023-08-10T13:59:53.163565Z",
     "iopub.status.idle": "2023-08-10T13:59:53.168494Z",
     "shell.execute_reply": "2023-08-10T13:59:53.167193Z"
    },
    "papermill": {
     "duration": 0.025984,
     "end_time": "2023-08-10T13:59:53.170341",
     "exception": false,
     "start_time": "2023-08-10T13:59:53.144357",
     "status": "completed"
    },
    "tags": []
   },
   "outputs": [],
   "source": [
    "# import gensim.downloader as api\n",
    "# word2vec_model = api.load('word2vec-google-news-300') \n",
    "\n",
    "\n",
    "# # the model will be downloaded if you never download it before\n",
    "# # approximately 2GB of data \n",
    "# # it WILL take up memory in your computer if you download it for the first time"
   ]
  },
  {
   "cell_type": "markdown",
   "id": "a78a2b00",
   "metadata": {
    "papermill": {
     "duration": 0.016805,
     "end_time": "2023-08-10T13:59:53.204846",
     "exception": false,
     "start_time": "2023-08-10T13:59:53.188041",
     "status": "completed"
    },
    "tags": []
   },
   "source": [
    "#### Once you have ran api.load('word2vec-google-news-300') once, it will download the model on your local computer. Unless you delete it or change it's name, the next time you want to use the model, you can simply do the following\n",
    "\n",
    "Note: To find the directory (folder) in your local computer, gensim typical store it in the following locations.\n",
    "\n",
    "> Windows: C:\\Users\\YourUsername\\gensim-data <br>\n",
    "> Linux: /home/YourUsername/gensim-data <br>\n",
    "> macOS: /Users/YourUsername/gensim-data <br>\n",
    " "
   ]
  },
  {
   "cell_type": "code",
   "execution_count": 4,
   "id": "74f43ebd",
   "metadata": {
    "execution": {
     "iopub.execute_input": "2023-08-10T13:59:53.241054Z",
     "iopub.status.busy": "2023-08-10T13:59:53.240386Z",
     "iopub.status.idle": "2023-08-10T13:59:53.244215Z",
     "shell.execute_reply": "2023-08-10T13:59:53.243630Z"
    },
    "papermill": {
     "duration": 0.024179,
     "end_time": "2023-08-10T13:59:53.246245",
     "exception": false,
     "start_time": "2023-08-10T13:59:53.222066",
     "status": "completed"
    },
    "tags": []
   },
   "outputs": [],
   "source": [
    "# from gensim.downloader import load\n",
    "\n",
    "# word2vec_model = load(\"word2vec-google-news-300\")"
   ]
  },
  {
   "cell_type": "markdown",
   "id": "7ae1a2a8",
   "metadata": {
    "papermill": {
     "duration": 0.016372,
     "end_time": "2023-08-10T13:59:53.279157",
     "exception": false,
     "start_time": "2023-08-10T13:59:53.262785",
     "status": "completed"
    },
    "tags": []
   },
   "source": [
    "### 🥳 Using the pre-downloaded model in the notebook\n",
    "\n",
    "(if you download the code instead of copy and edit, you should follow the above intructions to download the model locally)"
   ]
  },
  {
   "cell_type": "code",
   "execution_count": 5,
   "id": "61d66ba1",
   "metadata": {
    "execution": {
     "iopub.execute_input": "2023-08-10T13:59:53.319771Z",
     "iopub.status.busy": "2023-08-10T13:59:53.317752Z",
     "iopub.status.idle": "2023-08-10T14:00:48.488209Z",
     "shell.execute_reply": "2023-08-10T14:00:48.486895Z"
    },
    "papermill": {
     "duration": 55.19431,
     "end_time": "2023-08-10T14:00:48.490917",
     "exception": false,
     "start_time": "2023-08-10T13:59:53.296607",
     "status": "completed"
    },
    "tags": []
   },
   "outputs": [],
   "source": [
    "from gensim.models import KeyedVectors\n",
    "\n",
    "word2vec_model = KeyedVectors.load_word2vec_format('/kaggle/input/word2vec-google-news-300/word2vec-google-news-300/word2vec-google-news-300/GoogleNews-vectors-negative300.bin', binary=True)"
   ]
  },
  {
   "cell_type": "markdown",
   "id": "a0adb64b",
   "metadata": {
    "papermill": {
     "duration": 0.016791,
     "end_time": "2023-08-10T14:00:48.525066",
     "exception": false,
     "start_time": "2023-08-10T14:00:48.508275",
     "status": "completed"
    },
    "tags": []
   },
   "source": [
    "### 🧑‍💻 Let's code "
   ]
  },
  {
   "cell_type": "code",
   "execution_count": 6,
   "id": "e6ac08f6",
   "metadata": {
    "execution": {
     "iopub.execute_input": "2023-08-10T14:00:48.560184Z",
     "iopub.status.busy": "2023-08-10T14:00:48.559803Z",
     "iopub.status.idle": "2023-08-10T14:00:48.565515Z",
     "shell.execute_reply": "2023-08-10T14:00:48.564449Z"
    },
    "papermill": {
     "duration": 0.027421,
     "end_time": "2023-08-10T14:00:48.569380",
     "exception": false,
     "start_time": "2023-08-10T14:00:48.541959",
     "status": "completed"
    },
    "tags": []
   },
   "outputs": [
    {
     "name": "stdout",
     "output_type": "stream",
     "text": [
      "word #0/3000000 is </s>\n",
      "word #1/3000000 is in\n",
      "word #2/3000000 is for\n",
      "word #3/3000000 is that\n",
      "word #4/3000000 is is\n",
      "word #5/3000000 is on\n",
      "word #6/3000000 is ##\n",
      "word #7/3000000 is The\n",
      "word #8/3000000 is with\n",
      "word #9/3000000 is said\n"
     ]
    }
   ],
   "source": [
    "# retrieve vocabularies from the model\n",
    "# assumed you already imported the model from either one of the above methods\n",
    "\n",
    "for index, word in enumerate(word2vec_model.index_to_key):\n",
    "    if index == 10:\n",
    "        break\n",
    "    print(f\"word #{index}/{len(word2vec_model.index_to_key)} is {word}\")"
   ]
  },
  {
   "cell_type": "code",
   "execution_count": 7,
   "id": "f075b7fb",
   "metadata": {
    "execution": {
     "iopub.execute_input": "2023-08-10T14:00:48.608478Z",
     "iopub.status.busy": "2023-08-10T14:00:48.608107Z",
     "iopub.status.idle": "2023-08-10T14:00:48.615763Z",
     "shell.execute_reply": "2023-08-10T14:00:48.614417Z"
    },
    "papermill": {
     "duration": 0.030317,
     "end_time": "2023-08-10T14:00:48.618382",
     "exception": false,
     "start_time": "2023-08-10T14:00:48.588065",
     "status": "completed"
    },
    "tags": []
   },
   "outputs": [
    {
     "data": {
      "text/plain": [
       "300"
      ]
     },
     "execution_count": 7,
     "metadata": {},
     "output_type": "execute_result"
    }
   ],
   "source": [
    "# obtaining vector from the model\n",
    "\n",
    "vec_king = word2vec_model['king']\n",
    "len(vec_king) # you can see that the model also uses a vector with length of 300 (aka they used 300 nodes in the hidden layer) "
   ]
  },
  {
   "cell_type": "code",
   "execution_count": 8,
   "id": "f9e1c349",
   "metadata": {
    "execution": {
     "iopub.execute_input": "2023-08-10T14:00:48.654452Z",
     "iopub.status.busy": "2023-08-10T14:00:48.654125Z",
     "iopub.status.idle": "2023-08-10T14:00:48.990192Z",
     "shell.execute_reply": "2023-08-10T14:00:48.989353Z"
    },
    "papermill": {
     "duration": 0.356195,
     "end_time": "2023-08-10T14:00:48.992258",
     "exception": false,
     "start_time": "2023-08-10T14:00:48.636063",
     "status": "completed"
    },
    "tags": []
   },
   "outputs": [
    {
     "data": {
      "text/plain": [
       "array([[0.39163393]], dtype=float32)"
      ]
     },
     "execution_count": 8,
     "metadata": {},
     "output_type": "execute_result"
    }
   ],
   "source": [
    "# Let's try some of the arithmetic of word embedding (view the section: Arithmetic of Word Embeddings for more info)\n",
    "\n",
    "vec_king = word2vec_model['king']\n",
    "vec_man = word2vec_model['man']\n",
    "vec_woman = word2vec_model['woman']\n",
    "vec_queen = word2vec_model['queen']\n",
    "\n",
    "arithmetic_queen = vec_king - vec_man + vec_woman\n",
    "\n",
    "# we will be using cosine_similarity as metrics\n",
    "from sklearn.metrics.pairwise import cosine_similarity\n",
    "\n",
    "cosine_similarity([arithmetic_queen], [vec_woman])"
   ]
  },
  {
   "cell_type": "code",
   "execution_count": 9,
   "id": "2104e3ca",
   "metadata": {
    "execution": {
     "iopub.execute_input": "2023-08-10T14:00:49.029474Z",
     "iopub.status.busy": "2023-08-10T14:00:49.029076Z",
     "iopub.status.idle": "2023-08-10T14:00:50.156923Z",
     "shell.execute_reply": "2023-08-10T14:00:50.156196Z"
    },
    "papermill": {
     "duration": 1.148791,
     "end_time": "2023-08-10T14:00:50.158860",
     "exception": false,
     "start_time": "2023-08-10T14:00:49.010069",
     "status": "completed"
    },
    "tags": []
   },
   "outputs": [
    {
     "data": {
      "text/plain": [
       "[('queen', 0.7118193507194519),\n",
       " ('monarch', 0.6189674139022827),\n",
       " ('princess', 0.5902431011199951),\n",
       " ('crown_prince', 0.5499460697174072),\n",
       " ('prince', 0.5377321839332581),\n",
       " ('kings', 0.5236844420433044),\n",
       " ('Queen_Consort', 0.5235945582389832),\n",
       " ('queens', 0.5181134343147278),\n",
       " ('sultan', 0.5098593831062317),\n",
       " ('monarchy', 0.5087411999702454)]"
      ]
     },
     "execution_count": 9,
     "metadata": {},
     "output_type": "execute_result"
    }
   ],
   "source": [
    "# wv build in approach for king + woman - man\n",
    "# where positive means + king + woman\n",
    "# negative means - man\n",
    "\n",
    "word2vec_model.most_similar(positive=['king', 'woman'], negative=['man'])"
   ]
  },
  {
   "cell_type": "markdown",
   "id": "d2e8af25",
   "metadata": {
    "papermill": {
     "duration": 0.023475,
     "end_time": "2023-08-10T14:00:50.204874",
     "exception": false,
     "start_time": "2023-08-10T14:00:50.181399",
     "status": "completed"
    },
    "tags": []
   },
   "source": [
    "The result of the two approach show a pretty wide difference, I am guessing it is because we use cosine similarity as metrics in our manual approach while wv.most_similar uses different metrics, I am not entirely sure also, if anyone know the reason behind, please let me know."
   ]
  },
  {
   "cell_type": "code",
   "execution_count": 10,
   "id": "c15d677e",
   "metadata": {
    "execution": {
     "iopub.execute_input": "2023-08-10T14:00:50.243395Z",
     "iopub.status.busy": "2023-08-10T14:00:50.242997Z",
     "iopub.status.idle": "2023-08-10T14:00:50.434514Z",
     "shell.execute_reply": "2023-08-10T14:00:50.433328Z"
    },
    "papermill": {
     "duration": 0.212849,
     "end_time": "2023-08-10T14:00:50.436778",
     "exception": false,
     "start_time": "2023-08-10T14:00:50.223929",
     "status": "completed"
    },
    "tags": []
   },
   "outputs": [
    {
     "data": {
      "text/plain": [
       "[('kings', 0.7138045430183411),\n",
       " ('queen', 0.6510956883430481),\n",
       " ('monarch', 0.6413194537162781),\n",
       " ('crown_prince', 0.6204220056533813),\n",
       " ('prince', 0.6159993410110474),\n",
       " ('sultan', 0.5864824056625366),\n",
       " ('ruler', 0.5797567367553711),\n",
       " ('princes', 0.5646552443504333),\n",
       " ('Prince_Paras', 0.5432944297790527),\n",
       " ('throne', 0.5422105193138123)]"
      ]
     },
     "execution_count": 10,
     "metadata": {},
     "output_type": "execute_result"
    }
   ],
   "source": [
    "# Note that postive and negative are optional parameters\n",
    "word2vec_model.most_similar(['king'])"
   ]
  },
  {
   "cell_type": "code",
   "execution_count": 11,
   "id": "b5fa6729",
   "metadata": {
    "execution": {
     "iopub.execute_input": "2023-08-10T14:00:50.483123Z",
     "iopub.status.busy": "2023-08-10T14:00:50.482711Z",
     "iopub.status.idle": "2023-08-10T14:00:50.489869Z",
     "shell.execute_reply": "2023-08-10T14:00:50.488863Z"
    },
    "papermill": {
     "duration": 0.032666,
     "end_time": "2023-08-10T14:00:50.491615",
     "exception": false,
     "start_time": "2023-08-10T14:00:50.458949",
     "status": "completed"
    },
    "tags": []
   },
   "outputs": [
    {
     "name": "stdout",
     "output_type": "stream",
     "text": [
      "king <> queen: they are 0.6510956883430481 similar\n",
      "man <> woman: they are 0.7664012312889099 similar\n",
      "king <> man: they are 0.22942672669887543 similar\n",
      "woman <> queen: they are 0.31618136167526245 similar\n",
      "king <> woman: they are 0.1284797340631485 similar\n",
      "queen <> man: they are 0.16658201813697815 similar\n"
     ]
    }
   ],
   "source": [
    "pairs = [\n",
    "    ('king', 'queen'), # both have some kind of authority\n",
    "    ('man', 'woman'),  # both are genders  \n",
    "    ('king', 'man'),   # both are in some way 'male'\n",
    "    ('woman', 'queen'), # both are in some way 'female'\n",
    "    ('king', 'woman'), # doesn't seem like they have a lot in common\n",
    "    ('queen', 'man'), # doesn't seem like they have a lot in common\n",
    "]\n",
    "for w1, w2 in pairs:\n",
    "    print(f\"{w1} <> {w2}: they are {word2vec_model.similarity(w1, w2)} similar\") \n",
    "\n",
    "# use wv.similarity(word1, word2) to get the similarity of two word\n",
    "# the higher the number the more similar they are\n",
    "\n",
    "# Look at the result below, recall that when we do wv.most_similar(['king'])\n",
    "# we get this result ('queen', 0.6510956883430481) which same as what we observe below!"
   ]
  },
  {
   "cell_type": "code",
   "execution_count": 12,
   "id": "6eb38ba4",
   "metadata": {
    "execution": {
     "iopub.execute_input": "2023-08-10T14:00:50.531247Z",
     "iopub.status.busy": "2023-08-10T14:00:50.530858Z",
     "iopub.status.idle": "2023-08-10T14:00:50.536850Z",
     "shell.execute_reply": "2023-08-10T14:00:50.535814Z"
    },
    "papermill": {
     "duration": 0.027231,
     "end_time": "2023-08-10T14:00:50.539397",
     "exception": false,
     "start_time": "2023-08-10T14:00:50.512166",
     "status": "completed"
    },
    "tags": []
   },
   "outputs": [
    {
     "name": "stdout",
     "output_type": "stream",
     "text": [
      "car\n"
     ]
    }
   ],
   "source": [
    "# wv.doesnt_match to see which item in the list does not match with the rest of the items\n",
    "\n",
    "# in this example, other than 'car' the rest is some form of food\n",
    "print(word2vec_model.doesnt_match(['apple', 'banana', 'orange', 'car', 'cheese', 'juice']))"
   ]
  },
  {
   "cell_type": "code",
   "execution_count": 13,
   "id": "441d4ea9",
   "metadata": {
    "execution": {
     "iopub.execute_input": "2023-08-10T14:00:50.577529Z",
     "iopub.status.busy": "2023-08-10T14:00:50.577076Z",
     "iopub.status.idle": "2023-08-10T14:00:50.583467Z",
     "shell.execute_reply": "2023-08-10T14:00:50.581891Z"
    },
    "papermill": {
     "duration": 0.027678,
     "end_time": "2023-08-10T14:00:50.585526",
     "exception": false,
     "start_time": "2023-08-10T14:00:50.557848",
     "status": "completed"
    },
    "tags": []
   },
   "outputs": [
    {
     "name": "stdout",
     "output_type": "stream",
     "text": [
      "The word 'asdasd' does not appear in this model\n"
     ]
    }
   ],
   "source": [
    "# Sometimes the word you pass in doesn't have a vector\n",
    "# for more info, review the section: Out of Vocabulary (OOV)\n",
    "\n",
    "try:\n",
    "    vec_cameroon = word2vec_model['asdasd']\n",
    "except KeyError:\n",
    "    print(\"The word 'asdasd' does not appear in this model\")"
   ]
  },
  {
   "cell_type": "markdown",
   "id": "67e57795",
   "metadata": {
    "papermill": {
     "duration": 0.018569,
     "end_time": "2023-08-10T14:00:50.624210",
     "exception": false,
     "start_time": "2023-08-10T14:00:50.605641",
     "status": "completed"
    },
    "tags": []
   },
   "source": [
    "# <a id=\"fasttext\"></a><div style=\"text-align:center; font-size:40px;\"><span style=\"color:#3A506B\">fastText</span></div>"
   ]
  },
  {
   "cell_type": "markdown",
   "id": "2567e9f5",
   "metadata": {
    "papermill": {
     "duration": 0.01812,
     "end_time": "2023-08-10T14:00:50.660823",
     "exception": false,
     "start_time": "2023-08-10T14:00:50.642703",
     "status": "completed"
    },
    "tags": []
   },
   "source": [
    "❗ *fastText is a **library for learning of word embeddings and text classification** created by Facebook's AI Research lab. The model allows one to create an unsupervised learning or supervised learning algorithm for obtaining vector representations for words. Facebook makes available pretrained models for 294 languages.*\n",
    "\n",
    "Basically, fastText is similar to Word2Vec as in they both are open source models that you can use for word embeddings and use them for NLP related tasks.\n",
    "\n",
    "fastText offers a lot of models in a lot of different languages you can install locally on your computer. In this notebook, we will be using the fastText English model, please note that the model is even larger than the gensim word2vec-google-news-300 model, it take up 7.24GB of space in your local computer. Below are two methods you can use to use the model in your kaggle notebook, which is to download the model locally, or import it from kaggle directly. Alternatively, you can just read through the code without installing the model if you feel like it.\n",
    "\n",
    "*update: I have included the model as part of the notebook, since the model is pretty large, it may take some time to load your kernel for the first time*\n",
    "\n",
    "*if you find it necessary, you may delete the input data and load the model locally from your computer if you have downloaded it*"
   ]
  },
  {
   "cell_type": "markdown",
   "id": "912248f7",
   "metadata": {
    "papermill": {
     "duration": 0.017627,
     "end_time": "2023-08-10T14:00:50.696176",
     "exception": false,
     "start_time": "2023-08-10T14:00:50.678549",
     "status": "completed"
    },
    "tags": []
   },
   "source": [
    "### 1️⃣ Downloading fasttext-english-300 locally to your computer\n",
    "\n",
    "1. Visit this link https://fasttext.cc/docs/en/crawl-vectors.html\n",
    "\n",
    "2. Scroll down until you see the model list and choose your desire language to download (download the bin file)\n",
    "\n",
    "<div style=\"width:100%;text-align: center;\"> <img align=middle src=\"https://i.imgur.com/RnDawj1.png\" style=\"height: 300px;\"> </div>\n",
    "\n",
    "\n",
    "3. Put the downloaded model in a directory and unzip the file, in the end you should get a bin file similar to this\n",
    "\n",
    "<div style=\"width:100%;text-align: center;\"> <img align=middle src=\"https://i.imgur.com/iDzt8Yx.png\" style=\"height: 100px;\"> </div>"
   ]
  },
  {
   "cell_type": "markdown",
   "id": "3ae45816",
   "metadata": {
    "papermill": {
     "duration": 0.017492,
     "end_time": "2023-08-10T14:00:50.731449",
     "exception": false,
     "start_time": "2023-08-10T14:00:50.713957",
     "status": "completed"
    },
    "tags": []
   },
   "source": [
    "### 2️⃣ Import it from Kaggle\n",
    "\n",
    "1. Visit this site https://www.kaggle.com/datasets/bzhbzh35/fasttext-english-300, which is the same model as the one you download it locally from the official website (speaking this as in 9/8/2023)\n",
    "\n",
    "2. On the left side of your Kaggle notebook workspace, you should see a place where it says +Add Data\n",
    "\n",
    "<div style=\"width:100%;text-align: center;\"> <img align=middle src=\"https://i.imgur.com/xEoW87W.png\" style=\"height: 100px;\"> </div>\n",
    "\n",
    "3. Since you just visited the site above, the first result should be the 'FastText English 300' dataset, add it into your workspace and you are good to go\n"
   ]
  },
  {
   "cell_type": "markdown",
   "id": "e9108ca0",
   "metadata": {
    "papermill": {
     "duration": 0.017259,
     "end_time": "2023-08-10T14:00:50.766369",
     "exception": false,
     "start_time": "2023-08-10T14:00:50.749110",
     "status": "completed"
    },
    "tags": []
   },
   "source": [
    "### 🧑‍💻 Let's code \n",
    "\n",
    "Now let's move on to the coding part"
   ]
  },
  {
   "cell_type": "code",
   "execution_count": 14,
   "id": "4ea6b4d5",
   "metadata": {
    "execution": {
     "iopub.execute_input": "2023-08-10T14:00:50.805889Z",
     "iopub.status.busy": "2023-08-10T14:00:50.805433Z",
     "iopub.status.idle": "2023-08-10T14:00:50.810615Z",
     "shell.execute_reply": "2023-08-10T14:00:50.809361Z"
    },
    "papermill": {
     "duration": 0.028279,
     "end_time": "2023-08-10T14:00:50.813425",
     "exception": false,
     "start_time": "2023-08-10T14:00:50.785146",
     "status": "completed"
    },
    "tags": []
   },
   "outputs": [],
   "source": [
    "## if you have not install fasttext\n",
    "\n",
    "# pip install fasttext "
   ]
  },
  {
   "cell_type": "code",
   "execution_count": 15,
   "id": "eaf581fa",
   "metadata": {
    "execution": {
     "iopub.execute_input": "2023-08-10T14:00:50.852529Z",
     "iopub.status.busy": "2023-08-10T14:00:50.852138Z",
     "iopub.status.idle": "2023-08-10T14:01:40.660711Z",
     "shell.execute_reply": "2023-08-10T14:01:40.658402Z"
    },
    "papermill": {
     "duration": 49.855196,
     "end_time": "2023-08-10T14:01:40.686925",
     "exception": false,
     "start_time": "2023-08-10T14:00:50.831729",
     "status": "completed"
    },
    "tags": []
   },
   "outputs": [
    {
     "name": "stderr",
     "output_type": "stream",
     "text": [
      "Warning : `load_model` does not return WordVectorModel or SupervisedModel any more, but a `FastText` object which is very similar.\n"
     ]
    }
   ],
   "source": [
    "import fasttext\n",
    "\n",
    "#if you install it locally, the PATH should be the PATH of your local computer that lead to the model\n",
    "PATH = '/kaggle/input/fasttext-english-300/cc.en.300.bin' \n",
    "ft_model = fasttext.load_model(PATH)"
   ]
  },
  {
   "cell_type": "code",
   "execution_count": 16,
   "id": "f6eff144",
   "metadata": {
    "execution": {
     "iopub.execute_input": "2023-08-10T14:01:40.725957Z",
     "iopub.status.busy": "2023-08-10T14:01:40.725421Z",
     "iopub.status.idle": "2023-08-10T14:01:40.736058Z",
     "shell.execute_reply": "2023-08-10T14:01:40.734756Z"
    },
    "papermill": {
     "duration": 0.03403,
     "end_time": "2023-08-10T14:01:40.739173",
     "exception": false,
     "start_time": "2023-08-10T14:01:40.705143",
     "status": "completed"
    },
    "tags": []
   },
   "outputs": [
    {
     "data": {
      "text/plain": [
       "300"
      ]
     },
     "execution_count": 16,
     "metadata": {},
     "output_type": "execute_result"
    }
   ],
   "source": [
    "# to get word vector in fasttext\n",
    "len(ft_model.get_word_vector('king')) # again we see the vector has length of 300"
   ]
  },
  {
   "cell_type": "markdown",
   "id": "33370ec7",
   "metadata": {
    "papermill": {
     "duration": 0.018099,
     "end_time": "2023-08-10T14:01:40.776265",
     "exception": false,
     "start_time": "2023-08-10T14:01:40.758166",
     "status": "completed"
    },
    "tags": []
   },
   "source": [
    "I thought it would be interesting to compare the word vector of the same word for different model, let's see what we got, what do you expect the result to be?"
   ]
  },
  {
   "cell_type": "code",
   "execution_count": 17,
   "id": "17f7f100",
   "metadata": {
    "execution": {
     "iopub.execute_input": "2023-08-10T14:01:40.815725Z",
     "iopub.status.busy": "2023-08-10T14:01:40.815312Z",
     "iopub.status.idle": "2023-08-10T14:02:36.187454Z",
     "shell.execute_reply": "2023-08-10T14:02:36.186344Z"
    },
    "papermill": {
     "duration": 55.395207,
     "end_time": "2023-08-10T14:02:36.190053",
     "exception": false,
     "start_time": "2023-08-10T14:01:40.794846",
     "status": "completed"
    },
    "tags": []
   },
   "outputs": [],
   "source": [
    "#import the word2vec model (see section: Word2Vec for more info)\n",
    "from gensim.models import KeyedVectors\n",
    "\n",
    "word2vec_model = KeyedVectors.load_word2vec_format('/kaggle/input/word2vec-google-news-300/word2vec-google-news-300/word2vec-google-news-300/GoogleNews-vectors-negative300.bin', binary=True)"
   ]
  },
  {
   "cell_type": "code",
   "execution_count": 18,
   "id": "1c6511d1",
   "metadata": {
    "execution": {
     "iopub.execute_input": "2023-08-10T14:02:36.230067Z",
     "iopub.status.busy": "2023-08-10T14:02:36.228787Z",
     "iopub.status.idle": "2023-08-10T14:02:36.241489Z",
     "shell.execute_reply": "2023-08-10T14:02:36.239964Z"
    },
    "papermill": {
     "duration": 0.035655,
     "end_time": "2023-08-10T14:02:36.244475",
     "exception": false,
     "start_time": "2023-08-10T14:02:36.208820",
     "status": "completed"
    },
    "tags": []
   },
   "outputs": [
    {
     "name": "stdout",
     "output_type": "stream",
     "text": [
      "Cosine similarity of 'king': [[0.10911117]]\n",
      "[ 0.15234084  0.07361899  0.06085209  0.11467185 -0.18558131]\n"
     ]
    }
   ],
   "source": [
    "from sklearn.metrics.pairwise import cosine_similarity\n",
    "\n",
    "print(\"Cosine similarity of 'king':\", cosine_similarity([word2vec_model['king']], [ft_model.get_word_vector('king')]))\n",
    "\n",
    "print((word2vec_model['king'] - ft_model.get_word_vector('king'))[:5]) # get the difference in vector for the first 5 values"
   ]
  },
  {
   "cell_type": "markdown",
   "id": "9f78e70c",
   "metadata": {
    "papermill": {
     "duration": 0.018571,
     "end_time": "2023-08-10T14:02:36.282119",
     "exception": false,
     "start_time": "2023-08-10T14:02:36.263548",
     "status": "completed"
    },
    "tags": []
   },
   "source": [
    "Wow! Does the results surprise you? Indeed, the word embeddings from different model is very different from each other! What about their relative performance? "
   ]
  },
  {
   "cell_type": "code",
   "execution_count": 19,
   "id": "293b33c5",
   "metadata": {
    "execution": {
     "iopub.execute_input": "2023-08-10T14:02:36.319892Z",
     "iopub.status.busy": "2023-08-10T14:02:36.319460Z",
     "iopub.status.idle": "2023-08-10T14:02:50.240325Z",
     "shell.execute_reply": "2023-08-10T14:02:50.239374Z"
    },
    "papermill": {
     "duration": 13.942269,
     "end_time": "2023-08-10T14:02:50.242371",
     "exception": false,
     "start_time": "2023-08-10T14:02:36.300102",
     "status": "completed"
    },
    "tags": []
   },
   "outputs": [
    {
     "data": {
      "text/plain": [
       "[(0.7550359964370728, 'kings'),\n",
       " (0.7068519592285156, 'queen'),\n",
       " (0.7060439586639404, 'king-'),\n",
       " (0.6811205148696899, 'king.'),\n",
       " (0.660710871219635, 'king.The'),\n",
       " (0.6591265797615051, 'King'),\n",
       " (0.6495252251625061, 'prince'),\n",
       " (0.6278106570243835, '-king'),\n",
       " (0.6183920502662659, 'monarch'),\n",
       " (0.6070184707641602, 'queen-mother')]"
      ]
     },
     "execution_count": 19,
     "metadata": {},
     "output_type": "execute_result"
    }
   ],
   "source": [
    "ft_model.get_nearest_neighbors('king')"
   ]
  },
  {
   "cell_type": "markdown",
   "id": "17006229",
   "metadata": {
    "papermill": {
     "duration": 0.018099,
     "end_time": "2023-08-10T14:02:50.279141",
     "exception": false,
     "start_time": "2023-08-10T14:02:50.261042",
     "status": "completed"
    },
    "tags": []
   },
   "source": [
    "When we compare it with the result we got from word2vec gensim model (see more [word2vec](#word2vec)), the first few results does look quite similar, even thought their vector is completely different!\n",
    "\n",
    "<div style=\"width:100%;text-align: center;\"> <img align=middle src=\"https://i.imgur.com/fkKBBiR.png\" style=\"height: 300px;\"> </div>"
   ]
  },
  {
   "cell_type": "code",
   "execution_count": 20,
   "id": "6a3a03a7",
   "metadata": {
    "execution": {
     "iopub.execute_input": "2023-08-10T14:02:50.318433Z",
     "iopub.status.busy": "2023-08-10T14:02:50.318029Z",
     "iopub.status.idle": "2023-08-10T14:02:50.929654Z",
     "shell.execute_reply": "2023-08-10T14:02:50.928501Z"
    },
    "papermill": {
     "duration": 0.633673,
     "end_time": "2023-08-10T14:02:50.931696",
     "exception": false,
     "start_time": "2023-08-10T14:02:50.298023",
     "status": "completed"
    },
    "tags": []
   },
   "outputs": [
    {
     "data": {
      "text/plain": [
       "[(0.7303731441497803, 'paris'),\n",
       " (0.6408537030220032, 'france.'),\n",
       " (0.6393311023712158, 'avignon'),\n",
       " (0.6316676139831543, 'paris.'),\n",
       " (0.5895596742630005, 'montpellier'),\n",
       " (0.5884554386138916, 'rennes'),\n",
       " (0.5850598812103271, 'grenoble'),\n",
       " (0.5832924246788025, 'london'),\n",
       " (0.5806092619895935, 'strasbourg'),\n",
       " (0.574320375919342, 'Paris.')]"
      ]
     },
     "execution_count": 20,
     "metadata": {},
     "output_type": "execute_result"
    }
   ],
   "source": [
    "# .get_analogies function\n",
    "# takes in a word triplet like (\"berlin\", \"germany\", \"france\") and provide analogies\n",
    "# berlin is capital of germany -> so we would expect 'paris' as the answer as paris the capital of france\n",
    "\n",
    "ft_model.get_analogies(\"berlin\", \"germany\", \"france\")\n",
    "\n",
    "# it's really similar idea to berlin - germany + france = paris"
   ]
  },
  {
   "cell_type": "markdown",
   "id": "fcd3069c",
   "metadata": {
    "papermill": {
     "duration": 0.018774,
     "end_time": "2023-08-10T14:02:50.970015",
     "exception": false,
     "start_time": "2023-08-10T14:02:50.951241",
     "status": "completed"
    },
    "tags": []
   },
   "source": [
    "But what is really the power of fastText is that you can easily train fastText model with your own data, ie. train the dataset on text you feed in so that it can give you a more accurate result on specific domain. In fact, fastText support the training of model for both supervised and unsupervised data. Let's take a look at this example below in which I will be using my own dataset for illustration (https://www.kaggle.com/datasets/crxxom/all-animes-in-mal)"
   ]
  },
  {
   "cell_type": "code",
   "execution_count": 21,
   "id": "52ba0d16",
   "metadata": {
    "execution": {
     "iopub.execute_input": "2023-08-10T14:02:51.010465Z",
     "iopub.status.busy": "2023-08-10T14:02:51.009977Z",
     "iopub.status.idle": "2023-08-10T14:02:51.623945Z",
     "shell.execute_reply": "2023-08-10T14:02:51.621973Z"
    },
    "papermill": {
     "duration": 0.637468,
     "end_time": "2023-08-10T14:02:51.626487",
     "exception": false,
     "start_time": "2023-08-10T14:02:50.989019",
     "status": "completed"
    },
    "tags": []
   },
   "outputs": [
    {
     "data": {
      "text/plain": [
       "[(0.8400574326515198, 'Rukia'),\n",
       " (0.8143624663352966, 'Grimmjow'),\n",
       " (0.8109726905822754, 'Orihime'),\n",
       " (0.8091928958892822, 'Byakuya'),\n",
       " (0.8018451929092407, 'Hitsugaya'),\n",
       " (0.7798237800598145, 'Urahara'),\n",
       " (0.7751381397247314, 'Ulquiorra'),\n",
       " (0.7719549536705017, 'Hichigo'),\n",
       " (0.7659327387809753, 'Yoruichi'),\n",
       " (0.7621345520019531, 'Yachiru'),\n",
       " (0.7613643407821655, 'Aizen'),\n",
       " (0.7587844729423523, 'Ukitake'),\n",
       " (0.7529191374778748, 'Kisuke'),\n",
       " (0.7371439933776855, 'Shinigami'),\n",
       " (0.7355948090553284, 'shinigami'),\n",
       " (0.734315812587738, 'Renji'),\n",
       " (0.7335431575775146, 'Kenpachi'),\n",
       " (0.7334814667701721, 'Uryu'),\n",
       " (0.7322297692298889, 'Toushiro'),\n",
       " (0.731972873210907, 'Hinamori')]"
      ]
     },
     "execution_count": 21,
     "metadata": {},
     "output_type": "execute_result"
    }
   ],
   "source": [
    "# Before unsupervised training\n",
    "\n",
    "ft_model.get_nearest_neighbors('Ichigo', k=20) #parameter for you to show how many neighbors to be displayed"
   ]
  },
  {
   "cell_type": "code",
   "execution_count": 22,
   "id": "74f7c140",
   "metadata": {
    "execution": {
     "iopub.execute_input": "2023-08-10T14:02:51.678725Z",
     "iopub.status.busy": "2023-08-10T14:02:51.678283Z",
     "iopub.status.idle": "2023-08-10T14:03:42.389555Z",
     "shell.execute_reply": "2023-08-10T14:03:42.387615Z"
    },
    "papermill": {
     "duration": 50.735213,
     "end_time": "2023-08-10T14:03:42.391787",
     "exception": false,
     "start_time": "2023-08-10T14:02:51.656574",
     "status": "completed"
    },
    "tags": []
   },
   "outputs": [
    {
     "name": "stderr",
     "output_type": "stream",
     "text": [
      "Read 1M words\n",
      "Number of words:  19714\n",
      "Number of labels: 0\n",
      "Progress: 100.0% words/sec/thread:   48941 lr:  0.000000 avg.loss:  2.290307 ETA:   0h 0m 0s\n"
     ]
    }
   ],
   "source": [
    "import pandas as pd\n",
    "\n",
    "anime_df = pd.read_csv('/kaggle/input/all-animes-in-mal/mal_anime.csv')\n",
    "\n",
    "anime_df.to_csv('anime_synopsis.txt', columns=['synopsis'], index=False, header=False)\n",
    "\n",
    "model_trained = fasttext.train_unsupervised(\"/kaggle/working/anime_synopsis.txt\")"
   ]
  },
  {
   "cell_type": "markdown",
   "id": "7e0cc092",
   "metadata": {
    "papermill": {
     "duration": 0.028195,
     "end_time": "2023-08-10T14:03:42.453412",
     "exception": false,
     "start_time": "2023-08-10T14:03:42.425217",
     "status": "completed"
    },
    "tags": []
   },
   "source": [
    "Noted that there are a lot of parameters that you can change for a better training performance, for more information, visit the official documentation at: https://fasttext.cc/docs/en/unsupervised-tutorial.html"
   ]
  },
  {
   "cell_type": "code",
   "execution_count": 23,
   "id": "2c3ccc18",
   "metadata": {
    "execution": {
     "iopub.execute_input": "2023-08-10T14:03:42.513137Z",
     "iopub.status.busy": "2023-08-10T14:03:42.512075Z",
     "iopub.status.idle": "2023-08-10T14:03:42.644121Z",
     "shell.execute_reply": "2023-08-10T14:03:42.643050Z"
    },
    "papermill": {
     "duration": 0.164295,
     "end_time": "2023-08-10T14:03:42.646155",
     "exception": false,
     "start_time": "2023-08-10T14:03:42.481860",
     "status": "completed"
    },
    "tags": []
   },
   "outputs": [
    {
     "data": {
      "text/plain": [
       "[(0.9487825632095337, '\"Ichigo'),\n",
       " (0.9414218664169312, 'Ichigo,'),\n",
       " (0.8856875896453857, \"Ichigo's\"),\n",
       " (0.8770111799240112, 'Saiki'),\n",
       " (0.8763856291770935, 'Ichi'),\n",
       " (0.8584322333335876, 'Ichiya'),\n",
       " (0.8474679589271545, 'Ichijou'),\n",
       " (0.8460543751716614, 'Yuru'),\n",
       " (0.8403270244598389, 'Saru'),\n",
       " (0.8389096856117249, 'Guru'),\n",
       " (0.8324183821678162, 'Daiki'),\n",
       " (0.8315589427947998, 'Karakuri'),\n",
       " (0.8307211399078369, 'Bocchi'),\n",
       " (0.8294949531555176, 'Kirara'),\n",
       " (0.8288450241088867, 'Karuta'),\n",
       " (0.8265842199325562, 'Sasahara'),\n",
       " (0.8264816999435425, 'Matoi'),\n",
       " (0.8237824440002441, 'Shinigami'),\n",
       " (0.8224685192108154, 'Mikado'),\n",
       " (0.8216114640235901, 'Akechi')]"
      ]
     },
     "execution_count": 23,
     "metadata": {},
     "output_type": "execute_result"
    }
   ],
   "source": [
    "# After unsupervised training\n",
    "\n",
    "model_trained.get_nearest_neighbors('Ichigo', k=20) "
   ]
  },
  {
   "cell_type": "markdown",
   "id": "388165fb",
   "metadata": {
    "papermill": {
     "duration": 0.026615,
     "end_time": "2023-08-10T14:03:42.700422",
     "exception": false,
     "start_time": "2023-08-10T14:03:42.673807",
     "status": "completed"
    },
    "tags": []
   },
   "source": [
    "Compare the results before and after the supervised training, we can see that the results is very different after you train the model compare to before you train the model. That is, **fastText give you a huge flexibility to train your own custom data to give your model more accurate result based on the data you provide with it**. To be completely fair, the result before training seems to give a more accurate outcome, but that is due to my dataset passing is extremely small compare to the 7GB of data and the dataset I am feeding to the model is the synopsis which may give a different result."
   ]
  },
  {
   "cell_type": "markdown",
   "id": "3d3c2fb2",
   "metadata": {
    "papermill": {
     "duration": 0.026811,
     "end_time": "2023-08-10T14:03:42.754524",
     "exception": false,
     "start_time": "2023-08-10T14:03:42.727713",
     "status": "completed"
    },
    "tags": []
   },
   "source": [
    "# <a id=\"glove\"></a><div style=\"text-align:center; font-size:40px;\"><span style=\"color:#3A506B\">GloVe</span></div>"
   ]
  },
  {
   "cell_type": "markdown",
   "id": "28aa63a1",
   "metadata": {
    "papermill": {
     "duration": 0.027766,
     "end_time": "2023-08-10T14:03:42.810265",
     "exception": false,
     "start_time": "2023-08-10T14:03:42.782499",
     "status": "completed"
    },
    "tags": []
   },
   "source": [
    "❗ *GloVe (Global Vectors for Word Representation) is an **unsupervised learning algorithm for obtaining vector representations for words**. Training is performed on **aggregated global word-word co-occurrence statistics from a corpus**, and the resulting representations showcase interesting linear substructures of the word vector space.*\n",
    "\n",
    "Similar to word2vec and fasttext, it is some kind of algorithm that provide us with word embeddings. But it is important to note the GloVe does not use [CBOW](#cbow) nor [SkipGram](#skipgram) to train, instead it uses another training methology call **global matrix factorization** which analyze the global co-occurrence statistics of words in a corpus to learn the word embeddings. Let's see a very simple example as demonstration.\n",
    "\n",
    "\n",
    "### ✍ Example\n",
    "\n",
    "In this example, we will be examining how GloVe work using these three sentences\n",
    "> **1. I like deep learning** <br>\n",
    "> **2. I like NLP** <br>\n",
    "> **3. I enjoy flying** <br>\n",
    "\n",
    "And we contruct the count matrix/co-occurance matrix \n",
    "\n",
    "<div style=\"width:100%;text-align: center;\"> <img align=middle src=\"https://i.imgur.com/MMKYOLp.png\" style=\"height: 300px;\"> </div>\n",
    "\n",
    "<br>\n",
    "\n",
    "Before we move on to illustrate how each value is being assigned, we should first understand the concept of **context window**, which is a specified range of tokens surrounding a target token within a text or sequence. In fact, you probably have come across with this concept in the bag of n-grams and CBOW sections. \n",
    "\n"
   ]
  },
  {
   "cell_type": "markdown",
   "id": "3486883d",
   "metadata": {
    "papermill": {
     "duration": 0.028022,
     "end_time": "2023-08-10T14:03:42.866593",
     "exception": false,
     "start_time": "2023-08-10T14:03:42.838571",
     "status": "completed"
    },
    "tags": []
   },
   "source": [
    "In the above example, we are using a context window of 1, take 'like' in the first sentence as an example\n",
    "\n",
    "> **I** *like* **deep** learning\n",
    "\n",
    "When we use a context window of 1, we look for one token in front of our current word and one token after the current word, in this case, it will be **I** and **deep**. In this case, we will +1 to the corresponding entries in our co-occurance matrix, for the pair ('I', 'like') the corresponding entries will be X\\[1,2\\] and X\\[2,1\\]. But why is the number in the image 2 instead of 1? This is due to the fact that we also add 1 to this pair in our second sentence\n",
    "\n",
    "> **I** *like* **NLP**\n",
    "\n",
    "That explains how the co-occurance matrix is being contructed.\n",
    "\n",
    "Note: Usually we use a higher context window such as 5 or more, if a context window is 5, we will be adding words from 5 words before the current word and 5 words after the current word.\n",
    "\n",
    "This also give you some intuitive understanding of how GloVe cluster words together using the appropriate vectors. **The more two word appear together within a context window, the more they will get grouped together in a vector space.**\n",
    "\n",
    "There are a lot more behind the algorithm of GloVe in which I plan to make a seperate notebook to explain GloVe in details in the future."
   ]
  },
  {
   "cell_type": "markdown",
   "id": "23978f38",
   "metadata": {
    "papermill": {
     "duration": 0.028328,
     "end_time": "2023-08-10T14:03:42.923721",
     "exception": false,
     "start_time": "2023-08-10T14:03:42.895393",
     "status": "completed"
    },
    "tags": []
   },
   "source": [
    "### 🧑‍💻 Let's code \n",
    "\n",
    "I have installed glove6b100dtxt model from kaggle for you to use it directly in this notebook. If you wish to download locally or download another version of the model, visit: https://github.com/stanfordnlp/GloVe/tree/master for more details."
   ]
  },
  {
   "cell_type": "code",
   "execution_count": 24,
   "id": "ee205d33",
   "metadata": {
    "execution": {
     "iopub.execute_input": "2023-08-10T14:03:42.982595Z",
     "iopub.status.busy": "2023-08-10T14:03:42.981819Z",
     "iopub.status.idle": "2023-08-10T14:03:51.217442Z",
     "shell.execute_reply": "2023-08-10T14:03:51.215444Z"
    },
    "papermill": {
     "duration": 8.267745,
     "end_time": "2023-08-10T14:03:51.220208",
     "exception": false,
     "start_time": "2023-08-10T14:03:42.952463",
     "status": "completed"
    },
    "tags": []
   },
   "outputs": [],
   "source": [
    "# Write the content into a dictionary for later use\n",
    "import numpy as np\n",
    "\n",
    "# Basically what we are doing is to create a dictionary object with the \n",
    "# key being the word, value being the respective vector\n",
    "embeddings_dict = {}\n",
    "PATH = '/kaggle/input/glove6b100dtxt/glove.6B.100d.txt'\n",
    "with open(PATH, 'r', encoding='utf-8') as f:\n",
    "    for line in f:\n",
    "        values = line.split()\n",
    "        word = values[0]\n",
    "        vector = np.asarray(values[1:], \"float32\")\n",
    "        embeddings_dict[word] = vector\n",
    "f.close()"
   ]
  },
  {
   "cell_type": "code",
   "execution_count": 25,
   "id": "36a5a037",
   "metadata": {
    "execution": {
     "iopub.execute_input": "2023-08-10T14:03:51.281121Z",
     "iopub.status.busy": "2023-08-10T14:03:51.280741Z",
     "iopub.status.idle": "2023-08-10T14:03:51.288645Z",
     "shell.execute_reply": "2023-08-10T14:03:51.287194Z"
    },
    "papermill": {
     "duration": 0.041804,
     "end_time": "2023-08-10T14:03:51.291492",
     "exception": false,
     "start_time": "2023-08-10T14:03:51.249688",
     "status": "completed"
    },
    "tags": []
   },
   "outputs": [
    {
     "data": {
      "text/plain": [
       "100"
      ]
     },
     "execution_count": 25,
     "metadata": {},
     "output_type": "execute_result"
    }
   ],
   "source": [
    "len(embeddings_dict['king']) # we see that the glove6b100d model uses 100 as the size of vector instead of the common 300"
   ]
  },
  {
   "cell_type": "markdown",
   "id": "d9163d41",
   "metadata": {
    "papermill": {
     "duration": 0.028378,
     "end_time": "2023-08-10T14:03:51.349134",
     "exception": false,
     "start_time": "2023-08-10T14:03:51.320756",
     "status": "completed"
    },
    "tags": []
   },
   "source": [
    "Below is a function I found from: https://medium.com/analytics-vidhya/basics-of-using-pre-trained-glove-vectors-in-python-d38905f356db"
   ]
  },
  {
   "cell_type": "code",
   "execution_count": 26,
   "id": "a9dd1190",
   "metadata": {
    "execution": {
     "iopub.execute_input": "2023-08-10T14:03:51.409450Z",
     "iopub.status.busy": "2023-08-10T14:03:51.409016Z",
     "iopub.status.idle": "2023-08-10T14:03:51.415367Z",
     "shell.execute_reply": "2023-08-10T14:03:51.413930Z"
    },
    "papermill": {
     "duration": 0.038509,
     "end_time": "2023-08-10T14:03:51.417590",
     "exception": false,
     "start_time": "2023-08-10T14:03:51.379081",
     "status": "completed"
    },
    "tags": []
   },
   "outputs": [],
   "source": [
    "# We use the euclidean distance metrics from this example\n",
    "\n",
    "from scipy import spatial\n",
    "\n",
    "def find_closest_embeddings_ed(embedding, cutoff=25):\n",
    "    return sorted(embeddings_dict.keys(), \n",
    "                  key=lambda word: spatial.distance.euclidean(embeddings_dict[word], embedding))"
   ]
  },
  {
   "cell_type": "code",
   "execution_count": 27,
   "id": "396cc214",
   "metadata": {
    "execution": {
     "iopub.execute_input": "2023-08-10T14:03:51.479725Z",
     "iopub.status.busy": "2023-08-10T14:03:51.479381Z",
     "iopub.status.idle": "2023-08-10T14:03:54.022763Z",
     "shell.execute_reply": "2023-08-10T14:03:54.021550Z"
    },
    "papermill": {
     "duration": 2.577448,
     "end_time": "2023-08-10T14:03:54.025239",
     "exception": false,
     "start_time": "2023-08-10T14:03:51.447791",
     "status": "completed"
    },
    "tags": []
   },
   "outputs": [
    {
     "data": {
      "text/plain": [
       "['king', 'queen', 'monarch', 'throne', 'elizabeth']"
      ]
     },
     "execution_count": 27,
     "metadata": {},
     "output_type": "execute_result"
    }
   ],
   "source": [
    "vec_king = embeddings_dict[\"king\"]\n",
    "vec_man = embeddings_dict[\"man\"]\n",
    "vec_woman = embeddings_dict[\"woman\"]\n",
    "\n",
    "find_closest_embeddings_ed(vec_king - vec_man + vec_woman)[:5]"
   ]
  },
  {
   "cell_type": "markdown",
   "id": "0a61f240",
   "metadata": {
    "papermill": {
     "duration": 0.035413,
     "end_time": "2023-08-10T14:03:54.089834",
     "exception": false,
     "start_time": "2023-08-10T14:03:54.054421",
     "status": "completed"
    },
    "tags": []
   },
   "source": [
    "Below is a function I modified using cosine similarity instead of euclidean distance"
   ]
  },
  {
   "cell_type": "code",
   "execution_count": 28,
   "id": "159b9221",
   "metadata": {
    "execution": {
     "iopub.execute_input": "2023-08-10T14:03:54.156937Z",
     "iopub.status.busy": "2023-08-10T14:03:54.155915Z",
     "iopub.status.idle": "2023-08-10T14:03:54.162531Z",
     "shell.execute_reply": "2023-08-10T14:03:54.160982Z"
    },
    "papermill": {
     "duration": 0.041932,
     "end_time": "2023-08-10T14:03:54.165162",
     "exception": false,
     "start_time": "2023-08-10T14:03:54.123230",
     "status": "completed"
    },
    "tags": []
   },
   "outputs": [],
   "source": [
    "from sklearn.metrics.pairwise import cosine_similarity\n",
    "\n",
    "def find_closest_embeddings_cs(embedding, cutoff=25):\n",
    "    return sorted(embeddings_dict.keys(), \n",
    "                  key=lambda word: -cosine_similarity([embeddings_dict[word]], [embedding])) \n",
    "\n",
    "# Noted that we take negative cosine_similarity since the larger the value, the closer the clustering should be"
   ]
  },
  {
   "cell_type": "code",
   "execution_count": 29,
   "id": "583a15d3",
   "metadata": {
    "execution": {
     "iopub.execute_input": "2023-08-10T14:03:54.231335Z",
     "iopub.status.busy": "2023-08-10T14:03:54.230948Z",
     "iopub.status.idle": "2023-08-10T14:05:35.172868Z",
     "shell.execute_reply": "2023-08-10T14:05:35.171576Z"
    },
    "papermill": {
     "duration": 101.010696,
     "end_time": "2023-08-10T14:05:35.207128",
     "exception": false,
     "start_time": "2023-08-10T14:03:54.196432",
     "status": "completed"
    },
    "tags": []
   },
   "outputs": [
    {
     "data": {
      "text/plain": [
       "['king', 'queen', 'monarch', 'throne', 'daughter']"
      ]
     },
     "execution_count": 29,
     "metadata": {},
     "output_type": "execute_result"
    }
   ],
   "source": [
    "# When I ran the two function respectively, the cosine_similarity function takes a \n",
    "# significantly longer time to generate the results\n",
    "\n",
    "vec_king = embeddings_dict[\"king\"]\n",
    "vec_man = embeddings_dict[\"man\"]\n",
    "vec_woman = embeddings_dict[\"woman\"]\n",
    "\n",
    "find_closest_embeddings_cs(vec_king - vec_man + vec_woman)[:5]"
   ]
  },
  {
   "cell_type": "markdown",
   "id": "c4635f33",
   "metadata": {
    "papermill": {
     "duration": 0.029341,
     "end_time": "2023-08-10T14:05:35.268720",
     "exception": false,
     "start_time": "2023-08-10T14:05:35.239379",
     "status": "completed"
    },
    "tags": []
   },
   "source": [
    "We see that using two different metrics give us almost identical result.\n",
    "\n",
    "Let's try to visualize the word vectors using TSNE.\n",
    "\n",
    "**What is TSNE?**\n",
    "\n",
    "❗ *t-distributed stochastic neighbor embedding (t-SNE) is a statistical method for visualizing high-dimensional data by giving each datapoint a location in a two or three-dimensional map.*\n",
    "\n",
    "Basically it is a **dimensionality reduction** method using some statistical approach, similar to other dimensionality reduction methods like **PCA**.\n",
    "\n",
    "In short, what we are trying to achieve through TSNE is to reduce the 100 dimensions (vector size) down to 2 dimension so that we can plot it in a graph."
   ]
  },
  {
   "cell_type": "code",
   "execution_count": 30,
   "id": "846e22a0",
   "metadata": {
    "execution": {
     "iopub.execute_input": "2023-08-10T14:05:35.329658Z",
     "iopub.status.busy": "2023-08-10T14:05:35.329277Z",
     "iopub.status.idle": "2023-08-10T14:05:36.038439Z",
     "shell.execute_reply": "2023-08-10T14:05:36.037448Z"
    },
    "papermill": {
     "duration": 0.74221,
     "end_time": "2023-08-10T14:05:36.040684",
     "exception": false,
     "start_time": "2023-08-10T14:05:35.298474",
     "status": "completed"
    },
    "tags": []
   },
   "outputs": [
    {
     "data": {
      "text/plain": [
       "array([[ 34.577488, -57.061913],\n",
       "       [-64.94721 , -20.19627 ],\n",
       "       [-27.93493 ,  78.95526 ],\n",
       "       [ 71.543076,  42.095688]], dtype=float32)"
      ]
     },
     "execution_count": 30,
     "metadata": {},
     "output_type": "execute_result"
    }
   ],
   "source": [
    "from sklearn.manifold import TSNE\n",
    "import pandas as pd\n",
    "tsne = TSNE(n_components=2, random_state=42, perplexity=3) # reduce it to 2 dimension\n",
    "\n",
    "words = [\"king\", \"woman\", \"man\", \"queen\"]\n",
    "vectors = []\n",
    "for word in words:\n",
    "    vectors.append(embeddings_dict[word])\n",
    "\n",
    "Y = tsne.fit_transform(np.array(vectors)) \n",
    "#tsne takes in a matrix as input, with the each row representing a vector\n",
    "\n",
    "Y\n",
    "\n",
    "# As we can see from the result below, we have successfully reduce the dimension to 2\n",
    "# Note that there will be loss of information/variance when we attempts to reduce the dimension"
   ]
  },
  {
   "cell_type": "code",
   "execution_count": 31,
   "id": "c0d714a5",
   "metadata": {
    "execution": {
     "iopub.execute_input": "2023-08-10T14:05:36.101515Z",
     "iopub.status.busy": "2023-08-10T14:05:36.100750Z",
     "iopub.status.idle": "2023-08-10T14:05:36.389187Z",
     "shell.execute_reply": "2023-08-10T14:05:36.387806Z"
    },
    "papermill": {
     "duration": 0.322179,
     "end_time": "2023-08-10T14:05:36.392278",
     "exception": false,
     "start_time": "2023-08-10T14:05:36.070099",
     "status": "completed"
    },
    "tags": []
   },
   "outputs": [
    {
     "data": {
      "image/png": "[encoded data removed]",
      "text/plain": [
       "<Figure size 640x480 with 1 Axes>"
      ]
     },
     "metadata": {},
     "output_type": "display_data"
    }
   ],
   "source": [
    "import matplotlib.pyplot as plt\n",
    "\n",
    "plt.scatter(Y[:, 0], Y[:, 1]) # x-coordinates and y-coordinates as input\n",
    "\n",
    "for label, x, y in zip(words, Y[:, 0], Y[:, 1]):\n",
    "    plt.annotate(label, xy=(x, y), xytext=(0, 0), textcoords='offset points') # add annotates\n",
    "\n",
    "plt.title('Visualization of word embeddings using GloVe model')\n",
    "plt.show()"
   ]
  },
  {
   "cell_type": "markdown",
   "id": "ce2d541a",
   "metadata": {
    "papermill": {
     "duration": 0.030421,
     "end_time": "2023-08-10T14:05:36.455367",
     "exception": false,
     "start_time": "2023-08-10T14:05:36.424946",
     "status": "completed"
    },
    "tags": []
   },
   "source": [
    "# <a id=\"huggingface\"></a><div style=\"text-align:center; font-size:40px;\"><span style=\"color:#3A506B\">🤗 Hugging Face 🤗</span></div>"
   ]
  },
  {
   "cell_type": "markdown",
   "id": "368f0178",
   "metadata": {
    "papermill": {
     "duration": 0.029168,
     "end_time": "2023-08-10T14:05:36.514847",
     "exception": false,
     "start_time": "2023-08-10T14:05:36.485679",
     "status": "completed"
    },
    "tags": []
   },
   "source": [
    "<div style=\"width:100%;text-align: center;\"> <img align=middle src=\"https://i.imgur.com/CoXGZHh.png\" style=\"height: 300px;\"> </div>"
   ]
  },
  {
   "cell_type": "markdown",
   "id": "45d03c80",
   "metadata": {
    "papermill": {
     "duration": 0.02906,
     "end_time": "2023-08-10T14:05:36.573079",
     "exception": false,
     "start_time": "2023-08-10T14:05:36.544019",
     "status": "completed"
    },
    "tags": []
   },
   "source": [
    "Before we move on to the next part, I would like to introduce you with one of the best open souce community and platform for AI - Hugging Face.\n",
    "\n",
    "❗ *Hugging Face, Inc. is an American company that develops tools for building applications using machine learning. It is most notable for its transformers library built for natural language processing applications and its platform that allows users to share machine learning models and datasets.*\n",
    "\n",
    "Hugging Face offers you with an enormous amount of open source AI models and dataset that you can definately find useful in your NLP journey. In this short section, I will briefly introduce you how can you utilize these awesome resources for your projects. \n",
    "\n",
    "\n",
    "**Official Hugging Face website: https://huggingface.co/**"
   ]
  },
  {
   "cell_type": "markdown",
   "id": "dcb14780",
   "metadata": {
    "papermill": {
     "duration": 0.028998,
     "end_time": "2023-08-10T14:05:36.631473",
     "exception": false,
     "start_time": "2023-08-10T14:05:36.602475",
     "status": "completed"
    },
    "tags": []
   },
   "source": [
    "### 1️⃣ Importing Hugging Face datasets to train your model\n",
    "\n",
    "Importing Hugging Face datasets is an extremely easy task, first you find the dataset you want. Go to the Hugging Face website -> Click on 'Datasets' on the navigation bar and look for the dataset you want to import.\n",
    "\n",
    "You can utilize the filtering functions on the left side of the screen to find dataset related to the machine learning task you are working on.\n",
    "\n",
    "In this example, we will be using this dataset: https://huggingface.co/datasets/gamino/wiki_medical_terms\n",
    "\n",
    "\n",
    "On the right side of the screen, you should see a button which says **Use in dataset library**\n",
    "\n",
    "<div style=\"width:100%;text-align: center;\"> <img align=middle src=\"https://i.imgur.com/Msskk3C.png\" style=\"height: 400px;\"> </div>\n",
    "\n",
    "<br>\n",
    "\n",
    "Click on it and copy the code to access the dataset"
   ]
  },
  {
   "cell_type": "code",
   "execution_count": 32,
   "id": "26eb000b",
   "metadata": {
    "execution": {
     "iopub.execute_input": "2023-08-10T14:05:36.692352Z",
     "iopub.status.busy": "2023-08-10T14:05:36.691717Z",
     "iopub.status.idle": "2023-08-10T14:05:36.697848Z",
     "shell.execute_reply": "2023-08-10T14:05:36.696769Z"
    },
    "papermill": {
     "duration": 0.039332,
     "end_time": "2023-08-10T14:05:36.699903",
     "exception": false,
     "start_time": "2023-08-10T14:05:36.660571",
     "status": "completed"
    },
    "tags": []
   },
   "outputs": [],
   "source": [
    "# run this command if datasets is not installed in your computer\n",
    "# pip install datasets"
   ]
  },
  {
   "cell_type": "code",
   "execution_count": 33,
   "id": "71a23b49",
   "metadata": {
    "execution": {
     "iopub.execute_input": "2023-08-10T14:05:36.762224Z",
     "iopub.status.busy": "2023-08-10T14:05:36.761835Z",
     "iopub.status.idle": "2023-08-10T14:05:40.913095Z",
     "shell.execute_reply": "2023-08-10T14:05:40.912179Z"
    },
    "papermill": {
     "duration": 4.184579,
     "end_time": "2023-08-10T14:05:40.914804",
     "exception": false,
     "start_time": "2023-08-10T14:05:36.730225",
     "status": "completed"
    },
    "tags": []
   },
   "outputs": [
    {
     "name": "stdout",
     "output_type": "stream",
     "text": [
      "Downloading and preparing dataset parquet/gamino--wiki_medical_terms to /root/.cache/huggingface/datasets/parquet/gamino--wiki_medical_terms-eeae721dce15cf95/0.0.0/0b6d5799bb726b24ad7fc7be720c170d8e497f575d02d47537de9a5bac074901...\n"
     ]
    },
    {
     "data": {
      "application/vnd.jupyter.widget-view+json": {
       "model_id": "d584a9f72ef74e219e9bc96b2373889c",
       "version_major": 2,
       "version_minor": 0
      },
      "text/plain": [
       "Downloading data files:   0%|          | 0/1 [00:00<?, ?it/s]"
      ]
     },
     "metadata": {},
     "output_type": "display_data"
    },
    {
     "data": {
      "application/vnd.jupyter.widget-view+json": {
       "model_id": "9893cef587564f8abaccc4ca3763cdd0",
       "version_major": 2,
       "version_minor": 0
      },
      "text/plain": [
       "Downloading data:   0%|          | 0.00/33.1M [00:00<?, ?B/s]"
      ]
     },
     "metadata": {},
     "output_type": "display_data"
    },
    {
     "data": {
      "application/vnd.jupyter.widget-view+json": {
       "model_id": "8250b119625743c89dc710c2fe721046",
       "version_major": 2,
       "version_minor": 0
      },
      "text/plain": [
       "Extracting data files:   0%|          | 0/1 [00:00<?, ?it/s]"
      ]
     },
     "metadata": {},
     "output_type": "display_data"
    },
    {
     "name": "stdout",
     "output_type": "stream",
     "text": [
      "Dataset parquet downloaded and prepared to /root/.cache/huggingface/datasets/parquet/gamino--wiki_medical_terms-eeae721dce15cf95/0.0.0/0b6d5799bb726b24ad7fc7be720c170d8e497f575d02d47537de9a5bac074901. Subsequent calls will reuse this data.\n"
     ]
    },
    {
     "data": {
      "application/vnd.jupyter.widget-view+json": {
       "model_id": "d6d34c1db5bd4ee092a8e58bb5c56442",
       "version_major": 2,
       "version_minor": 0
      },
      "text/plain": [
       "  0%|          | 0/1 [00:00<?, ?it/s]"
      ]
     },
     "metadata": {},
     "output_type": "display_data"
    },
    {
     "data": {
      "text/plain": [
       "DatasetDict({\n",
       "    train: Dataset({\n",
       "        features: ['page_title', 'page_text', '__index_level_0__'],\n",
       "        num_rows: 6861\n",
       "    })\n",
       "})"
      ]
     },
     "execution_count": 33,
     "metadata": {},
     "output_type": "execute_result"
    }
   ],
   "source": [
    "from datasets import load_dataset\n",
    "\n",
    "dataset = load_dataset(\"gamino/wiki_medical_terms\")\n",
    "\n",
    "dataset"
   ]
  },
  {
   "cell_type": "code",
   "execution_count": 34,
   "id": "3ff0b3c0",
   "metadata": {
    "execution": {
     "iopub.execute_input": "2023-08-10T14:05:40.975340Z",
     "iopub.status.busy": "2023-08-10T14:05:40.974053Z",
     "iopub.status.idle": "2023-08-10T14:05:40.979973Z",
     "shell.execute_reply": "2023-08-10T14:05:40.979349Z"
    },
    "papermill": {
     "duration": 0.037244,
     "end_time": "2023-08-10T14:05:40.981582",
     "exception": false,
     "start_time": "2023-08-10T14:05:40.944338",
     "status": "completed"
    },
    "tags": []
   },
   "outputs": [
    {
     "data": {
      "text/plain": [
       "Dataset({\n",
       "    features: ['page_title', 'page_text', '__index_level_0__'],\n",
       "    num_rows: 6861\n",
       "})"
      ]
     },
     "execution_count": 34,
     "metadata": {},
     "output_type": "execute_result"
    }
   ],
   "source": [
    "# It is very easy to navigate through the dataset, it's just like how you navigate through a \n",
    "# python dictionary\n",
    "\n",
    "dataset['train']"
   ]
  },
  {
   "cell_type": "code",
   "execution_count": 35,
   "id": "62fd1492",
   "metadata": {
    "execution": {
     "iopub.execute_input": "2023-08-10T14:05:41.042010Z",
     "iopub.status.busy": "2023-08-10T14:05:41.041608Z",
     "iopub.status.idle": "2023-08-10T14:05:41.491008Z",
     "shell.execute_reply": "2023-08-10T14:05:41.490220Z"
    },
    "papermill": {
     "duration": 0.482401,
     "end_time": "2023-08-10T14:05:41.492829",
     "exception": false,
     "start_time": "2023-08-10T14:05:41.010428",
     "status": "completed"
    },
    "tags": []
   },
   "outputs": [
    {
     "data": {
      "text/html": [
       "<div>\n",
       "<style scoped>\n",
       "    .dataframe tbody tr th:only-of-type {\n",
       "        vertical-align: middle;\n",
       "    }\n",
       "\n",
       "    .dataframe tbody tr th {\n",
       "        vertical-align: top;\n",
       "    }\n",
       "\n",
       "    .dataframe thead th {\n",
       "        text-align: right;\n",
       "    }\n",
       "</style>\n",
       "<table border=\"1\" class=\"dataframe\">\n",
       "  <thead>\n",
       "    <tr style=\"text-align: right;\">\n",
       "      <th></th>\n",
       "      <th>page_title</th>\n",
       "      <th>page_text</th>\n",
       "      <th>__index_level_0__</th>\n",
       "    </tr>\n",
       "  </thead>\n",
       "  <tbody>\n",
       "    <tr>\n",
       "      <th>0</th>\n",
       "      <td>Paracetamol poisoning</td>\n",
       "      <td>Paracetamol poisoning, also known as acetamino...</td>\n",
       "      <td>0</td>\n",
       "    </tr>\n",
       "    <tr>\n",
       "      <th>1</th>\n",
       "      <td>Acromegaly</td>\n",
       "      <td>Acromegaly is a disorder that results from exc...</td>\n",
       "      <td>1</td>\n",
       "    </tr>\n",
       "    <tr>\n",
       "      <th>2</th>\n",
       "      <td>Actinic keratosis</td>\n",
       "      <td>Actinic keratosis (AK), sometimes called solar...</td>\n",
       "      <td>2</td>\n",
       "    </tr>\n",
       "    <tr>\n",
       "      <th>3</th>\n",
       "      <td>Congenital adrenal hyperplasia</td>\n",
       "      <td>Congenital adrenal hyperplasia (CAH) is a grou...</td>\n",
       "      <td>3</td>\n",
       "    </tr>\n",
       "    <tr>\n",
       "      <th>4</th>\n",
       "      <td>Adrenocortical carcinoma</td>\n",
       "      <td>Adrenocortical carcinoma  (ACC) is an aggressi...</td>\n",
       "      <td>4</td>\n",
       "    </tr>\n",
       "  </tbody>\n",
       "</table>\n",
       "</div>"
      ],
      "text/plain": [
       "                       page_title  \\\n",
       "0           Paracetamol poisoning   \n",
       "1                      Acromegaly   \n",
       "2               Actinic keratosis   \n",
       "3  Congenital adrenal hyperplasia   \n",
       "4        Adrenocortical carcinoma   \n",
       "\n",
       "                                           page_text  __index_level_0__  \n",
       "0  Paracetamol poisoning, also known as acetamino...                  0  \n",
       "1  Acromegaly is a disorder that results from exc...                  1  \n",
       "2  Actinic keratosis (AK), sometimes called solar...                  2  \n",
       "3  Congenital adrenal hyperplasia (CAH) is a grou...                  3  \n",
       "4  Adrenocortical carcinoma  (ACC) is an aggressi...                  4  "
      ]
     },
     "execution_count": 35,
     "metadata": {},
     "output_type": "execute_result"
    }
   ],
   "source": [
    "# You can directly use pd.DataFrame to convert the dataset to your familiar pandas dataframe format\n",
    "\n",
    "import pandas as pd\n",
    "\n",
    "pd.DataFrame(dataset['train']).head()"
   ]
  },
  {
   "cell_type": "markdown",
   "id": "19bfb821",
   "metadata": {
    "papermill": {
     "duration": 0.030841,
     "end_time": "2023-08-10T14:05:41.554973",
     "exception": false,
     "start_time": "2023-08-10T14:05:41.524132",
     "status": "completed"
    },
    "tags": []
   },
   "source": [
    "### 2️⃣ Using Hugging Face models in your project\n",
    "\n",
    "\n",
    "Importing Hugging Face models is also a very easy task, first find the model you want to use from the 'Models' tab on the navigation bar on Hugging Face.\n",
    "\n",
    "Similar to how you do with dataset, you can copy the code by clicking the **Use in Transformers** button. We will be using the pipeline method for illustration in this notebook. \n",
    "\n",
    "\n",
    "<div style=\"width:100%;text-align: center;\"> <img align=middle src=\"https://i.imgur.com/GKRYTGM.png\" style=\"height: 400px;\"> </div>\n",
    "\n",
    "<br>\n",
    "\n",
    "Also, one thing to point is that a lot of models in Hugging Face also have a workspace in the right hand side for you to test the model, so you can mess around with it to see if this is the model you want to use!\n",
    "\n",
    "In this example, we will be using the popular sentiment-analysis model: https://huggingface.co/finiteautomata/bertweet-base-sentiment-analysis"
   ]
  },
  {
   "cell_type": "code",
   "execution_count": 36,
   "id": "652cfca2",
   "metadata": {
    "execution": {
     "iopub.execute_input": "2023-08-10T14:05:41.618763Z",
     "iopub.status.busy": "2023-08-10T14:05:41.618011Z",
     "iopub.status.idle": "2023-08-10T14:05:41.622249Z",
     "shell.execute_reply": "2023-08-10T14:05:41.621314Z"
    },
    "papermill": {
     "duration": 0.038987,
     "end_time": "2023-08-10T14:05:41.624353",
     "exception": false,
     "start_time": "2023-08-10T14:05:41.585366",
     "status": "completed"
    },
    "tags": []
   },
   "outputs": [],
   "source": [
    "# install transformers if you never use it before\n",
    "# Noted that you may need to install either PyTorch or Tensorflow to use the transformer \n",
    "# if you never download either one before\n",
    "\n",
    "# pip install transformers"
   ]
  },
  {
   "cell_type": "code",
   "execution_count": 37,
   "id": "86519c1e",
   "metadata": {
    "execution": {
     "iopub.execute_input": "2023-08-10T14:05:41.688174Z",
     "iopub.status.busy": "2023-08-10T14:05:41.687786Z",
     "iopub.status.idle": "2023-08-10T14:06:03.596820Z",
     "shell.execute_reply": "2023-08-10T14:06:03.595625Z"
    },
    "papermill": {
     "duration": 21.943784,
     "end_time": "2023-08-10T14:06:03.599607",
     "exception": false,
     "start_time": "2023-08-10T14:05:41.655823",
     "status": "completed"
    },
    "tags": []
   },
   "outputs": [
    {
     "data": {
      "application/vnd.jupyter.widget-view+json": {
       "model_id": "ac3fdd092fd14446a5c6be424d908933",
       "version_major": 2,
       "version_minor": 0
      },
      "text/plain": [
       "Downloading (…)lve/main/config.json:   0%|          | 0.00/949 [00:00<?, ?B/s]"
      ]
     },
     "metadata": {},
     "output_type": "display_data"
    },
    {
     "data": {
      "application/vnd.jupyter.widget-view+json": {
       "model_id": "7f97c3e666b740ccbc8258a39c994a36",
       "version_major": 2,
       "version_minor": 0
      },
      "text/plain": [
       "Downloading pytorch_model.bin:   0%|          | 0.00/540M [00:00<?, ?B/s]"
      ]
     },
     "metadata": {},
     "output_type": "display_data"
    },
    {
     "data": {
      "application/vnd.jupyter.widget-view+json": {
       "model_id": "2b8e3197687e4c6d8261de921c85e934",
       "version_major": 2,
       "version_minor": 0
      },
      "text/plain": [
       "Downloading (…)okenizer_config.json:   0%|          | 0.00/338 [00:00<?, ?B/s]"
      ]
     },
     "metadata": {},
     "output_type": "display_data"
    },
    {
     "data": {
      "application/vnd.jupyter.widget-view+json": {
       "model_id": "8bd5921c99734d28ad860450215ffd65",
       "version_major": 2,
       "version_minor": 0
      },
      "text/plain": [
       "Downloading (…)solve/main/vocab.txt:   0%|          | 0.00/843k [00:00<?, ?B/s]"
      ]
     },
     "metadata": {},
     "output_type": "display_data"
    },
    {
     "data": {
      "application/vnd.jupyter.widget-view+json": {
       "model_id": "b95d16c6f6fc40a880bf6f119e95d3b1",
       "version_major": 2,
       "version_minor": 0
      },
      "text/plain": [
       "Downloading (…)solve/main/bpe.codes:   0%|          | 0.00/1.08M [00:00<?, ?B/s]"
      ]
     },
     "metadata": {},
     "output_type": "display_data"
    },
    {
     "data": {
      "application/vnd.jupyter.widget-view+json": {
       "model_id": "dd3858a3bea54f44a2ace313dd8ada94",
       "version_major": 2,
       "version_minor": 0
      },
      "text/plain": [
       "Downloading (…)in/added_tokens.json:   0%|          | 0.00/22.0 [00:00<?, ?B/s]"
      ]
     },
     "metadata": {},
     "output_type": "display_data"
    },
    {
     "data": {
      "application/vnd.jupyter.widget-view+json": {
       "model_id": "753e4d721dc64c9c8447f511927b3dc5",
       "version_major": 2,
       "version_minor": 0
      },
      "text/plain": [
       "Downloading (…)cial_tokens_map.json:   0%|          | 0.00/167 [00:00<?, ?B/s]"
      ]
     },
     "metadata": {},
     "output_type": "display_data"
    },
    {
     "name": "stderr",
     "output_type": "stream",
     "text": [
      "Xformers is not installed correctly. If you want to use memory_efficient_attention to accelerate training use the following command to install Xformers\n",
      "pip install xformers.\n"
     ]
    }
   ],
   "source": [
    "from transformers import pipeline\n",
    "\n",
    "pipe = pipeline(\"text-classification\", model=\"finiteautomata/bertweet-base-sentiment-analysis\")"
   ]
  },
  {
   "cell_type": "code",
   "execution_count": 38,
   "id": "dc6fb1f1",
   "metadata": {
    "execution": {
     "iopub.execute_input": "2023-08-10T14:06:03.667644Z",
     "iopub.status.busy": "2023-08-10T14:06:03.667200Z",
     "iopub.status.idle": "2023-08-10T14:06:03.843280Z",
     "shell.execute_reply": "2023-08-10T14:06:03.841983Z"
    },
    "papermill": {
     "duration": 0.212782,
     "end_time": "2023-08-10T14:06:03.845945",
     "exception": false,
     "start_time": "2023-08-10T14:06:03.633163",
     "status": "completed"
    },
    "tags": []
   },
   "outputs": [
    {
     "data": {
      "text/plain": [
       "[{'label': 'POS', 'score': 0.9869877099990845}]"
      ]
     },
     "execution_count": 38,
     "metadata": {},
     "output_type": "execute_result"
    }
   ],
   "source": [
    "# As you can see the model gives us a pretty accurate result\n",
    "\n",
    "pipe(\"Learning natural language processing is fun\")"
   ]
  },
  {
   "cell_type": "markdown",
   "id": "72e52023",
   "metadata": {
    "papermill": {
     "duration": 0.031106,
     "end_time": "2023-08-10T14:06:03.909443",
     "exception": false,
     "start_time": "2023-08-10T14:06:03.878337",
     "status": "completed"
    },
    "tags": []
   },
   "source": [
    "As you can see, HuggingFace really offer you with a lot of cool things you can do and can really optimize your machine learning journey a lot. All thanks to such a wonderful open source community 🔥"
   ]
  },
  {
   "cell_type": "markdown",
   "id": "f16754b3",
   "metadata": {
    "papermill": {
     "duration": 0.030905,
     "end_time": "2023-08-10T14:06:03.971383",
     "exception": false,
     "start_time": "2023-08-10T14:06:03.940478",
     "status": "completed"
    },
    "tags": []
   },
   "source": [
    "# <a id=\"bert\"></a><div style=\"text-align:center; font-size:40px;\"><span style=\"color:#3A506B\">🌟 Bidirectional Encoder Representations from Transformers (BERT) 🌟</span></div>\n",
    "\n",
    "\n",
    "<div style=\"width:100%;text-align: center;\"> <img align=middle src=\"https://i.imgur.com/wEEfptI.png\" style=\"height: 500px;\"> </div>"
   ]
  },
  {
   "cell_type": "markdown",
   "id": "8a057060",
   "metadata": {
    "papermill": {
     "duration": 0.030422,
     "end_time": "2023-08-10T14:06:04.032544",
     "exception": false,
     "start_time": "2023-08-10T14:06:04.002122",
     "status": "completed"
    },
    "tags": []
   },
   "source": [
    "❗ *BERT, which stands for Bidirectional Encoder Representations from Transformers, is **based on Transformers**, a deep learning model in which every output element is connected to every input element, and the weightings between them are dynamically calculated based upon their connection.*\n",
    "\n",
    "BERT is an extremely powerful model in the sense that **it can 'understand' contextual meaning** and assign each word with a unique **contextualized embedding** based on the context of the sentence.\n",
    "\n",
    "What do we mean by that?\n",
    "\n",
    "Throughout this notebook, we have introduced multiple word embedding techniques and models such as Word2Vec and GloVe. But have you ever come across a situation where **the same word have different meaning in different sentences**? If you ran the algorithm with those models, it will return the same embedding for the same word, regardless of their **contextual meaning**.\n",
    "\n",
    "For example,\n",
    "\n",
    "> **'set is an important concept in mathematics'** <br>\n",
    "> **'peter just bought a set of lego'** <br>\n",
    "> **'This is a set of equipments'**\n",
    "\n",
    "In the above example, we human know that the 'set' from the first sentence is very different from the 'set' in the second and third sentences. BERT is a model which can give us a different embedding for the same word based on the context, which is really powerful thing in NLP.\n",
    "\n",
    "Apart from BERT being able to generate contextualized embedding for words in different context, **BERT can also assign embedding to a sentence instead of just assigning embeddings to tokens**, which is something really handy when dealing with tasks such as search engine etc.\n",
    "\n",
    "The working principle behind BERT is pretty complicated, which involve the architecture of transformers and concepts of encoders. These concepts will not be explained in this notebook since I personally found it to be not very beginner friendly, and in fact, I myself do not have a deep understanding to the topic as well as in for now. With that being said, if anyone can share some good resources in helping us to understanding more about transformers and BERT model, it will be great if you can share with us through commenting on this notebook!\n",
    "\n",
    "I will put some resources here if you are interested in how BERT work: \n",
    "\n",
    "### 📑 Resources:\n",
    "\n",
    "StatQuest: https://www.youtube.com/watch?v=zxQyTK8quyY <br>\n",
    "Umar Jamil: https://www.youtube.com/watch?v=bCz4OMemCcA <br>\n",
    "Jay Alammar: http://jalammar.github.io/illustrated-bert/ <br>\n",
    "Google Youtube: https://www.youtube.com/watch?v=t45S_MwAcOw <br>\n",
    "Google BERT github: https://github.com/google-research/bert <br>\n",
    "Attention is All You Need (Paper on Transformer): https://proceedings.neurips.cc/paper_files/paper/2017/file/3f5ee243547dee91fbd053c1c4a845aa-Paper.pdf\n"
   ]
  },
  {
   "cell_type": "markdown",
   "id": "2e26334b",
   "metadata": {
    "papermill": {
     "duration": 0.02959,
     "end_time": "2023-08-10T14:06:04.094012",
     "exception": false,
     "start_time": "2023-08-10T14:06:04.064422",
     "status": "completed"
    },
    "tags": []
   },
   "source": [
    "### 🧑‍💻 Let's code \n",
    "\n",
    "In this section, we will be touching the tips of BERT using tensorflow model.\n",
    "\n",
    "\n",
    "Full list of BERT models from tensorflow:  https://tfhub.dev/google/collections/bert/1\n"
   ]
  },
  {
   "cell_type": "code",
   "execution_count": 39,
   "id": "d0282085",
   "metadata": {
    "execution": {
     "iopub.execute_input": "2023-08-10T14:06:04.159247Z",
     "iopub.status.busy": "2023-08-10T14:06:04.158915Z",
     "iopub.status.idle": "2023-08-10T14:06:04.162582Z",
     "shell.execute_reply": "2023-08-10T14:06:04.161679Z"
    },
    "papermill": {
     "duration": 0.037952,
     "end_time": "2023-08-10T14:06:04.164114",
     "exception": false,
     "start_time": "2023-08-10T14:06:04.126162",
     "status": "completed"
    },
    "tags": []
   },
   "outputs": [],
   "source": [
    "# pip install tensorflow_hub\n",
    "# pip install tensorflow_text"
   ]
  },
  {
   "cell_type": "code",
   "execution_count": 40,
   "id": "42790b98",
   "metadata": {
    "execution": {
     "iopub.execute_input": "2023-08-10T14:06:04.229867Z",
     "iopub.status.busy": "2023-08-10T14:06:04.229426Z",
     "iopub.status.idle": "2023-08-10T14:06:04.847944Z",
     "shell.execute_reply": "2023-08-10T14:06:04.846710Z"
    },
    "papermill": {
     "duration": 0.654456,
     "end_time": "2023-08-10T14:06:04.850487",
     "exception": false,
     "start_time": "2023-08-10T14:06:04.196031",
     "status": "completed"
    },
    "tags": []
   },
   "outputs": [],
   "source": [
    "import tensorflow_hub as hub\n",
    "import tensorflow_text as text"
   ]
  },
  {
   "cell_type": "code",
   "execution_count": 41,
   "id": "ae948986",
   "metadata": {
    "execution": {
     "iopub.execute_input": "2023-08-10T14:06:04.916393Z",
     "iopub.status.busy": "2023-08-10T14:06:04.915580Z",
     "iopub.status.idle": "2023-08-10T14:06:04.920667Z",
     "shell.execute_reply": "2023-08-10T14:06:04.919398Z"
    },
    "papermill": {
     "duration": 0.041046,
     "end_time": "2023-08-10T14:06:04.923268",
     "exception": false,
     "start_time": "2023-08-10T14:06:04.882222",
     "status": "completed"
    },
    "tags": []
   },
   "outputs": [],
   "source": [
    "# did you know the word 'set' has the most meaning? \n",
    "text_input = ['set is an important concept in mathematics',\n",
    "              'peter just bought a set of lego',\n",
    "              'This is a set of equipments',]"
   ]
  },
  {
   "cell_type": "code",
   "execution_count": 42,
   "id": "e7ff33a8",
   "metadata": {
    "execution": {
     "iopub.execute_input": "2023-08-10T14:06:04.991784Z",
     "iopub.status.busy": "2023-08-10T14:06:04.991161Z",
     "iopub.status.idle": "2023-08-10T14:06:08.049225Z",
     "shell.execute_reply": "2023-08-10T14:06:08.047506Z"
    },
    "papermill": {
     "duration": 3.094541,
     "end_time": "2023-08-10T14:06:08.051940",
     "exception": false,
     "start_time": "2023-08-10T14:06:04.957399",
     "status": "completed"
    },
    "tags": []
   },
   "outputs": [],
   "source": [
    "# Download the preprocessor and run it with tensorflow_hub\n",
    "preprocessor = hub.KerasLayer(\n",
    "    \"https://tfhub.dev/tensorflow/bert_en_uncased_preprocess/3\")\n",
    "encoder_inputs = preprocessor(text_input) # pass the text input into the preprocessor"
   ]
  },
  {
   "cell_type": "code",
   "execution_count": 43,
   "id": "0e3b4d28",
   "metadata": {
    "execution": {
     "iopub.execute_input": "2023-08-10T14:06:08.120380Z",
     "iopub.status.busy": "2023-08-10T14:06:08.119011Z",
     "iopub.status.idle": "2023-08-10T14:06:08.125519Z",
     "shell.execute_reply": "2023-08-10T14:06:08.124734Z"
    },
    "papermill": {
     "duration": 0.042978,
     "end_time": "2023-08-10T14:06:08.127991",
     "exception": false,
     "start_time": "2023-08-10T14:06:08.085013",
     "status": "completed"
    },
    "tags": []
   },
   "outputs": [
    {
     "data": {
      "text/plain": [
       "dict_keys(['input_mask', 'input_type_ids', 'input_word_ids'])"
      ]
     },
     "execution_count": 43,
     "metadata": {},
     "output_type": "execute_result"
    }
   ],
   "source": [
    "encoder_inputs.keys()"
   ]
  },
  {
   "cell_type": "code",
   "execution_count": 44,
   "id": "fdf5b802",
   "metadata": {
    "execution": {
     "iopub.execute_input": "2023-08-10T14:06:08.194569Z",
     "iopub.status.busy": "2023-08-10T14:06:08.194166Z",
     "iopub.status.idle": "2023-08-10T14:06:08.201931Z",
     "shell.execute_reply": "2023-08-10T14:06:08.200703Z"
    },
    "papermill": {
     "duration": 0.043394,
     "end_time": "2023-08-10T14:06:08.203930",
     "exception": false,
     "start_time": "2023-08-10T14:06:08.160536",
     "status": "completed"
    },
    "tags": []
   },
   "outputs": [
    {
     "data": {
      "text/plain": [
       "<tf.Tensor: shape=(3, 128), dtype=int32, numpy=\n",
       "array([[  101,  2275,  2003,  2019,  2590,  4145,  1999,  5597,   102,\n",
       "            0,     0,     0,     0,     0,     0,     0,     0,     0,\n",
       "            0,     0,     0,     0,     0,     0,     0,     0,     0,\n",
       "            0,     0,     0,     0,     0,     0,     0,     0,     0,\n",
       "            0,     0,     0,     0,     0,     0,     0,     0,     0,\n",
       "            0,     0,     0,     0,     0,     0,     0,     0,     0,\n",
       "            0,     0,     0,     0,     0,     0,     0,     0,     0,\n",
       "            0,     0,     0,     0,     0,     0,     0,     0,     0,\n",
       "            0,     0,     0,     0,     0,     0,     0,     0,     0,\n",
       "            0,     0,     0,     0,     0,     0,     0,     0,     0,\n",
       "            0,     0,     0,     0,     0,     0,     0,     0,     0,\n",
       "            0,     0,     0,     0,     0,     0,     0,     0,     0,\n",
       "            0,     0,     0,     0,     0,     0,     0,     0,     0,\n",
       "            0,     0,     0,     0,     0,     0,     0,     0,     0,\n",
       "            0,     0],\n",
       "       [  101,  2848,  2074,  4149,  1037,  2275,  1997, 23853,   102,\n",
       "            0,     0,     0,     0,     0,     0,     0,     0,     0,\n",
       "            0,     0,     0,     0,     0,     0,     0,     0,     0,\n",
       "            0,     0,     0,     0,     0,     0,     0,     0,     0,\n",
       "            0,     0,     0,     0,     0,     0,     0,     0,     0,\n",
       "            0,     0,     0,     0,     0,     0,     0,     0,     0,\n",
       "            0,     0,     0,     0,     0,     0,     0,     0,     0,\n",
       "            0,     0,     0,     0,     0,     0,     0,     0,     0,\n",
       "            0,     0,     0,     0,     0,     0,     0,     0,     0,\n",
       "            0,     0,     0,     0,     0,     0,     0,     0,     0,\n",
       "            0,     0,     0,     0,     0,     0,     0,     0,     0,\n",
       "            0,     0,     0,     0,     0,     0,     0,     0,     0,\n",
       "            0,     0,     0,     0,     0,     0,     0,     0,     0,\n",
       "            0,     0,     0,     0,     0,     0,     0,     0,     0,\n",
       "            0,     0],\n",
       "       [  101,  2023,  2003,  1037,  2275,  1997,  3941,  2015,   102,\n",
       "            0,     0,     0,     0,     0,     0,     0,     0,     0,\n",
       "            0,     0,     0,     0,     0,     0,     0,     0,     0,\n",
       "            0,     0,     0,     0,     0,     0,     0,     0,     0,\n",
       "            0,     0,     0,     0,     0,     0,     0,     0,     0,\n",
       "            0,     0,     0,     0,     0,     0,     0,     0,     0,\n",
       "            0,     0,     0,     0,     0,     0,     0,     0,     0,\n",
       "            0,     0,     0,     0,     0,     0,     0,     0,     0,\n",
       "            0,     0,     0,     0,     0,     0,     0,     0,     0,\n",
       "            0,     0,     0,     0,     0,     0,     0,     0,     0,\n",
       "            0,     0,     0,     0,     0,     0,     0,     0,     0,\n",
       "            0,     0,     0,     0,     0,     0,     0,     0,     0,\n",
       "            0,     0,     0,     0,     0,     0,     0,     0,     0,\n",
       "            0,     0,     0,     0,     0,     0,     0,     0,     0,\n",
       "            0,     0]], dtype=int32)>"
      ]
     },
     "execution_count": 44,
     "metadata": {},
     "output_type": "execute_result"
    }
   ],
   "source": [
    "encoder_inputs['input_word_ids']"
   ]
  },
  {
   "cell_type": "markdown",
   "id": "df077d5a",
   "metadata": {
    "papermill": {
     "duration": 0.032247,
     "end_time": "2023-08-10T14:06:08.268787",
     "exception": false,
     "start_time": "2023-08-10T14:06:08.236540",
     "status": "completed"
    },
    "tags": []
   },
   "source": [
    "encoder_inputs\\['input_word_ids'\\] return us with tensor of shape (3, 128), what does that mean\n",
    "\n",
    "> 3 refers to the '3' sentences we have in text input\n",
    "\n",
    "> 128 is the array to represent the sentence when we use this particular model \n",
    "(that is, if the number of tokens from a sentence is longer than 128 (126 in fact due to masking), it will not work properly)\n",
    ">> - Notice how each sentence is 'masked' between '101' and '102' <br>\n",
    ">> - Also notice that the word 'set' has the same word_id up till this stage"
   ]
  },
  {
   "cell_type": "code",
   "execution_count": 45,
   "id": "34a143e1",
   "metadata": {
    "execution": {
     "iopub.execute_input": "2023-08-10T14:06:08.335843Z",
     "iopub.status.busy": "2023-08-10T14:06:08.335421Z",
     "iopub.status.idle": "2023-08-10T14:06:28.726311Z",
     "shell.execute_reply": "2023-08-10T14:06:28.725388Z"
    },
    "papermill": {
     "duration": 20.427881,
     "end_time": "2023-08-10T14:06:28.729081",
     "exception": false,
     "start_time": "2023-08-10T14:06:08.301200",
     "status": "completed"
    },
    "tags": []
   },
   "outputs": [],
   "source": [
    "# Download the encoder and run it with tensorflow_hub\n",
    "encoder = hub.KerasLayer(\n",
    "    \"https://tfhub.dev/tensorflow/bert_en_uncased_L-12_H-768_A-12/4\",\n",
    "    trainable=True)\n",
    "outputs = encoder(encoder_inputs) # pass the encoder inputs to the encoder"
   ]
  },
  {
   "cell_type": "code",
   "execution_count": 46,
   "id": "574d6600",
   "metadata": {
    "execution": {
     "iopub.execute_input": "2023-08-10T14:06:28.794731Z",
     "iopub.status.busy": "2023-08-10T14:06:28.794412Z",
     "iopub.status.idle": "2023-08-10T14:06:28.801637Z",
     "shell.execute_reply": "2023-08-10T14:06:28.800258Z"
    },
    "papermill": {
     "duration": 0.042828,
     "end_time": "2023-08-10T14:06:28.804109",
     "exception": false,
     "start_time": "2023-08-10T14:06:28.761281",
     "status": "completed"
    },
    "tags": []
   },
   "outputs": [
    {
     "data": {
      "text/plain": [
       "dict_keys(['default', 'sequence_output', 'pooled_output', 'encoder_outputs'])"
      ]
     },
     "execution_count": 46,
     "metadata": {},
     "output_type": "execute_result"
    }
   ],
   "source": [
    "outputs.keys()"
   ]
  },
  {
   "cell_type": "code",
   "execution_count": 47,
   "id": "5052ce69",
   "metadata": {
    "execution": {
     "iopub.execute_input": "2023-08-10T14:06:28.872178Z",
     "iopub.status.busy": "2023-08-10T14:06:28.871120Z",
     "iopub.status.idle": "2023-08-10T14:06:28.878481Z",
     "shell.execute_reply": "2023-08-10T14:06:28.877628Z"
    },
    "papermill": {
     "duration": 0.04398,
     "end_time": "2023-08-10T14:06:28.880231",
     "exception": false,
     "start_time": "2023-08-10T14:06:28.836251",
     "status": "completed"
    },
    "tags": []
   },
   "outputs": [
    {
     "data": {
      "text/plain": [
       "<tf.Tensor: shape=(3, 768), dtype=float32, numpy=\n",
       "array([[-0.9021303 , -0.18398866,  0.05963659, ..., -0.5262022 ,\n",
       "        -0.5591836 ,  0.7996443 ],\n",
       "       [-0.5723752 , -0.17856444,  0.58169186, ...,  0.36999103,\n",
       "        -0.46973437,  0.7774626 ],\n",
       "       [-0.6655072 , -0.10500474,  0.5457235 , ...,  0.15477785,\n",
       "        -0.46922088,  0.6209436 ]], dtype=float32)>"
      ]
     },
     "execution_count": 47,
     "metadata": {},
     "output_type": "execute_result"
    }
   ],
   "source": [
    "# the pooled_output is the embeddings for the whole sentence\n",
    "# ie. outputs['pooled_output'][0] is the embeddings for the whole sentence 'set is an important concept in mathematics'\n",
    "\n",
    "outputs['pooled_output']"
   ]
  },
  {
   "cell_type": "markdown",
   "id": "235a8588",
   "metadata": {
    "papermill": {
     "duration": 0.033778,
     "end_time": "2023-08-10T14:06:29.053286",
     "exception": false,
     "start_time": "2023-08-10T14:06:29.019508",
     "status": "completed"
    },
    "tags": []
   },
   "source": [
    "We can see that the BERT model can give us embedding for the whole sentence instead of just embedding for each individual word like other models we have reviewed so far. This can be some really power tool in handling various task such as a search engine."
   ]
  },
  {
   "cell_type": "code",
   "execution_count": 48,
   "id": "be62ff34",
   "metadata": {
    "execution": {
     "iopub.execute_input": "2023-08-10T14:06:29.122823Z",
     "iopub.status.busy": "2023-08-10T14:06:29.122378Z",
     "iopub.status.idle": "2023-08-10T14:06:29.131595Z",
     "shell.execute_reply": "2023-08-10T14:06:29.129885Z"
    },
    "papermill": {
     "duration": 0.04655,
     "end_time": "2023-08-10T14:06:29.133704",
     "exception": false,
     "start_time": "2023-08-10T14:06:29.087154",
     "status": "completed"
    },
    "tags": []
   },
   "outputs": [
    {
     "data": {
      "text/plain": [
       "<tf.Tensor: shape=(3, 128, 768), dtype=float32, numpy=\n",
       "array([[[-0.14285308, -0.11733536, -0.17332199, ..., -0.09829904,\n",
       "         -0.18116593,  1.0783881 ],\n",
       "        [ 0.9034546 , -0.5166437 , -0.15524396, ..., -0.05566985,\n",
       "         -0.24226782,  0.8664611 ],\n",
       "        [ 0.04437932, -0.20812353, -0.5376127 , ..., -0.26888028,\n",
       "         -0.62242967,  1.4534569 ],\n",
       "        ...,\n",
       "        [ 0.37507996, -0.44842723,  0.22302878, ..., -0.24965033,\n",
       "         -0.49663794,  0.80258954],\n",
       "        [ 0.26248005, -0.37693164,  0.21491605, ..., -0.1330866 ,\n",
       "         -0.53454286,  0.76095873],\n",
       "        [ 0.29089847, -0.44833082,  0.27756235, ..., -0.11816522,\n",
       "         -0.5244637 ,  0.76960486]],\n",
       "\n",
       "       [[ 0.20126839,  0.07174551,  0.12728548, ...,  0.08380854,\n",
       "          0.24566019,  0.14007594],\n",
       "        [ 0.1146749 , -0.45480573, -0.41428855, ...,  0.05574257,\n",
       "          0.7797264 ,  0.29912934],\n",
       "        [ 1.0150937 , -0.5844068 ,  0.05093523, ..., -0.2810229 ,\n",
       "          0.5954907 ,  0.6756662 ],\n",
       "        ...,\n",
       "        [ 0.2564837 ,  0.12519091,  0.3876691 , ...,  0.28551084,\n",
       "          0.14887296,  0.03164316],\n",
       "        [ 0.29787716,  0.05129072,  0.3174463 , ...,  0.19334315,\n",
       "          0.15740123,  0.01752859],\n",
       "        [ 0.19397286,  0.15889663,  0.4394103 , ...,  0.28604555,\n",
       "          0.15567441,  0.09913863]],\n",
       "\n",
       "       [[ 0.07438357,  0.03150864,  0.17894793, ..., -0.17117849,\n",
       "          0.06779549,  0.4206245 ],\n",
       "        [-0.02848635, -0.22934788,  0.3602036 , ..., -0.3886306 ,\n",
       "          0.39865524,  0.6367241 ],\n",
       "        [-0.16189319, -0.15472685,  0.51492953, ..., -0.11080376,\n",
       "         -0.32402745,  1.0402092 ],\n",
       "        ...,\n",
       "        [ 0.40245375,  0.07695433,  0.23419046, ...,  0.03383335,\n",
       "         -0.04678196,  0.208879  ],\n",
       "        [ 0.3446995 ,  0.00163755,  0.23660025, ...,  0.11659402,\n",
       "         -0.07762738,  0.08840845],\n",
       "        [ 0.29389113,  0.02014223,  0.26841304, ...,  0.11732119,\n",
       "         -0.08240867,  0.1362967 ]]], dtype=float32)>"
      ]
     },
     "execution_count": 48,
     "metadata": {},
     "output_type": "execute_result"
    }
   ],
   "source": [
    "# sequence_output gives us the embedding of each individual words\n",
    "\n",
    "outputs['sequence_output']"
   ]
  },
  {
   "cell_type": "markdown",
   "id": "1b7202cf",
   "metadata": {
    "papermill": {
     "duration": 0.033574,
     "end_time": "2023-08-10T14:06:29.201879",
     "exception": false,
     "start_time": "2023-08-10T14:06:29.168305",
     "status": "completed"
    },
    "tags": []
   },
   "source": [
    "As we can see, the sequence_output gives us a tensor of shape(5, 128, 768), where \n",
    "\n",
    "> 3 is referring to our 3 sentences\n",
    "\n",
    "> 128 refers the **array of each sentence**\n",
    ">> If you recall from encoder_inputs\\['input_word_ids'\\], we see that the preprocessor gives us an array of 128 length for each sentence in which it will automatically add zeros to fill up the empty space aka padding.\n",
    "\n",
    "> 768 refers to the **contextualized embedding of each individual token**\n",
    "\n",
    "### Question: How do we get the embedding for the word 'set' from the first sentence ('set is an important concept in mathematics')?"
   ]
  },
  {
   "cell_type": "code",
   "execution_count": 49,
   "id": "67f7b7f3",
   "metadata": {
    "execution": {
     "iopub.execute_input": "2023-08-10T14:06:29.272658Z",
     "iopub.status.busy": "2023-08-10T14:06:29.271786Z",
     "iopub.status.idle": "2023-08-10T14:06:29.291450Z",
     "shell.execute_reply": "2023-08-10T14:06:29.290004Z"
    },
    "papermill": {
     "duration": 0.057037,
     "end_time": "2023-08-10T14:06:29.293607",
     "exception": false,
     "start_time": "2023-08-10T14:06:29.236570",
     "status": "completed"
    },
    "tags": []
   },
   "outputs": [
    {
     "data": {
      "text/plain": [
       "<tf.Tensor: shape=(768,), dtype=float32, numpy=\n",
       "array([ 9.03454602e-01, -5.16643703e-01, -1.55243963e-01, -4.33008313e-01,\n",
       "        4.66844976e-01, -4.72577363e-01,  3.83235127e-01,  1.46563053e-02,\n",
       "        1.24105178e-02, -8.46763700e-02, -1.49693340e-01,  4.84070517e-02,\n",
       "       -7.68613875e-01, -3.29155982e-01,  3.99931699e-01,  6.63939863e-02,\n",
       "        1.95751011e-01,  1.94412738e-01, -8.57435822e-01,  5.86658716e-04,\n",
       "       -1.65837064e-01,  2.07648389e-02, -2.50800103e-01,  2.32300997e-01,\n",
       "       -1.44238606e-01, -2.02241912e-01, -7.53185034e-01, -5.12477696e-01,\n",
       "        6.06185138e-01,  9.03528214e-01,  2.75007665e-01,  3.81905705e-01,\n",
       "        1.23685859e-02, -6.47507906e-01, -5.77197671e-01, -5.05982935e-01,\n",
       "        5.52057981e-01, -1.67432070e-01, -4.78342116e-01, -2.73136258e-01,\n",
       "        3.54996622e-01,  3.23977500e-01,  4.45237041e-01,  9.86215100e-02,\n",
       "       -2.30290428e-01, -7.21584439e-01, -8.53036046e-01, -1.12025487e+00,\n",
       "        1.14361048e+00, -4.71417159e-01, -2.55076885e-01, -3.75078544e-02,\n",
       "       -3.04599911e-01,  5.58241367e-01, -3.29217732e-01,  9.21592593e-01,\n",
       "       -2.91180521e-01,  1.52032107e-01,  5.44045031e-01,  1.02342352e-01,\n",
       "       -2.70030975e-01,  2.88369626e-01,  1.31835961e+00, -3.04068148e-01,\n",
       "        2.44275451e-01,  1.11458588e+00,  1.76447615e-01, -4.73779649e-01,\n",
       "       -4.10575956e-01,  1.09355927e-01, -8.13187599e-01, -5.28674424e-01,\n",
       "       -1.03518295e+00,  5.57726741e-01, -2.26438105e-01,  2.09963486e-01,\n",
       "       -4.40570652e-01, -2.06565455e-01,  5.65783322e-01, -5.59836626e-02,\n",
       "        2.38340661e-01,  1.16581142e+00, -7.86084533e-02,  2.53843337e-01,\n",
       "        4.43395585e-01, -2.21380576e-01, -5.59089482e-01,  1.54158175e-01,\n",
       "       -3.53043050e-01,  8.94445777e-01,  4.14392859e-01, -3.16102922e-01,\n",
       "        1.27598152e-01, -3.27946454e-01,  1.31549492e-01, -2.97618121e-01,\n",
       "       -3.39543939e-01,  7.28266761e-02,  7.51558363e-01, -2.85486758e-01,\n",
       "       -4.75580126e-01, -4.92517471e-01, -3.21808904e-01, -1.06691706e+00,\n",
       "       -6.68602943e-01, -2.69134313e-01, -1.33725464e-01,  1.44689694e-01,\n",
       "        7.36856818e-01, -1.31074822e+00, -2.96155244e-01,  7.29791343e-01,\n",
       "        1.20618671e-01,  1.24612220e-01, -3.25104654e-01,  5.23486853e-01,\n",
       "       -1.49373725e-01,  1.76793888e-01,  9.10023898e-02, -6.63482785e-01,\n",
       "       -3.74790370e-01,  6.00849569e-01,  5.11391759e-02,  5.79626858e-01,\n",
       "       -1.44782603e-01, -9.34443548e-02,  2.54679888e-01,  6.93978846e-01,\n",
       "       -5.71637392e-01, -2.24726245e-01,  5.49981147e-02,  3.73135030e-01,\n",
       "       -1.33561283e-01, -4.03988391e-01,  1.80512786e-01,  4.12968755e-01,\n",
       "       -3.92633408e-01,  8.11354816e-03, -3.07026505e-01,  2.02868924e-01,\n",
       "       -1.92551851e-01,  1.63405254e-01, -1.52794135e+00,  5.34295022e-01,\n",
       "        1.41566455e-01,  5.55344045e-01,  4.88310874e-01, -8.34706604e-01,\n",
       "        5.62724210e-02,  7.33506799e-01,  7.59266317e-01,  4.17990923e-01,\n",
       "       -2.96922624e-01, -7.62491003e-02,  1.53849453e-01,  4.94789749e-01,\n",
       "        2.66643196e-01,  6.52083516e-01, -6.96103051e-02, -4.06741977e-01,\n",
       "        4.14456636e-01,  4.61408496e-03,  1.01247028e-01,  4.19988275e-01,\n",
       "       -4.48838413e-01, -1.69541702e-01, -1.59063712e-02, -6.88276663e-02,\n",
       "        4.25480425e-01,  6.04322076e-01,  6.70832545e-02, -6.85055137e-01,\n",
       "        1.80359364e-01,  9.79989842e-02,  9.81436521e-02, -9.12163481e-02,\n",
       "        1.64138228e-01,  1.79458410e-01,  2.90872812e-01, -6.04517534e-02,\n",
       "       -6.04076743e-01,  8.95595312e-01,  7.90270209e-01, -2.53473938e-01,\n",
       "       -4.31121081e-01,  3.23781043e-01,  1.11988080e+00, -8.28779340e-01,\n",
       "       -8.59902427e-02,  4.08320159e-01,  2.41561055e-01, -3.02980632e-01,\n",
       "        1.08860880e-01, -1.63467929e-01,  1.38183212e+00,  2.43745804e-01,\n",
       "       -9.28732902e-02, -9.30445969e-01, -6.78589940e-03, -1.97827816e-02,\n",
       "       -5.47165453e-01, -8.32141697e-01,  9.20042321e-02, -9.48696956e-02,\n",
       "       -6.05875015e-01,  1.74832737e+00, -6.30703866e-01, -7.38330007e-01,\n",
       "       -7.01801360e-01,  2.22805560e-01, -1.46133780e-01,  4.38424021e-01,\n",
       "        5.47351539e-01, -8.42964500e-02, -2.84464389e-01, -3.72554474e-02,\n",
       "       -2.18295425e-01,  1.49256289e-01,  3.65077198e-01, -3.03948104e-01,\n",
       "        1.25606847e+00, -2.46368982e-02, -9.25356686e-01, -2.68941104e-01,\n",
       "       -9.76876318e-01,  1.21361864e+00,  1.92929655e-01,  5.19522369e-01,\n",
       "        6.65463567e-01, -6.54400706e-01, -3.15091133e-01, -5.62690258e-01,\n",
       "        3.08838010e-01,  1.24837673e+00,  5.18823981e-01,  9.52079594e-01,\n",
       "        2.40817770e-01, -2.49552935e-01, -6.05365217e-01,  3.75697136e-01,\n",
       "        1.91971913e-01, -2.36023143e-01, -8.59996617e-01,  5.32290041e-01,\n",
       "       -4.32697594e-01, -2.10560203e-01, -2.56018341e-03, -5.63967705e-01,\n",
       "       -2.00918823e-01, -5.84327579e-02, -6.26045823e-01, -4.32798117e-01,\n",
       "       -2.89219528e-01, -2.24037856e-01, -6.83725119e-01,  1.90301985e-03,\n",
       "       -1.24626219e-01,  3.93954039e-01,  3.03281963e-01,  2.44087189e-01,\n",
       "       -1.17784214e+00, -5.36967099e-01,  2.94208258e-01, -1.92133784e-01,\n",
       "       -1.19865254e-01, -7.97324359e-01, -1.07299662e+00,  9.77716982e-01,\n",
       "        1.63400972e+00,  5.15722930e-01, -5.42111754e-01, -1.34532964e+00,\n",
       "       -3.61804098e-01, -1.71784031e+00, -1.30997157e+00, -7.70475388e-01,\n",
       "        5.24942636e-01,  1.40814975e-01,  2.67163277e-01,  1.87295377e-01,\n",
       "       -3.83178711e-01,  9.75858212e-01, -1.60646811e-01, -1.37578338e-01,\n",
       "       -3.01598638e-01, -8.18170071e-01,  3.75776350e-01, -4.59112406e-01,\n",
       "       -8.25376287e-02,  2.50044733e-01,  7.46770352e-02,  2.19693005e-01,\n",
       "       -6.14761233e-01, -1.64796129e-01,  7.14707792e-01,  7.05980361e-01,\n",
       "        2.36728355e-01, -2.23919362e-01, -3.94024849e-01, -6.15794837e-01,\n",
       "       -3.64080936e-01, -1.08623043e-01, -3.41984838e-01,  7.14517832e-02,\n",
       "       -3.25191259e-01,  6.69016421e-01, -1.25297099e-01, -2.41813540e-01,\n",
       "       -3.67520642e+00, -1.62890986e-01, -8.78857449e-02,  8.28097999e-01,\n",
       "       -1.47824869e-01, -2.91072845e-01,  4.58367705e-01, -9.29518268e-02,\n",
       "       -7.22144127e-01,  6.51865751e-02, -5.61847508e-01, -5.07617950e-01,\n",
       "       -2.39298552e-01,  8.11070561e-01,  7.56611049e-01,  8.10907245e-01,\n",
       "       -6.57066405e-01,  6.40616119e-01,  3.65189821e-01,  1.13361585e+00,\n",
       "       -8.93705547e-01, -3.76329362e-01, -4.84114140e-01, -7.27548957e-01,\n",
       "       -4.50016074e-02,  7.21894503e-01, -2.44895592e-01,  3.75648022e-01,\n",
       "       -5.26144922e-01,  4.93868291e-01,  4.82779324e-01, -1.67035639e-01,\n",
       "        4.72233504e-01, -2.66878575e-01, -1.63201317e-01, -2.51553178e-01,\n",
       "        1.16003715e-01, -6.97303489e-02, -1.33597523e-01, -9.71719623e-02,\n",
       "       -4.81025130e-01,  1.14756453e+00,  8.44758749e-01,  5.84820271e-01,\n",
       "        6.17023528e-01, -9.04127657e-02,  3.14926475e-01, -1.29586399e+00,\n",
       "        2.25677699e-01, -2.79903173e-01,  1.58095583e-01, -2.84022272e-01,\n",
       "       -1.11671820e-01,  2.59195954e-01,  3.92313123e-01,  7.37121925e-02,\n",
       "       -3.04193258e-01,  1.21172503e-01,  1.32806376e-01,  9.24644768e-01,\n",
       "       -2.72330046e-01, -8.31817448e-01,  4.77815390e-01,  2.86843449e-01,\n",
       "        4.45512831e-01,  6.39098287e-01, -1.11782420e+00,  4.53645065e-02,\n",
       "        5.19442439e-01, -2.23572195e-01, -2.02843115e-01, -8.22919309e-01,\n",
       "        2.70135731e-01, -1.42206264e+00, -1.22847652e+00, -5.52872419e-01,\n",
       "        4.09677699e-02,  2.97668874e-02, -1.83035675e-02,  6.89926326e-01,\n",
       "       -4.04760063e-01, -1.27272034e+00,  7.36217737e-01,  1.45686060e-01,\n",
       "        8.08719635e-01,  9.49217603e-02, -2.05674857e-01, -2.36755237e-01,\n",
       "       -2.88645208e-01,  3.55650872e-01, -6.52595818e-01,  2.49581605e-01,\n",
       "        8.33890557e-01, -6.11916222e-02, -2.56747544e-01, -1.41467527e-01,\n",
       "       -1.21592030e-01, -6.75487578e-01, -1.43266395e-01,  5.57522178e-02,\n",
       "       -6.01432025e-02, -1.95056181e-02,  3.83107334e-01, -2.56208461e-02,\n",
       "        1.17856115e-01, -7.09203333e-02, -6.35521650e-01,  8.10100138e-01,\n",
       "        4.43107903e-01, -1.91171050e-01,  2.94303387e-01, -2.41097659e-01,\n",
       "        7.40402751e-03, -4.31482852e-01,  4.92304862e-01,  7.53265321e-01,\n",
       "       -5.84120870e-01,  3.81271660e-01, -1.12050414e-01,  5.82437038e-01,\n",
       "       -8.22418928e-02,  2.02931426e-02, -7.40016043e-01, -1.49910009e+00,\n",
       "       -1.90484405e-01, -4.20330077e-01,  4.24048930e-01,  2.54757226e-01,\n",
       "       -1.07600284e+00, -6.37150526e-01, -3.14766616e-01,  2.18554989e-01,\n",
       "        4.74630415e-01, -3.92009705e-01,  7.03100041e-02,  4.09092814e-01,\n",
       "       -1.05942321e+00,  9.15482104e-01,  3.03317457e-01, -2.70391673e-01,\n",
       "        7.05438077e-01,  3.66111875e-01,  5.20870388e-01,  2.38351405e-01,\n",
       "        2.50932783e-01, -3.94180775e-01, -4.17547822e-01, -3.26938629e-01,\n",
       "       -4.35966372e-01,  1.10646658e-01, -2.02814311e-01,  2.17803702e-01,\n",
       "        6.20664656e-01, -5.53966582e-01,  6.77307248e-01, -6.88703775e-01,\n",
       "        3.88848841e-01, -2.10329324e-01,  3.89493406e-01, -7.24263862e-02,\n",
       "       -4.98860329e-02,  1.24812424e-01, -2.56477535e-01, -2.62572497e-01,\n",
       "       -7.89394304e-02,  8.63745093e-01,  1.13594919e-01, -2.67773062e-01,\n",
       "       -2.79583097e-01, -1.89447448e-01,  2.20649689e-01, -4.13753241e-01,\n",
       "        7.91023672e-01, -4.05327111e-01, -4.90386307e-01, -2.33241275e-01,\n",
       "        6.42958283e-01,  4.20456789e-02,  5.35827816e-01,  4.06304061e-01,\n",
       "        4.64846998e-01,  5.77655733e-01,  4.26839590e-01, -6.85449004e-01,\n",
       "        2.34060451e-01,  8.02362561e-01, -1.38324976e-01,  1.08341366e-01,\n",
       "       -8.12589049e-01,  5.86556554e-01, -5.20977229e-02, -2.12423831e-01,\n",
       "       -3.49238932e-01, -1.11048713e-01, -5.58959126e-01,  9.11437869e-02,\n",
       "        3.64887476e-01,  1.56228244e-01,  3.83345097e-01,  3.97122175e-01,\n",
       "       -1.96513489e-01,  3.35685432e-01, -3.56480360e-01,  2.05714941e-01,\n",
       "        3.71651888e-01, -7.93287873e-01,  6.96292460e-01,  3.31303954e-01,\n",
       "        2.31626377e-01,  5.74242115e-01, -1.40959954e+00, -4.36695397e-01,\n",
       "       -1.03235412e+00, -4.97168064e-01,  5.16283989e-01,  2.00747207e-01,\n",
       "        1.45430207e-01, -6.72141835e-03,  8.63002166e-02, -9.53483701e-01,\n",
       "        3.10179472e-01, -2.79664934e-01, -2.45076492e-02,  3.39413702e-01,\n",
       "       -9.44736004e-01, -4.07372236e-01, -3.24587822e-01, -1.28284431e+00,\n",
       "       -1.13517642e+00, -4.99063246e-02, -2.20644414e-01,  4.00070190e-01,\n",
       "       -1.15407243e-01,  6.71684861e-01,  2.44665235e-01, -4.78688389e-01,\n",
       "        4.43704218e-01, -8.12566467e-03,  3.40450794e-01, -5.36673009e-01,\n",
       "       -1.30292714e-01, -4.90331113e-01,  3.86595219e-01, -3.04378092e-01,\n",
       "        3.26518059e-01,  3.25776815e-01,  5.40090561e-01, -1.88066199e-01,\n",
       "        9.21557099e-02,  1.20914295e-01, -1.31002054e-01, -2.81457543e-01,\n",
       "        9.59326327e-03,  2.04865858e-01, -5.01472533e-01, -2.14820150e-02,\n",
       "        1.53604984e-01, -3.40355873e-01,  7.80018941e-02,  8.63746881e-01,\n",
       "        1.18417278e-01, -4.63813394e-02, -3.13871503e-01,  8.66545662e-02,\n",
       "        3.88018191e-02,  7.81480551e-01, -3.17863971e-01, -2.98648179e-02,\n",
       "       -4.04033028e-02, -1.00144848e-01, -1.10071301e+00, -7.93572187e-01,\n",
       "        2.53615797e-01, -8.90356749e-02,  5.04251063e-01,  4.32496309e-01,\n",
       "        3.28935176e-01,  2.16745555e-01, -5.28378427e-01,  2.68884480e-01,\n",
       "        9.58034456e-01,  7.51709998e-01,  2.73769721e-02, -2.76252896e-01,\n",
       "       -7.07202792e-01,  1.30810499e-01, -2.75489211e-01,  6.11376762e-01,\n",
       "        2.82207042e-01,  3.33924532e-01, -1.61099315e-01,  5.05745821e-02,\n",
       "        4.24453199e-01, -1.30780458e+00, -2.69790083e-01,  1.95132509e-01,\n",
       "        4.42166090e-01,  2.09074065e-01,  7.18351454e-02,  3.41738582e-01,\n",
       "       -7.39694059e-01, -3.47006261e-01,  1.16934534e-02,  2.51457363e-01,\n",
       "       -8.59944344e-01, -3.68718132e-02, -3.76019999e-03, -7.13698387e-01,\n",
       "        2.37887919e-01, -1.79479674e-01,  1.21707606e+00,  1.15224674e-01,\n",
       "       -2.14412749e-01, -1.25847995e-01, -4.19714510e-01, -2.47460425e-01,\n",
       "        9.41881895e-01, -8.93824875e-01,  7.73747623e-01,  7.23107755e-01,\n",
       "       -4.86637473e-01, -4.68219340e-01,  3.23379695e-01, -1.28851999e-02,\n",
       "        2.88504571e-01,  3.73584956e-01,  1.05409831e-01, -8.20296332e-02,\n",
       "        3.92008662e-01,  5.38115442e-01,  6.66270494e-01,  3.70364726e-01,\n",
       "        8.92263278e-02,  7.69738972e-01, -4.97282624e-01, -3.07147533e-01,\n",
       "       -3.67301941e-01, -9.12031680e-02,  2.60922432e-01, -1.11595333e-01,\n",
       "        4.56364334e-01,  6.37103975e-01,  6.62055254e-01,  7.09757864e-01,\n",
       "       -3.59257817e-01, -2.12335989e-01, -3.45350176e-01,  4.31254774e-01,\n",
       "       -1.03516102e-01,  7.19183147e-01,  2.89594024e-01, -1.42751515e-01,\n",
       "        2.15666145e-01, -1.22935385e-01, -1.63735688e-01, -2.93409377e-01,\n",
       "        5.16549110e-01,  2.61597276e-01,  3.28944296e-01, -1.63248968e+00,\n",
       "        2.90578157e-01,  7.09852651e-02, -2.48250037e-01, -3.00112329e-02,\n",
       "        8.04675519e-02,  5.99605680e-01,  1.00772858e-01,  3.57239246e-01,\n",
       "       -7.28419572e-02,  2.95906425e-01, -3.09329897e-01, -3.68062377e-01,\n",
       "        1.33984424e-02, -1.08566418e-01,  6.76223755e-01,  8.45013857e-01,\n",
       "       -2.18724668e-01, -5.60695589e-01,  3.39600176e-01,  1.62539631e-02,\n",
       "        6.70283914e-01,  1.56044617e-01,  5.25873899e-01, -2.82927334e-01,\n",
       "        2.18712240e-01,  2.30602533e-01,  2.84502983e-01,  3.33915234e-01,\n",
       "        4.52782303e-01,  7.57418752e-01,  4.54871327e-01, -1.62043303e-01,\n",
       "        9.39362466e-01,  4.04760689e-02,  2.24535555e-01,  1.63486853e-01,\n",
       "       -4.87792760e-01,  2.71765321e-01,  5.61526299e-01, -4.57925230e-01,\n",
       "        3.79879057e-01,  5.53925298e-02,  3.14194769e-01, -9.63153660e-01,\n",
       "        1.75649762e-01, -1.63296461e-02, -6.63630188e-01,  1.63113419e-02,\n",
       "       -1.21606231e+00, -3.07938218e-01,  6.17221892e-01,  5.65585434e-01,\n",
       "       -2.15584129e-01, -1.26625896e-01,  6.47894025e-01,  2.04678774e-01,\n",
       "        7.76569963e-01,  1.84136480e-01, -2.21433148e-01,  3.90088409e-02,\n",
       "       -1.30397841e-01,  1.53006673e-01,  1.54477969e-01,  1.01062000e+00,\n",
       "       -3.24083939e-02, -6.56899959e-02, -9.05650109e-02, -4.82213259e-01,\n",
       "       -8.11943412e-01, -2.64653802e-01, -1.18381470e-01,  1.55850977e-01,\n",
       "        3.76322240e-01, -7.39579141e-01, -1.68272644e-01, -2.23036379e-01,\n",
       "        4.54913601e-02, -3.44450086e-01,  2.26404548e-01, -7.34872147e-02,\n",
       "       -4.64557081e-01,  1.66956902e-01, -3.25739026e-01,  5.88454485e-01,\n",
       "       -3.96948576e+00,  7.87801147e-01, -4.03336644e-01, -1.48774177e-01,\n",
       "       -3.70932221e-01,  6.38067946e-02,  4.67195809e-01, -5.13587117e-01,\n",
       "        4.88711596e-01, -7.29182661e-01, -5.76585710e-01,  2.36383691e-01,\n",
       "        3.33210200e-01, -5.56698479e-02, -2.42267817e-01,  8.66461098e-01],\n",
       "      dtype=float32)>"
      ]
     },
     "execution_count": 49,
     "metadata": {},
     "output_type": "execute_result"
    }
   ],
   "source": [
    "first_sentence = outputs['sequence_output'][0]\n",
    "first_word_in_sentence = first_sentence[1] # recall that first_sentence[0] is the 101 mask\n",
    "first_word_in_sentence # we successfully get the embedding for the word 'set' from the first sentence"
   ]
  },
  {
   "cell_type": "code",
   "execution_count": 50,
   "id": "6aa40e4d",
   "metadata": {
    "execution": {
     "iopub.execute_input": "2023-08-10T14:06:29.364556Z",
     "iopub.status.busy": "2023-08-10T14:06:29.363707Z",
     "iopub.status.idle": "2023-08-10T14:06:29.377097Z",
     "shell.execute_reply": "2023-08-10T14:06:29.375812Z"
    },
    "papermill": {
     "duration": 0.051734,
     "end_time": "2023-08-10T14:06:29.379236",
     "exception": false,
     "start_time": "2023-08-10T14:06:29.327502",
     "status": "completed"
    },
    "tags": []
   },
   "outputs": [
    {
     "name": "stdout",
     "output_type": "stream",
     "text": [
      "Cosine similarity of set from 1st & 2nd sentence [[0.27870232]]\n",
      "Cosine similarity of set from 2nd & 3rd sentence [[0.57417035]]\n"
     ]
    }
   ],
   "source": [
    "set_from_first_sentence = outputs['sequence_output'][0][1] # 'set is an important concept in mathematics'\n",
    "set_from_second_sentence = outputs['sequence_output'][1][5] # 'peter just bought a set of lego'\n",
    "set_from_third_sentence = outputs['sequence_output'][2][4] # 'This is a set of equipments'\n",
    "\n",
    "from sklearn.metrics.pairwise import cosine_similarity\n",
    "\n",
    "print(\"Cosine similarity of set from 1st & 2nd sentence\",cosine_similarity([set_from_first_sentence], [set_from_second_sentence]))\n",
    "print(\"Cosine similarity of set from 2nd & 3rd sentence\",cosine_similarity([set_from_second_sentence], [set_from_third_sentence]))"
   ]
  },
  {
   "cell_type": "markdown",
   "id": "297dee63",
   "metadata": {
    "papermill": {
     "duration": 0.035051,
     "end_time": "2023-08-10T14:06:29.448885",
     "exception": false,
     "start_time": "2023-08-10T14:06:29.413834",
     "status": "completed"
    },
    "tags": []
   },
   "source": [
    "Fascinating isn't it. Even though we have the same word (set) for all the three sentence, **BERT has the ability to understanding contextual meaning and assign different embeddings to the same word in different context**! In this case, we know that the 'set' from 'a set of lego' does indeed have a more similar meaning to the 'set' in 'a set of equipments' than to 'set is an important concept in mathematics'."
   ]
  },
  {
   "cell_type": "markdown",
   "id": "c85e9220",
   "metadata": {
    "papermill": {
     "duration": 0.03421,
     "end_time": "2023-08-10T14:06:29.517952",
     "exception": false,
     "start_time": "2023-08-10T14:06:29.483742",
     "status": "completed"
    },
    "tags": []
   },
   "source": [
    "# <a id=\"summary-2\"></a><div style=\"text-align:center; font-size:40px;\"><span style=\"color:#3A506B\">📝 Short Summary (Part 2.2: Embedding Models) 📝</span></div>"
   ]
  },
  {
   "cell_type": "markdown",
   "id": "d96fbebe",
   "metadata": {
    "papermill": {
     "duration": 0.033485,
     "end_time": "2023-08-10T14:06:29.585220",
     "exception": false,
     "start_time": "2023-08-10T14:06:29.551735",
     "status": "completed"
    },
    "tags": []
   },
   "source": [
    "Let's review what we have learnt in part 2.2: Embedding Models. \n",
    "\n",
    "\n",
    "### 1. [CBOW](#cbow)\n",
    "\n",
    "A deep learning algorithm to generate word embeddings\n",
    "\n",
    "### 2. [SkipGram](#skipgram)\n",
    "\n",
    "A deep learning algorithm similar to CBOW to generate word embeddings\n",
    "\n",
    "### 3. [Word2Vec](#word2vec)\n",
    "\n",
    "Model that involve a family of algorithms including both CBOW and SkipGram to generate word embeddings\n",
    "\n",
    "### 4. [fastText](#fasttext)\n",
    "\n",
    "Model similar to Word2Vec that generate word embeddings\n",
    "\n",
    "### 5. [GloVe](#glove)\n",
    "\n",
    "Another model similar to fastText and Word2Vec but using a different training methology of global matrix factorization to generate word embeddings\n",
    "\n",
    "### 6. [Hugging Face](#huggingface)\n",
    "\n",
    "Open source AI community that offers a lot of awesome resources, including datasets and models for you to use\n",
    "\n",
    "### 7. [BERT](#bert)\n",
    "\n",
    "Powerful NLP model to generate contextualized embeddings for both words and sentences "
   ]
  },
  {
   "cell_type": "markdown",
   "id": "ed419f8f",
   "metadata": {
    "papermill": {
     "duration": 0.035987,
     "end_time": "2023-08-10T14:06:29.654813",
     "exception": false,
     "start_time": "2023-08-10T14:06:29.618826",
     "status": "completed"
    },
    "tags": []
   },
   "source": [
    "# <a id=\"here-is-a-task-for-you\"></a><div style=\"text-align:center; font-size:40px;\"><span style=\"color:#3A506B\">✍ Here is a Task for You ✍</span></div>"
   ]
  },
  {
   "cell_type": "markdown",
   "id": "5cc2da74",
   "metadata": {
    "papermill": {
     "duration": 0.033432,
     "end_time": "2023-08-10T14:06:29.726218",
     "exception": false,
     "start_time": "2023-08-10T14:06:29.692786",
     "status": "completed"
    },
    "tags": []
   },
   "source": [
    "Before we move on to the last part which is a case study, I would like you to use the techniques you have learnt so far and create a seperate notebook to try out the competition: https://www.kaggle.com/competitions/nlp-getting-started\n",
    "\n",
    "I know that I haven't touch anything about building machine learning model yet in this notebook, but this is a challenge for you. To do research and try come up with your own version of NLP model. \n",
    "\n",
    "Here is a lightweighted guideline to give you some directions:\n",
    "\n",
    "import the data ➡ understand and clean the data ➡ preprocess the data ➡ vectorize the data ➡ train your model ➡ make predictions ➡ review your model and make improvements\n",
    "\n",
    "In fact, this is exactly what we have learnt in the first part overview of NLP pipeline.\n",
    "\n",
    "After you have completed your version, you can scroll down to see my version to complete the task, which is in no way the perfect model or a high performance model. But I will try to include as much concepts we have learnt so far in the process as a way of learning. If you want to see what the pros are doing, there are plenty of high performance notebooks out there that you can take notes on."
   ]
  },
  {
   "cell_type": "markdown",
   "id": "6de40052",
   "metadata": {
    "papermill": {
     "duration": 0.033853,
     "end_time": "2023-08-10T14:06:29.793694",
     "exception": false,
     "start_time": "2023-08-10T14:06:29.759841",
     "status": "completed"
    },
    "tags": []
   },
   "source": [
    "# Continue on: **🟣 NLP Beginner Series Part 3: Case Study** \n",
    " https://www.kaggle.com/code/crxxom/nlp-beginner-series-part-3-case-study"
   ]
  },
  {
   "cell_type": "markdown",
   "id": "3a4a5552",
   "metadata": {
    "papermill": {
     "duration": 0.03529,
     "end_time": "2023-08-10T14:06:29.866431",
     "exception": false,
     "start_time": "2023-08-10T14:06:29.831141",
     "status": "completed"
    },
    "tags": []
   },
   "source": [
    "<a id=\"hey-there\"></a><div style=\"text-align:center; font-size:40px;\"><span style=\"color:#3A506B\">👋 Hey there 👋</span></div>"
   ]
  },
  {
   "cell_type": "markdown",
   "id": "353a9f46",
   "metadata": {
    "papermill": {
     "duration": 0.041485,
     "end_time": "2023-08-10T14:06:29.941974",
     "exception": false,
     "start_time": "2023-08-10T14:06:29.900489",
     "status": "completed"
    },
    "tags": []
   },
   "source": [
    "### 🌟 About the Author\n",
    "\n",
    "Hey there, I am an undergraduate majoring in quantitative finance at the Univeristy of Hong Kong. I am a highly motivated person with a huge passion in mathematics and computer science related topics. \n",
    "\n",
    "When I said I am a beginner in the start of the notebook, I am not lying! In fact, I am a self learner in the field of machine learning and natural language processing, and as the moment I am writing this, I have only started my machine learning journey for a couple of months. \n",
    "\n",
    "Although I do not have a lot of experience and knowlegde in the field, I am more than happy to connect and learn/work together in some projects and stuff like that.\n",
    "\n",
    "Do you know Kaggle got discord server? https://discord.gg/kaggle (crxxom) <br>\n",
    "My Linkedin: https://www.linkedin.com/in/jadon-ng-848a48263/\n",
    "\n",
    "### 🌟 Upvote the notebook!\n",
    "\n",
    "If you find the notebook useful, it will be great if you can show some support by upvoting the notebook, it means a lot to me! \n",
    "\n",
    "Also, if you want to make suggestions/corrections to the content of this notebook, don't hesitate to comment your thoughts, I will reply you as soon as possible.\n",
    "\n",
    "One more thing, if you want to share some of your resources/notebooks, comment down your links in the comment section and let us learn! \n",
    "\n",
    "\n",
    "### 🌟 Will there be updates?\n",
    "\n",
    "As in for now, I will only be updating the notebook if there are some incorrect information or if I discover some useful resources to share. "
   ]
  }
 ],
 "metadata": {
  "kernelspec": {
   "display_name": "Python 3",
   "language": "python",
   "name": "python3"
  },
  "language_info": {
   "codemirror_mode": {
    "name": "ipython",
    "version": 3
   },
   "file_extension": ".py",
   "mimetype": "text/x-python",
   "name": "python",
   "nbconvert_exporter": "python",
   "pygments_lexer": "ipython3",
   "version": "3.10.12"
  },
  "papermill": {
   "default_parameters": {},
   "duration": 409.11322,
   "end_time": "2023-08-10T14:06:32.706725",
   "environment_variables": {},
   "exception": null,
   "input_path": "__notebook__.ipynb",
   "output_path": "__notebook__.ipynb",
   "parameters": {},
   "start_time": "2023-08-10T13:59:43.593505",
   "version": "2.4.0"
  },
  "widgets": {
   "application/vnd.jupyter.widget-state+json": {
    "state": {
     "011a922e4dce42caa37717fb99a18041": {
      "model_module": "@jupyter-widgets/base",
      "model_module_version": "1.2.0",
      "model_name": "LayoutModel",
      "state": {
       "_model_module": "@jupyter-widgets/base",
       "_model_module_version": "1.2.0",
       "_model_name": "LayoutModel",
       "_view_count": null,
       "_view_module": "@jupyter-widgets/base",
       "_view_module_version": "1.2.0",
       "_view_name": "LayoutView",
       "align_content": null,
       "align_items": null,
       "align_self": null,
       "border": null,
       "bottom": null,
       "display": null,
       "flex": null,
       "flex_flow": null,
       "grid_area": null,
       "grid_auto_columns": null,
       "grid_auto_flow": null,
       "grid_auto_rows": null,
       "grid_column": null,
       "grid_gap": null,
       "grid_row": null,
       "grid_template_areas": null,
       "grid_template_columns": null,
       "grid_template_rows": null,
       "height": null,
       "justify_content": null,
       "justify_items": null,
       "left": null,
       "margin": null,
       "max_height": null,
       "max_width": null,
       "min_height": null,
       "min_width": null,
       "object_fit": null,
       "object_position": null,
       "order": null,
       "overflow": null,
       "overflow_x": null,
       "overflow_y": null,
       "padding": null,
       "right": null,
       "top": null,
       "visibility": null,
       "width": null
      }
     },
     "034e468a281c4668aaf8655dc787ec7a": {
      "model_module": "@jupyter-widgets/controls",
      "model_module_version": "1.5.0",
      "model_name": "HTMLModel",
      "state": {
       "_dom_classes": [],
       "_model_module": "@jupyter-widgets/controls",
       "_model_module_version": "1.5.0",
       "_model_name": "HTMLModel",
       "_view_count": null,
       "_view_module": "@jupyter-widgets/controls",
       "_view_module_version": "1.5.0",
       "_view_name": "HTMLView",
       "description": "",
       "description_tooltip": null,
       "layout": "IPY_MODEL_5398a5ae764446508a5440022e45de40",
       "placeholder": "​",
       "style": "IPY_MODEL_f428daac3cc14c40ad1032a68c74baba",
       "value": "Downloading (…)in/added_tokens.json: 100%"
      }
     },
     "037c6b24974e42c8a5895bc9c904872d": {
      "model_module": "@jupyter-widgets/base",
      "model_module_version": "1.2.0",
      "model_name": "LayoutModel",
      "state": {
       "_model_module": "@jupyter-widgets/base",
       "_model_module_version": "1.2.0",
       "_model_name": "LayoutModel",
       "_view_count": null,
       "_view_module": "@jupyter-widgets/base",
       "_view_module_version": "1.2.0",
       "_view_name": "LayoutView",
       "align_content": null,
       "align_items": null,
       "align_self": null,
       "border": null,
       "bottom": null,
       "display": null,
       "flex": null,
       "flex_flow": null,
       "grid_area": null,
       "grid_auto_columns": null,
       "grid_auto_flow": null,
       "grid_auto_rows": null,
       "grid_column": null,
       "grid_gap": null,
       "grid_row": null,
       "grid_template_areas": null,
       "grid_template_columns": null,
       "grid_template_rows": null,
       "height": null,
       "justify_content": null,
       "justify_items": null,
       "left": null,
       "margin": null,
       "max_height": null,
       "max_width": null,
       "min_height": null,
       "min_width": null,
       "object_fit": null,
       "object_position": null,
       "order": null,
       "overflow": null,
       "overflow_x": null,
       "overflow_y": null,
       "padding": null,
       "right": null,
       "top": null,
       "visibility": null,
       "width": null
      }
     },
     "04b360978ec24c6f902e514fa726a271": {
      "model_module": "@jupyter-widgets/controls",
      "model_module_version": "1.5.0",
      "model_name": "DescriptionStyleModel",
      "state": {
       "_model_module": "@jupyter-widgets/controls",
       "_model_module_version": "1.5.0",
       "_model_name": "DescriptionStyleModel",
       "_view_count": null,
       "_view_module": "@jupyter-widgets/base",
       "_view_module_version": "1.2.0",
       "_view_name": "StyleView",
       "description_width": ""
      }
     },
     "05245975e339461baab0eabe1430d9c3": {
      "model_module": "@jupyter-widgets/base",
      "model_module_version": "1.2.0",
      "model_name": "LayoutModel",
      "state": {
       "_model_module": "@jupyter-widgets/base",
       "_model_module_version": "1.2.0",
       "_model_name": "LayoutModel",
       "_view_count": null,
       "_view_module": "@jupyter-widgets/base",
       "_view_module_version": "1.2.0",
       "_view_name": "LayoutView",
       "align_content": null,
       "align_items": null,
       "align_self": null,
       "border": null,
       "bottom": null,
       "display": null,
       "flex": null,
       "flex_flow": null,
       "grid_area": null,
       "grid_auto_columns": null,
       "grid_auto_flow": null,
       "grid_auto_rows": null,
       "grid_column": null,
       "grid_gap": null,
       "grid_row": null,
       "grid_template_areas": null,
       "grid_template_columns": null,
       "grid_template_rows": null,
       "height": null,
       "justify_content": null,
       "justify_items": null,
       "left": null,
       "margin": null,
       "max_height": null,
       "max_width": null,
       "min_height": null,
       "min_width": null,
       "object_fit": null,
       "object_position": null,
       "order": null,
       "overflow": null,
       "overflow_x": null,
       "overflow_y": null,
       "padding": null,
       "right": null,
       "top": null,
       "visibility": null,
       "width": null
      }
     },
     "05a90709c454467294f204ea11694f2f": {
      "model_module": "@jupyter-widgets/base",
      "model_module_version": "1.2.0",
      "model_name": "LayoutModel",
      "state": {
       "_model_module": "@jupyter-widgets/base",
       "_model_module_version": "1.2.0",
       "_model_name": "LayoutModel",
       "_view_count": null,
       "_view_module": "@jupyter-widgets/base",
       "_view_module_version": "1.2.0",
       "_view_name": "LayoutView",
       "align_content": null,
       "align_items": null,
       "align_self": null,
       "border": null,
       "bottom": null,
       "display": null,
       "flex": null,
       "flex_flow": null,
       "grid_area": null,
       "grid_auto_columns": null,
       "grid_auto_flow": null,
       "grid_auto_rows": null,
       "grid_column": null,
       "grid_gap": null,
       "grid_row": null,
       "grid_template_areas": null,
       "grid_template_columns": null,
       "grid_template_rows": null,
       "height": null,
       "justify_content": null,
       "justify_items": null,
       "left": null,
       "margin": null,
       "max_height": null,
       "max_width": null,
       "min_height": null,
       "min_width": null,
       "object_fit": null,
       "object_position": null,
       "order": null,
       "overflow": null,
       "overflow_x": null,
       "overflow_y": null,
       "padding": null,
       "right": null,
       "top": null,
       "visibility": null,
       "width": null
      }
     },
     "0876e2a47c774787a790d3ec3604fa76": {
      "model_module": "@jupyter-widgets/controls",
      "model_module_version": "1.5.0",
      "model_name": "HTMLModel",
      "state": {
       "_dom_classes": [],
       "_model_module": "@jupyter-widgets/controls",
       "_model_module_version": "1.5.0",
       "_model_name": "HTMLModel",
       "_view_count": null,
       "_view_module": "@jupyter-widgets/controls",
       "_view_module_version": "1.5.0",
       "_view_name": "HTMLView",
       "description": "",
       "description_tooltip": null,
       "layout": "IPY_MODEL_18c0e59bf2514aae93d39025c2b3acc0",
       "placeholder": "​",
       "style": "IPY_MODEL_e1e4eb03cd99451e82cd6dbaa70e4af6",
       "value": " 1/1 [00:01&lt;00:00,  1.52s/it]"
      }
     },
     "0aeb60b6fbdd49de9cf9ab51e6047676": {
      "model_module": "@jupyter-widgets/controls",
      "model_module_version": "1.5.0",
      "model_name": "HTMLModel",
      "state": {
       "_dom_classes": [],
       "_model_module": "@jupyter-widgets/controls",
       "_model_module_version": "1.5.0",
       "_model_name": "HTMLModel",
       "_view_count": null,
       "_view_module": "@jupyter-widgets/controls",
       "_view_module_version": "1.5.0",
       "_view_name": "HTMLView",
       "description": "",
       "description_tooltip": null,
       "layout": "IPY_MODEL_05a90709c454467294f204ea11694f2f",
       "placeholder": "​",
       "style": "IPY_MODEL_6cca76223e514454a2eace047baa18d6",
       "value": " 1/1 [00:00&lt;00:00, 61.89it/s]"
      }
     },
     "10bec700e3b24618a02291ae3e0da354": {
      "model_module": "@jupyter-widgets/controls",
      "model_module_version": "1.5.0",
      "model_name": "FloatProgressModel",
      "state": {
       "_dom_classes": [],
       "_model_module": "@jupyter-widgets/controls",
       "_model_module_version": "1.5.0",
       "_model_name": "FloatProgressModel",
       "_view_count": null,
       "_view_module": "@jupyter-widgets/controls",
       "_view_module_version": "1.5.0",
       "_view_name": "ProgressView",
       "bar_style": "success",
       "description": "",
       "description_tooltip": null,
       "layout": "IPY_MODEL_b697c2c1586b4308b12424a9617b14b4",
       "max": 1.0,
       "min": 0.0,
       "orientation": "horizontal",
       "style": "IPY_MODEL_b7253880c5234f71a2eb8d492ca233ee",
       "value": 1.0
      }
     },
     "13e27ba8c7654275a6100156d4676c68": {
      "model_module": "@jupyter-widgets/base",
      "model_module_version": "1.2.0",
      "model_name": "LayoutModel",
      "state": {
       "_model_module": "@jupyter-widgets/base",
       "_model_module_version": "1.2.0",
       "_model_name": "LayoutModel",
       "_view_count": null,
       "_view_module": "@jupyter-widgets/base",
       "_view_module_version": "1.2.0",
       "_view_name": "LayoutView",
       "align_content": null,
       "align_items": null,
       "align_self": null,
       "border": null,
       "bottom": null,
       "display": null,
       "flex": null,
       "flex_flow": null,
       "grid_area": null,
       "grid_auto_columns": null,
       "grid_auto_flow": null,
       "grid_auto_rows": null,
       "grid_column": null,
       "grid_gap": null,
       "grid_row": null,
       "grid_template_areas": null,
       "grid_template_columns": null,
       "grid_template_rows": null,
       "height": null,
       "justify_content": null,
       "justify_items": null,
       "left": null,
       "margin": null,
       "max_height": null,
       "max_width": null,
       "min_height": null,
       "min_width": null,
       "object_fit": null,
       "object_position": null,
       "order": null,
       "overflow": null,
       "overflow_x": null,
       "overflow_y": null,
       "padding": null,
       "right": null,
       "top": null,
       "visibility": null,
       "width": null
      }
     },
     "14d9f8287fda4e1a844788885c2d3879": {
      "model_module": "@jupyter-widgets/base",
      "model_module_version": "1.2.0",
      "model_name": "LayoutModel",
      "state": {
       "_model_module": "@jupyter-widgets/base",
       "_model_module_version": "1.2.0",
       "_model_name": "LayoutModel",
       "_view_count": null,
       "_view_module": "@jupyter-widgets/base",
       "_view_module_version": "1.2.0",
       "_view_name": "LayoutView",
       "align_content": null,
       "align_items": null,
       "align_self": null,
       "border": null,
       "bottom": null,
       "display": null,
       "flex": null,
       "flex_flow": null,
       "grid_area": null,
       "grid_auto_columns": null,
       "grid_auto_flow": null,
       "grid_auto_rows": null,
       "grid_column": null,
       "grid_gap": null,
       "grid_row": null,
       "grid_template_areas": null,
       "grid_template_columns": null,
       "grid_template_rows": null,
       "height": null,
       "justify_content": null,
       "justify_items": null,
       "left": null,
       "margin": null,
       "max_height": null,
       "max_width": null,
       "min_height": null,
       "min_width": null,
       "object_fit": null,
       "object_position": null,
       "order": null,
       "overflow": null,
       "overflow_x": null,
       "overflow_y": null,
       "padding": null,
       "right": null,
       "top": null,
       "visibility": null,
       "width": null
      }
     },
     "1879449563b7433ea281ccabe0e19e9f": {
      "model_module": "@jupyter-widgets/controls",
      "model_module_version": "1.5.0",
      "model_name": "DescriptionStyleModel",
      "state": {
       "_model_module": "@jupyter-widgets/controls",
       "_model_module_version": "1.5.0",
       "_model_name": "DescriptionStyleModel",
       "_view_count": null,
       "_view_module": "@jupyter-widgets/base",
       "_view_module_version": "1.2.0",
       "_view_name": "StyleView",
       "description_width": ""
      }
     },
     "18c0e59bf2514aae93d39025c2b3acc0": {
      "model_module": "@jupyter-widgets/base",
      "model_module_version": "1.2.0",
      "model_name": "LayoutModel",
      "state": {
       "_model_module": "@jupyter-widgets/base",
       "_model_module_version": "1.2.0",
       "_model_name": "LayoutModel",
       "_view_count": null,
       "_view_module": "@jupyter-widgets/base",
       "_view_module_version": "1.2.0",
       "_view_name": "LayoutView",
       "align_content": null,
       "align_items": null,
       "align_self": null,
       "border": null,
       "bottom": null,
       "display": null,
       "flex": null,
       "flex_flow": null,
       "grid_area": null,
       "grid_auto_columns": null,
       "grid_auto_flow": null,
       "grid_auto_rows": null,
       "grid_column": null,
       "grid_gap": null,
       "grid_row": null,
       "grid_template_areas": null,
       "grid_template_columns": null,
       "grid_template_rows": null,
       "height": null,
       "justify_content": null,
       "justify_items": null,
       "left": null,
       "margin": null,
       "max_height": null,
       "max_width": null,
       "min_height": null,
       "min_width": null,
       "object_fit": null,
       "object_position": null,
       "order": null,
       "overflow": null,
       "overflow_x": null,
       "overflow_y": null,
       "padding": null,
       "right": null,
       "top": null,
       "visibility": null,
       "width": null
      }
     },
     "1baaeaa70b5f47b8a2467c7345aa28c8": {
      "model_module": "@jupyter-widgets/controls",
      "model_module_version": "1.5.0",
      "model_name": "HTMLModel",
      "state": {
       "_dom_classes": [],
       "_model_module": "@jupyter-widgets/controls",
       "_model_module_version": "1.5.0",
       "_model_name": "HTMLModel",
       "_view_count": null,
       "_view_module": "@jupyter-widgets/controls",
       "_view_module_version": "1.5.0",
       "_view_name": "HTMLView",
       "description": "",
       "description_tooltip": null,
       "layout": "IPY_MODEL_9bafe89d23fb485a8323eb8bdfa8ed3d",
       "placeholder": "​",
       "style": "IPY_MODEL_1f2b66571cff499097873156b7c67b34",
       "value": "Downloading data: 100%"
      }
     },
     "1ecf08479e2a42a888e07b115af82fdf": {
      "model_module": "@jupyter-widgets/base",
      "model_module_version": "1.2.0",
      "model_name": "LayoutModel",
      "state": {
       "_model_module": "@jupyter-widgets/base",
       "_model_module_version": "1.2.0",
       "_model_name": "LayoutModel",
       "_view_count": null,
       "_view_module": "@jupyter-widgets/base",
       "_view_module_version": "1.2.0",
       "_view_name": "LayoutView",
       "align_content": null,
       "align_items": null,
       "align_self": null,
       "border": null,
       "bottom": null,
       "display": null,
       "flex": null,
       "flex_flow": null,
       "grid_area": null,
       "grid_auto_columns": null,
       "grid_auto_flow": null,
       "grid_auto_rows": null,
       "grid_column": null,
       "grid_gap": null,
       "grid_row": null,
       "grid_template_areas": null,
       "grid_template_columns": null,
       "grid_template_rows": null,
       "height": null,
       "justify_content": null,
       "justify_items": null,
       "left": null,
       "margin": null,
       "max_height": null,
       "max_width": null,
       "min_height": null,
       "min_width": null,
       "object_fit": null,
       "object_position": null,
       "order": null,
       "overflow": null,
       "overflow_x": null,
       "overflow_y": null,
       "padding": null,
       "right": null,
       "top": null,
       "visibility": null,
       "width": null
      }
     },
     "1f2b66571cff499097873156b7c67b34": {
      "model_module": "@jupyter-widgets/controls",
      "model_module_version": "1.5.0",
      "model_name": "DescriptionStyleModel",
      "state": {
       "_model_module": "@jupyter-widgets/controls",
       "_model_module_version": "1.5.0",
       "_model_name": "DescriptionStyleModel",
       "_view_count": null,
       "_view_module": "@jupyter-widgets/base",
       "_view_module_version": "1.2.0",
       "_view_name": "StyleView",
       "description_width": ""
      }
     },
     "1f63f484906447d9a76430b5a66136a7": {
      "model_module": "@jupyter-widgets/controls",
      "model_module_version": "1.5.0",
      "model_name": "DescriptionStyleModel",
      "state": {
       "_model_module": "@jupyter-widgets/controls",
       "_model_module_version": "1.5.0",
       "_model_name": "DescriptionStyleModel",
       "_view_count": null,
       "_view_module": "@jupyter-widgets/base",
       "_view_module_version": "1.2.0",
       "_view_name": "StyleView",
       "description_width": ""
      }
     },
     "20fe5383504f438d97811d865ec074f9": {
      "model_module": "@jupyter-widgets/controls",
      "model_module_version": "1.5.0",
      "model_name": "DescriptionStyleModel",
      "state": {
       "_model_module": "@jupyter-widgets/controls",
       "_model_module_version": "1.5.0",
       "_model_name": "DescriptionStyleModel",
       "_view_count": null,
       "_view_module": "@jupyter-widgets/base",
       "_view_module_version": "1.2.0",
       "_view_name": "StyleView",
       "description_width": ""
      }
     },
     "213a4305e02b43fa8a0e487437ea9618": {
      "model_module": "@jupyter-widgets/controls",
      "model_module_version": "1.5.0",
      "model_name": "HTMLModel",
      "state": {
       "_dom_classes": [],
       "_model_module": "@jupyter-widgets/controls",
       "_model_module_version": "1.5.0",
       "_model_name": "HTMLModel",
       "_view_count": null,
       "_view_module": "@jupyter-widgets/controls",
       "_view_module_version": "1.5.0",
       "_view_name": "HTMLView",
       "description": "",
       "description_tooltip": null,
       "layout": "IPY_MODEL_5abe8908fd98412fb4f203956b0ae23d",
       "placeholder": "​",
       "style": "IPY_MODEL_c2f3146dda8540439c15d5ce9157972d",
       "value": "Downloading (…)lve/main/config.json: 100%"
      }
     },
     "21d98a5573c24da693680f60dbda799d": {
      "model_module": "@jupyter-widgets/controls",
      "model_module_version": "1.5.0",
      "model_name": "HTMLModel",
      "state": {
       "_dom_classes": [],
       "_model_module": "@jupyter-widgets/controls",
       "_model_module_version": "1.5.0",
       "_model_name": "HTMLModel",
       "_view_count": null,
       "_view_module": "@jupyter-widgets/controls",
       "_view_module_version": "1.5.0",
       "_view_name": "HTMLView",
       "description": "",
       "description_tooltip": null,
       "layout": "IPY_MODEL_bbb0eab3e78545faa4c624270c9a68c9",
       "placeholder": "​",
       "style": "IPY_MODEL_8ed6b6ff61444023a29ebd385a66ad72",
       "value": "Downloading (…)solve/main/vocab.txt: 100%"
      }
     },
     "22b9e91b7af84028bdd88c3b794d153f": {
      "model_module": "@jupyter-widgets/controls",
      "model_module_version": "1.5.0",
      "model_name": "DescriptionStyleModel",
      "state": {
       "_model_module": "@jupyter-widgets/controls",
       "_model_module_version": "1.5.0",
       "_model_name": "DescriptionStyleModel",
       "_view_count": null,
       "_view_module": "@jupyter-widgets/base",
       "_view_module_version": "1.2.0",
       "_view_name": "StyleView",
       "description_width": ""
      }
     },
     "235428b494a748999fccca3a591581dc": {
      "model_module": "@jupyter-widgets/controls",
      "model_module_version": "1.5.0",
      "model_name": "HTMLModel",
      "state": {
       "_dom_classes": [],
       "_model_module": "@jupyter-widgets/controls",
       "_model_module_version": "1.5.0",
       "_model_name": "HTMLModel",
       "_view_count": null,
       "_view_module": "@jupyter-widgets/controls",
       "_view_module_version": "1.5.0",
       "_view_name": "HTMLView",
       "description": "",
       "description_tooltip": null,
       "layout": "IPY_MODEL_6d29f9b68dc2442a9bdf073aad969cd2",
       "placeholder": "​",
       "style": "IPY_MODEL_1f63f484906447d9a76430b5a66136a7",
       "value": " 33.1M/33.1M [00:00&lt;00:00, 77.3MB/s]"
      }
     },
     "23e18821af0f4e73a25fe0e99a672eb9": {
      "model_module": "@jupyter-widgets/controls",
      "model_module_version": "1.5.0",
      "model_name": "FloatProgressModel",
      "state": {
       "_dom_classes": [],
       "_model_module": "@jupyter-widgets/controls",
       "_model_module_version": "1.5.0",
       "_model_name": "FloatProgressModel",
       "_view_count": null,
       "_view_module": "@jupyter-widgets/controls",
       "_view_module_version": "1.5.0",
       "_view_name": "ProgressView",
       "bar_style": "success",
       "description": "",
       "description_tooltip": null,
       "layout": "IPY_MODEL_cdc134a8a6e3411ab32da89e7934a2e9",
       "max": 1.0,
       "min": 0.0,
       "orientation": "horizontal",
       "style": "IPY_MODEL_d11df341c1d942cd9f24ed4783026213",
       "value": 1.0
      }
     },
     "244c4a7cdb014197b266c349beda4d40": {
      "model_module": "@jupyter-widgets/base",
      "model_module_version": "1.2.0",
      "model_name": "LayoutModel",
      "state": {
       "_model_module": "@jupyter-widgets/base",
       "_model_module_version": "1.2.0",
       "_model_name": "LayoutModel",
       "_view_count": null,
       "_view_module": "@jupyter-widgets/base",
       "_view_module_version": "1.2.0",
       "_view_name": "LayoutView",
       "align_content": null,
       "align_items": null,
       "align_self": null,
       "border": null,
       "bottom": null,
       "display": null,
       "flex": null,
       "flex_flow": null,
       "grid_area": null,
       "grid_auto_columns": null,
       "grid_auto_flow": null,
       "grid_auto_rows": null,
       "grid_column": null,
       "grid_gap": null,
       "grid_row": null,
       "grid_template_areas": null,
       "grid_template_columns": null,
       "grid_template_rows": null,
       "height": null,
       "justify_content": null,
       "justify_items": null,
       "left": null,
       "margin": null,
       "max_height": null,
       "max_width": null,
       "min_height": null,
       "min_width": null,
       "object_fit": null,
       "object_position": null,
       "order": null,
       "overflow": null,
       "overflow_x": null,
       "overflow_y": null,
       "padding": null,
       "right": null,
       "top": null,
       "visibility": null,
       "width": null
      }
     },
     "25b6f33389224589b881bbe5e1a7e833": {
      "model_module": "@jupyter-widgets/base",
      "model_module_version": "1.2.0",
      "model_name": "LayoutModel",
      "state": {
       "_model_module": "@jupyter-widgets/base",
       "_model_module_version": "1.2.0",
       "_model_name": "LayoutModel",
       "_view_count": null,
       "_view_module": "@jupyter-widgets/base",
       "_view_module_version": "1.2.0",
       "_view_name": "LayoutView",
       "align_content": null,
       "align_items": null,
       "align_self": null,
       "border": null,
       "bottom": null,
       "display": null,
       "flex": null,
       "flex_flow": null,
       "grid_area": null,
       "grid_auto_columns": null,
       "grid_auto_flow": null,
       "grid_auto_rows": null,
       "grid_column": null,
       "grid_gap": null,
       "grid_row": null,
       "grid_template_areas": null,
       "grid_template_columns": null,
       "grid_template_rows": null,
       "height": null,
       "justify_content": null,
       "justify_items": null,
       "left": null,
       "margin": null,
       "max_height": null,
       "max_width": null,
       "min_height": null,
       "min_width": null,
       "object_fit": null,
       "object_position": null,
       "order": null,
       "overflow": null,
       "overflow_x": null,
       "overflow_y": null,
       "padding": null,
       "right": null,
       "top": null,
       "visibility": null,
       "width": null
      }
     },
     "275d867b3f7041feb282800eb1f85ac7": {
      "model_module": "@jupyter-widgets/controls",
      "model_module_version": "1.5.0",
      "model_name": "HTMLModel",
      "state": {
       "_dom_classes": [],
       "_model_module": "@jupyter-widgets/controls",
       "_model_module_version": "1.5.0",
       "_model_name": "HTMLModel",
       "_view_count": null,
       "_view_module": "@jupyter-widgets/controls",
       "_view_module_version": "1.5.0",
       "_view_name": "HTMLView",
       "description": "",
       "description_tooltip": null,
       "layout": "IPY_MODEL_c8fac451aa464b43b837f64cac5291d0",
       "placeholder": "​",
       "style": "IPY_MODEL_1879449563b7433ea281ccabe0e19e9f",
       "value": " 1.08M/1.08M [00:00&lt;00:00, 3.25MB/s]"
      }
     },
     "287279d2bc9b4e15948e630c2803e073": {
      "model_module": "@jupyter-widgets/controls",
      "model_module_version": "1.5.0",
      "model_name": "DescriptionStyleModel",
      "state": {
       "_model_module": "@jupyter-widgets/controls",
       "_model_module_version": "1.5.0",
       "_model_name": "DescriptionStyleModel",
       "_view_count": null,
       "_view_module": "@jupyter-widgets/base",
       "_view_module_version": "1.2.0",
       "_view_name": "StyleView",
       "description_width": ""
      }
     },
     "2b8e3197687e4c6d8261de921c85e934": {
      "model_module": "@jupyter-widgets/controls",
      "model_module_version": "1.5.0",
      "model_name": "HBoxModel",
      "state": {
       "_dom_classes": [],
       "_model_module": "@jupyter-widgets/controls",
       "_model_module_version": "1.5.0",
       "_model_name": "HBoxModel",
       "_view_count": null,
       "_view_module": "@jupyter-widgets/controls",
       "_view_module_version": "1.5.0",
       "_view_name": "HBoxView",
       "box_style": "",
       "children": [
        "IPY_MODEL_9edcbfdf79354760964b53192fe48c96",
        "IPY_MODEL_9e4cca813abc4c15a837c7cff4a7b7c9",
        "IPY_MODEL_bfd997bb8cfd4f7d972dbac62ed9c0df"
       ],
       "layout": "IPY_MODEL_d3a6e71187834d578ce0b0d439b88d7a"
      }
     },
     "3098259ca32344c4a92455b4ff09e03f": {
      "model_module": "@jupyter-widgets/controls",
      "model_module_version": "1.5.0",
      "model_name": "HTMLModel",
      "state": {
       "_dom_classes": [],
       "_model_module": "@jupyter-widgets/controls",
       "_model_module_version": "1.5.0",
       "_model_name": "HTMLModel",
       "_view_count": null,
       "_view_module": "@jupyter-widgets/controls",
       "_view_module_version": "1.5.0",
       "_view_name": "HTMLView",
       "description": "",
       "description_tooltip": null,
       "layout": "IPY_MODEL_25b6f33389224589b881bbe5e1a7e833",
       "placeholder": "​",
       "style": "IPY_MODEL_20fe5383504f438d97811d865ec074f9",
       "value": " 1/1 [00:00&lt;00:00, 54.33it/s]"
      }
     },
     "30f4227a41c1457fb3147b97a4d0b74f": {
      "model_module": "@jupyter-widgets/controls",
      "model_module_version": "1.5.0",
      "model_name": "ProgressStyleModel",
      "state": {
       "_model_module": "@jupyter-widgets/controls",
       "_model_module_version": "1.5.0",
       "_model_name": "ProgressStyleModel",
       "_view_count": null,
       "_view_module": "@jupyter-widgets/base",
       "_view_module_version": "1.2.0",
       "_view_name": "StyleView",
       "bar_color": null,
       "description_width": ""
      }
     },
     "30fba3cdec3243b0851a8153095849f2": {
      "model_module": "@jupyter-widgets/controls",
      "model_module_version": "1.5.0",
      "model_name": "FloatProgressModel",
      "state": {
       "_dom_classes": [],
       "_model_module": "@jupyter-widgets/controls",
       "_model_module_version": "1.5.0",
       "_model_name": "FloatProgressModel",
       "_view_count": null,
       "_view_module": "@jupyter-widgets/controls",
       "_view_module_version": "1.5.0",
       "_view_name": "ProgressView",
       "bar_style": "success",
       "description": "",
       "description_tooltip": null,
       "layout": "IPY_MODEL_aedde658e9914b35b2726cab0b8fcbcb",
       "max": 22.0,
       "min": 0.0,
       "orientation": "horizontal",
       "style": "IPY_MODEL_ba9f35be269f486b9a6499c2d4146de0",
       "value": 22.0
      }
     },
     "369bb1ba12dc4c0d88631cc79dffa983": {
      "model_module": "@jupyter-widgets/base",
      "model_module_version": "1.2.0",
      "model_name": "LayoutModel",
      "state": {
       "_model_module": "@jupyter-widgets/base",
       "_model_module_version": "1.2.0",
       "_model_name": "LayoutModel",
       "_view_count": null,
       "_view_module": "@jupyter-widgets/base",
       "_view_module_version": "1.2.0",
       "_view_name": "LayoutView",
       "align_content": null,
       "align_items": null,
       "align_self": null,
       "border": null,
       "bottom": null,
       "display": null,
       "flex": null,
       "flex_flow": null,
       "grid_area": null,
       "grid_auto_columns": null,
       "grid_auto_flow": null,
       "grid_auto_rows": null,
       "grid_column": null,
       "grid_gap": null,
       "grid_row": null,
       "grid_template_areas": null,
       "grid_template_columns": null,
       "grid_template_rows": null,
       "height": null,
       "justify_content": null,
       "justify_items": null,
       "left": null,
       "margin": null,
       "max_height": null,
       "max_width": null,
       "min_height": null,
       "min_width": null,
       "object_fit": null,
       "object_position": null,
       "order": null,
       "overflow": null,
       "overflow_x": null,
       "overflow_y": null,
       "padding": null,
       "right": null,
       "top": null,
       "visibility": null,
       "width": null
      }
     },
     "3cc44e0827cd4eff86e63a1daf973201": {
      "model_module": "@jupyter-widgets/base",
      "model_module_version": "1.2.0",
      "model_name": "LayoutModel",
      "state": {
       "_model_module": "@jupyter-widgets/base",
       "_model_module_version": "1.2.0",
       "_model_name": "LayoutModel",
       "_view_count": null,
       "_view_module": "@jupyter-widgets/base",
       "_view_module_version": "1.2.0",
       "_view_name": "LayoutView",
       "align_content": null,
       "align_items": null,
       "align_self": null,
       "border": null,
       "bottom": null,
       "display": null,
       "flex": null,
       "flex_flow": null,
       "grid_area": null,
       "grid_auto_columns": null,
       "grid_auto_flow": null,
       "grid_auto_rows": null,
       "grid_column": null,
       "grid_gap": null,
       "grid_row": null,
       "grid_template_areas": null,
       "grid_template_columns": null,
       "grid_template_rows": null,
       "height": null,
       "justify_content": null,
       "justify_items": null,
       "left": null,
       "margin": null,
       "max_height": null,
       "max_width": null,
       "min_height": null,
       "min_width": null,
       "object_fit": null,
       "object_position": null,
       "order": null,
       "overflow": null,
       "overflow_x": null,
       "overflow_y": null,
       "padding": null,
       "right": null,
       "top": null,
       "visibility": null,
       "width": null
      }
     },
     "3e5a76424d564410b6835390155d0197": {
      "model_module": "@jupyter-widgets/base",
      "model_module_version": "1.2.0",
      "model_name": "LayoutModel",
      "state": {
       "_model_module": "@jupyter-widgets/base",
       "_model_module_version": "1.2.0",
       "_model_name": "LayoutModel",
       "_view_count": null,
       "_view_module": "@jupyter-widgets/base",
       "_view_module_version": "1.2.0",
       "_view_name": "LayoutView",
       "align_content": null,
       "align_items": null,
       "align_self": null,
       "border": null,
       "bottom": null,
       "display": null,
       "flex": null,
       "flex_flow": null,
       "grid_area": null,
       "grid_auto_columns": null,
       "grid_auto_flow": null,
       "grid_auto_rows": null,
       "grid_column": null,
       "grid_gap": null,
       "grid_row": null,
       "grid_template_areas": null,
       "grid_template_columns": null,
       "grid_template_rows": null,
       "height": null,
       "justify_content": null,
       "justify_items": null,
       "left": null,
       "margin": null,
       "max_height": null,
       "max_width": null,
       "min_height": null,
       "min_width": null,
       "object_fit": null,
       "object_position": null,
       "order": null,
       "overflow": null,
       "overflow_x": null,
       "overflow_y": null,
       "padding": null,
       "right": null,
       "top": null,
       "visibility": null,
       "width": null
      }
     },
     "43ce093989f94a2296900970e5252a10": {
      "model_module": "@jupyter-widgets/controls",
      "model_module_version": "1.5.0",
      "model_name": "DescriptionStyleModel",
      "state": {
       "_model_module": "@jupyter-widgets/controls",
       "_model_module_version": "1.5.0",
       "_model_name": "DescriptionStyleModel",
       "_view_count": null,
       "_view_module": "@jupyter-widgets/base",
       "_view_module_version": "1.2.0",
       "_view_name": "StyleView",
       "description_width": ""
      }
     },
     "5398a5ae764446508a5440022e45de40": {
      "model_module": "@jupyter-widgets/base",
      "model_module_version": "1.2.0",
      "model_name": "LayoutModel",
      "state": {
       "_model_module": "@jupyter-widgets/base",
       "_model_module_version": "1.2.0",
       "_model_name": "LayoutModel",
       "_view_count": null,
       "_view_module": "@jupyter-widgets/base",
       "_view_module_version": "1.2.0",
       "_view_name": "LayoutView",
       "align_content": null,
       "align_items": null,
       "align_self": null,
       "border": null,
       "bottom": null,
       "display": null,
       "flex": null,
       "flex_flow": null,
       "grid_area": null,
       "grid_auto_columns": null,
       "grid_auto_flow": null,
       "grid_auto_rows": null,
       "grid_column": null,
       "grid_gap": null,
       "grid_row": null,
       "grid_template_areas": null,
       "grid_template_columns": null,
       "grid_template_rows": null,
       "height": null,
       "justify_content": null,
       "justify_items": null,
       "left": null,
       "margin": null,
       "max_height": null,
       "max_width": null,
       "min_height": null,
       "min_width": null,
       "object_fit": null,
       "object_position": null,
       "order": null,
       "overflow": null,
       "overflow_x": null,
       "overflow_y": null,
       "padding": null,
       "right": null,
       "top": null,
       "visibility": null,
       "width": null
      }
     },
     "584dc4f4c76644138527e85eea5e2507": {
      "model_module": "@jupyter-widgets/controls",
      "model_module_version": "1.5.0",
      "model_name": "ProgressStyleModel",
      "state": {
       "_model_module": "@jupyter-widgets/controls",
       "_model_module_version": "1.5.0",
       "_model_name": "ProgressStyleModel",
       "_view_count": null,
       "_view_module": "@jupyter-widgets/base",
       "_view_module_version": "1.2.0",
       "_view_name": "StyleView",
       "bar_color": null,
       "description_width": ""
      }
     },
     "5aa9b684c9ec4955bd77291d2aea8591": {
      "model_module": "@jupyter-widgets/controls",
      "model_module_version": "1.5.0",
      "model_name": "HTMLModel",
      "state": {
       "_dom_classes": [],
       "_model_module": "@jupyter-widgets/controls",
       "_model_module_version": "1.5.0",
       "_model_name": "HTMLModel",
       "_view_count": null,
       "_view_module": "@jupyter-widgets/controls",
       "_view_module_version": "1.5.0",
       "_view_name": "HTMLView",
       "description": "",
       "description_tooltip": null,
       "layout": "IPY_MODEL_fa7c50b4fa544a8cb60fe64aefa14acd",
       "placeholder": "​",
       "style": "IPY_MODEL_cd9f650c026a49dba68b8d6be2da6725",
       "value": "Downloading data files: 100%"
      }
     },
     "5abe8908fd98412fb4f203956b0ae23d": {
      "model_module": "@jupyter-widgets/base",
      "model_module_version": "1.2.0",
      "model_name": "LayoutModel",
      "state": {
       "_model_module": "@jupyter-widgets/base",
       "_model_module_version": "1.2.0",
       "_model_name": "LayoutModel",
       "_view_count": null,
       "_view_module": "@jupyter-widgets/base",
       "_view_module_version": "1.2.0",
       "_view_name": "LayoutView",
       "align_content": null,
       "align_items": null,
       "align_self": null,
       "border": null,
       "bottom": null,
       "display": null,
       "flex": null,
       "flex_flow": null,
       "grid_area": null,
       "grid_auto_columns": null,
       "grid_auto_flow": null,
       "grid_auto_rows": null,
       "grid_column": null,
       "grid_gap": null,
       "grid_row": null,
       "grid_template_areas": null,
       "grid_template_columns": null,
       "grid_template_rows": null,
       "height": null,
       "justify_content": null,
       "justify_items": null,
       "left": null,
       "margin": null,
       "max_height": null,
       "max_width": null,
       "min_height": null,
       "min_width": null,
       "object_fit": null,
       "object_position": null,
       "order": null,
       "overflow": null,
       "overflow_x": null,
       "overflow_y": null,
       "padding": null,
       "right": null,
       "top": null,
       "visibility": null,
       "width": null
      }
     },
     "5f3286f7283d48c588d25aa3133e4b11": {
      "model_module": "@jupyter-widgets/base",
      "model_module_version": "1.2.0",
      "model_name": "LayoutModel",
      "state": {
       "_model_module": "@jupyter-widgets/base",
       "_model_module_version": "1.2.0",
       "_model_name": "LayoutModel",
       "_view_count": null,
       "_view_module": "@jupyter-widgets/base",
       "_view_module_version": "1.2.0",
       "_view_name": "LayoutView",
       "align_content": null,
       "align_items": null,
       "align_self": null,
       "border": null,
       "bottom": null,
       "display": null,
       "flex": null,
       "flex_flow": null,
       "grid_area": null,
       "grid_auto_columns": null,
       "grid_auto_flow": null,
       "grid_auto_rows": null,
       "grid_column": null,
       "grid_gap": null,
       "grid_row": null,
       "grid_template_areas": null,
       "grid_template_columns": null,
       "grid_template_rows": null,
       "height": null,
       "justify_content": null,
       "justify_items": null,
       "left": null,
       "margin": null,
       "max_height": null,
       "max_width": null,
       "min_height": null,
       "min_width": null,
       "object_fit": null,
       "object_position": null,
       "order": null,
       "overflow": null,
       "overflow_x": null,
       "overflow_y": null,
       "padding": null,
       "right": null,
       "top": null,
       "visibility": null,
       "width": null
      }
     },
     "612c6ec3cf0b446582de20eed419939f": {
      "model_module": "@jupyter-widgets/controls",
      "model_module_version": "1.5.0",
      "model_name": "ProgressStyleModel",
      "state": {
       "_model_module": "@jupyter-widgets/controls",
       "_model_module_version": "1.5.0",
       "_model_name": "ProgressStyleModel",
       "_view_count": null,
       "_view_module": "@jupyter-widgets/base",
       "_view_module_version": "1.2.0",
       "_view_name": "StyleView",
       "bar_color": null,
       "description_width": ""
      }
     },
     "61c0fa0cf60b4664b0fd9b18ef96ced0": {
      "model_module": "@jupyter-widgets/controls",
      "model_module_version": "1.5.0",
      "model_name": "FloatProgressModel",
      "state": {
       "_dom_classes": [],
       "_model_module": "@jupyter-widgets/controls",
       "_model_module_version": "1.5.0",
       "_model_name": "FloatProgressModel",
       "_view_count": null,
       "_view_module": "@jupyter-widgets/controls",
       "_view_module_version": "1.5.0",
       "_view_name": "ProgressView",
       "bar_style": "success",
       "description": "",
       "description_tooltip": null,
       "layout": "IPY_MODEL_037c6b24974e42c8a5895bc9c904872d",
       "max": 1.0,
       "min": 0.0,
       "orientation": "horizontal",
       "style": "IPY_MODEL_584dc4f4c76644138527e85eea5e2507",
       "value": 1.0
      }
     },
     "65e47e5271224e39bd2a34696139001c": {
      "model_module": "@jupyter-widgets/base",
      "model_module_version": "1.2.0",
      "model_name": "LayoutModel",
      "state": {
       "_model_module": "@jupyter-widgets/base",
       "_model_module_version": "1.2.0",
       "_model_name": "LayoutModel",
       "_view_count": null,
       "_view_module": "@jupyter-widgets/base",
       "_view_module_version": "1.2.0",
       "_view_name": "LayoutView",
       "align_content": null,
       "align_items": null,
       "align_self": null,
       "border": null,
       "bottom": null,
       "display": null,
       "flex": null,
       "flex_flow": null,
       "grid_area": null,
       "grid_auto_columns": null,
       "grid_auto_flow": null,
       "grid_auto_rows": null,
       "grid_column": null,
       "grid_gap": null,
       "grid_row": null,
       "grid_template_areas": null,
       "grid_template_columns": null,
       "grid_template_rows": null,
       "height": null,
       "justify_content": null,
       "justify_items": null,
       "left": null,
       "margin": null,
       "max_height": null,
       "max_width": null,
       "min_height": null,
       "min_width": null,
       "object_fit": null,
       "object_position": null,
       "order": null,
       "overflow": null,
       "overflow_x": null,
       "overflow_y": null,
       "padding": null,
       "right": null,
       "top": null,
       "visibility": null,
       "width": null
      }
     },
     "689e940db0514db0ba5efbdd99f3fa49": {
      "model_module": "@jupyter-widgets/base",
      "model_module_version": "1.2.0",
      "model_name": "LayoutModel",
      "state": {
       "_model_module": "@jupyter-widgets/base",
       "_model_module_version": "1.2.0",
       "_model_name": "LayoutModel",
       "_view_count": null,
       "_view_module": "@jupyter-widgets/base",
       "_view_module_version": "1.2.0",
       "_view_name": "LayoutView",
       "align_content": null,
       "align_items": null,
       "align_self": null,
       "border": null,
       "bottom": null,
       "display": null,
       "flex": null,
       "flex_flow": null,
       "grid_area": null,
       "grid_auto_columns": null,
       "grid_auto_flow": null,
       "grid_auto_rows": null,
       "grid_column": null,
       "grid_gap": null,
       "grid_row": null,
       "grid_template_areas": null,
       "grid_template_columns": null,
       "grid_template_rows": null,
       "height": null,
       "justify_content": null,
       "justify_items": null,
       "left": null,
       "margin": null,
       "max_height": null,
       "max_width": null,
       "min_height": null,
       "min_width": null,
       "object_fit": null,
       "object_position": null,
       "order": null,
       "overflow": null,
       "overflow_x": null,
       "overflow_y": null,
       "padding": null,
       "right": null,
       "top": null,
       "visibility": null,
       "width": null
      }
     },
     "6cca76223e514454a2eace047baa18d6": {
      "model_module": "@jupyter-widgets/controls",
      "model_module_version": "1.5.0",
      "model_name": "DescriptionStyleModel",
      "state": {
       "_model_module": "@jupyter-widgets/controls",
       "_model_module_version": "1.5.0",
       "_model_name": "DescriptionStyleModel",
       "_view_count": null,
       "_view_module": "@jupyter-widgets/base",
       "_view_module_version": "1.2.0",
       "_view_name": "StyleView",
       "description_width": ""
      }
     },
     "6d29f9b68dc2442a9bdf073aad969cd2": {
      "model_module": "@jupyter-widgets/base",
      "model_module_version": "1.2.0",
      "model_name": "LayoutModel",
      "state": {
       "_model_module": "@jupyter-widgets/base",
       "_model_module_version": "1.2.0",
       "_model_name": "LayoutModel",
       "_view_count": null,
       "_view_module": "@jupyter-widgets/base",
       "_view_module_version": "1.2.0",
       "_view_name": "LayoutView",
       "align_content": null,
       "align_items": null,
       "align_self": null,
       "border": null,
       "bottom": null,
       "display": null,
       "flex": null,
       "flex_flow": null,
       "grid_area": null,
       "grid_auto_columns": null,
       "grid_auto_flow": null,
       "grid_auto_rows": null,
       "grid_column": null,
       "grid_gap": null,
       "grid_row": null,
       "grid_template_areas": null,
       "grid_template_columns": null,
       "grid_template_rows": null,
       "height": null,
       "justify_content": null,
       "justify_items": null,
       "left": null,
       "margin": null,
       "max_height": null,
       "max_width": null,
       "min_height": null,
       "min_width": null,
       "object_fit": null,
       "object_position": null,
       "order": null,
       "overflow": null,
       "overflow_x": null,
       "overflow_y": null,
       "padding": null,
       "right": null,
       "top": null,
       "visibility": null,
       "width": null
      }
     },
     "6f66ca8d1cc2474e873304b0286f94b7": {
      "model_module": "@jupyter-widgets/controls",
      "model_module_version": "1.5.0",
      "model_name": "FloatProgressModel",
      "state": {
       "_dom_classes": [],
       "_model_module": "@jupyter-widgets/controls",
       "_model_module_version": "1.5.0",
       "_model_name": "FloatProgressModel",
       "_view_count": null,
       "_view_module": "@jupyter-widgets/controls",
       "_view_module_version": "1.5.0",
       "_view_name": "ProgressView",
       "bar_style": "success",
       "description": "",
       "description_tooltip": null,
       "layout": "IPY_MODEL_1ecf08479e2a42a888e07b115af82fdf",
       "max": 167.0,
       "min": 0.0,
       "orientation": "horizontal",
       "style": "IPY_MODEL_30f4227a41c1457fb3147b97a4d0b74f",
       "value": 167.0
      }
     },
     "6fd33494d95c4f028d0299fb1870a40a": {
      "model_module": "@jupyter-widgets/base",
      "model_module_version": "1.2.0",
      "model_name": "LayoutModel",
      "state": {
       "_model_module": "@jupyter-widgets/base",
       "_model_module_version": "1.2.0",
       "_model_name": "LayoutModel",
       "_view_count": null,
       "_view_module": "@jupyter-widgets/base",
       "_view_module_version": "1.2.0",
       "_view_name": "LayoutView",
       "align_content": null,
       "align_items": null,
       "align_self": null,
       "border": null,
       "bottom": null,
       "display": null,
       "flex": null,
       "flex_flow": null,
       "grid_area": null,
       "grid_auto_columns": null,
       "grid_auto_flow": null,
       "grid_auto_rows": null,
       "grid_column": null,
       "grid_gap": null,
       "grid_row": null,
       "grid_template_areas": null,
       "grid_template_columns": null,
       "grid_template_rows": null,
       "height": null,
       "justify_content": null,
       "justify_items": null,
       "left": null,
       "margin": null,
       "max_height": null,
       "max_width": null,
       "min_height": null,
       "min_width": null,
       "object_fit": null,
       "object_position": null,
       "order": null,
       "overflow": null,
       "overflow_x": null,
       "overflow_y": null,
       "padding": null,
       "right": null,
       "top": null,
       "visibility": null,
       "width": null
      }
     },
     "74ce74263c6a456f9c390789d9dc251b": {
      "model_module": "@jupyter-widgets/controls",
      "model_module_version": "1.5.0",
      "model_name": "FloatProgressModel",
      "state": {
       "_dom_classes": [],
       "_model_module": "@jupyter-widgets/controls",
       "_model_module_version": "1.5.0",
       "_model_name": "FloatProgressModel",
       "_view_count": null,
       "_view_module": "@jupyter-widgets/controls",
       "_view_module_version": "1.5.0",
       "_view_name": "ProgressView",
       "bar_style": "success",
       "description": "",
       "description_tooltip": null,
       "layout": "IPY_MODEL_65e47e5271224e39bd2a34696139001c",
       "max": 33092032.0,
       "min": 0.0,
       "orientation": "horizontal",
       "style": "IPY_MODEL_612c6ec3cf0b446582de20eed419939f",
       "value": 33092032.0
      }
     },
     "753e4d721dc64c9c8447f511927b3dc5": {
      "model_module": "@jupyter-widgets/controls",
      "model_module_version": "1.5.0",
      "model_name": "HBoxModel",
      "state": {
       "_dom_classes": [],
       "_model_module": "@jupyter-widgets/controls",
       "_model_module_version": "1.5.0",
       "_model_name": "HBoxModel",
       "_view_count": null,
       "_view_module": "@jupyter-widgets/controls",
       "_view_module_version": "1.5.0",
       "_view_name": "HBoxView",
       "box_style": "",
       "children": [
        "IPY_MODEL_d4bb39de98204599b46350ae3426769a",
        "IPY_MODEL_6f66ca8d1cc2474e873304b0286f94b7",
        "IPY_MODEL_f42d544d6b0443e38b0d6a0a96c4eaf5"
       ],
       "layout": "IPY_MODEL_db125e755cc741d1a789ca3f6eaf6d4d"
      }
     },
     "7c1ab5f98a1f43b69ac537554baad0ec": {
      "model_module": "@jupyter-widgets/controls",
      "model_module_version": "1.5.0",
      "model_name": "ProgressStyleModel",
      "state": {
       "_model_module": "@jupyter-widgets/controls",
       "_model_module_version": "1.5.0",
       "_model_name": "ProgressStyleModel",
       "_view_count": null,
       "_view_module": "@jupyter-widgets/base",
       "_view_module_version": "1.2.0",
       "_view_name": "StyleView",
       "bar_color": null,
       "description_width": ""
      }
     },
     "7ce691d0102c4dfb97bdbe4053d9ebca": {
      "model_module": "@jupyter-widgets/controls",
      "model_module_version": "1.5.0",
      "model_name": "HTMLModel",
      "state": {
       "_dom_classes": [],
       "_model_module": "@jupyter-widgets/controls",
       "_model_module_version": "1.5.0",
       "_model_name": "HTMLModel",
       "_view_count": null,
       "_view_module": "@jupyter-widgets/controls",
       "_view_module_version": "1.5.0",
       "_view_name": "HTMLView",
       "description": "",
       "description_tooltip": null,
       "layout": "IPY_MODEL_c93e4b9273ad445b8c322620fcccc8ad",
       "placeholder": "​",
       "style": "IPY_MODEL_9e2f1b8992a049da99333d62780abfdd",
       "value": " 540M/540M [00:01&lt;00:00, 386MB/s]"
      }
     },
     "7ee9cf144cf14704b919fb44c6259504": {
      "model_module": "@jupyter-widgets/controls",
      "model_module_version": "1.5.0",
      "model_name": "DescriptionStyleModel",
      "state": {
       "_model_module": "@jupyter-widgets/controls",
       "_model_module_version": "1.5.0",
       "_model_name": "DescriptionStyleModel",
       "_view_count": null,
       "_view_module": "@jupyter-widgets/base",
       "_view_module_version": "1.2.0",
       "_view_name": "StyleView",
       "description_width": ""
      }
     },
     "7f97c3e666b740ccbc8258a39c994a36": {
      "model_module": "@jupyter-widgets/controls",
      "model_module_version": "1.5.0",
      "model_name": "HBoxModel",
      "state": {
       "_dom_classes": [],
       "_model_module": "@jupyter-widgets/controls",
       "_model_module_version": "1.5.0",
       "_model_name": "HBoxModel",
       "_view_count": null,
       "_view_module": "@jupyter-widgets/controls",
       "_view_module_version": "1.5.0",
       "_view_name": "HBoxView",
       "box_style": "",
       "children": [
        "IPY_MODEL_be56603b4d2346a5bf93dd62cbdf6060",
        "IPY_MODEL_93a51a6cb3ba457fba08d6059a9ec0d2",
        "IPY_MODEL_7ce691d0102c4dfb97bdbe4053d9ebca"
       ],
       "layout": "IPY_MODEL_b01c31d592a6475097bf78c842b1e466"
      }
     },
     "8250b119625743c89dc710c2fe721046": {
      "model_module": "@jupyter-widgets/controls",
      "model_module_version": "1.5.0",
      "model_name": "HBoxModel",
      "state": {
       "_dom_classes": [],
       "_model_module": "@jupyter-widgets/controls",
       "_model_module_version": "1.5.0",
       "_model_name": "HBoxModel",
       "_view_count": null,
       "_view_module": "@jupyter-widgets/controls",
       "_view_module_version": "1.5.0",
       "_view_name": "HBoxView",
       "box_style": "",
       "children": [
        "IPY_MODEL_9fc6376215974f8a82c0f3fbfe65687c",
        "IPY_MODEL_10bec700e3b24618a02291ae3e0da354",
        "IPY_MODEL_3098259ca32344c4a92455b4ff09e03f"
       ],
       "layout": "IPY_MODEL_883bfca88868466aa30ad6028338bbf7"
      }
     },
     "874d3e653fcd4ce2a3ac60b15305cbd9": {
      "model_module": "@jupyter-widgets/base",
      "model_module_version": "1.2.0",
      "model_name": "LayoutModel",
      "state": {
       "_model_module": "@jupyter-widgets/base",
       "_model_module_version": "1.2.0",
       "_model_name": "LayoutModel",
       "_view_count": null,
       "_view_module": "@jupyter-widgets/base",
       "_view_module_version": "1.2.0",
       "_view_name": "LayoutView",
       "align_content": null,
       "align_items": null,
       "align_self": null,
       "border": null,
       "bottom": null,
       "display": null,
       "flex": null,
       "flex_flow": null,
       "grid_area": null,
       "grid_auto_columns": null,
       "grid_auto_flow": null,
       "grid_auto_rows": null,
       "grid_column": null,
       "grid_gap": null,
       "grid_row": null,
       "grid_template_areas": null,
       "grid_template_columns": null,
       "grid_template_rows": null,
       "height": null,
       "justify_content": null,
       "justify_items": null,
       "left": null,
       "margin": null,
       "max_height": null,
       "max_width": null,
       "min_height": null,
       "min_width": null,
       "object_fit": null,
       "object_position": null,
       "order": null,
       "overflow": null,
       "overflow_x": null,
       "overflow_y": null,
       "padding": null,
       "right": null,
       "top": null,
       "visibility": null,
       "width": null
      }
     },
     "883bfca88868466aa30ad6028338bbf7": {
      "model_module": "@jupyter-widgets/base",
      "model_module_version": "1.2.0",
      "model_name": "LayoutModel",
      "state": {
       "_model_module": "@jupyter-widgets/base",
       "_model_module_version": "1.2.0",
       "_model_name": "LayoutModel",
       "_view_count": null,
       "_view_module": "@jupyter-widgets/base",
       "_view_module_version": "1.2.0",
       "_view_name": "LayoutView",
       "align_content": null,
       "align_items": null,
       "align_self": null,
       "border": null,
       "bottom": null,
       "display": null,
       "flex": null,
       "flex_flow": null,
       "grid_area": null,
       "grid_auto_columns": null,
       "grid_auto_flow": null,
       "grid_auto_rows": null,
       "grid_column": null,
       "grid_gap": null,
       "grid_row": null,
       "grid_template_areas": null,
       "grid_template_columns": null,
       "grid_template_rows": null,
       "height": null,
       "justify_content": null,
       "justify_items": null,
       "left": null,
       "margin": null,
       "max_height": null,
       "max_width": null,
       "min_height": null,
       "min_width": null,
       "object_fit": null,
       "object_position": null,
       "order": null,
       "overflow": null,
       "overflow_x": null,
       "overflow_y": null,
       "padding": null,
       "right": null,
       "top": null,
       "visibility": null,
       "width": null
      }
     },
     "8bd5921c99734d28ad860450215ffd65": {
      "model_module": "@jupyter-widgets/controls",
      "model_module_version": "1.5.0",
      "model_name": "HBoxModel",
      "state": {
       "_dom_classes": [],
       "_model_module": "@jupyter-widgets/controls",
       "_model_module_version": "1.5.0",
       "_model_name": "HBoxModel",
       "_view_count": null,
       "_view_module": "@jupyter-widgets/controls",
       "_view_module_version": "1.5.0",
       "_view_name": "HBoxView",
       "box_style": "",
       "children": [
        "IPY_MODEL_21d98a5573c24da693680f60dbda799d",
        "IPY_MODEL_9c67a0a6b3e34aaba90dacae39776b01",
        "IPY_MODEL_d25c66c86f204346a0a93ca680e698f5"
       ],
       "layout": "IPY_MODEL_e1102396cb2549b098cc7cc28bba9a75"
      }
     },
     "8ca5b88419b64d48b474e48a080c29a6": {
      "model_module": "@jupyter-widgets/controls",
      "model_module_version": "1.5.0",
      "model_name": "DescriptionStyleModel",
      "state": {
       "_model_module": "@jupyter-widgets/controls",
       "_model_module_version": "1.5.0",
       "_model_name": "DescriptionStyleModel",
       "_view_count": null,
       "_view_module": "@jupyter-widgets/base",
       "_view_module_version": "1.2.0",
       "_view_name": "StyleView",
       "description_width": ""
      }
     },
     "8e241c37a8ea4782998ee1547b21117c": {
      "model_module": "@jupyter-widgets/controls",
      "model_module_version": "1.5.0",
      "model_name": "DescriptionStyleModel",
      "state": {
       "_model_module": "@jupyter-widgets/controls",
       "_model_module_version": "1.5.0",
       "_model_name": "DescriptionStyleModel",
       "_view_count": null,
       "_view_module": "@jupyter-widgets/base",
       "_view_module_version": "1.2.0",
       "_view_name": "StyleView",
       "description_width": ""
      }
     },
     "8ed6b6ff61444023a29ebd385a66ad72": {
      "model_module": "@jupyter-widgets/controls",
      "model_module_version": "1.5.0",
      "model_name": "DescriptionStyleModel",
      "state": {
       "_model_module": "@jupyter-widgets/controls",
       "_model_module_version": "1.5.0",
       "_model_name": "DescriptionStyleModel",
       "_view_count": null,
       "_view_module": "@jupyter-widgets/base",
       "_view_module_version": "1.2.0",
       "_view_name": "StyleView",
       "description_width": ""
      }
     },
     "93a51a6cb3ba457fba08d6059a9ec0d2": {
      "model_module": "@jupyter-widgets/controls",
      "model_module_version": "1.5.0",
      "model_name": "FloatProgressModel",
      "state": {
       "_dom_classes": [],
       "_model_module": "@jupyter-widgets/controls",
       "_model_module_version": "1.5.0",
       "_model_name": "FloatProgressModel",
       "_view_count": null,
       "_view_module": "@jupyter-widgets/controls",
       "_view_module_version": "1.5.0",
       "_view_name": "ProgressView",
       "bar_style": "success",
       "description": "",
       "description_tooltip": null,
       "layout": "IPY_MODEL_689e940db0514db0ba5efbdd99f3fa49",
       "max": 539679413.0,
       "min": 0.0,
       "orientation": "horizontal",
       "style": "IPY_MODEL_9b7e4b994cd94287b7508853759eea2a",
       "value": 539679413.0
      }
     },
     "9893cef587564f8abaccc4ca3763cdd0": {
      "model_module": "@jupyter-widgets/controls",
      "model_module_version": "1.5.0",
      "model_name": "HBoxModel",
      "state": {
       "_dom_classes": [],
       "_model_module": "@jupyter-widgets/controls",
       "_model_module_version": "1.5.0",
       "_model_name": "HBoxModel",
       "_view_count": null,
       "_view_module": "@jupyter-widgets/controls",
       "_view_module_version": "1.5.0",
       "_view_name": "HBoxView",
       "box_style": "",
       "children": [
        "IPY_MODEL_1baaeaa70b5f47b8a2467c7345aa28c8",
        "IPY_MODEL_74ce74263c6a456f9c390789d9dc251b",
        "IPY_MODEL_235428b494a748999fccca3a591581dc"
       ],
       "layout": "IPY_MODEL_14d9f8287fda4e1a844788885c2d3879"
      }
     },
     "9b7e4b994cd94287b7508853759eea2a": {
      "model_module": "@jupyter-widgets/controls",
      "model_module_version": "1.5.0",
      "model_name": "ProgressStyleModel",
      "state": {
       "_model_module": "@jupyter-widgets/controls",
       "_model_module_version": "1.5.0",
       "_model_name": "ProgressStyleModel",
       "_view_count": null,
       "_view_module": "@jupyter-widgets/base",
       "_view_module_version": "1.2.0",
       "_view_name": "StyleView",
       "bar_color": null,
       "description_width": ""
      }
     },
     "9bafe89d23fb485a8323eb8bdfa8ed3d": {
      "model_module": "@jupyter-widgets/base",
      "model_module_version": "1.2.0",
      "model_name": "LayoutModel",
      "state": {
       "_model_module": "@jupyter-widgets/base",
       "_model_module_version": "1.2.0",
       "_model_name": "LayoutModel",
       "_view_count": null,
       "_view_module": "@jupyter-widgets/base",
       "_view_module_version": "1.2.0",
       "_view_name": "LayoutView",
       "align_content": null,
       "align_items": null,
       "align_self": null,
       "border": null,
       "bottom": null,
       "display": null,
       "flex": null,
       "flex_flow": null,
       "grid_area": null,
       "grid_auto_columns": null,
       "grid_auto_flow": null,
       "grid_auto_rows": null,
       "grid_column": null,
       "grid_gap": null,
       "grid_row": null,
       "grid_template_areas": null,
       "grid_template_columns": null,
       "grid_template_rows": null,
       "height": null,
       "justify_content": null,
       "justify_items": null,
       "left": null,
       "margin": null,
       "max_height": null,
       "max_width": null,
       "min_height": null,
       "min_width": null,
       "object_fit": null,
       "object_position": null,
       "order": null,
       "overflow": null,
       "overflow_x": null,
       "overflow_y": null,
       "padding": null,
       "right": null,
       "top": null,
       "visibility": null,
       "width": null
      }
     },
     "9c67a0a6b3e34aaba90dacae39776b01": {
      "model_module": "@jupyter-widgets/controls",
      "model_module_version": "1.5.0",
      "model_name": "FloatProgressModel",
      "state": {
       "_dom_classes": [],
       "_model_module": "@jupyter-widgets/controls",
       "_model_module_version": "1.5.0",
       "_model_name": "FloatProgressModel",
       "_view_count": null,
       "_view_module": "@jupyter-widgets/controls",
       "_view_module_version": "1.5.0",
       "_view_name": "ProgressView",
       "bar_style": "success",
       "description": "",
       "description_tooltip": null,
       "layout": "IPY_MODEL_5f3286f7283d48c588d25aa3133e4b11",
       "max": 843438.0,
       "min": 0.0,
       "orientation": "horizontal",
       "style": "IPY_MODEL_c5fd8486bd384d86ac70e2825bf2212d",
       "value": 843438.0
      }
     },
     "9e2f1b8992a049da99333d62780abfdd": {
      "model_module": "@jupyter-widgets/controls",
      "model_module_version": "1.5.0",
      "model_name": "DescriptionStyleModel",
      "state": {
       "_model_module": "@jupyter-widgets/controls",
       "_model_module_version": "1.5.0",
       "_model_name": "DescriptionStyleModel",
       "_view_count": null,
       "_view_module": "@jupyter-widgets/base",
       "_view_module_version": "1.2.0",
       "_view_name": "StyleView",
       "description_width": ""
      }
     },
     "9e4cca813abc4c15a837c7cff4a7b7c9": {
      "model_module": "@jupyter-widgets/controls",
      "model_module_version": "1.5.0",
      "model_name": "FloatProgressModel",
      "state": {
       "_dom_classes": [],
       "_model_module": "@jupyter-widgets/controls",
       "_model_module_version": "1.5.0",
       "_model_name": "FloatProgressModel",
       "_view_count": null,
       "_view_module": "@jupyter-widgets/controls",
       "_view_module_version": "1.5.0",
       "_view_name": "ProgressView",
       "bar_style": "success",
       "description": "",
       "description_tooltip": null,
       "layout": "IPY_MODEL_e4da1e9280094decbf1afae45cdbd0ab",
       "max": 338.0,
       "min": 0.0,
       "orientation": "horizontal",
       "style": "IPY_MODEL_e8fd409737c04033ad1e47ba05c84940",
       "value": 338.0
      }
     },
     "9edcbfdf79354760964b53192fe48c96": {
      "model_module": "@jupyter-widgets/controls",
      "model_module_version": "1.5.0",
      "model_name": "HTMLModel",
      "state": {
       "_dom_classes": [],
       "_model_module": "@jupyter-widgets/controls",
       "_model_module_version": "1.5.0",
       "_model_name": "HTMLModel",
       "_view_count": null,
       "_view_module": "@jupyter-widgets/controls",
       "_view_module_version": "1.5.0",
       "_view_name": "HTMLView",
       "description": "",
       "description_tooltip": null,
       "layout": "IPY_MODEL_3cc44e0827cd4eff86e63a1daf973201",
       "placeholder": "​",
       "style": "IPY_MODEL_7ee9cf144cf14704b919fb44c6259504",
       "value": "Downloading (…)okenizer_config.json: 100%"
      }
     },
     "9fc6376215974f8a82c0f3fbfe65687c": {
      "model_module": "@jupyter-widgets/controls",
      "model_module_version": "1.5.0",
      "model_name": "HTMLModel",
      "state": {
       "_dom_classes": [],
       "_model_module": "@jupyter-widgets/controls",
       "_model_module_version": "1.5.0",
       "_model_name": "HTMLModel",
       "_view_count": null,
       "_view_module": "@jupyter-widgets/controls",
       "_view_module_version": "1.5.0",
       "_view_name": "HTMLView",
       "description": "",
       "description_tooltip": null,
       "layout": "IPY_MODEL_244c4a7cdb014197b266c349beda4d40",
       "placeholder": "​",
       "style": "IPY_MODEL_43ce093989f94a2296900970e5252a10",
       "value": "Extracting data files: 100%"
      }
     },
     "a19d207015fb4306bb6cf4530e96c05d": {
      "model_module": "@jupyter-widgets/controls",
      "model_module_version": "1.5.0",
      "model_name": "FloatProgressModel",
      "state": {
       "_dom_classes": [],
       "_model_module": "@jupyter-widgets/controls",
       "_model_module_version": "1.5.0",
       "_model_name": "FloatProgressModel",
       "_view_count": null,
       "_view_module": "@jupyter-widgets/controls",
       "_view_module_version": "1.5.0",
       "_view_name": "ProgressView",
       "bar_style": "success",
       "description": "",
       "description_tooltip": null,
       "layout": "IPY_MODEL_6fd33494d95c4f028d0299fb1870a40a",
       "max": 1078931.0,
       "min": 0.0,
       "orientation": "horizontal",
       "style": "IPY_MODEL_7c1ab5f98a1f43b69ac537554baad0ec",
       "value": 1078931.0
      }
     },
     "a29c6408fd7a442398953bd813ef5c63": {
      "model_module": "@jupyter-widgets/controls",
      "model_module_version": "1.5.0",
      "model_name": "DescriptionStyleModel",
      "state": {
       "_model_module": "@jupyter-widgets/controls",
       "_model_module_version": "1.5.0",
       "_model_name": "DescriptionStyleModel",
       "_view_count": null,
       "_view_module": "@jupyter-widgets/base",
       "_view_module_version": "1.2.0",
       "_view_name": "StyleView",
       "description_width": ""
      }
     },
     "a3eceb30c5be49bd8b7cd329721bd120": {
      "model_module": "@jupyter-widgets/base",
      "model_module_version": "1.2.0",
      "model_name": "LayoutModel",
      "state": {
       "_model_module": "@jupyter-widgets/base",
       "_model_module_version": "1.2.0",
       "_model_name": "LayoutModel",
       "_view_count": null,
       "_view_module": "@jupyter-widgets/base",
       "_view_module_version": "1.2.0",
       "_view_name": "LayoutView",
       "align_content": null,
       "align_items": null,
       "align_self": null,
       "border": null,
       "bottom": null,
       "display": null,
       "flex": null,
       "flex_flow": null,
       "grid_area": null,
       "grid_auto_columns": null,
       "grid_auto_flow": null,
       "grid_auto_rows": null,
       "grid_column": null,
       "grid_gap": null,
       "grid_row": null,
       "grid_template_areas": null,
       "grid_template_columns": null,
       "grid_template_rows": null,
       "height": null,
       "justify_content": null,
       "justify_items": null,
       "left": null,
       "margin": null,
       "max_height": null,
       "max_width": null,
       "min_height": null,
       "min_width": null,
       "object_fit": null,
       "object_position": null,
       "order": null,
       "overflow": null,
       "overflow_x": null,
       "overflow_y": null,
       "padding": null,
       "right": null,
       "top": null,
       "visibility": null,
       "width": null
      }
     },
     "ac3fdd092fd14446a5c6be424d908933": {
      "model_module": "@jupyter-widgets/controls",
      "model_module_version": "1.5.0",
      "model_name": "HBoxModel",
      "state": {
       "_dom_classes": [],
       "_model_module": "@jupyter-widgets/controls",
       "_model_module_version": "1.5.0",
       "_model_name": "HBoxModel",
       "_view_count": null,
       "_view_module": "@jupyter-widgets/controls",
       "_view_module_version": "1.5.0",
       "_view_name": "HBoxView",
       "box_style": "",
       "children": [
        "IPY_MODEL_213a4305e02b43fa8a0e487437ea9618",
        "IPY_MODEL_f153f6ba105b4bb4b01cdbda855b9734",
        "IPY_MODEL_f050e3db157e437181acf6f9bac70780"
       ],
       "layout": "IPY_MODEL_faa9b74cd0af44d59252c3e5b09c8097"
      }
     },
     "acdb9a70b7ca41bcb4b4e5cd26e3a014": {
      "model_module": "@jupyter-widgets/base",
      "model_module_version": "1.2.0",
      "model_name": "LayoutModel",
      "state": {
       "_model_module": "@jupyter-widgets/base",
       "_model_module_version": "1.2.0",
       "_model_name": "LayoutModel",
       "_view_count": null,
       "_view_module": "@jupyter-widgets/base",
       "_view_module_version": "1.2.0",
       "_view_name": "LayoutView",
       "align_content": null,
       "align_items": null,
       "align_self": null,
       "border": null,
       "bottom": null,
       "display": null,
       "flex": null,
       "flex_flow": null,
       "grid_area": null,
       "grid_auto_columns": null,
       "grid_auto_flow": null,
       "grid_auto_rows": null,
       "grid_column": null,
       "grid_gap": null,
       "grid_row": null,
       "grid_template_areas": null,
       "grid_template_columns": null,
       "grid_template_rows": null,
       "height": null,
       "justify_content": null,
       "justify_items": null,
       "left": null,
       "margin": null,
       "max_height": null,
       "max_width": null,
       "min_height": null,
       "min_width": null,
       "object_fit": null,
       "object_position": null,
       "order": null,
       "overflow": null,
       "overflow_x": null,
       "overflow_y": null,
       "padding": null,
       "right": null,
       "top": null,
       "visibility": null,
       "width": null
      }
     },
     "aedde658e9914b35b2726cab0b8fcbcb": {
      "model_module": "@jupyter-widgets/base",
      "model_module_version": "1.2.0",
      "model_name": "LayoutModel",
      "state": {
       "_model_module": "@jupyter-widgets/base",
       "_model_module_version": "1.2.0",
       "_model_name": "LayoutModel",
       "_view_count": null,
       "_view_module": "@jupyter-widgets/base",
       "_view_module_version": "1.2.0",
       "_view_name": "LayoutView",
       "align_content": null,
       "align_items": null,
       "align_self": null,
       "border": null,
       "bottom": null,
       "display": null,
       "flex": null,
       "flex_flow": null,
       "grid_area": null,
       "grid_auto_columns": null,
       "grid_auto_flow": null,
       "grid_auto_rows": null,
       "grid_column": null,
       "grid_gap": null,
       "grid_row": null,
       "grid_template_areas": null,
       "grid_template_columns": null,
       "grid_template_rows": null,
       "height": null,
       "justify_content": null,
       "justify_items": null,
       "left": null,
       "margin": null,
       "max_height": null,
       "max_width": null,
       "min_height": null,
       "min_width": null,
       "object_fit": null,
       "object_position": null,
       "order": null,
       "overflow": null,
       "overflow_x": null,
       "overflow_y": null,
       "padding": null,
       "right": null,
       "top": null,
       "visibility": null,
       "width": null
      }
     },
     "af062d0ece9d4d788f9f0af719355440": {
      "model_module": "@jupyter-widgets/controls",
      "model_module_version": "1.5.0",
      "model_name": "HTMLModel",
      "state": {
       "_dom_classes": [],
       "_model_module": "@jupyter-widgets/controls",
       "_model_module_version": "1.5.0",
       "_model_name": "HTMLModel",
       "_view_count": null,
       "_view_module": "@jupyter-widgets/controls",
       "_view_module_version": "1.5.0",
       "_view_name": "HTMLView",
       "description": "",
       "description_tooltip": null,
       "layout": "IPY_MODEL_de4e20c478a24156a731ec05f4b2a9c1",
       "placeholder": "​",
       "style": "IPY_MODEL_8ca5b88419b64d48b474e48a080c29a6",
       "value": "100%"
      }
     },
     "b01c31d592a6475097bf78c842b1e466": {
      "model_module": "@jupyter-widgets/base",
      "model_module_version": "1.2.0",
      "model_name": "LayoutModel",
      "state": {
       "_model_module": "@jupyter-widgets/base",
       "_model_module_version": "1.2.0",
       "_model_name": "LayoutModel",
       "_view_count": null,
       "_view_module": "@jupyter-widgets/base",
       "_view_module_version": "1.2.0",
       "_view_name": "LayoutView",
       "align_content": null,
       "align_items": null,
       "align_self": null,
       "border": null,
       "bottom": null,
       "display": null,
       "flex": null,
       "flex_flow": null,
       "grid_area": null,
       "grid_auto_columns": null,
       "grid_auto_flow": null,
       "grid_auto_rows": null,
       "grid_column": null,
       "grid_gap": null,
       "grid_row": null,
       "grid_template_areas": null,
       "grid_template_columns": null,
       "grid_template_rows": null,
       "height": null,
       "justify_content": null,
       "justify_items": null,
       "left": null,
       "margin": null,
       "max_height": null,
       "max_width": null,
       "min_height": null,
       "min_width": null,
       "object_fit": null,
       "object_position": null,
       "order": null,
       "overflow": null,
       "overflow_x": null,
       "overflow_y": null,
       "padding": null,
       "right": null,
       "top": null,
       "visibility": null,
       "width": null
      }
     },
     "b697c2c1586b4308b12424a9617b14b4": {
      "model_module": "@jupyter-widgets/base",
      "model_module_version": "1.2.0",
      "model_name": "LayoutModel",
      "state": {
       "_model_module": "@jupyter-widgets/base",
       "_model_module_version": "1.2.0",
       "_model_name": "LayoutModel",
       "_view_count": null,
       "_view_module": "@jupyter-widgets/base",
       "_view_module_version": "1.2.0",
       "_view_name": "LayoutView",
       "align_content": null,
       "align_items": null,
       "align_self": null,
       "border": null,
       "bottom": null,
       "display": null,
       "flex": null,
       "flex_flow": null,
       "grid_area": null,
       "grid_auto_columns": null,
       "grid_auto_flow": null,
       "grid_auto_rows": null,
       "grid_column": null,
       "grid_gap": null,
       "grid_row": null,
       "grid_template_areas": null,
       "grid_template_columns": null,
       "grid_template_rows": null,
       "height": null,
       "justify_content": null,
       "justify_items": null,
       "left": null,
       "margin": null,
       "max_height": null,
       "max_width": null,
       "min_height": null,
       "min_width": null,
       "object_fit": null,
       "object_position": null,
       "order": null,
       "overflow": null,
       "overflow_x": null,
       "overflow_y": null,
       "padding": null,
       "right": null,
       "top": null,
       "visibility": null,
       "width": null
      }
     },
     "b7253880c5234f71a2eb8d492ca233ee": {
      "model_module": "@jupyter-widgets/controls",
      "model_module_version": "1.5.0",
      "model_name": "ProgressStyleModel",
      "state": {
       "_model_module": "@jupyter-widgets/controls",
       "_model_module_version": "1.5.0",
       "_model_name": "ProgressStyleModel",
       "_view_count": null,
       "_view_module": "@jupyter-widgets/base",
       "_view_module_version": "1.2.0",
       "_view_name": "StyleView",
       "bar_color": null,
       "description_width": ""
      }
     },
     "b95d16c6f6fc40a880bf6f119e95d3b1": {
      "model_module": "@jupyter-widgets/controls",
      "model_module_version": "1.5.0",
      "model_name": "HBoxModel",
      "state": {
       "_dom_classes": [],
       "_model_module": "@jupyter-widgets/controls",
       "_model_module_version": "1.5.0",
       "_model_name": "HBoxModel",
       "_view_count": null,
       "_view_module": "@jupyter-widgets/controls",
       "_view_module_version": "1.5.0",
       "_view_name": "HBoxView",
       "box_style": "",
       "children": [
        "IPY_MODEL_f12dbc40f89843778a0d20c317aa41cf",
        "IPY_MODEL_a19d207015fb4306bb6cf4530e96c05d",
        "IPY_MODEL_275d867b3f7041feb282800eb1f85ac7"
       ],
       "layout": "IPY_MODEL_bdd6d844e73f4c9b9e8f493d238549a0"
      }
     },
     "b9a8e74844364f90bced7b371e26fb4f": {
      "model_module": "@jupyter-widgets/base",
      "model_module_version": "1.2.0",
      "model_name": "LayoutModel",
      "state": {
       "_model_module": "@jupyter-widgets/base",
       "_model_module_version": "1.2.0",
       "_model_name": "LayoutModel",
       "_view_count": null,
       "_view_module": "@jupyter-widgets/base",
       "_view_module_version": "1.2.0",
       "_view_name": "LayoutView",
       "align_content": null,
       "align_items": null,
       "align_self": null,
       "border": null,
       "bottom": null,
       "display": null,
       "flex": null,
       "flex_flow": null,
       "grid_area": null,
       "grid_auto_columns": null,
       "grid_auto_flow": null,
       "grid_auto_rows": null,
       "grid_column": null,
       "grid_gap": null,
       "grid_row": null,
       "grid_template_areas": null,
       "grid_template_columns": null,
       "grid_template_rows": null,
       "height": null,
       "justify_content": null,
       "justify_items": null,
       "left": null,
       "margin": null,
       "max_height": null,
       "max_width": null,
       "min_height": null,
       "min_width": null,
       "object_fit": null,
       "object_position": null,
       "order": null,
       "overflow": null,
       "overflow_x": null,
       "overflow_y": null,
       "padding": null,
       "right": null,
       "top": null,
       "visibility": null,
       "width": null
      }
     },
     "ba9f35be269f486b9a6499c2d4146de0": {
      "model_module": "@jupyter-widgets/controls",
      "model_module_version": "1.5.0",
      "model_name": "ProgressStyleModel",
      "state": {
       "_model_module": "@jupyter-widgets/controls",
       "_model_module_version": "1.5.0",
       "_model_name": "ProgressStyleModel",
       "_view_count": null,
       "_view_module": "@jupyter-widgets/base",
       "_view_module_version": "1.2.0",
       "_view_name": "StyleView",
       "bar_color": null,
       "description_width": ""
      }
     },
     "bbb0eab3e78545faa4c624270c9a68c9": {
      "model_module": "@jupyter-widgets/base",
      "model_module_version": "1.2.0",
      "model_name": "LayoutModel",
      "state": {
       "_model_module": "@jupyter-widgets/base",
       "_model_module_version": "1.2.0",
       "_model_name": "LayoutModel",
       "_view_count": null,
       "_view_module": "@jupyter-widgets/base",
       "_view_module_version": "1.2.0",
       "_view_name": "LayoutView",
       "align_content": null,
       "align_items": null,
       "align_self": null,
       "border": null,
       "bottom": null,
       "display": null,
       "flex": null,
       "flex_flow": null,
       "grid_area": null,
       "grid_auto_columns": null,
       "grid_auto_flow": null,
       "grid_auto_rows": null,
       "grid_column": null,
       "grid_gap": null,
       "grid_row": null,
       "grid_template_areas": null,
       "grid_template_columns": null,
       "grid_template_rows": null,
       "height": null,
       "justify_content": null,
       "justify_items": null,
       "left": null,
       "margin": null,
       "max_height": null,
       "max_width": null,
       "min_height": null,
       "min_width": null,
       "object_fit": null,
       "object_position": null,
       "order": null,
       "overflow": null,
       "overflow_x": null,
       "overflow_y": null,
       "padding": null,
       "right": null,
       "top": null,
       "visibility": null,
       "width": null
      }
     },
     "bcc90484efd249f4a90171bfbad933eb": {
      "model_module": "@jupyter-widgets/controls",
      "model_module_version": "1.5.0",
      "model_name": "HTMLModel",
      "state": {
       "_dom_classes": [],
       "_model_module": "@jupyter-widgets/controls",
       "_model_module_version": "1.5.0",
       "_model_name": "HTMLModel",
       "_view_count": null,
       "_view_module": "@jupyter-widgets/controls",
       "_view_module_version": "1.5.0",
       "_view_name": "HTMLView",
       "description": "",
       "description_tooltip": null,
       "layout": "IPY_MODEL_fbf7ccaefddf474aa8bc6ba37db07d10",
       "placeholder": "​",
       "style": "IPY_MODEL_d06a466c965c4b74be7d4bc95da8b293",
       "value": " 22.0/22.0 [00:00&lt;00:00, 1.93kB/s]"
      }
     },
     "bdd6d844e73f4c9b9e8f493d238549a0": {
      "model_module": "@jupyter-widgets/base",
      "model_module_version": "1.2.0",
      "model_name": "LayoutModel",
      "state": {
       "_model_module": "@jupyter-widgets/base",
       "_model_module_version": "1.2.0",
       "_model_name": "LayoutModel",
       "_view_count": null,
       "_view_module": "@jupyter-widgets/base",
       "_view_module_version": "1.2.0",
       "_view_name": "LayoutView",
       "align_content": null,
       "align_items": null,
       "align_self": null,
       "border": null,
       "bottom": null,
       "display": null,
       "flex": null,
       "flex_flow": null,
       "grid_area": null,
       "grid_auto_columns": null,
       "grid_auto_flow": null,
       "grid_auto_rows": null,
       "grid_column": null,
       "grid_gap": null,
       "grid_row": null,
       "grid_template_areas": null,
       "grid_template_columns": null,
       "grid_template_rows": null,
       "height": null,
       "justify_content": null,
       "justify_items": null,
       "left": null,
       "margin": null,
       "max_height": null,
       "max_width": null,
       "min_height": null,
       "min_width": null,
       "object_fit": null,
       "object_position": null,
       "order": null,
       "overflow": null,
       "overflow_x": null,
       "overflow_y": null,
       "padding": null,
       "right": null,
       "top": null,
       "visibility": null,
       "width": null
      }
     },
     "be56603b4d2346a5bf93dd62cbdf6060": {
      "model_module": "@jupyter-widgets/controls",
      "model_module_version": "1.5.0",
      "model_name": "HTMLModel",
      "state": {
       "_dom_classes": [],
       "_model_module": "@jupyter-widgets/controls",
       "_model_module_version": "1.5.0",
       "_model_name": "HTMLModel",
       "_view_count": null,
       "_view_module": "@jupyter-widgets/controls",
       "_view_module_version": "1.5.0",
       "_view_name": "HTMLView",
       "description": "",
       "description_tooltip": null,
       "layout": "IPY_MODEL_3e5a76424d564410b6835390155d0197",
       "placeholder": "​",
       "style": "IPY_MODEL_d3ec901b121346d5af623c29402d8f9b",
       "value": "Downloading pytorch_model.bin: 100%"
      }
     },
     "bfd997bb8cfd4f7d972dbac62ed9c0df": {
      "model_module": "@jupyter-widgets/controls",
      "model_module_version": "1.5.0",
      "model_name": "HTMLModel",
      "state": {
       "_dom_classes": [],
       "_model_module": "@jupyter-widgets/controls",
       "_model_module_version": "1.5.0",
       "_model_name": "HTMLModel",
       "_view_count": null,
       "_view_module": "@jupyter-widgets/controls",
       "_view_module_version": "1.5.0",
       "_view_name": "HTMLView",
       "description": "",
       "description_tooltip": null,
       "layout": "IPY_MODEL_a3eceb30c5be49bd8b7cd329721bd120",
       "placeholder": "​",
       "style": "IPY_MODEL_287279d2bc9b4e15948e630c2803e073",
       "value": " 338/338 [00:00&lt;00:00, 28.2kB/s]"
      }
     },
     "c29b4fdea36f4052b6caefb1a21d9a84": {
      "model_module": "@jupyter-widgets/base",
      "model_module_version": "1.2.0",
      "model_name": "LayoutModel",
      "state": {
       "_model_module": "@jupyter-widgets/base",
       "_model_module_version": "1.2.0",
       "_model_name": "LayoutModel",
       "_view_count": null,
       "_view_module": "@jupyter-widgets/base",
       "_view_module_version": "1.2.0",
       "_view_name": "LayoutView",
       "align_content": null,
       "align_items": null,
       "align_self": null,
       "border": null,
       "bottom": null,
       "display": null,
       "flex": null,
       "flex_flow": null,
       "grid_area": null,
       "grid_auto_columns": null,
       "grid_auto_flow": null,
       "grid_auto_rows": null,
       "grid_column": null,
       "grid_gap": null,
       "grid_row": null,
       "grid_template_areas": null,
       "grid_template_columns": null,
       "grid_template_rows": null,
       "height": null,
       "justify_content": null,
       "justify_items": null,
       "left": null,
       "margin": null,
       "max_height": null,
       "max_width": null,
       "min_height": null,
       "min_width": null,
       "object_fit": null,
       "object_position": null,
       "order": null,
       "overflow": null,
       "overflow_x": null,
       "overflow_y": null,
       "padding": null,
       "right": null,
       "top": null,
       "visibility": null,
       "width": null
      }
     },
     "c2f3146dda8540439c15d5ce9157972d": {
      "model_module": "@jupyter-widgets/controls",
      "model_module_version": "1.5.0",
      "model_name": "DescriptionStyleModel",
      "state": {
       "_model_module": "@jupyter-widgets/controls",
       "_model_module_version": "1.5.0",
       "_model_name": "DescriptionStyleModel",
       "_view_count": null,
       "_view_module": "@jupyter-widgets/base",
       "_view_module_version": "1.2.0",
       "_view_name": "StyleView",
       "description_width": ""
      }
     },
     "c5fd8486bd384d86ac70e2825bf2212d": {
      "model_module": "@jupyter-widgets/controls",
      "model_module_version": "1.5.0",
      "model_name": "ProgressStyleModel",
      "state": {
       "_model_module": "@jupyter-widgets/controls",
       "_model_module_version": "1.5.0",
       "_model_name": "ProgressStyleModel",
       "_view_count": null,
       "_view_module": "@jupyter-widgets/base",
       "_view_module_version": "1.2.0",
       "_view_name": "StyleView",
       "bar_color": null,
       "description_width": ""
      }
     },
     "c8fac451aa464b43b837f64cac5291d0": {
      "model_module": "@jupyter-widgets/base",
      "model_module_version": "1.2.0",
      "model_name": "LayoutModel",
      "state": {
       "_model_module": "@jupyter-widgets/base",
       "_model_module_version": "1.2.0",
       "_model_name": "LayoutModel",
       "_view_count": null,
       "_view_module": "@jupyter-widgets/base",
       "_view_module_version": "1.2.0",
       "_view_name": "LayoutView",
       "align_content": null,
       "align_items": null,
       "align_self": null,
       "border": null,
       "bottom": null,
       "display": null,
       "flex": null,
       "flex_flow": null,
       "grid_area": null,
       "grid_auto_columns": null,
       "grid_auto_flow": null,
       "grid_auto_rows": null,
       "grid_column": null,
       "grid_gap": null,
       "grid_row": null,
       "grid_template_areas": null,
       "grid_template_columns": null,
       "grid_template_rows": null,
       "height": null,
       "justify_content": null,
       "justify_items": null,
       "left": null,
       "margin": null,
       "max_height": null,
       "max_width": null,
       "min_height": null,
       "min_width": null,
       "object_fit": null,
       "object_position": null,
       "order": null,
       "overflow": null,
       "overflow_x": null,
       "overflow_y": null,
       "padding": null,
       "right": null,
       "top": null,
       "visibility": null,
       "width": null
      }
     },
     "c93e4b9273ad445b8c322620fcccc8ad": {
      "model_module": "@jupyter-widgets/base",
      "model_module_version": "1.2.0",
      "model_name": "LayoutModel",
      "state": {
       "_model_module": "@jupyter-widgets/base",
       "_model_module_version": "1.2.0",
       "_model_name": "LayoutModel",
       "_view_count": null,
       "_view_module": "@jupyter-widgets/base",
       "_view_module_version": "1.2.0",
       "_view_name": "LayoutView",
       "align_content": null,
       "align_items": null,
       "align_self": null,
       "border": null,
       "bottom": null,
       "display": null,
       "flex": null,
       "flex_flow": null,
       "grid_area": null,
       "grid_auto_columns": null,
       "grid_auto_flow": null,
       "grid_auto_rows": null,
       "grid_column": null,
       "grid_gap": null,
       "grid_row": null,
       "grid_template_areas": null,
       "grid_template_columns": null,
       "grid_template_rows": null,
       "height": null,
       "justify_content": null,
       "justify_items": null,
       "left": null,
       "margin": null,
       "max_height": null,
       "max_width": null,
       "min_height": null,
       "min_width": null,
       "object_fit": null,
       "object_position": null,
       "order": null,
       "overflow": null,
       "overflow_x": null,
       "overflow_y": null,
       "padding": null,
       "right": null,
       "top": null,
       "visibility": null,
       "width": null
      }
     },
     "cd9f650c026a49dba68b8d6be2da6725": {
      "model_module": "@jupyter-widgets/controls",
      "model_module_version": "1.5.0",
      "model_name": "DescriptionStyleModel",
      "state": {
       "_model_module": "@jupyter-widgets/controls",
       "_model_module_version": "1.5.0",
       "_model_name": "DescriptionStyleModel",
       "_view_count": null,
       "_view_module": "@jupyter-widgets/base",
       "_view_module_version": "1.2.0",
       "_view_name": "StyleView",
       "description_width": ""
      }
     },
     "cdc134a8a6e3411ab32da89e7934a2e9": {
      "model_module": "@jupyter-widgets/base",
      "model_module_version": "1.2.0",
      "model_name": "LayoutModel",
      "state": {
       "_model_module": "@jupyter-widgets/base",
       "_model_module_version": "1.2.0",
       "_model_name": "LayoutModel",
       "_view_count": null,
       "_view_module": "@jupyter-widgets/base",
       "_view_module_version": "1.2.0",
       "_view_name": "LayoutView",
       "align_content": null,
       "align_items": null,
       "align_self": null,
       "border": null,
       "bottom": null,
       "display": null,
       "flex": null,
       "flex_flow": null,
       "grid_area": null,
       "grid_auto_columns": null,
       "grid_auto_flow": null,
       "grid_auto_rows": null,
       "grid_column": null,
       "grid_gap": null,
       "grid_row": null,
       "grid_template_areas": null,
       "grid_template_columns": null,
       "grid_template_rows": null,
       "height": null,
       "justify_content": null,
       "justify_items": null,
       "left": null,
       "margin": null,
       "max_height": null,
       "max_width": null,
       "min_height": null,
       "min_width": null,
       "object_fit": null,
       "object_position": null,
       "order": null,
       "overflow": null,
       "overflow_x": null,
       "overflow_y": null,
       "padding": null,
       "right": null,
       "top": null,
       "visibility": null,
       "width": null
      }
     },
     "d06a466c965c4b74be7d4bc95da8b293": {
      "model_module": "@jupyter-widgets/controls",
      "model_module_version": "1.5.0",
      "model_name": "DescriptionStyleModel",
      "state": {
       "_model_module": "@jupyter-widgets/controls",
       "_model_module_version": "1.5.0",
       "_model_name": "DescriptionStyleModel",
       "_view_count": null,
       "_view_module": "@jupyter-widgets/base",
       "_view_module_version": "1.2.0",
       "_view_name": "StyleView",
       "description_width": ""
      }
     },
     "d10c42dee3da46a9a258040b237ff5b3": {
      "model_module": "@jupyter-widgets/controls",
      "model_module_version": "1.5.0",
      "model_name": "DescriptionStyleModel",
      "state": {
       "_model_module": "@jupyter-widgets/controls",
       "_model_module_version": "1.5.0",
       "_model_name": "DescriptionStyleModel",
       "_view_count": null,
       "_view_module": "@jupyter-widgets/base",
       "_view_module_version": "1.2.0",
       "_view_name": "StyleView",
       "description_width": ""
      }
     },
     "d11df341c1d942cd9f24ed4783026213": {
      "model_module": "@jupyter-widgets/controls",
      "model_module_version": "1.5.0",
      "model_name": "ProgressStyleModel",
      "state": {
       "_model_module": "@jupyter-widgets/controls",
       "_model_module_version": "1.5.0",
       "_model_name": "ProgressStyleModel",
       "_view_count": null,
       "_view_module": "@jupyter-widgets/base",
       "_view_module_version": "1.2.0",
       "_view_name": "StyleView",
       "bar_color": null,
       "description_width": ""
      }
     },
     "d25c66c86f204346a0a93ca680e698f5": {
      "model_module": "@jupyter-widgets/controls",
      "model_module_version": "1.5.0",
      "model_name": "HTMLModel",
      "state": {
       "_dom_classes": [],
       "_model_module": "@jupyter-widgets/controls",
       "_model_module_version": "1.5.0",
       "_model_name": "HTMLModel",
       "_view_count": null,
       "_view_module": "@jupyter-widgets/controls",
       "_view_module_version": "1.5.0",
       "_view_name": "HTMLView",
       "description": "",
       "description_tooltip": null,
       "layout": "IPY_MODEL_369bb1ba12dc4c0d88631cc79dffa983",
       "placeholder": "​",
       "style": "IPY_MODEL_a29c6408fd7a442398953bd813ef5c63",
       "value": " 843k/843k [00:00&lt;00:00, 2.57MB/s]"
      }
     },
     "d3715e8b23204e62acdd7e9ace274bac": {
      "model_module": "@jupyter-widgets/controls",
      "model_module_version": "1.5.0",
      "model_name": "ProgressStyleModel",
      "state": {
       "_model_module": "@jupyter-widgets/controls",
       "_model_module_version": "1.5.0",
       "_model_name": "ProgressStyleModel",
       "_view_count": null,
       "_view_module": "@jupyter-widgets/base",
       "_view_module_version": "1.2.0",
       "_view_name": "StyleView",
       "bar_color": null,
       "description_width": ""
      }
     },
     "d3a6e71187834d578ce0b0d439b88d7a": {
      "model_module": "@jupyter-widgets/base",
      "model_module_version": "1.2.0",
      "model_name": "LayoutModel",
      "state": {
       "_model_module": "@jupyter-widgets/base",
       "_model_module_version": "1.2.0",
       "_model_name": "LayoutModel",
       "_view_count": null,
       "_view_module": "@jupyter-widgets/base",
       "_view_module_version": "1.2.0",
       "_view_name": "LayoutView",
       "align_content": null,
       "align_items": null,
       "align_self": null,
       "border": null,
       "bottom": null,
       "display": null,
       "flex": null,
       "flex_flow": null,
       "grid_area": null,
       "grid_auto_columns": null,
       "grid_auto_flow": null,
       "grid_auto_rows": null,
       "grid_column": null,
       "grid_gap": null,
       "grid_row": null,
       "grid_template_areas": null,
       "grid_template_columns": null,
       "grid_template_rows": null,
       "height": null,
       "justify_content": null,
       "justify_items": null,
       "left": null,
       "margin": null,
       "max_height": null,
       "max_width": null,
       "min_height": null,
       "min_width": null,
       "object_fit": null,
       "object_position": null,
       "order": null,
       "overflow": null,
       "overflow_x": null,
       "overflow_y": null,
       "padding": null,
       "right": null,
       "top": null,
       "visibility": null,
       "width": null
      }
     },
     "d3ec901b121346d5af623c29402d8f9b": {
      "model_module": "@jupyter-widgets/controls",
      "model_module_version": "1.5.0",
      "model_name": "DescriptionStyleModel",
      "state": {
       "_model_module": "@jupyter-widgets/controls",
       "_model_module_version": "1.5.0",
       "_model_name": "DescriptionStyleModel",
       "_view_count": null,
       "_view_module": "@jupyter-widgets/base",
       "_view_module_version": "1.2.0",
       "_view_name": "StyleView",
       "description_width": ""
      }
     },
     "d4bb39de98204599b46350ae3426769a": {
      "model_module": "@jupyter-widgets/controls",
      "model_module_version": "1.5.0",
      "model_name": "HTMLModel",
      "state": {
       "_dom_classes": [],
       "_model_module": "@jupyter-widgets/controls",
       "_model_module_version": "1.5.0",
       "_model_name": "HTMLModel",
       "_view_count": null,
       "_view_module": "@jupyter-widgets/controls",
       "_view_module_version": "1.5.0",
       "_view_name": "HTMLView",
       "description": "",
       "description_tooltip": null,
       "layout": "IPY_MODEL_05245975e339461baab0eabe1430d9c3",
       "placeholder": "​",
       "style": "IPY_MODEL_04b360978ec24c6f902e514fa726a271",
       "value": "Downloading (…)cial_tokens_map.json: 100%"
      }
     },
     "d584a9f72ef74e219e9bc96b2373889c": {
      "model_module": "@jupyter-widgets/controls",
      "model_module_version": "1.5.0",
      "model_name": "HBoxModel",
      "state": {
       "_dom_classes": [],
       "_model_module": "@jupyter-widgets/controls",
       "_model_module_version": "1.5.0",
       "_model_name": "HBoxModel",
       "_view_count": null,
       "_view_module": "@jupyter-widgets/controls",
       "_view_module_version": "1.5.0",
       "_view_name": "HBoxView",
       "box_style": "",
       "children": [
        "IPY_MODEL_5aa9b684c9ec4955bd77291d2aea8591",
        "IPY_MODEL_61c0fa0cf60b4664b0fd9b18ef96ced0",
        "IPY_MODEL_0876e2a47c774787a790d3ec3604fa76"
       ],
       "layout": "IPY_MODEL_f5083d9f89fc4795abbfca078a6ce30a"
      }
     },
     "d6d34c1db5bd4ee092a8e58bb5c56442": {
      "model_module": "@jupyter-widgets/controls",
      "model_module_version": "1.5.0",
      "model_name": "HBoxModel",
      "state": {
       "_dom_classes": [],
       "_model_module": "@jupyter-widgets/controls",
       "_model_module_version": "1.5.0",
       "_model_name": "HBoxModel",
       "_view_count": null,
       "_view_module": "@jupyter-widgets/controls",
       "_view_module_version": "1.5.0",
       "_view_name": "HBoxView",
       "box_style": "",
       "children": [
        "IPY_MODEL_af062d0ece9d4d788f9f0af719355440",
        "IPY_MODEL_23e18821af0f4e73a25fe0e99a672eb9",
        "IPY_MODEL_0aeb60b6fbdd49de9cf9ab51e6047676"
       ],
       "layout": "IPY_MODEL_13e27ba8c7654275a6100156d4676c68"
      }
     },
     "db125e755cc741d1a789ca3f6eaf6d4d": {
      "model_module": "@jupyter-widgets/base",
      "model_module_version": "1.2.0",
      "model_name": "LayoutModel",
      "state": {
       "_model_module": "@jupyter-widgets/base",
       "_model_module_version": "1.2.0",
       "_model_name": "LayoutModel",
       "_view_count": null,
       "_view_module": "@jupyter-widgets/base",
       "_view_module_version": "1.2.0",
       "_view_name": "LayoutView",
       "align_content": null,
       "align_items": null,
       "align_self": null,
       "border": null,
       "bottom": null,
       "display": null,
       "flex": null,
       "flex_flow": null,
       "grid_area": null,
       "grid_auto_columns": null,
       "grid_auto_flow": null,
       "grid_auto_rows": null,
       "grid_column": null,
       "grid_gap": null,
       "grid_row": null,
       "grid_template_areas": null,
       "grid_template_columns": null,
       "grid_template_rows": null,
       "height": null,
       "justify_content": null,
       "justify_items": null,
       "left": null,
       "margin": null,
       "max_height": null,
       "max_width": null,
       "min_height": null,
       "min_width": null,
       "object_fit": null,
       "object_position": null,
       "order": null,
       "overflow": null,
       "overflow_x": null,
       "overflow_y": null,
       "padding": null,
       "right": null,
       "top": null,
       "visibility": null,
       "width": null
      }
     },
     "dd3858a3bea54f44a2ace313dd8ada94": {
      "model_module": "@jupyter-widgets/controls",
      "model_module_version": "1.5.0",
      "model_name": "HBoxModel",
      "state": {
       "_dom_classes": [],
       "_model_module": "@jupyter-widgets/controls",
       "_model_module_version": "1.5.0",
       "_model_name": "HBoxModel",
       "_view_count": null,
       "_view_module": "@jupyter-widgets/controls",
       "_view_module_version": "1.5.0",
       "_view_name": "HBoxView",
       "box_style": "",
       "children": [
        "IPY_MODEL_034e468a281c4668aaf8655dc787ec7a",
        "IPY_MODEL_30fba3cdec3243b0851a8153095849f2",
        "IPY_MODEL_bcc90484efd249f4a90171bfbad933eb"
       ],
       "layout": "IPY_MODEL_b9a8e74844364f90bced7b371e26fb4f"
      }
     },
     "de4e20c478a24156a731ec05f4b2a9c1": {
      "model_module": "@jupyter-widgets/base",
      "model_module_version": "1.2.0",
      "model_name": "LayoutModel",
      "state": {
       "_model_module": "@jupyter-widgets/base",
       "_model_module_version": "1.2.0",
       "_model_name": "LayoutModel",
       "_view_count": null,
       "_view_module": "@jupyter-widgets/base",
       "_view_module_version": "1.2.0",
       "_view_name": "LayoutView",
       "align_content": null,
       "align_items": null,
       "align_self": null,
       "border": null,
       "bottom": null,
       "display": null,
       "flex": null,
       "flex_flow": null,
       "grid_area": null,
       "grid_auto_columns": null,
       "grid_auto_flow": null,
       "grid_auto_rows": null,
       "grid_column": null,
       "grid_gap": null,
       "grid_row": null,
       "grid_template_areas": null,
       "grid_template_columns": null,
       "grid_template_rows": null,
       "height": null,
       "justify_content": null,
       "justify_items": null,
       "left": null,
       "margin": null,
       "max_height": null,
       "max_width": null,
       "min_height": null,
       "min_width": null,
       "object_fit": null,
       "object_position": null,
       "order": null,
       "overflow": null,
       "overflow_x": null,
       "overflow_y": null,
       "padding": null,
       "right": null,
       "top": null,
       "visibility": null,
       "width": null
      }
     },
     "e1102396cb2549b098cc7cc28bba9a75": {
      "model_module": "@jupyter-widgets/base",
      "model_module_version": "1.2.0",
      "model_name": "LayoutModel",
      "state": {
       "_model_module": "@jupyter-widgets/base",
       "_model_module_version": "1.2.0",
       "_model_name": "LayoutModel",
       "_view_count": null,
       "_view_module": "@jupyter-widgets/base",
       "_view_module_version": "1.2.0",
       "_view_name": "LayoutView",
       "align_content": null,
       "align_items": null,
       "align_self": null,
       "border": null,
       "bottom": null,
       "display": null,
       "flex": null,
       "flex_flow": null,
       "grid_area": null,
       "grid_auto_columns": null,
       "grid_auto_flow": null,
       "grid_auto_rows": null,
       "grid_column": null,
       "grid_gap": null,
       "grid_row": null,
       "grid_template_areas": null,
       "grid_template_columns": null,
       "grid_template_rows": null,
       "height": null,
       "justify_content": null,
       "justify_items": null,
       "left": null,
       "margin": null,
       "max_height": null,
       "max_width": null,
       "min_height": null,
       "min_width": null,
       "object_fit": null,
       "object_position": null,
       "order": null,
       "overflow": null,
       "overflow_x": null,
       "overflow_y": null,
       "padding": null,
       "right": null,
       "top": null,
       "visibility": null,
       "width": null
      }
     },
     "e1e4eb03cd99451e82cd6dbaa70e4af6": {
      "model_module": "@jupyter-widgets/controls",
      "model_module_version": "1.5.0",
      "model_name": "DescriptionStyleModel",
      "state": {
       "_model_module": "@jupyter-widgets/controls",
       "_model_module_version": "1.5.0",
       "_model_name": "DescriptionStyleModel",
       "_view_count": null,
       "_view_module": "@jupyter-widgets/base",
       "_view_module_version": "1.2.0",
       "_view_name": "StyleView",
       "description_width": ""
      }
     },
     "e4da1e9280094decbf1afae45cdbd0ab": {
      "model_module": "@jupyter-widgets/base",
      "model_module_version": "1.2.0",
      "model_name": "LayoutModel",
      "state": {
       "_model_module": "@jupyter-widgets/base",
       "_model_module_version": "1.2.0",
       "_model_name": "LayoutModel",
       "_view_count": null,
       "_view_module": "@jupyter-widgets/base",
       "_view_module_version": "1.2.0",
       "_view_name": "LayoutView",
       "align_content": null,
       "align_items": null,
       "align_self": null,
       "border": null,
       "bottom": null,
       "display": null,
       "flex": null,
       "flex_flow": null,
       "grid_area": null,
       "grid_auto_columns": null,
       "grid_auto_flow": null,
       "grid_auto_rows": null,
       "grid_column": null,
       "grid_gap": null,
       "grid_row": null,
       "grid_template_areas": null,
       "grid_template_columns": null,
       "grid_template_rows": null,
       "height": null,
       "justify_content": null,
       "justify_items": null,
       "left": null,
       "margin": null,
       "max_height": null,
       "max_width": null,
       "min_height": null,
       "min_width": null,
       "object_fit": null,
       "object_position": null,
       "order": null,
       "overflow": null,
       "overflow_x": null,
       "overflow_y": null,
       "padding": null,
       "right": null,
       "top": null,
       "visibility": null,
       "width": null
      }
     },
     "e8fd409737c04033ad1e47ba05c84940": {
      "model_module": "@jupyter-widgets/controls",
      "model_module_version": "1.5.0",
      "model_name": "ProgressStyleModel",
      "state": {
       "_model_module": "@jupyter-widgets/controls",
       "_model_module_version": "1.5.0",
       "_model_name": "ProgressStyleModel",
       "_view_count": null,
       "_view_module": "@jupyter-widgets/base",
       "_view_module_version": "1.2.0",
       "_view_name": "StyleView",
       "bar_color": null,
       "description_width": ""
      }
     },
     "f050e3db157e437181acf6f9bac70780": {
      "model_module": "@jupyter-widgets/controls",
      "model_module_version": "1.5.0",
      "model_name": "HTMLModel",
      "state": {
       "_dom_classes": [],
       "_model_module": "@jupyter-widgets/controls",
       "_model_module_version": "1.5.0",
       "_model_name": "HTMLModel",
       "_view_count": null,
       "_view_module": "@jupyter-widgets/controls",
       "_view_module_version": "1.5.0",
       "_view_name": "HTMLView",
       "description": "",
       "description_tooltip": null,
       "layout": "IPY_MODEL_011a922e4dce42caa37717fb99a18041",
       "placeholder": "​",
       "style": "IPY_MODEL_22b9e91b7af84028bdd88c3b794d153f",
       "value": " 949/949 [00:00&lt;00:00, 78.0kB/s]"
      }
     },
     "f12dbc40f89843778a0d20c317aa41cf": {
      "model_module": "@jupyter-widgets/controls",
      "model_module_version": "1.5.0",
      "model_name": "HTMLModel",
      "state": {
       "_dom_classes": [],
       "_model_module": "@jupyter-widgets/controls",
       "_model_module_version": "1.5.0",
       "_model_name": "HTMLModel",
       "_view_count": null,
       "_view_module": "@jupyter-widgets/controls",
       "_view_module_version": "1.5.0",
       "_view_name": "HTMLView",
       "description": "",
       "description_tooltip": null,
       "layout": "IPY_MODEL_c29b4fdea36f4052b6caefb1a21d9a84",
       "placeholder": "​",
       "style": "IPY_MODEL_8e241c37a8ea4782998ee1547b21117c",
       "value": "Downloading (…)solve/main/bpe.codes: 100%"
      }
     },
     "f153f6ba105b4bb4b01cdbda855b9734": {
      "model_module": "@jupyter-widgets/controls",
      "model_module_version": "1.5.0",
      "model_name": "FloatProgressModel",
      "state": {
       "_dom_classes": [],
       "_model_module": "@jupyter-widgets/controls",
       "_model_module_version": "1.5.0",
       "_model_name": "FloatProgressModel",
       "_view_count": null,
       "_view_module": "@jupyter-widgets/controls",
       "_view_module_version": "1.5.0",
       "_view_name": "ProgressView",
       "bar_style": "success",
       "description": "",
       "description_tooltip": null,
       "layout": "IPY_MODEL_874d3e653fcd4ce2a3ac60b15305cbd9",
       "max": 949.0,
       "min": 0.0,
       "orientation": "horizontal",
       "style": "IPY_MODEL_d3715e8b23204e62acdd7e9ace274bac",
       "value": 949.0
      }
     },
     "f428daac3cc14c40ad1032a68c74baba": {
      "model_module": "@jupyter-widgets/controls",
      "model_module_version": "1.5.0",
      "model_name": "DescriptionStyleModel",
      "state": {
       "_model_module": "@jupyter-widgets/controls",
       "_model_module_version": "1.5.0",
       "_model_name": "DescriptionStyleModel",
       "_view_count": null,
       "_view_module": "@jupyter-widgets/base",
       "_view_module_version": "1.2.0",
       "_view_name": "StyleView",
       "description_width": ""
      }
     },
     "f42d544d6b0443e38b0d6a0a96c4eaf5": {
      "model_module": "@jupyter-widgets/controls",
      "model_module_version": "1.5.0",
      "model_name": "HTMLModel",
      "state": {
       "_dom_classes": [],
       "_model_module": "@jupyter-widgets/controls",
       "_model_module_version": "1.5.0",
       "_model_name": "HTMLModel",
       "_view_count": null,
       "_view_module": "@jupyter-widgets/controls",
       "_view_module_version": "1.5.0",
       "_view_name": "HTMLView",
       "description": "",
       "description_tooltip": null,
       "layout": "IPY_MODEL_acdb9a70b7ca41bcb4b4e5cd26e3a014",
       "placeholder": "​",
       "style": "IPY_MODEL_d10c42dee3da46a9a258040b237ff5b3",
       "value": " 167/167 [00:00&lt;00:00, 12.4kB/s]"
      }
     },
     "f5083d9f89fc4795abbfca078a6ce30a": {
      "model_module": "@jupyter-widgets/base",
      "model_module_version": "1.2.0",
      "model_name": "LayoutModel",
      "state": {
       "_model_module": "@jupyter-widgets/base",
       "_model_module_version": "1.2.0",
       "_model_name": "LayoutModel",
       "_view_count": null,
       "_view_module": "@jupyter-widgets/base",
       "_view_module_version": "1.2.0",
       "_view_name": "LayoutView",
       "align_content": null,
       "align_items": null,
       "align_self": null,
       "border": null,
       "bottom": null,
       "display": null,
       "flex": null,
       "flex_flow": null,
       "grid_area": null,
       "grid_auto_columns": null,
       "grid_auto_flow": null,
       "grid_auto_rows": null,
       "grid_column": null,
       "grid_gap": null,
       "grid_row": null,
       "grid_template_areas": null,
       "grid_template_columns": null,
       "grid_template_rows": null,
       "height": null,
       "justify_content": null,
       "justify_items": null,
       "left": null,
       "margin": null,
       "max_height": null,
       "max_width": null,
       "min_height": null,
       "min_width": null,
       "object_fit": null,
       "object_position": null,
       "order": null,
       "overflow": null,
       "overflow_x": null,
       "overflow_y": null,
       "padding": null,
       "right": null,
       "top": null,
       "visibility": null,
       "width": null
      }
     },
     "fa7c50b4fa544a8cb60fe64aefa14acd": {
      "model_module": "@jupyter-widgets/base",
      "model_module_version": "1.2.0",
      "model_name": "LayoutModel",
      "state": {
       "_model_module": "@jupyter-widgets/base",
       "_model_module_version": "1.2.0",
       "_model_name": "LayoutModel",
       "_view_count": null,
       "_view_module": "@jupyter-widgets/base",
       "_view_module_version": "1.2.0",
       "_view_name": "LayoutView",
       "align_content": null,
       "align_items": null,
       "align_self": null,
       "border": null,
       "bottom": null,
       "display": null,
       "flex": null,
       "flex_flow": null,
       "grid_area": null,
       "grid_auto_columns": null,
       "grid_auto_flow": null,
       "grid_auto_rows": null,
       "grid_column": null,
       "grid_gap": null,
       "grid_row": null,
       "grid_template_areas": null,
       "grid_template_columns": null,
       "grid_template_rows": null,
       "height": null,
       "justify_content": null,
       "justify_items": null,
       "left": null,
       "margin": null,
       "max_height": null,
       "max_width": null,
       "min_height": null,
       "min_width": null,
       "object_fit": null,
       "object_position": null,
       "order": null,
       "overflow": null,
       "overflow_x": null,
       "overflow_y": null,
       "padding": null,
       "right": null,
       "top": null,
       "visibility": null,
       "width": null
      }
     },
     "faa9b74cd0af44d59252c3e5b09c8097": {
      "model_module": "@jupyter-widgets/base",
      "model_module_version": "1.2.0",
      "model_name": "LayoutModel",
      "state": {
       "_model_module": "@jupyter-widgets/base",
       "_model_module_version": "1.2.0",
       "_model_name": "LayoutModel",
       "_view_count": null,
       "_view_module": "@jupyter-widgets/base",
       "_view_module_version": "1.2.0",
       "_view_name": "LayoutView",
       "align_content": null,
       "align_items": null,
       "align_self": null,
       "border": null,
       "bottom": null,
       "display": null,
       "flex": null,
       "flex_flow": null,
       "grid_area": null,
       "grid_auto_columns": null,
       "grid_auto_flow": null,
       "grid_auto_rows": null,
       "grid_column": null,
       "grid_gap": null,
       "grid_row": null,
       "grid_template_areas": null,
       "grid_template_columns": null,
       "grid_template_rows": null,
       "height": null,
       "justify_content": null,
       "justify_items": null,
       "left": null,
       "margin": null,
       "max_height": null,
       "max_width": null,
       "min_height": null,
       "min_width": null,
       "object_fit": null,
       "object_position": null,
       "order": null,
       "overflow": null,
       "overflow_x": null,
       "overflow_y": null,
       "padding": null,
       "right": null,
       "top": null,
       "visibility": null,
       "width": null
      }
     },
     "fbf7ccaefddf474aa8bc6ba37db07d10": {
      "model_module": "@jupyter-widgets/base",
      "model_module_version": "1.2.0",
      "model_name": "LayoutModel",
      "state": {
       "_model_module": "@jupyter-widgets/base",
       "_model_module_version": "1.2.0",
       "_model_name": "LayoutModel",
       "_view_count": null,
       "_view_module": "@jupyter-widgets/base",
       "_view_module_version": "1.2.0",
       "_view_name": "LayoutView",
       "align_content": null,
       "align_items": null,
       "align_self": null,
       "border": null,
       "bottom": null,
       "display": null,
       "flex": null,
       "flex_flow": null,
       "grid_area": null,
       "grid_auto_columns": null,
       "grid_auto_flow": null,
       "grid_auto_rows": null,
       "grid_column": null,
       "grid_gap": null,
       "grid_row": null,
       "grid_template_areas": null,
       "grid_template_columns": null,
       "grid_template_rows": null,
       "height": null,
       "justify_content": null,
       "justify_items": null,
       "left": null,
       "margin": null,
       "max_height": null,
       "max_width": null,
       "min_height": null,
       "min_width": null,
       "object_fit": null,
       "object_position": null,
       "order": null,
       "overflow": null,
       "overflow_x": null,
       "overflow_y": null,
       "padding": null,
       "right": null,
       "top": null,
       "visibility": null,
       "width": null
      }
     }
    },
    "version_major": 2,
    "version_minor": 0
   }
  }
 },
 "nbformat": 4,
 "nbformat_minor": 5
}
